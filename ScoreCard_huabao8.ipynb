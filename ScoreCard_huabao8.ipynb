{
 "cells": [
  {
   "cell_type": "code",
   "execution_count": 1,
   "metadata": {
    "collapsed": true
   },
   "outputs": [],
   "source": [
    "import numpy as np\n",
    "import pandas as pd\n",
    "import matplotlib.pyplot as plt\n",
    "from sc_func import *"
   ]
  },
  {
   "cell_type": "markdown",
   "metadata": {},
   "source": [
    "## 数据导入"
   ]
  },
  {
   "cell_type": "code",
   "execution_count": 380,
   "metadata": {
    "collapsed": true
   },
   "outputs": [],
   "source": [
    "#诺亚点点17年1101-1201\n",
    "data_form1= pd.read_csv('D:\\\\python\\\\huabao\\\\tmp_score_nuoya_variable0427_3.csv')\n",
    "#诺亚点点17年12/02-18年01/08\n",
    "data_form2= pd.read_csv('D:\\\\python\\\\huabao\\\\tmp_score_nuoya_variablerank0427_1.csv')\n",
    "#诺亚点点2018-02/10-02/25数据\n",
    "data_form3 = pd.read_csv('D:\\\\python\\\\huabao\\\\tmp_score_nuoya_variablerank0427_2.csv')\n",
    "#诺亚点点2018-02/10-02/25数据\n",
    "data_form4 = pd.read_csv('D:\\\\python\\\\huabao\\\\tmp_score_nuoya_variable0508_2.csv')"
   ]
  },
  {
   "cell_type": "code",
   "execution_count": 381,
   "metadata": {
    "collapsed": false
   },
   "outputs": [],
   "source": [
    "data_form=data_form1\n",
    "#data_form=data_form1.append(data_form2)"
   ]
  },
  {
   "cell_type": "code",
   "execution_count": 382,
   "metadata": {
    "collapsed": false
   },
   "outputs": [
    {
     "data": {
      "text/plain": [
       "(4465, 58)"
      ]
     },
     "execution_count": 382,
     "metadata": {},
     "output_type": "execute_result"
    }
   ],
   "source": [
    "data_form.shape"
   ]
  },
  {
   "cell_type": "code",
   "execution_count": 383,
   "metadata": {
    "collapsed": false
   },
   "outputs": [],
   "source": [
    "x_columns = [x for x in data_form.columns if x not in ['type']]\n",
    "keep_list = x_columns\n",
    "target = 'type'"
   ]
  },
  {
   "cell_type": "code",
   "execution_count": 384,
   "metadata": {
    "collapsed": false
   },
   "outputs": [
    {
     "data": {
      "text/plain": [
       "0.08286674132138858"
      ]
     },
     "execution_count": 384,
     "metadata": {},
     "output_type": "execute_result"
    }
   ],
   "source": [
    "#样本的bad_rate\n",
    "data_form[data_form['type']==1].shape[0]/data_form.shape[0]"
   ]
  },
  {
   "cell_type": "markdown",
   "metadata": {},
   "source": [
    "## 变量筛选"
   ]
  },
  {
   "cell_type": "code",
   "execution_count": 385,
   "metadata": {
    "collapsed": false
   },
   "outputs": [],
   "source": [
    "#相关性删除\n",
    "df=data_form\n",
    "corr=df.corr()"
   ]
  },
  {
   "cell_type": "code",
   "execution_count": 386,
   "metadata": {
    "collapsed": false
   },
   "outputs": [
    {
     "data": {
      "text/plain": [
       "Index(['type', 'cs_size_s_ctn_l_rel_m', 'cs_size_s_ctn_m_rel_m',\n",
       "       'cs_size_s_ctn_m_rel_l', 'cs_size_s_ctn_l_rel_l', 'cs', 'od',\n",
       "       'ls_od_b_6m', 'ls_od_b_1y', 'ls_od_b_2y', 'ls_od_f_1t', 'ls_od_f_3t',\n",
       "       'ls_od_f_6t', 'xc_behavior', 'xc_overloan', 'xc_overdue', 'xc_record',\n",
       "       'lp_p1_xc_behavior', 'lp_p1_xc_overloan', 'lp_p1_xc_overdue',\n",
       "       'lp_p1_xc_record', 'rv', 'rc_idname_multi', 'rc_relation_age',\n",
       "       'rc_relation_cnt_name_phone', 'rc_relation_multi', 'rc_relation_cnt',\n",
       "       'ls_cr', 'ls_cr_cl', 'ls_gp', 'ls_gp_cl', 'ls_nw', 'ls_nd',\n",
       "       'ld_gps5_od', 'ld_gps5_rc', 'ld_gps5_xc', 'ld_add5_od', 'ld_add5_rc',\n",
       "       'ld_add5_xc_ml', 'ld_add5_xc_m', 'lp_p1_ld_add5_od', 'lp_p1_ld_add5_rc',\n",
       "       'lp_p1_ld_add5_xc_ml', 'lp_p1_ld_add5_xc_m', 'cg_add5', 'bs_gps5',\n",
       "       'bs_add5_id6plus_dist_c', 'bs_add5_id6plus_dist_vf',\n",
       "       'bs_add5_id6plus_dist_vc', 'bs_add5_id6plus_dist_f',\n",
       "       'lp_p1_ld_idnbr_6plus_xcp', 'lp_p1_vl_idnbr', 'bd_addr_abn_apply',\n",
       "       'bd_gps5_abn_apply', 'bd_addr_abn_spend', 'bd_gps5_abn_spend',\n",
       "       'dist_gps5_abn_beh', 'dist_gps5_abn_spend'],\n",
       "      dtype='object')"
      ]
     },
     "execution_count": 386,
     "metadata": {},
     "output_type": "execute_result"
    }
   ],
   "source": [
    "corr.columns"
   ]
  },
  {
   "cell_type": "code",
   "execution_count": 387,
   "metadata": {
    "collapsed": false
   },
   "outputs": [
    {
     "data": {
      "text/plain": [
       "pandas.indexes.base.Index"
      ]
     },
     "execution_count": 387,
     "metadata": {},
     "output_type": "execute_result"
    }
   ],
   "source": [
    "type(corr.columns)"
   ]
  },
  {
   "cell_type": "code",
   "execution_count": 388,
   "metadata": {
    "collapsed": false
   },
   "outputs": [
    {
     "data": {
      "text/plain": [
       "['cs_size_s_ctn_l_rel_m',\n",
       " 'cs_size_s_ctn_m_rel_m',\n",
       " 'cs_size_s_ctn_m_rel_l',\n",
       " 'cs_size_s_ctn_l_rel_l',\n",
       " 'cs',\n",
       " 'od',\n",
       " 'ls_od_b_6m',\n",
       " 'ls_od_b_1y',\n",
       " 'ls_od_b_2y',\n",
       " 'ls_od_f_1t',\n",
       " 'ls_od_f_3t',\n",
       " 'ls_od_f_6t',\n",
       " 'xc_behavior',\n",
       " 'xc_overloan',\n",
       " 'xc_overdue',\n",
       " 'xc_record',\n",
       " 'lp_p1_xc_behavior',\n",
       " 'lp_p1_xc_overloan',\n",
       " 'lp_p1_xc_overdue',\n",
       " 'lp_p1_xc_record',\n",
       " 'rv',\n",
       " 'rc_idname_multi',\n",
       " 'rc_relation_age',\n",
       " 'rc_relation_cnt_name_phone',\n",
       " 'rc_relation_multi',\n",
       " 'rc_relation_cnt',\n",
       " 'ls_cr',\n",
       " 'ls_cr_cl',\n",
       " 'ls_gp',\n",
       " 'ls_gp_cl',\n",
       " 'ls_nw',\n",
       " 'ls_nd',\n",
       " 'ld_gps5_od',\n",
       " 'ld_gps5_rc',\n",
       " 'ld_gps5_xc',\n",
       " 'ld_add5_od',\n",
       " 'ld_add5_rc',\n",
       " 'ld_add5_xc_ml',\n",
       " 'ld_add5_xc_m',\n",
       " 'lp_p1_ld_add5_od',\n",
       " 'lp_p1_ld_add5_rc',\n",
       " 'lp_p1_ld_add5_xc_ml',\n",
       " 'lp_p1_ld_add5_xc_m',\n",
       " 'cg_add5',\n",
       " 'bs_gps5',\n",
       " 'bs_add5_id6plus_dist_c',\n",
       " 'bs_add5_id6plus_dist_vf',\n",
       " 'bs_add5_id6plus_dist_vc',\n",
       " 'bs_add5_id6plus_dist_f',\n",
       " 'lp_p1_ld_idnbr_6plus_xcp',\n",
       " 'lp_p1_vl_idnbr',\n",
       " 'bd_addr_abn_apply',\n",
       " 'bd_gps5_abn_apply',\n",
       " 'bd_addr_abn_spend',\n",
       " 'bd_gps5_abn_spend',\n",
       " 'dist_gps5_abn_beh',\n",
       " 'dist_gps5_abn_spend']"
      ]
     },
     "execution_count": 388,
     "metadata": {},
     "output_type": "execute_result"
    }
   ],
   "source": [
    "x_columns = [x for x in corr.columns if x not in ['type']]\n",
    "x_columns"
   ]
  },
  {
   "cell_type": "code",
   "execution_count": 12,
   "metadata": {
    "collapsed": false
   },
   "outputs": [
    {
     "data": {
      "text/html": [
       "<div>\n",
       "<table border=\"1\" class=\"dataframe\">\n",
       "  <thead>\n",
       "    <tr style=\"text-align: right;\">\n",
       "      <th></th>\n",
       "      <th>type</th>\n",
       "      <th>cs_size_s</th>\n",
       "      <th>cs_size_s_ctn_l_rel_m</th>\n",
       "      <th>cs_size_s_ctn_m_rel_m</th>\n",
       "      <th>cs_size_s_ctn_m_rel_l</th>\n",
       "      <th>cs_size_s_ctn_l_rel_l</th>\n",
       "      <th>cs</th>\n",
       "      <th>od</th>\n",
       "      <th>ls_od_b_6m</th>\n",
       "      <th>ls_od_b_1y</th>\n",
       "      <th>...</th>\n",
       "      <th>bs_add5_id6plus_dist_vc</th>\n",
       "      <th>bs_add5_id6plus_dist_f</th>\n",
       "      <th>lp_p1_ld_idnbr_6plus_xcp</th>\n",
       "      <th>lp_p1_vl_idnbr</th>\n",
       "      <th>bd_addr_abn_apply</th>\n",
       "      <th>bd_gps5_abn_apply</th>\n",
       "      <th>bd_addr_abn_spend</th>\n",
       "      <th>bd_gps5_abn_spend</th>\n",
       "      <th>dist_gps5_abn_beh</th>\n",
       "      <th>dist_gps5_abn_spend</th>\n",
       "    </tr>\n",
       "  </thead>\n",
       "  <tbody>\n",
       "    <tr>\n",
       "      <th>type</th>\n",
       "      <td>1.0</td>\n",
       "      <td>NaN</td>\n",
       "      <td>NaN</td>\n",
       "      <td>NaN</td>\n",
       "      <td>NaN</td>\n",
       "      <td>NaN</td>\n",
       "      <td>NaN</td>\n",
       "      <td>NaN</td>\n",
       "      <td>NaN</td>\n",
       "      <td>NaN</td>\n",
       "      <td>...</td>\n",
       "      <td>NaN</td>\n",
       "      <td>NaN</td>\n",
       "      <td>NaN</td>\n",
       "      <td>NaN</td>\n",
       "      <td>NaN</td>\n",
       "      <td>NaN</td>\n",
       "      <td>NaN</td>\n",
       "      <td>NaN</td>\n",
       "      <td>NaN</td>\n",
       "      <td>NaN</td>\n",
       "    </tr>\n",
       "    <tr>\n",
       "      <th>cs_size_s</th>\n",
       "      <td>NaN</td>\n",
       "      <td>1.000000</td>\n",
       "      <td>NaN</td>\n",
       "      <td>NaN</td>\n",
       "      <td>NaN</td>\n",
       "      <td>0.693626</td>\n",
       "      <td>0.869574</td>\n",
       "      <td>NaN</td>\n",
       "      <td>NaN</td>\n",
       "      <td>NaN</td>\n",
       "      <td>...</td>\n",
       "      <td>NaN</td>\n",
       "      <td>NaN</td>\n",
       "      <td>NaN</td>\n",
       "      <td>NaN</td>\n",
       "      <td>NaN</td>\n",
       "      <td>NaN</td>\n",
       "      <td>NaN</td>\n",
       "      <td>NaN</td>\n",
       "      <td>NaN</td>\n",
       "      <td>NaN</td>\n",
       "    </tr>\n",
       "    <tr>\n",
       "      <th>cs_size_s_ctn_l_rel_m</th>\n",
       "      <td>NaN</td>\n",
       "      <td>NaN</td>\n",
       "      <td>1.0</td>\n",
       "      <td>NaN</td>\n",
       "      <td>NaN</td>\n",
       "      <td>NaN</td>\n",
       "      <td>NaN</td>\n",
       "      <td>NaN</td>\n",
       "      <td>NaN</td>\n",
       "      <td>NaN</td>\n",
       "      <td>...</td>\n",
       "      <td>NaN</td>\n",
       "      <td>NaN</td>\n",
       "      <td>NaN</td>\n",
       "      <td>NaN</td>\n",
       "      <td>NaN</td>\n",
       "      <td>NaN</td>\n",
       "      <td>NaN</td>\n",
       "      <td>NaN</td>\n",
       "      <td>NaN</td>\n",
       "      <td>NaN</td>\n",
       "    </tr>\n",
       "    <tr>\n",
       "      <th>cs_size_s_ctn_m_rel_m</th>\n",
       "      <td>NaN</td>\n",
       "      <td>NaN</td>\n",
       "      <td>NaN</td>\n",
       "      <td>1.0</td>\n",
       "      <td>NaN</td>\n",
       "      <td>NaN</td>\n",
       "      <td>NaN</td>\n",
       "      <td>NaN</td>\n",
       "      <td>NaN</td>\n",
       "      <td>NaN</td>\n",
       "      <td>...</td>\n",
       "      <td>NaN</td>\n",
       "      <td>NaN</td>\n",
       "      <td>NaN</td>\n",
       "      <td>NaN</td>\n",
       "      <td>NaN</td>\n",
       "      <td>NaN</td>\n",
       "      <td>NaN</td>\n",
       "      <td>NaN</td>\n",
       "      <td>NaN</td>\n",
       "      <td>NaN</td>\n",
       "    </tr>\n",
       "    <tr>\n",
       "      <th>cs_size_s_ctn_m_rel_l</th>\n",
       "      <td>NaN</td>\n",
       "      <td>NaN</td>\n",
       "      <td>NaN</td>\n",
       "      <td>NaN</td>\n",
       "      <td>1.0</td>\n",
       "      <td>NaN</td>\n",
       "      <td>NaN</td>\n",
       "      <td>NaN</td>\n",
       "      <td>NaN</td>\n",
       "      <td>NaN</td>\n",
       "      <td>...</td>\n",
       "      <td>NaN</td>\n",
       "      <td>NaN</td>\n",
       "      <td>NaN</td>\n",
       "      <td>NaN</td>\n",
       "      <td>NaN</td>\n",
       "      <td>NaN</td>\n",
       "      <td>NaN</td>\n",
       "      <td>NaN</td>\n",
       "      <td>NaN</td>\n",
       "      <td>NaN</td>\n",
       "    </tr>\n",
       "    <tr>\n",
       "      <th>cs_size_s_ctn_l_rel_l</th>\n",
       "      <td>NaN</td>\n",
       "      <td>0.693626</td>\n",
       "      <td>NaN</td>\n",
       "      <td>NaN</td>\n",
       "      <td>NaN</td>\n",
       "      <td>1.000000</td>\n",
       "      <td>0.603159</td>\n",
       "      <td>NaN</td>\n",
       "      <td>NaN</td>\n",
       "      <td>NaN</td>\n",
       "      <td>...</td>\n",
       "      <td>NaN</td>\n",
       "      <td>NaN</td>\n",
       "      <td>NaN</td>\n",
       "      <td>NaN</td>\n",
       "      <td>NaN</td>\n",
       "      <td>NaN</td>\n",
       "      <td>NaN</td>\n",
       "      <td>NaN</td>\n",
       "      <td>NaN</td>\n",
       "      <td>NaN</td>\n",
       "    </tr>\n",
       "    <tr>\n",
       "      <th>cs</th>\n",
       "      <td>NaN</td>\n",
       "      <td>0.869574</td>\n",
       "      <td>NaN</td>\n",
       "      <td>NaN</td>\n",
       "      <td>NaN</td>\n",
       "      <td>0.603159</td>\n",
       "      <td>1.000000</td>\n",
       "      <td>NaN</td>\n",
       "      <td>NaN</td>\n",
       "      <td>NaN</td>\n",
       "      <td>...</td>\n",
       "      <td>NaN</td>\n",
       "      <td>NaN</td>\n",
       "      <td>NaN</td>\n",
       "      <td>NaN</td>\n",
       "      <td>NaN</td>\n",
       "      <td>NaN</td>\n",
       "      <td>NaN</td>\n",
       "      <td>NaN</td>\n",
       "      <td>NaN</td>\n",
       "      <td>NaN</td>\n",
       "    </tr>\n",
       "    <tr>\n",
       "      <th>od</th>\n",
       "      <td>NaN</td>\n",
       "      <td>NaN</td>\n",
       "      <td>NaN</td>\n",
       "      <td>NaN</td>\n",
       "      <td>NaN</td>\n",
       "      <td>NaN</td>\n",
       "      <td>NaN</td>\n",
       "      <td>1.000000</td>\n",
       "      <td>0.670479</td>\n",
       "      <td>0.558995</td>\n",
       "      <td>...</td>\n",
       "      <td>NaN</td>\n",
       "      <td>NaN</td>\n",
       "      <td>NaN</td>\n",
       "      <td>NaN</td>\n",
       "      <td>NaN</td>\n",
       "      <td>NaN</td>\n",
       "      <td>NaN</td>\n",
       "      <td>NaN</td>\n",
       "      <td>NaN</td>\n",
       "      <td>NaN</td>\n",
       "    </tr>\n",
       "    <tr>\n",
       "      <th>ls_od_b_6m</th>\n",
       "      <td>NaN</td>\n",
       "      <td>NaN</td>\n",
       "      <td>NaN</td>\n",
       "      <td>NaN</td>\n",
       "      <td>NaN</td>\n",
       "      <td>NaN</td>\n",
       "      <td>NaN</td>\n",
       "      <td>0.670479</td>\n",
       "      <td>1.000000</td>\n",
       "      <td>0.729237</td>\n",
       "      <td>...</td>\n",
       "      <td>NaN</td>\n",
       "      <td>NaN</td>\n",
       "      <td>NaN</td>\n",
       "      <td>NaN</td>\n",
       "      <td>NaN</td>\n",
       "      <td>NaN</td>\n",
       "      <td>NaN</td>\n",
       "      <td>NaN</td>\n",
       "      <td>NaN</td>\n",
       "      <td>NaN</td>\n",
       "    </tr>\n",
       "    <tr>\n",
       "      <th>ls_od_b_1y</th>\n",
       "      <td>NaN</td>\n",
       "      <td>NaN</td>\n",
       "      <td>NaN</td>\n",
       "      <td>NaN</td>\n",
       "      <td>NaN</td>\n",
       "      <td>NaN</td>\n",
       "      <td>NaN</td>\n",
       "      <td>0.558995</td>\n",
       "      <td>0.729237</td>\n",
       "      <td>1.000000</td>\n",
       "      <td>...</td>\n",
       "      <td>NaN</td>\n",
       "      <td>NaN</td>\n",
       "      <td>NaN</td>\n",
       "      <td>NaN</td>\n",
       "      <td>NaN</td>\n",
       "      <td>NaN</td>\n",
       "      <td>NaN</td>\n",
       "      <td>NaN</td>\n",
       "      <td>NaN</td>\n",
       "      <td>NaN</td>\n",
       "    </tr>\n",
       "    <tr>\n",
       "      <th>ls_od_b_2y</th>\n",
       "      <td>NaN</td>\n",
       "      <td>NaN</td>\n",
       "      <td>NaN</td>\n",
       "      <td>NaN</td>\n",
       "      <td>NaN</td>\n",
       "      <td>NaN</td>\n",
       "      <td>NaN</td>\n",
       "      <td>0.592972</td>\n",
       "      <td>NaN</td>\n",
       "      <td>0.647504</td>\n",
       "      <td>...</td>\n",
       "      <td>NaN</td>\n",
       "      <td>NaN</td>\n",
       "      <td>NaN</td>\n",
       "      <td>NaN</td>\n",
       "      <td>NaN</td>\n",
       "      <td>NaN</td>\n",
       "      <td>NaN</td>\n",
       "      <td>NaN</td>\n",
       "      <td>NaN</td>\n",
       "      <td>NaN</td>\n",
       "    </tr>\n",
       "    <tr>\n",
       "      <th>ls_od_f_1t</th>\n",
       "      <td>NaN</td>\n",
       "      <td>NaN</td>\n",
       "      <td>NaN</td>\n",
       "      <td>NaN</td>\n",
       "      <td>NaN</td>\n",
       "      <td>NaN</td>\n",
       "      <td>NaN</td>\n",
       "      <td>0.684939</td>\n",
       "      <td>NaN</td>\n",
       "      <td>NaN</td>\n",
       "      <td>...</td>\n",
       "      <td>NaN</td>\n",
       "      <td>NaN</td>\n",
       "      <td>NaN</td>\n",
       "      <td>NaN</td>\n",
       "      <td>NaN</td>\n",
       "      <td>NaN</td>\n",
       "      <td>NaN</td>\n",
       "      <td>NaN</td>\n",
       "      <td>NaN</td>\n",
       "      <td>NaN</td>\n",
       "    </tr>\n",
       "    <tr>\n",
       "      <th>ls_od_f_3t</th>\n",
       "      <td>NaN</td>\n",
       "      <td>NaN</td>\n",
       "      <td>NaN</td>\n",
       "      <td>NaN</td>\n",
       "      <td>NaN</td>\n",
       "      <td>NaN</td>\n",
       "      <td>NaN</td>\n",
       "      <td>NaN</td>\n",
       "      <td>0.510260</td>\n",
       "      <td>NaN</td>\n",
       "      <td>...</td>\n",
       "      <td>NaN</td>\n",
       "      <td>NaN</td>\n",
       "      <td>NaN</td>\n",
       "      <td>NaN</td>\n",
       "      <td>NaN</td>\n",
       "      <td>NaN</td>\n",
       "      <td>NaN</td>\n",
       "      <td>NaN</td>\n",
       "      <td>NaN</td>\n",
       "      <td>NaN</td>\n",
       "    </tr>\n",
       "    <tr>\n",
       "      <th>ls_od_f_6t</th>\n",
       "      <td>NaN</td>\n",
       "      <td>NaN</td>\n",
       "      <td>NaN</td>\n",
       "      <td>NaN</td>\n",
       "      <td>NaN</td>\n",
       "      <td>NaN</td>\n",
       "      <td>NaN</td>\n",
       "      <td>NaN</td>\n",
       "      <td>NaN</td>\n",
       "      <td>NaN</td>\n",
       "      <td>...</td>\n",
       "      <td>NaN</td>\n",
       "      <td>NaN</td>\n",
       "      <td>NaN</td>\n",
       "      <td>NaN</td>\n",
       "      <td>NaN</td>\n",
       "      <td>NaN</td>\n",
       "      <td>NaN</td>\n",
       "      <td>NaN</td>\n",
       "      <td>NaN</td>\n",
       "      <td>NaN</td>\n",
       "    </tr>\n",
       "    <tr>\n",
       "      <th>xc_behavior</th>\n",
       "      <td>NaN</td>\n",
       "      <td>NaN</td>\n",
       "      <td>NaN</td>\n",
       "      <td>NaN</td>\n",
       "      <td>NaN</td>\n",
       "      <td>NaN</td>\n",
       "      <td>NaN</td>\n",
       "      <td>NaN</td>\n",
       "      <td>NaN</td>\n",
       "      <td>NaN</td>\n",
       "      <td>...</td>\n",
       "      <td>NaN</td>\n",
       "      <td>NaN</td>\n",
       "      <td>NaN</td>\n",
       "      <td>NaN</td>\n",
       "      <td>NaN</td>\n",
       "      <td>NaN</td>\n",
       "      <td>NaN</td>\n",
       "      <td>NaN</td>\n",
       "      <td>NaN</td>\n",
       "      <td>NaN</td>\n",
       "    </tr>\n",
       "    <tr>\n",
       "      <th>xc_overloan</th>\n",
       "      <td>NaN</td>\n",
       "      <td>NaN</td>\n",
       "      <td>NaN</td>\n",
       "      <td>NaN</td>\n",
       "      <td>NaN</td>\n",
       "      <td>NaN</td>\n",
       "      <td>NaN</td>\n",
       "      <td>NaN</td>\n",
       "      <td>NaN</td>\n",
       "      <td>NaN</td>\n",
       "      <td>...</td>\n",
       "      <td>NaN</td>\n",
       "      <td>NaN</td>\n",
       "      <td>NaN</td>\n",
       "      <td>NaN</td>\n",
       "      <td>NaN</td>\n",
       "      <td>NaN</td>\n",
       "      <td>NaN</td>\n",
       "      <td>NaN</td>\n",
       "      <td>NaN</td>\n",
       "      <td>NaN</td>\n",
       "    </tr>\n",
       "    <tr>\n",
       "      <th>xc_overdue</th>\n",
       "      <td>NaN</td>\n",
       "      <td>NaN</td>\n",
       "      <td>NaN</td>\n",
       "      <td>NaN</td>\n",
       "      <td>NaN</td>\n",
       "      <td>NaN</td>\n",
       "      <td>NaN</td>\n",
       "      <td>NaN</td>\n",
       "      <td>NaN</td>\n",
       "      <td>NaN</td>\n",
       "      <td>...</td>\n",
       "      <td>NaN</td>\n",
       "      <td>NaN</td>\n",
       "      <td>NaN</td>\n",
       "      <td>NaN</td>\n",
       "      <td>NaN</td>\n",
       "      <td>NaN</td>\n",
       "      <td>NaN</td>\n",
       "      <td>NaN</td>\n",
       "      <td>NaN</td>\n",
       "      <td>NaN</td>\n",
       "    </tr>\n",
       "    <tr>\n",
       "      <th>xc_record</th>\n",
       "      <td>NaN</td>\n",
       "      <td>NaN</td>\n",
       "      <td>NaN</td>\n",
       "      <td>NaN</td>\n",
       "      <td>NaN</td>\n",
       "      <td>NaN</td>\n",
       "      <td>NaN</td>\n",
       "      <td>NaN</td>\n",
       "      <td>NaN</td>\n",
       "      <td>NaN</td>\n",
       "      <td>...</td>\n",
       "      <td>NaN</td>\n",
       "      <td>NaN</td>\n",
       "      <td>NaN</td>\n",
       "      <td>NaN</td>\n",
       "      <td>NaN</td>\n",
       "      <td>NaN</td>\n",
       "      <td>NaN</td>\n",
       "      <td>NaN</td>\n",
       "      <td>NaN</td>\n",
       "      <td>NaN</td>\n",
       "    </tr>\n",
       "    <tr>\n",
       "      <th>lp_p1_xc_behavior</th>\n",
       "      <td>NaN</td>\n",
       "      <td>NaN</td>\n",
       "      <td>NaN</td>\n",
       "      <td>NaN</td>\n",
       "      <td>NaN</td>\n",
       "      <td>NaN</td>\n",
       "      <td>NaN</td>\n",
       "      <td>NaN</td>\n",
       "      <td>NaN</td>\n",
       "      <td>NaN</td>\n",
       "      <td>...</td>\n",
       "      <td>NaN</td>\n",
       "      <td>NaN</td>\n",
       "      <td>NaN</td>\n",
       "      <td>NaN</td>\n",
       "      <td>NaN</td>\n",
       "      <td>NaN</td>\n",
       "      <td>NaN</td>\n",
       "      <td>NaN</td>\n",
       "      <td>NaN</td>\n",
       "      <td>NaN</td>\n",
       "    </tr>\n",
       "    <tr>\n",
       "      <th>lp_p1_xc_overloan</th>\n",
       "      <td>NaN</td>\n",
       "      <td>NaN</td>\n",
       "      <td>NaN</td>\n",
       "      <td>NaN</td>\n",
       "      <td>NaN</td>\n",
       "      <td>NaN</td>\n",
       "      <td>NaN</td>\n",
       "      <td>NaN</td>\n",
       "      <td>NaN</td>\n",
       "      <td>NaN</td>\n",
       "      <td>...</td>\n",
       "      <td>NaN</td>\n",
       "      <td>NaN</td>\n",
       "      <td>NaN</td>\n",
       "      <td>NaN</td>\n",
       "      <td>NaN</td>\n",
       "      <td>NaN</td>\n",
       "      <td>NaN</td>\n",
       "      <td>NaN</td>\n",
       "      <td>NaN</td>\n",
       "      <td>NaN</td>\n",
       "    </tr>\n",
       "    <tr>\n",
       "      <th>lp_p1_xc_overdue</th>\n",
       "      <td>NaN</td>\n",
       "      <td>NaN</td>\n",
       "      <td>NaN</td>\n",
       "      <td>NaN</td>\n",
       "      <td>NaN</td>\n",
       "      <td>NaN</td>\n",
       "      <td>NaN</td>\n",
       "      <td>NaN</td>\n",
       "      <td>NaN</td>\n",
       "      <td>NaN</td>\n",
       "      <td>...</td>\n",
       "      <td>NaN</td>\n",
       "      <td>NaN</td>\n",
       "      <td>NaN</td>\n",
       "      <td>NaN</td>\n",
       "      <td>NaN</td>\n",
       "      <td>NaN</td>\n",
       "      <td>NaN</td>\n",
       "      <td>NaN</td>\n",
       "      <td>NaN</td>\n",
       "      <td>NaN</td>\n",
       "    </tr>\n",
       "    <tr>\n",
       "      <th>lp_p1_xc_record</th>\n",
       "      <td>NaN</td>\n",
       "      <td>NaN</td>\n",
       "      <td>NaN</td>\n",
       "      <td>NaN</td>\n",
       "      <td>NaN</td>\n",
       "      <td>NaN</td>\n",
       "      <td>NaN</td>\n",
       "      <td>NaN</td>\n",
       "      <td>NaN</td>\n",
       "      <td>NaN</td>\n",
       "      <td>...</td>\n",
       "      <td>NaN</td>\n",
       "      <td>NaN</td>\n",
       "      <td>NaN</td>\n",
       "      <td>NaN</td>\n",
       "      <td>NaN</td>\n",
       "      <td>NaN</td>\n",
       "      <td>NaN</td>\n",
       "      <td>NaN</td>\n",
       "      <td>NaN</td>\n",
       "      <td>NaN</td>\n",
       "    </tr>\n",
       "    <tr>\n",
       "      <th>rv</th>\n",
       "      <td>NaN</td>\n",
       "      <td>NaN</td>\n",
       "      <td>NaN</td>\n",
       "      <td>NaN</td>\n",
       "      <td>NaN</td>\n",
       "      <td>NaN</td>\n",
       "      <td>NaN</td>\n",
       "      <td>NaN</td>\n",
       "      <td>NaN</td>\n",
       "      <td>NaN</td>\n",
       "      <td>...</td>\n",
       "      <td>NaN</td>\n",
       "      <td>NaN</td>\n",
       "      <td>NaN</td>\n",
       "      <td>NaN</td>\n",
       "      <td>NaN</td>\n",
       "      <td>NaN</td>\n",
       "      <td>NaN</td>\n",
       "      <td>NaN</td>\n",
       "      <td>NaN</td>\n",
       "      <td>NaN</td>\n",
       "    </tr>\n",
       "    <tr>\n",
       "      <th>rc_idname_multi</th>\n",
       "      <td>NaN</td>\n",
       "      <td>NaN</td>\n",
       "      <td>NaN</td>\n",
       "      <td>NaN</td>\n",
       "      <td>NaN</td>\n",
       "      <td>NaN</td>\n",
       "      <td>NaN</td>\n",
       "      <td>NaN</td>\n",
       "      <td>NaN</td>\n",
       "      <td>NaN</td>\n",
       "      <td>...</td>\n",
       "      <td>NaN</td>\n",
       "      <td>NaN</td>\n",
       "      <td>NaN</td>\n",
       "      <td>NaN</td>\n",
       "      <td>NaN</td>\n",
       "      <td>NaN</td>\n",
       "      <td>NaN</td>\n",
       "      <td>NaN</td>\n",
       "      <td>NaN</td>\n",
       "      <td>NaN</td>\n",
       "    </tr>\n",
       "    <tr>\n",
       "      <th>rc_relation_age</th>\n",
       "      <td>NaN</td>\n",
       "      <td>NaN</td>\n",
       "      <td>NaN</td>\n",
       "      <td>NaN</td>\n",
       "      <td>NaN</td>\n",
       "      <td>NaN</td>\n",
       "      <td>NaN</td>\n",
       "      <td>NaN</td>\n",
       "      <td>NaN</td>\n",
       "      <td>NaN</td>\n",
       "      <td>...</td>\n",
       "      <td>NaN</td>\n",
       "      <td>NaN</td>\n",
       "      <td>NaN</td>\n",
       "      <td>NaN</td>\n",
       "      <td>NaN</td>\n",
       "      <td>NaN</td>\n",
       "      <td>NaN</td>\n",
       "      <td>NaN</td>\n",
       "      <td>NaN</td>\n",
       "      <td>NaN</td>\n",
       "    </tr>\n",
       "    <tr>\n",
       "      <th>rc_relation_cnt_name_phone</th>\n",
       "      <td>NaN</td>\n",
       "      <td>NaN</td>\n",
       "      <td>NaN</td>\n",
       "      <td>NaN</td>\n",
       "      <td>NaN</td>\n",
       "      <td>NaN</td>\n",
       "      <td>NaN</td>\n",
       "      <td>NaN</td>\n",
       "      <td>NaN</td>\n",
       "      <td>NaN</td>\n",
       "      <td>...</td>\n",
       "      <td>NaN</td>\n",
       "      <td>NaN</td>\n",
       "      <td>NaN</td>\n",
       "      <td>NaN</td>\n",
       "      <td>NaN</td>\n",
       "      <td>NaN</td>\n",
       "      <td>NaN</td>\n",
       "      <td>NaN</td>\n",
       "      <td>NaN</td>\n",
       "      <td>NaN</td>\n",
       "    </tr>\n",
       "    <tr>\n",
       "      <th>rc_relation_multi</th>\n",
       "      <td>NaN</td>\n",
       "      <td>NaN</td>\n",
       "      <td>NaN</td>\n",
       "      <td>NaN</td>\n",
       "      <td>NaN</td>\n",
       "      <td>NaN</td>\n",
       "      <td>NaN</td>\n",
       "      <td>NaN</td>\n",
       "      <td>NaN</td>\n",
       "      <td>NaN</td>\n",
       "      <td>...</td>\n",
       "      <td>NaN</td>\n",
       "      <td>NaN</td>\n",
       "      <td>NaN</td>\n",
       "      <td>NaN</td>\n",
       "      <td>NaN</td>\n",
       "      <td>NaN</td>\n",
       "      <td>NaN</td>\n",
       "      <td>NaN</td>\n",
       "      <td>NaN</td>\n",
       "      <td>NaN</td>\n",
       "    </tr>\n",
       "    <tr>\n",
       "      <th>rc_relation_cnt</th>\n",
       "      <td>NaN</td>\n",
       "      <td>NaN</td>\n",
       "      <td>NaN</td>\n",
       "      <td>NaN</td>\n",
       "      <td>NaN</td>\n",
       "      <td>NaN</td>\n",
       "      <td>NaN</td>\n",
       "      <td>NaN</td>\n",
       "      <td>NaN</td>\n",
       "      <td>NaN</td>\n",
       "      <td>...</td>\n",
       "      <td>NaN</td>\n",
       "      <td>NaN</td>\n",
       "      <td>NaN</td>\n",
       "      <td>NaN</td>\n",
       "      <td>NaN</td>\n",
       "      <td>NaN</td>\n",
       "      <td>NaN</td>\n",
       "      <td>NaN</td>\n",
       "      <td>NaN</td>\n",
       "      <td>NaN</td>\n",
       "    </tr>\n",
       "    <tr>\n",
       "      <th>ls_cr</th>\n",
       "      <td>NaN</td>\n",
       "      <td>NaN</td>\n",
       "      <td>NaN</td>\n",
       "      <td>NaN</td>\n",
       "      <td>NaN</td>\n",
       "      <td>NaN</td>\n",
       "      <td>NaN</td>\n",
       "      <td>NaN</td>\n",
       "      <td>NaN</td>\n",
       "      <td>NaN</td>\n",
       "      <td>...</td>\n",
       "      <td>NaN</td>\n",
       "      <td>NaN</td>\n",
       "      <td>NaN</td>\n",
       "      <td>NaN</td>\n",
       "      <td>NaN</td>\n",
       "      <td>NaN</td>\n",
       "      <td>NaN</td>\n",
       "      <td>NaN</td>\n",
       "      <td>NaN</td>\n",
       "      <td>NaN</td>\n",
       "    </tr>\n",
       "    <tr>\n",
       "      <th>ls_cr_cl</th>\n",
       "      <td>NaN</td>\n",
       "      <td>NaN</td>\n",
       "      <td>NaN</td>\n",
       "      <td>NaN</td>\n",
       "      <td>NaN</td>\n",
       "      <td>NaN</td>\n",
       "      <td>NaN</td>\n",
       "      <td>NaN</td>\n",
       "      <td>NaN</td>\n",
       "      <td>NaN</td>\n",
       "      <td>...</td>\n",
       "      <td>NaN</td>\n",
       "      <td>NaN</td>\n",
       "      <td>NaN</td>\n",
       "      <td>NaN</td>\n",
       "      <td>NaN</td>\n",
       "      <td>NaN</td>\n",
       "      <td>NaN</td>\n",
       "      <td>NaN</td>\n",
       "      <td>NaN</td>\n",
       "      <td>NaN</td>\n",
       "    </tr>\n",
       "    <tr>\n",
       "      <th>ls_gp</th>\n",
       "      <td>NaN</td>\n",
       "      <td>NaN</td>\n",
       "      <td>NaN</td>\n",
       "      <td>NaN</td>\n",
       "      <td>NaN</td>\n",
       "      <td>NaN</td>\n",
       "      <td>NaN</td>\n",
       "      <td>NaN</td>\n",
       "      <td>NaN</td>\n",
       "      <td>NaN</td>\n",
       "      <td>...</td>\n",
       "      <td>NaN</td>\n",
       "      <td>NaN</td>\n",
       "      <td>NaN</td>\n",
       "      <td>NaN</td>\n",
       "      <td>NaN</td>\n",
       "      <td>NaN</td>\n",
       "      <td>NaN</td>\n",
       "      <td>NaN</td>\n",
       "      <td>NaN</td>\n",
       "      <td>NaN</td>\n",
       "    </tr>\n",
       "    <tr>\n",
       "      <th>ls_gp_cl</th>\n",
       "      <td>NaN</td>\n",
       "      <td>NaN</td>\n",
       "      <td>NaN</td>\n",
       "      <td>NaN</td>\n",
       "      <td>NaN</td>\n",
       "      <td>NaN</td>\n",
       "      <td>NaN</td>\n",
       "      <td>NaN</td>\n",
       "      <td>NaN</td>\n",
       "      <td>NaN</td>\n",
       "      <td>...</td>\n",
       "      <td>NaN</td>\n",
       "      <td>NaN</td>\n",
       "      <td>NaN</td>\n",
       "      <td>NaN</td>\n",
       "      <td>NaN</td>\n",
       "      <td>NaN</td>\n",
       "      <td>NaN</td>\n",
       "      <td>NaN</td>\n",
       "      <td>NaN</td>\n",
       "      <td>NaN</td>\n",
       "    </tr>\n",
       "    <tr>\n",
       "      <th>ls_nw</th>\n",
       "      <td>NaN</td>\n",
       "      <td>NaN</td>\n",
       "      <td>NaN</td>\n",
       "      <td>NaN</td>\n",
       "      <td>NaN</td>\n",
       "      <td>NaN</td>\n",
       "      <td>NaN</td>\n",
       "      <td>NaN</td>\n",
       "      <td>NaN</td>\n",
       "      <td>NaN</td>\n",
       "      <td>...</td>\n",
       "      <td>NaN</td>\n",
       "      <td>NaN</td>\n",
       "      <td>NaN</td>\n",
       "      <td>NaN</td>\n",
       "      <td>NaN</td>\n",
       "      <td>NaN</td>\n",
       "      <td>NaN</td>\n",
       "      <td>NaN</td>\n",
       "      <td>NaN</td>\n",
       "      <td>NaN</td>\n",
       "    </tr>\n",
       "    <tr>\n",
       "      <th>ls_nd</th>\n",
       "      <td>NaN</td>\n",
       "      <td>NaN</td>\n",
       "      <td>NaN</td>\n",
       "      <td>NaN</td>\n",
       "      <td>NaN</td>\n",
       "      <td>NaN</td>\n",
       "      <td>NaN</td>\n",
       "      <td>NaN</td>\n",
       "      <td>NaN</td>\n",
       "      <td>NaN</td>\n",
       "      <td>...</td>\n",
       "      <td>NaN</td>\n",
       "      <td>NaN</td>\n",
       "      <td>NaN</td>\n",
       "      <td>NaN</td>\n",
       "      <td>NaN</td>\n",
       "      <td>NaN</td>\n",
       "      <td>NaN</td>\n",
       "      <td>NaN</td>\n",
       "      <td>NaN</td>\n",
       "      <td>NaN</td>\n",
       "    </tr>\n",
       "    <tr>\n",
       "      <th>ld_gps5_od</th>\n",
       "      <td>NaN</td>\n",
       "      <td>NaN</td>\n",
       "      <td>NaN</td>\n",
       "      <td>NaN</td>\n",
       "      <td>NaN</td>\n",
       "      <td>NaN</td>\n",
       "      <td>NaN</td>\n",
       "      <td>NaN</td>\n",
       "      <td>NaN</td>\n",
       "      <td>NaN</td>\n",
       "      <td>...</td>\n",
       "      <td>NaN</td>\n",
       "      <td>NaN</td>\n",
       "      <td>NaN</td>\n",
       "      <td>NaN</td>\n",
       "      <td>NaN</td>\n",
       "      <td>NaN</td>\n",
       "      <td>NaN</td>\n",
       "      <td>NaN</td>\n",
       "      <td>NaN</td>\n",
       "      <td>NaN</td>\n",
       "    </tr>\n",
       "    <tr>\n",
       "      <th>ld_gps5_rc</th>\n",
       "      <td>NaN</td>\n",
       "      <td>NaN</td>\n",
       "      <td>NaN</td>\n",
       "      <td>NaN</td>\n",
       "      <td>NaN</td>\n",
       "      <td>NaN</td>\n",
       "      <td>NaN</td>\n",
       "      <td>NaN</td>\n",
       "      <td>NaN</td>\n",
       "      <td>NaN</td>\n",
       "      <td>...</td>\n",
       "      <td>NaN</td>\n",
       "      <td>NaN</td>\n",
       "      <td>NaN</td>\n",
       "      <td>NaN</td>\n",
       "      <td>NaN</td>\n",
       "      <td>NaN</td>\n",
       "      <td>NaN</td>\n",
       "      <td>NaN</td>\n",
       "      <td>NaN</td>\n",
       "      <td>NaN</td>\n",
       "    </tr>\n",
       "    <tr>\n",
       "      <th>ld_gps5_xc</th>\n",
       "      <td>NaN</td>\n",
       "      <td>NaN</td>\n",
       "      <td>NaN</td>\n",
       "      <td>NaN</td>\n",
       "      <td>NaN</td>\n",
       "      <td>NaN</td>\n",
       "      <td>NaN</td>\n",
       "      <td>NaN</td>\n",
       "      <td>NaN</td>\n",
       "      <td>NaN</td>\n",
       "      <td>...</td>\n",
       "      <td>NaN</td>\n",
       "      <td>NaN</td>\n",
       "      <td>NaN</td>\n",
       "      <td>NaN</td>\n",
       "      <td>NaN</td>\n",
       "      <td>NaN</td>\n",
       "      <td>NaN</td>\n",
       "      <td>NaN</td>\n",
       "      <td>NaN</td>\n",
       "      <td>NaN</td>\n",
       "    </tr>\n",
       "    <tr>\n",
       "      <th>ld_add5_od</th>\n",
       "      <td>NaN</td>\n",
       "      <td>NaN</td>\n",
       "      <td>NaN</td>\n",
       "      <td>NaN</td>\n",
       "      <td>NaN</td>\n",
       "      <td>NaN</td>\n",
       "      <td>NaN</td>\n",
       "      <td>NaN</td>\n",
       "      <td>NaN</td>\n",
       "      <td>NaN</td>\n",
       "      <td>...</td>\n",
       "      <td>NaN</td>\n",
       "      <td>NaN</td>\n",
       "      <td>NaN</td>\n",
       "      <td>NaN</td>\n",
       "      <td>NaN</td>\n",
       "      <td>NaN</td>\n",
       "      <td>NaN</td>\n",
       "      <td>NaN</td>\n",
       "      <td>NaN</td>\n",
       "      <td>NaN</td>\n",
       "    </tr>\n",
       "    <tr>\n",
       "      <th>ld_add5_rc</th>\n",
       "      <td>NaN</td>\n",
       "      <td>NaN</td>\n",
       "      <td>NaN</td>\n",
       "      <td>NaN</td>\n",
       "      <td>NaN</td>\n",
       "      <td>NaN</td>\n",
       "      <td>NaN</td>\n",
       "      <td>NaN</td>\n",
       "      <td>NaN</td>\n",
       "      <td>NaN</td>\n",
       "      <td>...</td>\n",
       "      <td>NaN</td>\n",
       "      <td>NaN</td>\n",
       "      <td>NaN</td>\n",
       "      <td>NaN</td>\n",
       "      <td>NaN</td>\n",
       "      <td>NaN</td>\n",
       "      <td>NaN</td>\n",
       "      <td>NaN</td>\n",
       "      <td>NaN</td>\n",
       "      <td>NaN</td>\n",
       "    </tr>\n",
       "    <tr>\n",
       "      <th>ld_add5_xc_ml</th>\n",
       "      <td>NaN</td>\n",
       "      <td>NaN</td>\n",
       "      <td>NaN</td>\n",
       "      <td>NaN</td>\n",
       "      <td>NaN</td>\n",
       "      <td>NaN</td>\n",
       "      <td>NaN</td>\n",
       "      <td>NaN</td>\n",
       "      <td>NaN</td>\n",
       "      <td>NaN</td>\n",
       "      <td>...</td>\n",
       "      <td>NaN</td>\n",
       "      <td>NaN</td>\n",
       "      <td>NaN</td>\n",
       "      <td>NaN</td>\n",
       "      <td>NaN</td>\n",
       "      <td>NaN</td>\n",
       "      <td>NaN</td>\n",
       "      <td>NaN</td>\n",
       "      <td>NaN</td>\n",
       "      <td>NaN</td>\n",
       "    </tr>\n",
       "    <tr>\n",
       "      <th>ld_add5_xc_m</th>\n",
       "      <td>NaN</td>\n",
       "      <td>NaN</td>\n",
       "      <td>NaN</td>\n",
       "      <td>NaN</td>\n",
       "      <td>NaN</td>\n",
       "      <td>NaN</td>\n",
       "      <td>NaN</td>\n",
       "      <td>NaN</td>\n",
       "      <td>NaN</td>\n",
       "      <td>NaN</td>\n",
       "      <td>...</td>\n",
       "      <td>NaN</td>\n",
       "      <td>NaN</td>\n",
       "      <td>NaN</td>\n",
       "      <td>NaN</td>\n",
       "      <td>NaN</td>\n",
       "      <td>NaN</td>\n",
       "      <td>NaN</td>\n",
       "      <td>NaN</td>\n",
       "      <td>NaN</td>\n",
       "      <td>NaN</td>\n",
       "    </tr>\n",
       "    <tr>\n",
       "      <th>lp_p1_ld_add5_od</th>\n",
       "      <td>NaN</td>\n",
       "      <td>NaN</td>\n",
       "      <td>NaN</td>\n",
       "      <td>NaN</td>\n",
       "      <td>NaN</td>\n",
       "      <td>NaN</td>\n",
       "      <td>NaN</td>\n",
       "      <td>NaN</td>\n",
       "      <td>NaN</td>\n",
       "      <td>NaN</td>\n",
       "      <td>...</td>\n",
       "      <td>NaN</td>\n",
       "      <td>NaN</td>\n",
       "      <td>NaN</td>\n",
       "      <td>NaN</td>\n",
       "      <td>NaN</td>\n",
       "      <td>NaN</td>\n",
       "      <td>NaN</td>\n",
       "      <td>NaN</td>\n",
       "      <td>NaN</td>\n",
       "      <td>NaN</td>\n",
       "    </tr>\n",
       "    <tr>\n",
       "      <th>lp_p1_ld_add5_rc</th>\n",
       "      <td>NaN</td>\n",
       "      <td>NaN</td>\n",
       "      <td>NaN</td>\n",
       "      <td>NaN</td>\n",
       "      <td>NaN</td>\n",
       "      <td>NaN</td>\n",
       "      <td>NaN</td>\n",
       "      <td>NaN</td>\n",
       "      <td>NaN</td>\n",
       "      <td>NaN</td>\n",
       "      <td>...</td>\n",
       "      <td>NaN</td>\n",
       "      <td>NaN</td>\n",
       "      <td>NaN</td>\n",
       "      <td>NaN</td>\n",
       "      <td>NaN</td>\n",
       "      <td>NaN</td>\n",
       "      <td>NaN</td>\n",
       "      <td>NaN</td>\n",
       "      <td>NaN</td>\n",
       "      <td>NaN</td>\n",
       "    </tr>\n",
       "    <tr>\n",
       "      <th>lp_p1_ld_add5_xc_ml</th>\n",
       "      <td>NaN</td>\n",
       "      <td>NaN</td>\n",
       "      <td>NaN</td>\n",
       "      <td>NaN</td>\n",
       "      <td>NaN</td>\n",
       "      <td>NaN</td>\n",
       "      <td>NaN</td>\n",
       "      <td>NaN</td>\n",
       "      <td>NaN</td>\n",
       "      <td>NaN</td>\n",
       "      <td>...</td>\n",
       "      <td>NaN</td>\n",
       "      <td>NaN</td>\n",
       "      <td>NaN</td>\n",
       "      <td>NaN</td>\n",
       "      <td>NaN</td>\n",
       "      <td>NaN</td>\n",
       "      <td>NaN</td>\n",
       "      <td>NaN</td>\n",
       "      <td>NaN</td>\n",
       "      <td>NaN</td>\n",
       "    </tr>\n",
       "    <tr>\n",
       "      <th>lp_p1_ld_add5_xc_m</th>\n",
       "      <td>NaN</td>\n",
       "      <td>NaN</td>\n",
       "      <td>NaN</td>\n",
       "      <td>NaN</td>\n",
       "      <td>NaN</td>\n",
       "      <td>NaN</td>\n",
       "      <td>NaN</td>\n",
       "      <td>NaN</td>\n",
       "      <td>NaN</td>\n",
       "      <td>NaN</td>\n",
       "      <td>...</td>\n",
       "      <td>NaN</td>\n",
       "      <td>NaN</td>\n",
       "      <td>NaN</td>\n",
       "      <td>NaN</td>\n",
       "      <td>NaN</td>\n",
       "      <td>NaN</td>\n",
       "      <td>NaN</td>\n",
       "      <td>NaN</td>\n",
       "      <td>NaN</td>\n",
       "      <td>NaN</td>\n",
       "    </tr>\n",
       "    <tr>\n",
       "      <th>cg_add5</th>\n",
       "      <td>NaN</td>\n",
       "      <td>NaN</td>\n",
       "      <td>NaN</td>\n",
       "      <td>NaN</td>\n",
       "      <td>NaN</td>\n",
       "      <td>NaN</td>\n",
       "      <td>NaN</td>\n",
       "      <td>NaN</td>\n",
       "      <td>NaN</td>\n",
       "      <td>NaN</td>\n",
       "      <td>...</td>\n",
       "      <td>NaN</td>\n",
       "      <td>NaN</td>\n",
       "      <td>NaN</td>\n",
       "      <td>NaN</td>\n",
       "      <td>NaN</td>\n",
       "      <td>NaN</td>\n",
       "      <td>NaN</td>\n",
       "      <td>NaN</td>\n",
       "      <td>NaN</td>\n",
       "      <td>NaN</td>\n",
       "    </tr>\n",
       "    <tr>\n",
       "      <th>bs_gps5</th>\n",
       "      <td>NaN</td>\n",
       "      <td>NaN</td>\n",
       "      <td>NaN</td>\n",
       "      <td>NaN</td>\n",
       "      <td>NaN</td>\n",
       "      <td>NaN</td>\n",
       "      <td>NaN</td>\n",
       "      <td>NaN</td>\n",
       "      <td>NaN</td>\n",
       "      <td>NaN</td>\n",
       "      <td>...</td>\n",
       "      <td>NaN</td>\n",
       "      <td>NaN</td>\n",
       "      <td>NaN</td>\n",
       "      <td>NaN</td>\n",
       "      <td>NaN</td>\n",
       "      <td>NaN</td>\n",
       "      <td>NaN</td>\n",
       "      <td>NaN</td>\n",
       "      <td>NaN</td>\n",
       "      <td>NaN</td>\n",
       "    </tr>\n",
       "    <tr>\n",
       "      <th>bs_add5_id6plus_dist_c</th>\n",
       "      <td>NaN</td>\n",
       "      <td>NaN</td>\n",
       "      <td>NaN</td>\n",
       "      <td>NaN</td>\n",
       "      <td>NaN</td>\n",
       "      <td>NaN</td>\n",
       "      <td>NaN</td>\n",
       "      <td>NaN</td>\n",
       "      <td>NaN</td>\n",
       "      <td>NaN</td>\n",
       "      <td>...</td>\n",
       "      <td>NaN</td>\n",
       "      <td>NaN</td>\n",
       "      <td>NaN</td>\n",
       "      <td>NaN</td>\n",
       "      <td>NaN</td>\n",
       "      <td>NaN</td>\n",
       "      <td>NaN</td>\n",
       "      <td>NaN</td>\n",
       "      <td>NaN</td>\n",
       "      <td>NaN</td>\n",
       "    </tr>\n",
       "    <tr>\n",
       "      <th>bs_add5_id6plus_dist_vf</th>\n",
       "      <td>NaN</td>\n",
       "      <td>NaN</td>\n",
       "      <td>NaN</td>\n",
       "      <td>NaN</td>\n",
       "      <td>NaN</td>\n",
       "      <td>NaN</td>\n",
       "      <td>NaN</td>\n",
       "      <td>NaN</td>\n",
       "      <td>NaN</td>\n",
       "      <td>NaN</td>\n",
       "      <td>...</td>\n",
       "      <td>NaN</td>\n",
       "      <td>NaN</td>\n",
       "      <td>NaN</td>\n",
       "      <td>NaN</td>\n",
       "      <td>NaN</td>\n",
       "      <td>NaN</td>\n",
       "      <td>NaN</td>\n",
       "      <td>NaN</td>\n",
       "      <td>NaN</td>\n",
       "      <td>NaN</td>\n",
       "    </tr>\n",
       "    <tr>\n",
       "      <th>bs_add5_id6plus_dist_vc</th>\n",
       "      <td>NaN</td>\n",
       "      <td>NaN</td>\n",
       "      <td>NaN</td>\n",
       "      <td>NaN</td>\n",
       "      <td>NaN</td>\n",
       "      <td>NaN</td>\n",
       "      <td>NaN</td>\n",
       "      <td>NaN</td>\n",
       "      <td>NaN</td>\n",
       "      <td>NaN</td>\n",
       "      <td>...</td>\n",
       "      <td>1.0</td>\n",
       "      <td>NaN</td>\n",
       "      <td>NaN</td>\n",
       "      <td>NaN</td>\n",
       "      <td>NaN</td>\n",
       "      <td>NaN</td>\n",
       "      <td>NaN</td>\n",
       "      <td>NaN</td>\n",
       "      <td>NaN</td>\n",
       "      <td>NaN</td>\n",
       "    </tr>\n",
       "    <tr>\n",
       "      <th>bs_add5_id6plus_dist_f</th>\n",
       "      <td>NaN</td>\n",
       "      <td>NaN</td>\n",
       "      <td>NaN</td>\n",
       "      <td>NaN</td>\n",
       "      <td>NaN</td>\n",
       "      <td>NaN</td>\n",
       "      <td>NaN</td>\n",
       "      <td>NaN</td>\n",
       "      <td>NaN</td>\n",
       "      <td>NaN</td>\n",
       "      <td>...</td>\n",
       "      <td>NaN</td>\n",
       "      <td>1.0</td>\n",
       "      <td>NaN</td>\n",
       "      <td>NaN</td>\n",
       "      <td>NaN</td>\n",
       "      <td>NaN</td>\n",
       "      <td>NaN</td>\n",
       "      <td>NaN</td>\n",
       "      <td>NaN</td>\n",
       "      <td>NaN</td>\n",
       "    </tr>\n",
       "    <tr>\n",
       "      <th>lp_p1_ld_idnbr_6plus_xcp</th>\n",
       "      <td>NaN</td>\n",
       "      <td>NaN</td>\n",
       "      <td>NaN</td>\n",
       "      <td>NaN</td>\n",
       "      <td>NaN</td>\n",
       "      <td>NaN</td>\n",
       "      <td>NaN</td>\n",
       "      <td>NaN</td>\n",
       "      <td>NaN</td>\n",
       "      <td>NaN</td>\n",
       "      <td>...</td>\n",
       "      <td>NaN</td>\n",
       "      <td>NaN</td>\n",
       "      <td>1.0</td>\n",
       "      <td>NaN</td>\n",
       "      <td>NaN</td>\n",
       "      <td>NaN</td>\n",
       "      <td>NaN</td>\n",
       "      <td>NaN</td>\n",
       "      <td>NaN</td>\n",
       "      <td>NaN</td>\n",
       "    </tr>\n",
       "    <tr>\n",
       "      <th>lp_p1_vl_idnbr</th>\n",
       "      <td>NaN</td>\n",
       "      <td>NaN</td>\n",
       "      <td>NaN</td>\n",
       "      <td>NaN</td>\n",
       "      <td>NaN</td>\n",
       "      <td>NaN</td>\n",
       "      <td>NaN</td>\n",
       "      <td>NaN</td>\n",
       "      <td>NaN</td>\n",
       "      <td>NaN</td>\n",
       "      <td>...</td>\n",
       "      <td>NaN</td>\n",
       "      <td>NaN</td>\n",
       "      <td>NaN</td>\n",
       "      <td>1.0</td>\n",
       "      <td>NaN</td>\n",
       "      <td>NaN</td>\n",
       "      <td>NaN</td>\n",
       "      <td>NaN</td>\n",
       "      <td>NaN</td>\n",
       "      <td>NaN</td>\n",
       "    </tr>\n",
       "    <tr>\n",
       "      <th>bd_addr_abn_apply</th>\n",
       "      <td>NaN</td>\n",
       "      <td>NaN</td>\n",
       "      <td>NaN</td>\n",
       "      <td>NaN</td>\n",
       "      <td>NaN</td>\n",
       "      <td>NaN</td>\n",
       "      <td>NaN</td>\n",
       "      <td>NaN</td>\n",
       "      <td>NaN</td>\n",
       "      <td>NaN</td>\n",
       "      <td>...</td>\n",
       "      <td>NaN</td>\n",
       "      <td>NaN</td>\n",
       "      <td>NaN</td>\n",
       "      <td>NaN</td>\n",
       "      <td>1.0</td>\n",
       "      <td>NaN</td>\n",
       "      <td>NaN</td>\n",
       "      <td>NaN</td>\n",
       "      <td>NaN</td>\n",
       "      <td>NaN</td>\n",
       "    </tr>\n",
       "    <tr>\n",
       "      <th>bd_gps5_abn_apply</th>\n",
       "      <td>NaN</td>\n",
       "      <td>NaN</td>\n",
       "      <td>NaN</td>\n",
       "      <td>NaN</td>\n",
       "      <td>NaN</td>\n",
       "      <td>NaN</td>\n",
       "      <td>NaN</td>\n",
       "      <td>NaN</td>\n",
       "      <td>NaN</td>\n",
       "      <td>NaN</td>\n",
       "      <td>...</td>\n",
       "      <td>NaN</td>\n",
       "      <td>NaN</td>\n",
       "      <td>NaN</td>\n",
       "      <td>NaN</td>\n",
       "      <td>NaN</td>\n",
       "      <td>1.0</td>\n",
       "      <td>NaN</td>\n",
       "      <td>NaN</td>\n",
       "      <td>NaN</td>\n",
       "      <td>NaN</td>\n",
       "    </tr>\n",
       "    <tr>\n",
       "      <th>bd_addr_abn_spend</th>\n",
       "      <td>NaN</td>\n",
       "      <td>NaN</td>\n",
       "      <td>NaN</td>\n",
       "      <td>NaN</td>\n",
       "      <td>NaN</td>\n",
       "      <td>NaN</td>\n",
       "      <td>NaN</td>\n",
       "      <td>NaN</td>\n",
       "      <td>NaN</td>\n",
       "      <td>NaN</td>\n",
       "      <td>...</td>\n",
       "      <td>NaN</td>\n",
       "      <td>NaN</td>\n",
       "      <td>NaN</td>\n",
       "      <td>NaN</td>\n",
       "      <td>NaN</td>\n",
       "      <td>NaN</td>\n",
       "      <td>1.0</td>\n",
       "      <td>NaN</td>\n",
       "      <td>NaN</td>\n",
       "      <td>NaN</td>\n",
       "    </tr>\n",
       "    <tr>\n",
       "      <th>bd_gps5_abn_spend</th>\n",
       "      <td>NaN</td>\n",
       "      <td>NaN</td>\n",
       "      <td>NaN</td>\n",
       "      <td>NaN</td>\n",
       "      <td>NaN</td>\n",
       "      <td>NaN</td>\n",
       "      <td>NaN</td>\n",
       "      <td>NaN</td>\n",
       "      <td>NaN</td>\n",
       "      <td>NaN</td>\n",
       "      <td>...</td>\n",
       "      <td>NaN</td>\n",
       "      <td>NaN</td>\n",
       "      <td>NaN</td>\n",
       "      <td>NaN</td>\n",
       "      <td>NaN</td>\n",
       "      <td>NaN</td>\n",
       "      <td>NaN</td>\n",
       "      <td>NaN</td>\n",
       "      <td>NaN</td>\n",
       "      <td>NaN</td>\n",
       "    </tr>\n",
       "    <tr>\n",
       "      <th>dist_gps5_abn_beh</th>\n",
       "      <td>NaN</td>\n",
       "      <td>NaN</td>\n",
       "      <td>NaN</td>\n",
       "      <td>NaN</td>\n",
       "      <td>NaN</td>\n",
       "      <td>NaN</td>\n",
       "      <td>NaN</td>\n",
       "      <td>NaN</td>\n",
       "      <td>NaN</td>\n",
       "      <td>NaN</td>\n",
       "      <td>...</td>\n",
       "      <td>NaN</td>\n",
       "      <td>NaN</td>\n",
       "      <td>NaN</td>\n",
       "      <td>NaN</td>\n",
       "      <td>NaN</td>\n",
       "      <td>NaN</td>\n",
       "      <td>NaN</td>\n",
       "      <td>NaN</td>\n",
       "      <td>NaN</td>\n",
       "      <td>NaN</td>\n",
       "    </tr>\n",
       "    <tr>\n",
       "      <th>dist_gps5_abn_spend</th>\n",
       "      <td>NaN</td>\n",
       "      <td>NaN</td>\n",
       "      <td>NaN</td>\n",
       "      <td>NaN</td>\n",
       "      <td>NaN</td>\n",
       "      <td>NaN</td>\n",
       "      <td>NaN</td>\n",
       "      <td>NaN</td>\n",
       "      <td>NaN</td>\n",
       "      <td>NaN</td>\n",
       "      <td>...</td>\n",
       "      <td>NaN</td>\n",
       "      <td>NaN</td>\n",
       "      <td>NaN</td>\n",
       "      <td>NaN</td>\n",
       "      <td>NaN</td>\n",
       "      <td>NaN</td>\n",
       "      <td>NaN</td>\n",
       "      <td>NaN</td>\n",
       "      <td>NaN</td>\n",
       "      <td>1.0</td>\n",
       "    </tr>\n",
       "  </tbody>\n",
       "</table>\n",
       "<p>59 rows × 59 columns</p>\n",
       "</div>"
      ],
      "text/plain": [
       "                            type  cs_size_s  cs_size_s_ctn_l_rel_m  \\\n",
       "type                         1.0        NaN                    NaN   \n",
       "cs_size_s                    NaN   1.000000                    NaN   \n",
       "cs_size_s_ctn_l_rel_m        NaN        NaN                    1.0   \n",
       "cs_size_s_ctn_m_rel_m        NaN        NaN                    NaN   \n",
       "cs_size_s_ctn_m_rel_l        NaN        NaN                    NaN   \n",
       "cs_size_s_ctn_l_rel_l        NaN   0.693626                    NaN   \n",
       "cs                           NaN   0.869574                    NaN   \n",
       "od                           NaN        NaN                    NaN   \n",
       "ls_od_b_6m                   NaN        NaN                    NaN   \n",
       "ls_od_b_1y                   NaN        NaN                    NaN   \n",
       "ls_od_b_2y                   NaN        NaN                    NaN   \n",
       "ls_od_f_1t                   NaN        NaN                    NaN   \n",
       "ls_od_f_3t                   NaN        NaN                    NaN   \n",
       "ls_od_f_6t                   NaN        NaN                    NaN   \n",
       "xc_behavior                  NaN        NaN                    NaN   \n",
       "xc_overloan                  NaN        NaN                    NaN   \n",
       "xc_overdue                   NaN        NaN                    NaN   \n",
       "xc_record                    NaN        NaN                    NaN   \n",
       "lp_p1_xc_behavior            NaN        NaN                    NaN   \n",
       "lp_p1_xc_overloan            NaN        NaN                    NaN   \n",
       "lp_p1_xc_overdue             NaN        NaN                    NaN   \n",
       "lp_p1_xc_record              NaN        NaN                    NaN   \n",
       "rv                           NaN        NaN                    NaN   \n",
       "rc_idname_multi              NaN        NaN                    NaN   \n",
       "rc_relation_age              NaN        NaN                    NaN   \n",
       "rc_relation_cnt_name_phone   NaN        NaN                    NaN   \n",
       "rc_relation_multi            NaN        NaN                    NaN   \n",
       "rc_relation_cnt              NaN        NaN                    NaN   \n",
       "ls_cr                        NaN        NaN                    NaN   \n",
       "ls_cr_cl                     NaN        NaN                    NaN   \n",
       "ls_gp                        NaN        NaN                    NaN   \n",
       "ls_gp_cl                     NaN        NaN                    NaN   \n",
       "ls_nw                        NaN        NaN                    NaN   \n",
       "ls_nd                        NaN        NaN                    NaN   \n",
       "ld_gps5_od                   NaN        NaN                    NaN   \n",
       "ld_gps5_rc                   NaN        NaN                    NaN   \n",
       "ld_gps5_xc                   NaN        NaN                    NaN   \n",
       "ld_add5_od                   NaN        NaN                    NaN   \n",
       "ld_add5_rc                   NaN        NaN                    NaN   \n",
       "ld_add5_xc_ml                NaN        NaN                    NaN   \n",
       "ld_add5_xc_m                 NaN        NaN                    NaN   \n",
       "lp_p1_ld_add5_od             NaN        NaN                    NaN   \n",
       "lp_p1_ld_add5_rc             NaN        NaN                    NaN   \n",
       "lp_p1_ld_add5_xc_ml          NaN        NaN                    NaN   \n",
       "lp_p1_ld_add5_xc_m           NaN        NaN                    NaN   \n",
       "cg_add5                      NaN        NaN                    NaN   \n",
       "bs_gps5                      NaN        NaN                    NaN   \n",
       "bs_add5_id6plus_dist_c       NaN        NaN                    NaN   \n",
       "bs_add5_id6plus_dist_vf      NaN        NaN                    NaN   \n",
       "bs_add5_id6plus_dist_vc      NaN        NaN                    NaN   \n",
       "bs_add5_id6plus_dist_f       NaN        NaN                    NaN   \n",
       "lp_p1_ld_idnbr_6plus_xcp     NaN        NaN                    NaN   \n",
       "lp_p1_vl_idnbr               NaN        NaN                    NaN   \n",
       "bd_addr_abn_apply            NaN        NaN                    NaN   \n",
       "bd_gps5_abn_apply            NaN        NaN                    NaN   \n",
       "bd_addr_abn_spend            NaN        NaN                    NaN   \n",
       "bd_gps5_abn_spend            NaN        NaN                    NaN   \n",
       "dist_gps5_abn_beh            NaN        NaN                    NaN   \n",
       "dist_gps5_abn_spend          NaN        NaN                    NaN   \n",
       "\n",
       "                            cs_size_s_ctn_m_rel_m  cs_size_s_ctn_m_rel_l  \\\n",
       "type                                          NaN                    NaN   \n",
       "cs_size_s                                     NaN                    NaN   \n",
       "cs_size_s_ctn_l_rel_m                         NaN                    NaN   \n",
       "cs_size_s_ctn_m_rel_m                         1.0                    NaN   \n",
       "cs_size_s_ctn_m_rel_l                         NaN                    1.0   \n",
       "cs_size_s_ctn_l_rel_l                         NaN                    NaN   \n",
       "cs                                            NaN                    NaN   \n",
       "od                                            NaN                    NaN   \n",
       "ls_od_b_6m                                    NaN                    NaN   \n",
       "ls_od_b_1y                                    NaN                    NaN   \n",
       "ls_od_b_2y                                    NaN                    NaN   \n",
       "ls_od_f_1t                                    NaN                    NaN   \n",
       "ls_od_f_3t                                    NaN                    NaN   \n",
       "ls_od_f_6t                                    NaN                    NaN   \n",
       "xc_behavior                                   NaN                    NaN   \n",
       "xc_overloan                                   NaN                    NaN   \n",
       "xc_overdue                                    NaN                    NaN   \n",
       "xc_record                                     NaN                    NaN   \n",
       "lp_p1_xc_behavior                             NaN                    NaN   \n",
       "lp_p1_xc_overloan                             NaN                    NaN   \n",
       "lp_p1_xc_overdue                              NaN                    NaN   \n",
       "lp_p1_xc_record                               NaN                    NaN   \n",
       "rv                                            NaN                    NaN   \n",
       "rc_idname_multi                               NaN                    NaN   \n",
       "rc_relation_age                               NaN                    NaN   \n",
       "rc_relation_cnt_name_phone                    NaN                    NaN   \n",
       "rc_relation_multi                             NaN                    NaN   \n",
       "rc_relation_cnt                               NaN                    NaN   \n",
       "ls_cr                                         NaN                    NaN   \n",
       "ls_cr_cl                                      NaN                    NaN   \n",
       "ls_gp                                         NaN                    NaN   \n",
       "ls_gp_cl                                      NaN                    NaN   \n",
       "ls_nw                                         NaN                    NaN   \n",
       "ls_nd                                         NaN                    NaN   \n",
       "ld_gps5_od                                    NaN                    NaN   \n",
       "ld_gps5_rc                                    NaN                    NaN   \n",
       "ld_gps5_xc                                    NaN                    NaN   \n",
       "ld_add5_od                                    NaN                    NaN   \n",
       "ld_add5_rc                                    NaN                    NaN   \n",
       "ld_add5_xc_ml                                 NaN                    NaN   \n",
       "ld_add5_xc_m                                  NaN                    NaN   \n",
       "lp_p1_ld_add5_od                              NaN                    NaN   \n",
       "lp_p1_ld_add5_rc                              NaN                    NaN   \n",
       "lp_p1_ld_add5_xc_ml                           NaN                    NaN   \n",
       "lp_p1_ld_add5_xc_m                            NaN                    NaN   \n",
       "cg_add5                                       NaN                    NaN   \n",
       "bs_gps5                                       NaN                    NaN   \n",
       "bs_add5_id6plus_dist_c                        NaN                    NaN   \n",
       "bs_add5_id6plus_dist_vf                       NaN                    NaN   \n",
       "bs_add5_id6plus_dist_vc                       NaN                    NaN   \n",
       "bs_add5_id6plus_dist_f                        NaN                    NaN   \n",
       "lp_p1_ld_idnbr_6plus_xcp                      NaN                    NaN   \n",
       "lp_p1_vl_idnbr                                NaN                    NaN   \n",
       "bd_addr_abn_apply                             NaN                    NaN   \n",
       "bd_gps5_abn_apply                             NaN                    NaN   \n",
       "bd_addr_abn_spend                             NaN                    NaN   \n",
       "bd_gps5_abn_spend                             NaN                    NaN   \n",
       "dist_gps5_abn_beh                             NaN                    NaN   \n",
       "dist_gps5_abn_spend                           NaN                    NaN   \n",
       "\n",
       "                            cs_size_s_ctn_l_rel_l        cs        od  \\\n",
       "type                                          NaN       NaN       NaN   \n",
       "cs_size_s                                0.693626  0.869574       NaN   \n",
       "cs_size_s_ctn_l_rel_m                         NaN       NaN       NaN   \n",
       "cs_size_s_ctn_m_rel_m                         NaN       NaN       NaN   \n",
       "cs_size_s_ctn_m_rel_l                         NaN       NaN       NaN   \n",
       "cs_size_s_ctn_l_rel_l                    1.000000  0.603159       NaN   \n",
       "cs                                       0.603159  1.000000       NaN   \n",
       "od                                            NaN       NaN  1.000000   \n",
       "ls_od_b_6m                                    NaN       NaN  0.670479   \n",
       "ls_od_b_1y                                    NaN       NaN  0.558995   \n",
       "ls_od_b_2y                                    NaN       NaN  0.592972   \n",
       "ls_od_f_1t                                    NaN       NaN  0.684939   \n",
       "ls_od_f_3t                                    NaN       NaN       NaN   \n",
       "ls_od_f_6t                                    NaN       NaN       NaN   \n",
       "xc_behavior                                   NaN       NaN       NaN   \n",
       "xc_overloan                                   NaN       NaN       NaN   \n",
       "xc_overdue                                    NaN       NaN       NaN   \n",
       "xc_record                                     NaN       NaN       NaN   \n",
       "lp_p1_xc_behavior                             NaN       NaN       NaN   \n",
       "lp_p1_xc_overloan                             NaN       NaN       NaN   \n",
       "lp_p1_xc_overdue                              NaN       NaN       NaN   \n",
       "lp_p1_xc_record                               NaN       NaN       NaN   \n",
       "rv                                            NaN       NaN       NaN   \n",
       "rc_idname_multi                               NaN       NaN       NaN   \n",
       "rc_relation_age                               NaN       NaN       NaN   \n",
       "rc_relation_cnt_name_phone                    NaN       NaN       NaN   \n",
       "rc_relation_multi                             NaN       NaN       NaN   \n",
       "rc_relation_cnt                               NaN       NaN       NaN   \n",
       "ls_cr                                         NaN       NaN       NaN   \n",
       "ls_cr_cl                                      NaN       NaN       NaN   \n",
       "ls_gp                                         NaN       NaN       NaN   \n",
       "ls_gp_cl                                      NaN       NaN       NaN   \n",
       "ls_nw                                         NaN       NaN       NaN   \n",
       "ls_nd                                         NaN       NaN       NaN   \n",
       "ld_gps5_od                                    NaN       NaN       NaN   \n",
       "ld_gps5_rc                                    NaN       NaN       NaN   \n",
       "ld_gps5_xc                                    NaN       NaN       NaN   \n",
       "ld_add5_od                                    NaN       NaN       NaN   \n",
       "ld_add5_rc                                    NaN       NaN       NaN   \n",
       "ld_add5_xc_ml                                 NaN       NaN       NaN   \n",
       "ld_add5_xc_m                                  NaN       NaN       NaN   \n",
       "lp_p1_ld_add5_od                              NaN       NaN       NaN   \n",
       "lp_p1_ld_add5_rc                              NaN       NaN       NaN   \n",
       "lp_p1_ld_add5_xc_ml                           NaN       NaN       NaN   \n",
       "lp_p1_ld_add5_xc_m                            NaN       NaN       NaN   \n",
       "cg_add5                                       NaN       NaN       NaN   \n",
       "bs_gps5                                       NaN       NaN       NaN   \n",
       "bs_add5_id6plus_dist_c                        NaN       NaN       NaN   \n",
       "bs_add5_id6plus_dist_vf                       NaN       NaN       NaN   \n",
       "bs_add5_id6plus_dist_vc                       NaN       NaN       NaN   \n",
       "bs_add5_id6plus_dist_f                        NaN       NaN       NaN   \n",
       "lp_p1_ld_idnbr_6plus_xcp                      NaN       NaN       NaN   \n",
       "lp_p1_vl_idnbr                                NaN       NaN       NaN   \n",
       "bd_addr_abn_apply                             NaN       NaN       NaN   \n",
       "bd_gps5_abn_apply                             NaN       NaN       NaN   \n",
       "bd_addr_abn_spend                             NaN       NaN       NaN   \n",
       "bd_gps5_abn_spend                             NaN       NaN       NaN   \n",
       "dist_gps5_abn_beh                             NaN       NaN       NaN   \n",
       "dist_gps5_abn_spend                           NaN       NaN       NaN   \n",
       "\n",
       "                            ls_od_b_6m  ls_od_b_1y         ...           \\\n",
       "type                               NaN         NaN         ...            \n",
       "cs_size_s                          NaN         NaN         ...            \n",
       "cs_size_s_ctn_l_rel_m              NaN         NaN         ...            \n",
       "cs_size_s_ctn_m_rel_m              NaN         NaN         ...            \n",
       "cs_size_s_ctn_m_rel_l              NaN         NaN         ...            \n",
       "cs_size_s_ctn_l_rel_l              NaN         NaN         ...            \n",
       "cs                                 NaN         NaN         ...            \n",
       "od                            0.670479    0.558995         ...            \n",
       "ls_od_b_6m                    1.000000    0.729237         ...            \n",
       "ls_od_b_1y                    0.729237    1.000000         ...            \n",
       "ls_od_b_2y                         NaN    0.647504         ...            \n",
       "ls_od_f_1t                         NaN         NaN         ...            \n",
       "ls_od_f_3t                    0.510260         NaN         ...            \n",
       "ls_od_f_6t                         NaN         NaN         ...            \n",
       "xc_behavior                        NaN         NaN         ...            \n",
       "xc_overloan                        NaN         NaN         ...            \n",
       "xc_overdue                         NaN         NaN         ...            \n",
       "xc_record                          NaN         NaN         ...            \n",
       "lp_p1_xc_behavior                  NaN         NaN         ...            \n",
       "lp_p1_xc_overloan                  NaN         NaN         ...            \n",
       "lp_p1_xc_overdue                   NaN         NaN         ...            \n",
       "lp_p1_xc_record                    NaN         NaN         ...            \n",
       "rv                                 NaN         NaN         ...            \n",
       "rc_idname_multi                    NaN         NaN         ...            \n",
       "rc_relation_age                    NaN         NaN         ...            \n",
       "rc_relation_cnt_name_phone         NaN         NaN         ...            \n",
       "rc_relation_multi                  NaN         NaN         ...            \n",
       "rc_relation_cnt                    NaN         NaN         ...            \n",
       "ls_cr                              NaN         NaN         ...            \n",
       "ls_cr_cl                           NaN         NaN         ...            \n",
       "ls_gp                              NaN         NaN         ...            \n",
       "ls_gp_cl                           NaN         NaN         ...            \n",
       "ls_nw                              NaN         NaN         ...            \n",
       "ls_nd                              NaN         NaN         ...            \n",
       "ld_gps5_od                         NaN         NaN         ...            \n",
       "ld_gps5_rc                         NaN         NaN         ...            \n",
       "ld_gps5_xc                         NaN         NaN         ...            \n",
       "ld_add5_od                         NaN         NaN         ...            \n",
       "ld_add5_rc                         NaN         NaN         ...            \n",
       "ld_add5_xc_ml                      NaN         NaN         ...            \n",
       "ld_add5_xc_m                       NaN         NaN         ...            \n",
       "lp_p1_ld_add5_od                   NaN         NaN         ...            \n",
       "lp_p1_ld_add5_rc                   NaN         NaN         ...            \n",
       "lp_p1_ld_add5_xc_ml                NaN         NaN         ...            \n",
       "lp_p1_ld_add5_xc_m                 NaN         NaN         ...            \n",
       "cg_add5                            NaN         NaN         ...            \n",
       "bs_gps5                            NaN         NaN         ...            \n",
       "bs_add5_id6plus_dist_c             NaN         NaN         ...            \n",
       "bs_add5_id6plus_dist_vf            NaN         NaN         ...            \n",
       "bs_add5_id6plus_dist_vc            NaN         NaN         ...            \n",
       "bs_add5_id6plus_dist_f             NaN         NaN         ...            \n",
       "lp_p1_ld_idnbr_6plus_xcp           NaN         NaN         ...            \n",
       "lp_p1_vl_idnbr                     NaN         NaN         ...            \n",
       "bd_addr_abn_apply                  NaN         NaN         ...            \n",
       "bd_gps5_abn_apply                  NaN         NaN         ...            \n",
       "bd_addr_abn_spend                  NaN         NaN         ...            \n",
       "bd_gps5_abn_spend                  NaN         NaN         ...            \n",
       "dist_gps5_abn_beh                  NaN         NaN         ...            \n",
       "dist_gps5_abn_spend                NaN         NaN         ...            \n",
       "\n",
       "                            bs_add5_id6plus_dist_vc  bs_add5_id6plus_dist_f  \\\n",
       "type                                            NaN                     NaN   \n",
       "cs_size_s                                       NaN                     NaN   \n",
       "cs_size_s_ctn_l_rel_m                           NaN                     NaN   \n",
       "cs_size_s_ctn_m_rel_m                           NaN                     NaN   \n",
       "cs_size_s_ctn_m_rel_l                           NaN                     NaN   \n",
       "cs_size_s_ctn_l_rel_l                           NaN                     NaN   \n",
       "cs                                              NaN                     NaN   \n",
       "od                                              NaN                     NaN   \n",
       "ls_od_b_6m                                      NaN                     NaN   \n",
       "ls_od_b_1y                                      NaN                     NaN   \n",
       "ls_od_b_2y                                      NaN                     NaN   \n",
       "ls_od_f_1t                                      NaN                     NaN   \n",
       "ls_od_f_3t                                      NaN                     NaN   \n",
       "ls_od_f_6t                                      NaN                     NaN   \n",
       "xc_behavior                                     NaN                     NaN   \n",
       "xc_overloan                                     NaN                     NaN   \n",
       "xc_overdue                                      NaN                     NaN   \n",
       "xc_record                                       NaN                     NaN   \n",
       "lp_p1_xc_behavior                               NaN                     NaN   \n",
       "lp_p1_xc_overloan                               NaN                     NaN   \n",
       "lp_p1_xc_overdue                                NaN                     NaN   \n",
       "lp_p1_xc_record                                 NaN                     NaN   \n",
       "rv                                              NaN                     NaN   \n",
       "rc_idname_multi                                 NaN                     NaN   \n",
       "rc_relation_age                                 NaN                     NaN   \n",
       "rc_relation_cnt_name_phone                      NaN                     NaN   \n",
       "rc_relation_multi                               NaN                     NaN   \n",
       "rc_relation_cnt                                 NaN                     NaN   \n",
       "ls_cr                                           NaN                     NaN   \n",
       "ls_cr_cl                                        NaN                     NaN   \n",
       "ls_gp                                           NaN                     NaN   \n",
       "ls_gp_cl                                        NaN                     NaN   \n",
       "ls_nw                                           NaN                     NaN   \n",
       "ls_nd                                           NaN                     NaN   \n",
       "ld_gps5_od                                      NaN                     NaN   \n",
       "ld_gps5_rc                                      NaN                     NaN   \n",
       "ld_gps5_xc                                      NaN                     NaN   \n",
       "ld_add5_od                                      NaN                     NaN   \n",
       "ld_add5_rc                                      NaN                     NaN   \n",
       "ld_add5_xc_ml                                   NaN                     NaN   \n",
       "ld_add5_xc_m                                    NaN                     NaN   \n",
       "lp_p1_ld_add5_od                                NaN                     NaN   \n",
       "lp_p1_ld_add5_rc                                NaN                     NaN   \n",
       "lp_p1_ld_add5_xc_ml                             NaN                     NaN   \n",
       "lp_p1_ld_add5_xc_m                              NaN                     NaN   \n",
       "cg_add5                                         NaN                     NaN   \n",
       "bs_gps5                                         NaN                     NaN   \n",
       "bs_add5_id6plus_dist_c                          NaN                     NaN   \n",
       "bs_add5_id6plus_dist_vf                         NaN                     NaN   \n",
       "bs_add5_id6plus_dist_vc                         1.0                     NaN   \n",
       "bs_add5_id6plus_dist_f                          NaN                     1.0   \n",
       "lp_p1_ld_idnbr_6plus_xcp                        NaN                     NaN   \n",
       "lp_p1_vl_idnbr                                  NaN                     NaN   \n",
       "bd_addr_abn_apply                               NaN                     NaN   \n",
       "bd_gps5_abn_apply                               NaN                     NaN   \n",
       "bd_addr_abn_spend                               NaN                     NaN   \n",
       "bd_gps5_abn_spend                               NaN                     NaN   \n",
       "dist_gps5_abn_beh                               NaN                     NaN   \n",
       "dist_gps5_abn_spend                             NaN                     NaN   \n",
       "\n",
       "                            lp_p1_ld_idnbr_6plus_xcp  lp_p1_vl_idnbr  \\\n",
       "type                                             NaN             NaN   \n",
       "cs_size_s                                        NaN             NaN   \n",
       "cs_size_s_ctn_l_rel_m                            NaN             NaN   \n",
       "cs_size_s_ctn_m_rel_m                            NaN             NaN   \n",
       "cs_size_s_ctn_m_rel_l                            NaN             NaN   \n",
       "cs_size_s_ctn_l_rel_l                            NaN             NaN   \n",
       "cs                                               NaN             NaN   \n",
       "od                                               NaN             NaN   \n",
       "ls_od_b_6m                                       NaN             NaN   \n",
       "ls_od_b_1y                                       NaN             NaN   \n",
       "ls_od_b_2y                                       NaN             NaN   \n",
       "ls_od_f_1t                                       NaN             NaN   \n",
       "ls_od_f_3t                                       NaN             NaN   \n",
       "ls_od_f_6t                                       NaN             NaN   \n",
       "xc_behavior                                      NaN             NaN   \n",
       "xc_overloan                                      NaN             NaN   \n",
       "xc_overdue                                       NaN             NaN   \n",
       "xc_record                                        NaN             NaN   \n",
       "lp_p1_xc_behavior                                NaN             NaN   \n",
       "lp_p1_xc_overloan                                NaN             NaN   \n",
       "lp_p1_xc_overdue                                 NaN             NaN   \n",
       "lp_p1_xc_record                                  NaN             NaN   \n",
       "rv                                               NaN             NaN   \n",
       "rc_idname_multi                                  NaN             NaN   \n",
       "rc_relation_age                                  NaN             NaN   \n",
       "rc_relation_cnt_name_phone                       NaN             NaN   \n",
       "rc_relation_multi                                NaN             NaN   \n",
       "rc_relation_cnt                                  NaN             NaN   \n",
       "ls_cr                                            NaN             NaN   \n",
       "ls_cr_cl                                         NaN             NaN   \n",
       "ls_gp                                            NaN             NaN   \n",
       "ls_gp_cl                                         NaN             NaN   \n",
       "ls_nw                                            NaN             NaN   \n",
       "ls_nd                                            NaN             NaN   \n",
       "ld_gps5_od                                       NaN             NaN   \n",
       "ld_gps5_rc                                       NaN             NaN   \n",
       "ld_gps5_xc                                       NaN             NaN   \n",
       "ld_add5_od                                       NaN             NaN   \n",
       "ld_add5_rc                                       NaN             NaN   \n",
       "ld_add5_xc_ml                                    NaN             NaN   \n",
       "ld_add5_xc_m                                     NaN             NaN   \n",
       "lp_p1_ld_add5_od                                 NaN             NaN   \n",
       "lp_p1_ld_add5_rc                                 NaN             NaN   \n",
       "lp_p1_ld_add5_xc_ml                              NaN             NaN   \n",
       "lp_p1_ld_add5_xc_m                               NaN             NaN   \n",
       "cg_add5                                          NaN             NaN   \n",
       "bs_gps5                                          NaN             NaN   \n",
       "bs_add5_id6plus_dist_c                           NaN             NaN   \n",
       "bs_add5_id6plus_dist_vf                          NaN             NaN   \n",
       "bs_add5_id6plus_dist_vc                          NaN             NaN   \n",
       "bs_add5_id6plus_dist_f                           NaN             NaN   \n",
       "lp_p1_ld_idnbr_6plus_xcp                         1.0             NaN   \n",
       "lp_p1_vl_idnbr                                   NaN             1.0   \n",
       "bd_addr_abn_apply                                NaN             NaN   \n",
       "bd_gps5_abn_apply                                NaN             NaN   \n",
       "bd_addr_abn_spend                                NaN             NaN   \n",
       "bd_gps5_abn_spend                                NaN             NaN   \n",
       "dist_gps5_abn_beh                                NaN             NaN   \n",
       "dist_gps5_abn_spend                              NaN             NaN   \n",
       "\n",
       "                            bd_addr_abn_apply  bd_gps5_abn_apply  \\\n",
       "type                                      NaN                NaN   \n",
       "cs_size_s                                 NaN                NaN   \n",
       "cs_size_s_ctn_l_rel_m                     NaN                NaN   \n",
       "cs_size_s_ctn_m_rel_m                     NaN                NaN   \n",
       "cs_size_s_ctn_m_rel_l                     NaN                NaN   \n",
       "cs_size_s_ctn_l_rel_l                     NaN                NaN   \n",
       "cs                                        NaN                NaN   \n",
       "od                                        NaN                NaN   \n",
       "ls_od_b_6m                                NaN                NaN   \n",
       "ls_od_b_1y                                NaN                NaN   \n",
       "ls_od_b_2y                                NaN                NaN   \n",
       "ls_od_f_1t                                NaN                NaN   \n",
       "ls_od_f_3t                                NaN                NaN   \n",
       "ls_od_f_6t                                NaN                NaN   \n",
       "xc_behavior                               NaN                NaN   \n",
       "xc_overloan                               NaN                NaN   \n",
       "xc_overdue                                NaN                NaN   \n",
       "xc_record                                 NaN                NaN   \n",
       "lp_p1_xc_behavior                         NaN                NaN   \n",
       "lp_p1_xc_overloan                         NaN                NaN   \n",
       "lp_p1_xc_overdue                          NaN                NaN   \n",
       "lp_p1_xc_record                           NaN                NaN   \n",
       "rv                                        NaN                NaN   \n",
       "rc_idname_multi                           NaN                NaN   \n",
       "rc_relation_age                           NaN                NaN   \n",
       "rc_relation_cnt_name_phone                NaN                NaN   \n",
       "rc_relation_multi                         NaN                NaN   \n",
       "rc_relation_cnt                           NaN                NaN   \n",
       "ls_cr                                     NaN                NaN   \n",
       "ls_cr_cl                                  NaN                NaN   \n",
       "ls_gp                                     NaN                NaN   \n",
       "ls_gp_cl                                  NaN                NaN   \n",
       "ls_nw                                     NaN                NaN   \n",
       "ls_nd                                     NaN                NaN   \n",
       "ld_gps5_od                                NaN                NaN   \n",
       "ld_gps5_rc                                NaN                NaN   \n",
       "ld_gps5_xc                                NaN                NaN   \n",
       "ld_add5_od                                NaN                NaN   \n",
       "ld_add5_rc                                NaN                NaN   \n",
       "ld_add5_xc_ml                             NaN                NaN   \n",
       "ld_add5_xc_m                              NaN                NaN   \n",
       "lp_p1_ld_add5_od                          NaN                NaN   \n",
       "lp_p1_ld_add5_rc                          NaN                NaN   \n",
       "lp_p1_ld_add5_xc_ml                       NaN                NaN   \n",
       "lp_p1_ld_add5_xc_m                        NaN                NaN   \n",
       "cg_add5                                   NaN                NaN   \n",
       "bs_gps5                                   NaN                NaN   \n",
       "bs_add5_id6plus_dist_c                    NaN                NaN   \n",
       "bs_add5_id6plus_dist_vf                   NaN                NaN   \n",
       "bs_add5_id6plus_dist_vc                   NaN                NaN   \n",
       "bs_add5_id6plus_dist_f                    NaN                NaN   \n",
       "lp_p1_ld_idnbr_6plus_xcp                  NaN                NaN   \n",
       "lp_p1_vl_idnbr                            NaN                NaN   \n",
       "bd_addr_abn_apply                         1.0                NaN   \n",
       "bd_gps5_abn_apply                         NaN                1.0   \n",
       "bd_addr_abn_spend                         NaN                NaN   \n",
       "bd_gps5_abn_spend                         NaN                NaN   \n",
       "dist_gps5_abn_beh                         NaN                NaN   \n",
       "dist_gps5_abn_spend                       NaN                NaN   \n",
       "\n",
       "                            bd_addr_abn_spend  bd_gps5_abn_spend  \\\n",
       "type                                      NaN                NaN   \n",
       "cs_size_s                                 NaN                NaN   \n",
       "cs_size_s_ctn_l_rel_m                     NaN                NaN   \n",
       "cs_size_s_ctn_m_rel_m                     NaN                NaN   \n",
       "cs_size_s_ctn_m_rel_l                     NaN                NaN   \n",
       "cs_size_s_ctn_l_rel_l                     NaN                NaN   \n",
       "cs                                        NaN                NaN   \n",
       "od                                        NaN                NaN   \n",
       "ls_od_b_6m                                NaN                NaN   \n",
       "ls_od_b_1y                                NaN                NaN   \n",
       "ls_od_b_2y                                NaN                NaN   \n",
       "ls_od_f_1t                                NaN                NaN   \n",
       "ls_od_f_3t                                NaN                NaN   \n",
       "ls_od_f_6t                                NaN                NaN   \n",
       "xc_behavior                               NaN                NaN   \n",
       "xc_overloan                               NaN                NaN   \n",
       "xc_overdue                                NaN                NaN   \n",
       "xc_record                                 NaN                NaN   \n",
       "lp_p1_xc_behavior                         NaN                NaN   \n",
       "lp_p1_xc_overloan                         NaN                NaN   \n",
       "lp_p1_xc_overdue                          NaN                NaN   \n",
       "lp_p1_xc_record                           NaN                NaN   \n",
       "rv                                        NaN                NaN   \n",
       "rc_idname_multi                           NaN                NaN   \n",
       "rc_relation_age                           NaN                NaN   \n",
       "rc_relation_cnt_name_phone                NaN                NaN   \n",
       "rc_relation_multi                         NaN                NaN   \n",
       "rc_relation_cnt                           NaN                NaN   \n",
       "ls_cr                                     NaN                NaN   \n",
       "ls_cr_cl                                  NaN                NaN   \n",
       "ls_gp                                     NaN                NaN   \n",
       "ls_gp_cl                                  NaN                NaN   \n",
       "ls_nw                                     NaN                NaN   \n",
       "ls_nd                                     NaN                NaN   \n",
       "ld_gps5_od                                NaN                NaN   \n",
       "ld_gps5_rc                                NaN                NaN   \n",
       "ld_gps5_xc                                NaN                NaN   \n",
       "ld_add5_od                                NaN                NaN   \n",
       "ld_add5_rc                                NaN                NaN   \n",
       "ld_add5_xc_ml                             NaN                NaN   \n",
       "ld_add5_xc_m                              NaN                NaN   \n",
       "lp_p1_ld_add5_od                          NaN                NaN   \n",
       "lp_p1_ld_add5_rc                          NaN                NaN   \n",
       "lp_p1_ld_add5_xc_ml                       NaN                NaN   \n",
       "lp_p1_ld_add5_xc_m                        NaN                NaN   \n",
       "cg_add5                                   NaN                NaN   \n",
       "bs_gps5                                   NaN                NaN   \n",
       "bs_add5_id6plus_dist_c                    NaN                NaN   \n",
       "bs_add5_id6plus_dist_vf                   NaN                NaN   \n",
       "bs_add5_id6plus_dist_vc                   NaN                NaN   \n",
       "bs_add5_id6plus_dist_f                    NaN                NaN   \n",
       "lp_p1_ld_idnbr_6plus_xcp                  NaN                NaN   \n",
       "lp_p1_vl_idnbr                            NaN                NaN   \n",
       "bd_addr_abn_apply                         NaN                NaN   \n",
       "bd_gps5_abn_apply                         NaN                NaN   \n",
       "bd_addr_abn_spend                         1.0                NaN   \n",
       "bd_gps5_abn_spend                         NaN                NaN   \n",
       "dist_gps5_abn_beh                         NaN                NaN   \n",
       "dist_gps5_abn_spend                       NaN                NaN   \n",
       "\n",
       "                            dist_gps5_abn_beh  dist_gps5_abn_spend  \n",
       "type                                      NaN                  NaN  \n",
       "cs_size_s                                 NaN                  NaN  \n",
       "cs_size_s_ctn_l_rel_m                     NaN                  NaN  \n",
       "cs_size_s_ctn_m_rel_m                     NaN                  NaN  \n",
       "cs_size_s_ctn_m_rel_l                     NaN                  NaN  \n",
       "cs_size_s_ctn_l_rel_l                     NaN                  NaN  \n",
       "cs                                        NaN                  NaN  \n",
       "od                                        NaN                  NaN  \n",
       "ls_od_b_6m                                NaN                  NaN  \n",
       "ls_od_b_1y                                NaN                  NaN  \n",
       "ls_od_b_2y                                NaN                  NaN  \n",
       "ls_od_f_1t                                NaN                  NaN  \n",
       "ls_od_f_3t                                NaN                  NaN  \n",
       "ls_od_f_6t                                NaN                  NaN  \n",
       "xc_behavior                               NaN                  NaN  \n",
       "xc_overloan                               NaN                  NaN  \n",
       "xc_overdue                                NaN                  NaN  \n",
       "xc_record                                 NaN                  NaN  \n",
       "lp_p1_xc_behavior                         NaN                  NaN  \n",
       "lp_p1_xc_overloan                         NaN                  NaN  \n",
       "lp_p1_xc_overdue                          NaN                  NaN  \n",
       "lp_p1_xc_record                           NaN                  NaN  \n",
       "rv                                        NaN                  NaN  \n",
       "rc_idname_multi                           NaN                  NaN  \n",
       "rc_relation_age                           NaN                  NaN  \n",
       "rc_relation_cnt_name_phone                NaN                  NaN  \n",
       "rc_relation_multi                         NaN                  NaN  \n",
       "rc_relation_cnt                           NaN                  NaN  \n",
       "ls_cr                                     NaN                  NaN  \n",
       "ls_cr_cl                                  NaN                  NaN  \n",
       "ls_gp                                     NaN                  NaN  \n",
       "ls_gp_cl                                  NaN                  NaN  \n",
       "ls_nw                                     NaN                  NaN  \n",
       "ls_nd                                     NaN                  NaN  \n",
       "ld_gps5_od                                NaN                  NaN  \n",
       "ld_gps5_rc                                NaN                  NaN  \n",
       "ld_gps5_xc                                NaN                  NaN  \n",
       "ld_add5_od                                NaN                  NaN  \n",
       "ld_add5_rc                                NaN                  NaN  \n",
       "ld_add5_xc_ml                             NaN                  NaN  \n",
       "ld_add5_xc_m                              NaN                  NaN  \n",
       "lp_p1_ld_add5_od                          NaN                  NaN  \n",
       "lp_p1_ld_add5_rc                          NaN                  NaN  \n",
       "lp_p1_ld_add5_xc_ml                       NaN                  NaN  \n",
       "lp_p1_ld_add5_xc_m                        NaN                  NaN  \n",
       "cg_add5                                   NaN                  NaN  \n",
       "bs_gps5                                   NaN                  NaN  \n",
       "bs_add5_id6plus_dist_c                    NaN                  NaN  \n",
       "bs_add5_id6plus_dist_vf                   NaN                  NaN  \n",
       "bs_add5_id6plus_dist_vc                   NaN                  NaN  \n",
       "bs_add5_id6plus_dist_f                    NaN                  NaN  \n",
       "lp_p1_ld_idnbr_6plus_xcp                  NaN                  NaN  \n",
       "lp_p1_vl_idnbr                            NaN                  NaN  \n",
       "bd_addr_abn_apply                         NaN                  NaN  \n",
       "bd_gps5_abn_apply                         NaN                  NaN  \n",
       "bd_addr_abn_spend                         NaN                  NaN  \n",
       "bd_gps5_abn_spend                         NaN                  NaN  \n",
       "dist_gps5_abn_beh                         NaN                  NaN  \n",
       "dist_gps5_abn_spend                       NaN                  1.0  \n",
       "\n",
       "[59 rows x 59 columns]"
      ]
     },
     "execution_count": 12,
     "metadata": {},
     "output_type": "execute_result"
    }
   ],
   "source": [
    "corr[abs(corr)>0.5]"
   ]
  },
  {
   "cell_type": "markdown",
   "metadata": {},
   "source": [
    "## VAR BINNING RESULT 变量分组结果"
   ]
  },
  {
   "cell_type": "code",
   "execution_count": 13,
   "metadata": {
    "collapsed": false
   },
   "outputs": [
    {
     "name": "stderr",
     "output_type": "stream",
     "text": [
      "C:\\Users\\xiongjun\\AppData\\Local\\Continuum\\Anaconda3\\lib\\site-packages\\pandas\\core\\generic.py:3295: SettingWithCopyWarning: \n",
      "A value is trying to be set on a copy of a slice from a DataFrame\n",
      "\n",
      "See the caveats in the documentation: http://pandas.pydata.org/pandas-docs/stable/indexing.html#indexing-view-versus-copy\n",
      "  self._update_inplace(new_data)\n",
      "C:\\Users\\xiongjun\\sc_func.py:120: SettingWithCopyWarning: \n",
      "A value is trying to be set on a copy of a slice from a DataFrame.\n",
      "Try using .loc[row_indexer,col_indexer] = value instead\n",
      "\n",
      "See the caveats in the documentation: http://pandas.pydata.org/pandas-docs/stable/indexing.html#indexing-view-versus-copy\n",
      "  df['qt_binning'] = df[var].apply(lambda x: map_dict[x])\n"
     ]
    },
    {
     "name": "stdout",
     "output_type": "stream",
     "text": [
      "cs_size_s                     3.104139e-03\n",
      "cs_size_s_ctn_l_rel_m         4.930381e-30\n",
      "cs_size_s_ctn_m_rel_m         4.930381e-30\n",
      "cs_size_s_ctn_m_rel_l         4.930381e-30\n",
      "cs_size_s_ctn_l_rel_l         4.930381e-30\n",
      "cs                            2.136198e-03\n",
      "od                            4.930381e-30\n",
      "ls_od_b_6m                    4.930381e-30\n",
      "ls_od_b_1y                    4.930381e-30\n",
      "ls_od_b_2y                    4.930381e-30\n",
      "ls_od_f_1t                    4.930381e-30\n",
      "ls_od_f_3t                    4.930381e-30\n",
      "ls_od_f_6t                    4.930381e-30\n",
      "xc_behavior                   4.930381e-30\n",
      "xc_overloan                   6.072024e-03\n",
      "xc_overdue                    4.930381e-30\n",
      "xc_record                     4.930381e-30\n",
      "lp_p1_xc_behavior             4.930381e-30\n",
      "lp_p1_xc_overloan             4.930381e-30\n",
      "lp_p1_xc_overdue              4.930381e-30\n",
      "lp_p1_xc_record               4.930381e-30\n",
      "rv                            4.930381e-30\n",
      "rc_idname_multi               4.930381e-30\n",
      "rc_relation_age               4.930381e-30\n",
      "rc_relation_cnt_name_phone    4.930381e-30\n",
      "rc_relation_multi             4.930381e-30\n",
      "rc_relation_cnt               4.930381e-30\n",
      "ls_cr                         4.930381e-30\n",
      "ls_cr_cl                      4.930381e-30\n",
      "ls_gp                         4.930381e-30\n",
      "ls_gp_cl                      4.930381e-30\n",
      "ls_nw                         4.930381e-30\n",
      "ls_nd                         4.930381e-30\n",
      "ld_gps5_od                    4.930381e-30\n",
      "ld_gps5_rc                    4.930381e-30\n",
      "ld_gps5_xc                    4.930381e-30\n",
      "ld_add5_od                    4.930381e-30\n",
      "ld_add5_rc                    4.930381e-30\n",
      "ld_add5_xc_ml                 6.162076e-03\n",
      "ld_add5_xc_m                  2.933000e-03\n",
      "lp_p1_ld_add5_od              4.930381e-30\n",
      "lp_p1_ld_add5_rc              4.930381e-30\n",
      "lp_p1_ld_add5_xc_ml           4.930381e-30\n",
      "lp_p1_ld_add5_xc_m            2.122067e-04\n",
      "cg_add5                       4.930381e-30\n",
      "bs_gps5                       4.930381e-30\n",
      "bs_add5_id6plus_dist_c        4.930381e-30\n",
      "bs_add5_id6plus_dist_vf       4.003304e-03\n",
      "bs_add5_id6plus_dist_vc       4.930381e-30\n",
      "bs_add5_id6plus_dist_f        4.930381e-30\n",
      "lp_p1_ld_idnbr_6plus_xcp      4.930381e-30\n",
      "lp_p1_vl_idnbr                4.930381e-30\n",
      "bd_addr_abn_apply             4.930381e-30\n",
      "bd_gps5_abn_apply             4.930381e-30\n",
      "bd_addr_abn_spend             4.930381e-30\n",
      "bd_gps5_abn_spend             4.930381e-30\n",
      "dist_gps5_abn_beh             4.930381e-30\n",
      "dist_gps5_abn_spend           4.930381e-30\n",
      "dtype: float64\n"
     ]
    }
   ],
   "source": [
    "#先平均分组看各变量的IV值\n",
    "num_iv = pd.Series()\n",
    "columns=list(data_form.columns)\n",
    "for c in range(1,len(columns)):\n",
    "         num_iv = num_iv.append(variable_binning(data_form, target,columns[c], 5,'iv'))\n",
    "print(num_iv)"
   ]
  },
  {
   "cell_type": "markdown",
   "metadata": {
    "collapsed": true
   },
   "source": [
    "## 逐个变量分组观察IV、占比、分组比例"
   ]
  },
  {
   "cell_type": "code",
   "execution_count": 538,
   "metadata": {
    "collapsed": false,
    "scrolled": true
   },
   "outputs": [
    {
     "name": "stderr",
     "output_type": "stream",
     "text": [
      "C:\\Users\\xiongjun\\AppData\\Local\\Continuum\\Anaconda3\\lib\\site-packages\\pandas\\core\\generic.py:3295: SettingWithCopyWarning: \n",
      "A value is trying to be set on a copy of a slice from a DataFrame\n",
      "\n",
      "See the caveats in the documentation: http://pandas.pydata.org/pandas-docs/stable/indexing.html#indexing-view-versus-copy\n",
      "  self._update_inplace(new_data)\n",
      "C:\\Users\\xiongjun\\sc_func.py:124: SettingWithCopyWarning: \n",
      "A value is trying to be set on a copy of a slice from a DataFrame.\n",
      "Try using .loc[row_indexer,col_indexer] = value instead\n",
      "\n",
      "See the caveats in the documentation: http://pandas.pydata.org/pandas-docs/stable/indexing.html#indexing-view-versus-copy\n",
      "  df['qt_binning'] = var_bins_series(df[var], bins, side = side)\n"
     ]
    },
    {
     "data": {
      "image/png": "[encoded data removed]",
      "text/plain": [
       "<matplotlib.figure.Figure at 0x69e7470>"
      ]
     },
     "metadata": {},
     "output_type": "display_data"
    },
    {
     "name": "stdout",
     "output_type": "stream",
     "text": [
      "cs_size_s_ctn_l_rel_m 变量的IV值为 0.004573383695258446\n"
     ]
    },
    {
     "data": {
      "text/html": [
       "<div>\n",
       "<table border=\"1\" class=\"dataframe\">\n",
       "  <thead>\n",
       "    <tr style=\"text-align: right;\">\n",
       "      <th></th>\n",
       "      <th>Lbound</th>\n",
       "      <th>Ubound</th>\n",
       "      <th>Totalcnt</th>\n",
       "      <th>PctTotal</th>\n",
       "      <th>Y_count</th>\n",
       "      <th>n_Y_count</th>\n",
       "      <th>Y_pct</th>\n",
       "      <th>n_Y_pct</th>\n",
       "      <th>Y_rate</th>\n",
       "      <th>WOE</th>\n",
       "      <th>IV</th>\n",
       "    </tr>\n",
       "    <tr>\n",
       "      <th>qt_binning</th>\n",
       "      <th></th>\n",
       "      <th></th>\n",
       "      <th></th>\n",
       "      <th></th>\n",
       "      <th></th>\n",
       "      <th></th>\n",
       "      <th></th>\n",
       "      <th></th>\n",
       "      <th></th>\n",
       "      <th></th>\n",
       "      <th></th>\n",
       "    </tr>\n",
       "  </thead>\n",
       "  <tbody>\n",
       "    <tr>\n",
       "      <th>(-inf, 0]</th>\n",
       "      <td>0</td>\n",
       "      <td>0</td>\n",
       "      <td>4282</td>\n",
       "      <td>0.959015</td>\n",
       "      <td>350</td>\n",
       "      <td>3932</td>\n",
       "      <td>0.945946</td>\n",
       "      <td>0.960195</td>\n",
       "      <td>0.081738</td>\n",
       "      <td>-0.014951</td>\n",
       "      <td>0.000213</td>\n",
       "    </tr>\n",
       "    <tr>\n",
       "      <th>(0, 1]</th>\n",
       "      <td>1</td>\n",
       "      <td>1</td>\n",
       "      <td>183</td>\n",
       "      <td>0.040985</td>\n",
       "      <td>20</td>\n",
       "      <td>163</td>\n",
       "      <td>0.054054</td>\n",
       "      <td>0.039805</td>\n",
       "      <td>0.109290</td>\n",
       "      <td>0.306001</td>\n",
       "      <td>0.004360</td>\n",
       "    </tr>\n",
       "  </tbody>\n",
       "</table>\n",
       "</div>"
      ],
      "text/plain": [
       "            Lbound  Ubound  Totalcnt  PctTotal  Y_count  n_Y_count     Y_pct  \\\n",
       "qt_binning                                                                     \n",
       "(-inf, 0]        0       0      4282  0.959015      350       3932  0.945946   \n",
       "(0, 1]           1       1       183  0.040985       20        163  0.054054   \n",
       "\n",
       "             n_Y_pct    Y_rate       WOE        IV  \n",
       "qt_binning                                          \n",
       "(-inf, 0]   0.960195  0.081738 -0.014951  0.000213  \n",
       "(0, 1]      0.039805  0.109290  0.306001  0.004360  "
      ]
     },
     "execution_count": 538,
     "metadata": {},
     "output_type": "execute_result"
    }
   ],
   "source": [
    "var_name = 'cs_size_s_ctn_l_rel_m' #变量\n",
    "var_bin = variable_binning(data_form, target, var_name, [0,1], 'bins')\n",
    "binning_plot(var_bin)\n",
    "print(var_name,'变量的IV值为',var_bin['IV'].sum())\n",
    "var_bin_cs=var_bin['WOE']\n",
    "var_bin.sort_values('Lbound')\n"
   ]
  },
  {
   "cell_type": "code",
   "execution_count": 539,
   "metadata": {
    "collapsed": false,
    "scrolled": false
   },
   "outputs": [
    {
     "name": "stderr",
     "output_type": "stream",
     "text": [
      "C:\\Users\\xiongjun\\AppData\\Local\\Continuum\\Anaconda3\\lib\\site-packages\\pandas\\core\\generic.py:3295: SettingWithCopyWarning: \n",
      "A value is trying to be set on a copy of a slice from a DataFrame\n",
      "\n",
      "See the caveats in the documentation: http://pandas.pydata.org/pandas-docs/stable/indexing.html#indexing-view-versus-copy\n",
      "  self._update_inplace(new_data)\n",
      "C:\\Users\\xiongjun\\sc_func.py:124: SettingWithCopyWarning: \n",
      "A value is trying to be set on a copy of a slice from a DataFrame.\n",
      "Try using .loc[row_indexer,col_indexer] = value instead\n",
      "\n",
      "See the caveats in the documentation: http://pandas.pydata.org/pandas-docs/stable/indexing.html#indexing-view-versus-copy\n",
      "  df['qt_binning'] = var_bins_series(df[var], bins, side = side)\n"
     ]
    },
    {
     "data": {
      "image/png": "[encoded data removed]",
      "text/plain": [
       "<matplotlib.figure.Figure at 0xa125438>"
      ]
     },
     "metadata": {},
     "output_type": "display_data"
    },
    {
     "name": "stdout",
     "output_type": "stream",
     "text": [
      "cg_add5 变量的IV值为 0.0029246464114060945\n"
     ]
    },
    {
     "data": {
      "text/html": [
       "<div>\n",
       "<table border=\"1\" class=\"dataframe\">\n",
       "  <thead>\n",
       "    <tr style=\"text-align: right;\">\n",
       "      <th></th>\n",
       "      <th>Lbound</th>\n",
       "      <th>Ubound</th>\n",
       "      <th>Totalcnt</th>\n",
       "      <th>PctTotal</th>\n",
       "      <th>Y_count</th>\n",
       "      <th>n_Y_count</th>\n",
       "      <th>Y_pct</th>\n",
       "      <th>n_Y_pct</th>\n",
       "      <th>Y_rate</th>\n",
       "      <th>WOE</th>\n",
       "      <th>IV</th>\n",
       "    </tr>\n",
       "    <tr>\n",
       "      <th>qt_binning</th>\n",
       "      <th></th>\n",
       "      <th></th>\n",
       "      <th></th>\n",
       "      <th></th>\n",
       "      <th></th>\n",
       "      <th></th>\n",
       "      <th></th>\n",
       "      <th></th>\n",
       "      <th></th>\n",
       "      <th></th>\n",
       "      <th></th>\n",
       "    </tr>\n",
       "  </thead>\n",
       "  <tbody>\n",
       "    <tr>\n",
       "      <th>(-inf, 0]</th>\n",
       "      <td>0</td>\n",
       "      <td>0</td>\n",
       "      <td>4367</td>\n",
       "      <td>0.978052</td>\n",
       "      <td>359</td>\n",
       "      <td>4008</td>\n",
       "      <td>0.97027</td>\n",
       "      <td>0.978755</td>\n",
       "      <td>0.082207</td>\n",
       "      <td>-0.008706</td>\n",
       "      <td>0.000074</td>\n",
       "    </tr>\n",
       "    <tr>\n",
       "      <th>(0, +inf)</th>\n",
       "      <td>1</td>\n",
       "      <td>1</td>\n",
       "      <td>98</td>\n",
       "      <td>0.021948</td>\n",
       "      <td>11</td>\n",
       "      <td>87</td>\n",
       "      <td>0.02973</td>\n",
       "      <td>0.021245</td>\n",
       "      <td>0.112245</td>\n",
       "      <td>0.336006</td>\n",
       "      <td>0.002851</td>\n",
       "    </tr>\n",
       "  </tbody>\n",
       "</table>\n",
       "</div>"
      ],
      "text/plain": [
       "            Lbound  Ubound  Totalcnt  PctTotal  Y_count  n_Y_count    Y_pct  \\\n",
       "qt_binning                                                                    \n",
       "(-inf, 0]        0       0      4367  0.978052      359       4008  0.97027   \n",
       "(0, +inf)        1       1        98  0.021948       11         87  0.02973   \n",
       "\n",
       "             n_Y_pct    Y_rate       WOE        IV  \n",
       "qt_binning                                          \n",
       "(-inf, 0]   0.978755  0.082207 -0.008706  0.000074  \n",
       "(0, +inf)   0.021245  0.112245  0.336006  0.002851  "
      ]
     },
     "execution_count": 539,
     "metadata": {},
     "output_type": "execute_result"
    }
   ],
   "source": [
    "var_name = 'cg_add5' #变量\n",
    "var_bin = variable_binning(data_form, target, var_name, [0], 'bins')\n",
    "binning_plot(var_bin)\n",
    "print(var_name,'变量的IV值为',var_bin['IV'].sum())\n",
    "var_bin_od=var_bin['WOE']\n",
    "var_bin.sort_values('Lbound')\n"
   ]
  },
  {
   "cell_type": "code",
   "execution_count": 541,
   "metadata": {
    "collapsed": false,
    "scrolled": false
   },
   "outputs": [
    {
     "name": "stderr",
     "output_type": "stream",
     "text": [
      "C:\\Users\\xiongjun\\AppData\\Local\\Continuum\\Anaconda3\\lib\\site-packages\\pandas\\core\\generic.py:3295: SettingWithCopyWarning: \n",
      "A value is trying to be set on a copy of a slice from a DataFrame\n",
      "\n",
      "See the caveats in the documentation: http://pandas.pydata.org/pandas-docs/stable/indexing.html#indexing-view-versus-copy\n",
      "  self._update_inplace(new_data)\n",
      "C:\\Users\\xiongjun\\sc_func.py:124: SettingWithCopyWarning: \n",
      "A value is trying to be set on a copy of a slice from a DataFrame.\n",
      "Try using .loc[row_indexer,col_indexer] = value instead\n",
      "\n",
      "See the caveats in the documentation: http://pandas.pydata.org/pandas-docs/stable/indexing.html#indexing-view-versus-copy\n",
      "  df['qt_binning'] = var_bins_series(df[var], bins, side = side)\n"
     ]
    },
    {
     "data": {
      "image/png": "[encoded data removed]",
      "text/plain": [
       "<matplotlib.figure.Figure at 0xc84eb70>"
      ]
     },
     "metadata": {},
     "output_type": "display_data"
    },
    {
     "name": "stdout",
     "output_type": "stream",
     "text": [
      "lp_p1_xc_overloan 变量的IV值为 0.00956140593837055\n"
     ]
    },
    {
     "data": {
      "text/html": [
       "<div>\n",
       "<table border=\"1\" class=\"dataframe\">\n",
       "  <thead>\n",
       "    <tr style=\"text-align: right;\">\n",
       "      <th></th>\n",
       "      <th>Lbound</th>\n",
       "      <th>Ubound</th>\n",
       "      <th>Totalcnt</th>\n",
       "      <th>PctTotal</th>\n",
       "      <th>Y_count</th>\n",
       "      <th>n_Y_count</th>\n",
       "      <th>Y_pct</th>\n",
       "      <th>n_Y_pct</th>\n",
       "      <th>Y_rate</th>\n",
       "      <th>WOE</th>\n",
       "      <th>IV</th>\n",
       "    </tr>\n",
       "    <tr>\n",
       "      <th>qt_binning</th>\n",
       "      <th></th>\n",
       "      <th></th>\n",
       "      <th></th>\n",
       "      <th></th>\n",
       "      <th></th>\n",
       "      <th></th>\n",
       "      <th></th>\n",
       "      <th></th>\n",
       "      <th></th>\n",
       "      <th></th>\n",
       "      <th></th>\n",
       "    </tr>\n",
       "  </thead>\n",
       "  <tbody>\n",
       "    <tr>\n",
       "      <th>(-inf, 0]</th>\n",
       "      <td>0</td>\n",
       "      <td>0</td>\n",
       "      <td>4417</td>\n",
       "      <td>0.98925</td>\n",
       "      <td>362</td>\n",
       "      <td>4055</td>\n",
       "      <td>0.978378</td>\n",
       "      <td>0.990232</td>\n",
       "      <td>0.081956</td>\n",
       "      <td>-0.012043</td>\n",
       "      <td>0.000143</td>\n",
       "    </tr>\n",
       "    <tr>\n",
       "      <th>(0, +inf)</th>\n",
       "      <td>1</td>\n",
       "      <td>1</td>\n",
       "      <td>48</td>\n",
       "      <td>0.01075</td>\n",
       "      <td>8</td>\n",
       "      <td>40</td>\n",
       "      <td>0.021622</td>\n",
       "      <td>0.009768</td>\n",
       "      <td>0.166667</td>\n",
       "      <td>0.794581</td>\n",
       "      <td>0.009419</td>\n",
       "    </tr>\n",
       "  </tbody>\n",
       "</table>\n",
       "</div>"
      ],
      "text/plain": [
       "            Lbound  Ubound  Totalcnt  PctTotal  Y_count  n_Y_count     Y_pct  \\\n",
       "qt_binning                                                                     \n",
       "(-inf, 0]        0       0      4417   0.98925      362       4055  0.978378   \n",
       "(0, +inf)        1       1        48   0.01075        8         40  0.021622   \n",
       "\n",
       "             n_Y_pct    Y_rate       WOE        IV  \n",
       "qt_binning                                          \n",
       "(-inf, 0]   0.990232  0.081956 -0.012043  0.000143  \n",
       "(0, +inf)   0.009768  0.166667  0.794581  0.009419  "
      ]
     },
     "execution_count": 541,
     "metadata": {},
     "output_type": "execute_result"
    }
   ],
   "source": [
    "var_name = 'lp_p1_xc_overloan' #变量\n",
    "var_bin = variable_binning(data_form, target, var_name, [0], 'bins')\n",
    "binning_plot(var_bin)\n",
    "print(var_name,'变量的IV值为',var_bin['IV'].sum())\n",
    "var_bin_xc_behavior=var_bin['WOE']\n",
    "var_bin.sort_values('Lbound')\n"
   ]
  },
  {
   "cell_type": "code",
   "execution_count": 542,
   "metadata": {
    "collapsed": false,
    "scrolled": true
   },
   "outputs": [
    {
     "name": "stderr",
     "output_type": "stream",
     "text": [
      "C:\\Users\\xiongjun\\AppData\\Local\\Continuum\\Anaconda3\\lib\\site-packages\\pandas\\core\\generic.py:3295: SettingWithCopyWarning: \n",
      "A value is trying to be set on a copy of a slice from a DataFrame\n",
      "\n",
      "See the caveats in the documentation: http://pandas.pydata.org/pandas-docs/stable/indexing.html#indexing-view-versus-copy\n",
      "  self._update_inplace(new_data)\n",
      "C:\\Users\\xiongjun\\sc_func.py:124: SettingWithCopyWarning: \n",
      "A value is trying to be set on a copy of a slice from a DataFrame.\n",
      "Try using .loc[row_indexer,col_indexer] = value instead\n",
      "\n",
      "See the caveats in the documentation: http://pandas.pydata.org/pandas-docs/stable/indexing.html#indexing-view-versus-copy\n",
      "  df['qt_binning'] = var_bins_series(df[var], bins, side = side)\n"
     ]
    },
    {
     "data": {
      "image/png": "[encoded data removed]",
      "text/plain": [
       "<matplotlib.figure.Figure at 0xc84eb70>"
      ]
     },
     "metadata": {},
     "output_type": "display_data"
    },
    {
     "name": "stdout",
     "output_type": "stream",
     "text": [
      "ld_add5_rc 变量的IV值为 0.0015214951092035402\n"
     ]
    },
    {
     "data": {
      "text/html": [
       "<div>\n",
       "<table border=\"1\" class=\"dataframe\">\n",
       "  <thead>\n",
       "    <tr style=\"text-align: right;\">\n",
       "      <th></th>\n",
       "      <th>Lbound</th>\n",
       "      <th>Ubound</th>\n",
       "      <th>Totalcnt</th>\n",
       "      <th>PctTotal</th>\n",
       "      <th>Y_count</th>\n",
       "      <th>n_Y_count</th>\n",
       "      <th>Y_pct</th>\n",
       "      <th>n_Y_pct</th>\n",
       "      <th>Y_rate</th>\n",
       "      <th>WOE</th>\n",
       "      <th>IV</th>\n",
       "    </tr>\n",
       "    <tr>\n",
       "      <th>qt_binning</th>\n",
       "      <th></th>\n",
       "      <th></th>\n",
       "      <th></th>\n",
       "      <th></th>\n",
       "      <th></th>\n",
       "      <th></th>\n",
       "      <th></th>\n",
       "      <th></th>\n",
       "      <th></th>\n",
       "      <th></th>\n",
       "      <th></th>\n",
       "    </tr>\n",
       "  </thead>\n",
       "  <tbody>\n",
       "    <tr>\n",
       "      <th>(-inf, 0]</th>\n",
       "      <td>0</td>\n",
       "      <td>0</td>\n",
       "      <td>4451</td>\n",
       "      <td>0.996865</td>\n",
       "      <td>368</td>\n",
       "      <td>4083</td>\n",
       "      <td>0.994595</td>\n",
       "      <td>0.99707</td>\n",
       "      <td>0.082678</td>\n",
       "      <td>-0.002485</td>\n",
       "      <td>0.000006</td>\n",
       "    </tr>\n",
       "    <tr>\n",
       "      <th>(0, +inf)</th>\n",
       "      <td>1</td>\n",
       "      <td>1</td>\n",
       "      <td>14</td>\n",
       "      <td>0.003135</td>\n",
       "      <td>2</td>\n",
       "      <td>12</td>\n",
       "      <td>0.005405</td>\n",
       "      <td>0.00293</td>\n",
       "      <td>0.142857</td>\n",
       "      <td>0.612260</td>\n",
       "      <td>0.001515</td>\n",
       "    </tr>\n",
       "  </tbody>\n",
       "</table>\n",
       "</div>"
      ],
      "text/plain": [
       "            Lbound  Ubound  Totalcnt  PctTotal  Y_count  n_Y_count     Y_pct  \\\n",
       "qt_binning                                                                     \n",
       "(-inf, 0]        0       0      4451  0.996865      368       4083  0.994595   \n",
       "(0, +inf)        1       1        14  0.003135        2         12  0.005405   \n",
       "\n",
       "            n_Y_pct    Y_rate       WOE        IV  \n",
       "qt_binning                                         \n",
       "(-inf, 0]   0.99707  0.082678 -0.002485  0.000006  \n",
       "(0, +inf)   0.00293  0.142857  0.612260  0.001515  "
      ]
     },
     "execution_count": 542,
     "metadata": {},
     "output_type": "execute_result"
    }
   ],
   "source": [
    "var_name = 'ld_add5_rc' #变量\n",
    "var_bin = variable_binning(data_form, target, var_name, [0], 'bins')\n",
    "binning_plot(var_bin)\n",
    "print(var_name,'变量的IV值为',var_bin['IV'].sum())\n",
    "var_bin_xc_overloan=var_bin['WOE']\n",
    "var_bin.sort_values('Lbound')"
   ]
  },
  {
   "cell_type": "code",
   "execution_count": 543,
   "metadata": {
    "collapsed": false,
    "scrolled": true
   },
   "outputs": [
    {
     "name": "stderr",
     "output_type": "stream",
     "text": [
      "C:\\Users\\xiongjun\\AppData\\Local\\Continuum\\Anaconda3\\lib\\site-packages\\pandas\\core\\generic.py:3295: SettingWithCopyWarning: \n",
      "A value is trying to be set on a copy of a slice from a DataFrame\n",
      "\n",
      "See the caveats in the documentation: http://pandas.pydata.org/pandas-docs/stable/indexing.html#indexing-view-versus-copy\n",
      "  self._update_inplace(new_data)\n",
      "C:\\Users\\xiongjun\\sc_func.py:124: SettingWithCopyWarning: \n",
      "A value is trying to be set on a copy of a slice from a DataFrame.\n",
      "Try using .loc[row_indexer,col_indexer] = value instead\n",
      "\n",
      "See the caveats in the documentation: http://pandas.pydata.org/pandas-docs/stable/indexing.html#indexing-view-versus-copy\n",
      "  df['qt_binning'] = var_bins_series(df[var], bins, side = side)\n"
     ]
    },
    {
     "data": {
      "image/png": "[encoded data removed]",
      "text/plain": [
       "<matplotlib.figure.Figure at 0xab17a20>"
      ]
     },
     "metadata": {},
     "output_type": "display_data"
    },
    {
     "name": "stdout",
     "output_type": "stream",
     "text": [
      "ls_nd 变量的IV值为 0.07909297328395969\n"
     ]
    },
    {
     "data": {
      "text/html": [
       "<div>\n",
       "<table border=\"1\" class=\"dataframe\">\n",
       "  <thead>\n",
       "    <tr style=\"text-align: right;\">\n",
       "      <th></th>\n",
       "      <th>Lbound</th>\n",
       "      <th>Ubound</th>\n",
       "      <th>Totalcnt</th>\n",
       "      <th>PctTotal</th>\n",
       "      <th>Y_count</th>\n",
       "      <th>n_Y_count</th>\n",
       "      <th>Y_pct</th>\n",
       "      <th>n_Y_pct</th>\n",
       "      <th>Y_rate</th>\n",
       "      <th>WOE</th>\n",
       "      <th>IV</th>\n",
       "    </tr>\n",
       "    <tr>\n",
       "      <th>qt_binning</th>\n",
       "      <th></th>\n",
       "      <th></th>\n",
       "      <th></th>\n",
       "      <th></th>\n",
       "      <th></th>\n",
       "      <th></th>\n",
       "      <th></th>\n",
       "      <th></th>\n",
       "      <th></th>\n",
       "      <th></th>\n",
       "      <th></th>\n",
       "    </tr>\n",
       "  </thead>\n",
       "  <tbody>\n",
       "    <tr>\n",
       "      <th>(-inf, 0]</th>\n",
       "      <td>0</td>\n",
       "      <td>0</td>\n",
       "      <td>3845</td>\n",
       "      <td>0.861142</td>\n",
       "      <td>347</td>\n",
       "      <td>3498</td>\n",
       "      <td>0.937838</td>\n",
       "      <td>0.854212</td>\n",
       "      <td>0.090247</td>\n",
       "      <td>0.093397</td>\n",
       "      <td>0.007810</td>\n",
       "    </tr>\n",
       "    <tr>\n",
       "      <th>(0, +inf)</th>\n",
       "      <td>1</td>\n",
       "      <td>1</td>\n",
       "      <td>620</td>\n",
       "      <td>0.138858</td>\n",
       "      <td>23</td>\n",
       "      <td>597</td>\n",
       "      <td>0.062162</td>\n",
       "      <td>0.145788</td>\n",
       "      <td>0.037097</td>\n",
       "      <td>-0.852404</td>\n",
       "      <td>0.071283</td>\n",
       "    </tr>\n",
       "  </tbody>\n",
       "</table>\n",
       "</div>"
      ],
      "text/plain": [
       "            Lbound  Ubound  Totalcnt  PctTotal  Y_count  n_Y_count     Y_pct  \\\n",
       "qt_binning                                                                     \n",
       "(-inf, 0]        0       0      3845  0.861142      347       3498  0.937838   \n",
       "(0, +inf)        1       1       620  0.138858       23        597  0.062162   \n",
       "\n",
       "             n_Y_pct    Y_rate       WOE        IV  \n",
       "qt_binning                                          \n",
       "(-inf, 0]   0.854212  0.090247  0.093397  0.007810  \n",
       "(0, +inf)   0.145788  0.037097 -0.852404  0.071283  "
      ]
     },
     "execution_count": 543,
     "metadata": {},
     "output_type": "execute_result"
    }
   ],
   "source": [
    "var_name = 'ls_nd' #变量\n",
    "var_bin = variable_binning(data_form, target, var_name, [0], 'bins')\n",
    "binning_plot(var_bin)\n",
    "print(var_name,'变量的IV值为',var_bin['IV'].sum())\n",
    "var_bin_xc_overdue=var_bin['WOE']\n",
    "var_bin.sort_values('Lbound')"
   ]
  },
  {
   "cell_type": "code",
   "execution_count": 546,
   "metadata": {
    "collapsed": false,
    "scrolled": false
   },
   "outputs": [
    {
     "name": "stderr",
     "output_type": "stream",
     "text": [
      "C:\\Users\\xiongjun\\AppData\\Local\\Continuum\\Anaconda3\\lib\\site-packages\\pandas\\core\\generic.py:3295: SettingWithCopyWarning: \n",
      "A value is trying to be set on a copy of a slice from a DataFrame\n",
      "\n",
      "See the caveats in the documentation: http://pandas.pydata.org/pandas-docs/stable/indexing.html#indexing-view-versus-copy\n",
      "  self._update_inplace(new_data)\n",
      "C:\\Users\\xiongjun\\sc_func.py:124: SettingWithCopyWarning: \n",
      "A value is trying to be set on a copy of a slice from a DataFrame.\n",
      "Try using .loc[row_indexer,col_indexer] = value instead\n",
      "\n",
      "See the caveats in the documentation: http://pandas.pydata.org/pandas-docs/stable/indexing.html#indexing-view-versus-copy\n",
      "  df['qt_binning'] = var_bins_series(df[var], bins, side = side)\n"
     ]
    },
    {
     "data": {
      "image/png": "[encoded data removed]",
      "text/plain": [
       "<matplotlib.figure.Figure at 0xc84eb70>"
      ]
     },
     "metadata": {},
     "output_type": "display_data"
    },
    {
     "name": "stdout",
     "output_type": "stream",
     "text": [
      "bs_add5_id6plus_dist_vf 变量的IV值为 0.002594272901707937\n"
     ]
    },
    {
     "data": {
      "text/html": [
       "<div>\n",
       "<table border=\"1\" class=\"dataframe\">\n",
       "  <thead>\n",
       "    <tr style=\"text-align: right;\">\n",
       "      <th></th>\n",
       "      <th>Lbound</th>\n",
       "      <th>Ubound</th>\n",
       "      <th>Totalcnt</th>\n",
       "      <th>PctTotal</th>\n",
       "      <th>Y_count</th>\n",
       "      <th>n_Y_count</th>\n",
       "      <th>Y_pct</th>\n",
       "      <th>n_Y_pct</th>\n",
       "      <th>Y_rate</th>\n",
       "      <th>WOE</th>\n",
       "      <th>IV</th>\n",
       "    </tr>\n",
       "    <tr>\n",
       "      <th>qt_binning</th>\n",
       "      <th></th>\n",
       "      <th></th>\n",
       "      <th></th>\n",
       "      <th></th>\n",
       "      <th></th>\n",
       "      <th></th>\n",
       "      <th></th>\n",
       "      <th></th>\n",
       "      <th></th>\n",
       "      <th></th>\n",
       "      <th></th>\n",
       "    </tr>\n",
       "  </thead>\n",
       "  <tbody>\n",
       "    <tr>\n",
       "      <th>(-inf, 0]</th>\n",
       "      <td>0</td>\n",
       "      <td>0</td>\n",
       "      <td>3467</td>\n",
       "      <td>0.776484</td>\n",
       "      <td>280</td>\n",
       "      <td>3187</td>\n",
       "      <td>0.756757</td>\n",
       "      <td>0.778266</td>\n",
       "      <td>0.080761</td>\n",
       "      <td>-0.028027</td>\n",
       "      <td>0.000603</td>\n",
       "    </tr>\n",
       "    <tr>\n",
       "      <th>(0, +inf)</th>\n",
       "      <td>1</td>\n",
       "      <td>1</td>\n",
       "      <td>998</td>\n",
       "      <td>0.223516</td>\n",
       "      <td>90</td>\n",
       "      <td>908</td>\n",
       "      <td>0.243243</td>\n",
       "      <td>0.221734</td>\n",
       "      <td>0.090180</td>\n",
       "      <td>0.092584</td>\n",
       "      <td>0.001991</td>\n",
       "    </tr>\n",
       "  </tbody>\n",
       "</table>\n",
       "</div>"
      ],
      "text/plain": [
       "            Lbound  Ubound  Totalcnt  PctTotal  Y_count  n_Y_count     Y_pct  \\\n",
       "qt_binning                                                                     \n",
       "(-inf, 0]        0       0      3467  0.776484      280       3187  0.756757   \n",
       "(0, +inf)        1       1       998  0.223516       90        908  0.243243   \n",
       "\n",
       "             n_Y_pct    Y_rate       WOE        IV  \n",
       "qt_binning                                          \n",
       "(-inf, 0]   0.778266  0.080761 -0.028027  0.000603  \n",
       "(0, +inf)   0.221734  0.090180  0.092584  0.001991  "
      ]
     },
     "execution_count": 546,
     "metadata": {},
     "output_type": "execute_result"
    }
   ],
   "source": [
    "var_name = 'bs_add5_id6plus_dist_vf' #变量\n",
    "var_bin = variable_binning(data_form, target, var_name, [0], 'bins')\n",
    "binning_plot(var_bin)\n",
    "print(var_name,'变量的IV值为',var_bin['IV'].sum())\n",
    "var_bin_xc_record=var_bin['WOE']\n",
    "var_bin.sort_values('Lbound')"
   ]
  },
  {
   "cell_type": "code",
   "execution_count": 33,
   "metadata": {
    "collapsed": false,
    "scrolled": true
   },
   "outputs": [
    {
     "name": "stderr",
     "output_type": "stream",
     "text": [
      "C:\\Users\\xiongjun\\AppData\\Local\\Continuum\\Anaconda3\\lib\\site-packages\\pandas\\core\\generic.py:3295: SettingWithCopyWarning: \n",
      "A value is trying to be set on a copy of a slice from a DataFrame\n",
      "\n",
      "See the caveats in the documentation: http://pandas.pydata.org/pandas-docs/stable/indexing.html#indexing-view-versus-copy\n",
      "  self._update_inplace(new_data)\n",
      "C:\\Users\\xiongjun\\sc_func.py:124: SettingWithCopyWarning: \n",
      "A value is trying to be set on a copy of a slice from a DataFrame.\n",
      "Try using .loc[row_indexer,col_indexer] = value instead\n",
      "\n",
      "See the caveats in the documentation: http://pandas.pydata.org/pandas-docs/stable/indexing.html#indexing-view-versus-copy\n",
      "  df['qt_binning'] = var_bins_series(df[var], bins, side = side)\n"
     ]
    },
    {
     "data": {
      "image/png": "[encoded data removed]",
      "text/plain": [
       "<matplotlib.figure.Figure at 0x27371d0>"
      ]
     },
     "metadata": {},
     "output_type": "display_data"
    },
    {
     "name": "stdout",
     "output_type": "stream",
     "text": [
      "ls_cr 变量的IV值为 0.09411972808235165\n"
     ]
    },
    {
     "data": {
      "text/html": [
       "<div>\n",
       "<table border=\"1\" class=\"dataframe\">\n",
       "  <thead>\n",
       "    <tr style=\"text-align: right;\">\n",
       "      <th></th>\n",
       "      <th>Lbound</th>\n",
       "      <th>Ubound</th>\n",
       "      <th>Totalcnt</th>\n",
       "      <th>PctTotal</th>\n",
       "      <th>Y_count</th>\n",
       "      <th>n_Y_count</th>\n",
       "      <th>Y_pct</th>\n",
       "      <th>n_Y_pct</th>\n",
       "      <th>Y_rate</th>\n",
       "      <th>WOE</th>\n",
       "      <th>IV</th>\n",
       "    </tr>\n",
       "    <tr>\n",
       "      <th>qt_binning</th>\n",
       "      <th></th>\n",
       "      <th></th>\n",
       "      <th></th>\n",
       "      <th></th>\n",
       "      <th></th>\n",
       "      <th></th>\n",
       "      <th></th>\n",
       "      <th></th>\n",
       "      <th></th>\n",
       "      <th></th>\n",
       "      <th></th>\n",
       "    </tr>\n",
       "  </thead>\n",
       "  <tbody>\n",
       "    <tr>\n",
       "      <th>(-inf, 0]</th>\n",
       "      <td>0</td>\n",
       "      <td>0</td>\n",
       "      <td>8718</td>\n",
       "      <td>0.990457</td>\n",
       "      <td>557</td>\n",
       "      <td>8161</td>\n",
       "      <td>1.000000</td>\n",
       "      <td>0.989812</td>\n",
       "      <td>0.063891</td>\n",
       "      <td>0.010240</td>\n",
       "      <td>0.000104</td>\n",
       "    </tr>\n",
       "    <tr>\n",
       "      <th>(0, +inf)</th>\n",
       "      <td>1</td>\n",
       "      <td>1</td>\n",
       "      <td>84</td>\n",
       "      <td>0.009543</td>\n",
       "      <td>0</td>\n",
       "      <td>84</td>\n",
       "      <td>0.000001</td>\n",
       "      <td>0.010188</td>\n",
       "      <td>0.000000</td>\n",
       "      <td>-9.228965</td>\n",
       "      <td>0.094015</td>\n",
       "    </tr>\n",
       "  </tbody>\n",
       "</table>\n",
       "</div>"
      ],
      "text/plain": [
       "            Lbound  Ubound  Totalcnt  PctTotal  Y_count  n_Y_count     Y_pct  \\\n",
       "qt_binning                                                                     \n",
       "(-inf, 0]        0       0      8718  0.990457      557       8161  1.000000   \n",
       "(0, +inf)        1       1        84  0.009543        0         84  0.000001   \n",
       "\n",
       "             n_Y_pct    Y_rate       WOE        IV  \n",
       "qt_binning                                          \n",
       "(-inf, 0]   0.989812  0.063891  0.010240  0.000104  \n",
       "(0, +inf)   0.010188  0.000000 -9.228965  0.094015  "
      ]
     },
     "execution_count": 33,
     "metadata": {},
     "output_type": "execute_result"
    }
   ],
   "source": [
    "var_name = 'ls_cr' #变量\n",
    "var_bin = variable_binning(data_form, target, var_name, [0], 'bins')\n",
    "binning_plot(var_bin)\n",
    "print(var_name,'变量的IV值为',var_bin['IV'].sum())\n",
    "var_bin_rv=var_bin['WOE']\n",
    "var_bin.sort_values('Lbound')"
   ]
  },
  {
   "cell_type": "code",
   "execution_count": 34,
   "metadata": {
    "collapsed": false,
    "scrolled": true
   },
   "outputs": [
    {
     "name": "stderr",
     "output_type": "stream",
     "text": [
      "C:\\Users\\xiongjun\\AppData\\Local\\Continuum\\Anaconda3\\lib\\site-packages\\pandas\\core\\generic.py:3295: SettingWithCopyWarning: \n",
      "A value is trying to be set on a copy of a slice from a DataFrame\n",
      "\n",
      "See the caveats in the documentation: http://pandas.pydata.org/pandas-docs/stable/indexing.html#indexing-view-versus-copy\n",
      "  self._update_inplace(new_data)\n",
      "C:\\Users\\xiongjun\\sc_func.py:124: SettingWithCopyWarning: \n",
      "A value is trying to be set on a copy of a slice from a DataFrame.\n",
      "Try using .loc[row_indexer,col_indexer] = value instead\n",
      "\n",
      "See the caveats in the documentation: http://pandas.pydata.org/pandas-docs/stable/indexing.html#indexing-view-versus-copy\n",
      "  df['qt_binning'] = var_bins_series(df[var], bins, side = side)\n"
     ]
    },
    {
     "data": {
      "image/png": "[encoded data removed]",
      "text/plain": [
       "<matplotlib.figure.Figure at 0x2737198>"
      ]
     },
     "metadata": {},
     "output_type": "display_data"
    },
    {
     "name": "stdout",
     "output_type": "stream",
     "text": [
      "ls_cr_cl 变量的IV值为 0.004789506468831258\n"
     ]
    },
    {
     "data": {
      "text/html": [
       "<div>\n",
       "<table border=\"1\" class=\"dataframe\">\n",
       "  <thead>\n",
       "    <tr style=\"text-align: right;\">\n",
       "      <th></th>\n",
       "      <th>Lbound</th>\n",
       "      <th>Ubound</th>\n",
       "      <th>Totalcnt</th>\n",
       "      <th>PctTotal</th>\n",
       "      <th>Y_count</th>\n",
       "      <th>n_Y_count</th>\n",
       "      <th>Y_pct</th>\n",
       "      <th>n_Y_pct</th>\n",
       "      <th>Y_rate</th>\n",
       "      <th>WOE</th>\n",
       "      <th>IV</th>\n",
       "    </tr>\n",
       "    <tr>\n",
       "      <th>qt_binning</th>\n",
       "      <th></th>\n",
       "      <th></th>\n",
       "      <th></th>\n",
       "      <th></th>\n",
       "      <th></th>\n",
       "      <th></th>\n",
       "      <th></th>\n",
       "      <th></th>\n",
       "      <th></th>\n",
       "      <th></th>\n",
       "      <th></th>\n",
       "    </tr>\n",
       "  </thead>\n",
       "  <tbody>\n",
       "    <tr>\n",
       "      <th>(-inf, 0]</th>\n",
       "      <td>0</td>\n",
       "      <td>0</td>\n",
       "      <td>8796</td>\n",
       "      <td>0.999318</td>\n",
       "      <td>557</td>\n",
       "      <td>8239</td>\n",
       "      <td>1.000000</td>\n",
       "      <td>0.999272</td>\n",
       "      <td>0.063324</td>\n",
       "      <td>0.000728</td>\n",
       "      <td>5.297601e-07</td>\n",
       "    </tr>\n",
       "    <tr>\n",
       "      <th>(0, +inf)</th>\n",
       "      <td>1</td>\n",
       "      <td>1</td>\n",
       "      <td>6</td>\n",
       "      <td>0.000682</td>\n",
       "      <td>0</td>\n",
       "      <td>6</td>\n",
       "      <td>0.000001</td>\n",
       "      <td>0.000728</td>\n",
       "      <td>0.000000</td>\n",
       "      <td>-6.589908</td>\n",
       "      <td>4.788977e-03</td>\n",
       "    </tr>\n",
       "  </tbody>\n",
       "</table>\n",
       "</div>"
      ],
      "text/plain": [
       "            Lbound  Ubound  Totalcnt  PctTotal  Y_count  n_Y_count     Y_pct  \\\n",
       "qt_binning                                                                     \n",
       "(-inf, 0]        0       0      8796  0.999318      557       8239  1.000000   \n",
       "(0, +inf)        1       1         6  0.000682        0          6  0.000001   \n",
       "\n",
       "             n_Y_pct    Y_rate       WOE            IV  \n",
       "qt_binning                                              \n",
       "(-inf, 0]   0.999272  0.063324  0.000728  5.297601e-07  \n",
       "(0, +inf)   0.000728  0.000000 -6.589908  4.788977e-03  "
      ]
     },
     "execution_count": 34,
     "metadata": {},
     "output_type": "execute_result"
    }
   ],
   "source": [
    "var_name = 'ls_cr_cl' #变量\n",
    "var_bin = variable_binning(data_form, target, var_name, [0], 'bins')\n",
    "binning_plot(var_bin)\n",
    "print(var_name,'变量的IV值为',var_bin['IV'].sum())\n",
    "var_bin.sort_values('Lbound')"
   ]
  },
  {
   "cell_type": "code",
   "execution_count": 35,
   "metadata": {
    "collapsed": false,
    "scrolled": true
   },
   "outputs": [
    {
     "name": "stderr",
     "output_type": "stream",
     "text": [
      "C:\\Users\\xiongjun\\AppData\\Local\\Continuum\\Anaconda3\\lib\\site-packages\\pandas\\core\\generic.py:3295: SettingWithCopyWarning: \n",
      "A value is trying to be set on a copy of a slice from a DataFrame\n",
      "\n",
      "See the caveats in the documentation: http://pandas.pydata.org/pandas-docs/stable/indexing.html#indexing-view-versus-copy\n",
      "  self._update_inplace(new_data)\n",
      "C:\\Users\\xiongjun\\sc_func.py:124: SettingWithCopyWarning: \n",
      "A value is trying to be set on a copy of a slice from a DataFrame.\n",
      "Try using .loc[row_indexer,col_indexer] = value instead\n",
      "\n",
      "See the caveats in the documentation: http://pandas.pydata.org/pandas-docs/stable/indexing.html#indexing-view-versus-copy\n",
      "  df['qt_binning'] = var_bins_series(df[var], bins, side = side)\n"
     ]
    },
    {
     "data": {
      "image/png": "[encoded data removed]",
      "text/plain": [
       "<matplotlib.figure.Figure at 0x27371d0>"
      ]
     },
     "metadata": {},
     "output_type": "display_data"
    },
    {
     "name": "stdout",
     "output_type": "stream",
     "text": [
      "ls_gp 变量的IV值为 0.014687744242890925\n"
     ]
    },
    {
     "data": {
      "text/html": [
       "<div>\n",
       "<table border=\"1\" class=\"dataframe\">\n",
       "  <thead>\n",
       "    <tr style=\"text-align: right;\">\n",
       "      <th></th>\n",
       "      <th>Lbound</th>\n",
       "      <th>Ubound</th>\n",
       "      <th>Totalcnt</th>\n",
       "      <th>PctTotal</th>\n",
       "      <th>Y_count</th>\n",
       "      <th>n_Y_count</th>\n",
       "      <th>Y_pct</th>\n",
       "      <th>n_Y_pct</th>\n",
       "      <th>Y_rate</th>\n",
       "      <th>WOE</th>\n",
       "      <th>IV</th>\n",
       "    </tr>\n",
       "    <tr>\n",
       "      <th>qt_binning</th>\n",
       "      <th></th>\n",
       "      <th></th>\n",
       "      <th></th>\n",
       "      <th></th>\n",
       "      <th></th>\n",
       "      <th></th>\n",
       "      <th></th>\n",
       "      <th></th>\n",
       "      <th></th>\n",
       "      <th></th>\n",
       "      <th></th>\n",
       "    </tr>\n",
       "  </thead>\n",
       "  <tbody>\n",
       "    <tr>\n",
       "      <th>(-inf, 0]</th>\n",
       "      <td>0</td>\n",
       "      <td>0</td>\n",
       "      <td>8786</td>\n",
       "      <td>0.998182</td>\n",
       "      <td>557</td>\n",
       "      <td>8229</td>\n",
       "      <td>1.000000</td>\n",
       "      <td>0.998059</td>\n",
       "      <td>0.063396</td>\n",
       "      <td>0.001942</td>\n",
       "      <td>0.000004</td>\n",
       "    </tr>\n",
       "    <tr>\n",
       "      <th>(0, +inf)</th>\n",
       "      <td>1</td>\n",
       "      <td>1</td>\n",
       "      <td>16</td>\n",
       "      <td>0.001818</td>\n",
       "      <td>0</td>\n",
       "      <td>16</td>\n",
       "      <td>0.000001</td>\n",
       "      <td>0.001941</td>\n",
       "      <td>0.000000</td>\n",
       "      <td>-7.570737</td>\n",
       "      <td>0.014684</td>\n",
       "    </tr>\n",
       "  </tbody>\n",
       "</table>\n",
       "</div>"
      ],
      "text/plain": [
       "            Lbound  Ubound  Totalcnt  PctTotal  Y_count  n_Y_count     Y_pct  \\\n",
       "qt_binning                                                                     \n",
       "(-inf, 0]        0       0      8786  0.998182      557       8229  1.000000   \n",
       "(0, +inf)        1       1        16  0.001818        0         16  0.000001   \n",
       "\n",
       "             n_Y_pct    Y_rate       WOE        IV  \n",
       "qt_binning                                          \n",
       "(-inf, 0]   0.998059  0.063396  0.001942  0.000004  \n",
       "(0, +inf)   0.001941  0.000000 -7.570737  0.014684  "
      ]
     },
     "execution_count": 35,
     "metadata": {},
     "output_type": "execute_result"
    }
   ],
   "source": [
    "var_name = 'ls_gp' #变量\n",
    "var_bin = variable_binning(data_form, target, var_name, [0], 'bins')\n",
    "binning_plot(var_bin)\n",
    "print(var_name,'变量的IV值为',var_bin['IV'].sum())\n",
    "var_bin_ls_cr=var_bin['WOE']\n",
    "var_bin.sort_values('Lbound')"
   ]
  },
  {
   "cell_type": "code",
   "execution_count": 36,
   "metadata": {
    "collapsed": false,
    "scrolled": true
   },
   "outputs": [
    {
     "name": "stderr",
     "output_type": "stream",
     "text": [
      "C:\\Users\\xiongjun\\AppData\\Local\\Continuum\\Anaconda3\\lib\\site-packages\\pandas\\core\\generic.py:3295: SettingWithCopyWarning: \n",
      "A value is trying to be set on a copy of a slice from a DataFrame\n",
      "\n",
      "See the caveats in the documentation: http://pandas.pydata.org/pandas-docs/stable/indexing.html#indexing-view-versus-copy\n",
      "  self._update_inplace(new_data)\n",
      "C:\\Users\\xiongjun\\sc_func.py:124: SettingWithCopyWarning: \n",
      "A value is trying to be set on a copy of a slice from a DataFrame.\n",
      "Try using .loc[row_indexer,col_indexer] = value instead\n",
      "\n",
      "See the caveats in the documentation: http://pandas.pydata.org/pandas-docs/stable/indexing.html#indexing-view-versus-copy\n",
      "  df['qt_binning'] = var_bins_series(df[var], bins, side = side)\n",
      "C:\\Users\\xiongjun\\AppData\\Local\\Continuum\\Anaconda3\\lib\\site-packages\\matplotlib\\axes\\_base.py:2903: UserWarning: Attempting to set identical left==right results\n",
      "in singular transformations; automatically expanding.\n",
      "left=0.0, right=0.0\n",
      "  'left=%s, right=%s') % (left, right))\n"
     ]
    },
    {
     "data": {
      "image/png": "[encoded data removed]",
      "text/plain": [
       "<matplotlib.figure.Figure at 0x27371d0>"
      ]
     },
     "metadata": {},
     "output_type": "display_data"
    },
    {
     "name": "stdout",
     "output_type": "stream",
     "text": [
      "ls_gp_cl 变量的IV值为 4.9303806576313294e-30\n"
     ]
    },
    {
     "data": {
      "text/html": [
       "<div>\n",
       "<table border=\"1\" class=\"dataframe\">\n",
       "  <thead>\n",
       "    <tr style=\"text-align: right;\">\n",
       "      <th></th>\n",
       "      <th>Lbound</th>\n",
       "      <th>Ubound</th>\n",
       "      <th>Totalcnt</th>\n",
       "      <th>PctTotal</th>\n",
       "      <th>Y_count</th>\n",
       "      <th>n_Y_count</th>\n",
       "      <th>Y_pct</th>\n",
       "      <th>n_Y_pct</th>\n",
       "      <th>Y_rate</th>\n",
       "      <th>WOE</th>\n",
       "      <th>IV</th>\n",
       "    </tr>\n",
       "    <tr>\n",
       "      <th>qt_binning</th>\n",
       "      <th></th>\n",
       "      <th></th>\n",
       "      <th></th>\n",
       "      <th></th>\n",
       "      <th></th>\n",
       "      <th></th>\n",
       "      <th></th>\n",
       "      <th></th>\n",
       "      <th></th>\n",
       "      <th></th>\n",
       "      <th></th>\n",
       "    </tr>\n",
       "  </thead>\n",
       "  <tbody>\n",
       "    <tr>\n",
       "      <th>(-inf, 0]</th>\n",
       "      <td>0</td>\n",
       "      <td>0</td>\n",
       "      <td>8802</td>\n",
       "      <td>1.0</td>\n",
       "      <td>557</td>\n",
       "      <td>8245</td>\n",
       "      <td>1.0</td>\n",
       "      <td>1.0</td>\n",
       "      <td>0.063281</td>\n",
       "      <td>-2.220446e-15</td>\n",
       "      <td>4.930381e-30</td>\n",
       "    </tr>\n",
       "  </tbody>\n",
       "</table>\n",
       "</div>"
      ],
      "text/plain": [
       "            Lbound  Ubound  Totalcnt  PctTotal  Y_count  n_Y_count  Y_pct  \\\n",
       "qt_binning                                                                  \n",
       "(-inf, 0]        0       0      8802       1.0      557       8245    1.0   \n",
       "\n",
       "            n_Y_pct    Y_rate           WOE            IV  \n",
       "qt_binning                                                 \n",
       "(-inf, 0]       1.0  0.063281 -2.220446e-15  4.930381e-30  "
      ]
     },
     "execution_count": 36,
     "metadata": {},
     "output_type": "execute_result"
    }
   ],
   "source": [
    "var_name = 'ls_gp_cl' #变量\n",
    "var_bin = variable_binning(data_form, target, var_name, [0], 'bins')\n",
    "binning_plot(var_bin)\n",
    "print(var_name,'变量的IV值为',var_bin['IV'].sum())\n",
    "var_bin_ls_cr_cl=var_bin['WOE']\n",
    "var_bin.sort_values('Lbound')"
   ]
  },
  {
   "cell_type": "code",
   "execution_count": 38,
   "metadata": {
    "collapsed": false,
    "scrolled": true
   },
   "outputs": [
    {
     "name": "stderr",
     "output_type": "stream",
     "text": [
      "C:\\Users\\xiongjun\\AppData\\Local\\Continuum\\Anaconda3\\lib\\site-packages\\pandas\\core\\generic.py:3295: SettingWithCopyWarning: \n",
      "A value is trying to be set on a copy of a slice from a DataFrame\n",
      "\n",
      "See the caveats in the documentation: http://pandas.pydata.org/pandas-docs/stable/indexing.html#indexing-view-versus-copy\n",
      "  self._update_inplace(new_data)\n",
      "C:\\Users\\xiongjun\\sc_func.py:124: SettingWithCopyWarning: \n",
      "A value is trying to be set on a copy of a slice from a DataFrame.\n",
      "Try using .loc[row_indexer,col_indexer] = value instead\n",
      "\n",
      "See the caveats in the documentation: http://pandas.pydata.org/pandas-docs/stable/indexing.html#indexing-view-versus-copy\n",
      "  df['qt_binning'] = var_bins_series(df[var], bins, side = side)\n"
     ]
    },
    {
     "data": {
      "image/png": "[encoded data removed]",
      "text/plain": [
       "<matplotlib.figure.Figure at 0x27371d0>"
      ]
     },
     "metadata": {},
     "output_type": "display_data"
    },
    {
     "name": "stdout",
     "output_type": "stream",
     "text": [
      "ls_nd 变量的IV值为 0.027733901262637407\n"
     ]
    },
    {
     "data": {
      "text/html": [
       "<div>\n",
       "<table border=\"1\" class=\"dataframe\">\n",
       "  <thead>\n",
       "    <tr style=\"text-align: right;\">\n",
       "      <th></th>\n",
       "      <th>Lbound</th>\n",
       "      <th>Ubound</th>\n",
       "      <th>Totalcnt</th>\n",
       "      <th>PctTotal</th>\n",
       "      <th>Y_count</th>\n",
       "      <th>n_Y_count</th>\n",
       "      <th>Y_pct</th>\n",
       "      <th>n_Y_pct</th>\n",
       "      <th>Y_rate</th>\n",
       "      <th>WOE</th>\n",
       "      <th>IV</th>\n",
       "    </tr>\n",
       "    <tr>\n",
       "      <th>qt_binning</th>\n",
       "      <th></th>\n",
       "      <th></th>\n",
       "      <th></th>\n",
       "      <th></th>\n",
       "      <th></th>\n",
       "      <th></th>\n",
       "      <th></th>\n",
       "      <th></th>\n",
       "      <th></th>\n",
       "      <th></th>\n",
       "      <th></th>\n",
       "    </tr>\n",
       "  </thead>\n",
       "  <tbody>\n",
       "    <tr>\n",
       "      <th>(-inf, 0]</th>\n",
       "      <td>0</td>\n",
       "      <td>0</td>\n",
       "      <td>8338</td>\n",
       "      <td>0.947285</td>\n",
       "      <td>544</td>\n",
       "      <td>7794</td>\n",
       "      <td>0.976661</td>\n",
       "      <td>0.9453</td>\n",
       "      <td>0.065243</td>\n",
       "      <td>0.032637</td>\n",
       "      <td>0.001024</td>\n",
       "    </tr>\n",
       "    <tr>\n",
       "      <th>(0, +inf)</th>\n",
       "      <td>1</td>\n",
       "      <td>1</td>\n",
       "      <td>464</td>\n",
       "      <td>0.052715</td>\n",
       "      <td>13</td>\n",
       "      <td>451</td>\n",
       "      <td>0.023339</td>\n",
       "      <td>0.0547</td>\n",
       "      <td>0.028017</td>\n",
       "      <td>-0.851721</td>\n",
       "      <td>0.026710</td>\n",
       "    </tr>\n",
       "  </tbody>\n",
       "</table>\n",
       "</div>"
      ],
      "text/plain": [
       "            Lbound  Ubound  Totalcnt  PctTotal  Y_count  n_Y_count     Y_pct  \\\n",
       "qt_binning                                                                     \n",
       "(-inf, 0]        0       0      8338  0.947285      544       7794  0.976661   \n",
       "(0, +inf)        1       1       464  0.052715       13        451  0.023339   \n",
       "\n",
       "            n_Y_pct    Y_rate       WOE        IV  \n",
       "qt_binning                                         \n",
       "(-inf, 0]    0.9453  0.065243  0.032637  0.001024  \n",
       "(0, +inf)    0.0547  0.028017 -0.851721  0.026710  "
      ]
     },
     "execution_count": 38,
     "metadata": {},
     "output_type": "execute_result"
    }
   ],
   "source": [
    "var_name = 'ls_nd' #变量\n",
    "var_bin = variable_binning(data_form, target, var_name, [0], 'bins')\n",
    "binning_plot(var_bin)\n",
    "print(var_name,'变量的IV值为',var_bin['IV'].sum())\n",
    "var_bin_ls_gp=var_bin['WOE']\n",
    "var_bin.sort_values('Lbound')"
   ]
  },
  {
   "cell_type": "code",
   "execution_count": 41,
   "metadata": {
    "collapsed": false,
    "scrolled": true
   },
   "outputs": [
    {
     "name": "stderr",
     "output_type": "stream",
     "text": [
      "C:\\Users\\xiongjun\\AppData\\Local\\Continuum\\Anaconda3\\lib\\site-packages\\pandas\\core\\generic.py:3295: SettingWithCopyWarning: \n",
      "A value is trying to be set on a copy of a slice from a DataFrame\n",
      "\n",
      "See the caveats in the documentation: http://pandas.pydata.org/pandas-docs/stable/indexing.html#indexing-view-versus-copy\n",
      "  self._update_inplace(new_data)\n",
      "C:\\Users\\xiongjun\\sc_func.py:124: SettingWithCopyWarning: \n",
      "A value is trying to be set on a copy of a slice from a DataFrame.\n",
      "Try using .loc[row_indexer,col_indexer] = value instead\n",
      "\n",
      "See the caveats in the documentation: http://pandas.pydata.org/pandas-docs/stable/indexing.html#indexing-view-versus-copy\n",
      "  df['qt_binning'] = var_bins_series(df[var], bins, side = side)\n"
     ]
    },
    {
     "data": {
      "image/png": "[encoded data removed]",
      "text/plain": [
       "<matplotlib.figure.Figure at 0x9d58860>"
      ]
     },
     "metadata": {},
     "output_type": "display_data"
    },
    {
     "name": "stdout",
     "output_type": "stream",
     "text": [
      "ld_gps5_xc 变量的IV值为 0.0014456751895825116\n"
     ]
    },
    {
     "data": {
      "text/html": [
       "<div>\n",
       "<table border=\"1\" class=\"dataframe\">\n",
       "  <thead>\n",
       "    <tr style=\"text-align: right;\">\n",
       "      <th></th>\n",
       "      <th>Lbound</th>\n",
       "      <th>Ubound</th>\n",
       "      <th>Totalcnt</th>\n",
       "      <th>PctTotal</th>\n",
       "      <th>Y_count</th>\n",
       "      <th>n_Y_count</th>\n",
       "      <th>Y_pct</th>\n",
       "      <th>n_Y_pct</th>\n",
       "      <th>Y_rate</th>\n",
       "      <th>WOE</th>\n",
       "      <th>IV</th>\n",
       "    </tr>\n",
       "    <tr>\n",
       "      <th>qt_binning</th>\n",
       "      <th></th>\n",
       "      <th></th>\n",
       "      <th></th>\n",
       "      <th></th>\n",
       "      <th></th>\n",
       "      <th></th>\n",
       "      <th></th>\n",
       "      <th></th>\n",
       "      <th></th>\n",
       "      <th></th>\n",
       "      <th></th>\n",
       "    </tr>\n",
       "  </thead>\n",
       "  <tbody>\n",
       "    <tr>\n",
       "      <th>(-inf, 0]</th>\n",
       "      <td>0</td>\n",
       "      <td>0</td>\n",
       "      <td>8396</td>\n",
       "      <td>0.953874</td>\n",
       "      <td>527</td>\n",
       "      <td>7869</td>\n",
       "      <td>0.94614</td>\n",
       "      <td>0.954397</td>\n",
       "      <td>0.062768</td>\n",
       "      <td>-0.008689</td>\n",
       "      <td>0.000072</td>\n",
       "    </tr>\n",
       "    <tr>\n",
       "      <th>(0, +inf)</th>\n",
       "      <td>1</td>\n",
       "      <td>1</td>\n",
       "      <td>406</td>\n",
       "      <td>0.046126</td>\n",
       "      <td>30</td>\n",
       "      <td>376</td>\n",
       "      <td>0.05386</td>\n",
       "      <td>0.045603</td>\n",
       "      <td>0.073892</td>\n",
       "      <td>0.166405</td>\n",
       "      <td>0.001374</td>\n",
       "    </tr>\n",
       "  </tbody>\n",
       "</table>\n",
       "</div>"
      ],
      "text/plain": [
       "            Lbound  Ubound  Totalcnt  PctTotal  Y_count  n_Y_count    Y_pct  \\\n",
       "qt_binning                                                                    \n",
       "(-inf, 0]        0       0      8396  0.953874      527       7869  0.94614   \n",
       "(0, +inf)        1       1       406  0.046126       30        376  0.05386   \n",
       "\n",
       "             n_Y_pct    Y_rate       WOE        IV  \n",
       "qt_binning                                          \n",
       "(-inf, 0]   0.954397  0.062768 -0.008689  0.000072  \n",
       "(0, +inf)   0.045603  0.073892  0.166405  0.001374  "
      ]
     },
     "execution_count": 41,
     "metadata": {},
     "output_type": "execute_result"
    }
   ],
   "source": [
    "var_name = 'ld_gps5_xc' #变量\n",
    "var_bin = variable_binning(data_form, target, var_name, [0], 'bins')\n",
    "binning_plot(var_bin)\n",
    "print(var_name,'变量的IV值为',var_bin['IV'].sum())\n",
    "var_bin_ls_gp_cl=var_bin['WOE']\n",
    "var_bin.sort_values('Lbound')"
   ]
  },
  {
   "cell_type": "code",
   "execution_count": 45,
   "metadata": {
    "collapsed": false,
    "scrolled": true
   },
   "outputs": [
    {
     "name": "stderr",
     "output_type": "stream",
     "text": [
      "C:\\Users\\xiongjun\\AppData\\Local\\Continuum\\Anaconda3\\lib\\site-packages\\pandas\\core\\generic.py:3295: SettingWithCopyWarning: \n",
      "A value is trying to be set on a copy of a slice from a DataFrame\n",
      "\n",
      "See the caveats in the documentation: http://pandas.pydata.org/pandas-docs/stable/indexing.html#indexing-view-versus-copy\n",
      "  self._update_inplace(new_data)\n",
      "C:\\Users\\xiongjun\\sc_func.py:124: SettingWithCopyWarning: \n",
      "A value is trying to be set on a copy of a slice from a DataFrame.\n",
      "Try using .loc[row_indexer,col_indexer] = value instead\n",
      "\n",
      "See the caveats in the documentation: http://pandas.pydata.org/pandas-docs/stable/indexing.html#indexing-view-versus-copy\n",
      "  df['qt_binning'] = var_bins_series(df[var], bins, side = side)\n"
     ]
    },
    {
     "data": {
      "image/png": "[encoded data removed]",
      "text/plain": [
       "<matplotlib.figure.Figure at 0x6f35390>"
      ]
     },
     "metadata": {},
     "output_type": "display_data"
    },
    {
     "name": "stdout",
     "output_type": "stream",
     "text": [
      "ld_add5_xc_m 变量的IV值为 0.002932999781514748\n"
     ]
    },
    {
     "data": {
      "text/html": [
       "<div>\n",
       "<table border=\"1\" class=\"dataframe\">\n",
       "  <thead>\n",
       "    <tr style=\"text-align: right;\">\n",
       "      <th></th>\n",
       "      <th>Lbound</th>\n",
       "      <th>Ubound</th>\n",
       "      <th>Totalcnt</th>\n",
       "      <th>PctTotal</th>\n",
       "      <th>Y_count</th>\n",
       "      <th>n_Y_count</th>\n",
       "      <th>Y_pct</th>\n",
       "      <th>n_Y_pct</th>\n",
       "      <th>Y_rate</th>\n",
       "      <th>WOE</th>\n",
       "      <th>IV</th>\n",
       "    </tr>\n",
       "    <tr>\n",
       "      <th>qt_binning</th>\n",
       "      <th></th>\n",
       "      <th></th>\n",
       "      <th></th>\n",
       "      <th></th>\n",
       "      <th></th>\n",
       "      <th></th>\n",
       "      <th></th>\n",
       "      <th></th>\n",
       "      <th></th>\n",
       "      <th></th>\n",
       "      <th></th>\n",
       "    </tr>\n",
       "  </thead>\n",
       "  <tbody>\n",
       "    <tr>\n",
       "      <th>(-inf, 0]</th>\n",
       "      <td>0</td>\n",
       "      <td>0</td>\n",
       "      <td>5745</td>\n",
       "      <td>0.652693</td>\n",
       "      <td>350</td>\n",
       "      <td>5395</td>\n",
       "      <td>0.628366</td>\n",
       "      <td>0.654336</td>\n",
       "      <td>0.060923</td>\n",
       "      <td>-0.040498</td>\n",
       "      <td>0.001052</td>\n",
       "    </tr>\n",
       "    <tr>\n",
       "      <th>(0, +inf)</th>\n",
       "      <td>1</td>\n",
       "      <td>1</td>\n",
       "      <td>3057</td>\n",
       "      <td>0.347307</td>\n",
       "      <td>207</td>\n",
       "      <td>2850</td>\n",
       "      <td>0.371634</td>\n",
       "      <td>0.345664</td>\n",
       "      <td>0.067713</td>\n",
       "      <td>0.072442</td>\n",
       "      <td>0.001881</td>\n",
       "    </tr>\n",
       "  </tbody>\n",
       "</table>\n",
       "</div>"
      ],
      "text/plain": [
       "            Lbound  Ubound  Totalcnt  PctTotal  Y_count  n_Y_count     Y_pct  \\\n",
       "qt_binning                                                                     \n",
       "(-inf, 0]        0       0      5745  0.652693      350       5395  0.628366   \n",
       "(0, +inf)        1       1      3057  0.347307      207       2850  0.371634   \n",
       "\n",
       "             n_Y_pct    Y_rate       WOE        IV  \n",
       "qt_binning                                          \n",
       "(-inf, 0]   0.654336  0.060923 -0.040498  0.001052  \n",
       "(0, +inf)   0.345664  0.067713  0.072442  0.001881  "
      ]
     },
     "execution_count": 45,
     "metadata": {},
     "output_type": "execute_result"
    }
   ],
   "source": [
    "var_name = 'ld_add5_xc_m' #变量\n",
    "var_bin = variable_binning(data_form, target, var_name, [0], 'bins')\n",
    "binning_plot(var_bin)\n",
    "print(var_name,'变量的IV值为',var_bin['IV'].sum())\n",
    "var_bin_ls_nd=var_bin['WOE']\n",
    "var_bin.sort_values('Lbound')"
   ]
  },
  {
   "cell_type": "code",
   "execution_count": 49,
   "metadata": {
    "collapsed": false,
    "scrolled": true
   },
   "outputs": [
    {
     "name": "stderr",
     "output_type": "stream",
     "text": [
      "C:\\Users\\xiongjun\\AppData\\Local\\Continuum\\Anaconda3\\lib\\site-packages\\pandas\\core\\generic.py:3295: SettingWithCopyWarning: \n",
      "A value is trying to be set on a copy of a slice from a DataFrame\n",
      "\n",
      "See the caveats in the documentation: http://pandas.pydata.org/pandas-docs/stable/indexing.html#indexing-view-versus-copy\n",
      "  self._update_inplace(new_data)\n",
      "C:\\Users\\xiongjun\\sc_func.py:124: SettingWithCopyWarning: \n",
      "A value is trying to be set on a copy of a slice from a DataFrame.\n",
      "Try using .loc[row_indexer,col_indexer] = value instead\n",
      "\n",
      "See the caveats in the documentation: http://pandas.pydata.org/pandas-docs/stable/indexing.html#indexing-view-versus-copy\n",
      "  df['qt_binning'] = var_bins_series(df[var], bins, side = side)\n"
     ]
    },
    {
     "data": {
      "image/png": "[encoded data removed]",
      "text/plain": [
       "<matplotlib.figure.Figure at 0x6f35390>"
      ]
     },
     "metadata": {},
     "output_type": "display_data"
    },
    {
     "name": "stdout",
     "output_type": "stream",
     "text": [
      "lp_p1_ld_add5_xc_m 变量的IV值为 0.0002122066943117168\n"
     ]
    },
    {
     "data": {
      "text/html": [
       "<div>\n",
       "<table border=\"1\" class=\"dataframe\">\n",
       "  <thead>\n",
       "    <tr style=\"text-align: right;\">\n",
       "      <th></th>\n",
       "      <th>Lbound</th>\n",
       "      <th>Ubound</th>\n",
       "      <th>Totalcnt</th>\n",
       "      <th>PctTotal</th>\n",
       "      <th>Y_count</th>\n",
       "      <th>n_Y_count</th>\n",
       "      <th>Y_pct</th>\n",
       "      <th>n_Y_pct</th>\n",
       "      <th>Y_rate</th>\n",
       "      <th>WOE</th>\n",
       "      <th>IV</th>\n",
       "    </tr>\n",
       "    <tr>\n",
       "      <th>qt_binning</th>\n",
       "      <th></th>\n",
       "      <th></th>\n",
       "      <th></th>\n",
       "      <th></th>\n",
       "      <th></th>\n",
       "      <th></th>\n",
       "      <th></th>\n",
       "      <th></th>\n",
       "      <th></th>\n",
       "      <th></th>\n",
       "      <th></th>\n",
       "    </tr>\n",
       "  </thead>\n",
       "  <tbody>\n",
       "    <tr>\n",
       "      <th>(-inf, 0]</th>\n",
       "      <td>0</td>\n",
       "      <td>0</td>\n",
       "      <td>6045</td>\n",
       "      <td>0.686776</td>\n",
       "      <td>379</td>\n",
       "      <td>5666</td>\n",
       "      <td>0.680431</td>\n",
       "      <td>0.687204</td>\n",
       "      <td>0.062696</td>\n",
       "      <td>-0.009905</td>\n",
       "      <td>0.000067</td>\n",
       "    </tr>\n",
       "    <tr>\n",
       "      <th>(0, +inf)</th>\n",
       "      <td>1</td>\n",
       "      <td>1</td>\n",
       "      <td>2757</td>\n",
       "      <td>0.313224</td>\n",
       "      <td>178</td>\n",
       "      <td>2579</td>\n",
       "      <td>0.319569</td>\n",
       "      <td>0.312796</td>\n",
       "      <td>0.064563</td>\n",
       "      <td>0.021424</td>\n",
       "      <td>0.000145</td>\n",
       "    </tr>\n",
       "  </tbody>\n",
       "</table>\n",
       "</div>"
      ],
      "text/plain": [
       "            Lbound  Ubound  Totalcnt  PctTotal  Y_count  n_Y_count     Y_pct  \\\n",
       "qt_binning                                                                     \n",
       "(-inf, 0]        0       0      6045  0.686776      379       5666  0.680431   \n",
       "(0, +inf)        1       1      2757  0.313224      178       2579  0.319569   \n",
       "\n",
       "             n_Y_pct    Y_rate       WOE        IV  \n",
       "qt_binning                                          \n",
       "(-inf, 0]   0.687204  0.062696 -0.009905  0.000067  \n",
       "(0, +inf)   0.312796  0.064563  0.021424  0.000145  "
      ]
     },
     "execution_count": 49,
     "metadata": {},
     "output_type": "execute_result"
    }
   ],
   "source": [
    "var_name = 'lp_p1_ld_add5_xc_m' #变量\n",
    "var_bin = variable_binning(data_form, target, var_name, [0], 'bins')\n",
    "binning_plot(var_bin)\n",
    "print(var_name,'变量的IV值为',var_bin['IV'].sum())\n",
    "var_bin_ld_rc=var_bin['WOE']\n",
    "var_bin.sort_values('Lbound')"
   ]
  },
  {
   "cell_type": "code",
   "execution_count": 50,
   "metadata": {
    "collapsed": false,
    "scrolled": true
   },
   "outputs": [
    {
     "name": "stderr",
     "output_type": "stream",
     "text": [
      "C:\\Users\\xiongjun\\AppData\\Local\\Continuum\\Anaconda3\\lib\\site-packages\\pandas\\core\\generic.py:3295: SettingWithCopyWarning: \n",
      "A value is trying to be set on a copy of a slice from a DataFrame\n",
      "\n",
      "See the caveats in the documentation: http://pandas.pydata.org/pandas-docs/stable/indexing.html#indexing-view-versus-copy\n",
      "  self._update_inplace(new_data)\n",
      "C:\\Users\\xiongjun\\sc_func.py:124: SettingWithCopyWarning: \n",
      "A value is trying to be set on a copy of a slice from a DataFrame.\n",
      "Try using .loc[row_indexer,col_indexer] = value instead\n",
      "\n",
      "See the caveats in the documentation: http://pandas.pydata.org/pandas-docs/stable/indexing.html#indexing-view-versus-copy\n",
      "  df['qt_binning'] = var_bins_series(df[var], bins, side = side)\n"
     ]
    },
    {
     "data": {
      "image/png": "[encoded data removed]",
      "text/plain": [
       "<matplotlib.figure.Figure at 0x69d5278>"
      ]
     },
     "metadata": {},
     "output_type": "display_data"
    },
    {
     "name": "stdout",
     "output_type": "stream",
     "text": [
      "cg_add5 变量的IV值为 0.00032550581849121444\n"
     ]
    },
    {
     "data": {
      "text/html": [
       "<div>\n",
       "<table border=\"1\" class=\"dataframe\">\n",
       "  <thead>\n",
       "    <tr style=\"text-align: right;\">\n",
       "      <th></th>\n",
       "      <th>Lbound</th>\n",
       "      <th>Ubound</th>\n",
       "      <th>Totalcnt</th>\n",
       "      <th>PctTotal</th>\n",
       "      <th>Y_count</th>\n",
       "      <th>n_Y_count</th>\n",
       "      <th>Y_pct</th>\n",
       "      <th>n_Y_pct</th>\n",
       "      <th>Y_rate</th>\n",
       "      <th>WOE</th>\n",
       "      <th>IV</th>\n",
       "    </tr>\n",
       "    <tr>\n",
       "      <th>qt_binning</th>\n",
       "      <th></th>\n",
       "      <th></th>\n",
       "      <th></th>\n",
       "      <th></th>\n",
       "      <th></th>\n",
       "      <th></th>\n",
       "      <th></th>\n",
       "      <th></th>\n",
       "      <th></th>\n",
       "      <th></th>\n",
       "      <th></th>\n",
       "    </tr>\n",
       "  </thead>\n",
       "  <tbody>\n",
       "    <tr>\n",
       "      <th>(-inf, 0]</th>\n",
       "      <td>0</td>\n",
       "      <td>0</td>\n",
       "      <td>8513</td>\n",
       "      <td>0.967167</td>\n",
       "      <td>537</td>\n",
       "      <td>7976</td>\n",
       "      <td>0.964093</td>\n",
       "      <td>0.967374</td>\n",
       "      <td>0.063080</td>\n",
       "      <td>-0.003397</td>\n",
       "      <td>0.000011</td>\n",
       "    </tr>\n",
       "    <tr>\n",
       "      <th>(0, +inf)</th>\n",
       "      <td>1</td>\n",
       "      <td>1</td>\n",
       "      <td>289</td>\n",
       "      <td>0.032833</td>\n",
       "      <td>20</td>\n",
       "      <td>269</td>\n",
       "      <td>0.035907</td>\n",
       "      <td>0.032626</td>\n",
       "      <td>0.069204</td>\n",
       "      <td>0.095818</td>\n",
       "      <td>0.000314</td>\n",
       "    </tr>\n",
       "  </tbody>\n",
       "</table>\n",
       "</div>"
      ],
      "text/plain": [
       "            Lbound  Ubound  Totalcnt  PctTotal  Y_count  n_Y_count     Y_pct  \\\n",
       "qt_binning                                                                     \n",
       "(-inf, 0]        0       0      8513  0.967167      537       7976  0.964093   \n",
       "(0, +inf)        1       1       289  0.032833       20        269  0.035907   \n",
       "\n",
       "             n_Y_pct    Y_rate       WOE        IV  \n",
       "qt_binning                                          \n",
       "(-inf, 0]   0.967374  0.063080 -0.003397  0.000011  \n",
       "(0, +inf)   0.032626  0.069204  0.095818  0.000314  "
      ]
     },
     "execution_count": 50,
     "metadata": {},
     "output_type": "execute_result"
    }
   ],
   "source": [
    "var_name = 'cg_add5' #变量\n",
    "var_bin = variable_binning(data_form, target, var_name, [0], 'bins')\n",
    "binning_plot(var_bin)\n",
    "print(var_name,'变量的IV值为',var_bin['IV'].sum())\n",
    "var_bin_ld_xc=var_bin['WOE']\n",
    "var_bin.sort_values('Lbound')"
   ]
  },
  {
   "cell_type": "code",
   "execution_count": 51,
   "metadata": {
    "collapsed": false,
    "scrolled": true
   },
   "outputs": [
    {
     "name": "stderr",
     "output_type": "stream",
     "text": [
      "C:\\Users\\xiongjun\\AppData\\Local\\Continuum\\Anaconda3\\lib\\site-packages\\pandas\\core\\generic.py:3295: SettingWithCopyWarning: \n",
      "A value is trying to be set on a copy of a slice from a DataFrame\n",
      "\n",
      "See the caveats in the documentation: http://pandas.pydata.org/pandas-docs/stable/indexing.html#indexing-view-versus-copy\n",
      "  self._update_inplace(new_data)\n",
      "C:\\Users\\xiongjun\\sc_func.py:124: SettingWithCopyWarning: \n",
      "A value is trying to be set on a copy of a slice from a DataFrame.\n",
      "Try using .loc[row_indexer,col_indexer] = value instead\n",
      "\n",
      "See the caveats in the documentation: http://pandas.pydata.org/pandas-docs/stable/indexing.html#indexing-view-versus-copy\n",
      "  df['qt_binning'] = var_bins_series(df[var], bins, side = side)\n"
     ]
    },
    {
     "data": {
      "image/png": "[encoded data removed]",
      "text/plain": [
       "<matplotlib.figure.Figure at 0xa0b1a90>"
      ]
     },
     "metadata": {},
     "output_type": "display_data"
    },
    {
     "name": "stdout",
     "output_type": "stream",
     "text": [
      "bs_gps5 变量的IV值为 0.0012335706845179725\n"
     ]
    },
    {
     "data": {
      "text/html": [
       "<div>\n",
       "<table border=\"1\" class=\"dataframe\">\n",
       "  <thead>\n",
       "    <tr style=\"text-align: right;\">\n",
       "      <th></th>\n",
       "      <th>Lbound</th>\n",
       "      <th>Ubound</th>\n",
       "      <th>Totalcnt</th>\n",
       "      <th>PctTotal</th>\n",
       "      <th>Y_count</th>\n",
       "      <th>n_Y_count</th>\n",
       "      <th>Y_pct</th>\n",
       "      <th>n_Y_pct</th>\n",
       "      <th>Y_rate</th>\n",
       "      <th>WOE</th>\n",
       "      <th>IV</th>\n",
       "    </tr>\n",
       "    <tr>\n",
       "      <th>qt_binning</th>\n",
       "      <th></th>\n",
       "      <th></th>\n",
       "      <th></th>\n",
       "      <th></th>\n",
       "      <th></th>\n",
       "      <th></th>\n",
       "      <th></th>\n",
       "      <th></th>\n",
       "      <th></th>\n",
       "      <th></th>\n",
       "      <th></th>\n",
       "    </tr>\n",
       "  </thead>\n",
       "  <tbody>\n",
       "    <tr>\n",
       "      <th>(-inf, 0]</th>\n",
       "      <td>0</td>\n",
       "      <td>0</td>\n",
       "      <td>8391</td>\n",
       "      <td>0.953306</td>\n",
       "      <td>527</td>\n",
       "      <td>7864</td>\n",
       "      <td>0.94614</td>\n",
       "      <td>0.95379</td>\n",
       "      <td>0.062805</td>\n",
       "      <td>-0.008053</td>\n",
       "      <td>0.000062</td>\n",
       "    </tr>\n",
       "    <tr>\n",
       "      <th>(0, +inf)</th>\n",
       "      <td>1</td>\n",
       "      <td>1</td>\n",
       "      <td>411</td>\n",
       "      <td>0.046694</td>\n",
       "      <td>30</td>\n",
       "      <td>381</td>\n",
       "      <td>0.05386</td>\n",
       "      <td>0.04621</td>\n",
       "      <td>0.072993</td>\n",
       "      <td>0.153195</td>\n",
       "      <td>0.001172</td>\n",
       "    </tr>\n",
       "  </tbody>\n",
       "</table>\n",
       "</div>"
      ],
      "text/plain": [
       "            Lbound  Ubound  Totalcnt  PctTotal  Y_count  n_Y_count    Y_pct  \\\n",
       "qt_binning                                                                    \n",
       "(-inf, 0]        0       0      8391  0.953306      527       7864  0.94614   \n",
       "(0, +inf)        1       1       411  0.046694       30        381  0.05386   \n",
       "\n",
       "            n_Y_pct    Y_rate       WOE        IV  \n",
       "qt_binning                                         \n",
       "(-inf, 0]   0.95379  0.062805 -0.008053  0.000062  \n",
       "(0, +inf)   0.04621  0.072993  0.153195  0.001172  "
      ]
     },
     "execution_count": 51,
     "metadata": {},
     "output_type": "execute_result"
    }
   ],
   "source": [
    "var_name = 'bs_gps5' #变量\n",
    "var_bin = variable_binning(data_form, target, var_name, [0], 'bins')\n",
    "binning_plot(var_bin)\n",
    "print(var_name,'变量的IV值为',var_bin['IV'].sum())\n",
    "var_bin_bs_gps5=var_bin['WOE']\n",
    "var_bin.sort_values('Lbound')"
   ]
  },
  {
   "cell_type": "code",
   "execution_count": 55,
   "metadata": {
    "collapsed": false,
    "scrolled": true
   },
   "outputs": [
    {
     "name": "stderr",
     "output_type": "stream",
     "text": [
      "C:\\Users\\xiongjun\\AppData\\Local\\Continuum\\Anaconda3\\lib\\site-packages\\pandas\\core\\generic.py:3295: SettingWithCopyWarning: \n",
      "A value is trying to be set on a copy of a slice from a DataFrame\n",
      "\n",
      "See the caveats in the documentation: http://pandas.pydata.org/pandas-docs/stable/indexing.html#indexing-view-versus-copy\n",
      "  self._update_inplace(new_data)\n",
      "C:\\Users\\xiongjun\\sc_func.py:124: SettingWithCopyWarning: \n",
      "A value is trying to be set on a copy of a slice from a DataFrame.\n",
      "Try using .loc[row_indexer,col_indexer] = value instead\n",
      "\n",
      "See the caveats in the documentation: http://pandas.pydata.org/pandas-docs/stable/indexing.html#indexing-view-versus-copy\n",
      "  df['qt_binning'] = var_bins_series(df[var], bins, side = side)\n"
     ]
    },
    {
     "data": {
      "image/png": "[encoded data removed]",
      "text/plain": [
       "<matplotlib.figure.Figure at 0xa0b5208>"
      ]
     },
     "metadata": {},
     "output_type": "display_data"
    },
    {
     "name": "stdout",
     "output_type": "stream",
     "text": [
      "bs_add5_id6plus_dist_f 变量的IV值为 0.0002777897254336328\n"
     ]
    },
    {
     "data": {
      "text/html": [
       "<div>\n",
       "<table border=\"1\" class=\"dataframe\">\n",
       "  <thead>\n",
       "    <tr style=\"text-align: right;\">\n",
       "      <th></th>\n",
       "      <th>Lbound</th>\n",
       "      <th>Ubound</th>\n",
       "      <th>Totalcnt</th>\n",
       "      <th>PctTotal</th>\n",
       "      <th>Y_count</th>\n",
       "      <th>n_Y_count</th>\n",
       "      <th>Y_pct</th>\n",
       "      <th>n_Y_pct</th>\n",
       "      <th>Y_rate</th>\n",
       "      <th>WOE</th>\n",
       "      <th>IV</th>\n",
       "    </tr>\n",
       "    <tr>\n",
       "      <th>qt_binning</th>\n",
       "      <th></th>\n",
       "      <th></th>\n",
       "      <th></th>\n",
       "      <th></th>\n",
       "      <th></th>\n",
       "      <th></th>\n",
       "      <th></th>\n",
       "      <th></th>\n",
       "      <th></th>\n",
       "      <th></th>\n",
       "      <th></th>\n",
       "    </tr>\n",
       "  </thead>\n",
       "  <tbody>\n",
       "    <tr>\n",
       "      <th>(-inf, 0]</th>\n",
       "      <td>0</td>\n",
       "      <td>0</td>\n",
       "      <td>8097</td>\n",
       "      <td>0.919905</td>\n",
       "      <td>510</td>\n",
       "      <td>7587</td>\n",
       "      <td>0.915619</td>\n",
       "      <td>0.920194</td>\n",
       "      <td>0.062986</td>\n",
       "      <td>-0.004984</td>\n",
       "      <td>0.000023</td>\n",
       "    </tr>\n",
       "    <tr>\n",
       "      <th>(0, +inf)</th>\n",
       "      <td>1</td>\n",
       "      <td>1</td>\n",
       "      <td>705</td>\n",
       "      <td>0.080095</td>\n",
       "      <td>47</td>\n",
       "      <td>658</td>\n",
       "      <td>0.084381</td>\n",
       "      <td>0.079806</td>\n",
       "      <td>0.066667</td>\n",
       "      <td>0.055740</td>\n",
       "      <td>0.000255</td>\n",
       "    </tr>\n",
       "  </tbody>\n",
       "</table>\n",
       "</div>"
      ],
      "text/plain": [
       "            Lbound  Ubound  Totalcnt  PctTotal  Y_count  n_Y_count     Y_pct  \\\n",
       "qt_binning                                                                     \n",
       "(-inf, 0]        0       0      8097  0.919905      510       7587  0.915619   \n",
       "(0, +inf)        1       1       705  0.080095       47        658  0.084381   \n",
       "\n",
       "             n_Y_pct    Y_rate       WOE        IV  \n",
       "qt_binning                                          \n",
       "(-inf, 0]   0.920194  0.062986 -0.004984  0.000023  \n",
       "(0, +inf)   0.079806  0.066667  0.055740  0.000255  "
      ]
     },
     "execution_count": 55,
     "metadata": {},
     "output_type": "execute_result"
    }
   ],
   "source": [
    "var_name = 'bs_add5_id6plus_dist_f' #变量\n",
    "var_bin = variable_binning(data_form, target, var_name, [0], 'bins')\n",
    "binning_plot(var_bin)\n",
    "print(var_name,'变量的IV值为',var_bin['IV'].sum())\n",
    "var_bin_ls_bs_add5=var_bin['WOE']\n",
    "var_bin.sort_values('Lbound')"
   ]
  },
  {
   "cell_type": "code",
   "execution_count": 56,
   "metadata": {
    "collapsed": false
   },
   "outputs": [
    {
     "name": "stderr",
     "output_type": "stream",
     "text": [
      "C:\\Users\\xiongjun\\AppData\\Local\\Continuum\\Anaconda3\\lib\\site-packages\\pandas\\core\\generic.py:3295: SettingWithCopyWarning: \n",
      "A value is trying to be set on a copy of a slice from a DataFrame\n",
      "\n",
      "See the caveats in the documentation: http://pandas.pydata.org/pandas-docs/stable/indexing.html#indexing-view-versus-copy\n",
      "  self._update_inplace(new_data)\n",
      "C:\\Users\\xiongjun\\sc_func.py:124: SettingWithCopyWarning: \n",
      "A value is trying to be set on a copy of a slice from a DataFrame.\n",
      "Try using .loc[row_indexer,col_indexer] = value instead\n",
      "\n",
      "See the caveats in the documentation: http://pandas.pydata.org/pandas-docs/stable/indexing.html#indexing-view-versus-copy\n",
      "  df['qt_binning'] = var_bins_series(df[var], bins, side = side)\n"
     ]
    },
    {
     "data": {
      "image/png": "[encoded data removed]",
      "text/plain": [
       "<matplotlib.figure.Figure at 0x9d58860>"
      ]
     },
     "metadata": {},
     "output_type": "display_data"
    },
    {
     "name": "stdout",
     "output_type": "stream",
     "text": [
      "bs_add5_id6plus_dist_vf 变量的IV值为 0.004003303779463264\n"
     ]
    },
    {
     "data": {
      "text/html": [
       "<div>\n",
       "<table border=\"1\" class=\"dataframe\">\n",
       "  <thead>\n",
       "    <tr style=\"text-align: right;\">\n",
       "      <th></th>\n",
       "      <th>Lbound</th>\n",
       "      <th>Ubound</th>\n",
       "      <th>Totalcnt</th>\n",
       "      <th>PctTotal</th>\n",
       "      <th>Y_count</th>\n",
       "      <th>n_Y_count</th>\n",
       "      <th>Y_pct</th>\n",
       "      <th>n_Y_pct</th>\n",
       "      <th>Y_rate</th>\n",
       "      <th>WOE</th>\n",
       "      <th>IV</th>\n",
       "    </tr>\n",
       "    <tr>\n",
       "      <th>qt_binning</th>\n",
       "      <th></th>\n",
       "      <th></th>\n",
       "      <th></th>\n",
       "      <th></th>\n",
       "      <th></th>\n",
       "      <th></th>\n",
       "      <th></th>\n",
       "      <th></th>\n",
       "      <th></th>\n",
       "      <th></th>\n",
       "      <th></th>\n",
       "    </tr>\n",
       "  </thead>\n",
       "  <tbody>\n",
       "    <tr>\n",
       "      <th>(-inf, 0]</th>\n",
       "      <td>0</td>\n",
       "      <td>0</td>\n",
       "      <td>6903</td>\n",
       "      <td>0.784254</td>\n",
       "      <td>423</td>\n",
       "      <td>6480</td>\n",
       "      <td>0.759425</td>\n",
       "      <td>0.785931</td>\n",
       "      <td>0.061278</td>\n",
       "      <td>-0.034307</td>\n",
       "      <td>0.000909</td>\n",
       "    </tr>\n",
       "    <tr>\n",
       "      <th>(0, +inf)</th>\n",
       "      <td>1</td>\n",
       "      <td>1</td>\n",
       "      <td>1899</td>\n",
       "      <td>0.215746</td>\n",
       "      <td>134</td>\n",
       "      <td>1765</td>\n",
       "      <td>0.240575</td>\n",
       "      <td>0.214069</td>\n",
       "      <td>0.070563</td>\n",
       "      <td>0.116731</td>\n",
       "      <td>0.003094</td>\n",
       "    </tr>\n",
       "  </tbody>\n",
       "</table>\n",
       "</div>"
      ],
      "text/plain": [
       "            Lbound  Ubound  Totalcnt  PctTotal  Y_count  n_Y_count     Y_pct  \\\n",
       "qt_binning                                                                     \n",
       "(-inf, 0]        0       0      6903  0.784254      423       6480  0.759425   \n",
       "(0, +inf)        1       1      1899  0.215746      134       1765  0.240575   \n",
       "\n",
       "             n_Y_pct    Y_rate       WOE        IV  \n",
       "qt_binning                                          \n",
       "(-inf, 0]   0.785931  0.061278 -0.034307  0.000909  \n",
       "(0, +inf)   0.214069  0.070563  0.116731  0.003094  "
      ]
     },
     "execution_count": 56,
     "metadata": {},
     "output_type": "execute_result"
    }
   ],
   "source": [
    "var_name = 'bs_add5_id6plus_dist_vf' #变量\n",
    "var_bin = variable_binning(data_form, target, var_name, [0], 'bins')\n",
    "binning_plot(var_bin)\n",
    "print(var_name,'变量的IV值为',var_bin['IV'].sum())\n",
    "var_bin_ls_bs_add5=var_bin['WOE']\n",
    "var_bin.sort_values('Lbound')"
   ]
  },
  {
   "cell_type": "code",
   "execution_count": 57,
   "metadata": {
    "collapsed": false
   },
   "outputs": [
    {
     "name": "stderr",
     "output_type": "stream",
     "text": [
      "C:\\Users\\xiongjun\\AppData\\Local\\Continuum\\Anaconda3\\lib\\site-packages\\pandas\\core\\generic.py:3295: SettingWithCopyWarning: \n",
      "A value is trying to be set on a copy of a slice from a DataFrame\n",
      "\n",
      "See the caveats in the documentation: http://pandas.pydata.org/pandas-docs/stable/indexing.html#indexing-view-versus-copy\n",
      "  self._update_inplace(new_data)\n",
      "C:\\Users\\xiongjun\\sc_func.py:124: SettingWithCopyWarning: \n",
      "A value is trying to be set on a copy of a slice from a DataFrame.\n",
      "Try using .loc[row_indexer,col_indexer] = value instead\n",
      "\n",
      "See the caveats in the documentation: http://pandas.pydata.org/pandas-docs/stable/indexing.html#indexing-view-versus-copy\n",
      "  df['qt_binning'] = var_bins_series(df[var], bins, side = side)\n"
     ]
    },
    {
     "data": {
      "image/png": "[encoded data removed]",
      "text/plain": [
       "<matplotlib.figure.Figure at 0x4b675f8>"
      ]
     },
     "metadata": {},
     "output_type": "display_data"
    },
    {
     "name": "stdout",
     "output_type": "stream",
     "text": [
      "bs_add5_id6plus_dist_vc 变量的IV值为 0.0023829210871478754\n"
     ]
    },
    {
     "data": {
      "text/html": [
       "<div>\n",
       "<table border=\"1\" class=\"dataframe\">\n",
       "  <thead>\n",
       "    <tr style=\"text-align: right;\">\n",
       "      <th></th>\n",
       "      <th>Lbound</th>\n",
       "      <th>Ubound</th>\n",
       "      <th>Totalcnt</th>\n",
       "      <th>PctTotal</th>\n",
       "      <th>Y_count</th>\n",
       "      <th>n_Y_count</th>\n",
       "      <th>Y_pct</th>\n",
       "      <th>n_Y_pct</th>\n",
       "      <th>Y_rate</th>\n",
       "      <th>WOE</th>\n",
       "      <th>IV</th>\n",
       "    </tr>\n",
       "    <tr>\n",
       "      <th>qt_binning</th>\n",
       "      <th></th>\n",
       "      <th></th>\n",
       "      <th></th>\n",
       "      <th></th>\n",
       "      <th></th>\n",
       "      <th></th>\n",
       "      <th></th>\n",
       "      <th></th>\n",
       "      <th></th>\n",
       "      <th></th>\n",
       "      <th></th>\n",
       "    </tr>\n",
       "  </thead>\n",
       "  <tbody>\n",
       "    <tr>\n",
       "      <th>(-inf, 0]</th>\n",
       "      <td>0</td>\n",
       "      <td>0</td>\n",
       "      <td>7373</td>\n",
       "      <td>0.837651</td>\n",
       "      <td>457</td>\n",
       "      <td>6916</td>\n",
       "      <td>0.820467</td>\n",
       "      <td>0.838811</td>\n",
       "      <td>0.061983</td>\n",
       "      <td>-0.022112</td>\n",
       "      <td>0.000406</td>\n",
       "    </tr>\n",
       "    <tr>\n",
       "      <th>(0, +inf)</th>\n",
       "      <td>1</td>\n",
       "      <td>1</td>\n",
       "      <td>1429</td>\n",
       "      <td>0.162349</td>\n",
       "      <td>100</td>\n",
       "      <td>1329</td>\n",
       "      <td>0.179533</td>\n",
       "      <td>0.161189</td>\n",
       "      <td>0.069979</td>\n",
       "      <td>0.107785</td>\n",
       "      <td>0.001977</td>\n",
       "    </tr>\n",
       "  </tbody>\n",
       "</table>\n",
       "</div>"
      ],
      "text/plain": [
       "            Lbound  Ubound  Totalcnt  PctTotal  Y_count  n_Y_count     Y_pct  \\\n",
       "qt_binning                                                                     \n",
       "(-inf, 0]        0       0      7373  0.837651      457       6916  0.820467   \n",
       "(0, +inf)        1       1      1429  0.162349      100       1329  0.179533   \n",
       "\n",
       "             n_Y_pct    Y_rate       WOE        IV  \n",
       "qt_binning                                          \n",
       "(-inf, 0]   0.838811  0.061983 -0.022112  0.000406  \n",
       "(0, +inf)   0.161189  0.069979  0.107785  0.001977  "
      ]
     },
     "execution_count": 57,
     "metadata": {},
     "output_type": "execute_result"
    }
   ],
   "source": [
    "var_name = 'bs_add5_id6plus_dist_vc' #变量\n",
    "var_bin = variable_binning(data_form, target, var_name, [0], 'bins')\n",
    "binning_plot(var_bin)\n",
    "print(var_name,'变量的IV值为',var_bin['IV'].sum())\n",
    "var_bin_ls_bs_add5=var_bin['WOE']\n",
    "var_bin.sort_values('Lbound')"
   ]
  },
  {
   "cell_type": "code",
   "execution_count": 59,
   "metadata": {
    "collapsed": false,
    "scrolled": true
   },
   "outputs": [
    {
     "name": "stderr",
     "output_type": "stream",
     "text": [
      "C:\\Users\\xiongjun\\AppData\\Local\\Continuum\\Anaconda3\\lib\\site-packages\\pandas\\core\\generic.py:3295: SettingWithCopyWarning: \n",
      "A value is trying to be set on a copy of a slice from a DataFrame\n",
      "\n",
      "See the caveats in the documentation: http://pandas.pydata.org/pandas-docs/stable/indexing.html#indexing-view-versus-copy\n",
      "  self._update_inplace(new_data)\n",
      "C:\\Users\\xiongjun\\sc_func.py:124: SettingWithCopyWarning: \n",
      "A value is trying to be set on a copy of a slice from a DataFrame.\n",
      "Try using .loc[row_indexer,col_indexer] = value instead\n",
      "\n",
      "See the caveats in the documentation: http://pandas.pydata.org/pandas-docs/stable/indexing.html#indexing-view-versus-copy\n",
      "  df['qt_binning'] = var_bins_series(df[var], bins, side = side)\n"
     ]
    },
    {
     "data": {
      "image/png": "[encoded data removed]",
      "text/plain": [
       "<matplotlib.figure.Figure at 0x4b675f8>"
      ]
     },
     "metadata": {},
     "output_type": "display_data"
    },
    {
     "name": "stdout",
     "output_type": "stream",
     "text": [
      "lp_p1_vl_idnbr 变量的IV值为 0.000947401982359791\n"
     ]
    },
    {
     "data": {
      "text/html": [
       "<div>\n",
       "<table border=\"1\" class=\"dataframe\">\n",
       "  <thead>\n",
       "    <tr style=\"text-align: right;\">\n",
       "      <th></th>\n",
       "      <th>Lbound</th>\n",
       "      <th>Ubound</th>\n",
       "      <th>Totalcnt</th>\n",
       "      <th>PctTotal</th>\n",
       "      <th>Y_count</th>\n",
       "      <th>n_Y_count</th>\n",
       "      <th>Y_pct</th>\n",
       "      <th>n_Y_pct</th>\n",
       "      <th>Y_rate</th>\n",
       "      <th>WOE</th>\n",
       "      <th>IV</th>\n",
       "    </tr>\n",
       "    <tr>\n",
       "      <th>qt_binning</th>\n",
       "      <th></th>\n",
       "      <th></th>\n",
       "      <th></th>\n",
       "      <th></th>\n",
       "      <th></th>\n",
       "      <th></th>\n",
       "      <th></th>\n",
       "      <th></th>\n",
       "      <th></th>\n",
       "      <th></th>\n",
       "      <th></th>\n",
       "    </tr>\n",
       "  </thead>\n",
       "  <tbody>\n",
       "    <tr>\n",
       "      <th>(-inf, 0]</th>\n",
       "      <td>0</td>\n",
       "      <td>0</td>\n",
       "      <td>8633</td>\n",
       "      <td>0.9808</td>\n",
       "      <td>544</td>\n",
       "      <td>8089</td>\n",
       "      <td>0.976661</td>\n",
       "      <td>0.981079</td>\n",
       "      <td>0.063014</td>\n",
       "      <td>-0.004514</td>\n",
       "      <td>0.000020</td>\n",
       "    </tr>\n",
       "    <tr>\n",
       "      <th>(0, +inf)</th>\n",
       "      <td>1</td>\n",
       "      <td>1</td>\n",
       "      <td>169</td>\n",
       "      <td>0.0192</td>\n",
       "      <td>13</td>\n",
       "      <td>156</td>\n",
       "      <td>0.023339</td>\n",
       "      <td>0.018921</td>\n",
       "      <td>0.076923</td>\n",
       "      <td>0.209890</td>\n",
       "      <td>0.000927</td>\n",
       "    </tr>\n",
       "  </tbody>\n",
       "</table>\n",
       "</div>"
      ],
      "text/plain": [
       "            Lbound  Ubound  Totalcnt  PctTotal  Y_count  n_Y_count     Y_pct  \\\n",
       "qt_binning                                                                     \n",
       "(-inf, 0]        0       0      8633    0.9808      544       8089  0.976661   \n",
       "(0, +inf)        1       1       169    0.0192       13        156  0.023339   \n",
       "\n",
       "             n_Y_pct    Y_rate       WOE        IV  \n",
       "qt_binning                                          \n",
       "(-inf, 0]   0.981079  0.063014 -0.004514  0.000020  \n",
       "(0, +inf)   0.018921  0.076923  0.209890  0.000927  "
      ]
     },
     "execution_count": 59,
     "metadata": {},
     "output_type": "execute_result"
    }
   ],
   "source": [
    "var_name = 'lp_p1_vl_idnbr' #变量\n",
    "var_bin = variable_binning(data_form, target, var_name, [0], 'bins')\n",
    "binning_plot(var_bin)\n",
    "print(var_name,'变量的IV值为',var_bin['IV'].sum())\n",
    "var_bin_ls_bs_add5=var_bin['WOE']\n",
    "var_bin.sort_values('Lbound')"
   ]
  },
  {
   "cell_type": "markdown",
   "metadata": {
    "collapsed": true
   },
   "source": [
    "## 模型训练"
   ]
  },
  {
   "cell_type": "code",
   "execution_count": 66,
   "metadata": {
    "collapsed": false
   },
   "outputs": [],
   "source": [
    "import statsmodels.api as sm\n",
    "from sklearn.metrics import roc_auc_score,roc_curve,auc\n",
    "import matplotlib.pylab as plb"
   ]
  },
  {
   "cell_type": "code",
   "execution_count": 307,
   "metadata": {
    "collapsed": false
   },
   "outputs": [],
   "source": [
    "selected_var={\n",
    "    #'cs_size_s':[0],\n",
    "    'cs_size_s_ctn_l_rel_m':[0],\n",
    " #'cs_size_s_ctn_m_rel_m':[0],\n",
    " #'cs_size_s_ctn_m_rel_l':[0],\n",
    " 'cs_size_s_ctn_l_rel_l':[0],\n",
    "               #'od':[0],\n",
    "                #'ls_od_b_1y':[0],\n",
    "                #'ls_od_b_2y':[0],\n",
    "                #'ls_od_f_6t':[0],\n",
    "               #'xc_behavior':[0],\n",
    "               'xc_overloan':[0],\n",
    "               'lp_p1_xc_overloan':[0],\n",
    "               #'xc_overdue':[0],\n",
    "               #'xc_record':[0],\n",
    "               #'rv':[0],\n",
    "               #'rc_idname_multi':[0],\n",
    "                #'rc_relation_age':[0],\n",
    "                #'rc_relation_multi':[0],\n",
    "                #'rc_relation_cnt':[0],\n",
    "               #'ls_cr':[0],\n",
    "               #'ls_cr_cl':[0],\n",
    "               #'ls_gp':[0],\n",
    "               #'ls_gp_cl':[0],\n",
    "               'ls_nd':[0],\n",
    "                #'ld_gps5_rc':[0],\n",
    "'ld_add5_rc':[0],\n",
    "'ld_add5_xc_ml':[0],\n",
    "'ld_add5_xc_m':[0],\n",
    "#'lp_p1_ld_add5_od':[0],\n",
    "#'lp_p1_ld_add5_rc':[0],\n",
    "                 'cg_add5':[0],\n",
    "               #'bs_gps5':[0],\n",
    "#'bs_add5_id6plus_dist_c':[0],\n",
    "'bs_add5_id6plus_dist_vf':[0],\n",
    "#'bs_add5_id6plus_dist_vc':[0],\n",
    "#'lp_p1_ld_idnbr_6plus_xcp':[0],\n",
    " 'lp_p1_vl_idnbr':[0]\n",
    "               \n",
    "              }"
   ]
  },
  {
   "cell_type": "code",
   "execution_count": 389,
   "metadata": {
    "collapsed": false
   },
   "outputs": [
    {
     "name": "stderr",
     "output_type": "stream",
     "text": [
      "C:\\Users\\xiongjun\\AppData\\Local\\Continuum\\Anaconda3\\lib\\site-packages\\pandas\\core\\generic.py:3295: SettingWithCopyWarning: \n",
      "A value is trying to be set on a copy of a slice from a DataFrame\n",
      "\n",
      "See the caveats in the documentation: http://pandas.pydata.org/pandas-docs/stable/indexing.html#indexing-view-versus-copy\n",
      "  self._update_inplace(new_data)\n",
      "C:\\Users\\xiongjun\\sc_func.py:124: SettingWithCopyWarning: \n",
      "A value is trying to be set on a copy of a slice from a DataFrame.\n",
      "Try using .loc[row_indexer,col_indexer] = value instead\n",
      "\n",
      "See the caveats in the documentation: http://pandas.pydata.org/pandas-docs/stable/indexing.html#indexing-view-versus-copy\n",
      "  df['qt_binning'] = var_bins_series(df[var], bins, side = side)\n"
     ]
    }
   ],
   "source": [
    "#WOE变换\n",
    "WOE_train = WOE_mapping(data_form,selected_var, target)\n",
    "train_X = WOE_train.drop(target, axis = 1)\n",
    "train_X['constant'] = 1\n",
    "train_Y = WOE_train[target]"
   ]
  },
  {
   "cell_type": "code",
   "execution_count": 390,
   "metadata": {
    "collapsed": false,
    "scrolled": true
   },
   "outputs": [
    {
     "name": "stdout",
     "output_type": "stream",
     "text": [
      "Optimization terminated successfully.\n",
      "         Current function value: 0.278564\n",
      "         Iterations 7\n"
     ]
    },
    {
     "data": {
      "text/html": [
       "<table class=\"simpletable\">\n",
       "<caption>Logit Regression Results</caption>\n",
       "<tr>\n",
       "  <th>Dep. Variable:</th>       <td>type</td>       <th>  No. Observations:  </th>  <td>  4465</td>  \n",
       "</tr>\n",
       "<tr>\n",
       "  <th>Model:</th>               <td>Logit</td>      <th>  Df Residuals:      </th>  <td>  4453</td>  \n",
       "</tr>\n",
       "<tr>\n",
       "  <th>Method:</th>               <td>MLE</td>       <th>  Df Model:          </th>  <td>    11</td>  \n",
       "</tr>\n",
       "<tr>\n",
       "  <th>Date:</th>          <td>Tue, 08 May 2018</td> <th>  Pseudo R-squ.:     </th>  <td>0.02503</td> \n",
       "</tr>\n",
       "<tr>\n",
       "  <th>Time:</th>              <td>16:54:29</td>     <th>  Log-Likelihood:    </th> <td> -1243.8</td> \n",
       "</tr>\n",
       "<tr>\n",
       "  <th>converged:</th>           <td>True</td>       <th>  LL-Null:           </th> <td> -1275.7</td> \n",
       "</tr>\n",
       "<tr>\n",
       "  <th> </th>                      <td> </td>        <th>  LLR p-value:       </th> <td>1.762e-09</td>\n",
       "</tr>\n",
       "</table>\n",
       "<table class=\"simpletable\">\n",
       "<tr>\n",
       "             <td></td>                <th>coef</th>     <th>std err</th>      <th>z</th>      <th>P>|z|</th> <th>[95.0% Conf. Int.]</th> \n",
       "</tr>\n",
       "<tr>\n",
       "  <th>cs_size_s_ctn_l_rel_m</th>   <td>    1.0070</td> <td>    0.772</td> <td>    1.304</td> <td> 0.192</td> <td>   -0.506     2.520</td>\n",
       "</tr>\n",
       "<tr>\n",
       "  <th>cs_size_s_ctn_l_rel_l</th>   <td>    1.1841</td> <td>    1.959</td> <td>    0.604</td> <td> 0.546</td> <td>   -2.655     5.024</td>\n",
       "</tr>\n",
       "<tr>\n",
       "  <th>xc_overloan</th>             <td>    1.0146</td> <td>    0.189</td> <td>    5.368</td> <td> 0.000</td> <td>    0.644     1.385</td>\n",
       "</tr>\n",
       "<tr>\n",
       "  <th>lp_p1_xc_overloan</th>       <td>    0.5882</td> <td>    0.500</td> <td>    1.177</td> <td> 0.239</td> <td>   -0.391     1.568</td>\n",
       "</tr>\n",
       "<tr>\n",
       "  <th>ls_nd</th>                   <td>    0.6820</td> <td>    0.239</td> <td>    2.852</td> <td> 0.004</td> <td>    0.213     1.151</td>\n",
       "</tr>\n",
       "<tr>\n",
       "  <th>ld_add5_rc</th>              <td>    0.5978</td> <td>    1.293</td> <td>    0.462</td> <td> 0.644</td> <td>   -1.936     3.131</td>\n",
       "</tr>\n",
       "<tr>\n",
       "  <th>ld_add5_xc_ml</th>           <td>    0.5235</td> <td>    1.015</td> <td>    0.516</td> <td> 0.606</td> <td>   -1.466     2.513</td>\n",
       "</tr>\n",
       "<tr>\n",
       "  <th>ld_add5_xc_m</th>            <td>    0.5652</td> <td>    0.989</td> <td>    0.572</td> <td> 0.568</td> <td>   -1.373     2.503</td>\n",
       "</tr>\n",
       "<tr>\n",
       "  <th>cg_add5</th>                 <td>    0.6813</td> <td>    0.982</td> <td>    0.694</td> <td> 0.488</td> <td>   -1.243     2.605</td>\n",
       "</tr>\n",
       "<tr>\n",
       "  <th>bs_add5_id6plus_dist_vf</th> <td>    0.7790</td> <td>    1.185</td> <td>    0.658</td> <td> 0.511</td> <td>   -1.543     3.101</td>\n",
       "</tr>\n",
       "<tr>\n",
       "  <th>lp_p1_vl_idnbr</th>          <td>   18.3426</td> <td>   21.275</td> <td>    0.862</td> <td> 0.389</td> <td>  -23.356    60.041</td>\n",
       "</tr>\n",
       "<tr>\n",
       "  <th>constant</th>                <td>   -2.4052</td> <td>    0.056</td> <td>  -43.198</td> <td> 0.000</td> <td>   -2.514    -2.296</td>\n",
       "</tr>\n",
       "</table>"
      ],
      "text/plain": [
       "<class 'statsmodels.iolib.summary.Summary'>\n",
       "\"\"\"\n",
       "                           Logit Regression Results                           \n",
       "==============================================================================\n",
       "Dep. Variable:                   type   No. Observations:                 4465\n",
       "Model:                          Logit   Df Residuals:                     4453\n",
       "Method:                           MLE   Df Model:                           11\n",
       "Date:                Tue, 08 May 2018   Pseudo R-squ.:                 0.02503\n",
       "Time:                        16:54:29   Log-Likelihood:                -1243.8\n",
       "converged:                       True   LL-Null:                       -1275.7\n",
       "                                        LLR p-value:                 1.762e-09\n",
       "===========================================================================================\n",
       "                              coef    std err          z      P>|z|      [95.0% Conf. Int.]\n",
       "-------------------------------------------------------------------------------------------\n",
       "cs_size_s_ctn_l_rel_m       1.0070      0.772      1.304      0.192        -0.506     2.520\n",
       "cs_size_s_ctn_l_rel_l       1.1841      1.959      0.604      0.546        -2.655     5.024\n",
       "xc_overloan                 1.0146      0.189      5.368      0.000         0.644     1.385\n",
       "lp_p1_xc_overloan           0.5882      0.500      1.177      0.239        -0.391     1.568\n",
       "ls_nd                       0.6820      0.239      2.852      0.004         0.213     1.151\n",
       "ld_add5_rc                  0.5978      1.293      0.462      0.644        -1.936     3.131\n",
       "ld_add5_xc_ml               0.5235      1.015      0.516      0.606        -1.466     2.513\n",
       "ld_add5_xc_m                0.5652      0.989      0.572      0.568        -1.373     2.503\n",
       "cg_add5                     0.6813      0.982      0.694      0.488        -1.243     2.605\n",
       "bs_add5_id6plus_dist_vf     0.7790      1.185      0.658      0.511        -1.543     3.101\n",
       "lp_p1_vl_idnbr             18.3426     21.275      0.862      0.389       -23.356    60.041\n",
       "constant                   -2.4052      0.056    -43.198      0.000        -2.514    -2.296\n",
       "===========================================================================================\n",
       "\"\"\""
      ]
     },
     "execution_count": 390,
     "metadata": {},
     "output_type": "execute_result"
    }
   ],
   "source": [
    "logit = sm.Logit(train_Y, train_X).fit()\n",
    "logit_params=logit.params\n",
    "logit.summary()"
   ]
  },
  {
   "cell_type": "code",
   "execution_count": 391,
   "metadata": {
    "collapsed": false
   },
   "outputs": [
    {
     "data": {
      "text/plain": [
       "0.22349239349239478"
      ]
     },
     "execution_count": 391,
     "metadata": {},
     "output_type": "execute_result"
    }
   ],
   "source": [
    "#KS值\n",
    "predict_Y = logit.predict(train_X)\n",
    "KS_calculation(train_Y,predict_Y, 40)"
   ]
  },
  {
   "cell_type": "code",
   "execution_count": 392,
   "metadata": {
    "collapsed": false
   },
   "outputs": [
    {
     "data": {
      "text/plain": [
       "0.62413655413655411"
      ]
     },
     "execution_count": 392,
     "metadata": {},
     "output_type": "execute_result"
    }
   ],
   "source": [
    "#ROC值\n",
    "roc_auc_score(train_Y,predict_Y)"
   ]
  },
  {
   "cell_type": "markdown",
   "metadata": {
    "collapsed": true
   },
   "source": [
    "## 打分"
   ]
  },
  {
   "cell_type": "code",
   "execution_count": 393,
   "metadata": {
    "collapsed": false
   },
   "outputs": [
    {
     "name": "stderr",
     "output_type": "stream",
     "text": [
      "C:\\Users\\xiongjun\\AppData\\Local\\Continuum\\Anaconda3\\lib\\site-packages\\ipykernel\\__main__.py:3: SettingWithCopyWarning: \n",
      "A value is trying to be set on a copy of a slice from a DataFrame.\n",
      "Try using .loc[row_indexer,col_indexer] = value instead\n",
      "\n",
      "See the caveats in the documentation: http://pandas.pydata.org/pandas-docs/stable/indexing.html#indexing-view-versus-copy\n",
      "  app.launch_new_instance()\n",
      "C:\\Users\\xiongjun\\AppData\\Local\\Continuum\\Anaconda3\\lib\\site-packages\\ipykernel\\__main__.py:10: SettingWithCopyWarning: \n",
      "A value is trying to be set on a copy of a slice from a DataFrame.\n",
      "Try using .loc[row_indexer,col_indexer] = value instead\n",
      "\n",
      "See the caveats in the documentation: http://pandas.pydata.org/pandas-docs/stable/indexing.html#indexing-view-versus-copy\n",
      "C:\\Users\\xiongjun\\AppData\\Local\\Continuum\\Anaconda3\\lib\\site-packages\\ipykernel\\__main__.py:11: SettingWithCopyWarning: \n",
      "A value is trying to be set on a copy of a slice from a DataFrame.\n",
      "Try using .loc[row_indexer,col_indexer] = value instead\n",
      "\n",
      "See the caveats in the documentation: http://pandas.pydata.org/pandas-docs/stable/indexing.html#indexing-view-versus-copy\n"
     ]
    }
   ],
   "source": [
    "import math\n",
    "score_data=data_form[['type']]\n",
    "score_data['probability'] = predict_Y\n",
    "\n",
    "#风险odds=15:1时，基本分数为500分\n",
    "#风险翻倍时，即odds=15:2时，分数降低50分\n",
    "B = 50/math.log(2, math.e)\n",
    "A = 500 + B * math.log(1/15,math.e)\n",
    "\n",
    "score_data['odds'] = (score_data['probability']/(1-score_data['probability']) ).apply(lambda x: math.log(x, math.e))\n",
    "score_data['score'] = A - B * score_data['odds']"
   ]
  },
  {
   "cell_type": "code",
   "execution_count": 394,
   "metadata": {
    "collapsed": false
   },
   "outputs": [
    {
     "data": {
      "text/plain": [
       "484.13485615431193"
      ]
     },
     "execution_count": 394,
     "metadata": {},
     "output_type": "execute_result"
    }
   ],
   "source": [
    "score_data['score'].sum()/score_data.shape[0]"
   ]
  },
  {
   "cell_type": "code",
   "execution_count": 395,
   "metadata": {
    "collapsed": false
   },
   "outputs": [
    {
     "data": {
      "text/plain": [
       "4465"
      ]
     },
     "execution_count": 395,
     "metadata": {},
     "output_type": "execute_result"
    }
   ],
   "source": [
    "score_data[score_data['score']<=600].shape[0]"
   ]
  },
  {
   "cell_type": "code",
   "execution_count": 396,
   "metadata": {
    "collapsed": false
   },
   "outputs": [
    {
     "data": {
      "text/plain": [
       "1.0"
      ]
     },
     "execution_count": 396,
     "metadata": {},
     "output_type": "execute_result"
    }
   ],
   "source": [
    "score_data[score_data['score']<=560].shape[0]/score_data.shape[0]"
   ]
  },
  {
   "cell_type": "code",
   "execution_count": 397,
   "metadata": {
    "collapsed": false
   },
   "outputs": [
    {
     "data": {
      "text/plain": [
       "0.08286674132138858"
      ]
     },
     "execution_count": 397,
     "metadata": {},
     "output_type": "execute_result"
    }
   ],
   "source": [
    "score_data[(score_data.score<=560) & (score_data.type==1)].shape[0]/score_data[score_data['score']<=560].shape[0]"
   ]
  },
  {
   "cell_type": "code",
   "execution_count": 398,
   "metadata": {
    "collapsed": false
   },
   "outputs": [
    {
     "data": {
      "image/png": "[encoded data removed]",
      "text/plain": [
       "<matplotlib.figure.Figure at 0xaedcc18>"
      ]
     },
     "metadata": {},
     "output_type": "display_data"
    }
   ],
   "source": [
    "#分数区间\n",
    "score_data.score.hist()\n",
    "plt.show()"
   ]
  },
  {
   "cell_type": "code",
   "execution_count": 428,
   "metadata": {
    "collapsed": false
   },
   "outputs": [
    {
     "name": "stderr",
     "output_type": "stream",
     "text": [
      "C:\\Users\\xiongjun\\AppData\\Local\\Continuum\\Anaconda3\\lib\\site-packages\\pandas\\core\\generic.py:3295: SettingWithCopyWarning: \n",
      "A value is trying to be set on a copy of a slice from a DataFrame\n",
      "\n",
      "See the caveats in the documentation: http://pandas.pydata.org/pandas-docs/stable/indexing.html#indexing-view-versus-copy\n",
      "  self._update_inplace(new_data)\n",
      "C:\\Users\\xiongjun\\sc_func.py:124: SettingWithCopyWarning: \n",
      "A value is trying to be set on a copy of a slice from a DataFrame.\n",
      "Try using .loc[row_indexer,col_indexer] = value instead\n",
      "\n",
      "See the caveats in the documentation: http://pandas.pydata.org/pandas-docs/stable/indexing.html#indexing-view-versus-copy\n",
      "  df['qt_binning'] = var_bins_series(df[var], bins, side = side)\n"
     ]
    }
   ],
   "source": [
    "#分数分段\n",
    "var_name = 'score' #变量\n",
    "bins=[373,391,409,427,445,463,481,499,517,535,553]\n",
    "#bins=10\n",
    "var_bin = variable_binning(score_data, target, var_name, bins, 'bins')\n",
    "#var_bin.sort_values('Lbound')"
   ]
  },
  {
   "cell_type": "code",
   "execution_count": 429,
   "metadata": {
    "collapsed": true
   },
   "outputs": [],
   "source": [
    "def binning_plot(df):\n",
    "    '''\n",
    "    plot Y_rate and bin_percent curves\n",
    "    '''\n",
    "    plt.figure(figsize=(16, 5))\n",
    "    plt.subplot(121)\n",
    "    df['Y_rate'].plot()\n",
    "    plt.title('bins_bad_rate')\n",
    "\n",
    "    plt.subplot(122)\n",
    "    df['PctTotal'].plot.bar(secondary_y=True,alpha = 0.8, grid = False)\n",
    "    plt.title('bins_cnt')\n",
    "    \n",
    "    plt.tight_layout()\n",
    "    plt.show()"
   ]
  },
  {
   "cell_type": "code",
   "execution_count": 430,
   "metadata": {
    "collapsed": false,
    "scrolled": false
   },
   "outputs": [
    {
     "data": {
      "image/png": "[encoded data removed]",
      "text/plain": [
       "<matplotlib.figure.Figure at 0xb1252e8>"
      ]
     },
     "metadata": {},
     "output_type": "display_data"
    }
   ],
   "source": [
    "binning_plot(var_bin)"
   ]
  },
  {
   "cell_type": "code",
   "execution_count": 431,
   "metadata": {
    "collapsed": false
   },
   "outputs": [
    {
     "data": {
      "text/html": [
       "<div>\n",
       "<table border=\"1\" class=\"dataframe\">\n",
       "  <thead>\n",
       "    <tr style=\"text-align: right;\">\n",
       "      <th></th>\n",
       "      <th>Lbound</th>\n",
       "      <th>Ubound</th>\n",
       "      <th>Totalcnt</th>\n",
       "      <th>PctTotal</th>\n",
       "      <th>Y_count</th>\n",
       "      <th>n_Y_count</th>\n",
       "      <th>Y_pct</th>\n",
       "      <th>n_Y_pct</th>\n",
       "      <th>Y_rate</th>\n",
       "      <th>WOE</th>\n",
       "      <th>IV</th>\n",
       "    </tr>\n",
       "    <tr>\n",
       "      <th>qt_binning</th>\n",
       "      <th></th>\n",
       "      <th></th>\n",
       "      <th></th>\n",
       "      <th></th>\n",
       "      <th></th>\n",
       "      <th></th>\n",
       "      <th></th>\n",
       "      <th></th>\n",
       "      <th></th>\n",
       "      <th></th>\n",
       "      <th></th>\n",
       "    </tr>\n",
       "  </thead>\n",
       "  <tbody>\n",
       "    <tr>\n",
       "      <th>(373, 391]</th>\n",
       "      <td>373.715654</td>\n",
       "      <td>390.141050</td>\n",
       "      <td>11</td>\n",
       "      <td>0.002464</td>\n",
       "      <td>3</td>\n",
       "      <td>8</td>\n",
       "      <td>0.008108</td>\n",
       "      <td>0.001954</td>\n",
       "      <td>0.272727</td>\n",
       "      <td>1.423190</td>\n",
       "      <td>0.008759</td>\n",
       "    </tr>\n",
       "    <tr>\n",
       "      <th>(391, 409]</th>\n",
       "      <td>397.434322</td>\n",
       "      <td>408.344934</td>\n",
       "      <td>28</td>\n",
       "      <td>0.006271</td>\n",
       "      <td>7</td>\n",
       "      <td>21</td>\n",
       "      <td>0.018919</td>\n",
       "      <td>0.005128</td>\n",
       "      <td>0.250000</td>\n",
       "      <td>1.305407</td>\n",
       "      <td>0.018002</td>\n",
       "    </tr>\n",
       "    <tr>\n",
       "      <th>(409, 427]</th>\n",
       "      <td>411.566633</td>\n",
       "      <td>426.778394</td>\n",
       "      <td>139</td>\n",
       "      <td>0.031131</td>\n",
       "      <td>19</td>\n",
       "      <td>120</td>\n",
       "      <td>0.051351</td>\n",
       "      <td>0.029304</td>\n",
       "      <td>0.136691</td>\n",
       "      <td>0.560966</td>\n",
       "      <td>0.012368</td>\n",
       "    </tr>\n",
       "    <tr>\n",
       "      <th>(427, 445]</th>\n",
       "      <td>428.849900</td>\n",
       "      <td>443.723659</td>\n",
       "      <td>147</td>\n",
       "      <td>0.032923</td>\n",
       "      <td>19</td>\n",
       "      <td>128</td>\n",
       "      <td>0.051351</td>\n",
       "      <td>0.031258</td>\n",
       "      <td>0.129252</td>\n",
       "      <td>0.496428</td>\n",
       "      <td>0.009975</td>\n",
       "    </tr>\n",
       "    <tr>\n",
       "      <th>(445, 463]</th>\n",
       "      <td>445.791021</td>\n",
       "      <td>462.937387</td>\n",
       "      <td>1401</td>\n",
       "      <td>0.313774</td>\n",
       "      <td>157</td>\n",
       "      <td>1244</td>\n",
       "      <td>0.424324</td>\n",
       "      <td>0.303785</td>\n",
       "      <td>0.112063</td>\n",
       "      <td>0.334178</td>\n",
       "      <td>0.040281</td>\n",
       "    </tr>\n",
       "    <tr>\n",
       "      <th>(463, 481]</th>\n",
       "      <td>464.633518</td>\n",
       "      <td>478.186653</td>\n",
       "      <td>618</td>\n",
       "      <td>0.138410</td>\n",
       "      <td>54</td>\n",
       "      <td>564</td>\n",
       "      <td>0.145946</td>\n",
       "      <td>0.137729</td>\n",
       "      <td>0.087379</td>\n",
       "      <td>0.057949</td>\n",
       "      <td>0.000476</td>\n",
       "    </tr>\n",
       "    <tr>\n",
       "      <th>(481, 499]</th>\n",
       "      <td>482.117888</td>\n",
       "      <td>493.459905</td>\n",
       "      <td>276</td>\n",
       "      <td>0.061814</td>\n",
       "      <td>17</td>\n",
       "      <td>259</td>\n",
       "      <td>0.045946</td>\n",
       "      <td>0.063248</td>\n",
       "      <td>0.061594</td>\n",
       "      <td>-0.319596</td>\n",
       "      <td>0.005530</td>\n",
       "    </tr>\n",
       "    <tr>\n",
       "      <th>(499, 517]</th>\n",
       "      <td>499.059008</td>\n",
       "      <td>516.758603</td>\n",
       "      <td>1332</td>\n",
       "      <td>0.298320</td>\n",
       "      <td>74</td>\n",
       "      <td>1258</td>\n",
       "      <td>0.200000</td>\n",
       "      <td>0.307204</td>\n",
       "      <td>0.055556</td>\n",
       "      <td>-0.429194</td>\n",
       "      <td>0.046011</td>\n",
       "    </tr>\n",
       "    <tr>\n",
       "      <th>(517, 535]</th>\n",
       "      <td>521.868283</td>\n",
       "      <td>530.375190</td>\n",
       "      <td>27</td>\n",
       "      <td>0.006047</td>\n",
       "      <td>2</td>\n",
       "      <td>25</td>\n",
       "      <td>0.005405</td>\n",
       "      <td>0.006105</td>\n",
       "      <td>0.074074</td>\n",
       "      <td>-0.121710</td>\n",
       "      <td>0.000085</td>\n",
       "    </tr>\n",
       "    <tr>\n",
       "      <th>(535, 553]</th>\n",
       "      <td>538.809403</td>\n",
       "      <td>552.880223</td>\n",
       "      <td>486</td>\n",
       "      <td>0.108847</td>\n",
       "      <td>18</td>\n",
       "      <td>468</td>\n",
       "      <td>0.048649</td>\n",
       "      <td>0.114286</td>\n",
       "      <td>0.037037</td>\n",
       "      <td>-0.854078</td>\n",
       "      <td>0.056059</td>\n",
       "    </tr>\n",
       "  </tbody>\n",
       "</table>\n",
       "</div>"
      ],
      "text/plain": [
       "                Lbound      Ubound  Totalcnt  PctTotal  Y_count  n_Y_count  \\\n",
       "qt_binning                                                                   \n",
       "(373, 391]  373.715654  390.141050        11  0.002464        3          8   \n",
       "(391, 409]  397.434322  408.344934        28  0.006271        7         21   \n",
       "(409, 427]  411.566633  426.778394       139  0.031131       19        120   \n",
       "(427, 445]  428.849900  443.723659       147  0.032923       19        128   \n",
       "(445, 463]  445.791021  462.937387      1401  0.313774      157       1244   \n",
       "(463, 481]  464.633518  478.186653       618  0.138410       54        564   \n",
       "(481, 499]  482.117888  493.459905       276  0.061814       17        259   \n",
       "(499, 517]  499.059008  516.758603      1332  0.298320       74       1258   \n",
       "(517, 535]  521.868283  530.375190        27  0.006047        2         25   \n",
       "(535, 553]  538.809403  552.880223       486  0.108847       18        468   \n",
       "\n",
       "               Y_pct   n_Y_pct    Y_rate       WOE        IV  \n",
       "qt_binning                                                    \n",
       "(373, 391]  0.008108  0.001954  0.272727  1.423190  0.008759  \n",
       "(391, 409]  0.018919  0.005128  0.250000  1.305407  0.018002  \n",
       "(409, 427]  0.051351  0.029304  0.136691  0.560966  0.012368  \n",
       "(427, 445]  0.051351  0.031258  0.129252  0.496428  0.009975  \n",
       "(445, 463]  0.424324  0.303785  0.112063  0.334178  0.040281  \n",
       "(463, 481]  0.145946  0.137729  0.087379  0.057949  0.000476  \n",
       "(481, 499]  0.045946  0.063248  0.061594 -0.319596  0.005530  \n",
       "(499, 517]  0.200000  0.307204  0.055556 -0.429194  0.046011  \n",
       "(517, 535]  0.005405  0.006105  0.074074 -0.121710  0.000085  \n",
       "(535, 553]  0.048649  0.114286  0.037037 -0.854078  0.056059  "
      ]
     },
     "execution_count": 431,
     "metadata": {},
     "output_type": "execute_result"
    }
   ],
   "source": [
    "var_bin"
   ]
  },
  {
   "cell_type": "markdown",
   "metadata": {},
   "source": [
    "## 变量分组打分"
   ]
  },
  {
   "cell_type": "code",
   "execution_count": 455,
   "metadata": {
    "collapsed": false
   },
   "outputs": [
    {
     "name": "stderr",
     "output_type": "stream",
     "text": [
      "C:\\Users\\xiongjun\\AppData\\Local\\Continuum\\Anaconda3\\lib\\site-packages\\pandas\\core\\generic.py:3295: SettingWithCopyWarning: \n",
      "A value is trying to be set on a copy of a slice from a DataFrame\n",
      "\n",
      "See the caveats in the documentation: http://pandas.pydata.org/pandas-docs/stable/indexing.html#indexing-view-versus-copy\n",
      "  self._update_inplace(new_data)\n",
      "C:\\Users\\xiongjun\\sc_func.py:124: SettingWithCopyWarning: \n",
      "A value is trying to be set on a copy of a slice from a DataFrame.\n",
      "Try using .loc[row_indexer,col_indexer] = value instead\n",
      "\n",
      "See the caveats in the documentation: http://pandas.pydata.org/pandas-docs/stable/indexing.html#indexing-view-versus-copy\n",
      "  df['qt_binning'] = var_bins_series(df[var], bins, side = side)\n"
     ]
    }
   ],
   "source": [
    "selected_var={\n",
    "    #'cs_size_s':[0],\n",
    "    'cs_size_s_ctn_l_rel_m':[0],\n",
    " #'cs_size_s_ctn_m_rel_m':[0],\n",
    " #'cs_size_s_ctn_m_rel_l':[0],\n",
    " 'cs_size_s_ctn_l_rel_l':[0],\n",
    "               #'od':[0],\n",
    "                #'ls_od_b_1y':[0],\n",
    "                #'ls_od_b_2y':[0],\n",
    "                #'ls_od_f_6t':[0],\n",
    "               #'xc_behavior':[0],\n",
    "               'xc_overloan':[0],\n",
    "               'lp_p1_xc_overloan':[0],\n",
    "               #'xc_overdue':[0],\n",
    "               #'xc_record':[0],\n",
    "               #'rv':[0],\n",
    "               #'rc_idname_multi':[0],\n",
    "                #'rc_relation_age':[0],\n",
    "                #'rc_relation_multi':[0],\n",
    "                #'rc_relation_cnt':[0],\n",
    "               #'ls_cr':[0],\n",
    "               #'ls_cr_cl':[0],\n",
    "               #'ls_gp':[0],\n",
    "               #'ls_gp_cl':[0],\n",
    "               'ls_nd':[0],\n",
    "                #'ld_gps5_rc':[0],\n",
    "'ld_add5_rc':[0],\n",
    "'ld_add5_xc_ml':[0],\n",
    "'ld_add5_xc_m':[0],\n",
    "#'lp_p1_ld_add5_od':[0],\n",
    "#'lp_p1_ld_add5_rc':[0],\n",
    "                 'cg_add5':[0],\n",
    "               #'bs_gps5':[0],\n",
    "#'bs_add5_id6plus_dist_c':[0],\n",
    "'bs_add5_id6plus_dist_vf':[0],\n",
    "#'bs_add5_id6plus_dist_vc':[0],\n",
    "#'lp_p1_ld_idnbr_6plus_xcp':[0],\n",
    " 'lp_p1_vl_idnbr':[0]\n",
    "               \n",
    "              }\n",
    "#各变量分组的WOE集合放在一个字典中\n",
    "def var_woe_result(df, target, select_var):\n",
    "    output_df = select_var\n",
    "    var_list = list(select_var.keys())\n",
    "    for i in var_list:\n",
    "        output_df[i] = variable_binning(df, target, i,select_var.get(i), 'bins')['WOE'] #select_var.get(i)返回字典中键的关联值即分组的切割值bin\n",
    "    return output_df\n",
    "\n",
    "var_woe_result=var_woe_result(data_form,target,selected_var)"
   ]
  },
  {
   "cell_type": "code",
   "execution_count": 456,
   "metadata": {
    "collapsed": false
   },
   "outputs": [],
   "source": [
    "#乘以模型参数得出变量分\n",
    "variable_score=var_woe_result\n",
    "var_list = list(var_woe_result.keys())\n",
    "for i in var_list:\n",
    "    variable_score[i] = var_woe_result.get(i)*logit_params[i]*B*(-1)"
   ]
  },
  {
   "cell_type": "code",
   "execution_count": 457,
   "metadata": {
    "collapsed": false
   },
   "outputs": [
    {
     "data": {
      "text/plain": [
       "{'bs_add5_id6plus_dist_vf': qt_binning\n",
       " (-inf, 0]    1.574918\n",
       " (0, +inf)   -5.202630\n",
       " Name: WOE, dtype: float64, 'cg_add5': qt_binning\n",
       " (-inf, 0]     0.427875\n",
       " (0, +inf)   -16.513245\n",
       " Name: WOE, dtype: float64, 'cs_size_s_ctn_l_rel_l': qt_binning\n",
       " (-inf, 0]    0.911735\n",
       " (0, +inf)   -6.381537\n",
       " Name: WOE, dtype: float64, 'cs_size_s_ctn_l_rel_m': qt_binning\n",
       " (-inf, 0]     1.086055\n",
       " (0, +inf)   -22.227720\n",
       " Name: WOE, dtype: float64, 'ld_add5_rc': qt_binning\n",
       " (-inf, 0]     0.107166\n",
       " (0, +inf)   -26.399835\n",
       " Name: WOE, dtype: float64, 'ld_add5_xc_m': qt_binning\n",
       " (-inf, 0]     4.112424\n",
       " (0, +inf)   -11.099337\n",
       " Name: WOE, dtype: float64, 'ld_add5_xc_ml': qt_binning\n",
       " (-inf, 0]     3.503124\n",
       " (0, +inf)   -10.629187\n",
       " Name: WOE, dtype: float64, 'lp_p1_vl_idnbr': qt_binning\n",
       " (-inf, 0]     0.508667\n",
       " (0, +inf)   -23.224258\n",
       " Name: WOE, dtype: float64, 'lp_p1_xc_overloan': qt_binning\n",
       " (-inf, 0]     0.510965\n",
       " (0, +inf)   -33.713423\n",
       " Name: WOE, dtype: float64, 'ls_nd': qt_binning\n",
       " (-inf, 0]    -4.594598\n",
       " (0, +inf)    41.933345\n",
       " Name: WOE, dtype: float64, 'xc_overloan': qt_binning\n",
       " (-inf, 0]    20.053355\n",
       " (0, +inf)   -25.296143\n",
       " Name: WOE, dtype: float64}"
      ]
     },
     "execution_count": 457,
     "metadata": {},
     "output_type": "execute_result"
    }
   ],
   "source": [
    "variable_score"
   ]
  },
  {
   "cell_type": "code",
   "execution_count": 458,
   "metadata": {
    "collapsed": false
   },
   "outputs": [
    {
     "data": {
      "text/plain": [
       "-173.4951235260456"
      ]
     },
     "execution_count": 458,
     "metadata": {},
     "output_type": "execute_result"
    }
   ],
   "source": [
    "logit_params['constant']*B"
   ]
  },
  {
   "cell_type": "markdown",
   "metadata": {},
   "source": [
    "## 模型基础分数"
   ]
  },
  {
   "cell_type": "code",
   "execution_count": 459,
   "metadata": {
    "collapsed": false
   },
   "outputs": [
    {
     "data": {
      "text/plain": [
       "478.15059374561963"
      ]
     },
     "execution_count": 459,
     "metadata": {},
     "output_type": "execute_result"
    }
   ],
   "source": [
    "base_score=A-logit_params['constant']*B\n",
    "base_score"
   ]
  },
  {
   "cell_type": "code",
   "execution_count": 460,
   "metadata": {
    "collapsed": false
   },
   "outputs": [
    {
     "data": {
      "text/plain": [
       "72.13475204444818"
      ]
     },
     "execution_count": 460,
     "metadata": {},
     "output_type": "execute_result"
    }
   ],
   "source": [
    "B"
   ]
  },
  {
   "cell_type": "code",
   "execution_count": 461,
   "metadata": {
    "collapsed": false
   },
   "outputs": [
    {
     "data": {
      "text/plain": [
       "304.65547021957406"
      ]
     },
     "execution_count": 461,
     "metadata": {},
     "output_type": "execute_result"
    }
   ],
   "source": [
    "A"
   ]
  },
  {
   "cell_type": "code",
   "execution_count": 462,
   "metadata": {
    "collapsed": false
   },
   "outputs": [
    {
     "ename": "KeyError",
     "evalue": "\"['ld_xc'] not in index\"",
     "output_type": "error",
     "traceback": [
      "\u001b[0;31m---------------------------------------------------------------------------\u001b[0m",
      "\u001b[0;31mKeyError\u001b[0m                                  Traceback (most recent call last)",
      "\u001b[0;32m<ipython-input-462-5ebf84f5694c>\u001b[0m in \u001b[0;36m<module>\u001b[0;34m()\u001b[0m\n\u001b[1;32m     14\u001b[0m                \u001b[1;34m'ls_nd'\u001b[0m\u001b[1;33m,\u001b[0m\u001b[1;33m\u001b[0m\u001b[0m\n\u001b[1;32m     15\u001b[0m                \u001b[1;34m'ld_xc'\u001b[0m\u001b[1;33m,\u001b[0m\u001b[1;33m\u001b[0m\u001b[0m\n\u001b[0;32m---> 16\u001b[0;31m                'bs_gps5']]\n\u001b[0m\u001b[1;32m     17\u001b[0m \u001b[0mscore_data1\u001b[0m\u001b[1;33m[\u001b[0m\u001b[1;34m'probability'\u001b[0m\u001b[1;33m]\u001b[0m \u001b[1;33m=\u001b[0m \u001b[0mpredict_Y\u001b[0m\u001b[1;33m\u001b[0m\u001b[0m\n\u001b[1;32m     18\u001b[0m \u001b[1;33m\u001b[0m\u001b[0m\n",
      "\u001b[0;32mC:\\Users\\xiongjun\\AppData\\Local\\Continuum\\Anaconda3\\lib\\site-packages\\pandas\\core\\frame.py\u001b[0m in \u001b[0;36m__getitem__\u001b[0;34m(self, key)\u001b[0m\n\u001b[1;32m   2051\u001b[0m         \u001b[1;32mif\u001b[0m \u001b[0misinstance\u001b[0m\u001b[1;33m(\u001b[0m\u001b[0mkey\u001b[0m\u001b[1;33m,\u001b[0m \u001b[1;33m(\u001b[0m\u001b[0mSeries\u001b[0m\u001b[1;33m,\u001b[0m \u001b[0mnp\u001b[0m\u001b[1;33m.\u001b[0m\u001b[0mndarray\u001b[0m\u001b[1;33m,\u001b[0m \u001b[0mIndex\u001b[0m\u001b[1;33m,\u001b[0m \u001b[0mlist\u001b[0m\u001b[1;33m)\u001b[0m\u001b[1;33m)\u001b[0m\u001b[1;33m:\u001b[0m\u001b[1;33m\u001b[0m\u001b[0m\n\u001b[1;32m   2052\u001b[0m             \u001b[1;31m# either boolean or fancy integer index\u001b[0m\u001b[1;33m\u001b[0m\u001b[1;33m\u001b[0m\u001b[0m\n\u001b[0;32m-> 2053\u001b[0;31m             \u001b[1;32mreturn\u001b[0m \u001b[0mself\u001b[0m\u001b[1;33m.\u001b[0m\u001b[0m_getitem_array\u001b[0m\u001b[1;33m(\u001b[0m\u001b[0mkey\u001b[0m\u001b[1;33m)\u001b[0m\u001b[1;33m\u001b[0m\u001b[0m\n\u001b[0m\u001b[1;32m   2054\u001b[0m         \u001b[1;32melif\u001b[0m \u001b[0misinstance\u001b[0m\u001b[1;33m(\u001b[0m\u001b[0mkey\u001b[0m\u001b[1;33m,\u001b[0m \u001b[0mDataFrame\u001b[0m\u001b[1;33m)\u001b[0m\u001b[1;33m:\u001b[0m\u001b[1;33m\u001b[0m\u001b[0m\n\u001b[1;32m   2055\u001b[0m             \u001b[1;32mreturn\u001b[0m \u001b[0mself\u001b[0m\u001b[1;33m.\u001b[0m\u001b[0m_getitem_frame\u001b[0m\u001b[1;33m(\u001b[0m\u001b[0mkey\u001b[0m\u001b[1;33m)\u001b[0m\u001b[1;33m\u001b[0m\u001b[0m\n",
      "\u001b[0;32mC:\\Users\\xiongjun\\AppData\\Local\\Continuum\\Anaconda3\\lib\\site-packages\\pandas\\core\\frame.py\u001b[0m in \u001b[0;36m_getitem_array\u001b[0;34m(self, key)\u001b[0m\n\u001b[1;32m   2095\u001b[0m             \u001b[1;32mreturn\u001b[0m \u001b[0mself\u001b[0m\u001b[1;33m.\u001b[0m\u001b[0mtake\u001b[0m\u001b[1;33m(\u001b[0m\u001b[0mindexer\u001b[0m\u001b[1;33m,\u001b[0m \u001b[0maxis\u001b[0m\u001b[1;33m=\u001b[0m\u001b[1;36m0\u001b[0m\u001b[1;33m,\u001b[0m \u001b[0mconvert\u001b[0m\u001b[1;33m=\u001b[0m\u001b[1;32mFalse\u001b[0m\u001b[1;33m)\u001b[0m\u001b[1;33m\u001b[0m\u001b[0m\n\u001b[1;32m   2096\u001b[0m         \u001b[1;32melse\u001b[0m\u001b[1;33m:\u001b[0m\u001b[1;33m\u001b[0m\u001b[0m\n\u001b[0;32m-> 2097\u001b[0;31m             \u001b[0mindexer\u001b[0m \u001b[1;33m=\u001b[0m \u001b[0mself\u001b[0m\u001b[1;33m.\u001b[0m\u001b[0mix\u001b[0m\u001b[1;33m.\u001b[0m\u001b[0m_convert_to_indexer\u001b[0m\u001b[1;33m(\u001b[0m\u001b[0mkey\u001b[0m\u001b[1;33m,\u001b[0m \u001b[0maxis\u001b[0m\u001b[1;33m=\u001b[0m\u001b[1;36m1\u001b[0m\u001b[1;33m)\u001b[0m\u001b[1;33m\u001b[0m\u001b[0m\n\u001b[0m\u001b[1;32m   2098\u001b[0m             \u001b[1;32mreturn\u001b[0m \u001b[0mself\u001b[0m\u001b[1;33m.\u001b[0m\u001b[0mtake\u001b[0m\u001b[1;33m(\u001b[0m\u001b[0mindexer\u001b[0m\u001b[1;33m,\u001b[0m \u001b[0maxis\u001b[0m\u001b[1;33m=\u001b[0m\u001b[1;36m1\u001b[0m\u001b[1;33m,\u001b[0m \u001b[0mconvert\u001b[0m\u001b[1;33m=\u001b[0m\u001b[1;32mTrue\u001b[0m\u001b[1;33m)\u001b[0m\u001b[1;33m\u001b[0m\u001b[0m\n\u001b[1;32m   2099\u001b[0m \u001b[1;33m\u001b[0m\u001b[0m\n",
      "\u001b[0;32mC:\\Users\\xiongjun\\AppData\\Local\\Continuum\\Anaconda3\\lib\\site-packages\\pandas\\core\\indexing.py\u001b[0m in \u001b[0;36m_convert_to_indexer\u001b[0;34m(self, obj, axis, is_setter)\u001b[0m\n\u001b[1;32m   1228\u001b[0m                 \u001b[0mmask\u001b[0m \u001b[1;33m=\u001b[0m \u001b[0mcheck\u001b[0m \u001b[1;33m==\u001b[0m \u001b[1;33m-\u001b[0m\u001b[1;36m1\u001b[0m\u001b[1;33m\u001b[0m\u001b[0m\n\u001b[1;32m   1229\u001b[0m                 \u001b[1;32mif\u001b[0m \u001b[0mmask\u001b[0m\u001b[1;33m.\u001b[0m\u001b[0many\u001b[0m\u001b[1;33m(\u001b[0m\u001b[1;33m)\u001b[0m\u001b[1;33m:\u001b[0m\u001b[1;33m\u001b[0m\u001b[0m\n\u001b[0;32m-> 1230\u001b[0;31m                     \u001b[1;32mraise\u001b[0m \u001b[0mKeyError\u001b[0m\u001b[1;33m(\u001b[0m\u001b[1;34m'%s not in index'\u001b[0m \u001b[1;33m%\u001b[0m \u001b[0mobjarr\u001b[0m\u001b[1;33m[\u001b[0m\u001b[0mmask\u001b[0m\u001b[1;33m]\u001b[0m\u001b[1;33m)\u001b[0m\u001b[1;33m\u001b[0m\u001b[0m\n\u001b[0m\u001b[1;32m   1231\u001b[0m \u001b[1;33m\u001b[0m\u001b[0m\n\u001b[1;32m   1232\u001b[0m                 \u001b[1;32mreturn\u001b[0m \u001b[0m_values_from_object\u001b[0m\u001b[1;33m(\u001b[0m\u001b[0mindexer\u001b[0m\u001b[1;33m)\u001b[0m\u001b[1;33m\u001b[0m\u001b[0m\n",
      "\u001b[0;31mKeyError\u001b[0m: \"['ld_xc'] not in index\""
     ]
    }
   ],
   "source": [
    "#打分详情下载\n",
    "import math\n",
    "score_data1=data_form[['type',\n",
    "                'ls_od_b_1y',\n",
    "                'ls_od_b_2y',\n",
    "               'xc_overloan',\n",
    "               'xc_overdue',\n",
    "               'rv',\n",
    "               'rc_idname_multi',\n",
    "                'rc_relation_cnt',\n",
    "               'ls_cr',\n",
    "               'ls_cr_cl',\n",
    "               'ls_gp',\n",
    "               'ls_nd',\n",
    "               'ld_xc',\n",
    "               'bs_gps5']]\n",
    "score_data1['probability'] = predict_Y\n",
    "\n",
    "#风险odds=15:1时，基本分数为660分\n",
    "#风险翻倍时，即odds=15:2时，分数降低50分\n",
    "B = 50/math.log(2, math.e)\n",
    "A = 500 + B * math.log(1/15,math.e)\n",
    "\n",
    "score_data1['odds'] = (score_data['probability']/(1-score_data['probability']) ).apply(lambda x: math.log(x, math.e))\n",
    "score_data1['score'] = A - B * score_data['odds']"
   ]
  },
  {
   "cell_type": "markdown",
   "metadata": {},
   "source": [
    "## 低分段人群的规则命中情况"
   ]
  },
  {
   "cell_type": "code",
   "execution_count": 463,
   "metadata": {
    "collapsed": false
   },
   "outputs": [
    {
     "ename": "NameError",
     "evalue": "name 'score_data1' is not defined",
     "output_type": "error",
     "traceback": [
      "\u001b[0;31m---------------------------------------------------------------------------\u001b[0m",
      "\u001b[0;31mNameError\u001b[0m                                 Traceback (most recent call last)",
      "\u001b[0;32m<ipython-input-463-58ae045a335a>\u001b[0m in \u001b[0;36m<module>\u001b[0;34m()\u001b[0m\n\u001b[1;32m      1\u001b[0m \u001b[1;31m#低分段人群的规则命中分布\u001b[0m\u001b[1;33m\u001b[0m\u001b[1;33m\u001b[0m\u001b[0m\n\u001b[0;32m----> 2\u001b[0;31m \u001b[0mcolumns1\u001b[0m\u001b[1;33m=\u001b[0m\u001b[0mlist\u001b[0m\u001b[1;33m(\u001b[0m\u001b[0mscore_data1\u001b[0m\u001b[1;33m.\u001b[0m\u001b[0mcolumns\u001b[0m\u001b[1;33m)\u001b[0m\u001b[1;33m\u001b[0m\u001b[0m\n\u001b[0m\u001b[1;32m      3\u001b[0m \u001b[0mrules1\u001b[0m\u001b[1;33m=\u001b[0m\u001b[0mpd\u001b[0m\u001b[1;33m.\u001b[0m\u001b[0mSeries\u001b[0m\u001b[1;33m(\u001b[0m\u001b[0mindex\u001b[0m\u001b[1;33m=\u001b[0m\u001b[0mcolumns1\u001b[0m\u001b[1;33m)\u001b[0m\u001b[1;33m\u001b[0m\u001b[0m\n\u001b[1;32m      4\u001b[0m \u001b[1;32mfor\u001b[0m \u001b[0mi\u001b[0m \u001b[1;32min\u001b[0m \u001b[0mcolumns1\u001b[0m\u001b[1;33m:\u001b[0m\u001b[1;33m\u001b[0m\u001b[0m\n\u001b[1;32m      5\u001b[0m          \u001b[0mrules1\u001b[0m\u001b[1;33m[\u001b[0m\u001b[0mi\u001b[0m\u001b[1;33m]\u001b[0m\u001b[1;33m=\u001b[0m\u001b[0mscore_data1\u001b[0m\u001b[1;33m[\u001b[0m\u001b[1;33m(\u001b[0m\u001b[0mscore_data1\u001b[0m\u001b[1;33m.\u001b[0m\u001b[0mscore\u001b[0m\u001b[1;33m<=\u001b[0m\u001b[1;36m450\u001b[0m\u001b[1;33m)\u001b[0m\u001b[1;33m&\u001b[0m \u001b[1;33m(\u001b[0m\u001b[0mscore_data1\u001b[0m\u001b[1;33m[\u001b[0m\u001b[0mi\u001b[0m\u001b[1;33m]\u001b[0m\u001b[1;33m==\u001b[0m\u001b[1;36m1\u001b[0m\u001b[1;33m)\u001b[0m \u001b[1;33m]\u001b[0m\u001b[1;33m.\u001b[0m\u001b[0mshape\u001b[0m\u001b[1;33m[\u001b[0m\u001b[1;36m0\u001b[0m\u001b[1;33m]\u001b[0m\u001b[1;33m/\u001b[0m\u001b[0mscore_data1\u001b[0m\u001b[1;33m[\u001b[0m\u001b[0mscore_data1\u001b[0m\u001b[1;33m[\u001b[0m\u001b[1;34m'score'\u001b[0m\u001b[1;33m]\u001b[0m\u001b[1;33m<=\u001b[0m\u001b[1;36m450\u001b[0m\u001b[1;33m]\u001b[0m\u001b[1;33m.\u001b[0m\u001b[0mshape\u001b[0m\u001b[1;33m[\u001b[0m\u001b[1;36m0\u001b[0m\u001b[1;33m]\u001b[0m\u001b[1;33m\u001b[0m\u001b[0m\n",
      "\u001b[0;31mNameError\u001b[0m: name 'score_data1' is not defined"
     ]
    }
   ],
   "source": [
    "#低分段人群的规则命中分布\n",
    "columns1=list(score_data1.columns)\n",
    "rules1=pd.Series(index=columns1)\n",
    "for i in columns1:  \n",
    "         rules1[i]=score_data1[(score_data1.score<=450)& (score_data1[i]==1) ].shape[0]/score_data1[score_data1['score']<=450].shape[0]"
   ]
  },
  {
   "cell_type": "code",
   "execution_count": 32,
   "metadata": {
    "collapsed": false
   },
   "outputs": [
    {
     "data": {
      "text/plain": [
       "type               0.153203\n",
       "ls_od_b_1y         0.001448\n",
       "ls_od_b_2y         0.001226\n",
       "xc_overloan        0.999443\n",
       "xc_overdue         0.084457\n",
       "rv                 0.066184\n",
       "rc_idname_multi    0.029304\n",
       "rc_relation_cnt    0.050808\n",
       "ls_cr              0.000000\n",
       "ls_cr_cl           0.000111\n",
       "ls_gp              0.011588\n",
       "ls_nd              0.001448\n",
       "ld_xc              0.295710\n",
       "bs_gps5            0.057382\n",
       "probability        0.000000\n",
       "odds               0.000000\n",
       "score              0.000000\n",
       "dtype: float64"
      ]
     },
     "execution_count": 32,
     "metadata": {},
     "output_type": "execute_result"
    }
   ],
   "source": [
    "rules"
   ]
  },
  {
   "cell_type": "code",
   "execution_count": 112,
   "metadata": {
    "collapsed": false
   },
   "outputs": [],
   "source": [
    "#低分段人群的规则命中时的bad_rate\n",
    "columns1=list(score_data1.columns)\n",
    "rules2=pd.Series(index=columns1)\n",
    "for i in columns1:\n",
    "    if(score_data1[(score_data1.score<=450)& (score_data1[i]==1) ].shape[0]==0):\n",
    "        rules2[i]=0\n",
    "    else:\n",
    "         rules2[i]=score_data1[(score_data1.score<=450)& (score_data1[i]==1)& (score_data1.type==1)].shape[0]/score_data1[(score_data1.score<=450)& (score_data1[i]==1) ].shape[0]"
   ]
  },
  {
   "cell_type": "code",
   "execution_count": 113,
   "metadata": {
    "collapsed": false
   },
   "outputs": [
    {
     "data": {
      "text/plain": [
       "type               1.000000\n",
       "ls_od_b_1y         0.230769\n",
       "ls_od_b_2y         0.181818\n",
       "xc_overloan        0.153066\n",
       "xc_overdue         0.164908\n",
       "rv                 0.136364\n",
       "rc_idname_multi    0.155894\n",
       "rc_relation_cnt    0.160088\n",
       "ls_cr              0.000000\n",
       "ls_cr_cl           0.000000\n",
       "ls_gp              0.134615\n",
       "ls_nd              0.000000\n",
       "ld_xc              0.150339\n",
       "bs_gps5            0.149515\n",
       "probability        0.000000\n",
       "odds               0.000000\n",
       "score              0.000000\n",
       "dtype: float64"
      ]
     },
     "execution_count": 113,
     "metadata": {},
     "output_type": "execute_result"
    }
   ],
   "source": [
    "rules2"
   ]
  },
  {
   "cell_type": "code",
   "execution_count": 289,
   "metadata": {
    "collapsed": true
   },
   "outputs": [],
   "source": [
    "#详情下载\n",
    "score_data1.to_csv('score_data1.csv')"
   ]
  },
  {
   "cell_type": "markdown",
   "metadata": {},
   "source": [
    "## 高分段人数"
   ]
  },
  {
   "cell_type": "code",
   "execution_count": 115,
   "metadata": {
    "collapsed": false
   },
   "outputs": [],
   "source": [
    "#低分段人群的规则命中分布\n",
    "columns3=list(score_data1.columns)\n",
    "rules3=pd.Series(index=columns1)\n",
    "for i in columns1:  \n",
    "         rules3[i]=score_data1[(score_data1.score>450)& (score_data1[i]==1) ].shape[0]/score_data1[score_data1['score']>450].shape[0]"
   ]
  },
  {
   "cell_type": "code",
   "execution_count": 117,
   "metadata": {
    "collapsed": false
   },
   "outputs": [
    {
     "data": {
      "text/plain": [
       "type               0.056913\n",
       "ls_od_b_1y         0.000885\n",
       "ls_od_b_2y         0.000491\n",
       "xc_overloan        0.163120\n",
       "xc_overdue         0.058338\n",
       "rv                 0.060500\n",
       "rc_idname_multi    0.020937\n",
       "rc_relation_cnt    0.031602\n",
       "ls_cr              0.091709\n",
       "ls_cr_cl           0.326633\n",
       "ls_gp              0.030373\n",
       "ls_nd              0.265641\n",
       "ld_xc              0.446454\n",
       "bs_gps5            0.048508\n",
       "probability        0.000000\n",
       "odds               0.000000\n",
       "score              0.000000\n",
       "dtype: float64"
      ]
     },
     "execution_count": 117,
     "metadata": {},
     "output_type": "execute_result"
    }
   ],
   "source": [
    "rules3"
   ]
  },
  {
   "cell_type": "markdown",
   "metadata": {
    "collapsed": true
   },
   "source": [
    "## 测试样本"
   ]
  },
  {
   "cell_type": "code",
   "execution_count": 464,
   "metadata": {
    "collapsed": false
   },
   "outputs": [
    {
     "data": {
      "text/plain": [
       "(5101, 64)"
      ]
     },
     "execution_count": 464,
     "metadata": {},
     "output_type": "execute_result"
    }
   ],
   "source": [
    "#数据集时间段：2018-02/26-2018-03/07\n",
    "data_test1 = pd.read_csv('D:\\\\python\\\\huabao\\\\tmp_score_nuoya_variable0508_1.csv')\n",
    "#数据集时间段：2018-02/10-2018-02/25\n",
    "data_test2 = pd.read_csv('D:\\\\python\\\\huabao\\\\tmp_score_nuoya_variable0508_2.csv')\n",
    "data_test=data_test1.append(data_test2)\n",
    "#data_test=data_test2\n",
    "data_test.shape"
   ]
  },
  {
   "cell_type": "code",
   "execution_count": 465,
   "metadata": {
    "collapsed": false
   },
   "outputs": [
    {
     "data": {
      "text/plain": [
       "0.03783571848657126"
      ]
     },
     "execution_count": 465,
     "metadata": {},
     "output_type": "execute_result"
    }
   ],
   "source": [
    "#样本的bad_rate\n",
    "data_test[data_test['type']==1].shape[0]/data_test.shape[0]"
   ]
  },
  {
   "cell_type": "markdown",
   "metadata": {},
   "source": [
    "### 测试样本区隔力KS"
   ]
  },
  {
   "cell_type": "code",
   "execution_count": 466,
   "metadata": {
    "collapsed": false
   },
   "outputs": [
    {
     "name": "stderr",
     "output_type": "stream",
     "text": [
      "C:\\Users\\xiongjun\\AppData\\Local\\Continuum\\Anaconda3\\lib\\site-packages\\pandas\\core\\generic.py:3295: SettingWithCopyWarning: \n",
      "A value is trying to be set on a copy of a slice from a DataFrame\n",
      "\n",
      "See the caveats in the documentation: http://pandas.pydata.org/pandas-docs/stable/indexing.html#indexing-view-versus-copy\n",
      "  self._update_inplace(new_data)\n",
      "C:\\Users\\xiongjun\\sc_func.py:124: SettingWithCopyWarning: \n",
      "A value is trying to be set on a copy of a slice from a DataFrame.\n",
      "Try using .loc[row_indexer,col_indexer] = value instead\n",
      "\n",
      "See the caveats in the documentation: http://pandas.pydata.org/pandas-docs/stable/indexing.html#indexing-view-versus-copy\n",
      "  df['qt_binning'] = var_bins_series(df[var], bins, side = side)\n"
     ]
    },
    {
     "data": {
      "text/plain": [
       "0.12884570395800857"
      ]
     },
     "execution_count": 466,
     "metadata": {},
     "output_type": "execute_result"
    }
   ],
   "source": [
    "selected_var={\n",
    "    #'cs_size_s':[0],\n",
    "    'cs_size_s_ctn_l_rel_m':[0],\n",
    " #'cs_size_s_ctn_m_rel_m':[0],\n",
    " #'cs_size_s_ctn_m_rel_l':[0],\n",
    " 'cs_size_s_ctn_l_rel_l':[0],\n",
    "               #'od':[0],\n",
    "                #'ls_od_b_1y':[0],\n",
    "                #'ls_od_b_2y':[0],\n",
    "                #'ls_od_f_6t':[0],\n",
    "               #'xc_behavior':[0],\n",
    "               'xc_overloan':[0],\n",
    "               'lp_p1_xc_overloan':[0],\n",
    "               #'xc_overdue':[0],\n",
    "               #'xc_record':[0],\n",
    "               #'rv':[0],\n",
    "               #'rc_idname_multi':[0],\n",
    "                #'rc_relation_age':[0],\n",
    "                #'rc_relation_multi':[0],\n",
    "                #'rc_relation_cnt':[0],\n",
    "               #'ls_cr':[0],\n",
    "               #'ls_cr_cl':[0],\n",
    "               #'ls_gp':[0],\n",
    "               #'ls_gp_cl':[0],\n",
    "               'ls_nd':[0],\n",
    "                #'ld_gps5_rc':[0],\n",
    "'ld_add5_rc':[0],\n",
    "'ld_add5_xc_ml':[0],\n",
    "'ld_add5_xc_m':[0],\n",
    "#'lp_p1_ld_add5_od':[0],\n",
    "#'lp_p1_ld_add5_rc':[0],\n",
    "                 'cg_add5':[0],\n",
    "               #'bs_gps5':[0],\n",
    "#'bs_add5_id6plus_dist_c':[0],\n",
    "'bs_add5_id6plus_dist_vf':[0],\n",
    "#'bs_add5_id6plus_dist_vc':[0],\n",
    "#'lp_p1_ld_idnbr_6plus_xcp':[0],\n",
    " 'lp_p1_vl_idnbr':[0]\n",
    "               \n",
    "              }\n",
    "#WOE变换\n",
    "WOE_test = WOE_mapping(data_test,selected_var, target)\n",
    "test_X = WOE_test.drop(target, axis = 1)\n",
    "test_X['constant'] = 1\n",
    "test_Y = WOE_test[target]\n",
    "\n",
    "#KS值\n",
    "predict_test_Y = logit.predict(test_X)\n",
    "KS_calculation(test_Y,predict_test_Y, 40)"
   ]
  },
  {
   "cell_type": "code",
   "execution_count": 467,
   "metadata": {
    "collapsed": false
   },
   "outputs": [
    {
     "data": {
      "text/plain": [
       "0.55234976415791492"
      ]
     },
     "execution_count": 467,
     "metadata": {},
     "output_type": "execute_result"
    }
   ],
   "source": [
    "roc_auc_score(test_Y,predict_test_Y)"
   ]
  },
  {
   "cell_type": "markdown",
   "metadata": {},
   "source": [
    "## 测试样本分数分布"
   ]
  },
  {
   "cell_type": "code",
   "execution_count": 468,
   "metadata": {
    "collapsed": false
   },
   "outputs": [
    {
     "name": "stderr",
     "output_type": "stream",
     "text": [
      "C:\\Users\\xiongjun\\AppData\\Local\\Continuum\\Anaconda3\\lib\\site-packages\\ipykernel\\__main__.py:3: SettingWithCopyWarning: \n",
      "A value is trying to be set on a copy of a slice from a DataFrame.\n",
      "Try using .loc[row_indexer,col_indexer] = value instead\n",
      "\n",
      "See the caveats in the documentation: http://pandas.pydata.org/pandas-docs/stable/indexing.html#indexing-view-versus-copy\n",
      "  app.launch_new_instance()\n",
      "C:\\Users\\xiongjun\\AppData\\Local\\Continuum\\Anaconda3\\lib\\site-packages\\ipykernel\\__main__.py:10: SettingWithCopyWarning: \n",
      "A value is trying to be set on a copy of a slice from a DataFrame.\n",
      "Try using .loc[row_indexer,col_indexer] = value instead\n",
      "\n",
      "See the caveats in the documentation: http://pandas.pydata.org/pandas-docs/stable/indexing.html#indexing-view-versus-copy\n",
      "C:\\Users\\xiongjun\\AppData\\Local\\Continuum\\Anaconda3\\lib\\site-packages\\ipykernel\\__main__.py:11: SettingWithCopyWarning: \n",
      "A value is trying to be set on a copy of a slice from a DataFrame.\n",
      "Try using .loc[row_indexer,col_indexer] = value instead\n",
      "\n",
      "See the caveats in the documentation: http://pandas.pydata.org/pandas-docs/stable/indexing.html#indexing-view-versus-copy\n"
     ]
    }
   ],
   "source": [
    "import math\n",
    "score_test=data_test[['type']]\n",
    "score_test['probability'] = predict_test_Y\n",
    "\n",
    "#风险odds=15:1时，基本分数为660分\n",
    "#风险翻倍时，即odds=15:2时，分数降低50分\n",
    "B = 50/math.log(2, math.e)\n",
    "A = 500 + B * math.log(1/15,math.e)\n",
    "\n",
    "score_test['odds'] = (score_test['probability']/(1-score_test['probability']) ).apply(lambda x: math.log(x, math.e))\n",
    "score_test['score'] = A - B * score_test['odds']"
   ]
  },
  {
   "cell_type": "code",
   "execution_count": 533,
   "metadata": {
    "collapsed": false
   },
   "outputs": [
    {
     "name": "stderr",
     "output_type": "stream",
     "text": [
      "C:\\Users\\xiongjun\\AppData\\Local\\Continuum\\Anaconda3\\lib\\site-packages\\pandas\\core\\generic.py:3295: SettingWithCopyWarning: \n",
      "A value is trying to be set on a copy of a slice from a DataFrame\n",
      "\n",
      "See the caveats in the documentation: http://pandas.pydata.org/pandas-docs/stable/indexing.html#indexing-view-versus-copy\n",
      "  self._update_inplace(new_data)\n",
      "C:\\Users\\xiongjun\\sc_func.py:124: SettingWithCopyWarning: \n",
      "A value is trying to be set on a copy of a slice from a DataFrame.\n",
      "Try using .loc[row_indexer,col_indexer] = value instead\n",
      "\n",
      "See the caveats in the documentation: http://pandas.pydata.org/pandas-docs/stable/indexing.html#indexing-view-versus-copy\n",
      "  df['qt_binning'] = var_bins_series(df[var], bins, side = side)\n"
     ]
    }
   ],
   "source": [
    "#分数分段\n",
    "bins=[456,475,495,515]\n",
    "#bins=5\n",
    "\n",
    "var_bin_test = variable_binning(score_test, target, var_name, bins, 'bins')\n",
    "#var_bin.sort_values('Lbound')"
   ]
  },
  {
   "cell_type": "code",
   "execution_count": 534,
   "metadata": {
    "collapsed": false,
    "scrolled": true
   },
   "outputs": [
    {
     "data": {
      "image/png": "[encoded data removed]",
      "text/plain": [
       "<matplotlib.figure.Figure at 0xb139d68>"
      ]
     },
     "metadata": {},
     "output_type": "display_data"
    }
   ],
   "source": [
    "binning_plot(var_bin_test)"
   ]
  },
  {
   "cell_type": "code",
   "execution_count": 535,
   "metadata": {
    "collapsed": false
   },
   "outputs": [
    {
     "data": {
      "text/html": [
       "<div>\n",
       "<table border=\"1\" class=\"dataframe\">\n",
       "  <thead>\n",
       "    <tr style=\"text-align: right;\">\n",
       "      <th></th>\n",
       "      <th>Lbound</th>\n",
       "      <th>Ubound</th>\n",
       "      <th>Totalcnt</th>\n",
       "      <th>PctTotal</th>\n",
       "      <th>Y_count</th>\n",
       "      <th>n_Y_count</th>\n",
       "      <th>Y_pct</th>\n",
       "      <th>n_Y_pct</th>\n",
       "      <th>Y_rate</th>\n",
       "      <th>WOE</th>\n",
       "      <th>IV</th>\n",
       "    </tr>\n",
       "    <tr>\n",
       "      <th>qt_binning</th>\n",
       "      <th></th>\n",
       "      <th></th>\n",
       "      <th></th>\n",
       "      <th></th>\n",
       "      <th></th>\n",
       "      <th></th>\n",
       "      <th></th>\n",
       "      <th></th>\n",
       "      <th></th>\n",
       "      <th></th>\n",
       "      <th></th>\n",
       "    </tr>\n",
       "  </thead>\n",
       "  <tbody>\n",
       "    <tr>\n",
       "      <th>(456, 475]</th>\n",
       "      <td>456.109661</td>\n",
       "      <td>474.065879</td>\n",
       "      <td>934</td>\n",
       "      <td>0.183101</td>\n",
       "      <td>46</td>\n",
       "      <td>888</td>\n",
       "      <td>0.238342</td>\n",
       "      <td>0.180929</td>\n",
       "      <td>0.049251</td>\n",
       "      <td>0.275601</td>\n",
       "      <td>0.015823</td>\n",
       "    </tr>\n",
       "    <tr>\n",
       "      <th>(475, 495]</th>\n",
       "      <td>475.136951</td>\n",
       "      <td>493.604750</td>\n",
       "      <td>3394</td>\n",
       "      <td>0.665360</td>\n",
       "      <td>127</td>\n",
       "      <td>3267</td>\n",
       "      <td>0.658031</td>\n",
       "      <td>0.665648</td>\n",
       "      <td>0.037419</td>\n",
       "      <td>-0.011509</td>\n",
       "      <td>0.000088</td>\n",
       "    </tr>\n",
       "    <tr>\n",
       "      <th>(495, 515]</th>\n",
       "      <td>495.021419</td>\n",
       "      <td>513.233885</td>\n",
       "      <td>649</td>\n",
       "      <td>0.127230</td>\n",
       "      <td>17</td>\n",
       "      <td>632</td>\n",
       "      <td>0.088083</td>\n",
       "      <td>0.128769</td>\n",
       "      <td>0.026194</td>\n",
       "      <td>-0.379744</td>\n",
       "      <td>0.015450</td>\n",
       "    </tr>\n",
       "    <tr>\n",
       "      <th>(515, +inf)</th>\n",
       "      <td>518.825808</td>\n",
       "      <td>932.446891</td>\n",
       "      <td>124</td>\n",
       "      <td>0.024309</td>\n",
       "      <td>3</td>\n",
       "      <td>121</td>\n",
       "      <td>0.015544</td>\n",
       "      <td>0.024654</td>\n",
       "      <td>0.024194</td>\n",
       "      <td>-0.461247</td>\n",
       "      <td>0.004202</td>\n",
       "    </tr>\n",
       "  </tbody>\n",
       "</table>\n",
       "</div>"
      ],
      "text/plain": [
       "                 Lbound      Ubound  Totalcnt  PctTotal  Y_count  n_Y_count  \\\n",
       "qt_binning                                                                    \n",
       "(456, 475]   456.109661  474.065879       934  0.183101       46        888   \n",
       "(475, 495]   475.136951  493.604750      3394  0.665360      127       3267   \n",
       "(495, 515]   495.021419  513.233885       649  0.127230       17        632   \n",
       "(515, +inf)  518.825808  932.446891       124  0.024309        3        121   \n",
       "\n",
       "                Y_pct   n_Y_pct    Y_rate       WOE        IV  \n",
       "qt_binning                                                     \n",
       "(456, 475]   0.238342  0.180929  0.049251  0.275601  0.015823  \n",
       "(475, 495]   0.658031  0.665648  0.037419 -0.011509  0.000088  \n",
       "(495, 515]   0.088083  0.128769  0.026194 -0.379744  0.015450  \n",
       "(515, +inf)  0.015544  0.024654  0.024194 -0.461247  0.004202  "
      ]
     },
     "execution_count": 535,
     "metadata": {},
     "output_type": "execute_result"
    }
   ],
   "source": [
    "var_bin_test"
   ]
  },
  {
   "cell_type": "code",
   "execution_count": 529,
   "metadata": {
    "collapsed": false
   },
   "outputs": [
    {
     "data": {
      "image/png": "[encoded data removed]",
      "text/plain": [
       "<matplotlib.figure.Figure at 0xaf665c0>"
      ]
     },
     "metadata": {},
     "output_type": "display_data"
    }
   ],
   "source": [
    "var_bin_test['Lift']=var_bin_test['Y_rate']/0.033\n",
    "var_bin_test['Lift'].plot.bar(secondary_y=True,alpha = 0.8, grid = False)\n",
    "plt.title('Lift')\n",
    "plt.show()"
   ]
  },
  {
   "cell_type": "markdown",
   "metadata": {},
   "source": [
    "## 测试样本稳定性PSI"
   ]
  },
  {
   "cell_type": "code",
   "execution_count": 40,
   "metadata": {
    "collapsed": true
   },
   "outputs": [],
   "source": [
    "def model_psi(var_bin,var_bin_test):\n",
    "    PSI_in=pd.DataFrame()\n",
    "    PSI_in['Y_pct1']=var_bin.PctTotal\n",
    "    PSI_in['Y_pct2']=var_bin_test.PctTotal\n",
    "    psi_result=pd.DataFrame()\n",
    "    psi_result['rate1'] = (PSI_in['Y_pct1']/PSI_in['Y_pct2']).map(lambda x:log(x))\n",
    "    psi_result['rate2'] = (PSI_in['Y_pct1'] - PSI_in['Y_pct2']) * psi_result['rate1']\n",
    "    psi = psi_result['rate2'].sum()\n",
    "    return psi_result"
   ]
  },
  {
   "cell_type": "code",
   "execution_count": 41,
   "metadata": {
    "collapsed": false
   },
   "outputs": [
    {
     "data": {
      "text/plain": [
       "0.03786984775983998"
      ]
     },
     "execution_count": 41,
     "metadata": {},
     "output_type": "execute_result"
    }
   ],
   "source": [
    "psi_result=model_psi(var_bin,var_bin_test)\n",
    "psi = psi_result['rate2'].sum()\n",
    "psi"
   ]
  },
  {
   "cell_type": "code",
   "execution_count": 42,
   "metadata": {
    "collapsed": false
   },
   "outputs": [
    {
     "data": {
      "text/plain": [
       "qt_binning\n",
       "(-inf, 430]    0.067185\n",
       "(430, 450]     0.238899\n",
       "(450, 490]     0.251620\n",
       "(490, 500]     0.177614\n",
       "(500, +inf)    0.264682\n",
       "Name: PctTotal, dtype: float64"
      ]
     },
     "execution_count": 42,
     "metadata": {},
     "output_type": "execute_result"
    }
   ],
   "source": [
    "var_bin.PctTotal"
   ]
  },
  {
   "cell_type": "code",
   "execution_count": 43,
   "metadata": {
    "collapsed": false
   },
   "outputs": [
    {
     "data": {
      "text/plain": [
       "qt_binning\n",
       "(-inf, 430]    0.061837\n",
       "(430, 450]     0.208388\n",
       "(450, 490]     0.198891\n",
       "(490, 500]     0.187938\n",
       "(500, +inf)    0.342946\n",
       "Name: PctTotal, dtype: float64"
      ]
     },
     "execution_count": 43,
     "metadata": {},
     "output_type": "execute_result"
    }
   ],
   "source": [
    "var_bin_test.PctTotal"
   ]
  },
  {
   "cell_type": "code",
   "execution_count": 44,
   "metadata": {
    "collapsed": false
   },
   "outputs": [
    {
     "data": {
      "text/plain": [
       "qt_binning\n",
       "(-inf, 430]    0.000444\n",
       "(430, 450]     0.004169\n",
       "(450, 490]     0.012400\n",
       "(490, 500]     0.000583\n",
       "(500, +inf)    0.020274\n",
       "Name: rate2, dtype: float64"
      ]
     },
     "execution_count": 44,
     "metadata": {},
     "output_type": "execute_result"
    }
   ],
   "source": [
    "psi_result['rate2']"
   ]
  },
  {
   "cell_type": "markdown",
   "metadata": {},
   "source": [
    "## 诺亚点点数据测试"
   ]
  },
  {
   "cell_type": "code",
   "execution_count": 46,
   "metadata": {
    "collapsed": false
   },
   "outputs": [
    {
     "data": {
      "text/plain": [
       "(4565, 15)"
      ]
     },
     "execution_count": 46,
     "metadata": {},
     "output_type": "execute_result"
    }
   ],
   "source": [
    "data_tg = pd.read_csv('D:\\\\python\\\\huabao\\\\tmp_score_nuoya_daihou_test_0326.csv')\n",
    "#data_tg['type']=1 #加个常数项做type列，方便后面调用函数运算\n",
    "data_tg.shape"
   ]
  },
  {
   "cell_type": "code",
   "execution_count": 47,
   "metadata": {
    "collapsed": false
   },
   "outputs": [
    {
     "data": {
      "text/plain": [
       "0.07097480832420591"
      ]
     },
     "execution_count": 47,
     "metadata": {},
     "output_type": "execute_result"
    }
   ],
   "source": [
    "#样本的bad_rate\n",
    "data_tg[data_tg['type']==1].shape[0]/data_tg.shape[0]"
   ]
  },
  {
   "cell_type": "code",
   "execution_count": 48,
   "metadata": {
    "collapsed": false
   },
   "outputs": [
    {
     "data": {
      "text/plain": [
       "324"
      ]
     },
     "execution_count": 48,
     "metadata": {},
     "output_type": "execute_result"
    }
   ],
   "source": [
    "data_tg[data_tg['type']==1].shape[0]"
   ]
  },
  {
   "cell_type": "code",
   "execution_count": 131,
   "metadata": {
    "collapsed": false
   },
   "outputs": [
    {
     "name": "stderr",
     "output_type": "stream",
     "text": [
      "C:\\Users\\xiongjun\\AppData\\Local\\Continuum\\Anaconda3\\lib\\site-packages\\pandas\\core\\generic.py:3295: SettingWithCopyWarning: \n",
      "A value is trying to be set on a copy of a slice from a DataFrame\n",
      "\n",
      "See the caveats in the documentation: http://pandas.pydata.org/pandas-docs/stable/indexing.html#indexing-view-versus-copy\n",
      "  self._update_inplace(new_data)\n",
      "C:\\Users\\xiongjun\\sc_func.py:124: SettingWithCopyWarning: \n",
      "A value is trying to be set on a copy of a slice from a DataFrame.\n",
      "Try using .loc[row_indexer,col_indexer] = value instead\n",
      "\n",
      "See the caveats in the documentation: http://pandas.pydata.org/pandas-docs/stable/indexing.html#indexing-view-versus-copy\n",
      "  df['qt_binning'] = var_bins_series(df[var], bins, side = side)\n"
     ]
    }
   ],
   "source": [
    "bins_tg =[450,500,520,550]\n",
    "var_bin_tg = variable_binning(data_tg, target, var_name, bins_tg, 'bins')"
   ]
  },
  {
   "cell_type": "code",
   "execution_count": 132,
   "metadata": {
    "collapsed": false,
    "scrolled": true
   },
   "outputs": [
    {
     "data": {
      "image/png": "[encoded data removed]",
      "text/plain": [
       "<matplotlib.figure.Figure at 0xf496128>"
      ]
     },
     "metadata": {},
     "output_type": "display_data"
    }
   ],
   "source": [
    "binning_plot(var_bin_tg)"
   ]
  },
  {
   "cell_type": "code",
   "execution_count": 133,
   "metadata": {
    "collapsed": false
   },
   "outputs": [
    {
     "data": {
      "text/html": [
       "<div>\n",
       "<table border=\"1\" class=\"dataframe\">\n",
       "  <thead>\n",
       "    <tr style=\"text-align: right;\">\n",
       "      <th></th>\n",
       "      <th>Lbound</th>\n",
       "      <th>Ubound</th>\n",
       "      <th>Totalcnt</th>\n",
       "      <th>PctTotal</th>\n",
       "      <th>Y_count</th>\n",
       "      <th>n_Y_count</th>\n",
       "      <th>Y_pct</th>\n",
       "      <th>n_Y_pct</th>\n",
       "      <th>Y_rate</th>\n",
       "      <th>WOE</th>\n",
       "      <th>IV</th>\n",
       "    </tr>\n",
       "    <tr>\n",
       "      <th>qt_binning</th>\n",
       "      <th></th>\n",
       "      <th></th>\n",
       "      <th></th>\n",
       "      <th></th>\n",
       "      <th></th>\n",
       "      <th></th>\n",
       "      <th></th>\n",
       "      <th></th>\n",
       "      <th></th>\n",
       "      <th></th>\n",
       "      <th></th>\n",
       "    </tr>\n",
       "  </thead>\n",
       "  <tbody>\n",
       "    <tr>\n",
       "      <th>(-inf, 450]</th>\n",
       "      <td>409</td>\n",
       "      <td>442</td>\n",
       "      <td>1664</td>\n",
       "      <td>0.364513</td>\n",
       "      <td>170</td>\n",
       "      <td>1494</td>\n",
       "      <td>0.524691</td>\n",
       "      <td>0.352275</td>\n",
       "      <td>0.102163</td>\n",
       "      <td>0.398397</td>\n",
       "      <td>0.068690</td>\n",
       "    </tr>\n",
       "    <tr>\n",
       "      <th>(450, 500]</th>\n",
       "      <td>452</td>\n",
       "      <td>498</td>\n",
       "      <td>2349</td>\n",
       "      <td>0.514567</td>\n",
       "      <td>139</td>\n",
       "      <td>2210</td>\n",
       "      <td>0.429012</td>\n",
       "      <td>0.521104</td>\n",
       "      <td>0.059174</td>\n",
       "      <td>-0.194463</td>\n",
       "      <td>0.017908</td>\n",
       "    </tr>\n",
       "    <tr>\n",
       "      <th>(500, 520]</th>\n",
       "      <td>502</td>\n",
       "      <td>519</td>\n",
       "      <td>470</td>\n",
       "      <td>0.102957</td>\n",
       "      <td>14</td>\n",
       "      <td>456</td>\n",
       "      <td>0.043210</td>\n",
       "      <td>0.107522</td>\n",
       "      <td>0.029787</td>\n",
       "      <td>-0.911625</td>\n",
       "      <td>0.058628</td>\n",
       "    </tr>\n",
       "    <tr>\n",
       "      <th>(520, 550]</th>\n",
       "      <td>527</td>\n",
       "      <td>543</td>\n",
       "      <td>82</td>\n",
       "      <td>0.017963</td>\n",
       "      <td>1</td>\n",
       "      <td>81</td>\n",
       "      <td>0.003086</td>\n",
       "      <td>0.019099</td>\n",
       "      <td>0.012195</td>\n",
       "      <td>-1.822638</td>\n",
       "      <td>0.029186</td>\n",
       "    </tr>\n",
       "  </tbody>\n",
       "</table>\n",
       "</div>"
      ],
      "text/plain": [
       "             Lbound  Ubound  Totalcnt  PctTotal  Y_count  n_Y_count     Y_pct  \\\n",
       "qt_binning                                                                      \n",
       "(-inf, 450]     409     442      1664  0.364513      170       1494  0.524691   \n",
       "(450, 500]      452     498      2349  0.514567      139       2210  0.429012   \n",
       "(500, 520]      502     519       470  0.102957       14        456  0.043210   \n",
       "(520, 550]      527     543        82  0.017963        1         81  0.003086   \n",
       "\n",
       "              n_Y_pct    Y_rate       WOE        IV  \n",
       "qt_binning                                           \n",
       "(-inf, 450]  0.352275  0.102163  0.398397  0.068690  \n",
       "(450, 500]   0.521104  0.059174 -0.194463  0.017908  \n",
       "(500, 520]   0.107522  0.029787 -0.911625  0.058628  \n",
       "(520, 550]   0.019099  0.012195 -1.822638  0.029186  "
      ]
     },
     "execution_count": 133,
     "metadata": {},
     "output_type": "execute_result"
    }
   ],
   "source": [
    "var_bin_tg"
   ]
  },
  {
   "cell_type": "code",
   "execution_count": 138,
   "metadata": {
    "collapsed": false
   },
   "outputs": [
    {
     "data": {
      "text/plain": [
       "0.17509378282699134"
      ]
     },
     "execution_count": 138,
     "metadata": {},
     "output_type": "execute_result"
    }
   ],
   "source": [
    "psi_result=model_psi(var_bin,var_bin_tg)\n",
    "psi = psi_result['rate2'].sum()\n",
    "psi"
   ]
  },
  {
   "cell_type": "code",
   "execution_count": 78,
   "metadata": {
    "collapsed": false
   },
   "outputs": [
    {
     "data": {
      "text/plain": [
       "0.008556396304536484"
      ]
     },
     "execution_count": 78,
     "metadata": {},
     "output_type": "execute_result"
    }
   ],
   "source": [
    "4565/533519"
   ]
  },
  {
   "cell_type": "code",
   "execution_count": 110,
   "metadata": {
    "collapsed": false
   },
   "outputs": [
    {
     "name": "stderr",
     "output_type": "stream",
     "text": [
      "C:\\Users\\xiongjun\\AppData\\Local\\Continuum\\Anaconda3\\lib\\site-packages\\pandas\\core\\generic.py:3295: SettingWithCopyWarning: \n",
      "A value is trying to be set on a copy of a slice from a DataFrame\n",
      "\n",
      "See the caveats in the documentation: http://pandas.pydata.org/pandas-docs/stable/indexing.html#indexing-view-versus-copy\n",
      "  self._update_inplace(new_data)\n",
      "C:\\Users\\xiongjun\\sc_func.py:124: SettingWithCopyWarning: \n",
      "A value is trying to be set on a copy of a slice from a DataFrame.\n",
      "Try using .loc[row_indexer,col_indexer] = value instead\n",
      "\n",
      "See the caveats in the documentation: http://pandas.pydata.org/pandas-docs/stable/indexing.html#indexing-view-versus-copy\n",
      "  df['qt_binning'] = var_bins_series(df[var], bins, side = side)\n"
     ]
    },
    {
     "data": {
      "text/plain": [
       "0.18182658410985086"
      ]
     },
     "execution_count": 110,
     "metadata": {},
     "output_type": "execute_result"
    }
   ],
   "source": [
    "selected_var ={#'cs':[0,4,5,6,7],\n",
    "               #'od':[0],\n",
    "                'ls_od_b_1y':[0],\n",
    "                'ls_od_b_2y':[0],\n",
    "                #'ls_od_f_6t':[0],\n",
    "               #'xc_behavior':[0],\n",
    "               'xc_overloan':[0],\n",
    "               'xc_overdue':[0],\n",
    "               #'xc_record':[0],\n",
    "               'rv':[0],\n",
    "               'rc_idname_multi':[0],\n",
    "                #'rc_relation_age':[0],\n",
    "                #'rc_relation_multi':[0],\n",
    "                'rc_relation_cnt':[0],\n",
    "               'ls_cr':[0],\n",
    "               'ls_cr_cl':[0],\n",
    "               'ls_gp':[0],\n",
    "               #'ls_gp_cl':[0],\n",
    "               'ls_nd':[0],\n",
    "               #'ld_rc':[0],\n",
    "               'ld_xc':[0],\n",
    "               'bs_gps5':[0]\n",
    "              }\n",
    "#WOE变换\n",
    "WOE_tg = WOE_mapping(data_tg,selected_var, target)\n",
    "tg_X = WOE_tg.drop(target, axis = 1)\n",
    "tg_X['constant'] = 1\n",
    "tg_Y = WOE_tg[target]\n",
    "\n",
    "#KS值\n",
    "predict_tg_Y = logit.predict(tg_X)\n",
    "KS_calculation(tg_Y,predict_tg_Y, 40)"
   ]
  },
  {
   "cell_type": "code",
   "execution_count": 55,
   "metadata": {
    "collapsed": false
   },
   "outputs": [
    {
     "data": {
      "text/plain": [
       "0.62176875649523611"
      ]
     },
     "execution_count": 55,
     "metadata": {},
     "output_type": "execute_result"
    }
   ],
   "source": [
    "roc_auc_score(tg_Y,predict_tg_Y)"
   ]
  },
  {
   "cell_type": "markdown",
   "metadata": {},
   "source": [
    "## 算话评分测试"
   ]
  },
  {
   "cell_type": "code",
   "execution_count": 66,
   "metadata": {
    "collapsed": false
   },
   "outputs": [
    {
     "data": {
      "text/plain": [
       "(4705, 5)"
      ]
     },
     "execution_count": 66,
     "metadata": {},
     "output_type": "execute_result"
    }
   ],
   "source": [
    "data_sh = pd.read_csv('D:\\\\python\\\\huabao\\\\tmp_suanhua_test0326.csv')\n",
    "#data_tg['type']=1 #加个常数项做type列，方便后面调用函数运算\n",
    "data_sh.shape"
   ]
  },
  {
   "cell_type": "code",
   "execution_count": 67,
   "metadata": {
    "collapsed": false
   },
   "outputs": [
    {
     "data": {
      "text/plain": [
       "0.15175345377258237"
      ]
     },
     "execution_count": 67,
     "metadata": {},
     "output_type": "execute_result"
    }
   ],
   "source": [
    "#样本的bad_rate\n",
    "data_sh[data_sh['type']==1].shape[0]/data_sh.shape[0]"
   ]
  },
  {
   "cell_type": "code",
   "execution_count": 69,
   "metadata": {
    "collapsed": false
   },
   "outputs": [
    {
     "data": {
      "text/plain": [
       "714"
      ]
     },
     "execution_count": 69,
     "metadata": {},
     "output_type": "execute_result"
    }
   ],
   "source": [
    "data_sh[data_sh['type']==1].shape[0]"
   ]
  },
  {
   "cell_type": "code",
   "execution_count": 90,
   "metadata": {
    "collapsed": false
   },
   "outputs": [
    {
     "name": "stderr",
     "output_type": "stream",
     "text": [
      "C:\\Users\\xiongjun\\AppData\\Local\\Continuum\\Anaconda3\\lib\\site-packages\\pandas\\core\\generic.py:3295: SettingWithCopyWarning: \n",
      "A value is trying to be set on a copy of a slice from a DataFrame\n",
      "\n",
      "See the caveats in the documentation: http://pandas.pydata.org/pandas-docs/stable/indexing.html#indexing-view-versus-copy\n",
      "  self._update_inplace(new_data)\n",
      "C:\\Users\\xiongjun\\sc_func.py:124: SettingWithCopyWarning: \n",
      "A value is trying to be set on a copy of a slice from a DataFrame.\n",
      "Try using .loc[row_indexer,col_indexer] = value instead\n",
      "\n",
      "See the caveats in the documentation: http://pandas.pydata.org/pandas-docs/stable/indexing.html#indexing-view-versus-copy\n",
      "  df['qt_binning'] = var_bins_series(df[var], bins, side = side)\n"
     ]
    }
   ],
   "source": [
    "bins_sh =[500,530,540,550,560,570,580]\n",
    "var_sh1='score1'\n",
    "var_bin_sh1 = variable_binning(data_sh, target, var_sh1, bins_sh, 'bins')"
   ]
  },
  {
   "cell_type": "code",
   "execution_count": 91,
   "metadata": {
    "collapsed": false
   },
   "outputs": [
    {
     "data": {
      "image/png": "[encoded data removed]",
      "text/plain": [
       "<matplotlib.figure.Figure at 0xd9b1208>"
      ]
     },
     "metadata": {},
     "output_type": "display_data"
    }
   ],
   "source": [
    "binning_plot(var_bin_sh1)"
   ]
  },
  {
   "cell_type": "code",
   "execution_count": 92,
   "metadata": {
    "collapsed": false
   },
   "outputs": [
    {
     "data": {
      "text/html": [
       "<div>\n",
       "<table border=\"1\" class=\"dataframe\">\n",
       "  <thead>\n",
       "    <tr style=\"text-align: right;\">\n",
       "      <th></th>\n",
       "      <th>Lbound</th>\n",
       "      <th>Ubound</th>\n",
       "      <th>Totalcnt</th>\n",
       "      <th>PctTotal</th>\n",
       "      <th>Y_count</th>\n",
       "      <th>n_Y_count</th>\n",
       "      <th>Y_pct</th>\n",
       "      <th>n_Y_pct</th>\n",
       "      <th>Y_rate</th>\n",
       "      <th>WOE</th>\n",
       "      <th>IV</th>\n",
       "    </tr>\n",
       "    <tr>\n",
       "      <th>qt_binning</th>\n",
       "      <th></th>\n",
       "      <th></th>\n",
       "      <th></th>\n",
       "      <th></th>\n",
       "      <th></th>\n",
       "      <th></th>\n",
       "      <th></th>\n",
       "      <th></th>\n",
       "      <th></th>\n",
       "      <th></th>\n",
       "      <th></th>\n",
       "    </tr>\n",
       "  </thead>\n",
       "  <tbody>\n",
       "    <tr>\n",
       "      <th>(-inf, 500]</th>\n",
       "      <td>488</td>\n",
       "      <td>500</td>\n",
       "      <td>55</td>\n",
       "      <td>0.011690</td>\n",
       "      <td>12</td>\n",
       "      <td>43</td>\n",
       "      <td>0.016807</td>\n",
       "      <td>0.010774</td>\n",
       "      <td>0.218182</td>\n",
       "      <td>0.444621</td>\n",
       "      <td>0.002682</td>\n",
       "    </tr>\n",
       "    <tr>\n",
       "      <th>(500, 530]</th>\n",
       "      <td>501</td>\n",
       "      <td>530</td>\n",
       "      <td>782</td>\n",
       "      <td>0.166206</td>\n",
       "      <td>184</td>\n",
       "      <td>598</td>\n",
       "      <td>0.257703</td>\n",
       "      <td>0.149837</td>\n",
       "      <td>0.235294</td>\n",
       "      <td>0.542259</td>\n",
       "      <td>0.058491</td>\n",
       "    </tr>\n",
       "    <tr>\n",
       "      <th>(530, 540]</th>\n",
       "      <td>531</td>\n",
       "      <td>540</td>\n",
       "      <td>390</td>\n",
       "      <td>0.082891</td>\n",
       "      <td>66</td>\n",
       "      <td>324</td>\n",
       "      <td>0.092437</td>\n",
       "      <td>0.081183</td>\n",
       "      <td>0.169231</td>\n",
       "      <td>0.129825</td>\n",
       "      <td>0.001461</td>\n",
       "    </tr>\n",
       "    <tr>\n",
       "      <th>(540, 550]</th>\n",
       "      <td>541</td>\n",
       "      <td>550</td>\n",
       "      <td>664</td>\n",
       "      <td>0.141126</td>\n",
       "      <td>72</td>\n",
       "      <td>592</td>\n",
       "      <td>0.100840</td>\n",
       "      <td>0.148334</td>\n",
       "      <td>0.108434</td>\n",
       "      <td>-0.385926</td>\n",
       "      <td>0.018329</td>\n",
       "    </tr>\n",
       "    <tr>\n",
       "      <th>(550, 560]</th>\n",
       "      <td>551</td>\n",
       "      <td>560</td>\n",
       "      <td>730</td>\n",
       "      <td>0.155154</td>\n",
       "      <td>56</td>\n",
       "      <td>674</td>\n",
       "      <td>0.078431</td>\n",
       "      <td>0.168880</td>\n",
       "      <td>0.076712</td>\n",
       "      <td>-0.766964</td>\n",
       "      <td>0.069371</td>\n",
       "    </tr>\n",
       "    <tr>\n",
       "      <th>(560, 570]</th>\n",
       "      <td>561</td>\n",
       "      <td>570</td>\n",
       "      <td>736</td>\n",
       "      <td>0.156429</td>\n",
       "      <td>74</td>\n",
       "      <td>662</td>\n",
       "      <td>0.103641</td>\n",
       "      <td>0.165873</td>\n",
       "      <td>0.100543</td>\n",
       "      <td>-0.470286</td>\n",
       "      <td>0.029267</td>\n",
       "    </tr>\n",
       "    <tr>\n",
       "      <th>(570, 580]</th>\n",
       "      <td>571</td>\n",
       "      <td>580</td>\n",
       "      <td>750</td>\n",
       "      <td>0.159405</td>\n",
       "      <td>71</td>\n",
       "      <td>679</td>\n",
       "      <td>0.099440</td>\n",
       "      <td>0.170133</td>\n",
       "      <td>0.094667</td>\n",
       "      <td>-0.537027</td>\n",
       "      <td>0.037964</td>\n",
       "    </tr>\n",
       "    <tr>\n",
       "      <th>(580, +inf)</th>\n",
       "      <td>581</td>\n",
       "      <td>607</td>\n",
       "      <td>598</td>\n",
       "      <td>0.127099</td>\n",
       "      <td>179</td>\n",
       "      <td>419</td>\n",
       "      <td>0.250700</td>\n",
       "      <td>0.104986</td>\n",
       "      <td>0.299331</td>\n",
       "      <td>0.870429</td>\n",
       "      <td>0.126834</td>\n",
       "    </tr>\n",
       "  </tbody>\n",
       "</table>\n",
       "</div>"
      ],
      "text/plain": [
       "             Lbound  Ubound  Totalcnt  PctTotal  Y_count  n_Y_count     Y_pct  \\\n",
       "qt_binning                                                                      \n",
       "(-inf, 500]     488     500        55  0.011690       12         43  0.016807   \n",
       "(500, 530]      501     530       782  0.166206      184        598  0.257703   \n",
       "(530, 540]      531     540       390  0.082891       66        324  0.092437   \n",
       "(540, 550]      541     550       664  0.141126       72        592  0.100840   \n",
       "(550, 560]      551     560       730  0.155154       56        674  0.078431   \n",
       "(560, 570]      561     570       736  0.156429       74        662  0.103641   \n",
       "(570, 580]      571     580       750  0.159405       71        679  0.099440   \n",
       "(580, +inf)     581     607       598  0.127099      179        419  0.250700   \n",
       "\n",
       "              n_Y_pct    Y_rate       WOE        IV  \n",
       "qt_binning                                           \n",
       "(-inf, 500]  0.010774  0.218182  0.444621  0.002682  \n",
       "(500, 530]   0.149837  0.235294  0.542259  0.058491  \n",
       "(530, 540]   0.081183  0.169231  0.129825  0.001461  \n",
       "(540, 550]   0.148334  0.108434 -0.385926  0.018329  \n",
       "(550, 560]   0.168880  0.076712 -0.766964  0.069371  \n",
       "(560, 570]   0.165873  0.100543 -0.470286  0.029267  \n",
       "(570, 580]   0.170133  0.094667 -0.537027  0.037964  \n",
       "(580, +inf)  0.104986  0.299331  0.870429  0.126834  "
      ]
     },
     "execution_count": 92,
     "metadata": {},
     "output_type": "execute_result"
    }
   ],
   "source": [
    "var_bin_sh1"
   ]
  },
  {
   "cell_type": "markdown",
   "metadata": {},
   "source": [
    "## score2"
   ]
  },
  {
   "cell_type": "code",
   "execution_count": 106,
   "metadata": {
    "collapsed": false,
    "scrolled": true
   },
   "outputs": [
    {
     "name": "stderr",
     "output_type": "stream",
     "text": [
      "C:\\Users\\xiongjun\\AppData\\Local\\Continuum\\Anaconda3\\lib\\site-packages\\pandas\\core\\generic.py:3295: SettingWithCopyWarning: \n",
      "A value is trying to be set on a copy of a slice from a DataFrame\n",
      "\n",
      "See the caveats in the documentation: http://pandas.pydata.org/pandas-docs/stable/indexing.html#indexing-view-versus-copy\n",
      "  self._update_inplace(new_data)\n",
      "C:\\Users\\xiongjun\\sc_func.py:124: SettingWithCopyWarning: \n",
      "A value is trying to be set on a copy of a slice from a DataFrame.\n",
      "Try using .loc[row_indexer,col_indexer] = value instead\n",
      "\n",
      "See the caveats in the documentation: http://pandas.pydata.org/pandas-docs/stable/indexing.html#indexing-view-versus-copy\n",
      "  df['qt_binning'] = var_bins_series(df[var], bins, side = side)\n"
     ]
    }
   ],
   "source": [
    "#bins_sh =[530,540,550,560,600]\n",
    "bins_sh =[500,530,540,550,560,580,600]\n",
    "var_sh2='score2'\n",
    "var_bin_sh2 = variable_binning(data_sh, target, var_sh2, bins_sh, 'bins')"
   ]
  },
  {
   "cell_type": "code",
   "execution_count": 107,
   "metadata": {
    "collapsed": false,
    "scrolled": true
   },
   "outputs": [
    {
     "data": {
      "image/png": "[encoded data removed]",
      "text/plain": [
       "<matplotlib.figure.Figure at 0xf5af208>"
      ]
     },
     "metadata": {},
     "output_type": "display_data"
    }
   ],
   "source": [
    "binning_plot(var_bin_sh2)"
   ]
  },
  {
   "cell_type": "code",
   "execution_count": 108,
   "metadata": {
    "collapsed": false
   },
   "outputs": [
    {
     "data": {
      "text/html": [
       "<div>\n",
       "<table border=\"1\" class=\"dataframe\">\n",
       "  <thead>\n",
       "    <tr style=\"text-align: right;\">\n",
       "      <th></th>\n",
       "      <th>Lbound</th>\n",
       "      <th>Ubound</th>\n",
       "      <th>Totalcnt</th>\n",
       "      <th>PctTotal</th>\n",
       "      <th>Y_count</th>\n",
       "      <th>n_Y_count</th>\n",
       "      <th>Y_pct</th>\n",
       "      <th>n_Y_pct</th>\n",
       "      <th>Y_rate</th>\n",
       "      <th>WOE</th>\n",
       "      <th>IV</th>\n",
       "    </tr>\n",
       "    <tr>\n",
       "      <th>qt_binning</th>\n",
       "      <th></th>\n",
       "      <th></th>\n",
       "      <th></th>\n",
       "      <th></th>\n",
       "      <th></th>\n",
       "      <th></th>\n",
       "      <th></th>\n",
       "      <th></th>\n",
       "      <th></th>\n",
       "      <th></th>\n",
       "      <th></th>\n",
       "    </tr>\n",
       "  </thead>\n",
       "  <tbody>\n",
       "    <tr>\n",
       "      <th>(-inf, 500]</th>\n",
       "      <td>500</td>\n",
       "      <td>500</td>\n",
       "      <td>22</td>\n",
       "      <td>0.004676</td>\n",
       "      <td>4</td>\n",
       "      <td>18</td>\n",
       "      <td>0.005602</td>\n",
       "      <td>0.004510</td>\n",
       "      <td>0.181818</td>\n",
       "      <td>0.216837</td>\n",
       "      <td>0.000237</td>\n",
       "    </tr>\n",
       "    <tr>\n",
       "      <th>(500, 530]</th>\n",
       "      <td>504</td>\n",
       "      <td>530</td>\n",
       "      <td>683</td>\n",
       "      <td>0.145165</td>\n",
       "      <td>165</td>\n",
       "      <td>518</td>\n",
       "      <td>0.231092</td>\n",
       "      <td>0.129792</td>\n",
       "      <td>0.241581</td>\n",
       "      <td>0.576884</td>\n",
       "      <td>0.058439</td>\n",
       "    </tr>\n",
       "    <tr>\n",
       "      <th>(530, 540]</th>\n",
       "      <td>531</td>\n",
       "      <td>540</td>\n",
       "      <td>326</td>\n",
       "      <td>0.069288</td>\n",
       "      <td>74</td>\n",
       "      <td>252</td>\n",
       "      <td>0.103641</td>\n",
       "      <td>0.063142</td>\n",
       "      <td>0.226994</td>\n",
       "      <td>0.495550</td>\n",
       "      <td>0.020069</td>\n",
       "    </tr>\n",
       "    <tr>\n",
       "      <th>(540, 550]</th>\n",
       "      <td>541</td>\n",
       "      <td>550</td>\n",
       "      <td>180</td>\n",
       "      <td>0.038257</td>\n",
       "      <td>30</td>\n",
       "      <td>150</td>\n",
       "      <td>0.042017</td>\n",
       "      <td>0.037585</td>\n",
       "      <td>0.166667</td>\n",
       "      <td>0.111476</td>\n",
       "      <td>0.000494</td>\n",
       "    </tr>\n",
       "    <tr>\n",
       "      <th>(550, 560]</th>\n",
       "      <td>551</td>\n",
       "      <td>560</td>\n",
       "      <td>480</td>\n",
       "      <td>0.102019</td>\n",
       "      <td>61</td>\n",
       "      <td>419</td>\n",
       "      <td>0.085434</td>\n",
       "      <td>0.104986</td>\n",
       "      <td>0.127083</td>\n",
       "      <td>-0.206083</td>\n",
       "      <td>0.004029</td>\n",
       "    </tr>\n",
       "    <tr>\n",
       "      <th>(560, 580]</th>\n",
       "      <td>561</td>\n",
       "      <td>580</td>\n",
       "      <td>1637</td>\n",
       "      <td>0.347928</td>\n",
       "      <td>133</td>\n",
       "      <td>1504</td>\n",
       "      <td>0.186275</td>\n",
       "      <td>0.376848</td>\n",
       "      <td>0.081246</td>\n",
       "      <td>-0.704620</td>\n",
       "      <td>0.134282</td>\n",
       "    </tr>\n",
       "    <tr>\n",
       "      <th>(580, 600]</th>\n",
       "      <td>581</td>\n",
       "      <td>600</td>\n",
       "      <td>1377</td>\n",
       "      <td>0.292667</td>\n",
       "      <td>247</td>\n",
       "      <td>1130</td>\n",
       "      <td>0.345938</td>\n",
       "      <td>0.283137</td>\n",
       "      <td>0.179375</td>\n",
       "      <td>0.200330</td>\n",
       "      <td>0.012581</td>\n",
       "    </tr>\n",
       "  </tbody>\n",
       "</table>\n",
       "</div>"
      ],
      "text/plain": [
       "             Lbound  Ubound  Totalcnt  PctTotal  Y_count  n_Y_count     Y_pct  \\\n",
       "qt_binning                                                                      \n",
       "(-inf, 500]     500     500        22  0.004676        4         18  0.005602   \n",
       "(500, 530]      504     530       683  0.145165      165        518  0.231092   \n",
       "(530, 540]      531     540       326  0.069288       74        252  0.103641   \n",
       "(540, 550]      541     550       180  0.038257       30        150  0.042017   \n",
       "(550, 560]      551     560       480  0.102019       61        419  0.085434   \n",
       "(560, 580]      561     580      1637  0.347928      133       1504  0.186275   \n",
       "(580, 600]      581     600      1377  0.292667      247       1130  0.345938   \n",
       "\n",
       "              n_Y_pct    Y_rate       WOE        IV  \n",
       "qt_binning                                           \n",
       "(-inf, 500]  0.004510  0.181818  0.216837  0.000237  \n",
       "(500, 530]   0.129792  0.241581  0.576884  0.058439  \n",
       "(530, 540]   0.063142  0.226994  0.495550  0.020069  \n",
       "(540, 550]   0.037585  0.166667  0.111476  0.000494  \n",
       "(550, 560]   0.104986  0.127083 -0.206083  0.004029  \n",
       "(560, 580]   0.376848  0.081246 -0.704620  0.134282  \n",
       "(580, 600]   0.283137  0.179375  0.200330  0.012581  "
      ]
     },
     "execution_count": 108,
     "metadata": {},
     "output_type": "execute_result"
    }
   ],
   "source": [
    "var_bin_sh2"
   ]
  },
  {
   "cell_type": "code",
   "execution_count": null,
   "metadata": {
    "collapsed": true
   },
   "outputs": [],
   "source": []
  }
 ],
 "metadata": {
  "kernelspec": {
   "display_name": "Python 3",
   "language": "python",
   "name": "python3"
  },
  "language_info": {
   "codemirror_mode": {
    "name": "ipython",
    "version": 3
   },
   "file_extension": ".py",
   "mimetype": "text/x-python",
   "name": "python",
   "nbconvert_exporter": "python",
   "pygments_lexer": "ipython3",
   "version": "3.6.0"
  }
 },
 "nbformat": 4,
 "nbformat_minor": 2
}
