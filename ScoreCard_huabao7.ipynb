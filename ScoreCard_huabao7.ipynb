{
 "cells": [
  {
   "cell_type": "code",
   "execution_count": 1,
   "metadata": {
    "collapsed": true
   },
   "outputs": [],
   "source": [
    "import numpy as np\n",
    "import pandas as pd\n",
    "import matplotlib.pyplot as plt\n",
    "from sc_func import *"
   ]
  },
  {
   "cell_type": "markdown",
   "metadata": {},
   "source": [
    "## 数据导入"
   ]
  },
  {
   "cell_type": "code",
   "execution_count": 2,
   "metadata": {
    "collapsed": false
   },
   "outputs": [],
   "source": [
    "#花豹11月01/22+12月01/06\n",
    "data_form1= pd.read_csv('D:\\\\python\\\\huabao\\\\tmp_score_huabao_variable0316_6.csv')\n",
    "#诺亚点点17年1101-1201\n",
    "#data_form1= pd.read_csv('D:\\\\python\\\\huabao\\\\tmp_score_nuoya_variable0426_3.csv')"
   ]
  },
  {
   "cell_type": "code",
   "execution_count": 3,
   "metadata": {
    "collapsed": false
   },
   "outputs": [
    {
     "data": {
      "text/plain": [
       "0.08638564900075028"
      ]
     },
     "execution_count": 3,
     "metadata": {},
     "output_type": "execute_result"
    }
   ],
   "source": [
    "data_form1.shape\n",
    "data_form1[data_form1['type']==1].shape[0]/data_form1.shape[0]"
   ]
  },
  {
   "cell_type": "code",
   "execution_count": 4,
   "metadata": {
    "collapsed": true
   },
   "outputs": [],
   "source": [
    "#诺亚点点17年12/02-18年01/08\n",
    "data_form2= pd.read_csv('D:\\\\python\\\\huabao\\\\tmp_score_nuoya_variable0426_1.csv')"
   ]
  },
  {
   "cell_type": "code",
   "execution_count": 5,
   "metadata": {
    "collapsed": false
   },
   "outputs": [
    {
     "data": {
      "text/plain": [
       "(1994, 35)"
      ]
     },
     "execution_count": 5,
     "metadata": {},
     "output_type": "execute_result"
    }
   ],
   "source": [
    "data_form2.shape"
   ]
  },
  {
   "cell_type": "code",
   "execution_count": 6,
   "metadata": {
    "collapsed": false
   },
   "outputs": [
    {
     "data": {
      "text/plain": [
       "0.04714142427281846"
      ]
     },
     "execution_count": 6,
     "metadata": {},
     "output_type": "execute_result"
    }
   ],
   "source": [
    "data_form2[data_form2['type']==1].shape[0]/data_form2.shape[0]"
   ]
  },
  {
   "cell_type": "code",
   "execution_count": 51,
   "metadata": {
    "collapsed": false
   },
   "outputs": [
    {
     "data": {
      "text/plain": [
       "0.08286674132138858"
      ]
     },
     "execution_count": 51,
     "metadata": {},
     "output_type": "execute_result"
    }
   ],
   "source": [
    "#诺亚点点11月1-12月1\n",
    "data_form3= pd.read_csv('D:\\\\python\\\\huabao\\\\tmp_score_nuoya_variable0426_3.csv')\n",
    "data_form3.shape\n",
    "data_form3[data_form3['type']==1].shape[0]/data_form3.shape[0]"
   ]
  },
  {
   "cell_type": "code",
   "execution_count": null,
   "metadata": {
    "collapsed": true
   },
   "outputs": [],
   "source": [
    "#诺亚点点2018-02/10-02/25\n",
    "data_form4= pd.read_csv('D:\\\\python\\\\huabao\\\\tmp_score_nuoya_variable0426_2.csv')"
   ]
  },
  {
   "cell_type": "code",
   "execution_count": 7,
   "metadata": {
    "collapsed": true
   },
   "outputs": [],
   "source": [
    "data_form=data_form1.append(data_form2)\n",
    "#data_form=data_form1"
   ]
  },
  {
   "cell_type": "code",
   "execution_count": 8,
   "metadata": {
    "collapsed": false
   },
   "outputs": [
    {
     "data": {
      "text/plain": [
       "(31316, 35)"
      ]
     },
     "execution_count": 8,
     "metadata": {},
     "output_type": "execute_result"
    }
   ],
   "source": [
    "data_form.shape"
   ]
  },
  {
   "cell_type": "code",
   "execution_count": 9,
   "metadata": {
    "collapsed": false
   },
   "outputs": [],
   "source": [
    "x_columns = [x for x in data_form.columns if x not in ['type']]\n",
    "keep_list = x_columns\n",
    "target = 'type'"
   ]
  },
  {
   "cell_type": "code",
   "execution_count": 10,
   "metadata": {
    "collapsed": false
   },
   "outputs": [
    {
     "data": {
      "text/plain": [
       "0.08388683101290076"
      ]
     },
     "execution_count": 10,
     "metadata": {},
     "output_type": "execute_result"
    }
   ],
   "source": [
    "#样本的bad_rate\n",
    "data_form[data_form['type']==1].shape[0]/data_form.shape[0]"
   ]
  },
  {
   "cell_type": "markdown",
   "metadata": {},
   "source": [
    "## 变量筛选"
   ]
  },
  {
   "cell_type": "code",
   "execution_count": 11,
   "metadata": {
    "collapsed": false
   },
   "outputs": [],
   "source": [
    "#相关性删除\n",
    "df=data_form\n",
    "corr=df.corr()"
   ]
  },
  {
   "cell_type": "code",
   "execution_count": 12,
   "metadata": {
    "collapsed": false
   },
   "outputs": [
    {
     "data": {
      "text/plain": [
       "Index(['type', 'cs', 'ls_od_b_6m', 'ls_od_b_1y', 'ls_od_b_2y', 'ls_od_f_1t',\n",
       "       'ls_od_f_3t', 'ls_od_f_6t', 'xc_behavior', 'xc_overloan', 'xc_overdue',\n",
       "       'xc_record', 'rv', 'rc_idname_multi', 'rc_relation_age',\n",
       "       'rc_relation_cnt_name_phone', 'rc_relation_multi', 'rc_relation_cnt',\n",
       "       'ls_cr', 'ls_cr_cl', 'ls_gp', 'ls_gp_cl', 'ls_nw', 'ls_nd', 'ld_od',\n",
       "       'ld_rc', 'ld_xc', 'bs_gps5', 'bs_add5', 'bd_addr_abn_apply',\n",
       "       'bd_gps5_abn_apply', 'bd_addr_abn_spend', 'bd_gps5_abn_spend',\n",
       "       'dist_gps5_abn_beh', 'dist_gps5_abn_spend'],\n",
       "      dtype='object')"
      ]
     },
     "execution_count": 12,
     "metadata": {},
     "output_type": "execute_result"
    }
   ],
   "source": [
    "corr.columns"
   ]
  },
  {
   "cell_type": "code",
   "execution_count": 13,
   "metadata": {
    "collapsed": false
   },
   "outputs": [
    {
     "data": {
      "text/plain": [
       "pandas.indexes.base.Index"
      ]
     },
     "execution_count": 13,
     "metadata": {},
     "output_type": "execute_result"
    }
   ],
   "source": [
    "type(corr.columns)"
   ]
  },
  {
   "cell_type": "code",
   "execution_count": 14,
   "metadata": {
    "collapsed": false
   },
   "outputs": [
    {
     "data": {
      "text/plain": [
       "['cs',\n",
       " 'ls_od_b_6m',\n",
       " 'ls_od_b_1y',\n",
       " 'ls_od_b_2y',\n",
       " 'ls_od_f_1t',\n",
       " 'ls_od_f_3t',\n",
       " 'ls_od_f_6t',\n",
       " 'xc_behavior',\n",
       " 'xc_overloan',\n",
       " 'xc_overdue',\n",
       " 'xc_record',\n",
       " 'rv',\n",
       " 'rc_idname_multi',\n",
       " 'rc_relation_age',\n",
       " 'rc_relation_cnt_name_phone',\n",
       " 'rc_relation_multi',\n",
       " 'rc_relation_cnt',\n",
       " 'ls_cr',\n",
       " 'ls_cr_cl',\n",
       " 'ls_gp',\n",
       " 'ls_gp_cl',\n",
       " 'ls_nw',\n",
       " 'ls_nd',\n",
       " 'ld_od',\n",
       " 'ld_rc',\n",
       " 'ld_xc',\n",
       " 'bs_gps5',\n",
       " 'bs_add5',\n",
       " 'bd_addr_abn_apply',\n",
       " 'bd_gps5_abn_apply',\n",
       " 'bd_addr_abn_spend',\n",
       " 'bd_gps5_abn_spend',\n",
       " 'dist_gps5_abn_beh',\n",
       " 'dist_gps5_abn_spend']"
      ]
     },
     "execution_count": 14,
     "metadata": {},
     "output_type": "execute_result"
    }
   ],
   "source": [
    "x_columns = [x for x in corr.columns if x not in ['type']]\n",
    "x_columns"
   ]
  },
  {
   "cell_type": "code",
   "execution_count": 15,
   "metadata": {
    "collapsed": false
   },
   "outputs": [
    {
     "data": {
      "text/html": [
       "<div>\n",
       "<table border=\"1\" class=\"dataframe\">\n",
       "  <thead>\n",
       "    <tr style=\"text-align: right;\">\n",
       "      <th></th>\n",
       "      <th>type</th>\n",
       "      <th>cs</th>\n",
       "      <th>ls_od_b_6m</th>\n",
       "      <th>ls_od_b_1y</th>\n",
       "      <th>ls_od_b_2y</th>\n",
       "      <th>ls_od_f_1t</th>\n",
       "      <th>ls_od_f_3t</th>\n",
       "      <th>ls_od_f_6t</th>\n",
       "      <th>xc_behavior</th>\n",
       "      <th>xc_overloan</th>\n",
       "      <th>...</th>\n",
       "      <th>ld_rc</th>\n",
       "      <th>ld_xc</th>\n",
       "      <th>bs_gps5</th>\n",
       "      <th>bs_add5</th>\n",
       "      <th>bd_addr_abn_apply</th>\n",
       "      <th>bd_gps5_abn_apply</th>\n",
       "      <th>bd_addr_abn_spend</th>\n",
       "      <th>bd_gps5_abn_spend</th>\n",
       "      <th>dist_gps5_abn_beh</th>\n",
       "      <th>dist_gps5_abn_spend</th>\n",
       "    </tr>\n",
       "  </thead>\n",
       "  <tbody>\n",
       "    <tr>\n",
       "      <th>type</th>\n",
       "      <td>1.0</td>\n",
       "      <td>NaN</td>\n",
       "      <td>NaN</td>\n",
       "      <td>NaN</td>\n",
       "      <td>NaN</td>\n",
       "      <td>NaN</td>\n",
       "      <td>NaN</td>\n",
       "      <td>NaN</td>\n",
       "      <td>NaN</td>\n",
       "      <td>NaN</td>\n",
       "      <td>...</td>\n",
       "      <td>NaN</td>\n",
       "      <td>NaN</td>\n",
       "      <td>NaN</td>\n",
       "      <td>NaN</td>\n",
       "      <td>NaN</td>\n",
       "      <td>NaN</td>\n",
       "      <td>NaN</td>\n",
       "      <td>NaN</td>\n",
       "      <td>NaN</td>\n",
       "      <td>NaN</td>\n",
       "    </tr>\n",
       "    <tr>\n",
       "      <th>cs</th>\n",
       "      <td>NaN</td>\n",
       "      <td>1.0</td>\n",
       "      <td>NaN</td>\n",
       "      <td>NaN</td>\n",
       "      <td>NaN</td>\n",
       "      <td>NaN</td>\n",
       "      <td>NaN</td>\n",
       "      <td>NaN</td>\n",
       "      <td>NaN</td>\n",
       "      <td>NaN</td>\n",
       "      <td>...</td>\n",
       "      <td>NaN</td>\n",
       "      <td>NaN</td>\n",
       "      <td>NaN</td>\n",
       "      <td>NaN</td>\n",
       "      <td>NaN</td>\n",
       "      <td>NaN</td>\n",
       "      <td>NaN</td>\n",
       "      <td>NaN</td>\n",
       "      <td>NaN</td>\n",
       "      <td>NaN</td>\n",
       "    </tr>\n",
       "    <tr>\n",
       "      <th>ls_od_b_6m</th>\n",
       "      <td>NaN</td>\n",
       "      <td>NaN</td>\n",
       "      <td>1.000000</td>\n",
       "      <td>0.745847</td>\n",
       "      <td>0.683357</td>\n",
       "      <td>NaN</td>\n",
       "      <td>0.521909</td>\n",
       "      <td>NaN</td>\n",
       "      <td>NaN</td>\n",
       "      <td>NaN</td>\n",
       "      <td>...</td>\n",
       "      <td>NaN</td>\n",
       "      <td>NaN</td>\n",
       "      <td>NaN</td>\n",
       "      <td>NaN</td>\n",
       "      <td>NaN</td>\n",
       "      <td>NaN</td>\n",
       "      <td>NaN</td>\n",
       "      <td>NaN</td>\n",
       "      <td>NaN</td>\n",
       "      <td>NaN</td>\n",
       "    </tr>\n",
       "    <tr>\n",
       "      <th>ls_od_b_1y</th>\n",
       "      <td>NaN</td>\n",
       "      <td>NaN</td>\n",
       "      <td>0.745847</td>\n",
       "      <td>1.000000</td>\n",
       "      <td>0.801556</td>\n",
       "      <td>NaN</td>\n",
       "      <td>NaN</td>\n",
       "      <td>NaN</td>\n",
       "      <td>NaN</td>\n",
       "      <td>NaN</td>\n",
       "      <td>...</td>\n",
       "      <td>NaN</td>\n",
       "      <td>NaN</td>\n",
       "      <td>NaN</td>\n",
       "      <td>NaN</td>\n",
       "      <td>NaN</td>\n",
       "      <td>NaN</td>\n",
       "      <td>NaN</td>\n",
       "      <td>NaN</td>\n",
       "      <td>NaN</td>\n",
       "      <td>NaN</td>\n",
       "    </tr>\n",
       "    <tr>\n",
       "      <th>ls_od_b_2y</th>\n",
       "      <td>NaN</td>\n",
       "      <td>NaN</td>\n",
       "      <td>0.683357</td>\n",
       "      <td>0.801556</td>\n",
       "      <td>1.000000</td>\n",
       "      <td>NaN</td>\n",
       "      <td>NaN</td>\n",
       "      <td>0.534315</td>\n",
       "      <td>NaN</td>\n",
       "      <td>NaN</td>\n",
       "      <td>...</td>\n",
       "      <td>NaN</td>\n",
       "      <td>NaN</td>\n",
       "      <td>NaN</td>\n",
       "      <td>NaN</td>\n",
       "      <td>NaN</td>\n",
       "      <td>NaN</td>\n",
       "      <td>NaN</td>\n",
       "      <td>NaN</td>\n",
       "      <td>NaN</td>\n",
       "      <td>NaN</td>\n",
       "    </tr>\n",
       "    <tr>\n",
       "      <th>ls_od_f_1t</th>\n",
       "      <td>NaN</td>\n",
       "      <td>NaN</td>\n",
       "      <td>NaN</td>\n",
       "      <td>NaN</td>\n",
       "      <td>NaN</td>\n",
       "      <td>1.0</td>\n",
       "      <td>NaN</td>\n",
       "      <td>NaN</td>\n",
       "      <td>NaN</td>\n",
       "      <td>NaN</td>\n",
       "      <td>...</td>\n",
       "      <td>NaN</td>\n",
       "      <td>NaN</td>\n",
       "      <td>NaN</td>\n",
       "      <td>NaN</td>\n",
       "      <td>NaN</td>\n",
       "      <td>NaN</td>\n",
       "      <td>NaN</td>\n",
       "      <td>NaN</td>\n",
       "      <td>NaN</td>\n",
       "      <td>NaN</td>\n",
       "    </tr>\n",
       "    <tr>\n",
       "      <th>ls_od_f_3t</th>\n",
       "      <td>NaN</td>\n",
       "      <td>NaN</td>\n",
       "      <td>0.521909</td>\n",
       "      <td>NaN</td>\n",
       "      <td>NaN</td>\n",
       "      <td>NaN</td>\n",
       "      <td>1.000000</td>\n",
       "      <td>0.816433</td>\n",
       "      <td>NaN</td>\n",
       "      <td>NaN</td>\n",
       "      <td>...</td>\n",
       "      <td>NaN</td>\n",
       "      <td>NaN</td>\n",
       "      <td>NaN</td>\n",
       "      <td>NaN</td>\n",
       "      <td>NaN</td>\n",
       "      <td>NaN</td>\n",
       "      <td>NaN</td>\n",
       "      <td>NaN</td>\n",
       "      <td>NaN</td>\n",
       "      <td>NaN</td>\n",
       "    </tr>\n",
       "    <tr>\n",
       "      <th>ls_od_f_6t</th>\n",
       "      <td>NaN</td>\n",
       "      <td>NaN</td>\n",
       "      <td>NaN</td>\n",
       "      <td>NaN</td>\n",
       "      <td>0.534315</td>\n",
       "      <td>NaN</td>\n",
       "      <td>0.816433</td>\n",
       "      <td>1.000000</td>\n",
       "      <td>NaN</td>\n",
       "      <td>NaN</td>\n",
       "      <td>...</td>\n",
       "      <td>NaN</td>\n",
       "      <td>NaN</td>\n",
       "      <td>NaN</td>\n",
       "      <td>NaN</td>\n",
       "      <td>NaN</td>\n",
       "      <td>NaN</td>\n",
       "      <td>NaN</td>\n",
       "      <td>NaN</td>\n",
       "      <td>NaN</td>\n",
       "      <td>NaN</td>\n",
       "    </tr>\n",
       "    <tr>\n",
       "      <th>xc_behavior</th>\n",
       "      <td>NaN</td>\n",
       "      <td>NaN</td>\n",
       "      <td>NaN</td>\n",
       "      <td>NaN</td>\n",
       "      <td>NaN</td>\n",
       "      <td>NaN</td>\n",
       "      <td>NaN</td>\n",
       "      <td>NaN</td>\n",
       "      <td>1.0</td>\n",
       "      <td>NaN</td>\n",
       "      <td>...</td>\n",
       "      <td>NaN</td>\n",
       "      <td>NaN</td>\n",
       "      <td>NaN</td>\n",
       "      <td>NaN</td>\n",
       "      <td>NaN</td>\n",
       "      <td>NaN</td>\n",
       "      <td>NaN</td>\n",
       "      <td>NaN</td>\n",
       "      <td>NaN</td>\n",
       "      <td>NaN</td>\n",
       "    </tr>\n",
       "    <tr>\n",
       "      <th>xc_overloan</th>\n",
       "      <td>NaN</td>\n",
       "      <td>NaN</td>\n",
       "      <td>NaN</td>\n",
       "      <td>NaN</td>\n",
       "      <td>NaN</td>\n",
       "      <td>NaN</td>\n",
       "      <td>NaN</td>\n",
       "      <td>NaN</td>\n",
       "      <td>NaN</td>\n",
       "      <td>1.0</td>\n",
       "      <td>...</td>\n",
       "      <td>NaN</td>\n",
       "      <td>NaN</td>\n",
       "      <td>NaN</td>\n",
       "      <td>NaN</td>\n",
       "      <td>NaN</td>\n",
       "      <td>NaN</td>\n",
       "      <td>NaN</td>\n",
       "      <td>NaN</td>\n",
       "      <td>NaN</td>\n",
       "      <td>NaN</td>\n",
       "    </tr>\n",
       "    <tr>\n",
       "      <th>xc_overdue</th>\n",
       "      <td>NaN</td>\n",
       "      <td>NaN</td>\n",
       "      <td>NaN</td>\n",
       "      <td>NaN</td>\n",
       "      <td>NaN</td>\n",
       "      <td>NaN</td>\n",
       "      <td>NaN</td>\n",
       "      <td>NaN</td>\n",
       "      <td>NaN</td>\n",
       "      <td>NaN</td>\n",
       "      <td>...</td>\n",
       "      <td>NaN</td>\n",
       "      <td>NaN</td>\n",
       "      <td>NaN</td>\n",
       "      <td>NaN</td>\n",
       "      <td>NaN</td>\n",
       "      <td>NaN</td>\n",
       "      <td>NaN</td>\n",
       "      <td>NaN</td>\n",
       "      <td>NaN</td>\n",
       "      <td>NaN</td>\n",
       "    </tr>\n",
       "    <tr>\n",
       "      <th>xc_record</th>\n",
       "      <td>NaN</td>\n",
       "      <td>NaN</td>\n",
       "      <td>NaN</td>\n",
       "      <td>NaN</td>\n",
       "      <td>NaN</td>\n",
       "      <td>NaN</td>\n",
       "      <td>NaN</td>\n",
       "      <td>NaN</td>\n",
       "      <td>NaN</td>\n",
       "      <td>NaN</td>\n",
       "      <td>...</td>\n",
       "      <td>NaN</td>\n",
       "      <td>NaN</td>\n",
       "      <td>NaN</td>\n",
       "      <td>NaN</td>\n",
       "      <td>NaN</td>\n",
       "      <td>NaN</td>\n",
       "      <td>NaN</td>\n",
       "      <td>NaN</td>\n",
       "      <td>NaN</td>\n",
       "      <td>NaN</td>\n",
       "    </tr>\n",
       "    <tr>\n",
       "      <th>rv</th>\n",
       "      <td>NaN</td>\n",
       "      <td>NaN</td>\n",
       "      <td>NaN</td>\n",
       "      <td>NaN</td>\n",
       "      <td>NaN</td>\n",
       "      <td>NaN</td>\n",
       "      <td>NaN</td>\n",
       "      <td>NaN</td>\n",
       "      <td>NaN</td>\n",
       "      <td>NaN</td>\n",
       "      <td>...</td>\n",
       "      <td>NaN</td>\n",
       "      <td>NaN</td>\n",
       "      <td>NaN</td>\n",
       "      <td>NaN</td>\n",
       "      <td>NaN</td>\n",
       "      <td>NaN</td>\n",
       "      <td>NaN</td>\n",
       "      <td>NaN</td>\n",
       "      <td>NaN</td>\n",
       "      <td>NaN</td>\n",
       "    </tr>\n",
       "    <tr>\n",
       "      <th>rc_idname_multi</th>\n",
       "      <td>NaN</td>\n",
       "      <td>NaN</td>\n",
       "      <td>NaN</td>\n",
       "      <td>NaN</td>\n",
       "      <td>NaN</td>\n",
       "      <td>NaN</td>\n",
       "      <td>NaN</td>\n",
       "      <td>NaN</td>\n",
       "      <td>NaN</td>\n",
       "      <td>NaN</td>\n",
       "      <td>...</td>\n",
       "      <td>NaN</td>\n",
       "      <td>NaN</td>\n",
       "      <td>NaN</td>\n",
       "      <td>NaN</td>\n",
       "      <td>NaN</td>\n",
       "      <td>NaN</td>\n",
       "      <td>NaN</td>\n",
       "      <td>NaN</td>\n",
       "      <td>NaN</td>\n",
       "      <td>NaN</td>\n",
       "    </tr>\n",
       "    <tr>\n",
       "      <th>rc_relation_age</th>\n",
       "      <td>NaN</td>\n",
       "      <td>NaN</td>\n",
       "      <td>NaN</td>\n",
       "      <td>NaN</td>\n",
       "      <td>NaN</td>\n",
       "      <td>NaN</td>\n",
       "      <td>NaN</td>\n",
       "      <td>NaN</td>\n",
       "      <td>NaN</td>\n",
       "      <td>NaN</td>\n",
       "      <td>...</td>\n",
       "      <td>NaN</td>\n",
       "      <td>NaN</td>\n",
       "      <td>NaN</td>\n",
       "      <td>NaN</td>\n",
       "      <td>NaN</td>\n",
       "      <td>NaN</td>\n",
       "      <td>NaN</td>\n",
       "      <td>NaN</td>\n",
       "      <td>NaN</td>\n",
       "      <td>NaN</td>\n",
       "    </tr>\n",
       "    <tr>\n",
       "      <th>rc_relation_cnt_name_phone</th>\n",
       "      <td>NaN</td>\n",
       "      <td>NaN</td>\n",
       "      <td>NaN</td>\n",
       "      <td>NaN</td>\n",
       "      <td>NaN</td>\n",
       "      <td>NaN</td>\n",
       "      <td>NaN</td>\n",
       "      <td>NaN</td>\n",
       "      <td>NaN</td>\n",
       "      <td>NaN</td>\n",
       "      <td>...</td>\n",
       "      <td>NaN</td>\n",
       "      <td>NaN</td>\n",
       "      <td>NaN</td>\n",
       "      <td>NaN</td>\n",
       "      <td>NaN</td>\n",
       "      <td>NaN</td>\n",
       "      <td>NaN</td>\n",
       "      <td>NaN</td>\n",
       "      <td>NaN</td>\n",
       "      <td>NaN</td>\n",
       "    </tr>\n",
       "    <tr>\n",
       "      <th>rc_relation_multi</th>\n",
       "      <td>NaN</td>\n",
       "      <td>NaN</td>\n",
       "      <td>NaN</td>\n",
       "      <td>NaN</td>\n",
       "      <td>NaN</td>\n",
       "      <td>NaN</td>\n",
       "      <td>NaN</td>\n",
       "      <td>NaN</td>\n",
       "      <td>NaN</td>\n",
       "      <td>NaN</td>\n",
       "      <td>...</td>\n",
       "      <td>NaN</td>\n",
       "      <td>NaN</td>\n",
       "      <td>NaN</td>\n",
       "      <td>NaN</td>\n",
       "      <td>NaN</td>\n",
       "      <td>NaN</td>\n",
       "      <td>NaN</td>\n",
       "      <td>NaN</td>\n",
       "      <td>NaN</td>\n",
       "      <td>NaN</td>\n",
       "    </tr>\n",
       "    <tr>\n",
       "      <th>rc_relation_cnt</th>\n",
       "      <td>NaN</td>\n",
       "      <td>NaN</td>\n",
       "      <td>NaN</td>\n",
       "      <td>NaN</td>\n",
       "      <td>NaN</td>\n",
       "      <td>NaN</td>\n",
       "      <td>NaN</td>\n",
       "      <td>NaN</td>\n",
       "      <td>NaN</td>\n",
       "      <td>NaN</td>\n",
       "      <td>...</td>\n",
       "      <td>NaN</td>\n",
       "      <td>NaN</td>\n",
       "      <td>NaN</td>\n",
       "      <td>NaN</td>\n",
       "      <td>NaN</td>\n",
       "      <td>NaN</td>\n",
       "      <td>NaN</td>\n",
       "      <td>NaN</td>\n",
       "      <td>NaN</td>\n",
       "      <td>NaN</td>\n",
       "    </tr>\n",
       "    <tr>\n",
       "      <th>ls_cr</th>\n",
       "      <td>NaN</td>\n",
       "      <td>NaN</td>\n",
       "      <td>NaN</td>\n",
       "      <td>NaN</td>\n",
       "      <td>NaN</td>\n",
       "      <td>NaN</td>\n",
       "      <td>NaN</td>\n",
       "      <td>NaN</td>\n",
       "      <td>NaN</td>\n",
       "      <td>NaN</td>\n",
       "      <td>...</td>\n",
       "      <td>NaN</td>\n",
       "      <td>NaN</td>\n",
       "      <td>NaN</td>\n",
       "      <td>NaN</td>\n",
       "      <td>NaN</td>\n",
       "      <td>NaN</td>\n",
       "      <td>NaN</td>\n",
       "      <td>NaN</td>\n",
       "      <td>NaN</td>\n",
       "      <td>NaN</td>\n",
       "    </tr>\n",
       "    <tr>\n",
       "      <th>ls_cr_cl</th>\n",
       "      <td>NaN</td>\n",
       "      <td>NaN</td>\n",
       "      <td>NaN</td>\n",
       "      <td>NaN</td>\n",
       "      <td>NaN</td>\n",
       "      <td>NaN</td>\n",
       "      <td>NaN</td>\n",
       "      <td>NaN</td>\n",
       "      <td>NaN</td>\n",
       "      <td>NaN</td>\n",
       "      <td>...</td>\n",
       "      <td>NaN</td>\n",
       "      <td>NaN</td>\n",
       "      <td>NaN</td>\n",
       "      <td>NaN</td>\n",
       "      <td>NaN</td>\n",
       "      <td>NaN</td>\n",
       "      <td>NaN</td>\n",
       "      <td>NaN</td>\n",
       "      <td>NaN</td>\n",
       "      <td>NaN</td>\n",
       "    </tr>\n",
       "    <tr>\n",
       "      <th>ls_gp</th>\n",
       "      <td>NaN</td>\n",
       "      <td>NaN</td>\n",
       "      <td>NaN</td>\n",
       "      <td>NaN</td>\n",
       "      <td>NaN</td>\n",
       "      <td>NaN</td>\n",
       "      <td>NaN</td>\n",
       "      <td>NaN</td>\n",
       "      <td>NaN</td>\n",
       "      <td>NaN</td>\n",
       "      <td>...</td>\n",
       "      <td>NaN</td>\n",
       "      <td>NaN</td>\n",
       "      <td>NaN</td>\n",
       "      <td>NaN</td>\n",
       "      <td>NaN</td>\n",
       "      <td>NaN</td>\n",
       "      <td>NaN</td>\n",
       "      <td>NaN</td>\n",
       "      <td>NaN</td>\n",
       "      <td>NaN</td>\n",
       "    </tr>\n",
       "    <tr>\n",
       "      <th>ls_gp_cl</th>\n",
       "      <td>NaN</td>\n",
       "      <td>NaN</td>\n",
       "      <td>NaN</td>\n",
       "      <td>NaN</td>\n",
       "      <td>NaN</td>\n",
       "      <td>NaN</td>\n",
       "      <td>NaN</td>\n",
       "      <td>NaN</td>\n",
       "      <td>NaN</td>\n",
       "      <td>NaN</td>\n",
       "      <td>...</td>\n",
       "      <td>NaN</td>\n",
       "      <td>NaN</td>\n",
       "      <td>NaN</td>\n",
       "      <td>NaN</td>\n",
       "      <td>NaN</td>\n",
       "      <td>NaN</td>\n",
       "      <td>NaN</td>\n",
       "      <td>NaN</td>\n",
       "      <td>NaN</td>\n",
       "      <td>NaN</td>\n",
       "    </tr>\n",
       "    <tr>\n",
       "      <th>ls_nw</th>\n",
       "      <td>NaN</td>\n",
       "      <td>NaN</td>\n",
       "      <td>NaN</td>\n",
       "      <td>NaN</td>\n",
       "      <td>NaN</td>\n",
       "      <td>NaN</td>\n",
       "      <td>NaN</td>\n",
       "      <td>NaN</td>\n",
       "      <td>NaN</td>\n",
       "      <td>NaN</td>\n",
       "      <td>...</td>\n",
       "      <td>NaN</td>\n",
       "      <td>NaN</td>\n",
       "      <td>NaN</td>\n",
       "      <td>NaN</td>\n",
       "      <td>NaN</td>\n",
       "      <td>NaN</td>\n",
       "      <td>NaN</td>\n",
       "      <td>NaN</td>\n",
       "      <td>NaN</td>\n",
       "      <td>NaN</td>\n",
       "    </tr>\n",
       "    <tr>\n",
       "      <th>ls_nd</th>\n",
       "      <td>NaN</td>\n",
       "      <td>NaN</td>\n",
       "      <td>NaN</td>\n",
       "      <td>NaN</td>\n",
       "      <td>NaN</td>\n",
       "      <td>NaN</td>\n",
       "      <td>NaN</td>\n",
       "      <td>NaN</td>\n",
       "      <td>NaN</td>\n",
       "      <td>NaN</td>\n",
       "      <td>...</td>\n",
       "      <td>NaN</td>\n",
       "      <td>NaN</td>\n",
       "      <td>NaN</td>\n",
       "      <td>NaN</td>\n",
       "      <td>NaN</td>\n",
       "      <td>NaN</td>\n",
       "      <td>NaN</td>\n",
       "      <td>NaN</td>\n",
       "      <td>NaN</td>\n",
       "      <td>NaN</td>\n",
       "    </tr>\n",
       "    <tr>\n",
       "      <th>ld_od</th>\n",
       "      <td>NaN</td>\n",
       "      <td>NaN</td>\n",
       "      <td>NaN</td>\n",
       "      <td>NaN</td>\n",
       "      <td>NaN</td>\n",
       "      <td>NaN</td>\n",
       "      <td>NaN</td>\n",
       "      <td>NaN</td>\n",
       "      <td>NaN</td>\n",
       "      <td>NaN</td>\n",
       "      <td>...</td>\n",
       "      <td>NaN</td>\n",
       "      <td>NaN</td>\n",
       "      <td>NaN</td>\n",
       "      <td>NaN</td>\n",
       "      <td>NaN</td>\n",
       "      <td>NaN</td>\n",
       "      <td>NaN</td>\n",
       "      <td>NaN</td>\n",
       "      <td>NaN</td>\n",
       "      <td>NaN</td>\n",
       "    </tr>\n",
       "    <tr>\n",
       "      <th>ld_rc</th>\n",
       "      <td>NaN</td>\n",
       "      <td>NaN</td>\n",
       "      <td>NaN</td>\n",
       "      <td>NaN</td>\n",
       "      <td>NaN</td>\n",
       "      <td>NaN</td>\n",
       "      <td>NaN</td>\n",
       "      <td>NaN</td>\n",
       "      <td>NaN</td>\n",
       "      <td>NaN</td>\n",
       "      <td>...</td>\n",
       "      <td>1.0</td>\n",
       "      <td>NaN</td>\n",
       "      <td>NaN</td>\n",
       "      <td>NaN</td>\n",
       "      <td>NaN</td>\n",
       "      <td>NaN</td>\n",
       "      <td>NaN</td>\n",
       "      <td>NaN</td>\n",
       "      <td>NaN</td>\n",
       "      <td>NaN</td>\n",
       "    </tr>\n",
       "    <tr>\n",
       "      <th>ld_xc</th>\n",
       "      <td>NaN</td>\n",
       "      <td>NaN</td>\n",
       "      <td>NaN</td>\n",
       "      <td>NaN</td>\n",
       "      <td>NaN</td>\n",
       "      <td>NaN</td>\n",
       "      <td>NaN</td>\n",
       "      <td>NaN</td>\n",
       "      <td>NaN</td>\n",
       "      <td>NaN</td>\n",
       "      <td>...</td>\n",
       "      <td>NaN</td>\n",
       "      <td>1.000000</td>\n",
       "      <td>NaN</td>\n",
       "      <td>0.843883</td>\n",
       "      <td>NaN</td>\n",
       "      <td>NaN</td>\n",
       "      <td>NaN</td>\n",
       "      <td>NaN</td>\n",
       "      <td>NaN</td>\n",
       "      <td>NaN</td>\n",
       "    </tr>\n",
       "    <tr>\n",
       "      <th>bs_gps5</th>\n",
       "      <td>NaN</td>\n",
       "      <td>NaN</td>\n",
       "      <td>NaN</td>\n",
       "      <td>NaN</td>\n",
       "      <td>NaN</td>\n",
       "      <td>NaN</td>\n",
       "      <td>NaN</td>\n",
       "      <td>NaN</td>\n",
       "      <td>NaN</td>\n",
       "      <td>NaN</td>\n",
       "      <td>...</td>\n",
       "      <td>NaN</td>\n",
       "      <td>NaN</td>\n",
       "      <td>1.0</td>\n",
       "      <td>NaN</td>\n",
       "      <td>NaN</td>\n",
       "      <td>NaN</td>\n",
       "      <td>NaN</td>\n",
       "      <td>NaN</td>\n",
       "      <td>NaN</td>\n",
       "      <td>NaN</td>\n",
       "    </tr>\n",
       "    <tr>\n",
       "      <th>bs_add5</th>\n",
       "      <td>NaN</td>\n",
       "      <td>NaN</td>\n",
       "      <td>NaN</td>\n",
       "      <td>NaN</td>\n",
       "      <td>NaN</td>\n",
       "      <td>NaN</td>\n",
       "      <td>NaN</td>\n",
       "      <td>NaN</td>\n",
       "      <td>NaN</td>\n",
       "      <td>NaN</td>\n",
       "      <td>...</td>\n",
       "      <td>NaN</td>\n",
       "      <td>0.843883</td>\n",
       "      <td>NaN</td>\n",
       "      <td>1.000000</td>\n",
       "      <td>NaN</td>\n",
       "      <td>NaN</td>\n",
       "      <td>NaN</td>\n",
       "      <td>NaN</td>\n",
       "      <td>NaN</td>\n",
       "      <td>NaN</td>\n",
       "    </tr>\n",
       "    <tr>\n",
       "      <th>bd_addr_abn_apply</th>\n",
       "      <td>NaN</td>\n",
       "      <td>NaN</td>\n",
       "      <td>NaN</td>\n",
       "      <td>NaN</td>\n",
       "      <td>NaN</td>\n",
       "      <td>NaN</td>\n",
       "      <td>NaN</td>\n",
       "      <td>NaN</td>\n",
       "      <td>NaN</td>\n",
       "      <td>NaN</td>\n",
       "      <td>...</td>\n",
       "      <td>NaN</td>\n",
       "      <td>NaN</td>\n",
       "      <td>NaN</td>\n",
       "      <td>NaN</td>\n",
       "      <td>NaN</td>\n",
       "      <td>NaN</td>\n",
       "      <td>NaN</td>\n",
       "      <td>NaN</td>\n",
       "      <td>NaN</td>\n",
       "      <td>NaN</td>\n",
       "    </tr>\n",
       "    <tr>\n",
       "      <th>bd_gps5_abn_apply</th>\n",
       "      <td>NaN</td>\n",
       "      <td>NaN</td>\n",
       "      <td>NaN</td>\n",
       "      <td>NaN</td>\n",
       "      <td>NaN</td>\n",
       "      <td>NaN</td>\n",
       "      <td>NaN</td>\n",
       "      <td>NaN</td>\n",
       "      <td>NaN</td>\n",
       "      <td>NaN</td>\n",
       "      <td>...</td>\n",
       "      <td>NaN</td>\n",
       "      <td>NaN</td>\n",
       "      <td>NaN</td>\n",
       "      <td>NaN</td>\n",
       "      <td>NaN</td>\n",
       "      <td>1.0</td>\n",
       "      <td>NaN</td>\n",
       "      <td>NaN</td>\n",
       "      <td>NaN</td>\n",
       "      <td>NaN</td>\n",
       "    </tr>\n",
       "    <tr>\n",
       "      <th>bd_addr_abn_spend</th>\n",
       "      <td>NaN</td>\n",
       "      <td>NaN</td>\n",
       "      <td>NaN</td>\n",
       "      <td>NaN</td>\n",
       "      <td>NaN</td>\n",
       "      <td>NaN</td>\n",
       "      <td>NaN</td>\n",
       "      <td>NaN</td>\n",
       "      <td>NaN</td>\n",
       "      <td>NaN</td>\n",
       "      <td>...</td>\n",
       "      <td>NaN</td>\n",
       "      <td>NaN</td>\n",
       "      <td>NaN</td>\n",
       "      <td>NaN</td>\n",
       "      <td>NaN</td>\n",
       "      <td>NaN</td>\n",
       "      <td>1.0</td>\n",
       "      <td>NaN</td>\n",
       "      <td>NaN</td>\n",
       "      <td>NaN</td>\n",
       "    </tr>\n",
       "    <tr>\n",
       "      <th>bd_gps5_abn_spend</th>\n",
       "      <td>NaN</td>\n",
       "      <td>NaN</td>\n",
       "      <td>NaN</td>\n",
       "      <td>NaN</td>\n",
       "      <td>NaN</td>\n",
       "      <td>NaN</td>\n",
       "      <td>NaN</td>\n",
       "      <td>NaN</td>\n",
       "      <td>NaN</td>\n",
       "      <td>NaN</td>\n",
       "      <td>...</td>\n",
       "      <td>NaN</td>\n",
       "      <td>NaN</td>\n",
       "      <td>NaN</td>\n",
       "      <td>NaN</td>\n",
       "      <td>NaN</td>\n",
       "      <td>NaN</td>\n",
       "      <td>NaN</td>\n",
       "      <td>NaN</td>\n",
       "      <td>NaN</td>\n",
       "      <td>NaN</td>\n",
       "    </tr>\n",
       "    <tr>\n",
       "      <th>dist_gps5_abn_beh</th>\n",
       "      <td>NaN</td>\n",
       "      <td>NaN</td>\n",
       "      <td>NaN</td>\n",
       "      <td>NaN</td>\n",
       "      <td>NaN</td>\n",
       "      <td>NaN</td>\n",
       "      <td>NaN</td>\n",
       "      <td>NaN</td>\n",
       "      <td>NaN</td>\n",
       "      <td>NaN</td>\n",
       "      <td>...</td>\n",
       "      <td>NaN</td>\n",
       "      <td>NaN</td>\n",
       "      <td>NaN</td>\n",
       "      <td>NaN</td>\n",
       "      <td>NaN</td>\n",
       "      <td>NaN</td>\n",
       "      <td>NaN</td>\n",
       "      <td>NaN</td>\n",
       "      <td>NaN</td>\n",
       "      <td>NaN</td>\n",
       "    </tr>\n",
       "    <tr>\n",
       "      <th>dist_gps5_abn_spend</th>\n",
       "      <td>NaN</td>\n",
       "      <td>NaN</td>\n",
       "      <td>NaN</td>\n",
       "      <td>NaN</td>\n",
       "      <td>NaN</td>\n",
       "      <td>NaN</td>\n",
       "      <td>NaN</td>\n",
       "      <td>NaN</td>\n",
       "      <td>NaN</td>\n",
       "      <td>NaN</td>\n",
       "      <td>...</td>\n",
       "      <td>NaN</td>\n",
       "      <td>NaN</td>\n",
       "      <td>NaN</td>\n",
       "      <td>NaN</td>\n",
       "      <td>NaN</td>\n",
       "      <td>NaN</td>\n",
       "      <td>NaN</td>\n",
       "      <td>NaN</td>\n",
       "      <td>NaN</td>\n",
       "      <td>1.0</td>\n",
       "    </tr>\n",
       "  </tbody>\n",
       "</table>\n",
       "<p>35 rows × 35 columns</p>\n",
       "</div>"
      ],
      "text/plain": [
       "                            type   cs  ls_od_b_6m  ls_od_b_1y  ls_od_b_2y  \\\n",
       "type                         1.0  NaN         NaN         NaN         NaN   \n",
       "cs                           NaN  1.0         NaN         NaN         NaN   \n",
       "ls_od_b_6m                   NaN  NaN    1.000000    0.745847    0.683357   \n",
       "ls_od_b_1y                   NaN  NaN    0.745847    1.000000    0.801556   \n",
       "ls_od_b_2y                   NaN  NaN    0.683357    0.801556    1.000000   \n",
       "ls_od_f_1t                   NaN  NaN         NaN         NaN         NaN   \n",
       "ls_od_f_3t                   NaN  NaN    0.521909         NaN         NaN   \n",
       "ls_od_f_6t                   NaN  NaN         NaN         NaN    0.534315   \n",
       "xc_behavior                  NaN  NaN         NaN         NaN         NaN   \n",
       "xc_overloan                  NaN  NaN         NaN         NaN         NaN   \n",
       "xc_overdue                   NaN  NaN         NaN         NaN         NaN   \n",
       "xc_record                    NaN  NaN         NaN         NaN         NaN   \n",
       "rv                           NaN  NaN         NaN         NaN         NaN   \n",
       "rc_idname_multi              NaN  NaN         NaN         NaN         NaN   \n",
       "rc_relation_age              NaN  NaN         NaN         NaN         NaN   \n",
       "rc_relation_cnt_name_phone   NaN  NaN         NaN         NaN         NaN   \n",
       "rc_relation_multi            NaN  NaN         NaN         NaN         NaN   \n",
       "rc_relation_cnt              NaN  NaN         NaN         NaN         NaN   \n",
       "ls_cr                        NaN  NaN         NaN         NaN         NaN   \n",
       "ls_cr_cl                     NaN  NaN         NaN         NaN         NaN   \n",
       "ls_gp                        NaN  NaN         NaN         NaN         NaN   \n",
       "ls_gp_cl                     NaN  NaN         NaN         NaN         NaN   \n",
       "ls_nw                        NaN  NaN         NaN         NaN         NaN   \n",
       "ls_nd                        NaN  NaN         NaN         NaN         NaN   \n",
       "ld_od                        NaN  NaN         NaN         NaN         NaN   \n",
       "ld_rc                        NaN  NaN         NaN         NaN         NaN   \n",
       "ld_xc                        NaN  NaN         NaN         NaN         NaN   \n",
       "bs_gps5                      NaN  NaN         NaN         NaN         NaN   \n",
       "bs_add5                      NaN  NaN         NaN         NaN         NaN   \n",
       "bd_addr_abn_apply            NaN  NaN         NaN         NaN         NaN   \n",
       "bd_gps5_abn_apply            NaN  NaN         NaN         NaN         NaN   \n",
       "bd_addr_abn_spend            NaN  NaN         NaN         NaN         NaN   \n",
       "bd_gps5_abn_spend            NaN  NaN         NaN         NaN         NaN   \n",
       "dist_gps5_abn_beh            NaN  NaN         NaN         NaN         NaN   \n",
       "dist_gps5_abn_spend          NaN  NaN         NaN         NaN         NaN   \n",
       "\n",
       "                            ls_od_f_1t  ls_od_f_3t  ls_od_f_6t  xc_behavior  \\\n",
       "type                               NaN         NaN         NaN          NaN   \n",
       "cs                                 NaN         NaN         NaN          NaN   \n",
       "ls_od_b_6m                         NaN    0.521909         NaN          NaN   \n",
       "ls_od_b_1y                         NaN         NaN         NaN          NaN   \n",
       "ls_od_b_2y                         NaN         NaN    0.534315          NaN   \n",
       "ls_od_f_1t                         1.0         NaN         NaN          NaN   \n",
       "ls_od_f_3t                         NaN    1.000000    0.816433          NaN   \n",
       "ls_od_f_6t                         NaN    0.816433    1.000000          NaN   \n",
       "xc_behavior                        NaN         NaN         NaN          1.0   \n",
       "xc_overloan                        NaN         NaN         NaN          NaN   \n",
       "xc_overdue                         NaN         NaN         NaN          NaN   \n",
       "xc_record                          NaN         NaN         NaN          NaN   \n",
       "rv                                 NaN         NaN         NaN          NaN   \n",
       "rc_idname_multi                    NaN         NaN         NaN          NaN   \n",
       "rc_relation_age                    NaN         NaN         NaN          NaN   \n",
       "rc_relation_cnt_name_phone         NaN         NaN         NaN          NaN   \n",
       "rc_relation_multi                  NaN         NaN         NaN          NaN   \n",
       "rc_relation_cnt                    NaN         NaN         NaN          NaN   \n",
       "ls_cr                              NaN         NaN         NaN          NaN   \n",
       "ls_cr_cl                           NaN         NaN         NaN          NaN   \n",
       "ls_gp                              NaN         NaN         NaN          NaN   \n",
       "ls_gp_cl                           NaN         NaN         NaN          NaN   \n",
       "ls_nw                              NaN         NaN         NaN          NaN   \n",
       "ls_nd                              NaN         NaN         NaN          NaN   \n",
       "ld_od                              NaN         NaN         NaN          NaN   \n",
       "ld_rc                              NaN         NaN         NaN          NaN   \n",
       "ld_xc                              NaN         NaN         NaN          NaN   \n",
       "bs_gps5                            NaN         NaN         NaN          NaN   \n",
       "bs_add5                            NaN         NaN         NaN          NaN   \n",
       "bd_addr_abn_apply                  NaN         NaN         NaN          NaN   \n",
       "bd_gps5_abn_apply                  NaN         NaN         NaN          NaN   \n",
       "bd_addr_abn_spend                  NaN         NaN         NaN          NaN   \n",
       "bd_gps5_abn_spend                  NaN         NaN         NaN          NaN   \n",
       "dist_gps5_abn_beh                  NaN         NaN         NaN          NaN   \n",
       "dist_gps5_abn_spend                NaN         NaN         NaN          NaN   \n",
       "\n",
       "                            xc_overloan         ...           ld_rc     ld_xc  \\\n",
       "type                                NaN         ...             NaN       NaN   \n",
       "cs                                  NaN         ...             NaN       NaN   \n",
       "ls_od_b_6m                          NaN         ...             NaN       NaN   \n",
       "ls_od_b_1y                          NaN         ...             NaN       NaN   \n",
       "ls_od_b_2y                          NaN         ...             NaN       NaN   \n",
       "ls_od_f_1t                          NaN         ...             NaN       NaN   \n",
       "ls_od_f_3t                          NaN         ...             NaN       NaN   \n",
       "ls_od_f_6t                          NaN         ...             NaN       NaN   \n",
       "xc_behavior                         NaN         ...             NaN       NaN   \n",
       "xc_overloan                         1.0         ...             NaN       NaN   \n",
       "xc_overdue                          NaN         ...             NaN       NaN   \n",
       "xc_record                           NaN         ...             NaN       NaN   \n",
       "rv                                  NaN         ...             NaN       NaN   \n",
       "rc_idname_multi                     NaN         ...             NaN       NaN   \n",
       "rc_relation_age                     NaN         ...             NaN       NaN   \n",
       "rc_relation_cnt_name_phone          NaN         ...             NaN       NaN   \n",
       "rc_relation_multi                   NaN         ...             NaN       NaN   \n",
       "rc_relation_cnt                     NaN         ...             NaN       NaN   \n",
       "ls_cr                               NaN         ...             NaN       NaN   \n",
       "ls_cr_cl                            NaN         ...             NaN       NaN   \n",
       "ls_gp                               NaN         ...             NaN       NaN   \n",
       "ls_gp_cl                            NaN         ...             NaN       NaN   \n",
       "ls_nw                               NaN         ...             NaN       NaN   \n",
       "ls_nd                               NaN         ...             NaN       NaN   \n",
       "ld_od                               NaN         ...             NaN       NaN   \n",
       "ld_rc                               NaN         ...             1.0       NaN   \n",
       "ld_xc                               NaN         ...             NaN  1.000000   \n",
       "bs_gps5                             NaN         ...             NaN       NaN   \n",
       "bs_add5                             NaN         ...             NaN  0.843883   \n",
       "bd_addr_abn_apply                   NaN         ...             NaN       NaN   \n",
       "bd_gps5_abn_apply                   NaN         ...             NaN       NaN   \n",
       "bd_addr_abn_spend                   NaN         ...             NaN       NaN   \n",
       "bd_gps5_abn_spend                   NaN         ...             NaN       NaN   \n",
       "dist_gps5_abn_beh                   NaN         ...             NaN       NaN   \n",
       "dist_gps5_abn_spend                 NaN         ...             NaN       NaN   \n",
       "\n",
       "                            bs_gps5   bs_add5  bd_addr_abn_apply  \\\n",
       "type                            NaN       NaN                NaN   \n",
       "cs                              NaN       NaN                NaN   \n",
       "ls_od_b_6m                      NaN       NaN                NaN   \n",
       "ls_od_b_1y                      NaN       NaN                NaN   \n",
       "ls_od_b_2y                      NaN       NaN                NaN   \n",
       "ls_od_f_1t                      NaN       NaN                NaN   \n",
       "ls_od_f_3t                      NaN       NaN                NaN   \n",
       "ls_od_f_6t                      NaN       NaN                NaN   \n",
       "xc_behavior                     NaN       NaN                NaN   \n",
       "xc_overloan                     NaN       NaN                NaN   \n",
       "xc_overdue                      NaN       NaN                NaN   \n",
       "xc_record                       NaN       NaN                NaN   \n",
       "rv                              NaN       NaN                NaN   \n",
       "rc_idname_multi                 NaN       NaN                NaN   \n",
       "rc_relation_age                 NaN       NaN                NaN   \n",
       "rc_relation_cnt_name_phone      NaN       NaN                NaN   \n",
       "rc_relation_multi               NaN       NaN                NaN   \n",
       "rc_relation_cnt                 NaN       NaN                NaN   \n",
       "ls_cr                           NaN       NaN                NaN   \n",
       "ls_cr_cl                        NaN       NaN                NaN   \n",
       "ls_gp                           NaN       NaN                NaN   \n",
       "ls_gp_cl                        NaN       NaN                NaN   \n",
       "ls_nw                           NaN       NaN                NaN   \n",
       "ls_nd                           NaN       NaN                NaN   \n",
       "ld_od                           NaN       NaN                NaN   \n",
       "ld_rc                           NaN       NaN                NaN   \n",
       "ld_xc                           NaN  0.843883                NaN   \n",
       "bs_gps5                         1.0       NaN                NaN   \n",
       "bs_add5                         NaN  1.000000                NaN   \n",
       "bd_addr_abn_apply               NaN       NaN                NaN   \n",
       "bd_gps5_abn_apply               NaN       NaN                NaN   \n",
       "bd_addr_abn_spend               NaN       NaN                NaN   \n",
       "bd_gps5_abn_spend               NaN       NaN                NaN   \n",
       "dist_gps5_abn_beh               NaN       NaN                NaN   \n",
       "dist_gps5_abn_spend             NaN       NaN                NaN   \n",
       "\n",
       "                            bd_gps5_abn_apply  bd_addr_abn_spend  \\\n",
       "type                                      NaN                NaN   \n",
       "cs                                        NaN                NaN   \n",
       "ls_od_b_6m                                NaN                NaN   \n",
       "ls_od_b_1y                                NaN                NaN   \n",
       "ls_od_b_2y                                NaN                NaN   \n",
       "ls_od_f_1t                                NaN                NaN   \n",
       "ls_od_f_3t                                NaN                NaN   \n",
       "ls_od_f_6t                                NaN                NaN   \n",
       "xc_behavior                               NaN                NaN   \n",
       "xc_overloan                               NaN                NaN   \n",
       "xc_overdue                                NaN                NaN   \n",
       "xc_record                                 NaN                NaN   \n",
       "rv                                        NaN                NaN   \n",
       "rc_idname_multi                           NaN                NaN   \n",
       "rc_relation_age                           NaN                NaN   \n",
       "rc_relation_cnt_name_phone                NaN                NaN   \n",
       "rc_relation_multi                         NaN                NaN   \n",
       "rc_relation_cnt                           NaN                NaN   \n",
       "ls_cr                                     NaN                NaN   \n",
       "ls_cr_cl                                  NaN                NaN   \n",
       "ls_gp                                     NaN                NaN   \n",
       "ls_gp_cl                                  NaN                NaN   \n",
       "ls_nw                                     NaN                NaN   \n",
       "ls_nd                                     NaN                NaN   \n",
       "ld_od                                     NaN                NaN   \n",
       "ld_rc                                     NaN                NaN   \n",
       "ld_xc                                     NaN                NaN   \n",
       "bs_gps5                                   NaN                NaN   \n",
       "bs_add5                                   NaN                NaN   \n",
       "bd_addr_abn_apply                         NaN                NaN   \n",
       "bd_gps5_abn_apply                         1.0                NaN   \n",
       "bd_addr_abn_spend                         NaN                1.0   \n",
       "bd_gps5_abn_spend                         NaN                NaN   \n",
       "dist_gps5_abn_beh                         NaN                NaN   \n",
       "dist_gps5_abn_spend                       NaN                NaN   \n",
       "\n",
       "                            bd_gps5_abn_spend  dist_gps5_abn_beh  \\\n",
       "type                                      NaN                NaN   \n",
       "cs                                        NaN                NaN   \n",
       "ls_od_b_6m                                NaN                NaN   \n",
       "ls_od_b_1y                                NaN                NaN   \n",
       "ls_od_b_2y                                NaN                NaN   \n",
       "ls_od_f_1t                                NaN                NaN   \n",
       "ls_od_f_3t                                NaN                NaN   \n",
       "ls_od_f_6t                                NaN                NaN   \n",
       "xc_behavior                               NaN                NaN   \n",
       "xc_overloan                               NaN                NaN   \n",
       "xc_overdue                                NaN                NaN   \n",
       "xc_record                                 NaN                NaN   \n",
       "rv                                        NaN                NaN   \n",
       "rc_idname_multi                           NaN                NaN   \n",
       "rc_relation_age                           NaN                NaN   \n",
       "rc_relation_cnt_name_phone                NaN                NaN   \n",
       "rc_relation_multi                         NaN                NaN   \n",
       "rc_relation_cnt                           NaN                NaN   \n",
       "ls_cr                                     NaN                NaN   \n",
       "ls_cr_cl                                  NaN                NaN   \n",
       "ls_gp                                     NaN                NaN   \n",
       "ls_gp_cl                                  NaN                NaN   \n",
       "ls_nw                                     NaN                NaN   \n",
       "ls_nd                                     NaN                NaN   \n",
       "ld_od                                     NaN                NaN   \n",
       "ld_rc                                     NaN                NaN   \n",
       "ld_xc                                     NaN                NaN   \n",
       "bs_gps5                                   NaN                NaN   \n",
       "bs_add5                                   NaN                NaN   \n",
       "bd_addr_abn_apply                         NaN                NaN   \n",
       "bd_gps5_abn_apply                         NaN                NaN   \n",
       "bd_addr_abn_spend                         NaN                NaN   \n",
       "bd_gps5_abn_spend                         NaN                NaN   \n",
       "dist_gps5_abn_beh                         NaN                NaN   \n",
       "dist_gps5_abn_spend                       NaN                NaN   \n",
       "\n",
       "                            dist_gps5_abn_spend  \n",
       "type                                        NaN  \n",
       "cs                                          NaN  \n",
       "ls_od_b_6m                                  NaN  \n",
       "ls_od_b_1y                                  NaN  \n",
       "ls_od_b_2y                                  NaN  \n",
       "ls_od_f_1t                                  NaN  \n",
       "ls_od_f_3t                                  NaN  \n",
       "ls_od_f_6t                                  NaN  \n",
       "xc_behavior                                 NaN  \n",
       "xc_overloan                                 NaN  \n",
       "xc_overdue                                  NaN  \n",
       "xc_record                                   NaN  \n",
       "rv                                          NaN  \n",
       "rc_idname_multi                             NaN  \n",
       "rc_relation_age                             NaN  \n",
       "rc_relation_cnt_name_phone                  NaN  \n",
       "rc_relation_multi                           NaN  \n",
       "rc_relation_cnt                             NaN  \n",
       "ls_cr                                       NaN  \n",
       "ls_cr_cl                                    NaN  \n",
       "ls_gp                                       NaN  \n",
       "ls_gp_cl                                    NaN  \n",
       "ls_nw                                       NaN  \n",
       "ls_nd                                       NaN  \n",
       "ld_od                                       NaN  \n",
       "ld_rc                                       NaN  \n",
       "ld_xc                                       NaN  \n",
       "bs_gps5                                     NaN  \n",
       "bs_add5                                     NaN  \n",
       "bd_addr_abn_apply                           NaN  \n",
       "bd_gps5_abn_apply                           NaN  \n",
       "bd_addr_abn_spend                           NaN  \n",
       "bd_gps5_abn_spend                           NaN  \n",
       "dist_gps5_abn_beh                           NaN  \n",
       "dist_gps5_abn_spend                         1.0  \n",
       "\n",
       "[35 rows x 35 columns]"
      ]
     },
     "execution_count": 15,
     "metadata": {},
     "output_type": "execute_result"
    }
   ],
   "source": [
    "corr[abs(corr)>0.5]"
   ]
  },
  {
   "cell_type": "markdown",
   "metadata": {},
   "source": [
    "## VAR BINNING RESULT 变量分组结果"
   ]
  },
  {
   "cell_type": "code",
   "execution_count": 16,
   "metadata": {
    "collapsed": false
   },
   "outputs": [
    {
     "name": "stderr",
     "output_type": "stream",
     "text": [
      "C:\\Users\\xiongjun\\AppData\\Local\\Continuum\\Anaconda3\\lib\\site-packages\\pandas\\core\\generic.py:3295: SettingWithCopyWarning: \n",
      "A value is trying to be set on a copy of a slice from a DataFrame\n",
      "\n",
      "See the caveats in the documentation: http://pandas.pydata.org/pandas-docs/stable/indexing.html#indexing-view-versus-copy\n",
      "  self._update_inplace(new_data)\n",
      "C:\\Users\\xiongjun\\sc_func.py:120: SettingWithCopyWarning: \n",
      "A value is trying to be set on a copy of a slice from a DataFrame.\n",
      "Try using .loc[row_indexer,col_indexer] = value instead\n",
      "\n",
      "See the caveats in the documentation: http://pandas.pydata.org/pandas-docs/stable/indexing.html#indexing-view-versus-copy\n",
      "  df['qt_binning'] = df[var].apply(lambda x: map_dict[x])\n"
     ]
    },
    {
     "name": "stdout",
     "output_type": "stream",
     "text": [
      "cs                            7.913218e-03\n",
      "ls_od_b_6m                    7.920903e-28\n",
      "ls_od_b_1y                    7.920903e-28\n",
      "ls_od_b_2y                    7.920903e-28\n",
      "ls_od_f_1t                    7.920903e-28\n",
      "ls_od_f_3t                    7.920903e-28\n",
      "ls_od_f_6t                    7.920903e-28\n",
      "xc_behavior                   7.920903e-28\n",
      "xc_overloan                   6.401374e-02\n",
      "xc_overdue                    7.920903e-28\n",
      "xc_record                     7.920903e-28\n",
      "rv                            7.920903e-28\n",
      "rc_idname_multi               7.920903e-28\n",
      "rc_relation_age               7.920903e-28\n",
      "rc_relation_cnt_name_phone    7.920903e-28\n",
      "rc_relation_multi             7.920903e-28\n",
      "rc_relation_cnt               7.920903e-28\n",
      "ls_cr                         7.920903e-28\n",
      "ls_cr_cl                      7.920903e-28\n",
      "ls_gp                         7.920903e-28\n",
      "ls_gp_cl                      7.920903e-28\n",
      "ls_nw                         7.920903e-28\n",
      "ls_nd                         7.920903e-28\n",
      "ld_od                         7.920903e-28\n",
      "ld_rc                         7.920903e-28\n",
      "ld_xc                         2.405943e-03\n",
      "bs_gps5                       7.920903e-28\n",
      "bs_add5                       1.114607e-03\n",
      "bd_addr_abn_apply             7.920903e-28\n",
      "bd_gps5_abn_apply             7.920903e-28\n",
      "bd_addr_abn_spend             7.920903e-28\n",
      "bd_gps5_abn_spend             7.920903e-28\n",
      "dist_gps5_abn_beh             7.920903e-28\n",
      "dist_gps5_abn_spend           7.920903e-28\n",
      "dtype: float64\n"
     ]
    }
   ],
   "source": [
    "#先平均分组看各变量的IV值\n",
    "num_iv = pd.Series()\n",
    "columns=list(data_form.columns)\n",
    "for c in range(1,len(columns)):\n",
    "         num_iv = num_iv.append(variable_binning(data_form, target,columns[c], 5,'iv'))\n",
    "print(num_iv)"
   ]
  },
  {
   "cell_type": "markdown",
   "metadata": {
    "collapsed": true
   },
   "source": [
    "## 逐个变量分组观察IV、占比、分组比例"
   ]
  },
  {
   "cell_type": "code",
   "execution_count": 17,
   "metadata": {
    "collapsed": false
   },
   "outputs": [
    {
     "name": "stderr",
     "output_type": "stream",
     "text": [
      "C:\\Users\\xiongjun\\AppData\\Local\\Continuum\\Anaconda3\\lib\\site-packages\\pandas\\core\\generic.py:3295: SettingWithCopyWarning: \n",
      "A value is trying to be set on a copy of a slice from a DataFrame\n",
      "\n",
      "See the caveats in the documentation: http://pandas.pydata.org/pandas-docs/stable/indexing.html#indexing-view-versus-copy\n",
      "  self._update_inplace(new_data)\n",
      "C:\\Users\\xiongjun\\sc_func.py:124: SettingWithCopyWarning: \n",
      "A value is trying to be set on a copy of a slice from a DataFrame.\n",
      "Try using .loc[row_indexer,col_indexer] = value instead\n",
      "\n",
      "See the caveats in the documentation: http://pandas.pydata.org/pandas-docs/stable/indexing.html#indexing-view-versus-copy\n",
      "  df['qt_binning'] = var_bins_series(df[var], bins, side = side)\n"
     ]
    },
    {
     "data": {
      "image/png": "[encoded data removed]",
      "text/plain": [
       "<matplotlib.figure.Figure at 0x9884ac8>"
      ]
     },
     "metadata": {},
     "output_type": "display_data"
    },
    {
     "name": "stdout",
     "output_type": "stream",
     "text": [
      "cs 变量的IV值为 0.011707525873486141\n"
     ]
    },
    {
     "data": {
      "text/html": [
       "<div>\n",
       "<table border=\"1\" class=\"dataframe\">\n",
       "  <thead>\n",
       "    <tr style=\"text-align: right;\">\n",
       "      <th></th>\n",
       "      <th>Lbound</th>\n",
       "      <th>Ubound</th>\n",
       "      <th>Totalcnt</th>\n",
       "      <th>PctTotal</th>\n",
       "      <th>Y_count</th>\n",
       "      <th>n_Y_count</th>\n",
       "      <th>Y_pct</th>\n",
       "      <th>n_Y_pct</th>\n",
       "      <th>Y_rate</th>\n",
       "      <th>WOE</th>\n",
       "      <th>IV</th>\n",
       "    </tr>\n",
       "    <tr>\n",
       "      <th>qt_binning</th>\n",
       "      <th></th>\n",
       "      <th></th>\n",
       "      <th></th>\n",
       "      <th></th>\n",
       "      <th></th>\n",
       "      <th></th>\n",
       "      <th></th>\n",
       "      <th></th>\n",
       "      <th></th>\n",
       "      <th></th>\n",
       "      <th></th>\n",
       "    </tr>\n",
       "  </thead>\n",
       "  <tbody>\n",
       "    <tr>\n",
       "      <th>(-inf, 0]</th>\n",
       "      <td>0</td>\n",
       "      <td>0</td>\n",
       "      <td>4863</td>\n",
       "      <td>0.752903</td>\n",
       "      <td>333</td>\n",
       "      <td>4530</td>\n",
       "      <td>0.717672</td>\n",
       "      <td>0.755630</td>\n",
       "      <td>0.068476</td>\n",
       "      <td>-0.051538</td>\n",
       "      <td>0.001956</td>\n",
       "    </tr>\n",
       "    <tr>\n",
       "      <th>(0, 4]</th>\n",
       "      <td>3</td>\n",
       "      <td>4</td>\n",
       "      <td>1526</td>\n",
       "      <td>0.236259</td>\n",
       "      <td>128</td>\n",
       "      <td>1398</td>\n",
       "      <td>0.275862</td>\n",
       "      <td>0.233194</td>\n",
       "      <td>0.083879</td>\n",
       "      <td>0.168029</td>\n",
       "      <td>0.007169</td>\n",
       "    </tr>\n",
       "    <tr>\n",
       "      <th>(5, 6]</th>\n",
       "      <td>6</td>\n",
       "      <td>6</td>\n",
       "      <td>24</td>\n",
       "      <td>0.003716</td>\n",
       "      <td>1</td>\n",
       "      <td>23</td>\n",
       "      <td>0.002155</td>\n",
       "      <td>0.003837</td>\n",
       "      <td>0.041667</td>\n",
       "      <td>-0.576698</td>\n",
       "      <td>0.000970</td>\n",
       "    </tr>\n",
       "    <tr>\n",
       "      <th>(7, 8]</th>\n",
       "      <td>8</td>\n",
       "      <td>8</td>\n",
       "      <td>46</td>\n",
       "      <td>0.007122</td>\n",
       "      <td>2</td>\n",
       "      <td>44</td>\n",
       "      <td>0.004310</td>\n",
       "      <td>0.007339</td>\n",
       "      <td>0.043478</td>\n",
       "      <td>-0.532246</td>\n",
       "      <td>0.001612</td>\n",
       "    </tr>\n",
       "  </tbody>\n",
       "</table>\n",
       "</div>"
      ],
      "text/plain": [
       "            Lbound  Ubound  Totalcnt  PctTotal  Y_count  n_Y_count     Y_pct  \\\n",
       "qt_binning                                                                     \n",
       "(-inf, 0]        0       0      4863  0.752903      333       4530  0.717672   \n",
       "(0, 4]           3       4      1526  0.236259      128       1398  0.275862   \n",
       "(5, 6]           6       6        24  0.003716        1         23  0.002155   \n",
       "(7, 8]           8       8        46  0.007122        2         44  0.004310   \n",
       "\n",
       "             n_Y_pct    Y_rate       WOE        IV  \n",
       "qt_binning                                          \n",
       "(-inf, 0]   0.755630  0.068476 -0.051538  0.001956  \n",
       "(0, 4]      0.233194  0.083879  0.168029  0.007169  \n",
       "(5, 6]      0.003837  0.041667 -0.576698  0.000970  \n",
       "(7, 8]      0.007339  0.043478 -0.532246  0.001612  "
      ]
     },
     "execution_count": 17,
     "metadata": {},
     "output_type": "execute_result"
    }
   ],
   "source": [
    "var_name = 'cs' #变量\n",
    "var_bin = variable_binning(data_form, target, var_name, [0,4,5,6,7,8], 'bins')\n",
    "binning_plot(var_bin)\n",
    "print(var_name,'变量的IV值为',var_bin['IV'].sum())\n",
    "var_bin_cs=var_bin['WOE']\n",
    "var_bin.sort_values('Lbound')\n"
   ]
  },
  {
   "cell_type": "code",
   "execution_count": 23,
   "metadata": {
    "collapsed": false,
    "scrolled": true
   },
   "outputs": [
    {
     "name": "stderr",
     "output_type": "stream",
     "text": [
      "C:\\Users\\xiongjun\\AppData\\Local\\Continuum\\Anaconda3\\lib\\site-packages\\pandas\\core\\generic.py:3295: SettingWithCopyWarning: \n",
      "A value is trying to be set on a copy of a slice from a DataFrame\n",
      "\n",
      "See the caveats in the documentation: http://pandas.pydata.org/pandas-docs/stable/indexing.html#indexing-view-versus-copy\n",
      "  self._update_inplace(new_data)\n",
      "C:\\Users\\xiongjun\\sc_func.py:124: SettingWithCopyWarning: \n",
      "A value is trying to be set on a copy of a slice from a DataFrame.\n",
      "Try using .loc[row_indexer,col_indexer] = value instead\n",
      "\n",
      "See the caveats in the documentation: http://pandas.pydata.org/pandas-docs/stable/indexing.html#indexing-view-versus-copy\n",
      "  df['qt_binning'] = var_bins_series(df[var], bins, side = side)\n"
     ]
    },
    {
     "data": {
      "image/png": "[encoded data removed]",
      "text/plain": [
       "<matplotlib.figure.Figure at 0x4c11eb8>"
      ]
     },
     "metadata": {},
     "output_type": "display_data"
    },
    {
     "name": "stdout",
     "output_type": "stream",
     "text": [
      "ls_od_f_6t 变量的IV值为 0.005091784090497163\n"
     ]
    },
    {
     "data": {
      "text/html": [
       "<div>\n",
       "<table border=\"1\" class=\"dataframe\">\n",
       "  <thead>\n",
       "    <tr style=\"text-align: right;\">\n",
       "      <th></th>\n",
       "      <th>Lbound</th>\n",
       "      <th>Ubound</th>\n",
       "      <th>Totalcnt</th>\n",
       "      <th>PctTotal</th>\n",
       "      <th>Y_count</th>\n",
       "      <th>n_Y_count</th>\n",
       "      <th>Y_pct</th>\n",
       "      <th>n_Y_pct</th>\n",
       "      <th>Y_rate</th>\n",
       "      <th>WOE</th>\n",
       "      <th>IV</th>\n",
       "    </tr>\n",
       "    <tr>\n",
       "      <th>qt_binning</th>\n",
       "      <th></th>\n",
       "      <th></th>\n",
       "      <th></th>\n",
       "      <th></th>\n",
       "      <th></th>\n",
       "      <th></th>\n",
       "      <th></th>\n",
       "      <th></th>\n",
       "      <th></th>\n",
       "      <th></th>\n",
       "      <th></th>\n",
       "    </tr>\n",
       "  </thead>\n",
       "  <tbody>\n",
       "    <tr>\n",
       "      <th>(-inf, 0]</th>\n",
       "      <td>0</td>\n",
       "      <td>0</td>\n",
       "      <td>6457</td>\n",
       "      <td>0.99969</td>\n",
       "      <td>463</td>\n",
       "      <td>5994</td>\n",
       "      <td>0.997845</td>\n",
       "      <td>0.999833</td>\n",
       "      <td>0.071705</td>\n",
       "      <td>-0.001991</td>\n",
       "      <td>0.000004</td>\n",
       "    </tr>\n",
       "    <tr>\n",
       "      <th>(0, +inf)</th>\n",
       "      <td>1</td>\n",
       "      <td>1</td>\n",
       "      <td>2</td>\n",
       "      <td>0.00031</td>\n",
       "      <td>1</td>\n",
       "      <td>1</td>\n",
       "      <td>0.002155</td>\n",
       "      <td>0.000167</td>\n",
       "      <td>0.500000</td>\n",
       "      <td>2.558797</td>\n",
       "      <td>0.005088</td>\n",
       "    </tr>\n",
       "  </tbody>\n",
       "</table>\n",
       "</div>"
      ],
      "text/plain": [
       "            Lbound  Ubound  Totalcnt  PctTotal  Y_count  n_Y_count     Y_pct  \\\n",
       "qt_binning                                                                     \n",
       "(-inf, 0]        0       0      6457   0.99969      463       5994  0.997845   \n",
       "(0, +inf)        1       1         2   0.00031        1          1  0.002155   \n",
       "\n",
       "             n_Y_pct    Y_rate       WOE        IV  \n",
       "qt_binning                                          \n",
       "(-inf, 0]   0.999833  0.071705 -0.001991  0.000004  \n",
       "(0, +inf)   0.000167  0.500000  2.558797  0.005088  "
      ]
     },
     "execution_count": 23,
     "metadata": {},
     "output_type": "execute_result"
    }
   ],
   "source": [
    "var_name = 'ls_od_f_6t' #变量\n",
    "var_bin = variable_binning(data_form, target, var_name, [0], 'bins')\n",
    "binning_plot(var_bin)\n",
    "print(var_name,'变量的IV值为',var_bin['IV'].sum())\n",
    "var_bin_od=var_bin['WOE']\n",
    "var_bin.sort_values('Lbound')\n"
   ]
  },
  {
   "cell_type": "code",
   "execution_count": 24,
   "metadata": {
    "collapsed": false
   },
   "outputs": [
    {
     "name": "stderr",
     "output_type": "stream",
     "text": [
      "C:\\Users\\xiongjun\\AppData\\Local\\Continuum\\Anaconda3\\lib\\site-packages\\pandas\\core\\generic.py:3295: SettingWithCopyWarning: \n",
      "A value is trying to be set on a copy of a slice from a DataFrame\n",
      "\n",
      "See the caveats in the documentation: http://pandas.pydata.org/pandas-docs/stable/indexing.html#indexing-view-versus-copy\n",
      "  self._update_inplace(new_data)\n",
      "C:\\Users\\xiongjun\\sc_func.py:124: SettingWithCopyWarning: \n",
      "A value is trying to be set on a copy of a slice from a DataFrame.\n",
      "Try using .loc[row_indexer,col_indexer] = value instead\n",
      "\n",
      "See the caveats in the documentation: http://pandas.pydata.org/pandas-docs/stable/indexing.html#indexing-view-versus-copy\n",
      "  df['qt_binning'] = var_bins_series(df[var], bins, side = side)\n"
     ]
    },
    {
     "data": {
      "image/png": "[encoded data removed]",
      "text/plain": [
       "<matplotlib.figure.Figure at 0x9857048>"
      ]
     },
     "metadata": {},
     "output_type": "display_data"
    },
    {
     "name": "stdout",
     "output_type": "stream",
     "text": [
      "xc_behavior 变量的IV值为 0.014069537968345596\n"
     ]
    },
    {
     "data": {
      "text/html": [
       "<div>\n",
       "<table border=\"1\" class=\"dataframe\">\n",
       "  <thead>\n",
       "    <tr style=\"text-align: right;\">\n",
       "      <th></th>\n",
       "      <th>Lbound</th>\n",
       "      <th>Ubound</th>\n",
       "      <th>Totalcnt</th>\n",
       "      <th>PctTotal</th>\n",
       "      <th>Y_count</th>\n",
       "      <th>n_Y_count</th>\n",
       "      <th>Y_pct</th>\n",
       "      <th>n_Y_pct</th>\n",
       "      <th>Y_rate</th>\n",
       "      <th>WOE</th>\n",
       "      <th>IV</th>\n",
       "    </tr>\n",
       "    <tr>\n",
       "      <th>qt_binning</th>\n",
       "      <th></th>\n",
       "      <th></th>\n",
       "      <th></th>\n",
       "      <th></th>\n",
       "      <th></th>\n",
       "      <th></th>\n",
       "      <th></th>\n",
       "      <th></th>\n",
       "      <th></th>\n",
       "      <th></th>\n",
       "      <th></th>\n",
       "    </tr>\n",
       "  </thead>\n",
       "  <tbody>\n",
       "    <tr>\n",
       "      <th>(-inf, 0]</th>\n",
       "      <td>0</td>\n",
       "      <td>0</td>\n",
       "      <td>6070</td>\n",
       "      <td>0.939774</td>\n",
       "      <td>447</td>\n",
       "      <td>5623</td>\n",
       "      <td>0.963362</td>\n",
       "      <td>0.937948</td>\n",
       "      <td>0.073641</td>\n",
       "      <td>0.026735</td>\n",
       "      <td>0.000679</td>\n",
       "    </tr>\n",
       "    <tr>\n",
       "      <th>(0, +inf)</th>\n",
       "      <td>1</td>\n",
       "      <td>1</td>\n",
       "      <td>389</td>\n",
       "      <td>0.060226</td>\n",
       "      <td>17</td>\n",
       "      <td>372</td>\n",
       "      <td>0.036638</td>\n",
       "      <td>0.062052</td>\n",
       "      <td>0.043702</td>\n",
       "      <td>-0.526884</td>\n",
       "      <td>0.013390</td>\n",
       "    </tr>\n",
       "  </tbody>\n",
       "</table>\n",
       "</div>"
      ],
      "text/plain": [
       "            Lbound  Ubound  Totalcnt  PctTotal  Y_count  n_Y_count     Y_pct  \\\n",
       "qt_binning                                                                     \n",
       "(-inf, 0]        0       0      6070  0.939774      447       5623  0.963362   \n",
       "(0, +inf)        1       1       389  0.060226       17        372  0.036638   \n",
       "\n",
       "             n_Y_pct    Y_rate       WOE        IV  \n",
       "qt_binning                                          \n",
       "(-inf, 0]   0.937948  0.073641  0.026735  0.000679  \n",
       "(0, +inf)   0.062052  0.043702 -0.526884  0.013390  "
      ]
     },
     "execution_count": 24,
     "metadata": {},
     "output_type": "execute_result"
    }
   ],
   "source": [
    "var_name = 'xc_behavior' #变量\n",
    "var_bin = variable_binning(data_form, target, var_name, [0], 'bins')\n",
    "binning_plot(var_bin)\n",
    "print(var_name,'变量的IV值为',var_bin['IV'].sum())\n",
    "var_bin_xc_behavior=var_bin['WOE']\n",
    "var_bin.sort_values('Lbound')\n"
   ]
  },
  {
   "cell_type": "code",
   "execution_count": 25,
   "metadata": {
    "collapsed": false
   },
   "outputs": [
    {
     "name": "stderr",
     "output_type": "stream",
     "text": [
      "C:\\Users\\xiongjun\\AppData\\Local\\Continuum\\Anaconda3\\lib\\site-packages\\pandas\\core\\generic.py:3295: SettingWithCopyWarning: \n",
      "A value is trying to be set on a copy of a slice from a DataFrame\n",
      "\n",
      "See the caveats in the documentation: http://pandas.pydata.org/pandas-docs/stable/indexing.html#indexing-view-versus-copy\n",
      "  self._update_inplace(new_data)\n",
      "C:\\Users\\xiongjun\\sc_func.py:124: SettingWithCopyWarning: \n",
      "A value is trying to be set on a copy of a slice from a DataFrame.\n",
      "Try using .loc[row_indexer,col_indexer] = value instead\n",
      "\n",
      "See the caveats in the documentation: http://pandas.pydata.org/pandas-docs/stable/indexing.html#indexing-view-versus-copy\n",
      "  df['qt_binning'] = var_bins_series(df[var], bins, side = side)\n"
     ]
    },
    {
     "data": {
      "image/png": "[encoded data removed]",
      "text/plain": [
       "<matplotlib.figure.Figure at 0x27271d0>"
      ]
     },
     "metadata": {},
     "output_type": "display_data"
    },
    {
     "name": "stdout",
     "output_type": "stream",
     "text": [
      "xc_overloan 变量的IV值为 0.06401373565805085\n"
     ]
    },
    {
     "data": {
      "text/html": [
       "<div>\n",
       "<table border=\"1\" class=\"dataframe\">\n",
       "  <thead>\n",
       "    <tr style=\"text-align: right;\">\n",
       "      <th></th>\n",
       "      <th>Lbound</th>\n",
       "      <th>Ubound</th>\n",
       "      <th>Totalcnt</th>\n",
       "      <th>PctTotal</th>\n",
       "      <th>Y_count</th>\n",
       "      <th>n_Y_count</th>\n",
       "      <th>Y_pct</th>\n",
       "      <th>n_Y_pct</th>\n",
       "      <th>Y_rate</th>\n",
       "      <th>WOE</th>\n",
       "      <th>IV</th>\n",
       "    </tr>\n",
       "    <tr>\n",
       "      <th>qt_binning</th>\n",
       "      <th></th>\n",
       "      <th></th>\n",
       "      <th></th>\n",
       "      <th></th>\n",
       "      <th></th>\n",
       "      <th></th>\n",
       "      <th></th>\n",
       "      <th></th>\n",
       "      <th></th>\n",
       "      <th></th>\n",
       "      <th></th>\n",
       "    </tr>\n",
       "  </thead>\n",
       "  <tbody>\n",
       "    <tr>\n",
       "      <th>(-inf, 0]</th>\n",
       "      <td>0</td>\n",
       "      <td>0</td>\n",
       "      <td>4074</td>\n",
       "      <td>0.630748</td>\n",
       "      <td>239</td>\n",
       "      <td>3835</td>\n",
       "      <td>0.515086</td>\n",
       "      <td>0.6397</td>\n",
       "      <td>0.058665</td>\n",
       "      <td>-0.216665</td>\n",
       "      <td>0.026999</td>\n",
       "    </tr>\n",
       "    <tr>\n",
       "      <th>(0, +inf)</th>\n",
       "      <td>1</td>\n",
       "      <td>1</td>\n",
       "      <td>2385</td>\n",
       "      <td>0.369252</td>\n",
       "      <td>225</td>\n",
       "      <td>2160</td>\n",
       "      <td>0.484914</td>\n",
       "      <td>0.3603</td>\n",
       "      <td>0.094340</td>\n",
       "      <td>0.297033</td>\n",
       "      <td>0.037014</td>\n",
       "    </tr>\n",
       "  </tbody>\n",
       "</table>\n",
       "</div>"
      ],
      "text/plain": [
       "            Lbound  Ubound  Totalcnt  PctTotal  Y_count  n_Y_count     Y_pct  \\\n",
       "qt_binning                                                                     \n",
       "(-inf, 0]        0       0      4074  0.630748      239       3835  0.515086   \n",
       "(0, +inf)        1       1      2385  0.369252      225       2160  0.484914   \n",
       "\n",
       "            n_Y_pct    Y_rate       WOE        IV  \n",
       "qt_binning                                         \n",
       "(-inf, 0]    0.6397  0.058665 -0.216665  0.026999  \n",
       "(0, +inf)    0.3603  0.094340  0.297033  0.037014  "
      ]
     },
     "execution_count": 25,
     "metadata": {},
     "output_type": "execute_result"
    }
   ],
   "source": [
    "var_name = 'xc_overloan' #变量\n",
    "var_bin = variable_binning(data_form, target, var_name, [0], 'bins')\n",
    "binning_plot(var_bin)\n",
    "print(var_name,'变量的IV值为',var_bin['IV'].sum())\n",
    "var_bin_xc_overloan=var_bin['WOE']\n",
    "var_bin.sort_values('Lbound')"
   ]
  },
  {
   "cell_type": "code",
   "execution_count": 26,
   "metadata": {
    "collapsed": false,
    "scrolled": true
   },
   "outputs": [
    {
     "name": "stderr",
     "output_type": "stream",
     "text": [
      "C:\\Users\\xiongjun\\AppData\\Local\\Continuum\\Anaconda3\\lib\\site-packages\\pandas\\core\\generic.py:3295: SettingWithCopyWarning: \n",
      "A value is trying to be set on a copy of a slice from a DataFrame\n",
      "\n",
      "See the caveats in the documentation: http://pandas.pydata.org/pandas-docs/stable/indexing.html#indexing-view-versus-copy\n",
      "  self._update_inplace(new_data)\n",
      "C:\\Users\\xiongjun\\sc_func.py:124: SettingWithCopyWarning: \n",
      "A value is trying to be set on a copy of a slice from a DataFrame.\n",
      "Try using .loc[row_indexer,col_indexer] = value instead\n",
      "\n",
      "See the caveats in the documentation: http://pandas.pydata.org/pandas-docs/stable/indexing.html#indexing-view-versus-copy\n",
      "  df['qt_binning'] = var_bins_series(df[var], bins, side = side)\n"
     ]
    },
    {
     "data": {
      "image/png": "[encoded data removed]",
      "text/plain": [
       "<matplotlib.figure.Figure at 0xa043048>"
      ]
     },
     "metadata": {},
     "output_type": "display_data"
    },
    {
     "name": "stdout",
     "output_type": "stream",
     "text": [
      "xc_overdue 变量的IV值为 0.028185677520759095\n"
     ]
    },
    {
     "data": {
      "text/html": [
       "<div>\n",
       "<table border=\"1\" class=\"dataframe\">\n",
       "  <thead>\n",
       "    <tr style=\"text-align: right;\">\n",
       "      <th></th>\n",
       "      <th>Lbound</th>\n",
       "      <th>Ubound</th>\n",
       "      <th>Totalcnt</th>\n",
       "      <th>PctTotal</th>\n",
       "      <th>Y_count</th>\n",
       "      <th>n_Y_count</th>\n",
       "      <th>Y_pct</th>\n",
       "      <th>n_Y_pct</th>\n",
       "      <th>Y_rate</th>\n",
       "      <th>WOE</th>\n",
       "      <th>IV</th>\n",
       "    </tr>\n",
       "    <tr>\n",
       "      <th>qt_binning</th>\n",
       "      <th></th>\n",
       "      <th></th>\n",
       "      <th></th>\n",
       "      <th></th>\n",
       "      <th></th>\n",
       "      <th></th>\n",
       "      <th></th>\n",
       "      <th></th>\n",
       "      <th></th>\n",
       "      <th></th>\n",
       "      <th></th>\n",
       "    </tr>\n",
       "  </thead>\n",
       "  <tbody>\n",
       "    <tr>\n",
       "      <th>(-inf, 0]</th>\n",
       "      <td>0</td>\n",
       "      <td>0</td>\n",
       "      <td>6272</td>\n",
       "      <td>0.971048</td>\n",
       "      <td>460</td>\n",
       "      <td>5812</td>\n",
       "      <td>0.991379</td>\n",
       "      <td>0.969475</td>\n",
       "      <td>0.073342</td>\n",
       "      <td>0.022343</td>\n",
       "      <td>0.000489</td>\n",
       "    </tr>\n",
       "    <tr>\n",
       "      <th>(0, +inf)</th>\n",
       "      <td>1</td>\n",
       "      <td>1</td>\n",
       "      <td>187</td>\n",
       "      <td>0.028952</td>\n",
       "      <td>4</td>\n",
       "      <td>183</td>\n",
       "      <td>0.008621</td>\n",
       "      <td>0.030525</td>\n",
       "      <td>0.021390</td>\n",
       "      <td>-1.264395</td>\n",
       "      <td>0.027696</td>\n",
       "    </tr>\n",
       "  </tbody>\n",
       "</table>\n",
       "</div>"
      ],
      "text/plain": [
       "            Lbound  Ubound  Totalcnt  PctTotal  Y_count  n_Y_count     Y_pct  \\\n",
       "qt_binning                                                                     \n",
       "(-inf, 0]        0       0      6272  0.971048      460       5812  0.991379   \n",
       "(0, +inf)        1       1       187  0.028952        4        183  0.008621   \n",
       "\n",
       "             n_Y_pct    Y_rate       WOE        IV  \n",
       "qt_binning                                          \n",
       "(-inf, 0]   0.969475  0.073342  0.022343  0.000489  \n",
       "(0, +inf)   0.030525  0.021390 -1.264395  0.027696  "
      ]
     },
     "execution_count": 26,
     "metadata": {},
     "output_type": "execute_result"
    }
   ],
   "source": [
    "var_name = 'xc_overdue' #变量\n",
    "var_bin = variable_binning(data_form, target, var_name, [0], 'bins')\n",
    "binning_plot(var_bin)\n",
    "print(var_name,'变量的IV值为',var_bin['IV'].sum())\n",
    "var_bin_xc_overdue=var_bin['WOE']\n",
    "var_bin.sort_values('Lbound')"
   ]
  },
  {
   "cell_type": "code",
   "execution_count": 27,
   "metadata": {
    "collapsed": false
   },
   "outputs": [
    {
     "name": "stderr",
     "output_type": "stream",
     "text": [
      "C:\\Users\\xiongjun\\AppData\\Local\\Continuum\\Anaconda3\\lib\\site-packages\\pandas\\core\\generic.py:3295: SettingWithCopyWarning: \n",
      "A value is trying to be set on a copy of a slice from a DataFrame\n",
      "\n",
      "See the caveats in the documentation: http://pandas.pydata.org/pandas-docs/stable/indexing.html#indexing-view-versus-copy\n",
      "  self._update_inplace(new_data)\n",
      "C:\\Users\\xiongjun\\sc_func.py:124: SettingWithCopyWarning: \n",
      "A value is trying to be set on a copy of a slice from a DataFrame.\n",
      "Try using .loc[row_indexer,col_indexer] = value instead\n",
      "\n",
      "See the caveats in the documentation: http://pandas.pydata.org/pandas-docs/stable/indexing.html#indexing-view-versus-copy\n",
      "  df['qt_binning'] = var_bins_series(df[var], bins, side = side)\n"
     ]
    },
    {
     "data": {
      "image/png": "[encoded data removed]",
      "text/plain": [
       "<matplotlib.figure.Figure at 0x9ec17f0>"
      ]
     },
     "metadata": {},
     "output_type": "display_data"
    },
    {
     "name": "stdout",
     "output_type": "stream",
     "text": [
      "xc_record 变量的IV值为 0.001603826842361716\n"
     ]
    },
    {
     "data": {
      "text/html": [
       "<div>\n",
       "<table border=\"1\" class=\"dataframe\">\n",
       "  <thead>\n",
       "    <tr style=\"text-align: right;\">\n",
       "      <th></th>\n",
       "      <th>Lbound</th>\n",
       "      <th>Ubound</th>\n",
       "      <th>Totalcnt</th>\n",
       "      <th>PctTotal</th>\n",
       "      <th>Y_count</th>\n",
       "      <th>n_Y_count</th>\n",
       "      <th>Y_pct</th>\n",
       "      <th>n_Y_pct</th>\n",
       "      <th>Y_rate</th>\n",
       "      <th>WOE</th>\n",
       "      <th>IV</th>\n",
       "    </tr>\n",
       "    <tr>\n",
       "      <th>qt_binning</th>\n",
       "      <th></th>\n",
       "      <th></th>\n",
       "      <th></th>\n",
       "      <th></th>\n",
       "      <th></th>\n",
       "      <th></th>\n",
       "      <th></th>\n",
       "      <th></th>\n",
       "      <th></th>\n",
       "      <th></th>\n",
       "      <th></th>\n",
       "    </tr>\n",
       "  </thead>\n",
       "  <tbody>\n",
       "    <tr>\n",
       "      <th>(-inf, 0]</th>\n",
       "      <td>0</td>\n",
       "      <td>0</td>\n",
       "      <td>6330</td>\n",
       "      <td>0.980028</td>\n",
       "      <td>457</td>\n",
       "      <td>5873</td>\n",
       "      <td>0.984914</td>\n",
       "      <td>0.97965</td>\n",
       "      <td>0.072196</td>\n",
       "      <td>0.005359</td>\n",
       "      <td>0.000028</td>\n",
       "    </tr>\n",
       "    <tr>\n",
       "      <th>(0, +inf)</th>\n",
       "      <td>1</td>\n",
       "      <td>1</td>\n",
       "      <td>129</td>\n",
       "      <td>0.019972</td>\n",
       "      <td>7</td>\n",
       "      <td>122</td>\n",
       "      <td>0.015086</td>\n",
       "      <td>0.02035</td>\n",
       "      <td>0.054264</td>\n",
       "      <td>-0.299314</td>\n",
       "      <td>0.001576</td>\n",
       "    </tr>\n",
       "  </tbody>\n",
       "</table>\n",
       "</div>"
      ],
      "text/plain": [
       "            Lbound  Ubound  Totalcnt  PctTotal  Y_count  n_Y_count     Y_pct  \\\n",
       "qt_binning                                                                     \n",
       "(-inf, 0]        0       0      6330  0.980028      457       5873  0.984914   \n",
       "(0, +inf)        1       1       129  0.019972        7        122  0.015086   \n",
       "\n",
       "            n_Y_pct    Y_rate       WOE        IV  \n",
       "qt_binning                                         \n",
       "(-inf, 0]   0.97965  0.072196  0.005359  0.000028  \n",
       "(0, +inf)   0.02035  0.054264 -0.299314  0.001576  "
      ]
     },
     "execution_count": 27,
     "metadata": {},
     "output_type": "execute_result"
    }
   ],
   "source": [
    "var_name = 'xc_record' #变量\n",
    "var_bin = variable_binning(data_form, target, var_name, [0], 'bins')\n",
    "binning_plot(var_bin)\n",
    "print(var_name,'变量的IV值为',var_bin['IV'].sum())\n",
    "var_bin_xc_record=var_bin['WOE']\n",
    "var_bin.sort_values('Lbound')"
   ]
  },
  {
   "cell_type": "code",
   "execution_count": 28,
   "metadata": {
    "collapsed": false
   },
   "outputs": [
    {
     "name": "stderr",
     "output_type": "stream",
     "text": [
      "C:\\Users\\xiongjun\\AppData\\Local\\Continuum\\Anaconda3\\lib\\site-packages\\pandas\\core\\generic.py:3295: SettingWithCopyWarning: \n",
      "A value is trying to be set on a copy of a slice from a DataFrame\n",
      "\n",
      "See the caveats in the documentation: http://pandas.pydata.org/pandas-docs/stable/indexing.html#indexing-view-versus-copy\n",
      "  self._update_inplace(new_data)\n",
      "C:\\Users\\xiongjun\\sc_func.py:124: SettingWithCopyWarning: \n",
      "A value is trying to be set on a copy of a slice from a DataFrame.\n",
      "Try using .loc[row_indexer,col_indexer] = value instead\n",
      "\n",
      "See the caveats in the documentation: http://pandas.pydata.org/pandas-docs/stable/indexing.html#indexing-view-versus-copy\n",
      "  df['qt_binning'] = var_bins_series(df[var], bins, side = side)\n",
      "C:\\Users\\xiongjun\\AppData\\Local\\Continuum\\Anaconda3\\lib\\site-packages\\matplotlib\\axes\\_base.py:2903: UserWarning: Attempting to set identical left==right results\n",
      "in singular transformations; automatically expanding.\n",
      "left=0.0, right=0.0\n",
      "  'left=%s, right=%s') % (left, right))\n"
     ]
    },
    {
     "data": {
      "image/png": "[encoded data removed]",
      "text/plain": [
       "<matplotlib.figure.Figure at 0x4ff4e80>"
      ]
     },
     "metadata": {},
     "output_type": "display_data"
    },
    {
     "name": "stdout",
     "output_type": "stream",
     "text": [
      "rv 变量的IV值为 7.920903045517491e-28\n"
     ]
    },
    {
     "data": {
      "text/html": [
       "<div>\n",
       "<table border=\"1\" class=\"dataframe\">\n",
       "  <thead>\n",
       "    <tr style=\"text-align: right;\">\n",
       "      <th></th>\n",
       "      <th>Lbound</th>\n",
       "      <th>Ubound</th>\n",
       "      <th>Totalcnt</th>\n",
       "      <th>PctTotal</th>\n",
       "      <th>Y_count</th>\n",
       "      <th>n_Y_count</th>\n",
       "      <th>Y_pct</th>\n",
       "      <th>n_Y_pct</th>\n",
       "      <th>Y_rate</th>\n",
       "      <th>WOE</th>\n",
       "      <th>IV</th>\n",
       "    </tr>\n",
       "    <tr>\n",
       "      <th>qt_binning</th>\n",
       "      <th></th>\n",
       "      <th></th>\n",
       "      <th></th>\n",
       "      <th></th>\n",
       "      <th></th>\n",
       "      <th></th>\n",
       "      <th></th>\n",
       "      <th></th>\n",
       "      <th></th>\n",
       "      <th></th>\n",
       "      <th></th>\n",
       "    </tr>\n",
       "  </thead>\n",
       "  <tbody>\n",
       "    <tr>\n",
       "      <th>(-inf, 0]</th>\n",
       "      <td>0</td>\n",
       "      <td>0</td>\n",
       "      <td>6459</td>\n",
       "      <td>1.0</td>\n",
       "      <td>464</td>\n",
       "      <td>5995</td>\n",
       "      <td>1</td>\n",
       "      <td>1.0</td>\n",
       "      <td>0.071838</td>\n",
       "      <td>2.819966e-14</td>\n",
       "      <td>7.920903e-28</td>\n",
       "    </tr>\n",
       "  </tbody>\n",
       "</table>\n",
       "</div>"
      ],
      "text/plain": [
       "            Lbound  Ubound  Totalcnt  PctTotal  Y_count  n_Y_count  Y_pct  \\\n",
       "qt_binning                                                                  \n",
       "(-inf, 0]        0       0      6459       1.0      464       5995      1   \n",
       "\n",
       "            n_Y_pct    Y_rate           WOE            IV  \n",
       "qt_binning                                                 \n",
       "(-inf, 0]       1.0  0.071838  2.819966e-14  7.920903e-28  "
      ]
     },
     "execution_count": 28,
     "metadata": {},
     "output_type": "execute_result"
    }
   ],
   "source": [
    "var_name = 'rv' #变量\n",
    "var_bin = variable_binning(data_form, target, var_name, [0], 'bins')\n",
    "binning_plot(var_bin)\n",
    "print(var_name,'变量的IV值为',var_bin['IV'].sum())\n",
    "var_bin_rv=var_bin['WOE']\n",
    "var_bin.sort_values('Lbound')"
   ]
  },
  {
   "cell_type": "code",
   "execution_count": 34,
   "metadata": {
    "collapsed": false,
    "scrolled": true
   },
   "outputs": [
    {
     "name": "stderr",
     "output_type": "stream",
     "text": [
      "C:\\Users\\xiongjun\\AppData\\Local\\Continuum\\Anaconda3\\lib\\site-packages\\pandas\\core\\generic.py:3295: SettingWithCopyWarning: \n",
      "A value is trying to be set on a copy of a slice from a DataFrame\n",
      "\n",
      "See the caveats in the documentation: http://pandas.pydata.org/pandas-docs/stable/indexing.html#indexing-view-versus-copy\n",
      "  self._update_inplace(new_data)\n",
      "C:\\Users\\xiongjun\\sc_func.py:124: SettingWithCopyWarning: \n",
      "A value is trying to be set on a copy of a slice from a DataFrame.\n",
      "Try using .loc[row_indexer,col_indexer] = value instead\n",
      "\n",
      "See the caveats in the documentation: http://pandas.pydata.org/pandas-docs/stable/indexing.html#indexing-view-versus-copy\n",
      "  df['qt_binning'] = var_bins_series(df[var], bins, side = side)\n"
     ]
    },
    {
     "data": {
      "image/png": "[encoded data removed]",
      "text/plain": [
       "<matplotlib.figure.Figure at 0x8354588>"
      ]
     },
     "metadata": {},
     "output_type": "display_data"
    },
    {
     "name": "stdout",
     "output_type": "stream",
     "text": [
      "rc_relation_cnt 变量的IV值为 0.002384187987424816\n"
     ]
    },
    {
     "data": {
      "text/html": [
       "<div>\n",
       "<table border=\"1\" class=\"dataframe\">\n",
       "  <thead>\n",
       "    <tr style=\"text-align: right;\">\n",
       "      <th></th>\n",
       "      <th>Lbound</th>\n",
       "      <th>Ubound</th>\n",
       "      <th>Totalcnt</th>\n",
       "      <th>PctTotal</th>\n",
       "      <th>Y_count</th>\n",
       "      <th>n_Y_count</th>\n",
       "      <th>Y_pct</th>\n",
       "      <th>n_Y_pct</th>\n",
       "      <th>Y_rate</th>\n",
       "      <th>WOE</th>\n",
       "      <th>IV</th>\n",
       "    </tr>\n",
       "    <tr>\n",
       "      <th>qt_binning</th>\n",
       "      <th></th>\n",
       "      <th></th>\n",
       "      <th></th>\n",
       "      <th></th>\n",
       "      <th></th>\n",
       "      <th></th>\n",
       "      <th></th>\n",
       "      <th></th>\n",
       "      <th></th>\n",
       "      <th></th>\n",
       "      <th></th>\n",
       "    </tr>\n",
       "  </thead>\n",
       "  <tbody>\n",
       "    <tr>\n",
       "      <th>(-inf, 0]</th>\n",
       "      <td>0</td>\n",
       "      <td>0</td>\n",
       "      <td>6339</td>\n",
       "      <td>0.981421</td>\n",
       "      <td>458</td>\n",
       "      <td>5881</td>\n",
       "      <td>0.987069</td>\n",
       "      <td>0.980984</td>\n",
       "      <td>0.072251</td>\n",
       "      <td>0.006184</td>\n",
       "      <td>0.000038</td>\n",
       "    </tr>\n",
       "    <tr>\n",
       "      <th>(0, +inf)</th>\n",
       "      <td>1</td>\n",
       "      <td>1</td>\n",
       "      <td>120</td>\n",
       "      <td>0.018579</td>\n",
       "      <td>6</td>\n",
       "      <td>114</td>\n",
       "      <td>0.012931</td>\n",
       "      <td>0.019016</td>\n",
       "      <td>0.050000</td>\n",
       "      <td>-0.385642</td>\n",
       "      <td>0.002347</td>\n",
       "    </tr>\n",
       "  </tbody>\n",
       "</table>\n",
       "</div>"
      ],
      "text/plain": [
       "            Lbound  Ubound  Totalcnt  PctTotal  Y_count  n_Y_count     Y_pct  \\\n",
       "qt_binning                                                                     \n",
       "(-inf, 0]        0       0      6339  0.981421      458       5881  0.987069   \n",
       "(0, +inf)        1       1       120  0.018579        6        114  0.012931   \n",
       "\n",
       "             n_Y_pct    Y_rate       WOE        IV  \n",
       "qt_binning                                          \n",
       "(-inf, 0]   0.980984  0.072251  0.006184  0.000038  \n",
       "(0, +inf)   0.019016  0.050000 -0.385642  0.002347  "
      ]
     },
     "execution_count": 34,
     "metadata": {},
     "output_type": "execute_result"
    }
   ],
   "source": [
    "var_name = 'rc_relation_cnt' #变量\n",
    "var_bin = variable_binning(data_form, target, var_name, [0], 'bins')\n",
    "binning_plot(var_bin)\n",
    "print(var_name,'变量的IV值为',var_bin['IV'].sum())\n",
    "var_bin.sort_values('Lbound')"
   ]
  },
  {
   "cell_type": "code",
   "execution_count": 35,
   "metadata": {
    "collapsed": false,
    "scrolled": true
   },
   "outputs": [
    {
     "name": "stderr",
     "output_type": "stream",
     "text": [
      "C:\\Users\\xiongjun\\AppData\\Local\\Continuum\\Anaconda3\\lib\\site-packages\\pandas\\core\\generic.py:3295: SettingWithCopyWarning: \n",
      "A value is trying to be set on a copy of a slice from a DataFrame\n",
      "\n",
      "See the caveats in the documentation: http://pandas.pydata.org/pandas-docs/stable/indexing.html#indexing-view-versus-copy\n",
      "  self._update_inplace(new_data)\n",
      "C:\\Users\\xiongjun\\sc_func.py:124: SettingWithCopyWarning: \n",
      "A value is trying to be set on a copy of a slice from a DataFrame.\n",
      "Try using .loc[row_indexer,col_indexer] = value instead\n",
      "\n",
      "See the caveats in the documentation: http://pandas.pydata.org/pandas-docs/stable/indexing.html#indexing-view-versus-copy\n",
      "  df['qt_binning'] = var_bins_series(df[var], bins, side = side)\n"
     ]
    },
    {
     "data": {
      "image/png": "[encoded data removed]",
      "text/plain": [
       "<matplotlib.figure.Figure at 0x8354588>"
      ]
     },
     "metadata": {},
     "output_type": "display_data"
    },
    {
     "name": "stdout",
     "output_type": "stream",
     "text": [
      "ls_cr 变量的IV值为 0.009481535799344461\n"
     ]
    },
    {
     "data": {
      "text/html": [
       "<div>\n",
       "<table border=\"1\" class=\"dataframe\">\n",
       "  <thead>\n",
       "    <tr style=\"text-align: right;\">\n",
       "      <th></th>\n",
       "      <th>Lbound</th>\n",
       "      <th>Ubound</th>\n",
       "      <th>Totalcnt</th>\n",
       "      <th>PctTotal</th>\n",
       "      <th>Y_count</th>\n",
       "      <th>n_Y_count</th>\n",
       "      <th>Y_pct</th>\n",
       "      <th>n_Y_pct</th>\n",
       "      <th>Y_rate</th>\n",
       "      <th>WOE</th>\n",
       "      <th>IV</th>\n",
       "    </tr>\n",
       "    <tr>\n",
       "      <th>qt_binning</th>\n",
       "      <th></th>\n",
       "      <th></th>\n",
       "      <th></th>\n",
       "      <th></th>\n",
       "      <th></th>\n",
       "      <th></th>\n",
       "      <th></th>\n",
       "      <th></th>\n",
       "      <th></th>\n",
       "      <th></th>\n",
       "      <th></th>\n",
       "    </tr>\n",
       "  </thead>\n",
       "  <tbody>\n",
       "    <tr>\n",
       "      <th>(-inf, 0]</th>\n",
       "      <td>0</td>\n",
       "      <td>0</td>\n",
       "      <td>6405</td>\n",
       "      <td>0.99164</td>\n",
       "      <td>463</td>\n",
       "      <td>5942</td>\n",
       "      <td>0.997845</td>\n",
       "      <td>0.991159</td>\n",
       "      <td>0.072287</td>\n",
       "      <td>0.006723</td>\n",
       "      <td>0.000045</td>\n",
       "    </tr>\n",
       "    <tr>\n",
       "      <th>(0, +inf)</th>\n",
       "      <td>1</td>\n",
       "      <td>1</td>\n",
       "      <td>54</td>\n",
       "      <td>0.00836</td>\n",
       "      <td>1</td>\n",
       "      <td>53</td>\n",
       "      <td>0.002155</td>\n",
       "      <td>0.008841</td>\n",
       "      <td>0.018519</td>\n",
       "      <td>-1.411495</td>\n",
       "      <td>0.009437</td>\n",
       "    </tr>\n",
       "  </tbody>\n",
       "</table>\n",
       "</div>"
      ],
      "text/plain": [
       "            Lbound  Ubound  Totalcnt  PctTotal  Y_count  n_Y_count     Y_pct  \\\n",
       "qt_binning                                                                     \n",
       "(-inf, 0]        0       0      6405   0.99164      463       5942  0.997845   \n",
       "(0, +inf)        1       1        54   0.00836        1         53  0.002155   \n",
       "\n",
       "             n_Y_pct    Y_rate       WOE        IV  \n",
       "qt_binning                                          \n",
       "(-inf, 0]   0.991159  0.072287  0.006723  0.000045  \n",
       "(0, +inf)   0.008841  0.018519 -1.411495  0.009437  "
      ]
     },
     "execution_count": 35,
     "metadata": {},
     "output_type": "execute_result"
    }
   ],
   "source": [
    "var_name = 'ls_cr' #变量\n",
    "var_bin = variable_binning(data_form, target, var_name, [0], 'bins')\n",
    "binning_plot(var_bin)\n",
    "print(var_name,'变量的IV值为',var_bin['IV'].sum())\n",
    "var_bin_ls_cr=var_bin['WOE']\n",
    "var_bin.sort_values('Lbound')"
   ]
  },
  {
   "cell_type": "code",
   "execution_count": 36,
   "metadata": {
    "collapsed": false,
    "scrolled": true
   },
   "outputs": [
    {
     "name": "stderr",
     "output_type": "stream",
     "text": [
      "C:\\Users\\xiongjun\\AppData\\Local\\Continuum\\Anaconda3\\lib\\site-packages\\pandas\\core\\generic.py:3295: SettingWithCopyWarning: \n",
      "A value is trying to be set on a copy of a slice from a DataFrame\n",
      "\n",
      "See the caveats in the documentation: http://pandas.pydata.org/pandas-docs/stable/indexing.html#indexing-view-versus-copy\n",
      "  self._update_inplace(new_data)\n",
      "C:\\Users\\xiongjun\\sc_func.py:124: SettingWithCopyWarning: \n",
      "A value is trying to be set on a copy of a slice from a DataFrame.\n",
      "Try using .loc[row_indexer,col_indexer] = value instead\n",
      "\n",
      "See the caveats in the documentation: http://pandas.pydata.org/pandas-docs/stable/indexing.html#indexing-view-versus-copy\n",
      "  df['qt_binning'] = var_bins_series(df[var], bins, side = side)\n"
     ]
    },
    {
     "data": {
      "image/png": "[encoded data removed]",
      "text/plain": [
       "<matplotlib.figure.Figure at 0x8354588>"
      ]
     },
     "metadata": {},
     "output_type": "display_data"
    },
    {
     "name": "stdout",
     "output_type": "stream",
     "text": [
      "ls_cr_cl 变量的IV值为 0.0008484271755283\n"
     ]
    },
    {
     "data": {
      "text/html": [
       "<div>\n",
       "<table border=\"1\" class=\"dataframe\">\n",
       "  <thead>\n",
       "    <tr style=\"text-align: right;\">\n",
       "      <th></th>\n",
       "      <th>Lbound</th>\n",
       "      <th>Ubound</th>\n",
       "      <th>Totalcnt</th>\n",
       "      <th>PctTotal</th>\n",
       "      <th>Y_count</th>\n",
       "      <th>n_Y_count</th>\n",
       "      <th>Y_pct</th>\n",
       "      <th>n_Y_pct</th>\n",
       "      <th>Y_rate</th>\n",
       "      <th>WOE</th>\n",
       "      <th>IV</th>\n",
       "    </tr>\n",
       "    <tr>\n",
       "      <th>qt_binning</th>\n",
       "      <th></th>\n",
       "      <th></th>\n",
       "      <th></th>\n",
       "      <th></th>\n",
       "      <th></th>\n",
       "      <th></th>\n",
       "      <th></th>\n",
       "      <th></th>\n",
       "      <th></th>\n",
       "      <th></th>\n",
       "      <th></th>\n",
       "    </tr>\n",
       "  </thead>\n",
       "  <tbody>\n",
       "    <tr>\n",
       "      <th>(-inf, 0]</th>\n",
       "      <td>0</td>\n",
       "      <td>0</td>\n",
       "      <td>6458</td>\n",
       "      <td>0.999845</td>\n",
       "      <td>464</td>\n",
       "      <td>5994</td>\n",
       "      <td>1.000000</td>\n",
       "      <td>0.999833</td>\n",
       "      <td>0.071849</td>\n",
       "      <td>0.000167</td>\n",
       "      <td>2.782645e-08</td>\n",
       "    </tr>\n",
       "    <tr>\n",
       "      <th>(0, +inf)</th>\n",
       "      <td>1</td>\n",
       "      <td>1</td>\n",
       "      <td>1</td>\n",
       "      <td>0.000155</td>\n",
       "      <td>0</td>\n",
       "      <td>1</td>\n",
       "      <td>0.000001</td>\n",
       "      <td>0.000167</td>\n",
       "      <td>0.000000</td>\n",
       "      <td>-5.116829</td>\n",
       "      <td>8.483993e-04</td>\n",
       "    </tr>\n",
       "  </tbody>\n",
       "</table>\n",
       "</div>"
      ],
      "text/plain": [
       "            Lbound  Ubound  Totalcnt  PctTotal  Y_count  n_Y_count     Y_pct  \\\n",
       "qt_binning                                                                     \n",
       "(-inf, 0]        0       0      6458  0.999845      464       5994  1.000000   \n",
       "(0, +inf)        1       1         1  0.000155        0          1  0.000001   \n",
       "\n",
       "             n_Y_pct    Y_rate       WOE            IV  \n",
       "qt_binning                                              \n",
       "(-inf, 0]   0.999833  0.071849  0.000167  2.782645e-08  \n",
       "(0, +inf)   0.000167  0.000000 -5.116829  8.483993e-04  "
      ]
     },
     "execution_count": 36,
     "metadata": {},
     "output_type": "execute_result"
    }
   ],
   "source": [
    "var_name = 'ls_cr_cl' #变量\n",
    "var_bin = variable_binning(data_form, target, var_name, [0], 'bins')\n",
    "binning_plot(var_bin)\n",
    "print(var_name,'变量的IV值为',var_bin['IV'].sum())\n",
    "var_bin_ls_cr_cl=var_bin['WOE']\n",
    "var_bin.sort_values('Lbound')"
   ]
  },
  {
   "cell_type": "code",
   "execution_count": 37,
   "metadata": {
    "collapsed": false,
    "scrolled": true
   },
   "outputs": [
    {
     "name": "stderr",
     "output_type": "stream",
     "text": [
      "C:\\Users\\xiongjun\\AppData\\Local\\Continuum\\Anaconda3\\lib\\site-packages\\pandas\\core\\generic.py:3295: SettingWithCopyWarning: \n",
      "A value is trying to be set on a copy of a slice from a DataFrame\n",
      "\n",
      "See the caveats in the documentation: http://pandas.pydata.org/pandas-docs/stable/indexing.html#indexing-view-versus-copy\n",
      "  self._update_inplace(new_data)\n",
      "C:\\Users\\xiongjun\\sc_func.py:124: SettingWithCopyWarning: \n",
      "A value is trying to be set on a copy of a slice from a DataFrame.\n",
      "Try using .loc[row_indexer,col_indexer] = value instead\n",
      "\n",
      "See the caveats in the documentation: http://pandas.pydata.org/pandas-docs/stable/indexing.html#indexing-view-versus-copy\n",
      "  df['qt_binning'] = var_bins_series(df[var], bins, side = side)\n"
     ]
    },
    {
     "data": {
      "image/png": "[encoded data removed]",
      "text/plain": [
       "<matplotlib.figure.Figure at 0x8354588>"
      ]
     },
     "metadata": {},
     "output_type": "display_data"
    },
    {
     "name": "stdout",
     "output_type": "stream",
     "text": [
      "ls_gp 变量的IV值为 0.0003940943600875988\n"
     ]
    },
    {
     "data": {
      "text/html": [
       "<div>\n",
       "<table border=\"1\" class=\"dataframe\">\n",
       "  <thead>\n",
       "    <tr style=\"text-align: right;\">\n",
       "      <th></th>\n",
       "      <th>Lbound</th>\n",
       "      <th>Ubound</th>\n",
       "      <th>Totalcnt</th>\n",
       "      <th>PctTotal</th>\n",
       "      <th>Y_count</th>\n",
       "      <th>n_Y_count</th>\n",
       "      <th>Y_pct</th>\n",
       "      <th>n_Y_pct</th>\n",
       "      <th>Y_rate</th>\n",
       "      <th>WOE</th>\n",
       "      <th>IV</th>\n",
       "    </tr>\n",
       "    <tr>\n",
       "      <th>qt_binning</th>\n",
       "      <th></th>\n",
       "      <th></th>\n",
       "      <th></th>\n",
       "      <th></th>\n",
       "      <th></th>\n",
       "      <th></th>\n",
       "      <th></th>\n",
       "      <th></th>\n",
       "      <th></th>\n",
       "      <th></th>\n",
       "      <th></th>\n",
       "    </tr>\n",
       "  </thead>\n",
       "  <tbody>\n",
       "    <tr>\n",
       "      <th>(-inf, 0]</th>\n",
       "      <td>0</td>\n",
       "      <td>0</td>\n",
       "      <td>6450</td>\n",
       "      <td>0.998607</td>\n",
       "      <td>463</td>\n",
       "      <td>5987</td>\n",
       "      <td>0.997845</td>\n",
       "      <td>0.998666</td>\n",
       "      <td>0.071783</td>\n",
       "      <td>-0.000822</td>\n",
       "      <td>6.747703e-07</td>\n",
       "    </tr>\n",
       "    <tr>\n",
       "      <th>(0, +inf)</th>\n",
       "      <td>1</td>\n",
       "      <td>1</td>\n",
       "      <td>9</td>\n",
       "      <td>0.001393</td>\n",
       "      <td>1</td>\n",
       "      <td>8</td>\n",
       "      <td>0.002155</td>\n",
       "      <td>0.001334</td>\n",
       "      <td>0.111111</td>\n",
       "      <td>0.479355</td>\n",
       "      <td>3.934196e-04</td>\n",
       "    </tr>\n",
       "  </tbody>\n",
       "</table>\n",
       "</div>"
      ],
      "text/plain": [
       "            Lbound  Ubound  Totalcnt  PctTotal  Y_count  n_Y_count     Y_pct  \\\n",
       "qt_binning                                                                     \n",
       "(-inf, 0]        0       0      6450  0.998607      463       5987  0.997845   \n",
       "(0, +inf)        1       1         9  0.001393        1          8  0.002155   \n",
       "\n",
       "             n_Y_pct    Y_rate       WOE            IV  \n",
       "qt_binning                                              \n",
       "(-inf, 0]   0.998666  0.071783 -0.000822  6.747703e-07  \n",
       "(0, +inf)   0.001334  0.111111  0.479355  3.934196e-04  "
      ]
     },
     "execution_count": 37,
     "metadata": {},
     "output_type": "execute_result"
    }
   ],
   "source": [
    "var_name = 'ls_gp' #变量\n",
    "var_bin = variable_binning(data_form, target, var_name, [0], 'bins')\n",
    "binning_plot(var_bin)\n",
    "print(var_name,'变量的IV值为',var_bin['IV'].sum())\n",
    "var_bin_ls_gp=var_bin['WOE']\n",
    "var_bin.sort_values('Lbound')"
   ]
  },
  {
   "cell_type": "code",
   "execution_count": 38,
   "metadata": {
    "collapsed": false,
    "scrolled": true
   },
   "outputs": [
    {
     "name": "stderr",
     "output_type": "stream",
     "text": [
      "C:\\Users\\xiongjun\\AppData\\Local\\Continuum\\Anaconda3\\lib\\site-packages\\pandas\\core\\generic.py:3295: SettingWithCopyWarning: \n",
      "A value is trying to be set on a copy of a slice from a DataFrame\n",
      "\n",
      "See the caveats in the documentation: http://pandas.pydata.org/pandas-docs/stable/indexing.html#indexing-view-versus-copy\n",
      "  self._update_inplace(new_data)\n",
      "C:\\Users\\xiongjun\\sc_func.py:124: SettingWithCopyWarning: \n",
      "A value is trying to be set on a copy of a slice from a DataFrame.\n",
      "Try using .loc[row_indexer,col_indexer] = value instead\n",
      "\n",
      "See the caveats in the documentation: http://pandas.pydata.org/pandas-docs/stable/indexing.html#indexing-view-versus-copy\n",
      "  df['qt_binning'] = var_bins_series(df[var], bins, side = side)\n"
     ]
    },
    {
     "data": {
      "image/png": "[encoded data removed]",
      "text/plain": [
       "<matplotlib.figure.Figure at 0x2727198>"
      ]
     },
     "metadata": {},
     "output_type": "display_data"
    },
    {
     "name": "stdout",
     "output_type": "stream",
     "text": [
      "ls_gp_cl 变量的IV值为 0.0008484271755283\n"
     ]
    },
    {
     "data": {
      "text/html": [
       "<div>\n",
       "<table border=\"1\" class=\"dataframe\">\n",
       "  <thead>\n",
       "    <tr style=\"text-align: right;\">\n",
       "      <th></th>\n",
       "      <th>Lbound</th>\n",
       "      <th>Ubound</th>\n",
       "      <th>Totalcnt</th>\n",
       "      <th>PctTotal</th>\n",
       "      <th>Y_count</th>\n",
       "      <th>n_Y_count</th>\n",
       "      <th>Y_pct</th>\n",
       "      <th>n_Y_pct</th>\n",
       "      <th>Y_rate</th>\n",
       "      <th>WOE</th>\n",
       "      <th>IV</th>\n",
       "    </tr>\n",
       "    <tr>\n",
       "      <th>qt_binning</th>\n",
       "      <th></th>\n",
       "      <th></th>\n",
       "      <th></th>\n",
       "      <th></th>\n",
       "      <th></th>\n",
       "      <th></th>\n",
       "      <th></th>\n",
       "      <th></th>\n",
       "      <th></th>\n",
       "      <th></th>\n",
       "      <th></th>\n",
       "    </tr>\n",
       "  </thead>\n",
       "  <tbody>\n",
       "    <tr>\n",
       "      <th>(-inf, 0]</th>\n",
       "      <td>0</td>\n",
       "      <td>0</td>\n",
       "      <td>6458</td>\n",
       "      <td>0.999845</td>\n",
       "      <td>464</td>\n",
       "      <td>5994</td>\n",
       "      <td>1.000000</td>\n",
       "      <td>0.999833</td>\n",
       "      <td>0.071849</td>\n",
       "      <td>0.000167</td>\n",
       "      <td>2.782645e-08</td>\n",
       "    </tr>\n",
       "    <tr>\n",
       "      <th>(0, +inf)</th>\n",
       "      <td>1</td>\n",
       "      <td>1</td>\n",
       "      <td>1</td>\n",
       "      <td>0.000155</td>\n",
       "      <td>0</td>\n",
       "      <td>1</td>\n",
       "      <td>0.000001</td>\n",
       "      <td>0.000167</td>\n",
       "      <td>0.000000</td>\n",
       "      <td>-5.116829</td>\n",
       "      <td>8.483993e-04</td>\n",
       "    </tr>\n",
       "  </tbody>\n",
       "</table>\n",
       "</div>"
      ],
      "text/plain": [
       "            Lbound  Ubound  Totalcnt  PctTotal  Y_count  n_Y_count     Y_pct  \\\n",
       "qt_binning                                                                     \n",
       "(-inf, 0]        0       0      6458  0.999845      464       5994  1.000000   \n",
       "(0, +inf)        1       1         1  0.000155        0          1  0.000001   \n",
       "\n",
       "             n_Y_pct    Y_rate       WOE            IV  \n",
       "qt_binning                                              \n",
       "(-inf, 0]   0.999833  0.071849  0.000167  2.782645e-08  \n",
       "(0, +inf)   0.000167  0.000000 -5.116829  8.483993e-04  "
      ]
     },
     "execution_count": 38,
     "metadata": {},
     "output_type": "execute_result"
    }
   ],
   "source": [
    "var_name = 'ls_gp_cl' #变量\n",
    "var_bin = variable_binning(data_form, target, var_name, [0], 'bins')\n",
    "binning_plot(var_bin)\n",
    "print(var_name,'变量的IV值为',var_bin['IV'].sum())\n",
    "var_bin_ls_gp_cl=var_bin['WOE']\n",
    "var_bin.sort_values('Lbound')"
   ]
  },
  {
   "cell_type": "code",
   "execution_count": 41,
   "metadata": {
    "collapsed": false,
    "scrolled": true
   },
   "outputs": [
    {
     "name": "stderr",
     "output_type": "stream",
     "text": [
      "C:\\Users\\xiongjun\\AppData\\Local\\Continuum\\Anaconda3\\lib\\site-packages\\pandas\\core\\generic.py:3295: SettingWithCopyWarning: \n",
      "A value is trying to be set on a copy of a slice from a DataFrame\n",
      "\n",
      "See the caveats in the documentation: http://pandas.pydata.org/pandas-docs/stable/indexing.html#indexing-view-versus-copy\n",
      "  self._update_inplace(new_data)\n",
      "C:\\Users\\xiongjun\\sc_func.py:124: SettingWithCopyWarning: \n",
      "A value is trying to be set on a copy of a slice from a DataFrame.\n",
      "Try using .loc[row_indexer,col_indexer] = value instead\n",
      "\n",
      "See the caveats in the documentation: http://pandas.pydata.org/pandas-docs/stable/indexing.html#indexing-view-versus-copy\n",
      "  df['qt_binning'] = var_bins_series(df[var], bins, side = side)\n"
     ]
    },
    {
     "data": {
      "image/png": "[encoded data removed]",
      "text/plain": [
       "<matplotlib.figure.Figure at 0x9f87978>"
      ]
     },
     "metadata": {},
     "output_type": "display_data"
    },
    {
     "name": "stdout",
     "output_type": "stream",
     "text": [
      "ls_nd 变量的IV值为 0.04149401426702839\n"
     ]
    },
    {
     "data": {
      "text/html": [
       "<div>\n",
       "<table border=\"1\" class=\"dataframe\">\n",
       "  <thead>\n",
       "    <tr style=\"text-align: right;\">\n",
       "      <th></th>\n",
       "      <th>Lbound</th>\n",
       "      <th>Ubound</th>\n",
       "      <th>Totalcnt</th>\n",
       "      <th>PctTotal</th>\n",
       "      <th>Y_count</th>\n",
       "      <th>n_Y_count</th>\n",
       "      <th>Y_pct</th>\n",
       "      <th>n_Y_pct</th>\n",
       "      <th>Y_rate</th>\n",
       "      <th>WOE</th>\n",
       "      <th>IV</th>\n",
       "    </tr>\n",
       "    <tr>\n",
       "      <th>qt_binning</th>\n",
       "      <th></th>\n",
       "      <th></th>\n",
       "      <th></th>\n",
       "      <th></th>\n",
       "      <th></th>\n",
       "      <th></th>\n",
       "      <th></th>\n",
       "      <th></th>\n",
       "      <th></th>\n",
       "      <th></th>\n",
       "      <th></th>\n",
       "    </tr>\n",
       "  </thead>\n",
       "  <tbody>\n",
       "    <tr>\n",
       "      <th>(-inf, 0]</th>\n",
       "      <td>0</td>\n",
       "      <td>0</td>\n",
       "      <td>5746</td>\n",
       "      <td>0.889611</td>\n",
       "      <td>437</td>\n",
       "      <td>5309</td>\n",
       "      <td>0.94181</td>\n",
       "      <td>0.885571</td>\n",
       "      <td>0.076053</td>\n",
       "      <td>0.061571</td>\n",
       "      <td>0.003463</td>\n",
       "    </tr>\n",
       "    <tr>\n",
       "      <th>(0, +inf)</th>\n",
       "      <td>1</td>\n",
       "      <td>1</td>\n",
       "      <td>713</td>\n",
       "      <td>0.110389</td>\n",
       "      <td>27</td>\n",
       "      <td>686</td>\n",
       "      <td>0.05819</td>\n",
       "      <td>0.114429</td>\n",
       "      <td>0.037868</td>\n",
       "      <td>-0.676244</td>\n",
       "      <td>0.038031</td>\n",
       "    </tr>\n",
       "  </tbody>\n",
       "</table>\n",
       "</div>"
      ],
      "text/plain": [
       "            Lbound  Ubound  Totalcnt  PctTotal  Y_count  n_Y_count    Y_pct  \\\n",
       "qt_binning                                                                    \n",
       "(-inf, 0]        0       0      5746  0.889611      437       5309  0.94181   \n",
       "(0, +inf)        1       1       713  0.110389       27        686  0.05819   \n",
       "\n",
       "             n_Y_pct    Y_rate       WOE        IV  \n",
       "qt_binning                                          \n",
       "(-inf, 0]   0.885571  0.076053  0.061571  0.003463  \n",
       "(0, +inf)   0.114429  0.037868 -0.676244  0.038031  "
      ]
     },
     "execution_count": 41,
     "metadata": {},
     "output_type": "execute_result"
    }
   ],
   "source": [
    "var_name = 'ls_nd' #变量\n",
    "var_bin = variable_binning(data_form, target, var_name, [0], 'bins')\n",
    "binning_plot(var_bin)\n",
    "print(var_name,'变量的IV值为',var_bin['IV'].sum())\n",
    "var_bin_ls_nd=var_bin['WOE']\n",
    "var_bin.sort_values('Lbound')"
   ]
  },
  {
   "cell_type": "code",
   "execution_count": 42,
   "metadata": {
    "collapsed": false,
    "scrolled": false
   },
   "outputs": [
    {
     "name": "stderr",
     "output_type": "stream",
     "text": [
      "C:\\Users\\xiongjun\\AppData\\Local\\Continuum\\Anaconda3\\lib\\site-packages\\pandas\\core\\generic.py:3295: SettingWithCopyWarning: \n",
      "A value is trying to be set on a copy of a slice from a DataFrame\n",
      "\n",
      "See the caveats in the documentation: http://pandas.pydata.org/pandas-docs/stable/indexing.html#indexing-view-versus-copy\n",
      "  self._update_inplace(new_data)\n",
      "C:\\Users\\xiongjun\\sc_func.py:124: SettingWithCopyWarning: \n",
      "A value is trying to be set on a copy of a slice from a DataFrame.\n",
      "Try using .loc[row_indexer,col_indexer] = value instead\n",
      "\n",
      "See the caveats in the documentation: http://pandas.pydata.org/pandas-docs/stable/indexing.html#indexing-view-versus-copy\n",
      "  df['qt_binning'] = var_bins_series(df[var], bins, side = side)\n"
     ]
    },
    {
     "data": {
      "image/png": "[encoded data removed]",
      "text/plain": [
       "<matplotlib.figure.Figure at 0x9f80438>"
      ]
     },
     "metadata": {},
     "output_type": "display_data"
    },
    {
     "name": "stdout",
     "output_type": "stream",
     "text": [
      "ld_rc 变量的IV值为 0.0021205172316033746\n"
     ]
    },
    {
     "data": {
      "text/html": [
       "<div>\n",
       "<table border=\"1\" class=\"dataframe\">\n",
       "  <thead>\n",
       "    <tr style=\"text-align: right;\">\n",
       "      <th></th>\n",
       "      <th>Lbound</th>\n",
       "      <th>Ubound</th>\n",
       "      <th>Totalcnt</th>\n",
       "      <th>PctTotal</th>\n",
       "      <th>Y_count</th>\n",
       "      <th>n_Y_count</th>\n",
       "      <th>Y_pct</th>\n",
       "      <th>n_Y_pct</th>\n",
       "      <th>Y_rate</th>\n",
       "      <th>WOE</th>\n",
       "      <th>IV</th>\n",
       "    </tr>\n",
       "    <tr>\n",
       "      <th>qt_binning</th>\n",
       "      <th></th>\n",
       "      <th></th>\n",
       "      <th></th>\n",
       "      <th></th>\n",
       "      <th></th>\n",
       "      <th></th>\n",
       "      <th></th>\n",
       "      <th></th>\n",
       "      <th></th>\n",
       "      <th></th>\n",
       "      <th></th>\n",
       "    </tr>\n",
       "  </thead>\n",
       "  <tbody>\n",
       "    <tr>\n",
       "      <th>(-inf, 0]</th>\n",
       "      <td>0</td>\n",
       "      <td>0</td>\n",
       "      <td>5977</td>\n",
       "      <td>0.925375</td>\n",
       "      <td>424</td>\n",
       "      <td>5553</td>\n",
       "      <td>0.913793</td>\n",
       "      <td>0.926272</td>\n",
       "      <td>0.070939</td>\n",
       "      <td>-0.013564</td>\n",
       "      <td>0.000169</td>\n",
       "    </tr>\n",
       "    <tr>\n",
       "      <th>(0, +inf)</th>\n",
       "      <td>1</td>\n",
       "      <td>1</td>\n",
       "      <td>482</td>\n",
       "      <td>0.074625</td>\n",
       "      <td>40</td>\n",
       "      <td>442</td>\n",
       "      <td>0.086207</td>\n",
       "      <td>0.073728</td>\n",
       "      <td>0.082988</td>\n",
       "      <td>0.156366</td>\n",
       "      <td>0.001951</td>\n",
       "    </tr>\n",
       "  </tbody>\n",
       "</table>\n",
       "</div>"
      ],
      "text/plain": [
       "            Lbound  Ubound  Totalcnt  PctTotal  Y_count  n_Y_count     Y_pct  \\\n",
       "qt_binning                                                                     \n",
       "(-inf, 0]        0       0      5977  0.925375      424       5553  0.913793   \n",
       "(0, +inf)        1       1       482  0.074625       40        442  0.086207   \n",
       "\n",
       "             n_Y_pct    Y_rate       WOE        IV  \n",
       "qt_binning                                          \n",
       "(-inf, 0]   0.926272  0.070939 -0.013564  0.000169  \n",
       "(0, +inf)   0.073728  0.082988  0.156366  0.001951  "
      ]
     },
     "execution_count": 42,
     "metadata": {},
     "output_type": "execute_result"
    }
   ],
   "source": [
    "var_name = 'ld_rc' #变量\n",
    "var_bin = variable_binning(data_form, target, var_name, [0], 'bins')\n",
    "binning_plot(var_bin)\n",
    "print(var_name,'变量的IV值为',var_bin['IV'].sum())\n",
    "var_bin_ld_rc=var_bin['WOE']\n",
    "var_bin.sort_values('Lbound')"
   ]
  },
  {
   "cell_type": "code",
   "execution_count": 43,
   "metadata": {
    "collapsed": false
   },
   "outputs": [
    {
     "name": "stderr",
     "output_type": "stream",
     "text": [
      "C:\\Users\\xiongjun\\AppData\\Local\\Continuum\\Anaconda3\\lib\\site-packages\\pandas\\core\\generic.py:3295: SettingWithCopyWarning: \n",
      "A value is trying to be set on a copy of a slice from a DataFrame\n",
      "\n",
      "See the caveats in the documentation: http://pandas.pydata.org/pandas-docs/stable/indexing.html#indexing-view-versus-copy\n",
      "  self._update_inplace(new_data)\n",
      "C:\\Users\\xiongjun\\sc_func.py:124: SettingWithCopyWarning: \n",
      "A value is trying to be set on a copy of a slice from a DataFrame.\n",
      "Try using .loc[row_indexer,col_indexer] = value instead\n",
      "\n",
      "See the caveats in the documentation: http://pandas.pydata.org/pandas-docs/stable/indexing.html#indexing-view-versus-copy\n",
      "  df['qt_binning'] = var_bins_series(df[var], bins, side = side)\n"
     ]
    },
    {
     "data": {
      "image/png": "[encoded data removed]",
      "text/plain": [
       "<matplotlib.figure.Figure at 0x2727198>"
      ]
     },
     "metadata": {},
     "output_type": "display_data"
    },
    {
     "name": "stdout",
     "output_type": "stream",
     "text": [
      "ld_xc 变量的IV值为 0.002405943000128543\n"
     ]
    },
    {
     "data": {
      "text/html": [
       "<div>\n",
       "<table border=\"1\" class=\"dataframe\">\n",
       "  <thead>\n",
       "    <tr style=\"text-align: right;\">\n",
       "      <th></th>\n",
       "      <th>Lbound</th>\n",
       "      <th>Ubound</th>\n",
       "      <th>Totalcnt</th>\n",
       "      <th>PctTotal</th>\n",
       "      <th>Y_count</th>\n",
       "      <th>n_Y_count</th>\n",
       "      <th>Y_pct</th>\n",
       "      <th>n_Y_pct</th>\n",
       "      <th>Y_rate</th>\n",
       "      <th>WOE</th>\n",
       "      <th>IV</th>\n",
       "    </tr>\n",
       "    <tr>\n",
       "      <th>qt_binning</th>\n",
       "      <th></th>\n",
       "      <th></th>\n",
       "      <th></th>\n",
       "      <th></th>\n",
       "      <th></th>\n",
       "      <th></th>\n",
       "      <th></th>\n",
       "      <th></th>\n",
       "      <th></th>\n",
       "      <th></th>\n",
       "      <th></th>\n",
       "    </tr>\n",
       "  </thead>\n",
       "  <tbody>\n",
       "    <tr>\n",
       "      <th>(-inf, 0]</th>\n",
       "      <td>0</td>\n",
       "      <td>0</td>\n",
       "      <td>3557</td>\n",
       "      <td>0.550704</td>\n",
       "      <td>245</td>\n",
       "      <td>3312</td>\n",
       "      <td>0.528017</td>\n",
       "      <td>0.55246</td>\n",
       "      <td>0.068878</td>\n",
       "      <td>-0.045253</td>\n",
       "      <td>0.001106</td>\n",
       "    </tr>\n",
       "    <tr>\n",
       "      <th>(0, +inf)</th>\n",
       "      <td>1</td>\n",
       "      <td>1</td>\n",
       "      <td>2902</td>\n",
       "      <td>0.449296</td>\n",
       "      <td>219</td>\n",
       "      <td>2683</td>\n",
       "      <td>0.471983</td>\n",
       "      <td>0.44754</td>\n",
       "      <td>0.075465</td>\n",
       "      <td>0.053177</td>\n",
       "      <td>0.001300</td>\n",
       "    </tr>\n",
       "  </tbody>\n",
       "</table>\n",
       "</div>"
      ],
      "text/plain": [
       "            Lbound  Ubound  Totalcnt  PctTotal  Y_count  n_Y_count     Y_pct  \\\n",
       "qt_binning                                                                     \n",
       "(-inf, 0]        0       0      3557  0.550704      245       3312  0.528017   \n",
       "(0, +inf)        1       1      2902  0.449296      219       2683  0.471983   \n",
       "\n",
       "            n_Y_pct    Y_rate       WOE        IV  \n",
       "qt_binning                                         \n",
       "(-inf, 0]   0.55246  0.068878 -0.045253  0.001106  \n",
       "(0, +inf)   0.44754  0.075465  0.053177  0.001300  "
      ]
     },
     "execution_count": 43,
     "metadata": {},
     "output_type": "execute_result"
    }
   ],
   "source": [
    "var_name = 'ld_xc' #变量\n",
    "var_bin = variable_binning(data_form, target, var_name, [0], 'bins')\n",
    "binning_plot(var_bin)\n",
    "print(var_name,'变量的IV值为',var_bin['IV'].sum())\n",
    "var_bin_ld_xc=var_bin['WOE']\n",
    "var_bin.sort_values('Lbound')"
   ]
  },
  {
   "cell_type": "code",
   "execution_count": 44,
   "metadata": {
    "collapsed": false
   },
   "outputs": [
    {
     "name": "stderr",
     "output_type": "stream",
     "text": [
      "C:\\Users\\xiongjun\\AppData\\Local\\Continuum\\Anaconda3\\lib\\site-packages\\pandas\\core\\generic.py:3295: SettingWithCopyWarning: \n",
      "A value is trying to be set on a copy of a slice from a DataFrame\n",
      "\n",
      "See the caveats in the documentation: http://pandas.pydata.org/pandas-docs/stable/indexing.html#indexing-view-versus-copy\n",
      "  self._update_inplace(new_data)\n",
      "C:\\Users\\xiongjun\\sc_func.py:124: SettingWithCopyWarning: \n",
      "A value is trying to be set on a copy of a slice from a DataFrame.\n",
      "Try using .loc[row_indexer,col_indexer] = value instead\n",
      "\n",
      "See the caveats in the documentation: http://pandas.pydata.org/pandas-docs/stable/indexing.html#indexing-view-versus-copy\n",
      "  df['qt_binning'] = var_bins_series(df[var], bins, side = side)\n"
     ]
    },
    {
     "data": {
      "image/png": "[encoded data removed]",
      "text/plain": [
       "<matplotlib.figure.Figure at 0x9f97358>"
      ]
     },
     "metadata": {},
     "output_type": "display_data"
    },
    {
     "name": "stdout",
     "output_type": "stream",
     "text": [
      "bs_gps5 变量的IV值为 0.0003261687451297551\n"
     ]
    },
    {
     "data": {
      "text/html": [
       "<div>\n",
       "<table border=\"1\" class=\"dataframe\">\n",
       "  <thead>\n",
       "    <tr style=\"text-align: right;\">\n",
       "      <th></th>\n",
       "      <th>Lbound</th>\n",
       "      <th>Ubound</th>\n",
       "      <th>Totalcnt</th>\n",
       "      <th>PctTotal</th>\n",
       "      <th>Y_count</th>\n",
       "      <th>n_Y_count</th>\n",
       "      <th>Y_pct</th>\n",
       "      <th>n_Y_pct</th>\n",
       "      <th>Y_rate</th>\n",
       "      <th>WOE</th>\n",
       "      <th>IV</th>\n",
       "    </tr>\n",
       "    <tr>\n",
       "      <th>qt_binning</th>\n",
       "      <th></th>\n",
       "      <th></th>\n",
       "      <th></th>\n",
       "      <th></th>\n",
       "      <th></th>\n",
       "      <th></th>\n",
       "      <th></th>\n",
       "      <th></th>\n",
       "      <th></th>\n",
       "      <th></th>\n",
       "      <th></th>\n",
       "    </tr>\n",
       "  </thead>\n",
       "  <tbody>\n",
       "    <tr>\n",
       "      <th>(-inf, 0]</th>\n",
       "      <td>0</td>\n",
       "      <td>0</td>\n",
       "      <td>6135</td>\n",
       "      <td>0.949837</td>\n",
       "      <td>439</td>\n",
       "      <td>5696</td>\n",
       "      <td>0.946121</td>\n",
       "      <td>0.950125</td>\n",
       "      <td>0.071557</td>\n",
       "      <td>-0.004224</td>\n",
       "      <td>0.000017</td>\n",
       "    </tr>\n",
       "    <tr>\n",
       "      <th>(0, +inf)</th>\n",
       "      <td>1</td>\n",
       "      <td>1</td>\n",
       "      <td>324</td>\n",
       "      <td>0.050163</td>\n",
       "      <td>25</td>\n",
       "      <td>299</td>\n",
       "      <td>0.053879</td>\n",
       "      <td>0.049875</td>\n",
       "      <td>0.077160</td>\n",
       "      <td>0.077229</td>\n",
       "      <td>0.000309</td>\n",
       "    </tr>\n",
       "  </tbody>\n",
       "</table>\n",
       "</div>"
      ],
      "text/plain": [
       "            Lbound  Ubound  Totalcnt  PctTotal  Y_count  n_Y_count     Y_pct  \\\n",
       "qt_binning                                                                     \n",
       "(-inf, 0]        0       0      6135  0.949837      439       5696  0.946121   \n",
       "(0, +inf)        1       1       324  0.050163       25        299  0.053879   \n",
       "\n",
       "             n_Y_pct    Y_rate       WOE        IV  \n",
       "qt_binning                                          \n",
       "(-inf, 0]   0.950125  0.071557 -0.004224  0.000017  \n",
       "(0, +inf)   0.049875  0.077160  0.077229  0.000309  "
      ]
     },
     "execution_count": 44,
     "metadata": {},
     "output_type": "execute_result"
    }
   ],
   "source": [
    "var_name = 'bs_gps5' #变量\n",
    "var_bin = variable_binning(data_form, target, var_name, [0], 'bins')\n",
    "binning_plot(var_bin)\n",
    "print(var_name,'变量的IV值为',var_bin['IV'].sum())\n",
    "var_bin_bs_gps5=var_bin['WOE']\n",
    "var_bin.sort_values('Lbound')"
   ]
  },
  {
   "cell_type": "code",
   "execution_count": 45,
   "metadata": {
    "collapsed": false,
    "scrolled": true
   },
   "outputs": [
    {
     "name": "stderr",
     "output_type": "stream",
     "text": [
      "C:\\Users\\xiongjun\\AppData\\Local\\Continuum\\Anaconda3\\lib\\site-packages\\pandas\\core\\generic.py:3295: SettingWithCopyWarning: \n",
      "A value is trying to be set on a copy of a slice from a DataFrame\n",
      "\n",
      "See the caveats in the documentation: http://pandas.pydata.org/pandas-docs/stable/indexing.html#indexing-view-versus-copy\n",
      "  self._update_inplace(new_data)\n",
      "C:\\Users\\xiongjun\\sc_func.py:124: SettingWithCopyWarning: \n",
      "A value is trying to be set on a copy of a slice from a DataFrame.\n",
      "Try using .loc[row_indexer,col_indexer] = value instead\n",
      "\n",
      "See the caveats in the documentation: http://pandas.pydata.org/pandas-docs/stable/indexing.html#indexing-view-versus-copy\n",
      "  df['qt_binning'] = var_bins_series(df[var], bins, side = side)\n"
     ]
    },
    {
     "data": {
      "image/png": "[encoded data removed]",
      "text/plain": [
       "<matplotlib.figure.Figure at 0xa082c18>"
      ]
     },
     "metadata": {},
     "output_type": "display_data"
    },
    {
     "name": "stdout",
     "output_type": "stream",
     "text": [
      "bs_add5 变量的IV值为 0.0011146066536260458\n"
     ]
    },
    {
     "data": {
      "text/html": [
       "<div>\n",
       "<table border=\"1\" class=\"dataframe\">\n",
       "  <thead>\n",
       "    <tr style=\"text-align: right;\">\n",
       "      <th></th>\n",
       "      <th>Lbound</th>\n",
       "      <th>Ubound</th>\n",
       "      <th>Totalcnt</th>\n",
       "      <th>PctTotal</th>\n",
       "      <th>Y_count</th>\n",
       "      <th>n_Y_count</th>\n",
       "      <th>Y_pct</th>\n",
       "      <th>n_Y_pct</th>\n",
       "      <th>Y_rate</th>\n",
       "      <th>WOE</th>\n",
       "      <th>IV</th>\n",
       "    </tr>\n",
       "    <tr>\n",
       "      <th>qt_binning</th>\n",
       "      <th></th>\n",
       "      <th></th>\n",
       "      <th></th>\n",
       "      <th></th>\n",
       "      <th></th>\n",
       "      <th></th>\n",
       "      <th></th>\n",
       "      <th></th>\n",
       "      <th></th>\n",
       "      <th></th>\n",
       "      <th></th>\n",
       "    </tr>\n",
       "  </thead>\n",
       "  <tbody>\n",
       "    <tr>\n",
       "      <th>(-inf, 0]</th>\n",
       "      <td>0</td>\n",
       "      <td>0</td>\n",
       "      <td>3413</td>\n",
       "      <td>0.52841</td>\n",
       "      <td>238</td>\n",
       "      <td>3175</td>\n",
       "      <td>0.512931</td>\n",
       "      <td>0.529608</td>\n",
       "      <td>0.069733</td>\n",
       "      <td>-0.031996</td>\n",
       "      <td>0.000534</td>\n",
       "    </tr>\n",
       "    <tr>\n",
       "      <th>(0, +inf)</th>\n",
       "      <td>1</td>\n",
       "      <td>1</td>\n",
       "      <td>3046</td>\n",
       "      <td>0.47159</td>\n",
       "      <td>226</td>\n",
       "      <td>2820</td>\n",
       "      <td>0.487069</td>\n",
       "      <td>0.470392</td>\n",
       "      <td>0.074196</td>\n",
       "      <td>0.034839</td>\n",
       "      <td>0.000581</td>\n",
       "    </tr>\n",
       "  </tbody>\n",
       "</table>\n",
       "</div>"
      ],
      "text/plain": [
       "            Lbound  Ubound  Totalcnt  PctTotal  Y_count  n_Y_count     Y_pct  \\\n",
       "qt_binning                                                                     \n",
       "(-inf, 0]        0       0      3413   0.52841      238       3175  0.512931   \n",
       "(0, +inf)        1       1      3046   0.47159      226       2820  0.487069   \n",
       "\n",
       "             n_Y_pct    Y_rate       WOE        IV  \n",
       "qt_binning                                          \n",
       "(-inf, 0]   0.529608  0.069733 -0.031996  0.000534  \n",
       "(0, +inf)   0.470392  0.074196  0.034839  0.000581  "
      ]
     },
     "execution_count": 45,
     "metadata": {},
     "output_type": "execute_result"
    }
   ],
   "source": [
    "var_name = 'bs_add5' #变量\n",
    "var_bin = variable_binning(data_form, target, var_name, [0], 'bins')\n",
    "binning_plot(var_bin)\n",
    "print(var_name,'变量的IV值为',var_bin['IV'].sum())\n",
    "var_bin_ls_bs_add5=var_bin['WOE']\n",
    "var_bin.sort_values('Lbound')"
   ]
  },
  {
   "cell_type": "code",
   "execution_count": 42,
   "metadata": {
    "collapsed": false
   },
   "outputs": [
    {
     "name": "stderr",
     "output_type": "stream",
     "text": [
      "C:\\Users\\xiongjun\\AppData\\Local\\Continuum\\Anaconda3\\lib\\site-packages\\pandas\\core\\generic.py:3295: SettingWithCopyWarning: \n",
      "A value is trying to be set on a copy of a slice from a DataFrame\n",
      "\n",
      "See the caveats in the documentation: http://pandas.pydata.org/pandas-docs/stable/indexing.html#indexing-view-versus-copy\n",
      "  self._update_inplace(new_data)\n",
      "C:\\Users\\xiongjun\\sc_func.py:124: SettingWithCopyWarning: \n",
      "A value is trying to be set on a copy of a slice from a DataFrame.\n",
      "Try using .loc[row_indexer,col_indexer] = value instead\n",
      "\n",
      "See the caveats in the documentation: http://pandas.pydata.org/pandas-docs/stable/indexing.html#indexing-view-versus-copy\n",
      "  df['qt_binning'] = var_bins_series(df[var], bins, side = side)\n"
     ]
    },
    {
     "data": {
      "image/png": "[encoded data removed]",
      "text/plain": [
       "<matplotlib.figure.Figure at 0x24d4c50>"
      ]
     },
     "metadata": {},
     "output_type": "display_data"
    },
    {
     "name": "stdout",
     "output_type": "stream",
     "text": [
      "bd_addr_abn_apply 变量的IV值为 0.0017729415247932586\n"
     ]
    },
    {
     "data": {
      "text/html": [
       "<div>\n",
       "<table border=\"1\" class=\"dataframe\">\n",
       "  <thead>\n",
       "    <tr style=\"text-align: right;\">\n",
       "      <th></th>\n",
       "      <th>Lbound</th>\n",
       "      <th>Ubound</th>\n",
       "      <th>Totalcnt</th>\n",
       "      <th>PctTotal</th>\n",
       "      <th>Y_count</th>\n",
       "      <th>n_Y_count</th>\n",
       "      <th>Y_pct</th>\n",
       "      <th>n_Y_pct</th>\n",
       "      <th>Y_rate</th>\n",
       "      <th>WOE</th>\n",
       "      <th>IV</th>\n",
       "    </tr>\n",
       "    <tr>\n",
       "      <th>qt_binning</th>\n",
       "      <th></th>\n",
       "      <th></th>\n",
       "      <th></th>\n",
       "      <th></th>\n",
       "      <th></th>\n",
       "      <th></th>\n",
       "      <th></th>\n",
       "      <th></th>\n",
       "      <th></th>\n",
       "      <th></th>\n",
       "      <th></th>\n",
       "    </tr>\n",
       "  </thead>\n",
       "  <tbody>\n",
       "    <tr>\n",
       "      <th>(-inf, 0]</th>\n",
       "      <td>0</td>\n",
       "      <td>0</td>\n",
       "      <td>24716</td>\n",
       "      <td>0.999717</td>\n",
       "      <td>2145</td>\n",
       "      <td>22571</td>\n",
       "      <td>1.000000</td>\n",
       "      <td>0.99969</td>\n",
       "      <td>0.086786</td>\n",
       "      <td>0.000310</td>\n",
       "      <td>9.613742e-08</td>\n",
       "    </tr>\n",
       "    <tr>\n",
       "      <th>(0, +inf)</th>\n",
       "      <td>1</td>\n",
       "      <td>1</td>\n",
       "      <td>7</td>\n",
       "      <td>0.000283</td>\n",
       "      <td>0</td>\n",
       "      <td>7</td>\n",
       "      <td>0.000001</td>\n",
       "      <td>0.00031</td>\n",
       "      <td>0.000000</td>\n",
       "      <td>-5.736689</td>\n",
       "      <td>1.772845e-03</td>\n",
       "    </tr>\n",
       "  </tbody>\n",
       "</table>\n",
       "</div>"
      ],
      "text/plain": [
       "            Lbound  Ubound  Totalcnt  PctTotal  Y_count  n_Y_count     Y_pct  \\\n",
       "qt_binning                                                                     \n",
       "(-inf, 0]        0       0     24716  0.999717     2145      22571  1.000000   \n",
       "(0, +inf)        1       1         7  0.000283        0          7  0.000001   \n",
       "\n",
       "            n_Y_pct    Y_rate       WOE            IV  \n",
       "qt_binning                                             \n",
       "(-inf, 0]   0.99969  0.086786  0.000310  9.613742e-08  \n",
       "(0, +inf)   0.00031  0.000000 -5.736689  1.772845e-03  "
      ]
     },
     "execution_count": 42,
     "metadata": {},
     "output_type": "execute_result"
    }
   ],
   "source": [
    "var_name = 'bd_addr_abn_apply' #变量\n",
    "var_bin = variable_binning(data_form, target, var_name, [0], 'bins')\n",
    "binning_plot(var_bin)\n",
    "print(var_name,'变量的IV值为',var_bin['IV'].sum())\n",
    "var_bin_ls_bd_addr_abn_apply=var_bin['WOE']\n",
    "var_bin.sort_values('Lbound')"
   ]
  },
  {
   "cell_type": "code",
   "execution_count": 43,
   "metadata": {
    "collapsed": false
   },
   "outputs": [
    {
     "name": "stderr",
     "output_type": "stream",
     "text": [
      "C:\\Users\\xiongjun\\AppData\\Local\\Continuum\\Anaconda3\\lib\\site-packages\\pandas\\core\\generic.py:3295: SettingWithCopyWarning: \n",
      "A value is trying to be set on a copy of a slice from a DataFrame\n",
      "\n",
      "See the caveats in the documentation: http://pandas.pydata.org/pandas-docs/stable/indexing.html#indexing-view-versus-copy\n",
      "  self._update_inplace(new_data)\n",
      "C:\\Users\\xiongjun\\sc_func.py:124: SettingWithCopyWarning: \n",
      "A value is trying to be set on a copy of a slice from a DataFrame.\n",
      "Try using .loc[row_indexer,col_indexer] = value instead\n",
      "\n",
      "See the caveats in the documentation: http://pandas.pydata.org/pandas-docs/stable/indexing.html#indexing-view-versus-copy\n",
      "  df['qt_binning'] = var_bins_series(df[var], bins, side = side)\n"
     ]
    },
    {
     "data": {
      "image/png": "[encoded data removed]",
      "text/plain": [
       "<matplotlib.figure.Figure at 0x24d4c50>"
      ]
     },
     "metadata": {},
     "output_type": "display_data"
    },
    {
     "name": "stdout",
     "output_type": "stream",
     "text": [
      "dist_gps5_abn_spend 变量的IV值为 0.0039809205264729475\n"
     ]
    },
    {
     "data": {
      "text/html": [
       "<div>\n",
       "<table border=\"1\" class=\"dataframe\">\n",
       "  <thead>\n",
       "    <tr style=\"text-align: right;\">\n",
       "      <th></th>\n",
       "      <th>Lbound</th>\n",
       "      <th>Ubound</th>\n",
       "      <th>Totalcnt</th>\n",
       "      <th>PctTotal</th>\n",
       "      <th>Y_count</th>\n",
       "      <th>n_Y_count</th>\n",
       "      <th>Y_pct</th>\n",
       "      <th>n_Y_pct</th>\n",
       "      <th>Y_rate</th>\n",
       "      <th>WOE</th>\n",
       "      <th>IV</th>\n",
       "    </tr>\n",
       "    <tr>\n",
       "      <th>qt_binning</th>\n",
       "      <th></th>\n",
       "      <th></th>\n",
       "      <th></th>\n",
       "      <th></th>\n",
       "      <th></th>\n",
       "      <th></th>\n",
       "      <th></th>\n",
       "      <th></th>\n",
       "      <th></th>\n",
       "      <th></th>\n",
       "      <th></th>\n",
       "    </tr>\n",
       "  </thead>\n",
       "  <tbody>\n",
       "    <tr>\n",
       "      <th>(-inf, 0]</th>\n",
       "      <td>0</td>\n",
       "      <td>0</td>\n",
       "      <td>24709</td>\n",
       "      <td>0.999434</td>\n",
       "      <td>2145</td>\n",
       "      <td>22564</td>\n",
       "      <td>1.000000</td>\n",
       "      <td>0.99938</td>\n",
       "      <td>0.08681</td>\n",
       "      <td>0.000620</td>\n",
       "      <td>3.846093e-07</td>\n",
       "    </tr>\n",
       "    <tr>\n",
       "      <th>(0, +inf)</th>\n",
       "      <td>1</td>\n",
       "      <td>1</td>\n",
       "      <td>14</td>\n",
       "      <td>0.000566</td>\n",
       "      <td>0</td>\n",
       "      <td>14</td>\n",
       "      <td>0.000001</td>\n",
       "      <td>0.00062</td>\n",
       "      <td>0.00000</td>\n",
       "      <td>-6.429837</td>\n",
       "      <td>3.980536e-03</td>\n",
       "    </tr>\n",
       "  </tbody>\n",
       "</table>\n",
       "</div>"
      ],
      "text/plain": [
       "            Lbound  Ubound  Totalcnt  PctTotal  Y_count  n_Y_count     Y_pct  \\\n",
       "qt_binning                                                                     \n",
       "(-inf, 0]        0       0     24709  0.999434     2145      22564  1.000000   \n",
       "(0, +inf)        1       1        14  0.000566        0         14  0.000001   \n",
       "\n",
       "            n_Y_pct   Y_rate       WOE            IV  \n",
       "qt_binning                                            \n",
       "(-inf, 0]   0.99938  0.08681  0.000620  3.846093e-07  \n",
       "(0, +inf)   0.00062  0.00000 -6.429837  3.980536e-03  "
      ]
     },
     "execution_count": 43,
     "metadata": {},
     "output_type": "execute_result"
    }
   ],
   "source": [
    "var_name = 'dist_gps5_abn_spend' #变量\n",
    "var_bin = variable_binning(data_form, target, var_name, [0], 'bins')\n",
    "binning_plot(var_bin)\n",
    "print(var_name,'变量的IV值为',var_bin['IV'].sum())\n",
    "var_bin_dist_gps5_abn_beh=var_bin['WOE']\n",
    "var_bin.sort_values('Lbound')"
   ]
  },
  {
   "cell_type": "markdown",
   "metadata": {
    "collapsed": true
   },
   "source": [
    "## 模型训练"
   ]
  },
  {
   "cell_type": "code",
   "execution_count": 11,
   "metadata": {
    "collapsed": true
   },
   "outputs": [],
   "source": [
    "import statsmodels.api as sm\n",
    "from sklearn.metrics import roc_auc_score"
   ]
  },
  {
   "cell_type": "code",
   "execution_count": 12,
   "metadata": {
    "collapsed": false
   },
   "outputs": [],
   "source": [
    "selected_var ={#'cs':[0,4,5,6,7],\n",
    "               #'od':[0],\n",
    "                'ls_od_b_1y':[0],\n",
    "                'ls_od_b_2y':[0],\n",
    "                #'ls_od_f_6t':[0],\n",
    "               #'xc_behavior':[0],\n",
    "               'xc_overloan':[0],\n",
    "               'xc_overdue':[0],\n",
    "               #'xc_record':[0],\n",
    "               'rv':[0],\n",
    "               'rc_idname_multi':[0],\n",
    "                #'rc_relation_age':[0],\n",
    "                #'rc_relation_multi':[0],\n",
    "                'rc_relation_cnt':[0],\n",
    "               'ls_cr':[0],\n",
    "               'ls_cr_cl':[0],\n",
    "               'ls_gp':[0],\n",
    "               #'ls_gp_cl':[0],\n",
    "               'ls_nd':[0],\n",
    "               #'ld_rc':[0],\n",
    "               'ld_xc':[0],\n",
    "               'bs_gps5':[0]\n",
    "              }"
   ]
  },
  {
   "cell_type": "code",
   "execution_count": 13,
   "metadata": {
    "collapsed": false
   },
   "outputs": [
    {
     "name": "stderr",
     "output_type": "stream",
     "text": [
      "C:\\Users\\xiongjun\\AppData\\Local\\Continuum\\Anaconda3\\lib\\site-packages\\pandas\\core\\generic.py:3295: SettingWithCopyWarning: \n",
      "A value is trying to be set on a copy of a slice from a DataFrame\n",
      "\n",
      "See the caveats in the documentation: http://pandas.pydata.org/pandas-docs/stable/indexing.html#indexing-view-versus-copy\n",
      "  self._update_inplace(new_data)\n",
      "C:\\Users\\xiongjun\\sc_func.py:124: SettingWithCopyWarning: \n",
      "A value is trying to be set on a copy of a slice from a DataFrame.\n",
      "Try using .loc[row_indexer,col_indexer] = value instead\n",
      "\n",
      "See the caveats in the documentation: http://pandas.pydata.org/pandas-docs/stable/indexing.html#indexing-view-versus-copy\n",
      "  df['qt_binning'] = var_bins_series(df[var], bins, side = side)\n"
     ]
    }
   ],
   "source": [
    "#WOE变换\n",
    "WOE_train = WOE_mapping(data_form,selected_var, target)\n",
    "train_X = WOE_train.drop(target, axis = 1)\n",
    "train_X['constant'] = 1\n",
    "train_Y = WOE_train[target]"
   ]
  },
  {
   "cell_type": "code",
   "execution_count": 14,
   "metadata": {
    "collapsed": false
   },
   "outputs": [
    {
     "name": "stdout",
     "output_type": "stream",
     "text": [
      "Optimization terminated successfully.\n",
      "         Current function value: 0.275449\n",
      "         Iterations 8\n"
     ]
    },
    {
     "data": {
      "text/html": [
       "<table class=\"simpletable\">\n",
       "<caption>Logit Regression Results</caption>\n",
       "<tr>\n",
       "  <th>Dep. Variable:</th>       <td>type</td>       <th>  No. Observations:  </th>   <td> 31316</td>  \n",
       "</tr>\n",
       "<tr>\n",
       "  <th>Model:</th>               <td>Logit</td>      <th>  Df Residuals:      </th>   <td> 31302</td>  \n",
       "</tr>\n",
       "<tr>\n",
       "  <th>Method:</th>               <td>MLE</td>       <th>  Df Model:          </th>   <td>    13</td>  \n",
       "</tr>\n",
       "<tr>\n",
       "  <th>Date:</th>          <td>Sat, 28 Apr 2018</td> <th>  Pseudo R-squ.:     </th>   <td>0.04411</td> \n",
       "</tr>\n",
       "<tr>\n",
       "  <th>Time:</th>              <td>18:12:46</td>     <th>  Log-Likelihood:    </th>  <td> -8626.0</td> \n",
       "</tr>\n",
       "<tr>\n",
       "  <th>converged:</th>           <td>True</td>       <th>  LL-Null:           </th>  <td> -9024.1</td> \n",
       "</tr>\n",
       "<tr>\n",
       "  <th> </th>                      <td> </td>        <th>  LLR p-value:       </th> <td>9.067e-162</td>\n",
       "</tr>\n",
       "</table>\n",
       "<table class=\"simpletable\">\n",
       "<tr>\n",
       "         <td></td>            <th>coef</th>     <th>std err</th>      <th>z</th>      <th>P>|z|</th> <th>[95.0% Conf. Int.]</th> \n",
       "</tr>\n",
       "<tr>\n",
       "  <th>ls_od_b_1y</th>      <td>    0.6388</td> <td>    0.938</td> <td>    0.681</td> <td> 0.496</td> <td>   -1.200     2.477</td>\n",
       "</tr>\n",
       "<tr>\n",
       "  <th>ls_od_b_2y</th>      <td>    0.6531</td> <td>    0.825</td> <td>    0.792</td> <td> 0.428</td> <td>   -0.963     2.269</td>\n",
       "</tr>\n",
       "<tr>\n",
       "  <th>xc_overloan</th>     <td>    0.9549</td> <td>    0.055</td> <td>   17.415</td> <td> 0.000</td> <td>    0.847     1.062</td>\n",
       "</tr>\n",
       "<tr>\n",
       "  <th>xc_overdue</th>      <td>    0.6672</td> <td>    0.271</td> <td>    2.461</td> <td> 0.014</td> <td>    0.136     1.199</td>\n",
       "</tr>\n",
       "<tr>\n",
       "  <th>rv</th>              <td>    0.7748</td> <td>    0.244</td> <td>    3.171</td> <td> 0.002</td> <td>    0.296     1.254</td>\n",
       "</tr>\n",
       "<tr>\n",
       "  <th>rc_idname_multi</th> <td>    0.6395</td> <td>    0.426</td> <td>    1.501</td> <td> 0.133</td> <td>   -0.196     1.475</td>\n",
       "</tr>\n",
       "<tr>\n",
       "  <th>rc_relation_cnt</th> <td>    0.5695</td> <td>    0.410</td> <td>    1.390</td> <td> 0.164</td> <td>   -0.233     1.372</td>\n",
       "</tr>\n",
       "<tr>\n",
       "  <th>ls_cr</th>           <td>    0.6379</td> <td>    0.119</td> <td>    5.347</td> <td> 0.000</td> <td>    0.404     0.872</td>\n",
       "</tr>\n",
       "<tr>\n",
       "  <th>ls_cr_cl</th>        <td>    0.7662</td> <td>    0.077</td> <td>    9.970</td> <td> 0.000</td> <td>    0.616     0.917</td>\n",
       "</tr>\n",
       "<tr>\n",
       "  <th>ls_gp</th>           <td>    0.1079</td> <td>    0.575</td> <td>    0.188</td> <td> 0.851</td> <td>   -1.018     1.234</td>\n",
       "</tr>\n",
       "<tr>\n",
       "  <th>ls_nd</th>           <td>    0.3990</td> <td>    0.089</td> <td>    4.485</td> <td> 0.000</td> <td>    0.225     0.573</td>\n",
       "</tr>\n",
       "<tr>\n",
       "  <th>ld_xc</th>           <td>    0.6842</td> <td>    0.183</td> <td>    3.738</td> <td> 0.000</td> <td>    0.325     1.043</td>\n",
       "</tr>\n",
       "<tr>\n",
       "  <th>bs_gps5</th>         <td>    1.2100</td> <td>    0.496</td> <td>    2.439</td> <td> 0.015</td> <td>    0.238     2.182</td>\n",
       "</tr>\n",
       "<tr>\n",
       "  <th>constant</th>        <td>   -2.3909</td> <td>    0.021</td> <td> -111.927</td> <td> 0.000</td> <td>   -2.433    -2.349</td>\n",
       "</tr>\n",
       "</table>"
      ],
      "text/plain": [
       "<class 'statsmodels.iolib.summary.Summary'>\n",
       "\"\"\"\n",
       "                           Logit Regression Results                           \n",
       "==============================================================================\n",
       "Dep. Variable:                   type   No. Observations:                31316\n",
       "Model:                          Logit   Df Residuals:                    31302\n",
       "Method:                           MLE   Df Model:                           13\n",
       "Date:                Sat, 28 Apr 2018   Pseudo R-squ.:                 0.04411\n",
       "Time:                        18:12:46   Log-Likelihood:                -8626.0\n",
       "converged:                       True   LL-Null:                       -9024.1\n",
       "                                        LLR p-value:                9.067e-162\n",
       "===================================================================================\n",
       "                      coef    std err          z      P>|z|      [95.0% Conf. Int.]\n",
       "-----------------------------------------------------------------------------------\n",
       "ls_od_b_1y          0.6388      0.938      0.681      0.496        -1.200     2.477\n",
       "ls_od_b_2y          0.6531      0.825      0.792      0.428        -0.963     2.269\n",
       "xc_overloan         0.9549      0.055     17.415      0.000         0.847     1.062\n",
       "xc_overdue          0.6672      0.271      2.461      0.014         0.136     1.199\n",
       "rv                  0.7748      0.244      3.171      0.002         0.296     1.254\n",
       "rc_idname_multi     0.6395      0.426      1.501      0.133        -0.196     1.475\n",
       "rc_relation_cnt     0.5695      0.410      1.390      0.164        -0.233     1.372\n",
       "ls_cr               0.6379      0.119      5.347      0.000         0.404     0.872\n",
       "ls_cr_cl            0.7662      0.077      9.970      0.000         0.616     0.917\n",
       "ls_gp               0.1079      0.575      0.188      0.851        -1.018     1.234\n",
       "ls_nd               0.3990      0.089      4.485      0.000         0.225     0.573\n",
       "ld_xc               0.6842      0.183      3.738      0.000         0.325     1.043\n",
       "bs_gps5             1.2100      0.496      2.439      0.015         0.238     2.182\n",
       "constant           -2.3909      0.021   -111.927      0.000        -2.433    -2.349\n",
       "===================================================================================\n",
       "\"\"\""
      ]
     },
     "execution_count": 14,
     "metadata": {},
     "output_type": "execute_result"
    }
   ],
   "source": [
    "logit = sm.Logit(train_Y, train_X).fit()\n",
    "logit_params=logit.params\n",
    "logit.summary()"
   ]
  },
  {
   "cell_type": "code",
   "execution_count": 15,
   "metadata": {
    "collapsed": false
   },
   "outputs": [
    {
     "data": {
      "text/plain": [
       "0.2904261367025136"
      ]
     },
     "execution_count": 15,
     "metadata": {},
     "output_type": "execute_result"
    }
   ],
   "source": [
    "#KS值\n",
    "predict_Y = logit.predict(train_X)\n",
    "KS_calculation(train_Y,predict_Y, 40)"
   ]
  },
  {
   "cell_type": "code",
   "execution_count": 16,
   "metadata": {
    "collapsed": false
   },
   "outputs": [
    {
     "data": {
      "text/plain": [
       "0.66206230281311318"
      ]
     },
     "execution_count": 16,
     "metadata": {},
     "output_type": "execute_result"
    }
   ],
   "source": [
    "#ROC值\n",
    "roc_auc_score(train_Y,predict_Y)"
   ]
  },
  {
   "cell_type": "markdown",
   "metadata": {
    "collapsed": true
   },
   "source": [
    "## 打分"
   ]
  },
  {
   "cell_type": "code",
   "execution_count": 17,
   "metadata": {
    "collapsed": false
   },
   "outputs": [
    {
     "name": "stderr",
     "output_type": "stream",
     "text": [
      "C:\\Users\\xiongjun\\AppData\\Local\\Continuum\\Anaconda3\\lib\\site-packages\\ipykernel\\__main__.py:3: SettingWithCopyWarning: \n",
      "A value is trying to be set on a copy of a slice from a DataFrame.\n",
      "Try using .loc[row_indexer,col_indexer] = value instead\n",
      "\n",
      "See the caveats in the documentation: http://pandas.pydata.org/pandas-docs/stable/indexing.html#indexing-view-versus-copy\n",
      "  app.launch_new_instance()\n",
      "C:\\Users\\xiongjun\\AppData\\Local\\Continuum\\Anaconda3\\lib\\site-packages\\ipykernel\\__main__.py:10: SettingWithCopyWarning: \n",
      "A value is trying to be set on a copy of a slice from a DataFrame.\n",
      "Try using .loc[row_indexer,col_indexer] = value instead\n",
      "\n",
      "See the caveats in the documentation: http://pandas.pydata.org/pandas-docs/stable/indexing.html#indexing-view-versus-copy\n",
      "C:\\Users\\xiongjun\\AppData\\Local\\Continuum\\Anaconda3\\lib\\site-packages\\ipykernel\\__main__.py:11: SettingWithCopyWarning: \n",
      "A value is trying to be set on a copy of a slice from a DataFrame.\n",
      "Try using .loc[row_indexer,col_indexer] = value instead\n",
      "\n",
      "See the caveats in the documentation: http://pandas.pydata.org/pandas-docs/stable/indexing.html#indexing-view-versus-copy\n"
     ]
    }
   ],
   "source": [
    "import math\n",
    "score_data=data_form[['type']]\n",
    "score_data['probability'] = predict_Y\n",
    "\n",
    "#风险odds=15:1时，基本分数为500分\n",
    "#风险翻倍时，即odds=15:2时，分数降低50分\n",
    "B = 50/math.log(2, math.e)\n",
    "A = 500 + B * math.log(1/15,math.e)\n",
    "\n",
    "score_data['odds'] = (score_data['probability']/(1-score_data['probability']) ).apply(lambda x: math.log(x, math.e))\n",
    "score_data['score'] = A - B * score_data['odds']"
   ]
  },
  {
   "cell_type": "code",
   "execution_count": 18,
   "metadata": {
    "collapsed": false
   },
   "outputs": [
    {
     "data": {
      "text/plain": [
       "488.6759452353589"
      ]
     },
     "execution_count": 18,
     "metadata": {},
     "output_type": "execute_result"
    }
   ],
   "source": [
    "score_data['score'].sum()/score_data.shape[0]"
   ]
  },
  {
   "cell_type": "code",
   "execution_count": 19,
   "metadata": {
    "collapsed": false
   },
   "outputs": [
    {
     "data": {
      "text/plain": [
       "30747"
      ]
     },
     "execution_count": 19,
     "metadata": {},
     "output_type": "execute_result"
    }
   ],
   "source": [
    "score_data[score_data['score']<=600].shape[0]"
   ]
  },
  {
   "cell_type": "code",
   "execution_count": 20,
   "metadata": {
    "collapsed": false
   },
   "outputs": [
    {
     "data": {
      "text/plain": [
       "0.89695363392515"
      ]
     },
     "execution_count": 20,
     "metadata": {},
     "output_type": "execute_result"
    }
   ],
   "source": [
    "score_data[score_data['score']<=560].shape[0]/score_data.shape[0]"
   ]
  },
  {
   "cell_type": "code",
   "execution_count": 21,
   "metadata": {
    "collapsed": false
   },
   "outputs": [
    {
     "data": {
      "text/plain": [
       "0.09056926198867885"
      ]
     },
     "execution_count": 21,
     "metadata": {},
     "output_type": "execute_result"
    }
   ],
   "source": [
    "score_data[(score_data.score<=560) & (score_data.type==1)].shape[0]/score_data[score_data['score']<=560].shape[0]"
   ]
  },
  {
   "cell_type": "code",
   "execution_count": 22,
   "metadata": {
    "collapsed": false
   },
   "outputs": [
    {
     "data": {
      "image/png": "[encoded data removed]",
      "text/plain": [
       "<matplotlib.figure.Figure at 0xd063ba8>"
      ]
     },
     "metadata": {},
     "output_type": "display_data"
    }
   ],
   "source": [
    "#分数区间\n",
    "score_data.score.hist()\n",
    "plt.show()"
   ]
  },
  {
   "cell_type": "code",
   "execution_count": 26,
   "metadata": {
    "collapsed": false
   },
   "outputs": [
    {
     "name": "stderr",
     "output_type": "stream",
     "text": [
      "C:\\Users\\xiongjun\\AppData\\Local\\Continuum\\Anaconda3\\lib\\site-packages\\pandas\\core\\generic.py:3295: SettingWithCopyWarning: \n",
      "A value is trying to be set on a copy of a slice from a DataFrame\n",
      "\n",
      "See the caveats in the documentation: http://pandas.pydata.org/pandas-docs/stable/indexing.html#indexing-view-versus-copy\n",
      "  self._update_inplace(new_data)\n",
      "C:\\Users\\xiongjun\\sc_func.py:120: SettingWithCopyWarning: \n",
      "A value is trying to be set on a copy of a slice from a DataFrame.\n",
      "Try using .loc[row_indexer,col_indexer] = value instead\n",
      "\n",
      "See the caveats in the documentation: http://pandas.pydata.org/pandas-docs/stable/indexing.html#indexing-view-versus-copy\n",
      "  df['qt_binning'] = df[var].apply(lambda x: map_dict[x])\n"
     ]
    }
   ],
   "source": [
    "#分数分段\n",
    "var_name = 'score' #变量\n",
    "#bins=[460,490,530,540,550]\n",
    "bins=10\n",
    "var_bin = variable_binning(score_data, target, var_name, bins, 'bins')\n",
    "#var_bin.sort_values('Lbound')"
   ]
  },
  {
   "cell_type": "code",
   "execution_count": 27,
   "metadata": {
    "collapsed": true
   },
   "outputs": [],
   "source": [
    "def binning_plot(df):\n",
    "    '''\n",
    "    plot Y_rate and bin_percent curves\n",
    "    '''\n",
    "    plt.figure(figsize=(16, 6))\n",
    "    plt.subplot(121)\n",
    "    df['Y_rate'].plot()\n",
    "    plt.title('bins_bad_rate')\n",
    "\n",
    "    plt.subplot(122)\n",
    "    df['PctTotal'].plot.bar(secondary_y=True,alpha = 0.8, grid = False)\n",
    "    plt.title('bins_cnt')\n",
    "    \n",
    "    plt.tight_layout()\n",
    "    plt.show()"
   ]
  },
  {
   "cell_type": "code",
   "execution_count": 28,
   "metadata": {
    "collapsed": false
   },
   "outputs": [
    {
     "data": {
      "image/png": "[encoded data removed]",
      "text/plain": [
       "<matplotlib.figure.Figure at 0xd0717b8>"
      ]
     },
     "metadata": {},
     "output_type": "display_data"
    }
   ],
   "source": [
    "binning_plot(var_bin)"
   ]
  },
  {
   "cell_type": "code",
   "execution_count": 30,
   "metadata": {
    "collapsed": false
   },
   "outputs": [
    {
     "data": {
      "text/html": [
       "<div>\n",
       "<table border=\"1\" class=\"dataframe\">\n",
       "  <thead>\n",
       "    <tr style=\"text-align: right;\">\n",
       "      <th></th>\n",
       "      <th>Lbound</th>\n",
       "      <th>Ubound</th>\n",
       "      <th>Totalcnt</th>\n",
       "      <th>PctTotal</th>\n",
       "      <th>Y_count</th>\n",
       "      <th>n_Y_count</th>\n",
       "      <th>Y_pct</th>\n",
       "      <th>n_Y_pct</th>\n",
       "      <th>Y_rate</th>\n",
       "      <th>WOE</th>\n",
       "      <th>IV</th>\n",
       "    </tr>\n",
       "    <tr>\n",
       "      <th>qt_binning</th>\n",
       "      <th></th>\n",
       "      <th></th>\n",
       "      <th></th>\n",
       "      <th></th>\n",
       "      <th></th>\n",
       "      <th></th>\n",
       "      <th></th>\n",
       "      <th></th>\n",
       "      <th></th>\n",
       "      <th></th>\n",
       "      <th></th>\n",
       "    </tr>\n",
       "  </thead>\n",
       "  <tbody>\n",
       "    <tr>\n",
       "      <th>1</th>\n",
       "      <td>348.084285</td>\n",
       "      <td>433.864446</td>\n",
       "      <td>2135</td>\n",
       "      <td>0.068176</td>\n",
       "      <td>325</td>\n",
       "      <td>1810</td>\n",
       "      <td>0.123715</td>\n",
       "      <td>0.063090</td>\n",
       "      <td>0.152225</td>\n",
       "      <td>0.673414</td>\n",
       "      <td>0.040826</td>\n",
       "    </tr>\n",
       "    <tr>\n",
       "      <th>3</th>\n",
       "      <td>434.626807</td>\n",
       "      <td>445.156177</td>\n",
       "      <td>5725</td>\n",
       "      <td>0.182814</td>\n",
       "      <td>838</td>\n",
       "      <td>4887</td>\n",
       "      <td>0.318995</td>\n",
       "      <td>0.170344</td>\n",
       "      <td>0.146376</td>\n",
       "      <td>0.627355</td>\n",
       "      <td>0.093257</td>\n",
       "    </tr>\n",
       "    <tr>\n",
       "      <th>4</th>\n",
       "      <td>447.087367</td>\n",
       "      <td>487.039226</td>\n",
       "      <td>4596</td>\n",
       "      <td>0.146762</td>\n",
       "      <td>507</td>\n",
       "      <td>4089</td>\n",
       "      <td>0.192996</td>\n",
       "      <td>0.142528</td>\n",
       "      <td>0.110313</td>\n",
       "      <td>0.303127</td>\n",
       "      <td>0.015298</td>\n",
       "    </tr>\n",
       "    <tr>\n",
       "      <th>5</th>\n",
       "      <td>487.111193</td>\n",
       "      <td>487.360562</td>\n",
       "      <td>138</td>\n",
       "      <td>0.004407</td>\n",
       "      <td>11</td>\n",
       "      <td>127</td>\n",
       "      <td>0.004187</td>\n",
       "      <td>0.004427</td>\n",
       "      <td>0.079710</td>\n",
       "      <td>-0.055621</td>\n",
       "      <td>0.000013</td>\n",
       "    </tr>\n",
       "    <tr>\n",
       "      <th>6</th>\n",
       "      <td>488.210296</td>\n",
       "      <td>500.578259</td>\n",
       "      <td>5684</td>\n",
       "      <td>0.181505</td>\n",
       "      <td>394</td>\n",
       "      <td>5290</td>\n",
       "      <td>0.149981</td>\n",
       "      <td>0.184391</td>\n",
       "      <td>0.069317</td>\n",
       "      <td>-0.206551</td>\n",
       "      <td>0.007107</td>\n",
       "    </tr>\n",
       "    <tr>\n",
       "      <th>8</th>\n",
       "      <td>500.670855</td>\n",
       "      <td>518.611460</td>\n",
       "      <td>6734</td>\n",
       "      <td>0.215034</td>\n",
       "      <td>346</td>\n",
       "      <td>6388</td>\n",
       "      <td>0.131709</td>\n",
       "      <td>0.222664</td>\n",
       "      <td>0.051381</td>\n",
       "      <td>-0.525066</td>\n",
       "      <td>0.047757</td>\n",
       "    </tr>\n",
       "    <tr>\n",
       "      <th>9</th>\n",
       "      <td>518.953426</td>\n",
       "      <td>560.815845</td>\n",
       "      <td>3079</td>\n",
       "      <td>0.098320</td>\n",
       "      <td>123</td>\n",
       "      <td>2956</td>\n",
       "      <td>0.046821</td>\n",
       "      <td>0.103036</td>\n",
       "      <td>0.039948</td>\n",
       "      <td>-0.788737</td>\n",
       "      <td>0.044338</td>\n",
       "    </tr>\n",
       "    <tr>\n",
       "      <th>10</th>\n",
       "      <td>560.908441</td>\n",
       "      <td>643.902069</td>\n",
       "      <td>3225</td>\n",
       "      <td>0.102983</td>\n",
       "      <td>83</td>\n",
       "      <td>3142</td>\n",
       "      <td>0.031595</td>\n",
       "      <td>0.109519</td>\n",
       "      <td>0.025736</td>\n",
       "      <td>-1.243103</td>\n",
       "      <td>0.096868</td>\n",
       "    </tr>\n",
       "  </tbody>\n",
       "</table>\n",
       "</div>"
      ],
      "text/plain": [
       "                Lbound      Ubound  Totalcnt  PctTotal  Y_count  n_Y_count  \\\n",
       "qt_binning                                                                   \n",
       "1           348.084285  433.864446      2135  0.068176      325       1810   \n",
       "3           434.626807  445.156177      5725  0.182814      838       4887   \n",
       "4           447.087367  487.039226      4596  0.146762      507       4089   \n",
       "5           487.111193  487.360562       138  0.004407       11        127   \n",
       "6           488.210296  500.578259      5684  0.181505      394       5290   \n",
       "8           500.670855  518.611460      6734  0.215034      346       6388   \n",
       "9           518.953426  560.815845      3079  0.098320      123       2956   \n",
       "10          560.908441  643.902069      3225  0.102983       83       3142   \n",
       "\n",
       "               Y_pct   n_Y_pct    Y_rate       WOE        IV  \n",
       "qt_binning                                                    \n",
       "1           0.123715  0.063090  0.152225  0.673414  0.040826  \n",
       "3           0.318995  0.170344  0.146376  0.627355  0.093257  \n",
       "4           0.192996  0.142528  0.110313  0.303127  0.015298  \n",
       "5           0.004187  0.004427  0.079710 -0.055621  0.000013  \n",
       "6           0.149981  0.184391  0.069317 -0.206551  0.007107  \n",
       "8           0.131709  0.222664  0.051381 -0.525066  0.047757  \n",
       "9           0.046821  0.103036  0.039948 -0.788737  0.044338  \n",
       "10          0.031595  0.109519  0.025736 -1.243103  0.096868  "
      ]
     },
     "execution_count": 30,
     "metadata": {},
     "output_type": "execute_result"
    }
   ],
   "source": [
    "var_bin"
   ]
  },
  {
   "cell_type": "markdown",
   "metadata": {},
   "source": [
    "## 变量分组打分"
   ]
  },
  {
   "cell_type": "code",
   "execution_count": 31,
   "metadata": {
    "collapsed": false
   },
   "outputs": [
    {
     "name": "stderr",
     "output_type": "stream",
     "text": [
      "C:\\Users\\xiongjun\\AppData\\Local\\Continuum\\Anaconda3\\lib\\site-packages\\pandas\\core\\generic.py:3295: SettingWithCopyWarning: \n",
      "A value is trying to be set on a copy of a slice from a DataFrame\n",
      "\n",
      "See the caveats in the documentation: http://pandas.pydata.org/pandas-docs/stable/indexing.html#indexing-view-versus-copy\n",
      "  self._update_inplace(new_data)\n",
      "C:\\Users\\xiongjun\\sc_func.py:124: SettingWithCopyWarning: \n",
      "A value is trying to be set on a copy of a slice from a DataFrame.\n",
      "Try using .loc[row_indexer,col_indexer] = value instead\n",
      "\n",
      "See the caveats in the documentation: http://pandas.pydata.org/pandas-docs/stable/indexing.html#indexing-view-versus-copy\n",
      "  df['qt_binning'] = var_bins_series(df[var], bins, side = side)\n"
     ]
    }
   ],
   "source": [
    "selected_var ={#'cs':[0,4,5,6,7],\n",
    "               #'od':[0],\n",
    "                'ls_od_b_1y':[0],\n",
    "                'ls_od_b_2y':[0],\n",
    "                #'ls_od_f_6t':[0],\n",
    "               #'xc_behavior':[0],\n",
    "               'xc_overloan':[0],\n",
    "               'xc_overdue':[0],\n",
    "               #'xc_record':[0],\n",
    "               'rv':[0],\n",
    "               'rc_idname_multi':[0],\n",
    "                #'rc_relation_age':[0],\n",
    "                #'rc_relation_multi':[0],\n",
    "                'rc_relation_cnt':[0],\n",
    "               'ls_cr':[0],\n",
    "               'ls_cr_cl':[0],\n",
    "               'ls_gp':[0],\n",
    "               #'ls_gp_cl':[0],\n",
    "               'ls_nd':[0],\n",
    "               #'ld_rc':[0],\n",
    "               'ld_xc':[0],\n",
    "               'bs_gps5':[0]\n",
    "              }\n",
    "#各变量分组的WOE集合放在一个字典中\n",
    "def var_woe_result(df, target, select_var):\n",
    "    output_df = select_var\n",
    "    var_list = list(select_var.keys())\n",
    "    for i in var_list:\n",
    "        output_df[i] = variable_binning(df, target, i,select_var.get(i), 'bins')['WOE'] #select_var.get(i)返回字典中键的关联值即分组的切割值bin\n",
    "    return output_df\n",
    "\n",
    "var_woe_result=var_woe_result(data_form,target,selected_var)"
   ]
  },
  {
   "cell_type": "code",
   "execution_count": 32,
   "metadata": {
    "collapsed": false
   },
   "outputs": [],
   "source": [
    "#乘以模型参数得出变量分\n",
    "variable_score=var_woe_result\n",
    "var_list = list(var_woe_result.keys())\n",
    "for i in var_list:\n",
    "    variable_score[i] = var_woe_result.get(i)*logit_params[i]*B*(-1)"
   ]
  },
  {
   "cell_type": "code",
   "execution_count": 33,
   "metadata": {
    "collapsed": false
   },
   "outputs": [
    {
     "data": {
      "text/plain": [
       "{'bs_gps5': qt_binning\n",
       " (-inf, 0]     0.899932\n",
       " (0, +inf)   -15.535534\n",
       " Name: WOE, dtype: float64, 'ld_xc': qt_binning\n",
       " (-inf, 0]   -4.739835\n",
       " (0, +inf)    7.720725\n",
       " Name: WOE, dtype: float64, 'ls_cr': qt_binning\n",
       " (-inf, 0]    -2.125150\n",
       " (0, +inf)    52.804539\n",
       " Name: WOE, dtype: float64, 'ls_cr_cl': qt_binning\n",
       " (-inf, 0]    -8.881216\n",
       " (0, +inf)    51.356370\n",
       " Name: WOE, dtype: float64, 'ls_gp': qt_binning\n",
       " (-inf, 0]   -0.043717\n",
       " (0, +inf)    2.047575\n",
       " Name: WOE, dtype: float64, 'ls_nd': qt_binning\n",
       " (-inf, 0]    -3.520877\n",
       " (0, +inf)    24.543062\n",
       " Name: WOE, dtype: float64, 'ls_od_b_1y': qt_binning\n",
       " (-inf, 0]     0.052328\n",
       " (0, +inf)   -31.605766\n",
       " Name: WOE, dtype: float64, 'ls_od_b_2y': qt_binning\n",
       " (-inf, 0]     0.051970\n",
       " (0, +inf)   -40.734217\n",
       " Name: WOE, dtype: float64, 'rc_idname_multi': qt_binning\n",
       " (-inf, 0]     0.338184\n",
       " (0, +inf)   -13.293445\n",
       " Name: WOE, dtype: float64, 'rc_relation_cnt': qt_binning\n",
       " (-inf, 0]    0.418813\n",
       " (0, +inf)   -9.704521\n",
       " Name: WOE, dtype: float64, 'rv': qt_binning\n",
       " (-inf, 0]     1.191928\n",
       " (0, +inf)   -16.841273\n",
       " Name: WOE, dtype: float64, 'xc_overdue': qt_binning\n",
       " (-inf, 0]     0.986166\n",
       " (0, +inf)   -12.573496\n",
       " Name: WOE, dtype: float64, 'xc_overloan': qt_binning\n",
       " (-inf, 0]    26.462596\n",
       " (0, +inf)   -27.120893\n",
       " Name: WOE, dtype: float64}"
      ]
     },
     "execution_count": 33,
     "metadata": {},
     "output_type": "execute_result"
    }
   ],
   "source": [
    "variable_score"
   ]
  },
  {
   "cell_type": "code",
   "execution_count": 34,
   "metadata": {
    "collapsed": false
   },
   "outputs": [
    {
     "data": {
      "text/plain": [
       "-172.46370117301998"
      ]
     },
     "execution_count": 34,
     "metadata": {},
     "output_type": "execute_result"
    }
   ],
   "source": [
    "logit_params['constant']*B"
   ]
  },
  {
   "cell_type": "markdown",
   "metadata": {},
   "source": [
    "## 模型基础分数"
   ]
  },
  {
   "cell_type": "code",
   "execution_count": 35,
   "metadata": {
    "collapsed": false
   },
   "outputs": [
    {
     "data": {
      "text/plain": [
       "477.11917139259401"
      ]
     },
     "execution_count": 35,
     "metadata": {},
     "output_type": "execute_result"
    }
   ],
   "source": [
    "base_score=A-logit_params['constant']*B\n",
    "base_score"
   ]
  },
  {
   "cell_type": "code",
   "execution_count": 36,
   "metadata": {
    "collapsed": false
   },
   "outputs": [
    {
     "data": {
      "text/plain": [
       "72.13475204444818"
      ]
     },
     "execution_count": 36,
     "metadata": {},
     "output_type": "execute_result"
    }
   ],
   "source": [
    "B"
   ]
  },
  {
   "cell_type": "code",
   "execution_count": 37,
   "metadata": {
    "collapsed": false
   },
   "outputs": [
    {
     "data": {
      "text/plain": [
       "304.65547021957406"
      ]
     },
     "execution_count": 37,
     "metadata": {},
     "output_type": "execute_result"
    }
   ],
   "source": [
    "A"
   ]
  },
  {
   "cell_type": "code",
   "execution_count": 35,
   "metadata": {
    "collapsed": false
   },
   "outputs": [
    {
     "name": "stderr",
     "output_type": "stream",
     "text": [
      "C:\\Users\\xiongjun\\AppData\\Local\\Continuum\\Anaconda3\\lib\\site-packages\\ipykernel\\__main__.py:17: SettingWithCopyWarning: \n",
      "A value is trying to be set on a copy of a slice from a DataFrame.\n",
      "Try using .loc[row_indexer,col_indexer] = value instead\n",
      "\n",
      "See the caveats in the documentation: http://pandas.pydata.org/pandas-docs/stable/indexing.html#indexing-view-versus-copy\n",
      "C:\\Users\\xiongjun\\AppData\\Local\\Continuum\\Anaconda3\\lib\\site-packages\\ipykernel\\__main__.py:24: SettingWithCopyWarning: \n",
      "A value is trying to be set on a copy of a slice from a DataFrame.\n",
      "Try using .loc[row_indexer,col_indexer] = value instead\n",
      "\n",
      "See the caveats in the documentation: http://pandas.pydata.org/pandas-docs/stable/indexing.html#indexing-view-versus-copy\n",
      "C:\\Users\\xiongjun\\AppData\\Local\\Continuum\\Anaconda3\\lib\\site-packages\\ipykernel\\__main__.py:25: SettingWithCopyWarning: \n",
      "A value is trying to be set on a copy of a slice from a DataFrame.\n",
      "Try using .loc[row_indexer,col_indexer] = value instead\n",
      "\n",
      "See the caveats in the documentation: http://pandas.pydata.org/pandas-docs/stable/indexing.html#indexing-view-versus-copy\n"
     ]
    }
   ],
   "source": [
    "#打分详情下载\n",
    "import math\n",
    "score_data1=data_form[['type',\n",
    "                'ls_od_b_1y',\n",
    "                'ls_od_b_2y',\n",
    "               'xc_overloan',\n",
    "               'xc_overdue',\n",
    "               'rv',\n",
    "               'rc_idname_multi',\n",
    "                'rc_relation_cnt',\n",
    "               'ls_cr',\n",
    "               'ls_cr_cl',\n",
    "               'ls_gp',\n",
    "               'ls_nd',\n",
    "               'ld_xc',\n",
    "               'bs_gps5']]\n",
    "score_data1['probability'] = predict_Y\n",
    "\n",
    "#风险odds=15:1时，基本分数为660分\n",
    "#风险翻倍时，即odds=15:2时，分数降低50分\n",
    "B = 50/math.log(2, math.e)\n",
    "A = 500 + B * math.log(1/15,math.e)\n",
    "\n",
    "score_data1['odds'] = (score_data['probability']/(1-score_data['probability']) ).apply(lambda x: math.log(x, math.e))\n",
    "score_data1['score'] = A - B * score_data['odds']"
   ]
  },
  {
   "cell_type": "markdown",
   "metadata": {},
   "source": [
    "## 低分段人群的规则命中情况"
   ]
  },
  {
   "cell_type": "code",
   "execution_count": 220,
   "metadata": {
    "collapsed": false
   },
   "outputs": [],
   "source": [
    "#低分段人群的规则命中分布\n",
    "columns1=list(score_data1.columns)\n",
    "rules1=pd.Series(index=columns1)\n",
    "for i in columns1:  \n",
    "         rules1[i]=score_data1[(score_data1.score<=470)& (score_data1[i]==1) ].shape[0]/score_data1[score_data1['score']<=470].shape[0]"
   ]
  },
  {
   "cell_type": "code",
   "execution_count": 221,
   "metadata": {
    "collapsed": false
   },
   "outputs": [
    {
     "data": {
      "text/plain": [
       "type               0.144888\n",
       "ls_od_b_1y         0.003428\n",
       "ls_od_b_2y         0.002722\n",
       "xc_overloan        0.987699\n",
       "xc_overdue         0.086913\n",
       "rv                 0.067251\n",
       "rc_idname_multi    0.030954\n",
       "rc_relation_cnt    0.055152\n",
       "ls_cr              0.000504\n",
       "ls_cr_cl           0.002017\n",
       "ls_gp              0.012402\n",
       "ls_nd              0.016435\n",
       "ld_xc              0.298951\n",
       "bs_gps5            0.058480\n",
       "probability        0.000000\n",
       "odds               0.000000\n",
       "score              0.000000\n",
       "dtype: float64"
      ]
     },
     "execution_count": 221,
     "metadata": {},
     "output_type": "execute_result"
    }
   ],
   "source": [
    "rules1"
   ]
  },
  {
   "cell_type": "code",
   "execution_count": 222,
   "metadata": {
    "collapsed": false
   },
   "outputs": [],
   "source": [
    "#低分段人群的规则命中时的bad_rate\n",
    "columns1=list(score_data1.columns)\n",
    "rules2=pd.Series(index=columns1)\n",
    "for i in columns1:\n",
    "    if(score_data1[(score_data1.score<=470)& (score_data1[i]==1) ].shape[0]==0):\n",
    "        rules2[i]=0\n",
    "    else:\n",
    "         rules2[i]=score_data1[(score_data1.score<=470)& (score_data1[i]==1)& (score_data1.type==1)].shape[0]/score_data1[(score_data1.score<=470)& (score_data1[i]==1) ].shape[0]"
   ]
  },
  {
   "cell_type": "code",
   "execution_count": 223,
   "metadata": {
    "collapsed": false
   },
   "outputs": [
    {
     "data": {
      "text/plain": [
       "type               1.000000\n",
       "ls_od_b_1y         0.176471\n",
       "ls_od_b_2y         0.185185\n",
       "xc_overloan        0.145161\n",
       "xc_overdue         0.155452\n",
       "rv                 0.134933\n",
       "rc_idname_multi    0.153094\n",
       "rc_relation_cnt    0.148080\n",
       "ls_cr              0.000000\n",
       "ls_cr_cl           0.200000\n",
       "ls_gp              0.130081\n",
       "ls_nd              0.092025\n",
       "ld_xc              0.141990\n",
       "bs_gps5            0.141379\n",
       "probability        0.000000\n",
       "odds               0.000000\n",
       "score              0.000000\n",
       "dtype: float64"
      ]
     },
     "execution_count": 223,
     "metadata": {},
     "output_type": "execute_result"
    }
   ],
   "source": [
    "rules2"
   ]
  },
  {
   "cell_type": "code",
   "execution_count": 289,
   "metadata": {
    "collapsed": true
   },
   "outputs": [],
   "source": [
    "#详情下载\n",
    "score_data1.to_csv('score_data1.csv')"
   ]
  },
  {
   "cell_type": "markdown",
   "metadata": {},
   "source": [
    "## 高分段人数"
   ]
  },
  {
   "cell_type": "code",
   "execution_count": 224,
   "metadata": {
    "collapsed": false
   },
   "outputs": [],
   "source": [
    "#低分段人群的规则命中分布\n",
    "columns3=list(score_data1.columns)\n",
    "rules3=pd.Series(index=columns1)\n",
    "for i in columns1:  \n",
    "         rules3[i]=score_data1[(score_data1.score>450)& (score_data1[i]==1) ].shape[0]/score_data1[score_data1['score']>450].shape[0]"
   ]
  },
  {
   "cell_type": "code",
   "execution_count": 225,
   "metadata": {
    "collapsed": false
   },
   "outputs": [
    {
     "data": {
      "text/plain": [
       "type               0.056199\n",
       "ls_od_b_1y         0.000831\n",
       "ls_od_b_2y         0.000185\n",
       "xc_overloan        0.154155\n",
       "xc_overdue         0.057491\n",
       "rv                 0.056799\n",
       "rc_idname_multi    0.019656\n",
       "rc_relation_cnt    0.031745\n",
       "ls_cr              0.088220\n",
       "ls_cr_cl           0.306603\n",
       "ls_gp              0.028699\n",
       "ls_nd              0.253634\n",
       "ld_xc              0.452729\n",
       "bs_gps5            0.048540\n",
       "probability        0.000000\n",
       "odds               0.000000\n",
       "score              0.000000\n",
       "dtype: float64"
      ]
     },
     "execution_count": 225,
     "metadata": {},
     "output_type": "execute_result"
    }
   ],
   "source": [
    "rules3"
   ]
  },
  {
   "cell_type": "markdown",
   "metadata": {
    "collapsed": true
   },
   "source": [
    "## 测试样本1"
   ]
  },
  {
   "cell_type": "code",
   "execution_count": 38,
   "metadata": {
    "collapsed": false
   },
   "outputs": [
    {
     "data": {
      "text/plain": [
       "(4295, 35)"
      ]
     },
     "execution_count": 38,
     "metadata": {},
     "output_type": "execute_result"
    }
   ],
   "source": [
    "#诺亚点点2018-02/10-02/23数据\n",
    "#data_test = pd.read_csv('D:\\\\python\\\\huabao\\\\tmp_score_nuoya_variable0425_1.csv')\n",
    "#诺亚点点2018-02/10-02/23数据2\n",
    "#data_test = pd.read_csv('D:\\\\python\\\\huabao\\\\tmp_score_nuoya_variable0426_2.csv')\n",
    "#data_test.shape\n",
    "\n",
    "#诺亚点点数据集时间段：2017-11/01-2017-12/01——首次\n",
    "data_test = pd.read_csv('D:\\\\python\\\\huabao\\\\tmp_score_nuoya_variablerank0426_3.csv')\n",
    "data_test.shape"
   ]
  },
  {
   "cell_type": "code",
   "execution_count": 39,
   "metadata": {
    "collapsed": false
   },
   "outputs": [
    {
     "data": {
      "text/plain": [
       "0.08218859138533179"
      ]
     },
     "execution_count": 39,
     "metadata": {},
     "output_type": "execute_result"
    }
   ],
   "source": [
    "#样本的bad_rate\n",
    "data_test[data_test['type']==1].shape[0]/data_test.shape[0]"
   ]
  },
  {
   "cell_type": "markdown",
   "metadata": {},
   "source": [
    "### 测试样本区隔力KS"
   ]
  },
  {
   "cell_type": "code",
   "execution_count": 40,
   "metadata": {
    "collapsed": false
   },
   "outputs": [
    {
     "name": "stderr",
     "output_type": "stream",
     "text": [
      "C:\\Users\\xiongjun\\AppData\\Local\\Continuum\\Anaconda3\\lib\\site-packages\\pandas\\core\\generic.py:3295: SettingWithCopyWarning: \n",
      "A value is trying to be set on a copy of a slice from a DataFrame\n",
      "\n",
      "See the caveats in the documentation: http://pandas.pydata.org/pandas-docs/stable/indexing.html#indexing-view-versus-copy\n",
      "  self._update_inplace(new_data)\n",
      "C:\\Users\\xiongjun\\sc_func.py:124: SettingWithCopyWarning: \n",
      "A value is trying to be set on a copy of a slice from a DataFrame.\n",
      "Try using .loc[row_indexer,col_indexer] = value instead\n",
      "\n",
      "See the caveats in the documentation: http://pandas.pydata.org/pandas-docs/stable/indexing.html#indexing-view-versus-copy\n",
      "  df['qt_binning'] = var_bins_series(df[var], bins, side = side)\n"
     ]
    },
    {
     "data": {
      "text/plain": [
       "0.19816574034549136"
      ]
     },
     "execution_count": 40,
     "metadata": {},
     "output_type": "execute_result"
    }
   ],
   "source": [
    "selected_var ={#'cs':[0,4,5,6,7],\n",
    "               #'od':[0],\n",
    "                'ls_od_b_1y':[0],\n",
    "                'ls_od_b_2y':[0],\n",
    "                #'ls_od_f_6t':[0],\n",
    "               #'xc_behavior':[0],\n",
    "               'xc_overloan':[0],\n",
    "               'xc_overdue':[0],\n",
    "               #'xc_record':[0],\n",
    "               'rv':[0],\n",
    "               'rc_idname_multi':[0],\n",
    "                #'rc_relation_age':[0],\n",
    "                #'rc_relation_multi':[0],\n",
    "                'rc_relation_cnt':[0],\n",
    "               'ls_cr':[0],\n",
    "               'ls_cr_cl':[0],\n",
    "               'ls_gp':[0],\n",
    "               #'ls_gp_cl':[0],\n",
    "               'ls_nd':[0],\n",
    "               #'ld_rc':[0],\n",
    "               'ld_xc':[0],\n",
    "               'bs_gps5':[0]\n",
    "              }\n",
    "#WOE变换\n",
    "WOE_test = WOE_mapping(data_test,selected_var, target)\n",
    "test_X = WOE_test.drop(target, axis = 1)\n",
    "test_X['constant'] = 1\n",
    "test_Y = WOE_test[target]\n",
    "\n",
    "#KS值\n",
    "predict_test_Y = logit.predict(test_X)\n",
    "KS_calculation(test_Y,predict_test_Y, 40)"
   ]
  },
  {
   "cell_type": "code",
   "execution_count": 41,
   "metadata": {
    "collapsed": false
   },
   "outputs": [
    {
     "data": {
      "text/plain": [
       "0.60957179384359328"
      ]
     },
     "execution_count": 41,
     "metadata": {},
     "output_type": "execute_result"
    }
   ],
   "source": [
    "roc_auc_score(test_Y,predict_test_Y)"
   ]
  },
  {
   "cell_type": "markdown",
   "metadata": {},
   "source": [
    "## 测试样本分数分布"
   ]
  },
  {
   "cell_type": "code",
   "execution_count": 42,
   "metadata": {
    "collapsed": false
   },
   "outputs": [
    {
     "name": "stderr",
     "output_type": "stream",
     "text": [
      "C:\\Users\\xiongjun\\AppData\\Local\\Continuum\\Anaconda3\\lib\\site-packages\\ipykernel\\__main__.py:3: SettingWithCopyWarning: \n",
      "A value is trying to be set on a copy of a slice from a DataFrame.\n",
      "Try using .loc[row_indexer,col_indexer] = value instead\n",
      "\n",
      "See the caveats in the documentation: http://pandas.pydata.org/pandas-docs/stable/indexing.html#indexing-view-versus-copy\n",
      "  app.launch_new_instance()\n",
      "C:\\Users\\xiongjun\\AppData\\Local\\Continuum\\Anaconda3\\lib\\site-packages\\ipykernel\\__main__.py:10: SettingWithCopyWarning: \n",
      "A value is trying to be set on a copy of a slice from a DataFrame.\n",
      "Try using .loc[row_indexer,col_indexer] = value instead\n",
      "\n",
      "See the caveats in the documentation: http://pandas.pydata.org/pandas-docs/stable/indexing.html#indexing-view-versus-copy\n",
      "C:\\Users\\xiongjun\\AppData\\Local\\Continuum\\Anaconda3\\lib\\site-packages\\ipykernel\\__main__.py:11: SettingWithCopyWarning: \n",
      "A value is trying to be set on a copy of a slice from a DataFrame.\n",
      "Try using .loc[row_indexer,col_indexer] = value instead\n",
      "\n",
      "See the caveats in the documentation: http://pandas.pydata.org/pandas-docs/stable/indexing.html#indexing-view-versus-copy\n"
     ]
    }
   ],
   "source": [
    "import math\n",
    "score_test=data_test[['type']]\n",
    "score_test['probability'] = predict_test_Y\n",
    "\n",
    "#风险odds=15:1时，基本分数为660分\n",
    "#风险翻倍时，即odds=15:2时，分数降低50分\n",
    "B = 50/math.log(2, math.e)\n",
    "A = 500 + B * math.log(1/15,math.e)\n",
    "\n",
    "score_test['odds'] = (score_test['probability']/(1-score_test['probability']) ).apply(lambda x: math.log(x, math.e))\n",
    "score_test['score'] = A - B * score_test['odds']"
   ]
  },
  {
   "cell_type": "code",
   "execution_count": 49,
   "metadata": {
    "collapsed": false
   },
   "outputs": [
    {
     "name": "stderr",
     "output_type": "stream",
     "text": [
      "C:\\Users\\xiongjun\\AppData\\Local\\Continuum\\Anaconda3\\lib\\site-packages\\pandas\\core\\generic.py:3295: SettingWithCopyWarning: \n",
      "A value is trying to be set on a copy of a slice from a DataFrame\n",
      "\n",
      "See the caveats in the documentation: http://pandas.pydata.org/pandas-docs/stable/indexing.html#indexing-view-versus-copy\n",
      "  self._update_inplace(new_data)\n",
      "C:\\Users\\xiongjun\\sc_func.py:120: SettingWithCopyWarning: \n",
      "A value is trying to be set on a copy of a slice from a DataFrame.\n",
      "Try using .loc[row_indexer,col_indexer] = value instead\n",
      "\n",
      "See the caveats in the documentation: http://pandas.pydata.org/pandas-docs/stable/indexing.html#indexing-view-versus-copy\n",
      "  df['qt_binning'] = df[var].apply(lambda x: map_dict[x])\n"
     ]
    }
   ],
   "source": [
    "#分数分段\n",
    "#bins=[460,490,530,540,550]\n",
    "bins=10\n",
    "var_bin_test = variable_binning(score_test, target, var_name, bins, 'bins')\n",
    "#var_bin.sort_values('Lbound')"
   ]
  },
  {
   "cell_type": "code",
   "execution_count": 50,
   "metadata": {
    "collapsed": false
   },
   "outputs": [
    {
     "data": {
      "image/png": "[encoded data removed]",
      "text/plain": [
       "<matplotlib.figure.Figure at 0x9ab75f8>"
      ]
     },
     "metadata": {},
     "output_type": "display_data"
    }
   ],
   "source": [
    "binning_plot(var_bin_test)"
   ]
  },
  {
   "cell_type": "code",
   "execution_count": 51,
   "metadata": {
    "collapsed": false
   },
   "outputs": [
    {
     "data": {
      "text/html": [
       "<div>\n",
       "<table border=\"1\" class=\"dataframe\">\n",
       "  <thead>\n",
       "    <tr style=\"text-align: right;\">\n",
       "      <th></th>\n",
       "      <th>Lbound</th>\n",
       "      <th>Ubound</th>\n",
       "      <th>Totalcnt</th>\n",
       "      <th>PctTotal</th>\n",
       "      <th>Y_count</th>\n",
       "      <th>n_Y_count</th>\n",
       "      <th>Y_pct</th>\n",
       "      <th>n_Y_pct</th>\n",
       "      <th>Y_rate</th>\n",
       "      <th>WOE</th>\n",
       "      <th>IV</th>\n",
       "    </tr>\n",
       "    <tr>\n",
       "      <th>qt_binning</th>\n",
       "      <th></th>\n",
       "      <th></th>\n",
       "      <th></th>\n",
       "      <th></th>\n",
       "      <th></th>\n",
       "      <th></th>\n",
       "      <th></th>\n",
       "      <th></th>\n",
       "      <th></th>\n",
       "      <th></th>\n",
       "      <th></th>\n",
       "    </tr>\n",
       "  </thead>\n",
       "  <tbody>\n",
       "    <tr>\n",
       "      <th>1</th>\n",
       "      <td>440.244630</td>\n",
       "      <td>447.718306</td>\n",
       "      <td>400</td>\n",
       "      <td>0.093132</td>\n",
       "      <td>57</td>\n",
       "      <td>343</td>\n",
       "      <td>0.161473</td>\n",
       "      <td>0.087012</td>\n",
       "      <td>0.142500</td>\n",
       "      <td>0.618296</td>\n",
       "      <td>0.046039</td>\n",
       "    </tr>\n",
       "    <tr>\n",
       "      <th>4</th>\n",
       "      <td>452.824468</td>\n",
       "      <td>487.822175</td>\n",
       "      <td>1199</td>\n",
       "      <td>0.279162</td>\n",
       "      <td>123</td>\n",
       "      <td>1076</td>\n",
       "      <td>0.348442</td>\n",
       "      <td>0.272958</td>\n",
       "      <td>0.102585</td>\n",
       "      <td>0.244154</td>\n",
       "      <td>0.018430</td>\n",
       "    </tr>\n",
       "    <tr>\n",
       "      <th>7</th>\n",
       "      <td>487.877425</td>\n",
       "      <td>495.295852</td>\n",
       "      <td>1324</td>\n",
       "      <td>0.308265</td>\n",
       "      <td>106</td>\n",
       "      <td>1218</td>\n",
       "      <td>0.300283</td>\n",
       "      <td>0.308980</td>\n",
       "      <td>0.080060</td>\n",
       "      <td>-0.028551</td>\n",
       "      <td>0.000248</td>\n",
       "    </tr>\n",
       "    <tr>\n",
       "      <th>9</th>\n",
       "      <td>495.351101</td>\n",
       "      <td>516.795484</td>\n",
       "      <td>812</td>\n",
       "      <td>0.189057</td>\n",
       "      <td>48</td>\n",
       "      <td>764</td>\n",
       "      <td>0.135977</td>\n",
       "      <td>0.193810</td>\n",
       "      <td>0.059113</td>\n",
       "      <td>-0.354391</td>\n",
       "      <td>0.020495</td>\n",
       "    </tr>\n",
       "    <tr>\n",
       "      <th>10</th>\n",
       "      <td>522.011744</td>\n",
       "      <td>1197.111720</td>\n",
       "      <td>560</td>\n",
       "      <td>0.130384</td>\n",
       "      <td>19</td>\n",
       "      <td>541</td>\n",
       "      <td>0.053824</td>\n",
       "      <td>0.137240</td>\n",
       "      <td>0.033929</td>\n",
       "      <td>-0.936005</td>\n",
       "      <td>0.078077</td>\n",
       "    </tr>\n",
       "  </tbody>\n",
       "</table>\n",
       "</div>"
      ],
      "text/plain": [
       "                Lbound       Ubound  Totalcnt  PctTotal  Y_count  n_Y_count  \\\n",
       "qt_binning                                                                    \n",
       "1           440.244630   447.718306       400  0.093132       57        343   \n",
       "4           452.824468   487.822175      1199  0.279162      123       1076   \n",
       "7           487.877425   495.295852      1324  0.308265      106       1218   \n",
       "9           495.351101   516.795484       812  0.189057       48        764   \n",
       "10          522.011744  1197.111720       560  0.130384       19        541   \n",
       "\n",
       "               Y_pct   n_Y_pct    Y_rate       WOE        IV  \n",
       "qt_binning                                                    \n",
       "1           0.161473  0.087012  0.142500  0.618296  0.046039  \n",
       "4           0.348442  0.272958  0.102585  0.244154  0.018430  \n",
       "7           0.300283  0.308980  0.080060 -0.028551  0.000248  \n",
       "9           0.135977  0.193810  0.059113 -0.354391  0.020495  \n",
       "10          0.053824  0.137240  0.033929 -0.936005  0.078077  "
      ]
     },
     "execution_count": 51,
     "metadata": {},
     "output_type": "execute_result"
    }
   ],
   "source": [
    "var_bin_test"
   ]
  },
  {
   "cell_type": "markdown",
   "metadata": {},
   "source": [
    "## 低分段人群命中规则分布"
   ]
  },
  {
   "cell_type": "code",
   "execution_count": 113,
   "metadata": {
    "collapsed": false
   },
   "outputs": [
    {
     "name": "stderr",
     "output_type": "stream",
     "text": [
      "C:\\Users\\xiongjun\\AppData\\Local\\Continuum\\Anaconda3\\lib\\site-packages\\ipykernel\\__main__.py:16: SettingWithCopyWarning: \n",
      "A value is trying to be set on a copy of a slice from a DataFrame.\n",
      "Try using .loc[row_indexer,col_indexer] = value instead\n",
      "\n",
      "See the caveats in the documentation: http://pandas.pydata.org/pandas-docs/stable/indexing.html#indexing-view-versus-copy\n",
      "C:\\Users\\xiongjun\\AppData\\Local\\Continuum\\Anaconda3\\lib\\site-packages\\ipykernel\\__main__.py:23: SettingWithCopyWarning: \n",
      "A value is trying to be set on a copy of a slice from a DataFrame.\n",
      "Try using .loc[row_indexer,col_indexer] = value instead\n",
      "\n",
      "See the caveats in the documentation: http://pandas.pydata.org/pandas-docs/stable/indexing.html#indexing-view-versus-copy\n",
      "C:\\Users\\xiongjun\\AppData\\Local\\Continuum\\Anaconda3\\lib\\site-packages\\ipykernel\\__main__.py:24: SettingWithCopyWarning: \n",
      "A value is trying to be set on a copy of a slice from a DataFrame.\n",
      "Try using .loc[row_indexer,col_indexer] = value instead\n",
      "\n",
      "See the caveats in the documentation: http://pandas.pydata.org/pandas-docs/stable/indexing.html#indexing-view-versus-copy\n"
     ]
    },
    {
     "data": {
      "text/plain": [
       "type               0.133863\n",
       "ls_od_b_1y         0.002619\n",
       "ls_od_b_2y         0.002058\n",
       "xc_overloan        0.987184\n",
       "xc_overdue         0.081852\n",
       "rv                 0.066885\n",
       "rc_idname_multi    0.030309\n",
       "rc_relation_cnt    0.051824\n",
       "ls_cr              0.000935\n",
       "ls_cr_cl           0.007016\n",
       "ls_gp              0.011506\n",
       "ls_nd              0.002806\n",
       "ld_xc              0.295510\n",
       "bs_gps5            0.059308\n",
       "probability        0.000000\n",
       "odds               0.000000\n",
       "score              0.000000\n",
       "dtype: float64"
      ]
     },
     "execution_count": 113,
     "metadata": {},
     "output_type": "execute_result"
    }
   ],
   "source": [
    "import math\n",
    "score_data_test=data_form[['type',\n",
    "                'ls_od_b_1y',\n",
    "                'ls_od_b_2y',\n",
    "               'xc_overloan',\n",
    "               'xc_overdue',\n",
    "               'rv',\n",
    "               'rc_idname_multi',\n",
    "                'rc_relation_cnt',\n",
    "               'ls_cr',\n",
    "               'ls_cr_cl',\n",
    "               'ls_gp',\n",
    "               'ls_nd',\n",
    "               'ld_xc',\n",
    "               'bs_gps5']]\n",
    "score_data_test['probability'] = predict_Y\n",
    "\n",
    "#风险odds=15:1时，基本分数为660分\n",
    "#风险翻倍时，即odds=15:2时，分数降低50分\n",
    "B = 50/math.log(2, math.e)\n",
    "A = 500 + B * math.log(1/15,math.e)\n",
    "\n",
    "score_data_test['odds'] = (score_data['probability']/(1-score_data['probability']) ).apply(lambda x: math.log(x, math.e))\n",
    "score_data_test['score'] = A - B * score_data['odds']\n",
    "\n",
    "#低分段人群的规则命中分布\n",
    "columns1=list(score_data_test.columns)\n",
    "rules1=pd.Series(index=columns1)\n",
    "for i in columns1:  \n",
    "         rules1[i]=score_data_test[(score_data_test.score<=470)& (score_data_test[i]==1) ].shape[0]/score_data_test[score_data_test['score']<=470].shape[0]\n",
    "\n",
    "rules1"
   ]
  },
  {
   "cell_type": "markdown",
   "metadata": {},
   "source": [
    "## 测试样本稳定性PSI"
   ]
  },
  {
   "cell_type": "code",
   "execution_count": 76,
   "metadata": {
    "collapsed": true
   },
   "outputs": [],
   "source": [
    "def model_psi(var_bin,var_bin_test):\n",
    "    PSI_in=pd.DataFrame()\n",
    "    PSI_in['Y_pct1']=var_bin.PctTotal\n",
    "    PSI_in['Y_pct2']=var_bin_test.PctTotal\n",
    "    psi_result=pd.DataFrame()\n",
    "    psi_result['rate1'] = (PSI_in['Y_pct1']/PSI_in['Y_pct2']).map(lambda x:log(x))\n",
    "    psi_result['rate2'] = (PSI_in['Y_pct1'] - PSI_in['Y_pct2']) * psi_result['rate1']\n",
    "    psi = psi_result['rate2'].sum()\n",
    "    return psi_result"
   ]
  },
  {
   "cell_type": "code",
   "execution_count": 96,
   "metadata": {
    "collapsed": false
   },
   "outputs": [
    {
     "data": {
      "text/plain": [
       "0.43274804209776935"
      ]
     },
     "execution_count": 96,
     "metadata": {},
     "output_type": "execute_result"
    }
   ],
   "source": [
    "psi_result=model_psi(var_bin,var_bin_test)\n",
    "psi = psi_result['rate2'].sum()\n",
    "psi"
   ]
  },
  {
   "cell_type": "code",
   "execution_count": 97,
   "metadata": {
    "collapsed": false
   },
   "outputs": [
    {
     "data": {
      "text/plain": [
       "qt_binning\n",
       "(-inf, 460]    0.314662\n",
       "(460, 490]     0.072461\n",
       "(490, 530]     0.394035\n",
       "(530, 540]     0.062718\n",
       "(540, 550]     0.055180\n",
       "(550, +inf)    0.100944\n",
       "Name: PctTotal, dtype: float64"
      ]
     },
     "execution_count": 97,
     "metadata": {},
     "output_type": "execute_result"
    }
   ],
   "source": [
    "var_bin.PctTotal"
   ]
  },
  {
   "cell_type": "code",
   "execution_count": 98,
   "metadata": {
    "collapsed": false
   },
   "outputs": [
    {
     "data": {
      "text/plain": [
       "qt_binning\n",
       "(-inf, 460]    0.236815\n",
       "(460, 490]     0.287525\n",
       "(490, 530]     0.240365\n",
       "(540, 550]     0.064402\n",
       "(550, +inf)    0.170892\n",
       "Name: PctTotal, dtype: float64"
      ]
     },
     "execution_count": 98,
     "metadata": {},
     "output_type": "execute_result"
    }
   ],
   "source": [
    "var_bin_test.PctTotal"
   ]
  },
  {
   "cell_type": "code",
   "execution_count": 99,
   "metadata": {
    "collapsed": false
   },
   "outputs": [
    {
     "data": {
      "text/plain": [
       "qt_binning\n",
       "(-inf, 460]    0.022125\n",
       "(460, 490]     0.296416\n",
       "(490, 530]     0.075956\n",
       "(530, 540]          NaN\n",
       "(540, 550]     0.001425\n",
       "(550, +inf)    0.036825\n",
       "Name: rate2, dtype: float64"
      ]
     },
     "execution_count": 99,
     "metadata": {},
     "output_type": "execute_result"
    }
   ],
   "source": [
    "psi_result['rate2']"
   ]
  },
  {
   "cell_type": "markdown",
   "metadata": {},
   "source": [
    "## 诺亚点点数据测试2"
   ]
  },
  {
   "cell_type": "code",
   "execution_count": 118,
   "metadata": {
    "collapsed": false
   },
   "outputs": [
    {
     "data": {
      "text/plain": [
       "(4565, 15)"
      ]
     },
     "execution_count": 118,
     "metadata": {},
     "output_type": "execute_result"
    }
   ],
   "source": [
    "data_tg = pd.read_csv('D:\\\\python\\\\huabao\\\\tmp_score_nuoya_daihou_test_0326.csv')\n",
    "#data_tg['type']=1 #加个常数项做type列，方便后面调用函数运算\n",
    "data_tg.shape"
   ]
  },
  {
   "cell_type": "code",
   "execution_count": 119,
   "metadata": {
    "collapsed": false
   },
   "outputs": [
    {
     "data": {
      "text/plain": [
       "0.07097480832420591"
      ]
     },
     "execution_count": 119,
     "metadata": {},
     "output_type": "execute_result"
    }
   ],
   "source": [
    "#样本的bad_rate\n",
    "data_tg[data_tg['type']==1].shape[0]/data_tg.shape[0]"
   ]
  },
  {
   "cell_type": "code",
   "execution_count": 120,
   "metadata": {
    "collapsed": false
   },
   "outputs": [
    {
     "data": {
      "text/plain": [
       "324"
      ]
     },
     "execution_count": 120,
     "metadata": {},
     "output_type": "execute_result"
    }
   ],
   "source": [
    "data_tg[data_tg['type']==1].shape[0]"
   ]
  },
  {
   "cell_type": "code",
   "execution_count": 121,
   "metadata": {
    "collapsed": false
   },
   "outputs": [
    {
     "name": "stderr",
     "output_type": "stream",
     "text": [
      "C:\\Users\\xiongjun\\AppData\\Local\\Continuum\\Anaconda3\\lib\\site-packages\\pandas\\core\\generic.py:3295: SettingWithCopyWarning: \n",
      "A value is trying to be set on a copy of a slice from a DataFrame\n",
      "\n",
      "See the caveats in the documentation: http://pandas.pydata.org/pandas-docs/stable/indexing.html#indexing-view-versus-copy\n",
      "  self._update_inplace(new_data)\n",
      "C:\\Users\\xiongjun\\sc_func.py:124: SettingWithCopyWarning: \n",
      "A value is trying to be set on a copy of a slice from a DataFrame.\n",
      "Try using .loc[row_indexer,col_indexer] = value instead\n",
      "\n",
      "See the caveats in the documentation: http://pandas.pydata.org/pandas-docs/stable/indexing.html#indexing-view-versus-copy\n",
      "  df['qt_binning'] = var_bins_series(df[var], bins, side = side)\n"
     ]
    }
   ],
   "source": [
    "bins_tg =[450,500,520,550]\n",
    "var_bin_tg = variable_binning(data_tg, target, var_name, bins_tg, 'bins')"
   ]
  },
  {
   "cell_type": "code",
   "execution_count": 122,
   "metadata": {
    "collapsed": false,
    "scrolled": true
   },
   "outputs": [
    {
     "data": {
      "image/png": "[encoded data removed]",
      "text/plain": [
       "<matplotlib.figure.Figure at 0xdf48780>"
      ]
     },
     "metadata": {},
     "output_type": "display_data"
    }
   ],
   "source": [
    "binning_plot(var_bin_tg)"
   ]
  },
  {
   "cell_type": "code",
   "execution_count": 105,
   "metadata": {
    "collapsed": false
   },
   "outputs": [
    {
     "data": {
      "text/html": [
       "<div>\n",
       "<table border=\"1\" class=\"dataframe\">\n",
       "  <thead>\n",
       "    <tr style=\"text-align: right;\">\n",
       "      <th></th>\n",
       "      <th>Lbound</th>\n",
       "      <th>Ubound</th>\n",
       "      <th>Totalcnt</th>\n",
       "      <th>PctTotal</th>\n",
       "      <th>Y_count</th>\n",
       "      <th>n_Y_count</th>\n",
       "      <th>Y_pct</th>\n",
       "      <th>n_Y_pct</th>\n",
       "      <th>Y_rate</th>\n",
       "      <th>WOE</th>\n",
       "      <th>IV</th>\n",
       "    </tr>\n",
       "    <tr>\n",
       "      <th>qt_binning</th>\n",
       "      <th></th>\n",
       "      <th></th>\n",
       "      <th></th>\n",
       "      <th></th>\n",
       "      <th></th>\n",
       "      <th></th>\n",
       "      <th></th>\n",
       "      <th></th>\n",
       "      <th></th>\n",
       "      <th></th>\n",
       "      <th></th>\n",
       "    </tr>\n",
       "  </thead>\n",
       "  <tbody>\n",
       "    <tr>\n",
       "      <th>(-inf, 460]</th>\n",
       "      <td>409</td>\n",
       "      <td>460</td>\n",
       "      <td>1722</td>\n",
       "      <td>0.377218</td>\n",
       "      <td>170</td>\n",
       "      <td>1552</td>\n",
       "      <td>0.524691</td>\n",
       "      <td>0.365951</td>\n",
       "      <td>0.098722</td>\n",
       "      <td>0.360310</td>\n",
       "      <td>0.057196</td>\n",
       "    </tr>\n",
       "    <tr>\n",
       "      <th>(460, 490]</th>\n",
       "      <td>462</td>\n",
       "      <td>490</td>\n",
       "      <td>1038</td>\n",
       "      <td>0.227382</td>\n",
       "      <td>56</td>\n",
       "      <td>982</td>\n",
       "      <td>0.172840</td>\n",
       "      <td>0.231549</td>\n",
       "      <td>0.053950</td>\n",
       "      <td>-0.292429</td>\n",
       "      <td>0.017168</td>\n",
       "    </tr>\n",
       "    <tr>\n",
       "      <th>(490, 530]</th>\n",
       "      <td>495</td>\n",
       "      <td>527</td>\n",
       "      <td>1803</td>\n",
       "      <td>0.394962</td>\n",
       "      <td>98</td>\n",
       "      <td>1705</td>\n",
       "      <td>0.302469</td>\n",
       "      <td>0.402028</td>\n",
       "      <td>0.054354</td>\n",
       "      <td>-0.284542</td>\n",
       "      <td>0.028329</td>\n",
       "    </tr>\n",
       "    <tr>\n",
       "      <th>(530, 540]</th>\n",
       "      <td>540</td>\n",
       "      <td>540</td>\n",
       "      <td>1</td>\n",
       "      <td>0.000219</td>\n",
       "      <td>0</td>\n",
       "      <td>1</td>\n",
       "      <td>0.000001</td>\n",
       "      <td>0.000236</td>\n",
       "      <td>0.000000</td>\n",
       "      <td>-5.462956</td>\n",
       "      <td>0.001283</td>\n",
       "    </tr>\n",
       "    <tr>\n",
       "      <th>(540, 550]</th>\n",
       "      <td>543</td>\n",
       "      <td>543</td>\n",
       "      <td>1</td>\n",
       "      <td>0.000219</td>\n",
       "      <td>0</td>\n",
       "      <td>1</td>\n",
       "      <td>0.000001</td>\n",
       "      <td>0.000236</td>\n",
       "      <td>0.000000</td>\n",
       "      <td>-5.462956</td>\n",
       "      <td>0.001283</td>\n",
       "    </tr>\n",
       "  </tbody>\n",
       "</table>\n",
       "</div>"
      ],
      "text/plain": [
       "             Lbound  Ubound  Totalcnt  PctTotal  Y_count  n_Y_count     Y_pct  \\\n",
       "qt_binning                                                                      \n",
       "(-inf, 460]     409     460      1722  0.377218      170       1552  0.524691   \n",
       "(460, 490]      462     490      1038  0.227382       56        982  0.172840   \n",
       "(490, 530]      495     527      1803  0.394962       98       1705  0.302469   \n",
       "(530, 540]      540     540         1  0.000219        0          1  0.000001   \n",
       "(540, 550]      543     543         1  0.000219        0          1  0.000001   \n",
       "\n",
       "              n_Y_pct    Y_rate       WOE        IV  \n",
       "qt_binning                                           \n",
       "(-inf, 460]  0.365951  0.098722  0.360310  0.057196  \n",
       "(460, 490]   0.231549  0.053950 -0.292429  0.017168  \n",
       "(490, 530]   0.402028  0.054354 -0.284542  0.028329  \n",
       "(530, 540]   0.000236  0.000000 -5.462956  0.001283  \n",
       "(540, 550]   0.000236  0.000000 -5.462956  0.001283  "
      ]
     },
     "execution_count": 105,
     "metadata": {},
     "output_type": "execute_result"
    }
   ],
   "source": [
    "var_bin_tg"
   ]
  },
  {
   "cell_type": "code",
   "execution_count": 106,
   "metadata": {
    "collapsed": false
   },
   "outputs": [
    {
     "data": {
      "text/plain": [
       "0.8459501315704256"
      ]
     },
     "execution_count": 106,
     "metadata": {},
     "output_type": "execute_result"
    }
   ],
   "source": [
    "psi_result=model_psi(var_bin,var_bin_tg)\n",
    "psi = psi_result['rate2'].sum()\n",
    "psi"
   ]
  },
  {
   "cell_type": "code",
   "execution_count": 107,
   "metadata": {
    "collapsed": false
   },
   "outputs": [
    {
     "data": {
      "text/plain": [
       "0.008556396304536484"
      ]
     },
     "execution_count": 107,
     "metadata": {},
     "output_type": "execute_result"
    }
   ],
   "source": [
    "4565/533519"
   ]
  },
  {
   "cell_type": "code",
   "execution_count": 111,
   "metadata": {
    "collapsed": false
   },
   "outputs": [
    {
     "name": "stderr",
     "output_type": "stream",
     "text": [
      "C:\\Users\\xiongjun\\AppData\\Local\\Continuum\\Anaconda3\\lib\\site-packages\\pandas\\core\\generic.py:3295: SettingWithCopyWarning: \n",
      "A value is trying to be set on a copy of a slice from a DataFrame\n",
      "\n",
      "See the caveats in the documentation: http://pandas.pydata.org/pandas-docs/stable/indexing.html#indexing-view-versus-copy\n",
      "  self._update_inplace(new_data)\n",
      "C:\\Users\\xiongjun\\sc_func.py:124: SettingWithCopyWarning: \n",
      "A value is trying to be set on a copy of a slice from a DataFrame.\n",
      "Try using .loc[row_indexer,col_indexer] = value instead\n",
      "\n",
      "See the caveats in the documentation: http://pandas.pydata.org/pandas-docs/stable/indexing.html#indexing-view-versus-copy\n",
      "  df['qt_binning'] = var_bins_series(df[var], bins, side = side)\n"
     ]
    },
    {
     "ename": "ValueError",
     "evalue": "shapes (4565,13) and (14,) not aligned: 13 (dim 1) != 14 (dim 0)",
     "output_type": "error",
     "traceback": [
      "\u001b[0;31m---------------------------------------------------------------------------\u001b[0m",
      "\u001b[0;31mValueError\u001b[0m                                Traceback (most recent call last)",
      "\u001b[0;32m<ipython-input-111-65dc06bdba71>\u001b[0m in \u001b[0;36m<module>\u001b[0;34m()\u001b[0m\n\u001b[1;32m     30\u001b[0m \u001b[1;33m\u001b[0m\u001b[0m\n\u001b[1;32m     31\u001b[0m \u001b[1;31m#KS值\u001b[0m\u001b[1;33m\u001b[0m\u001b[1;33m\u001b[0m\u001b[0m\n\u001b[0;32m---> 32\u001b[0;31m \u001b[0mpredict_tg_Y\u001b[0m \u001b[1;33m=\u001b[0m \u001b[0mlogit\u001b[0m\u001b[1;33m.\u001b[0m\u001b[0mpredict\u001b[0m\u001b[1;33m(\u001b[0m\u001b[0mtg_X\u001b[0m\u001b[1;33m)\u001b[0m\u001b[1;33m\u001b[0m\u001b[0m\n\u001b[0m\u001b[1;32m     33\u001b[0m \u001b[0mKS_calculation\u001b[0m\u001b[1;33m(\u001b[0m\u001b[0mtg_Y\u001b[0m\u001b[1;33m,\u001b[0m\u001b[0mpredict_tg_Y\u001b[0m\u001b[1;33m,\u001b[0m \u001b[1;36m40\u001b[0m\u001b[1;33m)\u001b[0m\u001b[1;33m\u001b[0m\u001b[0m\n",
      "\u001b[0;32mC:\\Users\\xiongjun\\AppData\\Local\\Continuum\\Anaconda3\\lib\\site-packages\\statsmodels\\base\\model.py\u001b[0m in \u001b[0;36mpredict\u001b[0;34m(self, exog, transform, *args, **kwargs)\u001b[0m\n\u001b[1;32m    747\u001b[0m             \u001b[0mexog\u001b[0m \u001b[1;33m=\u001b[0m \u001b[0mnp\u001b[0m\u001b[1;33m.\u001b[0m\u001b[0matleast_2d\u001b[0m\u001b[1;33m(\u001b[0m\u001b[0mexog\u001b[0m\u001b[1;33m)\u001b[0m  \u001b[1;31m# needed in count model shape[1]\u001b[0m\u001b[1;33m\u001b[0m\u001b[0m\n\u001b[1;32m    748\u001b[0m \u001b[1;33m\u001b[0m\u001b[0m\n\u001b[0;32m--> 749\u001b[0;31m         \u001b[1;32mreturn\u001b[0m \u001b[0mself\u001b[0m\u001b[1;33m.\u001b[0m\u001b[0mmodel\u001b[0m\u001b[1;33m.\u001b[0m\u001b[0mpredict\u001b[0m\u001b[1;33m(\u001b[0m\u001b[0mself\u001b[0m\u001b[1;33m.\u001b[0m\u001b[0mparams\u001b[0m\u001b[1;33m,\u001b[0m \u001b[0mexog\u001b[0m\u001b[1;33m,\u001b[0m \u001b[1;33m*\u001b[0m\u001b[0margs\u001b[0m\u001b[1;33m,\u001b[0m \u001b[1;33m**\u001b[0m\u001b[0mkwargs\u001b[0m\u001b[1;33m)\u001b[0m\u001b[1;33m\u001b[0m\u001b[0m\n\u001b[0m\u001b[1;32m    750\u001b[0m \u001b[1;33m\u001b[0m\u001b[0m\n\u001b[1;32m    751\u001b[0m \u001b[1;33m\u001b[0m\u001b[0m\n",
      "\u001b[0;32mC:\\Users\\xiongjun\\AppData\\Local\\Continuum\\Anaconda3\\lib\\site-packages\\statsmodels\\discrete\\discrete_model.py\u001b[0m in \u001b[0;36mpredict\u001b[0;34m(self, params, exog, linear)\u001b[0m\n\u001b[1;32m    428\u001b[0m             \u001b[0mexog\u001b[0m \u001b[1;33m=\u001b[0m \u001b[0mself\u001b[0m\u001b[1;33m.\u001b[0m\u001b[0mexog\u001b[0m\u001b[1;33m\u001b[0m\u001b[0m\n\u001b[1;32m    429\u001b[0m         \u001b[1;32mif\u001b[0m \u001b[1;32mnot\u001b[0m \u001b[0mlinear\u001b[0m\u001b[1;33m:\u001b[0m\u001b[1;33m\u001b[0m\u001b[0m\n\u001b[0;32m--> 430\u001b[0;31m             \u001b[1;32mreturn\u001b[0m \u001b[0mself\u001b[0m\u001b[1;33m.\u001b[0m\u001b[0mcdf\u001b[0m\u001b[1;33m(\u001b[0m\u001b[0mnp\u001b[0m\u001b[1;33m.\u001b[0m\u001b[0mdot\u001b[0m\u001b[1;33m(\u001b[0m\u001b[0mexog\u001b[0m\u001b[1;33m,\u001b[0m \u001b[0mparams\u001b[0m\u001b[1;33m)\u001b[0m\u001b[1;33m)\u001b[0m\u001b[1;33m\u001b[0m\u001b[0m\n\u001b[0m\u001b[1;32m    431\u001b[0m         \u001b[1;32melse\u001b[0m\u001b[1;33m:\u001b[0m\u001b[1;33m\u001b[0m\u001b[0m\n\u001b[1;32m    432\u001b[0m             \u001b[1;32mreturn\u001b[0m \u001b[0mnp\u001b[0m\u001b[1;33m.\u001b[0m\u001b[0mdot\u001b[0m\u001b[1;33m(\u001b[0m\u001b[0mexog\u001b[0m\u001b[1;33m,\u001b[0m \u001b[0mparams\u001b[0m\u001b[1;33m)\u001b[0m\u001b[1;33m\u001b[0m\u001b[0m\n",
      "\u001b[0;31mValueError\u001b[0m: shapes (4565,13) and (14,) not aligned: 13 (dim 1) != 14 (dim 0)"
     ]
    }
   ],
   "source": [
    "selected_var ={#'cs':[0,4,5,6,7],\n",
    "               #'od':[0],\n",
    "                'ls_od_b_1y':[0],\n",
    "                'ls_od_b_2y':[0],\n",
    "                #'ls_od_f_6t':[0],\n",
    "               #'xc_behavior':[0],\n",
    "               'xc_overloan':[0],\n",
    "               'xc_overdue':[0],\n",
    "               #'xc_record':[0],\n",
    "               'rv':[0],\n",
    "               'rc_idname_multi':[0],\n",
    "                #'rc_relation_age':[0],\n",
    "                #'rc_relation_multi':[0],\n",
    "                'rc_relation_cnt':[0],\n",
    "               'ls_cr':[0],\n",
    "               'ls_cr_cl':[0],\n",
    "               #'ls_gp':[0],\n",
    "               #'ls_gp_cl':[0],\n",
    "               'ls_nd':[0],\n",
    "               #'ld_rc':[0],\n",
    "               'ld_xc':[0],\n",
    "               'bs_gps5':[0]\n",
    "              }\n",
    "\n",
    "#WOE变换\n",
    "WOE_tg = WOE_mapping(data_tg,selected_var, target)\n",
    "tg_X = WOE_tg.drop(target, axis = 1)\n",
    "tg_X['constant'] = 1\n",
    "tg_Y = WOE_tg[target]\n",
    "\n",
    "#KS值\n",
    "predict_tg_Y = logit.predict(tg_X)\n",
    "KS_calculation(tg_Y,predict_tg_Y, 40)"
   ]
  },
  {
   "cell_type": "code",
   "execution_count": 110,
   "metadata": {
    "collapsed": false
   },
   "outputs": [
    {
     "data": {
      "text/plain": [
       "0.62409830840035985"
      ]
     },
     "execution_count": 110,
     "metadata": {},
     "output_type": "execute_result"
    }
   ],
   "source": [
    "roc_auc_score(tg_Y,predict_tg_Y)"
   ]
  },
  {
   "cell_type": "markdown",
   "metadata": {},
   "source": [
    "## 算话评分测试"
   ]
  },
  {
   "cell_type": "code",
   "execution_count": 297,
   "metadata": {
    "collapsed": false
   },
   "outputs": [
    {
     "data": {
      "text/plain": [
       "(4156, 7)"
      ]
     },
     "execution_count": 297,
     "metadata": {},
     "output_type": "execute_result"
    }
   ],
   "source": [
    "data_sh = pd.read_csv('D:\\\\python\\\\huabao\\\\tmp_suanhua_test0330.csv')\n",
    "#data_tg['type']=1 #加个常数项做type列，方便后面调用函数运算\n",
    "data_sh.shape"
   ]
  },
  {
   "cell_type": "code",
   "execution_count": 298,
   "metadata": {
    "collapsed": false
   },
   "outputs": [
    {
     "data": {
      "text/plain": [
       "0.1737247353224254"
      ]
     },
     "execution_count": 298,
     "metadata": {},
     "output_type": "execute_result"
    }
   ],
   "source": [
    "#样本的bad_rate\n",
    "data_sh[data_sh['type']==1].shape[0]/data_sh.shape[0]"
   ]
  },
  {
   "cell_type": "code",
   "execution_count": 299,
   "metadata": {
    "collapsed": false
   },
   "outputs": [
    {
     "data": {
      "text/plain": [
       "722"
      ]
     },
     "execution_count": 299,
     "metadata": {},
     "output_type": "execute_result"
    }
   ],
   "source": [
    "data_sh[data_sh['type']==1].shape[0]"
   ]
  },
  {
   "cell_type": "code",
   "execution_count": 340,
   "metadata": {
    "collapsed": true
   },
   "outputs": [],
   "source": [
    "data_sh1_xuni=data_sh[data_sh['product_category']=='余额代偿']"
   ]
  },
  {
   "cell_type": "code",
   "execution_count": 344,
   "metadata": {
    "collapsed": false
   },
   "outputs": [
    {
     "name": "stderr",
     "output_type": "stream",
     "text": [
      "C:\\Users\\xiongjun\\AppData\\Local\\Continuum\\Anaconda3\\lib\\site-packages\\pandas\\core\\generic.py:3295: SettingWithCopyWarning: \n",
      "A value is trying to be set on a copy of a slice from a DataFrame\n",
      "\n",
      "See the caveats in the documentation: http://pandas.pydata.org/pandas-docs/stable/indexing.html#indexing-view-versus-copy\n",
      "  self._update_inplace(new_data)\n",
      "C:\\Users\\xiongjun\\sc_func.py:124: SettingWithCopyWarning: \n",
      "A value is trying to be set on a copy of a slice from a DataFrame.\n",
      "Try using .loc[row_indexer,col_indexer] = value instead\n",
      "\n",
      "See the caveats in the documentation: http://pandas.pydata.org/pandas-docs/stable/indexing.html#indexing-view-versus-copy\n",
      "  df['qt_binning'] = var_bins_series(df[var], bins, side = side)\n"
     ]
    }
   ],
   "source": [
    "bins_sh1 =[540,550,560,570,580]\n",
    "var_sh1='score1'\n",
    "var_bin_sh1 = variable_binning(data_sh1_xuni, target, var_sh1, bins_sh1, 'bins')"
   ]
  },
  {
   "cell_type": "code",
   "execution_count": 345,
   "metadata": {
    "collapsed": false,
    "scrolled": true
   },
   "outputs": [
    {
     "data": {
      "image/png": "[encoded data removed]",
      "text/plain": [
       "<matplotlib.figure.Figure at 0xa15a898>"
      ]
     },
     "metadata": {},
     "output_type": "display_data"
    }
   ],
   "source": [
    "binning_plot(var_bin_sh1)"
   ]
  },
  {
   "cell_type": "code",
   "execution_count": 346,
   "metadata": {
    "collapsed": false,
    "scrolled": true
   },
   "outputs": [
    {
     "data": {
      "text/html": [
       "<div>\n",
       "<table border=\"1\" class=\"dataframe\">\n",
       "  <thead>\n",
       "    <tr style=\"text-align: right;\">\n",
       "      <th></th>\n",
       "      <th>Lbound</th>\n",
       "      <th>Ubound</th>\n",
       "      <th>Totalcnt</th>\n",
       "      <th>PctTotal</th>\n",
       "      <th>Y_count</th>\n",
       "      <th>n_Y_count</th>\n",
       "      <th>Y_pct</th>\n",
       "      <th>n_Y_pct</th>\n",
       "      <th>Y_rate</th>\n",
       "      <th>WOE</th>\n",
       "      <th>IV</th>\n",
       "    </tr>\n",
       "    <tr>\n",
       "      <th>qt_binning</th>\n",
       "      <th></th>\n",
       "      <th></th>\n",
       "      <th></th>\n",
       "      <th></th>\n",
       "      <th></th>\n",
       "      <th></th>\n",
       "      <th></th>\n",
       "      <th></th>\n",
       "      <th></th>\n",
       "      <th></th>\n",
       "      <th></th>\n",
       "    </tr>\n",
       "  </thead>\n",
       "  <tbody>\n",
       "    <tr>\n",
       "      <th>(-inf, 540]</th>\n",
       "      <td>491</td>\n",
       "      <td>540</td>\n",
       "      <td>51</td>\n",
       "      <td>0.100791</td>\n",
       "      <td>20</td>\n",
       "      <td>31</td>\n",
       "      <td>0.222222</td>\n",
       "      <td>0.074519</td>\n",
       "      <td>0.392157</td>\n",
       "      <td>1.092621</td>\n",
       "      <td>0.161383</td>\n",
       "    </tr>\n",
       "    <tr>\n",
       "      <th>(540, 550]</th>\n",
       "      <td>541</td>\n",
       "      <td>550</td>\n",
       "      <td>52</td>\n",
       "      <td>0.102767</td>\n",
       "      <td>12</td>\n",
       "      <td>40</td>\n",
       "      <td>0.133333</td>\n",
       "      <td>0.096154</td>\n",
       "      <td>0.230769</td>\n",
       "      <td>0.326903</td>\n",
       "      <td>0.012154</td>\n",
       "    </tr>\n",
       "    <tr>\n",
       "      <th>(550, 560]</th>\n",
       "      <td>551</td>\n",
       "      <td>560</td>\n",
       "      <td>81</td>\n",
       "      <td>0.160079</td>\n",
       "      <td>13</td>\n",
       "      <td>68</td>\n",
       "      <td>0.144444</td>\n",
       "      <td>0.163462</td>\n",
       "      <td>0.160494</td>\n",
       "      <td>-0.123683</td>\n",
       "      <td>0.002352</td>\n",
       "    </tr>\n",
       "    <tr>\n",
       "      <th>(560, 570]</th>\n",
       "      <td>561</td>\n",
       "      <td>570</td>\n",
       "      <td>119</td>\n",
       "      <td>0.235178</td>\n",
       "      <td>16</td>\n",
       "      <td>103</td>\n",
       "      <td>0.177778</td>\n",
       "      <td>0.247596</td>\n",
       "      <td>0.134454</td>\n",
       "      <td>-0.331265</td>\n",
       "      <td>0.023128</td>\n",
       "    </tr>\n",
       "    <tr>\n",
       "      <th>(570, 580]</th>\n",
       "      <td>571</td>\n",
       "      <td>580</td>\n",
       "      <td>125</td>\n",
       "      <td>0.247036</td>\n",
       "      <td>20</td>\n",
       "      <td>105</td>\n",
       "      <td>0.222222</td>\n",
       "      <td>0.252404</td>\n",
       "      <td>0.160000</td>\n",
       "      <td>-0.127352</td>\n",
       "      <td>0.003844</td>\n",
       "    </tr>\n",
       "    <tr>\n",
       "      <th>(580, +inf)</th>\n",
       "      <td>581</td>\n",
       "      <td>607</td>\n",
       "      <td>78</td>\n",
       "      <td>0.154150</td>\n",
       "      <td>9</td>\n",
       "      <td>69</td>\n",
       "      <td>0.100000</td>\n",
       "      <td>0.165865</td>\n",
       "      <td>0.115385</td>\n",
       "      <td>-0.506006</td>\n",
       "      <td>0.033328</td>\n",
       "    </tr>\n",
       "  </tbody>\n",
       "</table>\n",
       "</div>"
      ],
      "text/plain": [
       "             Lbound  Ubound  Totalcnt  PctTotal  Y_count  n_Y_count     Y_pct  \\\n",
       "qt_binning                                                                      \n",
       "(-inf, 540]     491     540        51  0.100791       20         31  0.222222   \n",
       "(540, 550]      541     550        52  0.102767       12         40  0.133333   \n",
       "(550, 560]      551     560        81  0.160079       13         68  0.144444   \n",
       "(560, 570]      561     570       119  0.235178       16        103  0.177778   \n",
       "(570, 580]      571     580       125  0.247036       20        105  0.222222   \n",
       "(580, +inf)     581     607        78  0.154150        9         69  0.100000   \n",
       "\n",
       "              n_Y_pct    Y_rate       WOE        IV  \n",
       "qt_binning                                           \n",
       "(-inf, 540]  0.074519  0.392157  1.092621  0.161383  \n",
       "(540, 550]   0.096154  0.230769  0.326903  0.012154  \n",
       "(550, 560]   0.163462  0.160494 -0.123683  0.002352  \n",
       "(560, 570]   0.247596  0.134454 -0.331265  0.023128  \n",
       "(570, 580]   0.252404  0.160000 -0.127352  0.003844  \n",
       "(580, +inf)  0.165865  0.115385 -0.506006  0.033328  "
      ]
     },
     "execution_count": 346,
     "metadata": {},
     "output_type": "execute_result"
    }
   ],
   "source": [
    "var_bin_sh1"
   ]
  },
  {
   "cell_type": "markdown",
   "metadata": {},
   "source": [
    "## score2"
   ]
  },
  {
   "cell_type": "code",
   "execution_count": 336,
   "metadata": {
    "collapsed": true
   },
   "outputs": [],
   "source": [
    "data_sh2=data_sh[data_sh['product_category']=='小额']"
   ]
  },
  {
   "cell_type": "code",
   "execution_count": 337,
   "metadata": {
    "collapsed": false,
    "scrolled": true
   },
   "outputs": [
    {
     "name": "stderr",
     "output_type": "stream",
     "text": [
      "C:\\Users\\xiongjun\\AppData\\Local\\Continuum\\Anaconda3\\lib\\site-packages\\pandas\\core\\generic.py:3295: SettingWithCopyWarning: \n",
      "A value is trying to be set on a copy of a slice from a DataFrame\n",
      "\n",
      "See the caveats in the documentation: http://pandas.pydata.org/pandas-docs/stable/indexing.html#indexing-view-versus-copy\n",
      "  self._update_inplace(new_data)\n",
      "C:\\Users\\xiongjun\\sc_func.py:124: SettingWithCopyWarning: \n",
      "A value is trying to be set on a copy of a slice from a DataFrame.\n",
      "Try using .loc[row_indexer,col_indexer] = value instead\n",
      "\n",
      "See the caveats in the documentation: http://pandas.pydata.org/pandas-docs/stable/indexing.html#indexing-view-versus-copy\n",
      "  df['qt_binning'] = var_bins_series(df[var], bins, side = side)\n"
     ]
    }
   ],
   "source": [
    "#bins_sh =[530,540,550,560,600]\n",
    "bins_sh2 =[500,530,540,550,560,580,600]\n",
    "var_sh2='score2'\n",
    "var_bin_sh2 = variable_binning(data_sh2, target, var_sh2, bins_sh2, 'bins')"
   ]
  },
  {
   "cell_type": "code",
   "execution_count": 338,
   "metadata": {
    "collapsed": false,
    "scrolled": true
   },
   "outputs": [
    {
     "data": {
      "image/png": "[encoded data removed]",
      "text/plain": [
       "<matplotlib.figure.Figure at 0xa0ff4e0>"
      ]
     },
     "metadata": {},
     "output_type": "display_data"
    }
   ],
   "source": [
    "binning_plot(var_bin_sh2)"
   ]
  },
  {
   "cell_type": "code",
   "execution_count": 339,
   "metadata": {
    "collapsed": false,
    "scrolled": true
   },
   "outputs": [
    {
     "data": {
      "text/html": [
       "<div>\n",
       "<table border=\"1\" class=\"dataframe\">\n",
       "  <thead>\n",
       "    <tr style=\"text-align: right;\">\n",
       "      <th></th>\n",
       "      <th>Lbound</th>\n",
       "      <th>Ubound</th>\n",
       "      <th>Totalcnt</th>\n",
       "      <th>PctTotal</th>\n",
       "      <th>Y_count</th>\n",
       "      <th>n_Y_count</th>\n",
       "      <th>Y_pct</th>\n",
       "      <th>n_Y_pct</th>\n",
       "      <th>Y_rate</th>\n",
       "      <th>WOE</th>\n",
       "      <th>IV</th>\n",
       "    </tr>\n",
       "    <tr>\n",
       "      <th>qt_binning</th>\n",
       "      <th></th>\n",
       "      <th></th>\n",
       "      <th></th>\n",
       "      <th></th>\n",
       "      <th></th>\n",
       "      <th></th>\n",
       "      <th></th>\n",
       "      <th></th>\n",
       "      <th></th>\n",
       "      <th></th>\n",
       "      <th></th>\n",
       "    </tr>\n",
       "  </thead>\n",
       "  <tbody>\n",
       "    <tr>\n",
       "      <th>(-inf, 500]</th>\n",
       "      <td>500</td>\n",
       "      <td>500</td>\n",
       "      <td>4</td>\n",
       "      <td>0.005714</td>\n",
       "      <td>0</td>\n",
       "      <td>4</td>\n",
       "      <td>0.000001</td>\n",
       "      <td>0.006270</td>\n",
       "      <td>0.000000</td>\n",
       "      <td>-8.743467</td>\n",
       "      <td>0.054809</td>\n",
       "    </tr>\n",
       "    <tr>\n",
       "      <th>(500, 530]</th>\n",
       "      <td>504</td>\n",
       "      <td>526</td>\n",
       "      <td>152</td>\n",
       "      <td>0.217143</td>\n",
       "      <td>18</td>\n",
       "      <td>134</td>\n",
       "      <td>0.290323</td>\n",
       "      <td>0.210031</td>\n",
       "      <td>0.118421</td>\n",
       "      <td>0.323736</td>\n",
       "      <td>0.025993</td>\n",
       "    </tr>\n",
       "    <tr>\n",
       "      <th>(530, 540]</th>\n",
       "      <td>531</td>\n",
       "      <td>540</td>\n",
       "      <td>60</td>\n",
       "      <td>0.085714</td>\n",
       "      <td>4</td>\n",
       "      <td>56</td>\n",
       "      <td>0.064516</td>\n",
       "      <td>0.087774</td>\n",
       "      <td>0.066667</td>\n",
       "      <td>-0.307853</td>\n",
       "      <td>0.007160</td>\n",
       "    </tr>\n",
       "    <tr>\n",
       "      <th>(540, 550]</th>\n",
       "      <td>541</td>\n",
       "      <td>546</td>\n",
       "      <td>34</td>\n",
       "      <td>0.048571</td>\n",
       "      <td>4</td>\n",
       "      <td>30</td>\n",
       "      <td>0.064516</td>\n",
       "      <td>0.047022</td>\n",
       "      <td>0.117647</td>\n",
       "      <td>0.316301</td>\n",
       "      <td>0.005533</td>\n",
       "    </tr>\n",
       "    <tr>\n",
       "      <th>(550, 560]</th>\n",
       "      <td>551</td>\n",
       "      <td>560</td>\n",
       "      <td>98</td>\n",
       "      <td>0.140000</td>\n",
       "      <td>15</td>\n",
       "      <td>83</td>\n",
       "      <td>0.241935</td>\n",
       "      <td>0.130094</td>\n",
       "      <td>0.153061</td>\n",
       "      <td>0.620413</td>\n",
       "      <td>0.069388</td>\n",
       "    </tr>\n",
       "    <tr>\n",
       "      <th>(560, 580]</th>\n",
       "      <td>561</td>\n",
       "      <td>580</td>\n",
       "      <td>235</td>\n",
       "      <td>0.335714</td>\n",
       "      <td>12</td>\n",
       "      <td>223</td>\n",
       "      <td>0.193548</td>\n",
       "      <td>0.349530</td>\n",
       "      <td>0.051064</td>\n",
       "      <td>-0.591061</td>\n",
       "      <td>0.092195</td>\n",
       "    </tr>\n",
       "    <tr>\n",
       "      <th>(580, 600]</th>\n",
       "      <td>581</td>\n",
       "      <td>600</td>\n",
       "      <td>117</td>\n",
       "      <td>0.167143</td>\n",
       "      <td>9</td>\n",
       "      <td>108</td>\n",
       "      <td>0.145161</td>\n",
       "      <td>0.169279</td>\n",
       "      <td>0.076923</td>\n",
       "      <td>-0.153703</td>\n",
       "      <td>0.003707</td>\n",
       "    </tr>\n",
       "  </tbody>\n",
       "</table>\n",
       "</div>"
      ],
      "text/plain": [
       "             Lbound  Ubound  Totalcnt  PctTotal  Y_count  n_Y_count     Y_pct  \\\n",
       "qt_binning                                                                      \n",
       "(-inf, 500]     500     500         4  0.005714        0          4  0.000001   \n",
       "(500, 530]      504     526       152  0.217143       18        134  0.290323   \n",
       "(530, 540]      531     540        60  0.085714        4         56  0.064516   \n",
       "(540, 550]      541     546        34  0.048571        4         30  0.064516   \n",
       "(550, 560]      551     560        98  0.140000       15         83  0.241935   \n",
       "(560, 580]      561     580       235  0.335714       12        223  0.193548   \n",
       "(580, 600]      581     600       117  0.167143        9        108  0.145161   \n",
       "\n",
       "              n_Y_pct    Y_rate       WOE        IV  \n",
       "qt_binning                                           \n",
       "(-inf, 500]  0.006270  0.000000 -8.743467  0.054809  \n",
       "(500, 530]   0.210031  0.118421  0.323736  0.025993  \n",
       "(530, 540]   0.087774  0.066667 -0.307853  0.007160  \n",
       "(540, 550]   0.047022  0.117647  0.316301  0.005533  \n",
       "(550, 560]   0.130094  0.153061  0.620413  0.069388  \n",
       "(560, 580]   0.349530  0.051064 -0.591061  0.092195  \n",
       "(580, 600]   0.169279  0.076923 -0.153703  0.003707  "
      ]
     },
     "execution_count": 339,
     "metadata": {},
     "output_type": "execute_result"
    }
   ],
   "source": [
    "var_bin_sh2"
   ]
  },
  {
   "cell_type": "code",
   "execution_count": null,
   "metadata": {
    "collapsed": true
   },
   "outputs": [],
   "source": []
  }
 ],
 "metadata": {
  "kernelspec": {
   "display_name": "Python 3",
   "language": "python",
   "name": "python3"
  },
  "language_info": {
   "codemirror_mode": {
    "name": "ipython",
    "version": 3
   },
   "file_extension": ".py",
   "mimetype": "text/x-python",
   "name": "python",
   "nbconvert_exporter": "python",
   "pygments_lexer": "ipython3",
   "version": "3.6.0"
  }
 },
 "nbformat": 4,
 "nbformat_minor": 2
}
