{
 "cells": [
  {
   "cell_type": "code",
   "execution_count": 171,
   "metadata": {
    "collapsed": true
   },
   "outputs": [],
   "source": [
    "import numpy as np\n",
    "import pandas as pd\n",
    "import matplotlib.pyplot as plt\n",
    "from sc_func import *"
   ]
  },
  {
   "cell_type": "markdown",
   "metadata": {},
   "source": [
    "## 数据导入"
   ]
  },
  {
   "cell_type": "code",
   "execution_count": 172,
   "metadata": {
    "collapsed": false
   },
   "outputs": [],
   "source": [
    "data_form = pd.read_csv('D:\\\\python\\\\huabao\\\\tmp_score_huabao_variable0316_6.csv')"
   ]
  },
  {
   "cell_type": "code",
   "execution_count": 173,
   "metadata": {
    "collapsed": false
   },
   "outputs": [
    {
     "data": {
      "text/plain": [
       "(29322, 35)"
      ]
     },
     "execution_count": 173,
     "metadata": {},
     "output_type": "execute_result"
    }
   ],
   "source": [
    "data_form.shape"
   ]
  },
  {
   "cell_type": "code",
   "execution_count": 174,
   "metadata": {
    "collapsed": false
   },
   "outputs": [],
   "source": [
    "x_columns = [x for x in data_form.columns if x not in ['type']]\n",
    "keep_list = x_columns\n",
    "target = 'type'"
   ]
  },
  {
   "cell_type": "code",
   "execution_count": 175,
   "metadata": {
    "collapsed": false
   },
   "outputs": [
    {
     "data": {
      "text/plain": [
       "0.08638564900075028"
      ]
     },
     "execution_count": 175,
     "metadata": {},
     "output_type": "execute_result"
    }
   ],
   "source": [
    "#样本的bad_rate\n",
    "data_form[data_form['type']==1].shape[0]/data_form.shape[0]"
   ]
  },
  {
   "cell_type": "markdown",
   "metadata": {},
   "source": [
    "## 变量筛选"
   ]
  },
  {
   "cell_type": "code",
   "execution_count": 6,
   "metadata": {
    "collapsed": false
   },
   "outputs": [],
   "source": [
    "#相关性删除\n",
    "df=data_form\n",
    "corr=df.corr()"
   ]
  },
  {
   "cell_type": "code",
   "execution_count": 7,
   "metadata": {
    "collapsed": false
   },
   "outputs": [
    {
     "data": {
      "text/plain": [
       "Index(['type', 'cs', 'ls_od_b_6m', 'ls_od_b_1y', 'ls_od_b_2y', 'ls_od_f_1t',\n",
       "       'ls_od_f_3t', 'ls_od_f_6t', 'xc_behavior', 'xc_overloan', 'xc_overdue',\n",
       "       'xc_record', 'rv', 'rc_idname_multi', 'rc_relation_age',\n",
       "       'rc_relation_cnt_name_phone', 'rc_relation_multi', 'rc_relation_cnt',\n",
       "       'ls_cr', 'ls_cr_cl', 'ls_gp', 'ls_gp_cl', 'ls_nw', 'ls_nd', 'ld_od',\n",
       "       'ld_rc', 'ld_xc', 'bs_gps5', 'bs_add5', 'bd_addr_abn_apply',\n",
       "       'bd_gps5_abn_apply', 'bd_addr_abn_spend', 'bd_gps5_abn_spend',\n",
       "       'dist_gps5_abn_beh', 'dist_gps5_abn_spend'],\n",
       "      dtype='object')"
      ]
     },
     "execution_count": 7,
     "metadata": {},
     "output_type": "execute_result"
    }
   ],
   "source": [
    "corr.columns"
   ]
  },
  {
   "cell_type": "code",
   "execution_count": 8,
   "metadata": {
    "collapsed": false
   },
   "outputs": [
    {
     "data": {
      "text/plain": [
       "pandas.indexes.base.Index"
      ]
     },
     "execution_count": 8,
     "metadata": {},
     "output_type": "execute_result"
    }
   ],
   "source": [
    "type(corr.columns)"
   ]
  },
  {
   "cell_type": "code",
   "execution_count": 9,
   "metadata": {
    "collapsed": false
   },
   "outputs": [
    {
     "data": {
      "text/plain": [
       "['cs',\n",
       " 'ls_od_b_6m',\n",
       " 'ls_od_b_1y',\n",
       " 'ls_od_b_2y',\n",
       " 'ls_od_f_1t',\n",
       " 'ls_od_f_3t',\n",
       " 'ls_od_f_6t',\n",
       " 'xc_behavior',\n",
       " 'xc_overloan',\n",
       " 'xc_overdue',\n",
       " 'xc_record',\n",
       " 'rv',\n",
       " 'rc_idname_multi',\n",
       " 'rc_relation_age',\n",
       " 'rc_relation_cnt_name_phone',\n",
       " 'rc_relation_multi',\n",
       " 'rc_relation_cnt',\n",
       " 'ls_cr',\n",
       " 'ls_cr_cl',\n",
       " 'ls_gp',\n",
       " 'ls_gp_cl',\n",
       " 'ls_nw',\n",
       " 'ls_nd',\n",
       " 'ld_od',\n",
       " 'ld_rc',\n",
       " 'ld_xc',\n",
       " 'bs_gps5',\n",
       " 'bs_add5',\n",
       " 'bd_addr_abn_apply',\n",
       " 'bd_gps5_abn_apply',\n",
       " 'bd_addr_abn_spend',\n",
       " 'bd_gps5_abn_spend',\n",
       " 'dist_gps5_abn_beh',\n",
       " 'dist_gps5_abn_spend']"
      ]
     },
     "execution_count": 9,
     "metadata": {},
     "output_type": "execute_result"
    }
   ],
   "source": [
    "x_columns = [x for x in corr.columns if x not in ['type']]\n",
    "x_columns"
   ]
  },
  {
   "cell_type": "code",
   "execution_count": 10,
   "metadata": {
    "collapsed": false
   },
   "outputs": [
    {
     "data": {
      "text/html": [
       "<div>\n",
       "<table border=\"1\" class=\"dataframe\">\n",
       "  <thead>\n",
       "    <tr style=\"text-align: right;\">\n",
       "      <th></th>\n",
       "      <th>type</th>\n",
       "      <th>cs</th>\n",
       "      <th>ls_od_b_6m</th>\n",
       "      <th>ls_od_b_1y</th>\n",
       "      <th>ls_od_b_2y</th>\n",
       "      <th>ls_od_f_1t</th>\n",
       "      <th>ls_od_f_3t</th>\n",
       "      <th>ls_od_f_6t</th>\n",
       "      <th>xc_behavior</th>\n",
       "      <th>xc_overloan</th>\n",
       "      <th>...</th>\n",
       "      <th>ld_rc</th>\n",
       "      <th>ld_xc</th>\n",
       "      <th>bs_gps5</th>\n",
       "      <th>bs_add5</th>\n",
       "      <th>bd_addr_abn_apply</th>\n",
       "      <th>bd_gps5_abn_apply</th>\n",
       "      <th>bd_addr_abn_spend</th>\n",
       "      <th>bd_gps5_abn_spend</th>\n",
       "      <th>dist_gps5_abn_beh</th>\n",
       "      <th>dist_gps5_abn_spend</th>\n",
       "    </tr>\n",
       "  </thead>\n",
       "  <tbody>\n",
       "    <tr>\n",
       "      <th>type</th>\n",
       "      <td>1.0</td>\n",
       "      <td>NaN</td>\n",
       "      <td>NaN</td>\n",
       "      <td>NaN</td>\n",
       "      <td>NaN</td>\n",
       "      <td>NaN</td>\n",
       "      <td>NaN</td>\n",
       "      <td>NaN</td>\n",
       "      <td>NaN</td>\n",
       "      <td>NaN</td>\n",
       "      <td>...</td>\n",
       "      <td>NaN</td>\n",
       "      <td>NaN</td>\n",
       "      <td>NaN</td>\n",
       "      <td>NaN</td>\n",
       "      <td>NaN</td>\n",
       "      <td>NaN</td>\n",
       "      <td>NaN</td>\n",
       "      <td>NaN</td>\n",
       "      <td>NaN</td>\n",
       "      <td>NaN</td>\n",
       "    </tr>\n",
       "    <tr>\n",
       "      <th>cs</th>\n",
       "      <td>NaN</td>\n",
       "      <td>1.0</td>\n",
       "      <td>NaN</td>\n",
       "      <td>NaN</td>\n",
       "      <td>NaN</td>\n",
       "      <td>NaN</td>\n",
       "      <td>NaN</td>\n",
       "      <td>NaN</td>\n",
       "      <td>NaN</td>\n",
       "      <td>NaN</td>\n",
       "      <td>...</td>\n",
       "      <td>NaN</td>\n",
       "      <td>NaN</td>\n",
       "      <td>NaN</td>\n",
       "      <td>NaN</td>\n",
       "      <td>NaN</td>\n",
       "      <td>NaN</td>\n",
       "      <td>NaN</td>\n",
       "      <td>NaN</td>\n",
       "      <td>NaN</td>\n",
       "      <td>NaN</td>\n",
       "    </tr>\n",
       "    <tr>\n",
       "      <th>ls_od_b_6m</th>\n",
       "      <td>NaN</td>\n",
       "      <td>NaN</td>\n",
       "      <td>1.000000</td>\n",
       "      <td>0.545897</td>\n",
       "      <td>NaN</td>\n",
       "      <td>NaN</td>\n",
       "      <td>0.819558</td>\n",
       "      <td>NaN</td>\n",
       "      <td>NaN</td>\n",
       "      <td>NaN</td>\n",
       "      <td>...</td>\n",
       "      <td>NaN</td>\n",
       "      <td>NaN</td>\n",
       "      <td>NaN</td>\n",
       "      <td>NaN</td>\n",
       "      <td>NaN</td>\n",
       "      <td>NaN</td>\n",
       "      <td>NaN</td>\n",
       "      <td>NaN</td>\n",
       "      <td>NaN</td>\n",
       "      <td>NaN</td>\n",
       "    </tr>\n",
       "    <tr>\n",
       "      <th>ls_od_b_1y</th>\n",
       "      <td>NaN</td>\n",
       "      <td>NaN</td>\n",
       "      <td>0.545897</td>\n",
       "      <td>1.000000</td>\n",
       "      <td>0.548319</td>\n",
       "      <td>NaN</td>\n",
       "      <td>NaN</td>\n",
       "      <td>0.653162</td>\n",
       "      <td>NaN</td>\n",
       "      <td>NaN</td>\n",
       "      <td>...</td>\n",
       "      <td>NaN</td>\n",
       "      <td>NaN</td>\n",
       "      <td>NaN</td>\n",
       "      <td>NaN</td>\n",
       "      <td>NaN</td>\n",
       "      <td>NaN</td>\n",
       "      <td>NaN</td>\n",
       "      <td>NaN</td>\n",
       "      <td>NaN</td>\n",
       "      <td>NaN</td>\n",
       "    </tr>\n",
       "    <tr>\n",
       "      <th>ls_od_b_2y</th>\n",
       "      <td>NaN</td>\n",
       "      <td>NaN</td>\n",
       "      <td>NaN</td>\n",
       "      <td>0.548319</td>\n",
       "      <td>1.000000</td>\n",
       "      <td>NaN</td>\n",
       "      <td>NaN</td>\n",
       "      <td>NaN</td>\n",
       "      <td>NaN</td>\n",
       "      <td>NaN</td>\n",
       "      <td>...</td>\n",
       "      <td>NaN</td>\n",
       "      <td>NaN</td>\n",
       "      <td>NaN</td>\n",
       "      <td>NaN</td>\n",
       "      <td>NaN</td>\n",
       "      <td>NaN</td>\n",
       "      <td>NaN</td>\n",
       "      <td>NaN</td>\n",
       "      <td>NaN</td>\n",
       "      <td>NaN</td>\n",
       "    </tr>\n",
       "    <tr>\n",
       "      <th>ls_od_f_1t</th>\n",
       "      <td>NaN</td>\n",
       "      <td>NaN</td>\n",
       "      <td>NaN</td>\n",
       "      <td>NaN</td>\n",
       "      <td>NaN</td>\n",
       "      <td>1.0</td>\n",
       "      <td>NaN</td>\n",
       "      <td>NaN</td>\n",
       "      <td>NaN</td>\n",
       "      <td>NaN</td>\n",
       "      <td>...</td>\n",
       "      <td>NaN</td>\n",
       "      <td>NaN</td>\n",
       "      <td>NaN</td>\n",
       "      <td>NaN</td>\n",
       "      <td>NaN</td>\n",
       "      <td>NaN</td>\n",
       "      <td>NaN</td>\n",
       "      <td>NaN</td>\n",
       "      <td>NaN</td>\n",
       "      <td>NaN</td>\n",
       "    </tr>\n",
       "    <tr>\n",
       "      <th>ls_od_f_3t</th>\n",
       "      <td>NaN</td>\n",
       "      <td>NaN</td>\n",
       "      <td>0.819558</td>\n",
       "      <td>NaN</td>\n",
       "      <td>NaN</td>\n",
       "      <td>NaN</td>\n",
       "      <td>1.000000</td>\n",
       "      <td>NaN</td>\n",
       "      <td>NaN</td>\n",
       "      <td>NaN</td>\n",
       "      <td>...</td>\n",
       "      <td>NaN</td>\n",
       "      <td>NaN</td>\n",
       "      <td>NaN</td>\n",
       "      <td>NaN</td>\n",
       "      <td>NaN</td>\n",
       "      <td>NaN</td>\n",
       "      <td>NaN</td>\n",
       "      <td>NaN</td>\n",
       "      <td>NaN</td>\n",
       "      <td>NaN</td>\n",
       "    </tr>\n",
       "    <tr>\n",
       "      <th>ls_od_f_6t</th>\n",
       "      <td>NaN</td>\n",
       "      <td>NaN</td>\n",
       "      <td>NaN</td>\n",
       "      <td>0.653162</td>\n",
       "      <td>NaN</td>\n",
       "      <td>NaN</td>\n",
       "      <td>NaN</td>\n",
       "      <td>1.000000</td>\n",
       "      <td>NaN</td>\n",
       "      <td>NaN</td>\n",
       "      <td>...</td>\n",
       "      <td>NaN</td>\n",
       "      <td>NaN</td>\n",
       "      <td>NaN</td>\n",
       "      <td>NaN</td>\n",
       "      <td>NaN</td>\n",
       "      <td>NaN</td>\n",
       "      <td>NaN</td>\n",
       "      <td>NaN</td>\n",
       "      <td>NaN</td>\n",
       "      <td>NaN</td>\n",
       "    </tr>\n",
       "    <tr>\n",
       "      <th>xc_behavior</th>\n",
       "      <td>NaN</td>\n",
       "      <td>NaN</td>\n",
       "      <td>NaN</td>\n",
       "      <td>NaN</td>\n",
       "      <td>NaN</td>\n",
       "      <td>NaN</td>\n",
       "      <td>NaN</td>\n",
       "      <td>NaN</td>\n",
       "      <td>1.0</td>\n",
       "      <td>NaN</td>\n",
       "      <td>...</td>\n",
       "      <td>NaN</td>\n",
       "      <td>NaN</td>\n",
       "      <td>NaN</td>\n",
       "      <td>NaN</td>\n",
       "      <td>NaN</td>\n",
       "      <td>NaN</td>\n",
       "      <td>NaN</td>\n",
       "      <td>NaN</td>\n",
       "      <td>NaN</td>\n",
       "      <td>NaN</td>\n",
       "    </tr>\n",
       "    <tr>\n",
       "      <th>xc_overloan</th>\n",
       "      <td>NaN</td>\n",
       "      <td>NaN</td>\n",
       "      <td>NaN</td>\n",
       "      <td>NaN</td>\n",
       "      <td>NaN</td>\n",
       "      <td>NaN</td>\n",
       "      <td>NaN</td>\n",
       "      <td>NaN</td>\n",
       "      <td>NaN</td>\n",
       "      <td>1.0</td>\n",
       "      <td>...</td>\n",
       "      <td>NaN</td>\n",
       "      <td>NaN</td>\n",
       "      <td>NaN</td>\n",
       "      <td>NaN</td>\n",
       "      <td>NaN</td>\n",
       "      <td>NaN</td>\n",
       "      <td>NaN</td>\n",
       "      <td>NaN</td>\n",
       "      <td>NaN</td>\n",
       "      <td>NaN</td>\n",
       "    </tr>\n",
       "    <tr>\n",
       "      <th>xc_overdue</th>\n",
       "      <td>NaN</td>\n",
       "      <td>NaN</td>\n",
       "      <td>NaN</td>\n",
       "      <td>NaN</td>\n",
       "      <td>NaN</td>\n",
       "      <td>NaN</td>\n",
       "      <td>NaN</td>\n",
       "      <td>NaN</td>\n",
       "      <td>NaN</td>\n",
       "      <td>NaN</td>\n",
       "      <td>...</td>\n",
       "      <td>NaN</td>\n",
       "      <td>NaN</td>\n",
       "      <td>NaN</td>\n",
       "      <td>NaN</td>\n",
       "      <td>NaN</td>\n",
       "      <td>NaN</td>\n",
       "      <td>NaN</td>\n",
       "      <td>NaN</td>\n",
       "      <td>NaN</td>\n",
       "      <td>NaN</td>\n",
       "    </tr>\n",
       "    <tr>\n",
       "      <th>xc_record</th>\n",
       "      <td>NaN</td>\n",
       "      <td>NaN</td>\n",
       "      <td>NaN</td>\n",
       "      <td>NaN</td>\n",
       "      <td>NaN</td>\n",
       "      <td>NaN</td>\n",
       "      <td>NaN</td>\n",
       "      <td>NaN</td>\n",
       "      <td>NaN</td>\n",
       "      <td>NaN</td>\n",
       "      <td>...</td>\n",
       "      <td>NaN</td>\n",
       "      <td>NaN</td>\n",
       "      <td>NaN</td>\n",
       "      <td>NaN</td>\n",
       "      <td>NaN</td>\n",
       "      <td>NaN</td>\n",
       "      <td>NaN</td>\n",
       "      <td>NaN</td>\n",
       "      <td>NaN</td>\n",
       "      <td>NaN</td>\n",
       "    </tr>\n",
       "    <tr>\n",
       "      <th>rv</th>\n",
       "      <td>NaN</td>\n",
       "      <td>NaN</td>\n",
       "      <td>NaN</td>\n",
       "      <td>NaN</td>\n",
       "      <td>NaN</td>\n",
       "      <td>NaN</td>\n",
       "      <td>NaN</td>\n",
       "      <td>NaN</td>\n",
       "      <td>NaN</td>\n",
       "      <td>NaN</td>\n",
       "      <td>...</td>\n",
       "      <td>NaN</td>\n",
       "      <td>NaN</td>\n",
       "      <td>NaN</td>\n",
       "      <td>NaN</td>\n",
       "      <td>NaN</td>\n",
       "      <td>NaN</td>\n",
       "      <td>NaN</td>\n",
       "      <td>NaN</td>\n",
       "      <td>NaN</td>\n",
       "      <td>NaN</td>\n",
       "    </tr>\n",
       "    <tr>\n",
       "      <th>rc_idname_multi</th>\n",
       "      <td>NaN</td>\n",
       "      <td>NaN</td>\n",
       "      <td>NaN</td>\n",
       "      <td>NaN</td>\n",
       "      <td>NaN</td>\n",
       "      <td>NaN</td>\n",
       "      <td>NaN</td>\n",
       "      <td>NaN</td>\n",
       "      <td>NaN</td>\n",
       "      <td>NaN</td>\n",
       "      <td>...</td>\n",
       "      <td>NaN</td>\n",
       "      <td>NaN</td>\n",
       "      <td>NaN</td>\n",
       "      <td>NaN</td>\n",
       "      <td>NaN</td>\n",
       "      <td>NaN</td>\n",
       "      <td>NaN</td>\n",
       "      <td>NaN</td>\n",
       "      <td>NaN</td>\n",
       "      <td>NaN</td>\n",
       "    </tr>\n",
       "    <tr>\n",
       "      <th>rc_relation_age</th>\n",
       "      <td>NaN</td>\n",
       "      <td>NaN</td>\n",
       "      <td>NaN</td>\n",
       "      <td>NaN</td>\n",
       "      <td>NaN</td>\n",
       "      <td>NaN</td>\n",
       "      <td>NaN</td>\n",
       "      <td>NaN</td>\n",
       "      <td>NaN</td>\n",
       "      <td>NaN</td>\n",
       "      <td>...</td>\n",
       "      <td>NaN</td>\n",
       "      <td>NaN</td>\n",
       "      <td>NaN</td>\n",
       "      <td>NaN</td>\n",
       "      <td>NaN</td>\n",
       "      <td>NaN</td>\n",
       "      <td>NaN</td>\n",
       "      <td>NaN</td>\n",
       "      <td>NaN</td>\n",
       "      <td>NaN</td>\n",
       "    </tr>\n",
       "    <tr>\n",
       "      <th>rc_relation_cnt_name_phone</th>\n",
       "      <td>NaN</td>\n",
       "      <td>NaN</td>\n",
       "      <td>NaN</td>\n",
       "      <td>NaN</td>\n",
       "      <td>NaN</td>\n",
       "      <td>NaN</td>\n",
       "      <td>NaN</td>\n",
       "      <td>NaN</td>\n",
       "      <td>NaN</td>\n",
       "      <td>NaN</td>\n",
       "      <td>...</td>\n",
       "      <td>NaN</td>\n",
       "      <td>NaN</td>\n",
       "      <td>NaN</td>\n",
       "      <td>NaN</td>\n",
       "      <td>NaN</td>\n",
       "      <td>NaN</td>\n",
       "      <td>NaN</td>\n",
       "      <td>NaN</td>\n",
       "      <td>NaN</td>\n",
       "      <td>NaN</td>\n",
       "    </tr>\n",
       "    <tr>\n",
       "      <th>rc_relation_multi</th>\n",
       "      <td>NaN</td>\n",
       "      <td>NaN</td>\n",
       "      <td>NaN</td>\n",
       "      <td>NaN</td>\n",
       "      <td>NaN</td>\n",
       "      <td>NaN</td>\n",
       "      <td>NaN</td>\n",
       "      <td>NaN</td>\n",
       "      <td>NaN</td>\n",
       "      <td>NaN</td>\n",
       "      <td>...</td>\n",
       "      <td>NaN</td>\n",
       "      <td>NaN</td>\n",
       "      <td>NaN</td>\n",
       "      <td>NaN</td>\n",
       "      <td>NaN</td>\n",
       "      <td>NaN</td>\n",
       "      <td>NaN</td>\n",
       "      <td>NaN</td>\n",
       "      <td>NaN</td>\n",
       "      <td>NaN</td>\n",
       "    </tr>\n",
       "    <tr>\n",
       "      <th>rc_relation_cnt</th>\n",
       "      <td>NaN</td>\n",
       "      <td>NaN</td>\n",
       "      <td>NaN</td>\n",
       "      <td>NaN</td>\n",
       "      <td>NaN</td>\n",
       "      <td>NaN</td>\n",
       "      <td>NaN</td>\n",
       "      <td>NaN</td>\n",
       "      <td>NaN</td>\n",
       "      <td>NaN</td>\n",
       "      <td>...</td>\n",
       "      <td>NaN</td>\n",
       "      <td>NaN</td>\n",
       "      <td>NaN</td>\n",
       "      <td>NaN</td>\n",
       "      <td>NaN</td>\n",
       "      <td>NaN</td>\n",
       "      <td>NaN</td>\n",
       "      <td>NaN</td>\n",
       "      <td>NaN</td>\n",
       "      <td>NaN</td>\n",
       "    </tr>\n",
       "    <tr>\n",
       "      <th>ls_cr</th>\n",
       "      <td>NaN</td>\n",
       "      <td>NaN</td>\n",
       "      <td>NaN</td>\n",
       "      <td>NaN</td>\n",
       "      <td>NaN</td>\n",
       "      <td>NaN</td>\n",
       "      <td>NaN</td>\n",
       "      <td>NaN</td>\n",
       "      <td>NaN</td>\n",
       "      <td>NaN</td>\n",
       "      <td>...</td>\n",
       "      <td>NaN</td>\n",
       "      <td>NaN</td>\n",
       "      <td>NaN</td>\n",
       "      <td>NaN</td>\n",
       "      <td>NaN</td>\n",
       "      <td>NaN</td>\n",
       "      <td>NaN</td>\n",
       "      <td>NaN</td>\n",
       "      <td>NaN</td>\n",
       "      <td>NaN</td>\n",
       "    </tr>\n",
       "    <tr>\n",
       "      <th>ls_cr_cl</th>\n",
       "      <td>NaN</td>\n",
       "      <td>NaN</td>\n",
       "      <td>NaN</td>\n",
       "      <td>NaN</td>\n",
       "      <td>NaN</td>\n",
       "      <td>NaN</td>\n",
       "      <td>NaN</td>\n",
       "      <td>NaN</td>\n",
       "      <td>NaN</td>\n",
       "      <td>NaN</td>\n",
       "      <td>...</td>\n",
       "      <td>NaN</td>\n",
       "      <td>NaN</td>\n",
       "      <td>NaN</td>\n",
       "      <td>NaN</td>\n",
       "      <td>NaN</td>\n",
       "      <td>NaN</td>\n",
       "      <td>NaN</td>\n",
       "      <td>NaN</td>\n",
       "      <td>NaN</td>\n",
       "      <td>NaN</td>\n",
       "    </tr>\n",
       "    <tr>\n",
       "      <th>ls_gp</th>\n",
       "      <td>NaN</td>\n",
       "      <td>NaN</td>\n",
       "      <td>NaN</td>\n",
       "      <td>NaN</td>\n",
       "      <td>NaN</td>\n",
       "      <td>NaN</td>\n",
       "      <td>NaN</td>\n",
       "      <td>NaN</td>\n",
       "      <td>NaN</td>\n",
       "      <td>NaN</td>\n",
       "      <td>...</td>\n",
       "      <td>NaN</td>\n",
       "      <td>NaN</td>\n",
       "      <td>NaN</td>\n",
       "      <td>NaN</td>\n",
       "      <td>NaN</td>\n",
       "      <td>NaN</td>\n",
       "      <td>NaN</td>\n",
       "      <td>NaN</td>\n",
       "      <td>NaN</td>\n",
       "      <td>NaN</td>\n",
       "    </tr>\n",
       "    <tr>\n",
       "      <th>ls_gp_cl</th>\n",
       "      <td>NaN</td>\n",
       "      <td>NaN</td>\n",
       "      <td>NaN</td>\n",
       "      <td>NaN</td>\n",
       "      <td>NaN</td>\n",
       "      <td>NaN</td>\n",
       "      <td>NaN</td>\n",
       "      <td>NaN</td>\n",
       "      <td>NaN</td>\n",
       "      <td>NaN</td>\n",
       "      <td>...</td>\n",
       "      <td>NaN</td>\n",
       "      <td>NaN</td>\n",
       "      <td>NaN</td>\n",
       "      <td>NaN</td>\n",
       "      <td>NaN</td>\n",
       "      <td>NaN</td>\n",
       "      <td>NaN</td>\n",
       "      <td>NaN</td>\n",
       "      <td>NaN</td>\n",
       "      <td>NaN</td>\n",
       "    </tr>\n",
       "    <tr>\n",
       "      <th>ls_nw</th>\n",
       "      <td>NaN</td>\n",
       "      <td>NaN</td>\n",
       "      <td>NaN</td>\n",
       "      <td>NaN</td>\n",
       "      <td>NaN</td>\n",
       "      <td>NaN</td>\n",
       "      <td>NaN</td>\n",
       "      <td>NaN</td>\n",
       "      <td>NaN</td>\n",
       "      <td>NaN</td>\n",
       "      <td>...</td>\n",
       "      <td>NaN</td>\n",
       "      <td>NaN</td>\n",
       "      <td>NaN</td>\n",
       "      <td>NaN</td>\n",
       "      <td>NaN</td>\n",
       "      <td>NaN</td>\n",
       "      <td>NaN</td>\n",
       "      <td>NaN</td>\n",
       "      <td>NaN</td>\n",
       "      <td>NaN</td>\n",
       "    </tr>\n",
       "    <tr>\n",
       "      <th>ls_nd</th>\n",
       "      <td>NaN</td>\n",
       "      <td>NaN</td>\n",
       "      <td>NaN</td>\n",
       "      <td>NaN</td>\n",
       "      <td>NaN</td>\n",
       "      <td>NaN</td>\n",
       "      <td>NaN</td>\n",
       "      <td>NaN</td>\n",
       "      <td>NaN</td>\n",
       "      <td>NaN</td>\n",
       "      <td>...</td>\n",
       "      <td>NaN</td>\n",
       "      <td>NaN</td>\n",
       "      <td>NaN</td>\n",
       "      <td>NaN</td>\n",
       "      <td>NaN</td>\n",
       "      <td>NaN</td>\n",
       "      <td>NaN</td>\n",
       "      <td>NaN</td>\n",
       "      <td>NaN</td>\n",
       "      <td>NaN</td>\n",
       "    </tr>\n",
       "    <tr>\n",
       "      <th>ld_od</th>\n",
       "      <td>NaN</td>\n",
       "      <td>NaN</td>\n",
       "      <td>NaN</td>\n",
       "      <td>NaN</td>\n",
       "      <td>NaN</td>\n",
       "      <td>NaN</td>\n",
       "      <td>NaN</td>\n",
       "      <td>NaN</td>\n",
       "      <td>NaN</td>\n",
       "      <td>NaN</td>\n",
       "      <td>...</td>\n",
       "      <td>NaN</td>\n",
       "      <td>NaN</td>\n",
       "      <td>NaN</td>\n",
       "      <td>NaN</td>\n",
       "      <td>NaN</td>\n",
       "      <td>NaN</td>\n",
       "      <td>NaN</td>\n",
       "      <td>NaN</td>\n",
       "      <td>NaN</td>\n",
       "      <td>NaN</td>\n",
       "    </tr>\n",
       "    <tr>\n",
       "      <th>ld_rc</th>\n",
       "      <td>NaN</td>\n",
       "      <td>NaN</td>\n",
       "      <td>NaN</td>\n",
       "      <td>NaN</td>\n",
       "      <td>NaN</td>\n",
       "      <td>NaN</td>\n",
       "      <td>NaN</td>\n",
       "      <td>NaN</td>\n",
       "      <td>NaN</td>\n",
       "      <td>NaN</td>\n",
       "      <td>...</td>\n",
       "      <td>1.0</td>\n",
       "      <td>NaN</td>\n",
       "      <td>NaN</td>\n",
       "      <td>NaN</td>\n",
       "      <td>NaN</td>\n",
       "      <td>NaN</td>\n",
       "      <td>NaN</td>\n",
       "      <td>NaN</td>\n",
       "      <td>NaN</td>\n",
       "      <td>NaN</td>\n",
       "    </tr>\n",
       "    <tr>\n",
       "      <th>ld_xc</th>\n",
       "      <td>NaN</td>\n",
       "      <td>NaN</td>\n",
       "      <td>NaN</td>\n",
       "      <td>NaN</td>\n",
       "      <td>NaN</td>\n",
       "      <td>NaN</td>\n",
       "      <td>NaN</td>\n",
       "      <td>NaN</td>\n",
       "      <td>NaN</td>\n",
       "      <td>NaN</td>\n",
       "      <td>...</td>\n",
       "      <td>NaN</td>\n",
       "      <td>1.000000</td>\n",
       "      <td>NaN</td>\n",
       "      <td>0.834576</td>\n",
       "      <td>NaN</td>\n",
       "      <td>NaN</td>\n",
       "      <td>NaN</td>\n",
       "      <td>NaN</td>\n",
       "      <td>NaN</td>\n",
       "      <td>NaN</td>\n",
       "    </tr>\n",
       "    <tr>\n",
       "      <th>bs_gps5</th>\n",
       "      <td>NaN</td>\n",
       "      <td>NaN</td>\n",
       "      <td>NaN</td>\n",
       "      <td>NaN</td>\n",
       "      <td>NaN</td>\n",
       "      <td>NaN</td>\n",
       "      <td>NaN</td>\n",
       "      <td>NaN</td>\n",
       "      <td>NaN</td>\n",
       "      <td>NaN</td>\n",
       "      <td>...</td>\n",
       "      <td>NaN</td>\n",
       "      <td>NaN</td>\n",
       "      <td>1.0</td>\n",
       "      <td>NaN</td>\n",
       "      <td>NaN</td>\n",
       "      <td>NaN</td>\n",
       "      <td>NaN</td>\n",
       "      <td>NaN</td>\n",
       "      <td>NaN</td>\n",
       "      <td>NaN</td>\n",
       "    </tr>\n",
       "    <tr>\n",
       "      <th>bs_add5</th>\n",
       "      <td>NaN</td>\n",
       "      <td>NaN</td>\n",
       "      <td>NaN</td>\n",
       "      <td>NaN</td>\n",
       "      <td>NaN</td>\n",
       "      <td>NaN</td>\n",
       "      <td>NaN</td>\n",
       "      <td>NaN</td>\n",
       "      <td>NaN</td>\n",
       "      <td>NaN</td>\n",
       "      <td>...</td>\n",
       "      <td>NaN</td>\n",
       "      <td>0.834576</td>\n",
       "      <td>NaN</td>\n",
       "      <td>1.000000</td>\n",
       "      <td>NaN</td>\n",
       "      <td>NaN</td>\n",
       "      <td>NaN</td>\n",
       "      <td>NaN</td>\n",
       "      <td>NaN</td>\n",
       "      <td>NaN</td>\n",
       "    </tr>\n",
       "    <tr>\n",
       "      <th>bd_addr_abn_apply</th>\n",
       "      <td>NaN</td>\n",
       "      <td>NaN</td>\n",
       "      <td>NaN</td>\n",
       "      <td>NaN</td>\n",
       "      <td>NaN</td>\n",
       "      <td>NaN</td>\n",
       "      <td>NaN</td>\n",
       "      <td>NaN</td>\n",
       "      <td>NaN</td>\n",
       "      <td>NaN</td>\n",
       "      <td>...</td>\n",
       "      <td>NaN</td>\n",
       "      <td>NaN</td>\n",
       "      <td>NaN</td>\n",
       "      <td>NaN</td>\n",
       "      <td>1.0</td>\n",
       "      <td>NaN</td>\n",
       "      <td>NaN</td>\n",
       "      <td>NaN</td>\n",
       "      <td>NaN</td>\n",
       "      <td>NaN</td>\n",
       "    </tr>\n",
       "    <tr>\n",
       "      <th>bd_gps5_abn_apply</th>\n",
       "      <td>NaN</td>\n",
       "      <td>NaN</td>\n",
       "      <td>NaN</td>\n",
       "      <td>NaN</td>\n",
       "      <td>NaN</td>\n",
       "      <td>NaN</td>\n",
       "      <td>NaN</td>\n",
       "      <td>NaN</td>\n",
       "      <td>NaN</td>\n",
       "      <td>NaN</td>\n",
       "      <td>...</td>\n",
       "      <td>NaN</td>\n",
       "      <td>NaN</td>\n",
       "      <td>NaN</td>\n",
       "      <td>NaN</td>\n",
       "      <td>NaN</td>\n",
       "      <td>NaN</td>\n",
       "      <td>NaN</td>\n",
       "      <td>NaN</td>\n",
       "      <td>NaN</td>\n",
       "      <td>NaN</td>\n",
       "    </tr>\n",
       "    <tr>\n",
       "      <th>bd_addr_abn_spend</th>\n",
       "      <td>NaN</td>\n",
       "      <td>NaN</td>\n",
       "      <td>NaN</td>\n",
       "      <td>NaN</td>\n",
       "      <td>NaN</td>\n",
       "      <td>NaN</td>\n",
       "      <td>NaN</td>\n",
       "      <td>NaN</td>\n",
       "      <td>NaN</td>\n",
       "      <td>NaN</td>\n",
       "      <td>...</td>\n",
       "      <td>NaN</td>\n",
       "      <td>NaN</td>\n",
       "      <td>NaN</td>\n",
       "      <td>NaN</td>\n",
       "      <td>NaN</td>\n",
       "      <td>NaN</td>\n",
       "      <td>1.0</td>\n",
       "      <td>NaN</td>\n",
       "      <td>NaN</td>\n",
       "      <td>NaN</td>\n",
       "    </tr>\n",
       "    <tr>\n",
       "      <th>bd_gps5_abn_spend</th>\n",
       "      <td>NaN</td>\n",
       "      <td>NaN</td>\n",
       "      <td>NaN</td>\n",
       "      <td>NaN</td>\n",
       "      <td>NaN</td>\n",
       "      <td>NaN</td>\n",
       "      <td>NaN</td>\n",
       "      <td>NaN</td>\n",
       "      <td>NaN</td>\n",
       "      <td>NaN</td>\n",
       "      <td>...</td>\n",
       "      <td>NaN</td>\n",
       "      <td>NaN</td>\n",
       "      <td>NaN</td>\n",
       "      <td>NaN</td>\n",
       "      <td>NaN</td>\n",
       "      <td>NaN</td>\n",
       "      <td>NaN</td>\n",
       "      <td>NaN</td>\n",
       "      <td>NaN</td>\n",
       "      <td>NaN</td>\n",
       "    </tr>\n",
       "    <tr>\n",
       "      <th>dist_gps5_abn_beh</th>\n",
       "      <td>NaN</td>\n",
       "      <td>NaN</td>\n",
       "      <td>NaN</td>\n",
       "      <td>NaN</td>\n",
       "      <td>NaN</td>\n",
       "      <td>NaN</td>\n",
       "      <td>NaN</td>\n",
       "      <td>NaN</td>\n",
       "      <td>NaN</td>\n",
       "      <td>NaN</td>\n",
       "      <td>...</td>\n",
       "      <td>NaN</td>\n",
       "      <td>NaN</td>\n",
       "      <td>NaN</td>\n",
       "      <td>NaN</td>\n",
       "      <td>NaN</td>\n",
       "      <td>NaN</td>\n",
       "      <td>NaN</td>\n",
       "      <td>NaN</td>\n",
       "      <td>NaN</td>\n",
       "      <td>NaN</td>\n",
       "    </tr>\n",
       "    <tr>\n",
       "      <th>dist_gps5_abn_spend</th>\n",
       "      <td>NaN</td>\n",
       "      <td>NaN</td>\n",
       "      <td>NaN</td>\n",
       "      <td>NaN</td>\n",
       "      <td>NaN</td>\n",
       "      <td>NaN</td>\n",
       "      <td>NaN</td>\n",
       "      <td>NaN</td>\n",
       "      <td>NaN</td>\n",
       "      <td>NaN</td>\n",
       "      <td>...</td>\n",
       "      <td>NaN</td>\n",
       "      <td>NaN</td>\n",
       "      <td>NaN</td>\n",
       "      <td>NaN</td>\n",
       "      <td>NaN</td>\n",
       "      <td>NaN</td>\n",
       "      <td>NaN</td>\n",
       "      <td>NaN</td>\n",
       "      <td>NaN</td>\n",
       "      <td>1.0</td>\n",
       "    </tr>\n",
       "  </tbody>\n",
       "</table>\n",
       "<p>35 rows × 35 columns</p>\n",
       "</div>"
      ],
      "text/plain": [
       "                            type   cs  ls_od_b_6m  ls_od_b_1y  ls_od_b_2y  \\\n",
       "type                         1.0  NaN         NaN         NaN         NaN   \n",
       "cs                           NaN  1.0         NaN         NaN         NaN   \n",
       "ls_od_b_6m                   NaN  NaN    1.000000    0.545897         NaN   \n",
       "ls_od_b_1y                   NaN  NaN    0.545897    1.000000    0.548319   \n",
       "ls_od_b_2y                   NaN  NaN         NaN    0.548319    1.000000   \n",
       "ls_od_f_1t                   NaN  NaN         NaN         NaN         NaN   \n",
       "ls_od_f_3t                   NaN  NaN    0.819558         NaN         NaN   \n",
       "ls_od_f_6t                   NaN  NaN         NaN    0.653162         NaN   \n",
       "xc_behavior                  NaN  NaN         NaN         NaN         NaN   \n",
       "xc_overloan                  NaN  NaN         NaN         NaN         NaN   \n",
       "xc_overdue                   NaN  NaN         NaN         NaN         NaN   \n",
       "xc_record                    NaN  NaN         NaN         NaN         NaN   \n",
       "rv                           NaN  NaN         NaN         NaN         NaN   \n",
       "rc_idname_multi              NaN  NaN         NaN         NaN         NaN   \n",
       "rc_relation_age              NaN  NaN         NaN         NaN         NaN   \n",
       "rc_relation_cnt_name_phone   NaN  NaN         NaN         NaN         NaN   \n",
       "rc_relation_multi            NaN  NaN         NaN         NaN         NaN   \n",
       "rc_relation_cnt              NaN  NaN         NaN         NaN         NaN   \n",
       "ls_cr                        NaN  NaN         NaN         NaN         NaN   \n",
       "ls_cr_cl                     NaN  NaN         NaN         NaN         NaN   \n",
       "ls_gp                        NaN  NaN         NaN         NaN         NaN   \n",
       "ls_gp_cl                     NaN  NaN         NaN         NaN         NaN   \n",
       "ls_nw                        NaN  NaN         NaN         NaN         NaN   \n",
       "ls_nd                        NaN  NaN         NaN         NaN         NaN   \n",
       "ld_od                        NaN  NaN         NaN         NaN         NaN   \n",
       "ld_rc                        NaN  NaN         NaN         NaN         NaN   \n",
       "ld_xc                        NaN  NaN         NaN         NaN         NaN   \n",
       "bs_gps5                      NaN  NaN         NaN         NaN         NaN   \n",
       "bs_add5                      NaN  NaN         NaN         NaN         NaN   \n",
       "bd_addr_abn_apply            NaN  NaN         NaN         NaN         NaN   \n",
       "bd_gps5_abn_apply            NaN  NaN         NaN         NaN         NaN   \n",
       "bd_addr_abn_spend            NaN  NaN         NaN         NaN         NaN   \n",
       "bd_gps5_abn_spend            NaN  NaN         NaN         NaN         NaN   \n",
       "dist_gps5_abn_beh            NaN  NaN         NaN         NaN         NaN   \n",
       "dist_gps5_abn_spend          NaN  NaN         NaN         NaN         NaN   \n",
       "\n",
       "                            ls_od_f_1t  ls_od_f_3t  ls_od_f_6t  xc_behavior  \\\n",
       "type                               NaN         NaN         NaN          NaN   \n",
       "cs                                 NaN         NaN         NaN          NaN   \n",
       "ls_od_b_6m                         NaN    0.819558         NaN          NaN   \n",
       "ls_od_b_1y                         NaN         NaN    0.653162          NaN   \n",
       "ls_od_b_2y                         NaN         NaN         NaN          NaN   \n",
       "ls_od_f_1t                         1.0         NaN         NaN          NaN   \n",
       "ls_od_f_3t                         NaN    1.000000         NaN          NaN   \n",
       "ls_od_f_6t                         NaN         NaN    1.000000          NaN   \n",
       "xc_behavior                        NaN         NaN         NaN          1.0   \n",
       "xc_overloan                        NaN         NaN         NaN          NaN   \n",
       "xc_overdue                         NaN         NaN         NaN          NaN   \n",
       "xc_record                          NaN         NaN         NaN          NaN   \n",
       "rv                                 NaN         NaN         NaN          NaN   \n",
       "rc_idname_multi                    NaN         NaN         NaN          NaN   \n",
       "rc_relation_age                    NaN         NaN         NaN          NaN   \n",
       "rc_relation_cnt_name_phone         NaN         NaN         NaN          NaN   \n",
       "rc_relation_multi                  NaN         NaN         NaN          NaN   \n",
       "rc_relation_cnt                    NaN         NaN         NaN          NaN   \n",
       "ls_cr                              NaN         NaN         NaN          NaN   \n",
       "ls_cr_cl                           NaN         NaN         NaN          NaN   \n",
       "ls_gp                              NaN         NaN         NaN          NaN   \n",
       "ls_gp_cl                           NaN         NaN         NaN          NaN   \n",
       "ls_nw                              NaN         NaN         NaN          NaN   \n",
       "ls_nd                              NaN         NaN         NaN          NaN   \n",
       "ld_od                              NaN         NaN         NaN          NaN   \n",
       "ld_rc                              NaN         NaN         NaN          NaN   \n",
       "ld_xc                              NaN         NaN         NaN          NaN   \n",
       "bs_gps5                            NaN         NaN         NaN          NaN   \n",
       "bs_add5                            NaN         NaN         NaN          NaN   \n",
       "bd_addr_abn_apply                  NaN         NaN         NaN          NaN   \n",
       "bd_gps5_abn_apply                  NaN         NaN         NaN          NaN   \n",
       "bd_addr_abn_spend                  NaN         NaN         NaN          NaN   \n",
       "bd_gps5_abn_spend                  NaN         NaN         NaN          NaN   \n",
       "dist_gps5_abn_beh                  NaN         NaN         NaN          NaN   \n",
       "dist_gps5_abn_spend                NaN         NaN         NaN          NaN   \n",
       "\n",
       "                            xc_overloan         ...           ld_rc     ld_xc  \\\n",
       "type                                NaN         ...             NaN       NaN   \n",
       "cs                                  NaN         ...             NaN       NaN   \n",
       "ls_od_b_6m                          NaN         ...             NaN       NaN   \n",
       "ls_od_b_1y                          NaN         ...             NaN       NaN   \n",
       "ls_od_b_2y                          NaN         ...             NaN       NaN   \n",
       "ls_od_f_1t                          NaN         ...             NaN       NaN   \n",
       "ls_od_f_3t                          NaN         ...             NaN       NaN   \n",
       "ls_od_f_6t                          NaN         ...             NaN       NaN   \n",
       "xc_behavior                         NaN         ...             NaN       NaN   \n",
       "xc_overloan                         1.0         ...             NaN       NaN   \n",
       "xc_overdue                          NaN         ...             NaN       NaN   \n",
       "xc_record                           NaN         ...             NaN       NaN   \n",
       "rv                                  NaN         ...             NaN       NaN   \n",
       "rc_idname_multi                     NaN         ...             NaN       NaN   \n",
       "rc_relation_age                     NaN         ...             NaN       NaN   \n",
       "rc_relation_cnt_name_phone          NaN         ...             NaN       NaN   \n",
       "rc_relation_multi                   NaN         ...             NaN       NaN   \n",
       "rc_relation_cnt                     NaN         ...             NaN       NaN   \n",
       "ls_cr                               NaN         ...             NaN       NaN   \n",
       "ls_cr_cl                            NaN         ...             NaN       NaN   \n",
       "ls_gp                               NaN         ...             NaN       NaN   \n",
       "ls_gp_cl                            NaN         ...             NaN       NaN   \n",
       "ls_nw                               NaN         ...             NaN       NaN   \n",
       "ls_nd                               NaN         ...             NaN       NaN   \n",
       "ld_od                               NaN         ...             NaN       NaN   \n",
       "ld_rc                               NaN         ...             1.0       NaN   \n",
       "ld_xc                               NaN         ...             NaN  1.000000   \n",
       "bs_gps5                             NaN         ...             NaN       NaN   \n",
       "bs_add5                             NaN         ...             NaN  0.834576   \n",
       "bd_addr_abn_apply                   NaN         ...             NaN       NaN   \n",
       "bd_gps5_abn_apply                   NaN         ...             NaN       NaN   \n",
       "bd_addr_abn_spend                   NaN         ...             NaN       NaN   \n",
       "bd_gps5_abn_spend                   NaN         ...             NaN       NaN   \n",
       "dist_gps5_abn_beh                   NaN         ...             NaN       NaN   \n",
       "dist_gps5_abn_spend                 NaN         ...             NaN       NaN   \n",
       "\n",
       "                            bs_gps5   bs_add5  bd_addr_abn_apply  \\\n",
       "type                            NaN       NaN                NaN   \n",
       "cs                              NaN       NaN                NaN   \n",
       "ls_od_b_6m                      NaN       NaN                NaN   \n",
       "ls_od_b_1y                      NaN       NaN                NaN   \n",
       "ls_od_b_2y                      NaN       NaN                NaN   \n",
       "ls_od_f_1t                      NaN       NaN                NaN   \n",
       "ls_od_f_3t                      NaN       NaN                NaN   \n",
       "ls_od_f_6t                      NaN       NaN                NaN   \n",
       "xc_behavior                     NaN       NaN                NaN   \n",
       "xc_overloan                     NaN       NaN                NaN   \n",
       "xc_overdue                      NaN       NaN                NaN   \n",
       "xc_record                       NaN       NaN                NaN   \n",
       "rv                              NaN       NaN                NaN   \n",
       "rc_idname_multi                 NaN       NaN                NaN   \n",
       "rc_relation_age                 NaN       NaN                NaN   \n",
       "rc_relation_cnt_name_phone      NaN       NaN                NaN   \n",
       "rc_relation_multi               NaN       NaN                NaN   \n",
       "rc_relation_cnt                 NaN       NaN                NaN   \n",
       "ls_cr                           NaN       NaN                NaN   \n",
       "ls_cr_cl                        NaN       NaN                NaN   \n",
       "ls_gp                           NaN       NaN                NaN   \n",
       "ls_gp_cl                        NaN       NaN                NaN   \n",
       "ls_nw                           NaN       NaN                NaN   \n",
       "ls_nd                           NaN       NaN                NaN   \n",
       "ld_od                           NaN       NaN                NaN   \n",
       "ld_rc                           NaN       NaN                NaN   \n",
       "ld_xc                           NaN  0.834576                NaN   \n",
       "bs_gps5                         1.0       NaN                NaN   \n",
       "bs_add5                         NaN  1.000000                NaN   \n",
       "bd_addr_abn_apply               NaN       NaN                1.0   \n",
       "bd_gps5_abn_apply               NaN       NaN                NaN   \n",
       "bd_addr_abn_spend               NaN       NaN                NaN   \n",
       "bd_gps5_abn_spend               NaN       NaN                NaN   \n",
       "dist_gps5_abn_beh               NaN       NaN                NaN   \n",
       "dist_gps5_abn_spend             NaN       NaN                NaN   \n",
       "\n",
       "                            bd_gps5_abn_apply  bd_addr_abn_spend  \\\n",
       "type                                      NaN                NaN   \n",
       "cs                                        NaN                NaN   \n",
       "ls_od_b_6m                                NaN                NaN   \n",
       "ls_od_b_1y                                NaN                NaN   \n",
       "ls_od_b_2y                                NaN                NaN   \n",
       "ls_od_f_1t                                NaN                NaN   \n",
       "ls_od_f_3t                                NaN                NaN   \n",
       "ls_od_f_6t                                NaN                NaN   \n",
       "xc_behavior                               NaN                NaN   \n",
       "xc_overloan                               NaN                NaN   \n",
       "xc_overdue                                NaN                NaN   \n",
       "xc_record                                 NaN                NaN   \n",
       "rv                                        NaN                NaN   \n",
       "rc_idname_multi                           NaN                NaN   \n",
       "rc_relation_age                           NaN                NaN   \n",
       "rc_relation_cnt_name_phone                NaN                NaN   \n",
       "rc_relation_multi                         NaN                NaN   \n",
       "rc_relation_cnt                           NaN                NaN   \n",
       "ls_cr                                     NaN                NaN   \n",
       "ls_cr_cl                                  NaN                NaN   \n",
       "ls_gp                                     NaN                NaN   \n",
       "ls_gp_cl                                  NaN                NaN   \n",
       "ls_nw                                     NaN                NaN   \n",
       "ls_nd                                     NaN                NaN   \n",
       "ld_od                                     NaN                NaN   \n",
       "ld_rc                                     NaN                NaN   \n",
       "ld_xc                                     NaN                NaN   \n",
       "bs_gps5                                   NaN                NaN   \n",
       "bs_add5                                   NaN                NaN   \n",
       "bd_addr_abn_apply                         NaN                NaN   \n",
       "bd_gps5_abn_apply                         NaN                NaN   \n",
       "bd_addr_abn_spend                         NaN                1.0   \n",
       "bd_gps5_abn_spend                         NaN                NaN   \n",
       "dist_gps5_abn_beh                         NaN                NaN   \n",
       "dist_gps5_abn_spend                       NaN                NaN   \n",
       "\n",
       "                            bd_gps5_abn_spend  dist_gps5_abn_beh  \\\n",
       "type                                      NaN                NaN   \n",
       "cs                                        NaN                NaN   \n",
       "ls_od_b_6m                                NaN                NaN   \n",
       "ls_od_b_1y                                NaN                NaN   \n",
       "ls_od_b_2y                                NaN                NaN   \n",
       "ls_od_f_1t                                NaN                NaN   \n",
       "ls_od_f_3t                                NaN                NaN   \n",
       "ls_od_f_6t                                NaN                NaN   \n",
       "xc_behavior                               NaN                NaN   \n",
       "xc_overloan                               NaN                NaN   \n",
       "xc_overdue                                NaN                NaN   \n",
       "xc_record                                 NaN                NaN   \n",
       "rv                                        NaN                NaN   \n",
       "rc_idname_multi                           NaN                NaN   \n",
       "rc_relation_age                           NaN                NaN   \n",
       "rc_relation_cnt_name_phone                NaN                NaN   \n",
       "rc_relation_multi                         NaN                NaN   \n",
       "rc_relation_cnt                           NaN                NaN   \n",
       "ls_cr                                     NaN                NaN   \n",
       "ls_cr_cl                                  NaN                NaN   \n",
       "ls_gp                                     NaN                NaN   \n",
       "ls_gp_cl                                  NaN                NaN   \n",
       "ls_nw                                     NaN                NaN   \n",
       "ls_nd                                     NaN                NaN   \n",
       "ld_od                                     NaN                NaN   \n",
       "ld_rc                                     NaN                NaN   \n",
       "ld_xc                                     NaN                NaN   \n",
       "bs_gps5                                   NaN                NaN   \n",
       "bs_add5                                   NaN                NaN   \n",
       "bd_addr_abn_apply                         NaN                NaN   \n",
       "bd_gps5_abn_apply                         NaN                NaN   \n",
       "bd_addr_abn_spend                         NaN                NaN   \n",
       "bd_gps5_abn_spend                         NaN                NaN   \n",
       "dist_gps5_abn_beh                         NaN                NaN   \n",
       "dist_gps5_abn_spend                       NaN                NaN   \n",
       "\n",
       "                            dist_gps5_abn_spend  \n",
       "type                                        NaN  \n",
       "cs                                          NaN  \n",
       "ls_od_b_6m                                  NaN  \n",
       "ls_od_b_1y                                  NaN  \n",
       "ls_od_b_2y                                  NaN  \n",
       "ls_od_f_1t                                  NaN  \n",
       "ls_od_f_3t                                  NaN  \n",
       "ls_od_f_6t                                  NaN  \n",
       "xc_behavior                                 NaN  \n",
       "xc_overloan                                 NaN  \n",
       "xc_overdue                                  NaN  \n",
       "xc_record                                   NaN  \n",
       "rv                                          NaN  \n",
       "rc_idname_multi                             NaN  \n",
       "rc_relation_age                             NaN  \n",
       "rc_relation_cnt_name_phone                  NaN  \n",
       "rc_relation_multi                           NaN  \n",
       "rc_relation_cnt                             NaN  \n",
       "ls_cr                                       NaN  \n",
       "ls_cr_cl                                    NaN  \n",
       "ls_gp                                       NaN  \n",
       "ls_gp_cl                                    NaN  \n",
       "ls_nw                                       NaN  \n",
       "ls_nd                                       NaN  \n",
       "ld_od                                       NaN  \n",
       "ld_rc                                       NaN  \n",
       "ld_xc                                       NaN  \n",
       "bs_gps5                                     NaN  \n",
       "bs_add5                                     NaN  \n",
       "bd_addr_abn_apply                           NaN  \n",
       "bd_gps5_abn_apply                           NaN  \n",
       "bd_addr_abn_spend                           NaN  \n",
       "bd_gps5_abn_spend                           NaN  \n",
       "dist_gps5_abn_beh                           NaN  \n",
       "dist_gps5_abn_spend                         1.0  \n",
       "\n",
       "[35 rows x 35 columns]"
      ]
     },
     "execution_count": 10,
     "metadata": {},
     "output_type": "execute_result"
    }
   ],
   "source": [
    "corr[abs(corr)>0.5]"
   ]
  },
  {
   "cell_type": "markdown",
   "metadata": {},
   "source": [
    "## VAR BINNING RESULT 变量分组结果"
   ]
  },
  {
   "cell_type": "code",
   "execution_count": 6,
   "metadata": {
    "collapsed": false
   },
   "outputs": [
    {
     "name": "stderr",
     "output_type": "stream",
     "text": [
      "C:\\Users\\xiongjun\\AppData\\Local\\Continuum\\Anaconda3\\lib\\site-packages\\pandas\\core\\generic.py:3295: SettingWithCopyWarning: \n",
      "A value is trying to be set on a copy of a slice from a DataFrame\n",
      "\n",
      "See the caveats in the documentation: http://pandas.pydata.org/pandas-docs/stable/indexing.html#indexing-view-versus-copy\n",
      "  self._update_inplace(new_data)\n",
      "C:\\Users\\xiongjun\\sc_func.py:120: SettingWithCopyWarning: \n",
      "A value is trying to be set on a copy of a slice from a DataFrame.\n",
      "Try using .loc[row_indexer,col_indexer] = value instead\n",
      "\n",
      "See the caveats in the documentation: http://pandas.pydata.org/pandas-docs/stable/indexing.html#indexing-view-versus-copy\n",
      "  df['qt_binning'] = df[var].apply(lambda x: map_dict[x])\n"
     ]
    },
    {
     "name": "stdout",
     "output_type": "stream",
     "text": [
      "cs                            1.249039e-03\n",
      "ls_od_b_6m                    4.061105e-27\n",
      "ls_od_b_1y                    4.061105e-27\n",
      "ls_od_b_2y                    4.061105e-27\n",
      "ls_od_f_1t                    4.061105e-27\n",
      "ls_od_f_3t                    4.061105e-27\n",
      "ls_od_f_6t                    4.061105e-27\n",
      "xc_behavior                   4.061105e-27\n",
      "xc_overloan                   1.583521e-01\n",
      "xc_overdue                    4.061105e-27\n",
      "xc_record                     4.061105e-27\n",
      "rv                            4.061105e-27\n",
      "rc_idname_multi               4.061105e-27\n",
      "rc_relation_age               4.061105e-27\n",
      "rc_relation_cnt_name_phone    4.061105e-27\n",
      "rc_relation_multi             4.061105e-27\n",
      "rc_relation_cnt               4.061105e-27\n",
      "ls_cr                         4.061105e-27\n",
      "ls_cr_cl                      1.683890e-01\n",
      "ls_gp                         4.061105e-27\n",
      "ls_gp_cl                      4.061105e-27\n",
      "ls_nw                         4.061105e-27\n",
      "ls_nd                         4.061105e-27\n",
      "ld_od                         4.061105e-27\n",
      "ld_rc                         4.061105e-27\n",
      "ld_xc                         1.518492e-02\n",
      "bs_gps5                       4.061105e-27\n",
      "bs_add5                       1.728978e-02\n",
      "bd_addr_abn_apply             4.061105e-27\n",
      "bd_gps5_abn_apply             4.061105e-27\n",
      "bd_addr_abn_spend             4.061105e-27\n",
      "bd_gps5_abn_spend             4.061105e-27\n",
      "dist_gps5_abn_beh             4.061105e-27\n",
      "dist_gps5_abn_spend           4.061105e-27\n",
      "dtype: float64\n"
     ]
    }
   ],
   "source": [
    "#先平均分组看各变量的IV值\n",
    "num_iv = pd.Series()\n",
    "columns=list(data_form.columns)\n",
    "for c in range(1,len(columns)):\n",
    "         num_iv = num_iv.append(variable_binning(data_form, target,columns[c], 5,'iv'))\n",
    "print(num_iv)"
   ]
  },
  {
   "cell_type": "markdown",
   "metadata": {
    "collapsed": true
   },
   "source": [
    "## 逐个变量分组观察IV、占比、分组比例"
   ]
  },
  {
   "cell_type": "code",
   "execution_count": 12,
   "metadata": {
    "collapsed": false
   },
   "outputs": [
    {
     "name": "stderr",
     "output_type": "stream",
     "text": [
      "C:\\Users\\xiongjun\\AppData\\Local\\Continuum\\Anaconda3\\lib\\site-packages\\pandas\\core\\generic.py:3295: SettingWithCopyWarning: \n",
      "A value is trying to be set on a copy of a slice from a DataFrame\n",
      "\n",
      "See the caveats in the documentation: http://pandas.pydata.org/pandas-docs/stable/indexing.html#indexing-view-versus-copy\n",
      "  self._update_inplace(new_data)\n",
      "C:\\Users\\xiongjun\\sc_func.py:124: SettingWithCopyWarning: \n",
      "A value is trying to be set on a copy of a slice from a DataFrame.\n",
      "Try using .loc[row_indexer,col_indexer] = value instead\n",
      "\n",
      "See the caveats in the documentation: http://pandas.pydata.org/pandas-docs/stable/indexing.html#indexing-view-versus-copy\n",
      "  df['qt_binning'] = var_bins_series(df[var], bins, side = side)\n"
     ]
    },
    {
     "data": {
      "image/png": "[encoded data removed]",
      "text/plain": [
       "<matplotlib.figure.Figure at 0x86173c8>"
      ]
     },
     "metadata": {},
     "output_type": "display_data"
    },
    {
     "name": "stdout",
     "output_type": "stream",
     "text": [
      "cs 变量的IV值为 0.0021148399183208142\n"
     ]
    },
    {
     "data": {
      "text/html": [
       "<div>\n",
       "<table border=\"1\" class=\"dataframe\">\n",
       "  <thead>\n",
       "    <tr style=\"text-align: right;\">\n",
       "      <th></th>\n",
       "      <th>Lbound</th>\n",
       "      <th>Ubound</th>\n",
       "      <th>Totalcnt</th>\n",
       "      <th>PctTotal</th>\n",
       "      <th>Y_count</th>\n",
       "      <th>n_Y_count</th>\n",
       "      <th>Y_pct</th>\n",
       "      <th>n_Y_pct</th>\n",
       "      <th>Y_rate</th>\n",
       "      <th>WOE</th>\n",
       "      <th>IV</th>\n",
       "    </tr>\n",
       "    <tr>\n",
       "      <th>qt_binning</th>\n",
       "      <th></th>\n",
       "      <th></th>\n",
       "      <th></th>\n",
       "      <th></th>\n",
       "      <th></th>\n",
       "      <th></th>\n",
       "      <th></th>\n",
       "      <th></th>\n",
       "      <th></th>\n",
       "      <th></th>\n",
       "      <th></th>\n",
       "    </tr>\n",
       "  </thead>\n",
       "  <tbody>\n",
       "    <tr>\n",
       "      <th>(-inf, 0]</th>\n",
       "      <td>0</td>\n",
       "      <td>0</td>\n",
       "      <td>19272</td>\n",
       "      <td>0.657254</td>\n",
       "      <td>1706</td>\n",
       "      <td>17566</td>\n",
       "      <td>0.673510</td>\n",
       "      <td>0.655717</td>\n",
       "      <td>0.088522</td>\n",
       "      <td>0.026773</td>\n",
       "      <td>0.000476</td>\n",
       "    </tr>\n",
       "    <tr>\n",
       "      <th>(0, 4]</th>\n",
       "      <td>3</td>\n",
       "      <td>4</td>\n",
       "      <td>8822</td>\n",
       "      <td>0.300866</td>\n",
       "      <td>737</td>\n",
       "      <td>8085</td>\n",
       "      <td>0.290959</td>\n",
       "      <td>0.301803</td>\n",
       "      <td>0.083541</td>\n",
       "      <td>-0.036591</td>\n",
       "      <td>0.000397</td>\n",
       "    </tr>\n",
       "    <tr>\n",
       "      <th>(5, 6]</th>\n",
       "      <td>6</td>\n",
       "      <td>6</td>\n",
       "      <td>288</td>\n",
       "      <td>0.009822</td>\n",
       "      <td>21</td>\n",
       "      <td>267</td>\n",
       "      <td>0.008291</td>\n",
       "      <td>0.009967</td>\n",
       "      <td>0.072917</td>\n",
       "      <td>-0.184139</td>\n",
       "      <td>0.000309</td>\n",
       "    </tr>\n",
       "    <tr>\n",
       "      <th>(7, 8]</th>\n",
       "      <td>8</td>\n",
       "      <td>8</td>\n",
       "      <td>940</td>\n",
       "      <td>0.032058</td>\n",
       "      <td>69</td>\n",
       "      <td>871</td>\n",
       "      <td>0.027240</td>\n",
       "      <td>0.032513</td>\n",
       "      <td>0.073404</td>\n",
       "      <td>-0.176948</td>\n",
       "      <td>0.000933</td>\n",
       "    </tr>\n",
       "  </tbody>\n",
       "</table>\n",
       "</div>"
      ],
      "text/plain": [
       "            Lbound  Ubound  Totalcnt  PctTotal  Y_count  n_Y_count     Y_pct  \\\n",
       "qt_binning                                                                     \n",
       "(-inf, 0]        0       0     19272  0.657254     1706      17566  0.673510   \n",
       "(0, 4]           3       4      8822  0.300866      737       8085  0.290959   \n",
       "(5, 6]           6       6       288  0.009822       21        267  0.008291   \n",
       "(7, 8]           8       8       940  0.032058       69        871  0.027240   \n",
       "\n",
       "             n_Y_pct    Y_rate       WOE        IV  \n",
       "qt_binning                                          \n",
       "(-inf, 0]   0.655717  0.088522  0.026773  0.000476  \n",
       "(0, 4]      0.301803  0.083541 -0.036591  0.000397  \n",
       "(5, 6]      0.009967  0.072917 -0.184139  0.000309  \n",
       "(7, 8]      0.032513  0.073404 -0.176948  0.000933  "
      ]
     },
     "execution_count": 12,
     "metadata": {},
     "output_type": "execute_result"
    }
   ],
   "source": [
    "var_name = 'cs' #变量\n",
    "var_bin = variable_binning(data_form, target, var_name, [0,4,5,6,7,8], 'bins')\n",
    "binning_plot(var_bin)\n",
    "print(var_name,'变量的IV值为',var_bin['IV'].sum())\n",
    "var_bin_cs=var_bin['WOE']\n",
    "var_bin.sort_values('Lbound')\n"
   ]
  },
  {
   "cell_type": "code",
   "execution_count": 13,
   "metadata": {
    "collapsed": false,
    "scrolled": true
   },
   "outputs": [
    {
     "name": "stderr",
     "output_type": "stream",
     "text": [
      "C:\\Users\\xiongjun\\AppData\\Local\\Continuum\\Anaconda3\\lib\\site-packages\\pandas\\core\\generic.py:3295: SettingWithCopyWarning: \n",
      "A value is trying to be set on a copy of a slice from a DataFrame\n",
      "\n",
      "See the caveats in the documentation: http://pandas.pydata.org/pandas-docs/stable/indexing.html#indexing-view-versus-copy\n",
      "  self._update_inplace(new_data)\n",
      "C:\\Users\\xiongjun\\sc_func.py:124: SettingWithCopyWarning: \n",
      "A value is trying to be set on a copy of a slice from a DataFrame.\n",
      "Try using .loc[row_indexer,col_indexer] = value instead\n",
      "\n",
      "See the caveats in the documentation: http://pandas.pydata.org/pandas-docs/stable/indexing.html#indexing-view-versus-copy\n",
      "  df['qt_binning'] = var_bins_series(df[var], bins, side = side)\n"
     ]
    },
    {
     "data": {
      "image/png": "[encoded data removed]",
      "text/plain": [
       "<matplotlib.figure.Figure at 0x8fd93c8>"
      ]
     },
     "metadata": {},
     "output_type": "display_data"
    },
    {
     "name": "stdout",
     "output_type": "stream",
     "text": [
      "ls_od_b_2y 变量的IV值为 0.0002907329197208999\n"
     ]
    },
    {
     "data": {
      "text/html": [
       "<div>\n",
       "<table border=\"1\" class=\"dataframe\">\n",
       "  <thead>\n",
       "    <tr style=\"text-align: right;\">\n",
       "      <th></th>\n",
       "      <th>Lbound</th>\n",
       "      <th>Ubound</th>\n",
       "      <th>Totalcnt</th>\n",
       "      <th>PctTotal</th>\n",
       "      <th>Y_count</th>\n",
       "      <th>n_Y_count</th>\n",
       "      <th>Y_pct</th>\n",
       "      <th>n_Y_pct</th>\n",
       "      <th>Y_rate</th>\n",
       "      <th>WOE</th>\n",
       "      <th>IV</th>\n",
       "    </tr>\n",
       "    <tr>\n",
       "      <th>qt_binning</th>\n",
       "      <th></th>\n",
       "      <th></th>\n",
       "      <th></th>\n",
       "      <th></th>\n",
       "      <th></th>\n",
       "      <th></th>\n",
       "      <th></th>\n",
       "      <th></th>\n",
       "      <th></th>\n",
       "      <th></th>\n",
       "      <th></th>\n",
       "    </tr>\n",
       "  </thead>\n",
       "  <tbody>\n",
       "    <tr>\n",
       "      <th>(-inf, 0]</th>\n",
       "      <td>0</td>\n",
       "      <td>0</td>\n",
       "      <td>29301</td>\n",
       "      <td>0.999284</td>\n",
       "      <td>2530</td>\n",
       "      <td>26771</td>\n",
       "      <td>0.998816</td>\n",
       "      <td>0.999328</td>\n",
       "      <td>0.086345</td>\n",
       "      <td>-0.000513</td>\n",
       "      <td>2.628477e-07</td>\n",
       "    </tr>\n",
       "    <tr>\n",
       "      <th>(0, +inf)</th>\n",
       "      <td>1</td>\n",
       "      <td>1</td>\n",
       "      <td>21</td>\n",
       "      <td>0.000716</td>\n",
       "      <td>3</td>\n",
       "      <td>18</td>\n",
       "      <td>0.001184</td>\n",
       "      <td>0.000672</td>\n",
       "      <td>0.142857</td>\n",
       "      <td>0.566828</td>\n",
       "      <td>2.904701e-04</td>\n",
       "    </tr>\n",
       "  </tbody>\n",
       "</table>\n",
       "</div>"
      ],
      "text/plain": [
       "            Lbound  Ubound  Totalcnt  PctTotal  Y_count  n_Y_count     Y_pct  \\\n",
       "qt_binning                                                                     \n",
       "(-inf, 0]        0       0     29301  0.999284     2530      26771  0.998816   \n",
       "(0, +inf)        1       1        21  0.000716        3         18  0.001184   \n",
       "\n",
       "             n_Y_pct    Y_rate       WOE            IV  \n",
       "qt_binning                                              \n",
       "(-inf, 0]   0.999328  0.086345 -0.000513  2.628477e-07  \n",
       "(0, +inf)   0.000672  0.142857  0.566828  2.904701e-04  "
      ]
     },
     "execution_count": 13,
     "metadata": {},
     "output_type": "execute_result"
    }
   ],
   "source": [
    "var_name = 'ls_od_b_2y' #变量\n",
    "var_bin = variable_binning(data_form, target, var_name, [0], 'bins')\n",
    "binning_plot(var_bin)\n",
    "print(var_name,'变量的IV值为',var_bin['IV'].sum())\n",
    "var_bin_od=var_bin['WOE']\n",
    "var_bin.sort_values('Lbound')\n"
   ]
  },
  {
   "cell_type": "code",
   "execution_count": 14,
   "metadata": {
    "collapsed": false
   },
   "outputs": [
    {
     "name": "stderr",
     "output_type": "stream",
     "text": [
      "C:\\Users\\xiongjun\\AppData\\Local\\Continuum\\Anaconda3\\lib\\site-packages\\pandas\\core\\generic.py:3295: SettingWithCopyWarning: \n",
      "A value is trying to be set on a copy of a slice from a DataFrame\n",
      "\n",
      "See the caveats in the documentation: http://pandas.pydata.org/pandas-docs/stable/indexing.html#indexing-view-versus-copy\n",
      "  self._update_inplace(new_data)\n",
      "C:\\Users\\xiongjun\\sc_func.py:124: SettingWithCopyWarning: \n",
      "A value is trying to be set on a copy of a slice from a DataFrame.\n",
      "Try using .loc[row_indexer,col_indexer] = value instead\n",
      "\n",
      "See the caveats in the documentation: http://pandas.pydata.org/pandas-docs/stable/indexing.html#indexing-view-versus-copy\n",
      "  df['qt_binning'] = var_bins_series(df[var], bins, side = side)\n"
     ]
    },
    {
     "data": {
      "image/png": "[encoded data removed]",
      "text/plain": [
       "<matplotlib.figure.Figure at 0x45fedd8>"
      ]
     },
     "metadata": {},
     "output_type": "display_data"
    },
    {
     "name": "stdout",
     "output_type": "stream",
     "text": [
      "xc_behavior 变量的IV值为 0.005567257848582282\n"
     ]
    },
    {
     "data": {
      "text/html": [
       "<div>\n",
       "<table border=\"1\" class=\"dataframe\">\n",
       "  <thead>\n",
       "    <tr style=\"text-align: right;\">\n",
       "      <th></th>\n",
       "      <th>Lbound</th>\n",
       "      <th>Ubound</th>\n",
       "      <th>Totalcnt</th>\n",
       "      <th>PctTotal</th>\n",
       "      <th>Y_count</th>\n",
       "      <th>n_Y_count</th>\n",
       "      <th>Y_pct</th>\n",
       "      <th>n_Y_pct</th>\n",
       "      <th>Y_rate</th>\n",
       "      <th>WOE</th>\n",
       "      <th>IV</th>\n",
       "    </tr>\n",
       "    <tr>\n",
       "      <th>qt_binning</th>\n",
       "      <th></th>\n",
       "      <th></th>\n",
       "      <th></th>\n",
       "      <th></th>\n",
       "      <th></th>\n",
       "      <th></th>\n",
       "      <th></th>\n",
       "      <th></th>\n",
       "      <th></th>\n",
       "      <th></th>\n",
       "      <th></th>\n",
       "    </tr>\n",
       "  </thead>\n",
       "  <tbody>\n",
       "    <tr>\n",
       "      <th>(-inf, 0]</th>\n",
       "      <td>0</td>\n",
       "      <td>0</td>\n",
       "      <td>27265</td>\n",
       "      <td>0.929848</td>\n",
       "      <td>2309</td>\n",
       "      <td>24956</td>\n",
       "      <td>0.911567</td>\n",
       "      <td>0.931576</td>\n",
       "      <td>0.084687</td>\n",
       "      <td>-0.021713</td>\n",
       "      <td>0.000434</td>\n",
       "    </tr>\n",
       "    <tr>\n",
       "      <th>(0, +inf)</th>\n",
       "      <td>1</td>\n",
       "      <td>1</td>\n",
       "      <td>2057</td>\n",
       "      <td>0.070152</td>\n",
       "      <td>224</td>\n",
       "      <td>1833</td>\n",
       "      <td>0.088433</td>\n",
       "      <td>0.068424</td>\n",
       "      <td>0.108896</td>\n",
       "      <td>0.256524</td>\n",
       "      <td>0.005133</td>\n",
       "    </tr>\n",
       "  </tbody>\n",
       "</table>\n",
       "</div>"
      ],
      "text/plain": [
       "            Lbound  Ubound  Totalcnt  PctTotal  Y_count  n_Y_count     Y_pct  \\\n",
       "qt_binning                                                                     \n",
       "(-inf, 0]        0       0     27265  0.929848     2309      24956  0.911567   \n",
       "(0, +inf)        1       1      2057  0.070152      224       1833  0.088433   \n",
       "\n",
       "             n_Y_pct    Y_rate       WOE        IV  \n",
       "qt_binning                                          \n",
       "(-inf, 0]   0.931576  0.084687 -0.021713  0.000434  \n",
       "(0, +inf)   0.068424  0.108896  0.256524  0.005133  "
      ]
     },
     "execution_count": 14,
     "metadata": {},
     "output_type": "execute_result"
    }
   ],
   "source": [
    "var_name = 'xc_behavior' #变量\n",
    "var_bin = variable_binning(data_form, target, var_name, [0], 'bins')\n",
    "binning_plot(var_bin)\n",
    "print(var_name,'变量的IV值为',var_bin['IV'].sum())\n",
    "var_bin_xc_behavior=var_bin['WOE']\n",
    "var_bin.sort_values('Lbound')\n"
   ]
  },
  {
   "cell_type": "code",
   "execution_count": 15,
   "metadata": {
    "collapsed": false
   },
   "outputs": [
    {
     "name": "stderr",
     "output_type": "stream",
     "text": [
      "C:\\Users\\xiongjun\\AppData\\Local\\Continuum\\Anaconda3\\lib\\site-packages\\pandas\\core\\generic.py:3295: SettingWithCopyWarning: \n",
      "A value is trying to be set on a copy of a slice from a DataFrame\n",
      "\n",
      "See the caveats in the documentation: http://pandas.pydata.org/pandas-docs/stable/indexing.html#indexing-view-versus-copy\n",
      "  self._update_inplace(new_data)\n",
      "C:\\Users\\xiongjun\\sc_func.py:124: SettingWithCopyWarning: \n",
      "A value is trying to be set on a copy of a slice from a DataFrame.\n",
      "Try using .loc[row_indexer,col_indexer] = value instead\n",
      "\n",
      "See the caveats in the documentation: http://pandas.pydata.org/pandas-docs/stable/indexing.html#indexing-view-versus-copy\n",
      "  df['qt_binning'] = var_bins_series(df[var], bins, side = side)\n"
     ]
    },
    {
     "data": {
      "image/png": "[encoded data removed]",
      "text/plain": [
       "<matplotlib.figure.Figure at 0x24e4c50>"
      ]
     },
     "metadata": {},
     "output_type": "display_data"
    },
    {
     "name": "stdout",
     "output_type": "stream",
     "text": [
      "xc_overloan 变量的IV值为 0.15835213401876436\n"
     ]
    },
    {
     "data": {
      "text/html": [
       "<div>\n",
       "<table border=\"1\" class=\"dataframe\">\n",
       "  <thead>\n",
       "    <tr style=\"text-align: right;\">\n",
       "      <th></th>\n",
       "      <th>Lbound</th>\n",
       "      <th>Ubound</th>\n",
       "      <th>Totalcnt</th>\n",
       "      <th>PctTotal</th>\n",
       "      <th>Y_count</th>\n",
       "      <th>n_Y_count</th>\n",
       "      <th>Y_pct</th>\n",
       "      <th>n_Y_pct</th>\n",
       "      <th>Y_rate</th>\n",
       "      <th>WOE</th>\n",
       "      <th>IV</th>\n",
       "    </tr>\n",
       "    <tr>\n",
       "      <th>qt_binning</th>\n",
       "      <th></th>\n",
       "      <th></th>\n",
       "      <th></th>\n",
       "      <th></th>\n",
       "      <th></th>\n",
       "      <th></th>\n",
       "      <th></th>\n",
       "      <th></th>\n",
       "      <th></th>\n",
       "      <th></th>\n",
       "      <th></th>\n",
       "    </tr>\n",
       "  </thead>\n",
       "  <tbody>\n",
       "    <tr>\n",
       "      <th>(-inf, 0]</th>\n",
       "      <td>0</td>\n",
       "      <td>0</td>\n",
       "      <td>17033</td>\n",
       "      <td>0.580895</td>\n",
       "      <td>1014</td>\n",
       "      <td>16019</td>\n",
       "      <td>0.400316</td>\n",
       "      <td>0.597969</td>\n",
       "      <td>0.059531</td>\n",
       "      <td>-0.401286</td>\n",
       "      <td>0.079316</td>\n",
       "    </tr>\n",
       "    <tr>\n",
       "      <th>(0, +inf)</th>\n",
       "      <td>1</td>\n",
       "      <td>1</td>\n",
       "      <td>12289</td>\n",
       "      <td>0.419105</td>\n",
       "      <td>1519</td>\n",
       "      <td>10770</td>\n",
       "      <td>0.599684</td>\n",
       "      <td>0.402031</td>\n",
       "      <td>0.123606</td>\n",
       "      <td>0.399875</td>\n",
       "      <td>0.079037</td>\n",
       "    </tr>\n",
       "  </tbody>\n",
       "</table>\n",
       "</div>"
      ],
      "text/plain": [
       "            Lbound  Ubound  Totalcnt  PctTotal  Y_count  n_Y_count     Y_pct  \\\n",
       "qt_binning                                                                     \n",
       "(-inf, 0]        0       0     17033  0.580895     1014      16019  0.400316   \n",
       "(0, +inf)        1       1     12289  0.419105     1519      10770  0.599684   \n",
       "\n",
       "             n_Y_pct    Y_rate       WOE        IV  \n",
       "qt_binning                                          \n",
       "(-inf, 0]   0.597969  0.059531 -0.401286  0.079316  \n",
       "(0, +inf)   0.402031  0.123606  0.399875  0.079037  "
      ]
     },
     "execution_count": 15,
     "metadata": {},
     "output_type": "execute_result"
    }
   ],
   "source": [
    "var_name = 'xc_overloan' #变量\n",
    "var_bin = variable_binning(data_form, target, var_name, [0], 'bins')\n",
    "binning_plot(var_bin)\n",
    "print(var_name,'变量的IV值为',var_bin['IV'].sum())\n",
    "var_bin_xc_overloan=var_bin['WOE']\n",
    "var_bin.sort_values('Lbound')"
   ]
  },
  {
   "cell_type": "code",
   "execution_count": 16,
   "metadata": {
    "collapsed": false,
    "scrolled": true
   },
   "outputs": [
    {
     "name": "stderr",
     "output_type": "stream",
     "text": [
      "C:\\Users\\xiongjun\\AppData\\Local\\Continuum\\Anaconda3\\lib\\site-packages\\pandas\\core\\generic.py:3295: SettingWithCopyWarning: \n",
      "A value is trying to be set on a copy of a slice from a DataFrame\n",
      "\n",
      "See the caveats in the documentation: http://pandas.pydata.org/pandas-docs/stable/indexing.html#indexing-view-versus-copy\n",
      "  self._update_inplace(new_data)\n",
      "C:\\Users\\xiongjun\\sc_func.py:124: SettingWithCopyWarning: \n",
      "A value is trying to be set on a copy of a slice from a DataFrame.\n",
      "Try using .loc[row_indexer,col_indexer] = value instead\n",
      "\n",
      "See the caveats in the documentation: http://pandas.pydata.org/pandas-docs/stable/indexing.html#indexing-view-versus-copy\n",
      "  df['qt_binning'] = var_bins_series(df[var], bins, side = side)\n"
     ]
    },
    {
     "data": {
      "image/png": "[encoded data removed]",
      "text/plain": [
       "<matplotlib.figure.Figure at 0x5924fd0>"
      ]
     },
     "metadata": {},
     "output_type": "display_data"
    },
    {
     "name": "stdout",
     "output_type": "stream",
     "text": [
      "xc_overdue 变量的IV值为 0.006240199135400683\n"
     ]
    },
    {
     "data": {
      "text/html": [
       "<div>\n",
       "<table border=\"1\" class=\"dataframe\">\n",
       "  <thead>\n",
       "    <tr style=\"text-align: right;\">\n",
       "      <th></th>\n",
       "      <th>Lbound</th>\n",
       "      <th>Ubound</th>\n",
       "      <th>Totalcnt</th>\n",
       "      <th>PctTotal</th>\n",
       "      <th>Y_count</th>\n",
       "      <th>n_Y_count</th>\n",
       "      <th>Y_pct</th>\n",
       "      <th>n_Y_pct</th>\n",
       "      <th>Y_rate</th>\n",
       "      <th>WOE</th>\n",
       "      <th>IV</th>\n",
       "    </tr>\n",
       "    <tr>\n",
       "      <th>qt_binning</th>\n",
       "      <th></th>\n",
       "      <th></th>\n",
       "      <th></th>\n",
       "      <th></th>\n",
       "      <th></th>\n",
       "      <th></th>\n",
       "      <th></th>\n",
       "      <th></th>\n",
       "      <th></th>\n",
       "      <th></th>\n",
       "      <th></th>\n",
       "    </tr>\n",
       "  </thead>\n",
       "  <tbody>\n",
       "    <tr>\n",
       "      <th>(-inf, 0]</th>\n",
       "      <td>0</td>\n",
       "      <td>0</td>\n",
       "      <td>27377</td>\n",
       "      <td>0.933668</td>\n",
       "      <td>2317</td>\n",
       "      <td>25060</td>\n",
       "      <td>0.914726</td>\n",
       "      <td>0.935459</td>\n",
       "      <td>0.084633</td>\n",
       "      <td>-0.022413</td>\n",
       "      <td>0.000465</td>\n",
       "    </tr>\n",
       "    <tr>\n",
       "      <th>(0, +inf)</th>\n",
       "      <td>1</td>\n",
       "      <td>1</td>\n",
       "      <td>1945</td>\n",
       "      <td>0.066332</td>\n",
       "      <td>216</td>\n",
       "      <td>1729</td>\n",
       "      <td>0.085274</td>\n",
       "      <td>0.064541</td>\n",
       "      <td>0.111054</td>\n",
       "      <td>0.278567</td>\n",
       "      <td>0.005776</td>\n",
       "    </tr>\n",
       "  </tbody>\n",
       "</table>\n",
       "</div>"
      ],
      "text/plain": [
       "            Lbound  Ubound  Totalcnt  PctTotal  Y_count  n_Y_count     Y_pct  \\\n",
       "qt_binning                                                                     \n",
       "(-inf, 0]        0       0     27377  0.933668     2317      25060  0.914726   \n",
       "(0, +inf)        1       1      1945  0.066332      216       1729  0.085274   \n",
       "\n",
       "             n_Y_pct    Y_rate       WOE        IV  \n",
       "qt_binning                                          \n",
       "(-inf, 0]   0.935459  0.084633 -0.022413  0.000465  \n",
       "(0, +inf)   0.064541  0.111054  0.278567  0.005776  "
      ]
     },
     "execution_count": 16,
     "metadata": {},
     "output_type": "execute_result"
    }
   ],
   "source": [
    "var_name = 'xc_overdue' #变量\n",
    "var_bin = variable_binning(data_form, target, var_name, [0], 'bins')\n",
    "binning_plot(var_bin)\n",
    "print(var_name,'变量的IV值为',var_bin['IV'].sum())\n",
    "var_bin_xc_overdue=var_bin['WOE']\n",
    "var_bin.sort_values('Lbound')"
   ]
  },
  {
   "cell_type": "code",
   "execution_count": 17,
   "metadata": {
    "collapsed": false
   },
   "outputs": [
    {
     "name": "stderr",
     "output_type": "stream",
     "text": [
      "C:\\Users\\xiongjun\\AppData\\Local\\Continuum\\Anaconda3\\lib\\site-packages\\pandas\\core\\generic.py:3295: SettingWithCopyWarning: \n",
      "A value is trying to be set on a copy of a slice from a DataFrame\n",
      "\n",
      "See the caveats in the documentation: http://pandas.pydata.org/pandas-docs/stable/indexing.html#indexing-view-versus-copy\n",
      "  self._update_inplace(new_data)\n",
      "C:\\Users\\xiongjun\\sc_func.py:124: SettingWithCopyWarning: \n",
      "A value is trying to be set on a copy of a slice from a DataFrame.\n",
      "Try using .loc[row_indexer,col_indexer] = value instead\n",
      "\n",
      "See the caveats in the documentation: http://pandas.pydata.org/pandas-docs/stable/indexing.html#indexing-view-versus-copy\n",
      "  df['qt_binning'] = var_bins_series(df[var], bins, side = side)\n"
     ]
    },
    {
     "data": {
      "image/png": "[encoded data removed]",
      "text/plain": [
       "<matplotlib.figure.Figure at 0x5938400>"
      ]
     },
     "metadata": {},
     "output_type": "display_data"
    },
    {
     "name": "stdout",
     "output_type": "stream",
     "text": [
      "xc_record 变量的IV值为 0.0019754448753582423\n"
     ]
    },
    {
     "data": {
      "text/html": [
       "<div>\n",
       "<table border=\"1\" class=\"dataframe\">\n",
       "  <thead>\n",
       "    <tr style=\"text-align: right;\">\n",
       "      <th></th>\n",
       "      <th>Lbound</th>\n",
       "      <th>Ubound</th>\n",
       "      <th>Totalcnt</th>\n",
       "      <th>PctTotal</th>\n",
       "      <th>Y_count</th>\n",
       "      <th>n_Y_count</th>\n",
       "      <th>Y_pct</th>\n",
       "      <th>n_Y_pct</th>\n",
       "      <th>Y_rate</th>\n",
       "      <th>WOE</th>\n",
       "      <th>IV</th>\n",
       "    </tr>\n",
       "    <tr>\n",
       "      <th>qt_binning</th>\n",
       "      <th></th>\n",
       "      <th></th>\n",
       "      <th></th>\n",
       "      <th></th>\n",
       "      <th></th>\n",
       "      <th></th>\n",
       "      <th></th>\n",
       "      <th></th>\n",
       "      <th></th>\n",
       "      <th></th>\n",
       "      <th></th>\n",
       "    </tr>\n",
       "  </thead>\n",
       "  <tbody>\n",
       "    <tr>\n",
       "      <th>(-inf, 0]</th>\n",
       "      <td>0</td>\n",
       "      <td>0</td>\n",
       "      <td>28214</td>\n",
       "      <td>0.962213</td>\n",
       "      <td>2456</td>\n",
       "      <td>25758</td>\n",
       "      <td>0.969601</td>\n",
       "      <td>0.961514</td>\n",
       "      <td>0.087049</td>\n",
       "      <td>0.008376</td>\n",
       "      <td>0.000068</td>\n",
       "    </tr>\n",
       "    <tr>\n",
       "      <th>(0, +inf)</th>\n",
       "      <td>1</td>\n",
       "      <td>1</td>\n",
       "      <td>1108</td>\n",
       "      <td>0.037787</td>\n",
       "      <td>77</td>\n",
       "      <td>1031</td>\n",
       "      <td>0.030399</td>\n",
       "      <td>0.038486</td>\n",
       "      <td>0.069495</td>\n",
       "      <td>-0.235892</td>\n",
       "      <td>0.001908</td>\n",
       "    </tr>\n",
       "  </tbody>\n",
       "</table>\n",
       "</div>"
      ],
      "text/plain": [
       "            Lbound  Ubound  Totalcnt  PctTotal  Y_count  n_Y_count     Y_pct  \\\n",
       "qt_binning                                                                     \n",
       "(-inf, 0]        0       0     28214  0.962213     2456      25758  0.969601   \n",
       "(0, +inf)        1       1      1108  0.037787       77       1031  0.030399   \n",
       "\n",
       "             n_Y_pct    Y_rate       WOE        IV  \n",
       "qt_binning                                          \n",
       "(-inf, 0]   0.961514  0.087049  0.008376  0.000068  \n",
       "(0, +inf)   0.038486  0.069495 -0.235892  0.001908  "
      ]
     },
     "execution_count": 17,
     "metadata": {},
     "output_type": "execute_result"
    }
   ],
   "source": [
    "var_name = 'xc_record' #变量\n",
    "var_bin = variable_binning(data_form, target, var_name, [0], 'bins')\n",
    "binning_plot(var_bin)\n",
    "print(var_name,'变量的IV值为',var_bin['IV'].sum())\n",
    "var_bin_xc_record=var_bin['WOE']\n",
    "var_bin.sort_values('Lbound')"
   ]
  },
  {
   "cell_type": "code",
   "execution_count": 18,
   "metadata": {
    "collapsed": false
   },
   "outputs": [
    {
     "name": "stderr",
     "output_type": "stream",
     "text": [
      "C:\\Users\\xiongjun\\AppData\\Local\\Continuum\\Anaconda3\\lib\\site-packages\\pandas\\core\\generic.py:3295: SettingWithCopyWarning: \n",
      "A value is trying to be set on a copy of a slice from a DataFrame\n",
      "\n",
      "See the caveats in the documentation: http://pandas.pydata.org/pandas-docs/stable/indexing.html#indexing-view-versus-copy\n",
      "  self._update_inplace(new_data)\n",
      "C:\\Users\\xiongjun\\sc_func.py:124: SettingWithCopyWarning: \n",
      "A value is trying to be set on a copy of a slice from a DataFrame.\n",
      "Try using .loc[row_indexer,col_indexer] = value instead\n",
      "\n",
      "See the caveats in the documentation: http://pandas.pydata.org/pandas-docs/stable/indexing.html#indexing-view-versus-copy\n",
      "  df['qt_binning'] = var_bins_series(df[var], bins, side = side)\n"
     ]
    },
    {
     "data": {
      "image/png": "[encoded data removed]",
      "text/plain": [
       "<matplotlib.figure.Figure at 0x9e90710>"
      ]
     },
     "metadata": {},
     "output_type": "display_data"
    },
    {
     "name": "stdout",
     "output_type": "stream",
     "text": [
      "rv 变量的IV值为 0.005420373812069429\n"
     ]
    },
    {
     "data": {
      "text/html": [
       "<div>\n",
       "<table border=\"1\" class=\"dataframe\">\n",
       "  <thead>\n",
       "    <tr style=\"text-align: right;\">\n",
       "      <th></th>\n",
       "      <th>Lbound</th>\n",
       "      <th>Ubound</th>\n",
       "      <th>Totalcnt</th>\n",
       "      <th>PctTotal</th>\n",
       "      <th>Y_count</th>\n",
       "      <th>n_Y_count</th>\n",
       "      <th>Y_pct</th>\n",
       "      <th>n_Y_pct</th>\n",
       "      <th>Y_rate</th>\n",
       "      <th>WOE</th>\n",
       "      <th>IV</th>\n",
       "    </tr>\n",
       "    <tr>\n",
       "      <th>qt_binning</th>\n",
       "      <th></th>\n",
       "      <th></th>\n",
       "      <th></th>\n",
       "      <th></th>\n",
       "      <th></th>\n",
       "      <th></th>\n",
       "      <th></th>\n",
       "      <th></th>\n",
       "      <th></th>\n",
       "      <th></th>\n",
       "      <th></th>\n",
       "    </tr>\n",
       "  </thead>\n",
       "  <tbody>\n",
       "    <tr>\n",
       "      <th>(-inf, 0]</th>\n",
       "      <td>0</td>\n",
       "      <td>0</td>\n",
       "      <td>27497</td>\n",
       "      <td>0.93776</td>\n",
       "      <td>2332</td>\n",
       "      <td>25165</td>\n",
       "      <td>0.920647</td>\n",
       "      <td>0.939378</td>\n",
       "      <td>0.084809</td>\n",
       "      <td>-0.020141</td>\n",
       "      <td>0.000377</td>\n",
       "    </tr>\n",
       "    <tr>\n",
       "      <th>(0, +inf)</th>\n",
       "      <td>1</td>\n",
       "      <td>1</td>\n",
       "      <td>1825</td>\n",
       "      <td>0.06224</td>\n",
       "      <td>201</td>\n",
       "      <td>1624</td>\n",
       "      <td>0.079353</td>\n",
       "      <td>0.060622</td>\n",
       "      <td>0.110137</td>\n",
       "      <td>0.269244</td>\n",
       "      <td>0.005043</td>\n",
       "    </tr>\n",
       "  </tbody>\n",
       "</table>\n",
       "</div>"
      ],
      "text/plain": [
       "            Lbound  Ubound  Totalcnt  PctTotal  Y_count  n_Y_count     Y_pct  \\\n",
       "qt_binning                                                                     \n",
       "(-inf, 0]        0       0     27497   0.93776     2332      25165  0.920647   \n",
       "(0, +inf)        1       1      1825   0.06224      201       1624  0.079353   \n",
       "\n",
       "             n_Y_pct    Y_rate       WOE        IV  \n",
       "qt_binning                                          \n",
       "(-inf, 0]   0.939378  0.084809 -0.020141  0.000377  \n",
       "(0, +inf)   0.060622  0.110137  0.269244  0.005043  "
      ]
     },
     "execution_count": 18,
     "metadata": {},
     "output_type": "execute_result"
    }
   ],
   "source": [
    "var_name = 'rv' #变量\n",
    "var_bin = variable_binning(data_form, target, var_name, [0], 'bins')\n",
    "binning_plot(var_bin)\n",
    "print(var_name,'变量的IV值为',var_bin['IV'].sum())\n",
    "var_bin_rv=var_bin['WOE']\n",
    "var_bin.sort_values('Lbound')"
   ]
  },
  {
   "cell_type": "code",
   "execution_count": 19,
   "metadata": {
    "collapsed": false,
    "scrolled": true
   },
   "outputs": [
    {
     "name": "stderr",
     "output_type": "stream",
     "text": [
      "C:\\Users\\xiongjun\\AppData\\Local\\Continuum\\Anaconda3\\lib\\site-packages\\pandas\\core\\generic.py:3295: SettingWithCopyWarning: \n",
      "A value is trying to be set on a copy of a slice from a DataFrame\n",
      "\n",
      "See the caveats in the documentation: http://pandas.pydata.org/pandas-docs/stable/indexing.html#indexing-view-versus-copy\n",
      "  self._update_inplace(new_data)\n",
      "C:\\Users\\xiongjun\\sc_func.py:124: SettingWithCopyWarning: \n",
      "A value is trying to be set on a copy of a slice from a DataFrame.\n",
      "Try using .loc[row_indexer,col_indexer] = value instead\n",
      "\n",
      "See the caveats in the documentation: http://pandas.pydata.org/pandas-docs/stable/indexing.html#indexing-view-versus-copy\n",
      "  df['qt_binning'] = var_bins_series(df[var], bins, side = side)\n"
     ]
    },
    {
     "data": {
      "image/png": "[encoded data removed]",
      "text/plain": [
       "<matplotlib.figure.Figure at 0x9e90710>"
      ]
     },
     "metadata": {},
     "output_type": "display_data"
    },
    {
     "name": "stdout",
     "output_type": "stream",
     "text": [
      "rc_relation_cnt 变量的IV值为 0.0021029632400767556\n"
     ]
    },
    {
     "data": {
      "text/html": [
       "<div>\n",
       "<table border=\"1\" class=\"dataframe\">\n",
       "  <thead>\n",
       "    <tr style=\"text-align: right;\">\n",
       "      <th></th>\n",
       "      <th>Lbound</th>\n",
       "      <th>Ubound</th>\n",
       "      <th>Totalcnt</th>\n",
       "      <th>PctTotal</th>\n",
       "      <th>Y_count</th>\n",
       "      <th>n_Y_count</th>\n",
       "      <th>Y_pct</th>\n",
       "      <th>n_Y_pct</th>\n",
       "      <th>Y_rate</th>\n",
       "      <th>WOE</th>\n",
       "      <th>IV</th>\n",
       "    </tr>\n",
       "    <tr>\n",
       "      <th>qt_binning</th>\n",
       "      <th></th>\n",
       "      <th></th>\n",
       "      <th></th>\n",
       "      <th></th>\n",
       "      <th></th>\n",
       "      <th></th>\n",
       "      <th></th>\n",
       "      <th></th>\n",
       "      <th></th>\n",
       "      <th></th>\n",
       "      <th></th>\n",
       "    </tr>\n",
       "  </thead>\n",
       "  <tbody>\n",
       "    <tr>\n",
       "      <th>(-inf, 0]</th>\n",
       "      <td>0</td>\n",
       "      <td>0</td>\n",
       "      <td>28223</td>\n",
       "      <td>0.96252</td>\n",
       "      <td>2417</td>\n",
       "      <td>25806</td>\n",
       "      <td>0.954205</td>\n",
       "      <td>0.963306</td>\n",
       "      <td>0.085639</td>\n",
       "      <td>-0.009493</td>\n",
       "      <td>0.000086</td>\n",
       "    </tr>\n",
       "    <tr>\n",
       "      <th>(0, +inf)</th>\n",
       "      <td>1</td>\n",
       "      <td>1</td>\n",
       "      <td>1099</td>\n",
       "      <td>0.03748</td>\n",
       "      <td>116</td>\n",
       "      <td>983</td>\n",
       "      <td>0.045795</td>\n",
       "      <td>0.036694</td>\n",
       "      <td>0.105551</td>\n",
       "      <td>0.221568</td>\n",
       "      <td>0.002017</td>\n",
       "    </tr>\n",
       "  </tbody>\n",
       "</table>\n",
       "</div>"
      ],
      "text/plain": [
       "            Lbound  Ubound  Totalcnt  PctTotal  Y_count  n_Y_count     Y_pct  \\\n",
       "qt_binning                                                                     \n",
       "(-inf, 0]        0       0     28223   0.96252     2417      25806  0.954205   \n",
       "(0, +inf)        1       1      1099   0.03748      116        983  0.045795   \n",
       "\n",
       "             n_Y_pct    Y_rate       WOE        IV  \n",
       "qt_binning                                          \n",
       "(-inf, 0]   0.963306  0.085639 -0.009493  0.000086  \n",
       "(0, +inf)   0.036694  0.105551  0.221568  0.002017  "
      ]
     },
     "execution_count": 19,
     "metadata": {},
     "output_type": "execute_result"
    }
   ],
   "source": [
    "var_name = 'rc_relation_cnt' #变量\n",
    "var_bin = variable_binning(data_form, target, var_name, [0], 'bins')\n",
    "binning_plot(var_bin)\n",
    "print(var_name,'变量的IV值为',var_bin['IV'].sum())\n",
    "var_bin.sort_values('Lbound')"
   ]
  },
  {
   "cell_type": "code",
   "execution_count": 20,
   "metadata": {
    "collapsed": false,
    "scrolled": true
   },
   "outputs": [
    {
     "name": "stderr",
     "output_type": "stream",
     "text": [
      "C:\\Users\\xiongjun\\AppData\\Local\\Continuum\\Anaconda3\\lib\\site-packages\\pandas\\core\\generic.py:3295: SettingWithCopyWarning: \n",
      "A value is trying to be set on a copy of a slice from a DataFrame\n",
      "\n",
      "See the caveats in the documentation: http://pandas.pydata.org/pandas-docs/stable/indexing.html#indexing-view-versus-copy\n",
      "  self._update_inplace(new_data)\n",
      "C:\\Users\\xiongjun\\sc_func.py:124: SettingWithCopyWarning: \n",
      "A value is trying to be set on a copy of a slice from a DataFrame.\n",
      "Try using .loc[row_indexer,col_indexer] = value instead\n",
      "\n",
      "See the caveats in the documentation: http://pandas.pydata.org/pandas-docs/stable/indexing.html#indexing-view-versus-copy\n",
      "  df['qt_binning'] = var_bins_series(df[var], bins, side = side)\n"
     ]
    },
    {
     "data": {
      "image/png": "[encoded data removed]",
      "text/plain": [
       "<matplotlib.figure.Figure at 0x45fedd8>"
      ]
     },
     "metadata": {},
     "output_type": "display_data"
    },
    {
     "name": "stdout",
     "output_type": "stream",
     "text": [
      "ls_cr 变量的IV值为 0.05572903156248731\n"
     ]
    },
    {
     "data": {
      "text/html": [
       "<div>\n",
       "<table border=\"1\" class=\"dataframe\">\n",
       "  <thead>\n",
       "    <tr style=\"text-align: right;\">\n",
       "      <th></th>\n",
       "      <th>Lbound</th>\n",
       "      <th>Ubound</th>\n",
       "      <th>Totalcnt</th>\n",
       "      <th>PctTotal</th>\n",
       "      <th>Y_count</th>\n",
       "      <th>n_Y_count</th>\n",
       "      <th>Y_pct</th>\n",
       "      <th>n_Y_pct</th>\n",
       "      <th>Y_rate</th>\n",
       "      <th>WOE</th>\n",
       "      <th>IV</th>\n",
       "    </tr>\n",
       "    <tr>\n",
       "      <th>qt_binning</th>\n",
       "      <th></th>\n",
       "      <th></th>\n",
       "      <th></th>\n",
       "      <th></th>\n",
       "      <th></th>\n",
       "      <th></th>\n",
       "      <th></th>\n",
       "      <th></th>\n",
       "      <th></th>\n",
       "      <th></th>\n",
       "      <th></th>\n",
       "    </tr>\n",
       "  </thead>\n",
       "  <tbody>\n",
       "    <tr>\n",
       "      <th>(-inf, 0]</th>\n",
       "      <td>0</td>\n",
       "      <td>0</td>\n",
       "      <td>27456</td>\n",
       "      <td>0.936362</td>\n",
       "      <td>2479</td>\n",
       "      <td>24977</td>\n",
       "      <td>0.978681</td>\n",
       "      <td>0.93236</td>\n",
       "      <td>0.090290</td>\n",
       "      <td>0.048487</td>\n",
       "      <td>0.002246</td>\n",
       "    </tr>\n",
       "    <tr>\n",
       "      <th>(0, +inf)</th>\n",
       "      <td>1</td>\n",
       "      <td>1</td>\n",
       "      <td>1866</td>\n",
       "      <td>0.063638</td>\n",
       "      <td>54</td>\n",
       "      <td>1812</td>\n",
       "      <td>0.021319</td>\n",
       "      <td>0.06764</td>\n",
       "      <td>0.028939</td>\n",
       "      <td>-1.154615</td>\n",
       "      <td>0.053483</td>\n",
       "    </tr>\n",
       "  </tbody>\n",
       "</table>\n",
       "</div>"
      ],
      "text/plain": [
       "            Lbound  Ubound  Totalcnt  PctTotal  Y_count  n_Y_count     Y_pct  \\\n",
       "qt_binning                                                                     \n",
       "(-inf, 0]        0       0     27456  0.936362     2479      24977  0.978681   \n",
       "(0, +inf)        1       1      1866  0.063638       54       1812  0.021319   \n",
       "\n",
       "            n_Y_pct    Y_rate       WOE        IV  \n",
       "qt_binning                                         \n",
       "(-inf, 0]   0.93236  0.090290  0.048487  0.002246  \n",
       "(0, +inf)   0.06764  0.028939 -1.154615  0.053483  "
      ]
     },
     "execution_count": 20,
     "metadata": {},
     "output_type": "execute_result"
    }
   ],
   "source": [
    "var_name = 'ls_cr' #变量\n",
    "var_bin = variable_binning(data_form, target, var_name, [0], 'bins')\n",
    "binning_plot(var_bin)\n",
    "print(var_name,'变量的IV值为',var_bin['IV'].sum())\n",
    "var_bin_ls_cr=var_bin['WOE']\n",
    "var_bin.sort_values('Lbound')"
   ]
  },
  {
   "cell_type": "code",
   "execution_count": 21,
   "metadata": {
    "collapsed": false,
    "scrolled": true
   },
   "outputs": [
    {
     "name": "stderr",
     "output_type": "stream",
     "text": [
      "C:\\Users\\xiongjun\\AppData\\Local\\Continuum\\Anaconda3\\lib\\site-packages\\pandas\\core\\generic.py:3295: SettingWithCopyWarning: \n",
      "A value is trying to be set on a copy of a slice from a DataFrame\n",
      "\n",
      "See the caveats in the documentation: http://pandas.pydata.org/pandas-docs/stable/indexing.html#indexing-view-versus-copy\n",
      "  self._update_inplace(new_data)\n",
      "C:\\Users\\xiongjun\\sc_func.py:124: SettingWithCopyWarning: \n",
      "A value is trying to be set on a copy of a slice from a DataFrame.\n",
      "Try using .loc[row_indexer,col_indexer] = value instead\n",
      "\n",
      "See the caveats in the documentation: http://pandas.pydata.org/pandas-docs/stable/indexing.html#indexing-view-versus-copy\n",
      "  df['qt_binning'] = var_bins_series(df[var], bins, side = side)\n"
     ]
    },
    {
     "data": {
      "image/png": "[encoded data removed]",
      "text/plain": [
       "<matplotlib.figure.Figure at 0x45fedd8>"
      ]
     },
     "metadata": {},
     "output_type": "display_data"
    },
    {
     "name": "stdout",
     "output_type": "stream",
     "text": [
      "ls_cr_cl 变量的IV值为 0.1683890230992339\n"
     ]
    },
    {
     "data": {
      "text/html": [
       "<div>\n",
       "<table border=\"1\" class=\"dataframe\">\n",
       "  <thead>\n",
       "    <tr style=\"text-align: right;\">\n",
       "      <th></th>\n",
       "      <th>Lbound</th>\n",
       "      <th>Ubound</th>\n",
       "      <th>Totalcnt</th>\n",
       "      <th>PctTotal</th>\n",
       "      <th>Y_count</th>\n",
       "      <th>n_Y_count</th>\n",
       "      <th>Y_pct</th>\n",
       "      <th>n_Y_pct</th>\n",
       "      <th>Y_rate</th>\n",
       "      <th>WOE</th>\n",
       "      <th>IV</th>\n",
       "    </tr>\n",
       "    <tr>\n",
       "      <th>qt_binning</th>\n",
       "      <th></th>\n",
       "      <th></th>\n",
       "      <th></th>\n",
       "      <th></th>\n",
       "      <th></th>\n",
       "      <th></th>\n",
       "      <th></th>\n",
       "      <th></th>\n",
       "      <th></th>\n",
       "      <th></th>\n",
       "      <th></th>\n",
       "    </tr>\n",
       "  </thead>\n",
       "  <tbody>\n",
       "    <tr>\n",
       "      <th>(-inf, 0]</th>\n",
       "      <td>0</td>\n",
       "      <td>0</td>\n",
       "      <td>22675</td>\n",
       "      <td>0.77331</td>\n",
       "      <td>2301</td>\n",
       "      <td>20374</td>\n",
       "      <td>0.908409</td>\n",
       "      <td>0.760536</td>\n",
       "      <td>0.101477</td>\n",
       "      <td>0.177671</td>\n",
       "      <td>0.026273</td>\n",
       "    </tr>\n",
       "    <tr>\n",
       "      <th>(0, +inf)</th>\n",
       "      <td>1</td>\n",
       "      <td>1</td>\n",
       "      <td>6647</td>\n",
       "      <td>0.22669</td>\n",
       "      <td>232</td>\n",
       "      <td>6415</td>\n",
       "      <td>0.091591</td>\n",
       "      <td>0.239464</td>\n",
       "      <td>0.034903</td>\n",
       "      <td>-0.961070</td>\n",
       "      <td>0.142116</td>\n",
       "    </tr>\n",
       "  </tbody>\n",
       "</table>\n",
       "</div>"
      ],
      "text/plain": [
       "            Lbound  Ubound  Totalcnt  PctTotal  Y_count  n_Y_count     Y_pct  \\\n",
       "qt_binning                                                                     \n",
       "(-inf, 0]        0       0     22675   0.77331     2301      20374  0.908409   \n",
       "(0, +inf)        1       1      6647   0.22669      232       6415  0.091591   \n",
       "\n",
       "             n_Y_pct    Y_rate       WOE        IV  \n",
       "qt_binning                                          \n",
       "(-inf, 0]   0.760536  0.101477  0.177671  0.026273  \n",
       "(0, +inf)   0.239464  0.034903 -0.961070  0.142116  "
      ]
     },
     "execution_count": 21,
     "metadata": {},
     "output_type": "execute_result"
    }
   ],
   "source": [
    "var_name = 'ls_cr_cl' #变量\n",
    "var_bin = variable_binning(data_form, target, var_name, [0], 'bins')\n",
    "binning_plot(var_bin)\n",
    "print(var_name,'变量的IV值为',var_bin['IV'].sum())\n",
    "var_bin_ls_cr_cl=var_bin['WOE']\n",
    "var_bin.sort_values('Lbound')"
   ]
  },
  {
   "cell_type": "code",
   "execution_count": 22,
   "metadata": {
    "collapsed": false,
    "scrolled": true
   },
   "outputs": [
    {
     "name": "stderr",
     "output_type": "stream",
     "text": [
      "C:\\Users\\xiongjun\\AppData\\Local\\Continuum\\Anaconda3\\lib\\site-packages\\pandas\\core\\generic.py:3295: SettingWithCopyWarning: \n",
      "A value is trying to be set on a copy of a slice from a DataFrame\n",
      "\n",
      "See the caveats in the documentation: http://pandas.pydata.org/pandas-docs/stable/indexing.html#indexing-view-versus-copy\n",
      "  self._update_inplace(new_data)\n",
      "C:\\Users\\xiongjun\\sc_func.py:124: SettingWithCopyWarning: \n",
      "A value is trying to be set on a copy of a slice from a DataFrame.\n",
      "Try using .loc[row_indexer,col_indexer] = value instead\n",
      "\n",
      "See the caveats in the documentation: http://pandas.pydata.org/pandas-docs/stable/indexing.html#indexing-view-versus-copy\n",
      "  df['qt_binning'] = var_bins_series(df[var], bins, side = side)\n"
     ]
    },
    {
     "data": {
      "image/png": "[encoded data removed]",
      "text/plain": [
       "<matplotlib.figure.Figure at 0x9e90710>"
      ]
     },
     "metadata": {},
     "output_type": "display_data"
    },
    {
     "name": "stdout",
     "output_type": "stream",
     "text": [
      "ls_gp 变量的IV值为 0.002077357215859834\n"
     ]
    },
    {
     "data": {
      "text/html": [
       "<div>\n",
       "<table border=\"1\" class=\"dataframe\">\n",
       "  <thead>\n",
       "    <tr style=\"text-align: right;\">\n",
       "      <th></th>\n",
       "      <th>Lbound</th>\n",
       "      <th>Ubound</th>\n",
       "      <th>Totalcnt</th>\n",
       "      <th>PctTotal</th>\n",
       "      <th>Y_count</th>\n",
       "      <th>n_Y_count</th>\n",
       "      <th>Y_pct</th>\n",
       "      <th>n_Y_pct</th>\n",
       "      <th>Y_rate</th>\n",
       "      <th>WOE</th>\n",
       "      <th>IV</th>\n",
       "    </tr>\n",
       "    <tr>\n",
       "      <th>qt_binning</th>\n",
       "      <th></th>\n",
       "      <th></th>\n",
       "      <th></th>\n",
       "      <th></th>\n",
       "      <th></th>\n",
       "      <th></th>\n",
       "      <th></th>\n",
       "      <th></th>\n",
       "      <th></th>\n",
       "      <th></th>\n",
       "      <th></th>\n",
       "    </tr>\n",
       "  </thead>\n",
       "  <tbody>\n",
       "    <tr>\n",
       "      <th>(-inf, 0]</th>\n",
       "      <td>0</td>\n",
       "      <td>0</td>\n",
       "      <td>28600</td>\n",
       "      <td>0.975377</td>\n",
       "      <td>2486</td>\n",
       "      <td>26114</td>\n",
       "      <td>0.981445</td>\n",
       "      <td>0.974803</td>\n",
       "      <td>0.086923</td>\n",
       "      <td>0.006790</td>\n",
       "      <td>0.000045</td>\n",
       "    </tr>\n",
       "    <tr>\n",
       "      <th>(0, +inf)</th>\n",
       "      <td>1</td>\n",
       "      <td>1</td>\n",
       "      <td>722</td>\n",
       "      <td>0.024623</td>\n",
       "      <td>47</td>\n",
       "      <td>675</td>\n",
       "      <td>0.018555</td>\n",
       "      <td>0.025197</td>\n",
       "      <td>0.065097</td>\n",
       "      <td>-0.305978</td>\n",
       "      <td>0.002032</td>\n",
       "    </tr>\n",
       "  </tbody>\n",
       "</table>\n",
       "</div>"
      ],
      "text/plain": [
       "            Lbound  Ubound  Totalcnt  PctTotal  Y_count  n_Y_count     Y_pct  \\\n",
       "qt_binning                                                                     \n",
       "(-inf, 0]        0       0     28600  0.975377     2486      26114  0.981445   \n",
       "(0, +inf)        1       1       722  0.024623       47        675  0.018555   \n",
       "\n",
       "             n_Y_pct    Y_rate       WOE        IV  \n",
       "qt_binning                                          \n",
       "(-inf, 0]   0.974803  0.086923  0.006790  0.000045  \n",
       "(0, +inf)   0.025197  0.065097 -0.305978  0.002032  "
      ]
     },
     "execution_count": 22,
     "metadata": {},
     "output_type": "execute_result"
    }
   ],
   "source": [
    "var_name = 'ls_gp' #变量\n",
    "var_bin = variable_binning(data_form, target, var_name, [0], 'bins')\n",
    "binning_plot(var_bin)\n",
    "print(var_name,'变量的IV值为',var_bin['IV'].sum())\n",
    "var_bin_ls_gp=var_bin['WOE']\n",
    "var_bin.sort_values('Lbound')"
   ]
  },
  {
   "cell_type": "code",
   "execution_count": 23,
   "metadata": {
    "collapsed": false,
    "scrolled": true
   },
   "outputs": [
    {
     "name": "stderr",
     "output_type": "stream",
     "text": [
      "C:\\Users\\xiongjun\\AppData\\Local\\Continuum\\Anaconda3\\lib\\site-packages\\pandas\\core\\generic.py:3295: SettingWithCopyWarning: \n",
      "A value is trying to be set on a copy of a slice from a DataFrame\n",
      "\n",
      "See the caveats in the documentation: http://pandas.pydata.org/pandas-docs/stable/indexing.html#indexing-view-versus-copy\n",
      "  self._update_inplace(new_data)\n",
      "C:\\Users\\xiongjun\\sc_func.py:124: SettingWithCopyWarning: \n",
      "A value is trying to be set on a copy of a slice from a DataFrame.\n",
      "Try using .loc[row_indexer,col_indexer] = value instead\n",
      "\n",
      "See the caveats in the documentation: http://pandas.pydata.org/pandas-docs/stable/indexing.html#indexing-view-versus-copy\n",
      "  df['qt_binning'] = var_bins_series(df[var], bins, side = side)\n"
     ]
    },
    {
     "data": {
      "image/png": "[encoded data removed]",
      "text/plain": [
       "<matplotlib.figure.Figure at 0x9e90710>"
      ]
     },
     "metadata": {},
     "output_type": "display_data"
    },
    {
     "name": "stdout",
     "output_type": "stream",
     "text": [
      "ls_gp_cl 变量的IV值为 0.004558023580223598\n"
     ]
    },
    {
     "data": {
      "text/html": [
       "<div>\n",
       "<table border=\"1\" class=\"dataframe\">\n",
       "  <thead>\n",
       "    <tr style=\"text-align: right;\">\n",
       "      <th></th>\n",
       "      <th>Lbound</th>\n",
       "      <th>Ubound</th>\n",
       "      <th>Totalcnt</th>\n",
       "      <th>PctTotal</th>\n",
       "      <th>Y_count</th>\n",
       "      <th>n_Y_count</th>\n",
       "      <th>Y_pct</th>\n",
       "      <th>n_Y_pct</th>\n",
       "      <th>Y_rate</th>\n",
       "      <th>WOE</th>\n",
       "      <th>IV</th>\n",
       "    </tr>\n",
       "    <tr>\n",
       "      <th>qt_binning</th>\n",
       "      <th></th>\n",
       "      <th></th>\n",
       "      <th></th>\n",
       "      <th></th>\n",
       "      <th></th>\n",
       "      <th></th>\n",
       "      <th></th>\n",
       "      <th></th>\n",
       "      <th></th>\n",
       "      <th></th>\n",
       "      <th></th>\n",
       "    </tr>\n",
       "  </thead>\n",
       "  <tbody>\n",
       "    <tr>\n",
       "      <th>(-inf, 0]</th>\n",
       "      <td>0</td>\n",
       "      <td>0</td>\n",
       "      <td>27931</td>\n",
       "      <td>0.952561</td>\n",
       "      <td>2444</td>\n",
       "      <td>25487</td>\n",
       "      <td>0.964864</td>\n",
       "      <td>0.951398</td>\n",
       "      <td>0.087501</td>\n",
       "      <td>0.014055</td>\n",
       "      <td>0.000189</td>\n",
       "    </tr>\n",
       "    <tr>\n",
       "      <th>(0, +inf)</th>\n",
       "      <td>1</td>\n",
       "      <td>1</td>\n",
       "      <td>1391</td>\n",
       "      <td>0.047439</td>\n",
       "      <td>89</td>\n",
       "      <td>1302</td>\n",
       "      <td>0.035136</td>\n",
       "      <td>0.048602</td>\n",
       "      <td>0.063983</td>\n",
       "      <td>-0.324433</td>\n",
       "      <td>0.004369</td>\n",
       "    </tr>\n",
       "  </tbody>\n",
       "</table>\n",
       "</div>"
      ],
      "text/plain": [
       "            Lbound  Ubound  Totalcnt  PctTotal  Y_count  n_Y_count     Y_pct  \\\n",
       "qt_binning                                                                     \n",
       "(-inf, 0]        0       0     27931  0.952561     2444      25487  0.964864   \n",
       "(0, +inf)        1       1      1391  0.047439       89       1302  0.035136   \n",
       "\n",
       "             n_Y_pct    Y_rate       WOE        IV  \n",
       "qt_binning                                          \n",
       "(-inf, 0]   0.951398  0.087501  0.014055  0.000189  \n",
       "(0, +inf)   0.048602  0.063983 -0.324433  0.004369  "
      ]
     },
     "execution_count": 23,
     "metadata": {},
     "output_type": "execute_result"
    }
   ],
   "source": [
    "var_name = 'ls_gp_cl' #变量\n",
    "var_bin = variable_binning(data_form, target, var_name, [0], 'bins')\n",
    "binning_plot(var_bin)\n",
    "print(var_name,'变量的IV值为',var_bin['IV'].sum())\n",
    "var_bin_ls_gp_cl=var_bin['WOE']\n",
    "var_bin.sort_values('Lbound')"
   ]
  },
  {
   "cell_type": "code",
   "execution_count": 24,
   "metadata": {
    "collapsed": false,
    "scrolled": true
   },
   "outputs": [
    {
     "name": "stderr",
     "output_type": "stream",
     "text": [
      "C:\\Users\\xiongjun\\AppData\\Local\\Continuum\\Anaconda3\\lib\\site-packages\\pandas\\core\\generic.py:3295: SettingWithCopyWarning: \n",
      "A value is trying to be set on a copy of a slice from a DataFrame\n",
      "\n",
      "See the caveats in the documentation: http://pandas.pydata.org/pandas-docs/stable/indexing.html#indexing-view-versus-copy\n",
      "  self._update_inplace(new_data)\n",
      "C:\\Users\\xiongjun\\sc_func.py:124: SettingWithCopyWarning: \n",
      "A value is trying to be set on a copy of a slice from a DataFrame.\n",
      "Try using .loc[row_indexer,col_indexer] = value instead\n",
      "\n",
      "See the caveats in the documentation: http://pandas.pydata.org/pandas-docs/stable/indexing.html#indexing-view-versus-copy\n",
      "  df['qt_binning'] = var_bins_series(df[var], bins, side = side)\n"
     ]
    },
    {
     "data": {
      "image/png": "[encoded data removed]",
      "text/plain": [
       "<matplotlib.figure.Figure at 0x45fedd8>"
      ]
     },
     "metadata": {},
     "output_type": "display_data"
    },
    {
     "name": "stdout",
     "output_type": "stream",
     "text": [
      "ls_nd 变量的IV值为 0.11687144896599692\n"
     ]
    },
    {
     "data": {
      "text/html": [
       "<div>\n",
       "<table border=\"1\" class=\"dataframe\">\n",
       "  <thead>\n",
       "    <tr style=\"text-align: right;\">\n",
       "      <th></th>\n",
       "      <th>Lbound</th>\n",
       "      <th>Ubound</th>\n",
       "      <th>Totalcnt</th>\n",
       "      <th>PctTotal</th>\n",
       "      <th>Y_count</th>\n",
       "      <th>n_Y_count</th>\n",
       "      <th>Y_pct</th>\n",
       "      <th>n_Y_pct</th>\n",
       "      <th>Y_rate</th>\n",
       "      <th>WOE</th>\n",
       "      <th>IV</th>\n",
       "    </tr>\n",
       "    <tr>\n",
       "      <th>qt_binning</th>\n",
       "      <th></th>\n",
       "      <th></th>\n",
       "      <th></th>\n",
       "      <th></th>\n",
       "      <th></th>\n",
       "      <th></th>\n",
       "      <th></th>\n",
       "      <th></th>\n",
       "      <th></th>\n",
       "      <th></th>\n",
       "      <th></th>\n",
       "    </tr>\n",
       "  </thead>\n",
       "  <tbody>\n",
       "    <tr>\n",
       "      <th>(-inf, 0]</th>\n",
       "      <td>0</td>\n",
       "      <td>0</td>\n",
       "      <td>23904</td>\n",
       "      <td>0.815224</td>\n",
       "      <td>2330</td>\n",
       "      <td>21574</td>\n",
       "      <td>0.919858</td>\n",
       "      <td>0.805331</td>\n",
       "      <td>0.097473</td>\n",
       "      <td>0.132966</td>\n",
       "      <td>0.015228</td>\n",
       "    </tr>\n",
       "    <tr>\n",
       "      <th>(0, +inf)</th>\n",
       "      <td>1</td>\n",
       "      <td>1</td>\n",
       "      <td>5418</td>\n",
       "      <td>0.184776</td>\n",
       "      <td>203</td>\n",
       "      <td>5215</td>\n",
       "      <td>0.080142</td>\n",
       "      <td>0.194669</td>\n",
       "      <td>0.037468</td>\n",
       "      <td>-0.887501</td>\n",
       "      <td>0.101643</td>\n",
       "    </tr>\n",
       "  </tbody>\n",
       "</table>\n",
       "</div>"
      ],
      "text/plain": [
       "            Lbound  Ubound  Totalcnt  PctTotal  Y_count  n_Y_count     Y_pct  \\\n",
       "qt_binning                                                                     \n",
       "(-inf, 0]        0       0     23904  0.815224     2330      21574  0.919858   \n",
       "(0, +inf)        1       1      5418  0.184776      203       5215  0.080142   \n",
       "\n",
       "             n_Y_pct    Y_rate       WOE        IV  \n",
       "qt_binning                                          \n",
       "(-inf, 0]   0.805331  0.097473  0.132966  0.015228  \n",
       "(0, +inf)   0.194669  0.037468 -0.887501  0.101643  "
      ]
     },
     "execution_count": 24,
     "metadata": {},
     "output_type": "execute_result"
    }
   ],
   "source": [
    "var_name = 'ls_nd' #变量\n",
    "var_bin = variable_binning(data_form, target, var_name, [0], 'bins')\n",
    "binning_plot(var_bin)\n",
    "print(var_name,'变量的IV值为',var_bin['IV'].sum())\n",
    "var_bin_ls_nd=var_bin['WOE']\n",
    "var_bin.sort_values('Lbound')"
   ]
  },
  {
   "cell_type": "code",
   "execution_count": 25,
   "metadata": {
    "collapsed": false,
    "scrolled": false
   },
   "outputs": [
    {
     "name": "stderr",
     "output_type": "stream",
     "text": [
      "C:\\Users\\xiongjun\\AppData\\Local\\Continuum\\Anaconda3\\lib\\site-packages\\pandas\\core\\generic.py:3295: SettingWithCopyWarning: \n",
      "A value is trying to be set on a copy of a slice from a DataFrame\n",
      "\n",
      "See the caveats in the documentation: http://pandas.pydata.org/pandas-docs/stable/indexing.html#indexing-view-versus-copy\n",
      "  self._update_inplace(new_data)\n",
      "C:\\Users\\xiongjun\\sc_func.py:124: SettingWithCopyWarning: \n",
      "A value is trying to be set on a copy of a slice from a DataFrame.\n",
      "Try using .loc[row_indexer,col_indexer] = value instead\n",
      "\n",
      "See the caveats in the documentation: http://pandas.pydata.org/pandas-docs/stable/indexing.html#indexing-view-versus-copy\n",
      "  df['qt_binning'] = var_bins_series(df[var], bins, side = side)\n"
     ]
    },
    {
     "data": {
      "image/png": "[encoded data removed]",
      "text/plain": [
       "<matplotlib.figure.Figure at 0xa950358>"
      ]
     },
     "metadata": {},
     "output_type": "display_data"
    },
    {
     "name": "stdout",
     "output_type": "stream",
     "text": [
      "ld_rc 变量的IV值为 0.0018150530524518927\n"
     ]
    },
    {
     "data": {
      "text/html": [
       "<div>\n",
       "<table border=\"1\" class=\"dataframe\">\n",
       "  <thead>\n",
       "    <tr style=\"text-align: right;\">\n",
       "      <th></th>\n",
       "      <th>Lbound</th>\n",
       "      <th>Ubound</th>\n",
       "      <th>Totalcnt</th>\n",
       "      <th>PctTotal</th>\n",
       "      <th>Y_count</th>\n",
       "      <th>n_Y_count</th>\n",
       "      <th>Y_pct</th>\n",
       "      <th>n_Y_pct</th>\n",
       "      <th>Y_rate</th>\n",
       "      <th>WOE</th>\n",
       "      <th>IV</th>\n",
       "    </tr>\n",
       "    <tr>\n",
       "      <th>qt_binning</th>\n",
       "      <th></th>\n",
       "      <th></th>\n",
       "      <th></th>\n",
       "      <th></th>\n",
       "      <th></th>\n",
       "      <th></th>\n",
       "      <th></th>\n",
       "      <th></th>\n",
       "      <th></th>\n",
       "      <th></th>\n",
       "      <th></th>\n",
       "    </tr>\n",
       "  </thead>\n",
       "  <tbody>\n",
       "    <tr>\n",
       "      <th>(-inf, 0]</th>\n",
       "      <td>0</td>\n",
       "      <td>0</td>\n",
       "      <td>27592</td>\n",
       "      <td>0.941</td>\n",
       "      <td>2406</td>\n",
       "      <td>25186</td>\n",
       "      <td>0.949862</td>\n",
       "      <td>0.940162</td>\n",
       "      <td>0.087199</td>\n",
       "      <td>0.010264</td>\n",
       "      <td>0.000100</td>\n",
       "    </tr>\n",
       "    <tr>\n",
       "      <th>(0, +inf)</th>\n",
       "      <td>1</td>\n",
       "      <td>1</td>\n",
       "      <td>1730</td>\n",
       "      <td>0.059</td>\n",
       "      <td>127</td>\n",
       "      <td>1603</td>\n",
       "      <td>0.050138</td>\n",
       "      <td>0.059838</td>\n",
       "      <td>0.073410</td>\n",
       "      <td>-0.176858</td>\n",
       "      <td>0.001715</td>\n",
       "    </tr>\n",
       "  </tbody>\n",
       "</table>\n",
       "</div>"
      ],
      "text/plain": [
       "            Lbound  Ubound  Totalcnt  PctTotal  Y_count  n_Y_count     Y_pct  \\\n",
       "qt_binning                                                                     \n",
       "(-inf, 0]        0       0     27592     0.941     2406      25186  0.949862   \n",
       "(0, +inf)        1       1      1730     0.059      127       1603  0.050138   \n",
       "\n",
       "             n_Y_pct    Y_rate       WOE        IV  \n",
       "qt_binning                                          \n",
       "(-inf, 0]   0.940162  0.087199  0.010264  0.000100  \n",
       "(0, +inf)   0.059838  0.073410 -0.176858  0.001715  "
      ]
     },
     "execution_count": 25,
     "metadata": {},
     "output_type": "execute_result"
    }
   ],
   "source": [
    "var_name = 'ld_rc' #变量\n",
    "var_bin = variable_binning(data_form, target, var_name, [0], 'bins')\n",
    "binning_plot(var_bin)\n",
    "print(var_name,'变量的IV值为',var_bin['IV'].sum())\n",
    "var_bin_ld_rc=var_bin['WOE']\n",
    "var_bin.sort_values('Lbound')"
   ]
  },
  {
   "cell_type": "code",
   "execution_count": 26,
   "metadata": {
    "collapsed": false
   },
   "outputs": [
    {
     "name": "stderr",
     "output_type": "stream",
     "text": [
      "C:\\Users\\xiongjun\\AppData\\Local\\Continuum\\Anaconda3\\lib\\site-packages\\pandas\\core\\generic.py:3295: SettingWithCopyWarning: \n",
      "A value is trying to be set on a copy of a slice from a DataFrame\n",
      "\n",
      "See the caveats in the documentation: http://pandas.pydata.org/pandas-docs/stable/indexing.html#indexing-view-versus-copy\n",
      "  self._update_inplace(new_data)\n",
      "C:\\Users\\xiongjun\\sc_func.py:124: SettingWithCopyWarning: \n",
      "A value is trying to be set on a copy of a slice from a DataFrame.\n",
      "Try using .loc[row_indexer,col_indexer] = value instead\n",
      "\n",
      "See the caveats in the documentation: http://pandas.pydata.org/pandas-docs/stable/indexing.html#indexing-view-versus-copy\n",
      "  df['qt_binning'] = var_bins_series(df[var], bins, side = side)\n"
     ]
    },
    {
     "data": {
      "image/png": "[encoded data removed]",
      "text/plain": [
       "<matplotlib.figure.Figure at 0x5280d30>"
      ]
     },
     "metadata": {},
     "output_type": "display_data"
    },
    {
     "name": "stdout",
     "output_type": "stream",
     "text": [
      "ld_xc 变量的IV值为 0.015184922377371339\n"
     ]
    },
    {
     "data": {
      "text/html": [
       "<div>\n",
       "<table border=\"1\" class=\"dataframe\">\n",
       "  <thead>\n",
       "    <tr style=\"text-align: right;\">\n",
       "      <th></th>\n",
       "      <th>Lbound</th>\n",
       "      <th>Ubound</th>\n",
       "      <th>Totalcnt</th>\n",
       "      <th>PctTotal</th>\n",
       "      <th>Y_count</th>\n",
       "      <th>n_Y_count</th>\n",
       "      <th>Y_pct</th>\n",
       "      <th>n_Y_pct</th>\n",
       "      <th>Y_rate</th>\n",
       "      <th>WOE</th>\n",
       "      <th>IV</th>\n",
       "    </tr>\n",
       "    <tr>\n",
       "      <th>qt_binning</th>\n",
       "      <th></th>\n",
       "      <th></th>\n",
       "      <th></th>\n",
       "      <th></th>\n",
       "      <th></th>\n",
       "      <th></th>\n",
       "      <th></th>\n",
       "      <th></th>\n",
       "      <th></th>\n",
       "      <th></th>\n",
       "      <th></th>\n",
       "    </tr>\n",
       "  </thead>\n",
       "  <tbody>\n",
       "    <tr>\n",
       "      <th>(-inf, 0]</th>\n",
       "      <td>0</td>\n",
       "      <td>0</td>\n",
       "      <td>17584</td>\n",
       "      <td>0.599686</td>\n",
       "      <td>1657</td>\n",
       "      <td>15927</td>\n",
       "      <td>0.654165</td>\n",
       "      <td>0.594535</td>\n",
       "      <td>0.094233</td>\n",
       "      <td>0.095580</td>\n",
       "      <td>0.005699</td>\n",
       "    </tr>\n",
       "    <tr>\n",
       "      <th>(0, +inf)</th>\n",
       "      <td>1</td>\n",
       "      <td>1</td>\n",
       "      <td>11738</td>\n",
       "      <td>0.400314</td>\n",
       "      <td>876</td>\n",
       "      <td>10862</td>\n",
       "      <td>0.345835</td>\n",
       "      <td>0.405465</td>\n",
       "      <td>0.074629</td>\n",
       "      <td>-0.159073</td>\n",
       "      <td>0.009485</td>\n",
       "    </tr>\n",
       "  </tbody>\n",
       "</table>\n",
       "</div>"
      ],
      "text/plain": [
       "            Lbound  Ubound  Totalcnt  PctTotal  Y_count  n_Y_count     Y_pct  \\\n",
       "qt_binning                                                                     \n",
       "(-inf, 0]        0       0     17584  0.599686     1657      15927  0.654165   \n",
       "(0, +inf)        1       1     11738  0.400314      876      10862  0.345835   \n",
       "\n",
       "             n_Y_pct    Y_rate       WOE        IV  \n",
       "qt_binning                                          \n",
       "(-inf, 0]   0.594535  0.094233  0.095580  0.005699  \n",
       "(0, +inf)   0.405465  0.074629 -0.159073  0.009485  "
      ]
     },
     "execution_count": 26,
     "metadata": {},
     "output_type": "execute_result"
    }
   ],
   "source": [
    "var_name = 'ld_xc' #变量\n",
    "var_bin = variable_binning(data_form, target, var_name, [0], 'bins')\n",
    "binning_plot(var_bin)\n",
    "print(var_name,'变量的IV值为',var_bin['IV'].sum())\n",
    "var_bin_ld_xc=var_bin['WOE']\n",
    "var_bin.sort_values('Lbound')"
   ]
  },
  {
   "cell_type": "code",
   "execution_count": 27,
   "metadata": {
    "collapsed": false
   },
   "outputs": [
    {
     "name": "stderr",
     "output_type": "stream",
     "text": [
      "C:\\Users\\xiongjun\\AppData\\Local\\Continuum\\Anaconda3\\lib\\site-packages\\pandas\\core\\generic.py:3295: SettingWithCopyWarning: \n",
      "A value is trying to be set on a copy of a slice from a DataFrame\n",
      "\n",
      "See the caveats in the documentation: http://pandas.pydata.org/pandas-docs/stable/indexing.html#indexing-view-versus-copy\n",
      "  self._update_inplace(new_data)\n",
      "C:\\Users\\xiongjun\\sc_func.py:124: SettingWithCopyWarning: \n",
      "A value is trying to be set on a copy of a slice from a DataFrame.\n",
      "Try using .loc[row_indexer,col_indexer] = value instead\n",
      "\n",
      "See the caveats in the documentation: http://pandas.pydata.org/pandas-docs/stable/indexing.html#indexing-view-versus-copy\n",
      "  df['qt_binning'] = var_bins_series(df[var], bins, side = side)\n"
     ]
    },
    {
     "data": {
      "image/png": "[encoded data removed]",
      "text/plain": [
       "<matplotlib.figure.Figure at 0xa0d6080>"
      ]
     },
     "metadata": {},
     "output_type": "display_data"
    },
    {
     "name": "stdout",
     "output_type": "stream",
     "text": [
      "bs_gps5 变量的IV值为 0.0016250521538849114\n"
     ]
    },
    {
     "data": {
      "text/html": [
       "<div>\n",
       "<table border=\"1\" class=\"dataframe\">\n",
       "  <thead>\n",
       "    <tr style=\"text-align: right;\">\n",
       "      <th></th>\n",
       "      <th>Lbound</th>\n",
       "      <th>Ubound</th>\n",
       "      <th>Totalcnt</th>\n",
       "      <th>PctTotal</th>\n",
       "      <th>Y_count</th>\n",
       "      <th>n_Y_count</th>\n",
       "      <th>Y_pct</th>\n",
       "      <th>n_Y_pct</th>\n",
       "      <th>Y_rate</th>\n",
       "      <th>WOE</th>\n",
       "      <th>IV</th>\n",
       "    </tr>\n",
       "    <tr>\n",
       "      <th>qt_binning</th>\n",
       "      <th></th>\n",
       "      <th></th>\n",
       "      <th></th>\n",
       "      <th></th>\n",
       "      <th></th>\n",
       "      <th></th>\n",
       "      <th></th>\n",
       "      <th></th>\n",
       "      <th></th>\n",
       "      <th></th>\n",
       "      <th></th>\n",
       "    </tr>\n",
       "  </thead>\n",
       "  <tbody>\n",
       "    <tr>\n",
       "      <th>(-inf, 0]</th>\n",
       "      <td>0</td>\n",
       "      <td>0</td>\n",
       "      <td>27820</td>\n",
       "      <td>0.948776</td>\n",
       "      <td>2382</td>\n",
       "      <td>25438</td>\n",
       "      <td>0.940387</td>\n",
       "      <td>0.949569</td>\n",
       "      <td>0.085622</td>\n",
       "      <td>-0.009717</td>\n",
       "      <td>0.000089</td>\n",
       "    </tr>\n",
       "    <tr>\n",
       "      <th>(0, +inf)</th>\n",
       "      <td>1</td>\n",
       "      <td>1</td>\n",
       "      <td>1502</td>\n",
       "      <td>0.051224</td>\n",
       "      <td>151</td>\n",
       "      <td>1351</td>\n",
       "      <td>0.059613</td>\n",
       "      <td>0.050431</td>\n",
       "      <td>0.100533</td>\n",
       "      <td>0.167266</td>\n",
       "      <td>0.001536</td>\n",
       "    </tr>\n",
       "  </tbody>\n",
       "</table>\n",
       "</div>"
      ],
      "text/plain": [
       "            Lbound  Ubound  Totalcnt  PctTotal  Y_count  n_Y_count     Y_pct  \\\n",
       "qt_binning                                                                     \n",
       "(-inf, 0]        0       0     27820  0.948776     2382      25438  0.940387   \n",
       "(0, +inf)        1       1      1502  0.051224      151       1351  0.059613   \n",
       "\n",
       "             n_Y_pct    Y_rate       WOE        IV  \n",
       "qt_binning                                          \n",
       "(-inf, 0]   0.949569  0.085622 -0.009717  0.000089  \n",
       "(0, +inf)   0.050431  0.100533  0.167266  0.001536  "
      ]
     },
     "execution_count": 27,
     "metadata": {},
     "output_type": "execute_result"
    }
   ],
   "source": [
    "var_name = 'bs_gps5' #变量\n",
    "var_bin = variable_binning(data_form, target, var_name, [0], 'bins')\n",
    "binning_plot(var_bin)\n",
    "print(var_name,'变量的IV值为',var_bin['IV'].sum())\n",
    "var_bin_bs_gps5=var_bin['WOE']\n",
    "var_bin.sort_values('Lbound')"
   ]
  },
  {
   "cell_type": "code",
   "execution_count": 41,
   "metadata": {
    "collapsed": false,
    "scrolled": true
   },
   "outputs": [
    {
     "name": "stderr",
     "output_type": "stream",
     "text": [
      "C:\\Users\\xiongjun\\AppData\\Local\\Continuum\\Anaconda3\\lib\\site-packages\\pandas\\core\\generic.py:3295: SettingWithCopyWarning: \n",
      "A value is trying to be set on a copy of a slice from a DataFrame\n",
      "\n",
      "See the caveats in the documentation: http://pandas.pydata.org/pandas-docs/stable/indexing.html#indexing-view-versus-copy\n",
      "  self._update_inplace(new_data)\n",
      "C:\\Users\\xiongjun\\sc_func.py:124: SettingWithCopyWarning: \n",
      "A value is trying to be set on a copy of a slice from a DataFrame.\n",
      "Try using .loc[row_indexer,col_indexer] = value instead\n",
      "\n",
      "See the caveats in the documentation: http://pandas.pydata.org/pandas-docs/stable/indexing.html#indexing-view-versus-copy\n",
      "  df['qt_binning'] = var_bins_series(df[var], bins, side = side)\n"
     ]
    },
    {
     "data": {
      "image/png": "[encoded data removed]",
      "text/plain": [
       "<matplotlib.figure.Figure at 0x24d4c50>"
      ]
     },
     "metadata": {},
     "output_type": "display_data"
    },
    {
     "name": "stdout",
     "output_type": "stream",
     "text": [
      "bs_add5 变量的IV值为 0.01791550980337108\n"
     ]
    },
    {
     "data": {
      "text/html": [
       "<div>\n",
       "<table border=\"1\" class=\"dataframe\">\n",
       "  <thead>\n",
       "    <tr style=\"text-align: right;\">\n",
       "      <th></th>\n",
       "      <th>Lbound</th>\n",
       "      <th>Ubound</th>\n",
       "      <th>Totalcnt</th>\n",
       "      <th>PctTotal</th>\n",
       "      <th>Y_count</th>\n",
       "      <th>n_Y_count</th>\n",
       "      <th>Y_pct</th>\n",
       "      <th>n_Y_pct</th>\n",
       "      <th>Y_rate</th>\n",
       "      <th>WOE</th>\n",
       "      <th>IV</th>\n",
       "    </tr>\n",
       "    <tr>\n",
       "      <th>qt_binning</th>\n",
       "      <th></th>\n",
       "      <th></th>\n",
       "      <th></th>\n",
       "      <th></th>\n",
       "      <th></th>\n",
       "      <th></th>\n",
       "      <th></th>\n",
       "      <th></th>\n",
       "      <th></th>\n",
       "      <th></th>\n",
       "      <th></th>\n",
       "    </tr>\n",
       "  </thead>\n",
       "  <tbody>\n",
       "    <tr>\n",
       "      <th>(-inf, 0]</th>\n",
       "      <td>0</td>\n",
       "      <td>0</td>\n",
       "      <td>14398</td>\n",
       "      <td>0.582373</td>\n",
       "      <td>1377</td>\n",
       "      <td>13021</td>\n",
       "      <td>0.641958</td>\n",
       "      <td>0.576712</td>\n",
       "      <td>0.095638</td>\n",
       "      <td>0.107180</td>\n",
       "      <td>0.006993</td>\n",
       "    </tr>\n",
       "    <tr>\n",
       "      <th>(0, +inf)</th>\n",
       "      <td>1</td>\n",
       "      <td>1</td>\n",
       "      <td>10325</td>\n",
       "      <td>0.417627</td>\n",
       "      <td>768</td>\n",
       "      <td>9557</td>\n",
       "      <td>0.358042</td>\n",
       "      <td>0.423288</td>\n",
       "      <td>0.074383</td>\n",
       "      <td>-0.167403</td>\n",
       "      <td>0.010922</td>\n",
       "    </tr>\n",
       "  </tbody>\n",
       "</table>\n",
       "</div>"
      ],
      "text/plain": [
       "            Lbound  Ubound  Totalcnt  PctTotal  Y_count  n_Y_count     Y_pct  \\\n",
       "qt_binning                                                                     \n",
       "(-inf, 0]        0       0     14398  0.582373     1377      13021  0.641958   \n",
       "(0, +inf)        1       1     10325  0.417627      768       9557  0.358042   \n",
       "\n",
       "             n_Y_pct    Y_rate       WOE        IV  \n",
       "qt_binning                                          \n",
       "(-inf, 0]   0.576712  0.095638  0.107180  0.006993  \n",
       "(0, +inf)   0.423288  0.074383 -0.167403  0.010922  "
      ]
     },
     "execution_count": 41,
     "metadata": {},
     "output_type": "execute_result"
    }
   ],
   "source": [
    "var_name = 'bs_add5' #变量\n",
    "var_bin = variable_binning(data_form, target, var_name, [0], 'bins')\n",
    "binning_plot(var_bin)\n",
    "print(var_name,'变量的IV值为',var_bin['IV'].sum())\n",
    "var_bin_ls_bs_add5=var_bin['WOE']\n",
    "var_bin.sort_values('Lbound')"
   ]
  },
  {
   "cell_type": "code",
   "execution_count": 42,
   "metadata": {
    "collapsed": false
   },
   "outputs": [
    {
     "name": "stderr",
     "output_type": "stream",
     "text": [
      "C:\\Users\\xiongjun\\AppData\\Local\\Continuum\\Anaconda3\\lib\\site-packages\\pandas\\core\\generic.py:3295: SettingWithCopyWarning: \n",
      "A value is trying to be set on a copy of a slice from a DataFrame\n",
      "\n",
      "See the caveats in the documentation: http://pandas.pydata.org/pandas-docs/stable/indexing.html#indexing-view-versus-copy\n",
      "  self._update_inplace(new_data)\n",
      "C:\\Users\\xiongjun\\sc_func.py:124: SettingWithCopyWarning: \n",
      "A value is trying to be set on a copy of a slice from a DataFrame.\n",
      "Try using .loc[row_indexer,col_indexer] = value instead\n",
      "\n",
      "See the caveats in the documentation: http://pandas.pydata.org/pandas-docs/stable/indexing.html#indexing-view-versus-copy\n",
      "  df['qt_binning'] = var_bins_series(df[var], bins, side = side)\n"
     ]
    },
    {
     "data": {
      "image/png": "[encoded data removed]",
      "text/plain": [
       "<matplotlib.figure.Figure at 0x24d4c50>"
      ]
     },
     "metadata": {},
     "output_type": "display_data"
    },
    {
     "name": "stdout",
     "output_type": "stream",
     "text": [
      "bd_addr_abn_apply 变量的IV值为 0.0017729415247932586\n"
     ]
    },
    {
     "data": {
      "text/html": [
       "<div>\n",
       "<table border=\"1\" class=\"dataframe\">\n",
       "  <thead>\n",
       "    <tr style=\"text-align: right;\">\n",
       "      <th></th>\n",
       "      <th>Lbound</th>\n",
       "      <th>Ubound</th>\n",
       "      <th>Totalcnt</th>\n",
       "      <th>PctTotal</th>\n",
       "      <th>Y_count</th>\n",
       "      <th>n_Y_count</th>\n",
       "      <th>Y_pct</th>\n",
       "      <th>n_Y_pct</th>\n",
       "      <th>Y_rate</th>\n",
       "      <th>WOE</th>\n",
       "      <th>IV</th>\n",
       "    </tr>\n",
       "    <tr>\n",
       "      <th>qt_binning</th>\n",
       "      <th></th>\n",
       "      <th></th>\n",
       "      <th></th>\n",
       "      <th></th>\n",
       "      <th></th>\n",
       "      <th></th>\n",
       "      <th></th>\n",
       "      <th></th>\n",
       "      <th></th>\n",
       "      <th></th>\n",
       "      <th></th>\n",
       "    </tr>\n",
       "  </thead>\n",
       "  <tbody>\n",
       "    <tr>\n",
       "      <th>(-inf, 0]</th>\n",
       "      <td>0</td>\n",
       "      <td>0</td>\n",
       "      <td>24716</td>\n",
       "      <td>0.999717</td>\n",
       "      <td>2145</td>\n",
       "      <td>22571</td>\n",
       "      <td>1.000000</td>\n",
       "      <td>0.99969</td>\n",
       "      <td>0.086786</td>\n",
       "      <td>0.000310</td>\n",
       "      <td>9.613742e-08</td>\n",
       "    </tr>\n",
       "    <tr>\n",
       "      <th>(0, +inf)</th>\n",
       "      <td>1</td>\n",
       "      <td>1</td>\n",
       "      <td>7</td>\n",
       "      <td>0.000283</td>\n",
       "      <td>0</td>\n",
       "      <td>7</td>\n",
       "      <td>0.000001</td>\n",
       "      <td>0.00031</td>\n",
       "      <td>0.000000</td>\n",
       "      <td>-5.736689</td>\n",
       "      <td>1.772845e-03</td>\n",
       "    </tr>\n",
       "  </tbody>\n",
       "</table>\n",
       "</div>"
      ],
      "text/plain": [
       "            Lbound  Ubound  Totalcnt  PctTotal  Y_count  n_Y_count     Y_pct  \\\n",
       "qt_binning                                                                     \n",
       "(-inf, 0]        0       0     24716  0.999717     2145      22571  1.000000   \n",
       "(0, +inf)        1       1         7  0.000283        0          7  0.000001   \n",
       "\n",
       "            n_Y_pct    Y_rate       WOE            IV  \n",
       "qt_binning                                             \n",
       "(-inf, 0]   0.99969  0.086786  0.000310  9.613742e-08  \n",
       "(0, +inf)   0.00031  0.000000 -5.736689  1.772845e-03  "
      ]
     },
     "execution_count": 42,
     "metadata": {},
     "output_type": "execute_result"
    }
   ],
   "source": [
    "var_name = 'bd_addr_abn_apply' #变量\n",
    "var_bin = variable_binning(data_form, target, var_name, [0], 'bins')\n",
    "binning_plot(var_bin)\n",
    "print(var_name,'变量的IV值为',var_bin['IV'].sum())\n",
    "var_bin_ls_bd_addr_abn_apply=var_bin['WOE']\n",
    "var_bin.sort_values('Lbound')"
   ]
  },
  {
   "cell_type": "code",
   "execution_count": 43,
   "metadata": {
    "collapsed": false
   },
   "outputs": [
    {
     "name": "stderr",
     "output_type": "stream",
     "text": [
      "C:\\Users\\xiongjun\\AppData\\Local\\Continuum\\Anaconda3\\lib\\site-packages\\pandas\\core\\generic.py:3295: SettingWithCopyWarning: \n",
      "A value is trying to be set on a copy of a slice from a DataFrame\n",
      "\n",
      "See the caveats in the documentation: http://pandas.pydata.org/pandas-docs/stable/indexing.html#indexing-view-versus-copy\n",
      "  self._update_inplace(new_data)\n",
      "C:\\Users\\xiongjun\\sc_func.py:124: SettingWithCopyWarning: \n",
      "A value is trying to be set on a copy of a slice from a DataFrame.\n",
      "Try using .loc[row_indexer,col_indexer] = value instead\n",
      "\n",
      "See the caveats in the documentation: http://pandas.pydata.org/pandas-docs/stable/indexing.html#indexing-view-versus-copy\n",
      "  df['qt_binning'] = var_bins_series(df[var], bins, side = side)\n"
     ]
    },
    {
     "data": {
      "image/png": "[encoded data removed]",
      "text/plain": [
       "<matplotlib.figure.Figure at 0x24d4c50>"
      ]
     },
     "metadata": {},
     "output_type": "display_data"
    },
    {
     "name": "stdout",
     "output_type": "stream",
     "text": [
      "dist_gps5_abn_spend 变量的IV值为 0.0039809205264729475\n"
     ]
    },
    {
     "data": {
      "text/html": [
       "<div>\n",
       "<table border=\"1\" class=\"dataframe\">\n",
       "  <thead>\n",
       "    <tr style=\"text-align: right;\">\n",
       "      <th></th>\n",
       "      <th>Lbound</th>\n",
       "      <th>Ubound</th>\n",
       "      <th>Totalcnt</th>\n",
       "      <th>PctTotal</th>\n",
       "      <th>Y_count</th>\n",
       "      <th>n_Y_count</th>\n",
       "      <th>Y_pct</th>\n",
       "      <th>n_Y_pct</th>\n",
       "      <th>Y_rate</th>\n",
       "      <th>WOE</th>\n",
       "      <th>IV</th>\n",
       "    </tr>\n",
       "    <tr>\n",
       "      <th>qt_binning</th>\n",
       "      <th></th>\n",
       "      <th></th>\n",
       "      <th></th>\n",
       "      <th></th>\n",
       "      <th></th>\n",
       "      <th></th>\n",
       "      <th></th>\n",
       "      <th></th>\n",
       "      <th></th>\n",
       "      <th></th>\n",
       "      <th></th>\n",
       "    </tr>\n",
       "  </thead>\n",
       "  <tbody>\n",
       "    <tr>\n",
       "      <th>(-inf, 0]</th>\n",
       "      <td>0</td>\n",
       "      <td>0</td>\n",
       "      <td>24709</td>\n",
       "      <td>0.999434</td>\n",
       "      <td>2145</td>\n",
       "      <td>22564</td>\n",
       "      <td>1.000000</td>\n",
       "      <td>0.99938</td>\n",
       "      <td>0.08681</td>\n",
       "      <td>0.000620</td>\n",
       "      <td>3.846093e-07</td>\n",
       "    </tr>\n",
       "    <tr>\n",
       "      <th>(0, +inf)</th>\n",
       "      <td>1</td>\n",
       "      <td>1</td>\n",
       "      <td>14</td>\n",
       "      <td>0.000566</td>\n",
       "      <td>0</td>\n",
       "      <td>14</td>\n",
       "      <td>0.000001</td>\n",
       "      <td>0.00062</td>\n",
       "      <td>0.00000</td>\n",
       "      <td>-6.429837</td>\n",
       "      <td>3.980536e-03</td>\n",
       "    </tr>\n",
       "  </tbody>\n",
       "</table>\n",
       "</div>"
      ],
      "text/plain": [
       "            Lbound  Ubound  Totalcnt  PctTotal  Y_count  n_Y_count     Y_pct  \\\n",
       "qt_binning                                                                     \n",
       "(-inf, 0]        0       0     24709  0.999434     2145      22564  1.000000   \n",
       "(0, +inf)        1       1        14  0.000566        0         14  0.000001   \n",
       "\n",
       "            n_Y_pct   Y_rate       WOE            IV  \n",
       "qt_binning                                            \n",
       "(-inf, 0]   0.99938  0.08681  0.000620  3.846093e-07  \n",
       "(0, +inf)   0.00062  0.00000 -6.429837  3.980536e-03  "
      ]
     },
     "execution_count": 43,
     "metadata": {},
     "output_type": "execute_result"
    }
   ],
   "source": [
    "var_name = 'dist_gps5_abn_spend' #变量\n",
    "var_bin = variable_binning(data_form, target, var_name, [0], 'bins')\n",
    "binning_plot(var_bin)\n",
    "print(var_name,'变量的IV值为',var_bin['IV'].sum())\n",
    "var_bin_dist_gps5_abn_beh=var_bin['WOE']\n",
    "var_bin.sort_values('Lbound')"
   ]
  },
  {
   "cell_type": "markdown",
   "metadata": {
    "collapsed": true
   },
   "source": [
    "## 模型训练"
   ]
  },
  {
   "cell_type": "code",
   "execution_count": 176,
   "metadata": {
    "collapsed": true
   },
   "outputs": [],
   "source": [
    "import statsmodels.api as sm\n",
    "from sklearn.metrics import roc_auc_score"
   ]
  },
  {
   "cell_type": "code",
   "execution_count": 177,
   "metadata": {
    "collapsed": false
   },
   "outputs": [],
   "source": [
    "selected_var ={#'cs':[0,4,5,6,7],\n",
    "               #'od':[0],\n",
    "                'ls_od_b_1y':[0],\n",
    "                'ls_od_b_2y':[0],\n",
    "                #'ls_od_f_6t':[0],\n",
    "               #'xc_behavior':[0],\n",
    "               'xc_overloan':[0],\n",
    "               'xc_overdue':[0],\n",
    "               #'xc_record':[0],\n",
    "               'rv':[0],\n",
    "               'rc_idname_multi':[0],\n",
    "                #'rc_relation_age':[0],\n",
    "                #'rc_relation_multi':[0],\n",
    "                'rc_relation_cnt':[0],\n",
    "               'ls_cr':[0],\n",
    "               'ls_cr_cl':[0],\n",
    "               'ls_gp':[0],\n",
    "               #'ls_gp_cl':[0],\n",
    "               'ls_nd':[0],\n",
    "               #'ld_rc':[0],\n",
    "               'ld_xc':[0],\n",
    "               'bs_gps5':[0]\n",
    "              }"
   ]
  },
  {
   "cell_type": "code",
   "execution_count": 178,
   "metadata": {
    "collapsed": false
   },
   "outputs": [
    {
     "name": "stderr",
     "output_type": "stream",
     "text": [
      "C:\\Users\\xiongjun\\AppData\\Local\\Continuum\\Anaconda3\\lib\\site-packages\\pandas\\core\\generic.py:3295: SettingWithCopyWarning: \n",
      "A value is trying to be set on a copy of a slice from a DataFrame\n",
      "\n",
      "See the caveats in the documentation: http://pandas.pydata.org/pandas-docs/stable/indexing.html#indexing-view-versus-copy\n",
      "  self._update_inplace(new_data)\n",
      "C:\\Users\\xiongjun\\sc_func.py:124: SettingWithCopyWarning: \n",
      "A value is trying to be set on a copy of a slice from a DataFrame.\n",
      "Try using .loc[row_indexer,col_indexer] = value instead\n",
      "\n",
      "See the caveats in the documentation: http://pandas.pydata.org/pandas-docs/stable/indexing.html#indexing-view-versus-copy\n",
      "  df['qt_binning'] = var_bins_series(df[var], bins, side = side)\n"
     ]
    }
   ],
   "source": [
    "#WOE变换\n",
    "WOE_train = WOE_mapping(data_form,selected_var, target)\n",
    "train_X = WOE_train.drop(target, axis = 1)\n",
    "train_X['constant'] = 1\n",
    "train_Y = WOE_train[target]"
   ]
  },
  {
   "cell_type": "code",
   "execution_count": 179,
   "metadata": {
    "collapsed": false
   },
   "outputs": [
    {
     "name": "stdout",
     "output_type": "stream",
     "text": [
      "Optimization terminated successfully.\n",
      "         Current function value: 0.280056\n",
      "         Iterations 8\n"
     ]
    },
    {
     "data": {
      "text/html": [
       "<table class=\"simpletable\">\n",
       "<caption>Logit Regression Results</caption>\n",
       "<tr>\n",
       "  <th>Dep. Variable:</th>       <td>type</td>       <th>  No. Observations:  </th>   <td> 29322</td>  \n",
       "</tr>\n",
       "<tr>\n",
       "  <th>Model:</th>               <td>Logit</td>      <th>  Df Residuals:      </th>   <td> 29308</td>  \n",
       "</tr>\n",
       "<tr>\n",
       "  <th>Method:</th>               <td>MLE</td>       <th>  Df Model:          </th>   <td>    13</td>  \n",
       "</tr>\n",
       "<tr>\n",
       "  <th>Date:</th>          <td>Tue, 03 Apr 2018</td> <th>  Pseudo R-squ.:     </th>   <td>0.04774</td> \n",
       "</tr>\n",
       "<tr>\n",
       "  <th>Time:</th>              <td>16:54:44</td>     <th>  Log-Likelihood:    </th>  <td> -8211.8</td> \n",
       "</tr>\n",
       "<tr>\n",
       "  <th>converged:</th>           <td>True</td>       <th>  LL-Null:           </th>  <td> -8623.4</td> \n",
       "</tr>\n",
       "<tr>\n",
       "  <th> </th>                      <td> </td>        <th>  LLR p-value:       </th> <td>1.419e-167</td>\n",
       "</tr>\n",
       "</table>\n",
       "<table class=\"simpletable\">\n",
       "<tr>\n",
       "         <td></td>            <th>coef</th>     <th>std err</th>      <th>z</th>      <th>P>|z|</th> <th>[95.0% Conf. Int.]</th> \n",
       "</tr>\n",
       "<tr>\n",
       "  <th>ls_od_b_1y</th>      <td>    0.7656</td> <td>    1.599</td> <td>    0.479</td> <td> 0.632</td> <td>   -2.369     3.900</td>\n",
       "</tr>\n",
       "<tr>\n",
       "  <th>ls_od_b_2y</th>      <td>    0.4960</td> <td>    1.476</td> <td>    0.336</td> <td> 0.737</td> <td>   -2.397     3.389</td>\n",
       "</tr>\n",
       "<tr>\n",
       "  <th>xc_overloan</th>     <td>    0.9540</td> <td>    0.055</td> <td>   17.502</td> <td> 0.000</td> <td>    0.847     1.061</td>\n",
       "</tr>\n",
       "<tr>\n",
       "  <th>xc_overdue</th>      <td>    0.6805</td> <td>    0.256</td> <td>    2.660</td> <td> 0.008</td> <td>    0.179     1.182</td>\n",
       "</tr>\n",
       "<tr>\n",
       "  <th>rv</th>              <td>    0.7128</td> <td>    0.273</td> <td>    2.610</td> <td> 0.009</td> <td>    0.177     1.248</td>\n",
       "</tr>\n",
       "<tr>\n",
       "  <th>rc_idname_multi</th> <td>    0.5507</td> <td>    0.479</td> <td>    1.149</td> <td> 0.251</td> <td>   -0.389     1.491</td>\n",
       "</tr>\n",
       "<tr>\n",
       "  <th>rc_relation_cnt</th> <td>    0.5523</td> <td>    0.449</td> <td>    1.229</td> <td> 0.219</td> <td>   -0.328     1.433</td>\n",
       "</tr>\n",
       "<tr>\n",
       "  <th>ls_cr</th>           <td>    0.6220</td> <td>    0.119</td> <td>    5.246</td> <td> 0.000</td> <td>    0.390     0.854</td>\n",
       "</tr>\n",
       "<tr>\n",
       "  <th>ls_cr_cl</th>        <td>    0.7628</td> <td>    0.074</td> <td>   10.345</td> <td> 0.000</td> <td>    0.618     0.907</td>\n",
       "</tr>\n",
       "<tr>\n",
       "  <th>ls_gp</th>           <td>    0.2162</td> <td>    0.499</td> <td>    0.433</td> <td> 0.665</td> <td>   -0.762     1.194</td>\n",
       "</tr>\n",
       "<tr>\n",
       "  <th>ls_nd</th>           <td>    0.4010</td> <td>    0.086</td> <td>    4.663</td> <td> 0.000</td> <td>    0.232     0.570</td>\n",
       "</tr>\n",
       "<tr>\n",
       "  <th>ld_xc</th>           <td>    0.6624</td> <td>    0.186</td> <td>    3.561</td> <td> 0.000</td> <td>    0.298     1.027</td>\n",
       "</tr>\n",
       "<tr>\n",
       "  <th>bs_gps5</th>         <td>    1.1648</td> <td>    0.540</td> <td>    2.158</td> <td> 0.031</td> <td>    0.107     2.223</td>\n",
       "</tr>\n",
       "<tr>\n",
       "  <th>constant</th>        <td>   -2.3587</td> <td>    0.022</td> <td> -107.866</td> <td> 0.000</td> <td>   -2.402    -2.316</td>\n",
       "</tr>\n",
       "</table>"
      ],
      "text/plain": [
       "<class 'statsmodels.iolib.summary.Summary'>\n",
       "\"\"\"\n",
       "                           Logit Regression Results                           \n",
       "==============================================================================\n",
       "Dep. Variable:                   type   No. Observations:                29322\n",
       "Model:                          Logit   Df Residuals:                    29308\n",
       "Method:                           MLE   Df Model:                           13\n",
       "Date:                Tue, 03 Apr 2018   Pseudo R-squ.:                 0.04774\n",
       "Time:                        16:54:44   Log-Likelihood:                -8211.8\n",
       "converged:                       True   LL-Null:                       -8623.4\n",
       "                                        LLR p-value:                1.419e-167\n",
       "===================================================================================\n",
       "                      coef    std err          z      P>|z|      [95.0% Conf. Int.]\n",
       "-----------------------------------------------------------------------------------\n",
       "ls_od_b_1y          0.7656      1.599      0.479      0.632        -2.369     3.900\n",
       "ls_od_b_2y          0.4960      1.476      0.336      0.737        -2.397     3.389\n",
       "xc_overloan         0.9540      0.055     17.502      0.000         0.847     1.061\n",
       "xc_overdue          0.6805      0.256      2.660      0.008         0.179     1.182\n",
       "rv                  0.7128      0.273      2.610      0.009         0.177     1.248\n",
       "rc_idname_multi     0.5507      0.479      1.149      0.251        -0.389     1.491\n",
       "rc_relation_cnt     0.5523      0.449      1.229      0.219        -0.328     1.433\n",
       "ls_cr               0.6220      0.119      5.246      0.000         0.390     0.854\n",
       "ls_cr_cl            0.7628      0.074     10.345      0.000         0.618     0.907\n",
       "ls_gp               0.2162      0.499      0.433      0.665        -0.762     1.194\n",
       "ls_nd               0.4010      0.086      4.663      0.000         0.232     0.570\n",
       "ld_xc               0.6624      0.186      3.561      0.000         0.298     1.027\n",
       "bs_gps5             1.1648      0.540      2.158      0.031         0.107     2.223\n",
       "constant           -2.3587      0.022   -107.866      0.000        -2.402    -2.316\n",
       "===================================================================================\n",
       "\"\"\""
      ]
     },
     "execution_count": 179,
     "metadata": {},
     "output_type": "execute_result"
    }
   ],
   "source": [
    "logit = sm.Logit(train_Y, train_X).fit()\n",
    "logit_params=logit.params\n",
    "logit.summary()"
   ]
  },
  {
   "cell_type": "code",
   "execution_count": 180,
   "metadata": {
    "collapsed": false
   },
   "outputs": [
    {
     "data": {
      "text/plain": [
       "0.27089189653164686"
      ]
     },
     "execution_count": 180,
     "metadata": {},
     "output_type": "execute_result"
    }
   ],
   "source": [
    "#KS值\n",
    "predict_Y = logit.predict(train_X)\n",
    "KS_calculation(train_Y,predict_Y, 40)"
   ]
  },
  {
   "cell_type": "code",
   "execution_count": 181,
   "metadata": {
    "collapsed": false
   },
   "outputs": [
    {
     "data": {
      "text/plain": [
       "0.66764083466269442"
      ]
     },
     "execution_count": 181,
     "metadata": {},
     "output_type": "execute_result"
    }
   ],
   "source": [
    "#ROC值\n",
    "roc_auc_score(train_Y,predict_Y)"
   ]
  },
  {
   "cell_type": "markdown",
   "metadata": {
    "collapsed": true
   },
   "source": [
    "## 打分"
   ]
  },
  {
   "cell_type": "code",
   "execution_count": 182,
   "metadata": {
    "collapsed": false
   },
   "outputs": [
    {
     "name": "stderr",
     "output_type": "stream",
     "text": [
      "C:\\Users\\xiongjun\\AppData\\Local\\Continuum\\Anaconda3\\lib\\site-packages\\ipykernel\\__main__.py:3: SettingWithCopyWarning: \n",
      "A value is trying to be set on a copy of a slice from a DataFrame.\n",
      "Try using .loc[row_indexer,col_indexer] = value instead\n",
      "\n",
      "See the caveats in the documentation: http://pandas.pydata.org/pandas-docs/stable/indexing.html#indexing-view-versus-copy\n",
      "  app.launch_new_instance()\n",
      "C:\\Users\\xiongjun\\AppData\\Local\\Continuum\\Anaconda3\\lib\\site-packages\\ipykernel\\__main__.py:10: SettingWithCopyWarning: \n",
      "A value is trying to be set on a copy of a slice from a DataFrame.\n",
      "Try using .loc[row_indexer,col_indexer] = value instead\n",
      "\n",
      "See the caveats in the documentation: http://pandas.pydata.org/pandas-docs/stable/indexing.html#indexing-view-versus-copy\n",
      "C:\\Users\\xiongjun\\AppData\\Local\\Continuum\\Anaconda3\\lib\\site-packages\\ipykernel\\__main__.py:11: SettingWithCopyWarning: \n",
      "A value is trying to be set on a copy of a slice from a DataFrame.\n",
      "Try using .loc[row_indexer,col_indexer] = value instead\n",
      "\n",
      "See the caveats in the documentation: http://pandas.pydata.org/pandas-docs/stable/indexing.html#indexing-view-versus-copy\n"
     ]
    }
   ],
   "source": [
    "import math\n",
    "score_data=data_form[['type']]\n",
    "score_data['probability'] = predict_Y\n",
    "\n",
    "#风险odds=15:1时，基本分数为500分\n",
    "#风险翻倍时，即odds=15:2时，分数降低50分\n",
    "B = 50/math.log(2, math.e)\n",
    "A = 500 + B * math.log(1/15,math.e)\n",
    "\n",
    "score_data['odds'] = (score_data['probability']/(1-score_data['probability']) ).apply(lambda x: math.log(x, math.e))\n",
    "score_data['score'] = A - B * score_data['odds']"
   ]
  },
  {
   "cell_type": "code",
   "execution_count": 183,
   "metadata": {
    "collapsed": false
   },
   "outputs": [
    {
     "data": {
      "text/plain": [
       "487.2743837057824"
      ]
     },
     "execution_count": 183,
     "metadata": {},
     "output_type": "execute_result"
    }
   ],
   "source": [
    "score_data['score'].sum()/score_data.shape[0]"
   ]
  },
  {
   "cell_type": "code",
   "execution_count": 184,
   "metadata": {
    "collapsed": false
   },
   "outputs": [
    {
     "data": {
      "text/plain": [
       "28760"
      ]
     },
     "execution_count": 184,
     "metadata": {},
     "output_type": "execute_result"
    }
   ],
   "source": [
    "score_data[score_data['score']<=600].shape[0]"
   ]
  },
  {
   "cell_type": "code",
   "execution_count": 185,
   "metadata": {
    "collapsed": false
   },
   "outputs": [
    {
     "data": {
      "text/plain": [
       "0.8919241525134711"
      ]
     },
     "execution_count": 185,
     "metadata": {},
     "output_type": "execute_result"
    }
   ],
   "source": [
    "score_data[score_data['score']<=560].shape[0]/score_data.shape[0]"
   ]
  },
  {
   "cell_type": "code",
   "execution_count": 186,
   "metadata": {
    "collapsed": false
   },
   "outputs": [
    {
     "data": {
      "text/plain": [
       "0.0936412648644515"
      ]
     },
     "execution_count": 186,
     "metadata": {},
     "output_type": "execute_result"
    }
   ],
   "source": [
    "score_data[(score_data.score<=560) & (score_data.type==1)].shape[0]/score_data[score_data['score']<=560].shape[0]"
   ]
  },
  {
   "cell_type": "code",
   "execution_count": 187,
   "metadata": {
    "collapsed": false
   },
   "outputs": [
    {
     "data": {
      "image/png": "[encoded data removed]",
      "text/plain": [
       "<matplotlib.figure.Figure at 0xda24208>"
      ]
     },
     "metadata": {},
     "output_type": "display_data"
    }
   ],
   "source": [
    "#分数区间\n",
    "score_data.score.hist()\n",
    "plt.show()"
   ]
  },
  {
   "cell_type": "code",
   "execution_count": 188,
   "metadata": {
    "collapsed": false
   },
   "outputs": [
    {
     "name": "stderr",
     "output_type": "stream",
     "text": [
      "C:\\Users\\xiongjun\\AppData\\Local\\Continuum\\Anaconda3\\lib\\site-packages\\pandas\\core\\generic.py:3295: SettingWithCopyWarning: \n",
      "A value is trying to be set on a copy of a slice from a DataFrame\n",
      "\n",
      "See the caveats in the documentation: http://pandas.pydata.org/pandas-docs/stable/indexing.html#indexing-view-versus-copy\n",
      "  self._update_inplace(new_data)\n",
      "C:\\Users\\xiongjun\\sc_func.py:124: SettingWithCopyWarning: \n",
      "A value is trying to be set on a copy of a slice from a DataFrame.\n",
      "Try using .loc[row_indexer,col_indexer] = value instead\n",
      "\n",
      "See the caveats in the documentation: http://pandas.pydata.org/pandas-docs/stable/indexing.html#indexing-view-versus-copy\n",
      "  df['qt_binning'] = var_bins_series(df[var], bins, side = side)\n"
     ]
    }
   ],
   "source": [
    "#分数分段\n",
    "var_name = 'score' #变量\n",
    "bins=[450,500,520,550]\n",
    "var_bin = variable_binning(score_data, target, var_name, bins, 'bins')\n",
    "#var_bin.sort_values('Lbound')"
   ]
  },
  {
   "cell_type": "code",
   "execution_count": 189,
   "metadata": {
    "collapsed": true
   },
   "outputs": [],
   "source": [
    "def binning_plot(df):\n",
    "    '''\n",
    "    plot Y_rate and bin_percent curves\n",
    "    '''\n",
    "    plt.figure(figsize=(16, 6))\n",
    "    plt.subplot(121)\n",
    "    df['Y_rate'].plot()\n",
    "    plt.title('bins_bad_rate')\n",
    "\n",
    "    plt.subplot(122)\n",
    "    df['PctTotal'].plot.bar(secondary_y=True,alpha = 0.8, grid = False)\n",
    "    plt.title('bins_cnt')\n",
    "    \n",
    "    plt.tight_layout()\n",
    "    plt.show()"
   ]
  },
  {
   "cell_type": "code",
   "execution_count": 190,
   "metadata": {
    "collapsed": false
   },
   "outputs": [
    {
     "data": {
      "image/png": "[encoded data removed]",
      "text/plain": [
       "<matplotlib.figure.Figure at 0xdad8208>"
      ]
     },
     "metadata": {},
     "output_type": "display_data"
    }
   ],
   "source": [
    "binning_plot(var_bin)"
   ]
  },
  {
   "cell_type": "code",
   "execution_count": 191,
   "metadata": {
    "collapsed": false
   },
   "outputs": [
    {
     "data": {
      "text/html": [
       "<div>\n",
       "<table border=\"1\" class=\"dataframe\">\n",
       "  <thead>\n",
       "    <tr style=\"text-align: right;\">\n",
       "      <th></th>\n",
       "      <th>Lbound</th>\n",
       "      <th>Ubound</th>\n",
       "      <th>Totalcnt</th>\n",
       "      <th>PctTotal</th>\n",
       "      <th>Y_count</th>\n",
       "      <th>n_Y_count</th>\n",
       "      <th>Y_pct</th>\n",
       "      <th>n_Y_pct</th>\n",
       "      <th>Y_rate</th>\n",
       "      <th>WOE</th>\n",
       "      <th>IV</th>\n",
       "    </tr>\n",
       "    <tr>\n",
       "      <th>qt_binning</th>\n",
       "      <th></th>\n",
       "      <th></th>\n",
       "      <th></th>\n",
       "      <th></th>\n",
       "      <th></th>\n",
       "      <th></th>\n",
       "      <th></th>\n",
       "      <th></th>\n",
       "      <th></th>\n",
       "      <th></th>\n",
       "      <th></th>\n",
       "    </tr>\n",
       "  </thead>\n",
       "  <tbody>\n",
       "    <tr>\n",
       "      <th>(-inf, 450]</th>\n",
       "      <td>373.421028</td>\n",
       "      <td>447.506590</td>\n",
       "      <td>8975</td>\n",
       "      <td>0.306084</td>\n",
       "      <td>1375</td>\n",
       "      <td>7600</td>\n",
       "      <td>0.542835</td>\n",
       "      <td>0.283699</td>\n",
       "      <td>0.153203</td>\n",
       "      <td>0.648892</td>\n",
       "      <td>0.168151</td>\n",
       "    </tr>\n",
       "    <tr>\n",
       "      <th>(450, 500]</th>\n",
       "      <td>450.774035</td>\n",
       "      <td>499.722803</td>\n",
       "      <td>12586</td>\n",
       "      <td>0.429234</td>\n",
       "      <td>880</td>\n",
       "      <td>11706</td>\n",
       "      <td>0.347414</td>\n",
       "      <td>0.436970</td>\n",
       "      <td>0.069919</td>\n",
       "      <td>-0.229348</td>\n",
       "      <td>0.020540</td>\n",
       "    </tr>\n",
       "    <tr>\n",
       "      <th>(500, 520]</th>\n",
       "      <td>500.235554</td>\n",
       "      <td>519.993971</td>\n",
       "      <td>1596</td>\n",
       "      <td>0.054430</td>\n",
       "      <td>78</td>\n",
       "      <td>1518</td>\n",
       "      <td>0.030794</td>\n",
       "      <td>0.056665</td>\n",
       "      <td>0.048872</td>\n",
       "      <td>-0.609853</td>\n",
       "      <td>0.015778</td>\n",
       "    </tr>\n",
       "    <tr>\n",
       "      <th>(520, 550]</th>\n",
       "      <td>520.036924</td>\n",
       "      <td>549.979575</td>\n",
       "      <td>2668</td>\n",
       "      <td>0.090990</td>\n",
       "      <td>106</td>\n",
       "      <td>2562</td>\n",
       "      <td>0.041848</td>\n",
       "      <td>0.095636</td>\n",
       "      <td>0.039730</td>\n",
       "      <td>-0.826517</td>\n",
       "      <td>0.044457</td>\n",
       "    </tr>\n",
       "    <tr>\n",
       "      <th>(550, +inf)</th>\n",
       "      <td>550.065048</td>\n",
       "      <td>643.927263</td>\n",
       "      <td>3497</td>\n",
       "      <td>0.119262</td>\n",
       "      <td>94</td>\n",
       "      <td>3403</td>\n",
       "      <td>0.037110</td>\n",
       "      <td>0.127030</td>\n",
       "      <td>0.026880</td>\n",
       "      <td>-1.230531</td>\n",
       "      <td>0.110649</td>\n",
       "    </tr>\n",
       "  </tbody>\n",
       "</table>\n",
       "</div>"
      ],
      "text/plain": [
       "                 Lbound      Ubound  Totalcnt  PctTotal  Y_count  n_Y_count  \\\n",
       "qt_binning                                                                    \n",
       "(-inf, 450]  373.421028  447.506590      8975  0.306084     1375       7600   \n",
       "(450, 500]   450.774035  499.722803     12586  0.429234      880      11706   \n",
       "(500, 520]   500.235554  519.993971      1596  0.054430       78       1518   \n",
       "(520, 550]   520.036924  549.979575      2668  0.090990      106       2562   \n",
       "(550, +inf)  550.065048  643.927263      3497  0.119262       94       3403   \n",
       "\n",
       "                Y_pct   n_Y_pct    Y_rate       WOE        IV  \n",
       "qt_binning                                                     \n",
       "(-inf, 450]  0.542835  0.283699  0.153203  0.648892  0.168151  \n",
       "(450, 500]   0.347414  0.436970  0.069919 -0.229348  0.020540  \n",
       "(500, 520]   0.030794  0.056665  0.048872 -0.609853  0.015778  \n",
       "(520, 550]   0.041848  0.095636  0.039730 -0.826517  0.044457  \n",
       "(550, +inf)  0.037110  0.127030  0.026880 -1.230531  0.110649  "
      ]
     },
     "execution_count": 191,
     "metadata": {},
     "output_type": "execute_result"
    }
   ],
   "source": [
    "var_bin"
   ]
  },
  {
   "cell_type": "markdown",
   "metadata": {},
   "source": [
    "## 变量分组打分"
   ]
  },
  {
   "cell_type": "code",
   "execution_count": 192,
   "metadata": {
    "collapsed": false
   },
   "outputs": [
    {
     "name": "stderr",
     "output_type": "stream",
     "text": [
      "C:\\Users\\xiongjun\\AppData\\Local\\Continuum\\Anaconda3\\lib\\site-packages\\pandas\\core\\generic.py:3295: SettingWithCopyWarning: \n",
      "A value is trying to be set on a copy of a slice from a DataFrame\n",
      "\n",
      "See the caveats in the documentation: http://pandas.pydata.org/pandas-docs/stable/indexing.html#indexing-view-versus-copy\n",
      "  self._update_inplace(new_data)\n",
      "C:\\Users\\xiongjun\\sc_func.py:124: SettingWithCopyWarning: \n",
      "A value is trying to be set on a copy of a slice from a DataFrame.\n",
      "Try using .loc[row_indexer,col_indexer] = value instead\n",
      "\n",
      "See the caveats in the documentation: http://pandas.pydata.org/pandas-docs/stable/indexing.html#indexing-view-versus-copy\n",
      "  df['qt_binning'] = var_bins_series(df[var], bins, side = side)\n"
     ]
    }
   ],
   "source": [
    "selected_var ={#'cs':[0,4,5,6,7],\n",
    "               #'od':[0],\n",
    "                'ls_od_b_1y':[0],\n",
    "                'ls_od_b_2y':[0],\n",
    "                #'ls_od_f_6t':[0],\n",
    "               #'xc_behavior':[0],\n",
    "               'xc_overloan':[0],\n",
    "               'xc_overdue':[0],\n",
    "               #'xc_record':[0],\n",
    "               'rv':[0],\n",
    "               'rc_idname_multi':[0],\n",
    "               # 'rc_relation_age':[0],\n",
    "                #'rc_relation_multi':[0],\n",
    "                'rc_relation_cnt':[0],\n",
    "               'ls_cr':[0],\n",
    "               'ls_cr_cl':[0],\n",
    "               'ls_gp':[0],\n",
    "               #'ls_gp_cl':[0],\n",
    "               'ls_nd':[0],\n",
    "               #'ld_rc':[0],\n",
    "               'ld_xc':[0],\n",
    "               'bs_gps5':[0]\n",
    "              }\n",
    "#各变量分组的WOE集合放在一个字典中\n",
    "def var_woe_result(df, target, select_var):\n",
    "    output_df = select_var\n",
    "    var_list = list(select_var.keys())\n",
    "    for i in var_list:\n",
    "        output_df[i] = variable_binning(df, target, i,select_var.get(i), 'bins')['WOE'] #select_var.get(i)返回字典中键的关联值即分组的切割值bin\n",
    "    return output_df\n",
    "\n",
    "var_woe_result=var_woe_result(data_form,target,selected_var)"
   ]
  },
  {
   "cell_type": "code",
   "execution_count": 193,
   "metadata": {
    "collapsed": false
   },
   "outputs": [],
   "source": [
    "#乘以模型参数得出变量分\n",
    "variable_score=var_woe_result\n",
    "var_list = list(var_woe_result.keys())\n",
    "for i in var_list:\n",
    "    variable_score[i] = var_woe_result.get(i)*logit_params[i]*B*(-1)"
   ]
  },
  {
   "cell_type": "code",
   "execution_count": 194,
   "metadata": {
    "collapsed": false
   },
   "outputs": [
    {
     "data": {
      "text/plain": [
       "{'bs_gps5': qt_binning\n",
       " (-inf, 0]     0.816410\n",
       " (0, +inf)   -14.054005\n",
       " Name: WOE, dtype: float64, 'ld_xc': qt_binning\n",
       " (-inf, 0]   -4.567315\n",
       " (0, +inf)    7.601333\n",
       " Name: WOE, dtype: float64, 'ls_cr': qt_binning\n",
       " (-inf, 0]    -2.175495\n",
       " (0, +inf)    51.805002\n",
       " Name: WOE, dtype: float64, 'ls_cr_cl': qt_binning\n",
       " (-inf, 0]    -9.776890\n",
       " (0, +inf)    52.885746\n",
       " Name: WOE, dtype: float64, 'ls_gp': qt_binning\n",
       " (-inf, 0]   -0.105915\n",
       " (0, +inf)    4.772574\n",
       " Name: WOE, dtype: float64, 'ls_nd': qt_binning\n",
       " (-inf, 0]    -3.846539\n",
       " (0, +inf)    25.674229\n",
       " Name: WOE, dtype: float64, 'ls_od_b_1y': qt_binning\n",
       " (-inf, 0]     0.031592\n",
       " (0, +inf)   -24.800567\n",
       " Name: WOE, dtype: float64, 'ls_od_b_2y': qt_binning\n",
       " (-inf, 0]     0.018351\n",
       " (0, +inf)   -20.279961\n",
       " Name: WOE, dtype: float64, 'rc_idname_multi': qt_binning\n",
       " (-inf, 0]     0.272921\n",
       " (0, +inf)   -10.173502\n",
       " Name: WOE, dtype: float64, 'rc_relation_cnt': qt_binning\n",
       " (-inf, 0]    0.378228\n",
       " (0, +inf)   -8.827958\n",
       " Name: WOE, dtype: float64, 'rv': qt_binning\n",
       " (-inf, 0]     1.035626\n",
       " (0, +inf)   -13.844302\n",
       " Name: WOE, dtype: float64, 'xc_overdue': qt_binning\n",
       " (-inf, 0]     1.100202\n",
       " (0, +inf)   -13.674378\n",
       " Name: WOE, dtype: float64, 'xc_overloan': qt_binning\n",
       " (-inf, 0]    27.616179\n",
       " (0, +inf)   -27.519082\n",
       " Name: WOE, dtype: float64}"
      ]
     },
     "execution_count": 194,
     "metadata": {},
     "output_type": "execute_result"
    }
   ],
   "source": [
    "variable_score"
   ]
  },
  {
   "cell_type": "code",
   "execution_count": 195,
   "metadata": {
    "collapsed": false
   },
   "outputs": [
    {
     "data": {
      "text/plain": [
       "-170.14188816238402"
      ]
     },
     "execution_count": 195,
     "metadata": {},
     "output_type": "execute_result"
    }
   ],
   "source": [
    "logit_params['constant']*B"
   ]
  },
  {
   "cell_type": "markdown",
   "metadata": {},
   "source": [
    "## 模型基础分数"
   ]
  },
  {
   "cell_type": "code",
   "execution_count": 196,
   "metadata": {
    "collapsed": false
   },
   "outputs": [
    {
     "data": {
      "text/plain": [
       "474.79735838195808"
      ]
     },
     "execution_count": 196,
     "metadata": {},
     "output_type": "execute_result"
    }
   ],
   "source": [
    "base_score=A-logit_params['constant']*B\n",
    "base_score"
   ]
  },
  {
   "cell_type": "code",
   "execution_count": 197,
   "metadata": {
    "collapsed": false
   },
   "outputs": [
    {
     "data": {
      "text/plain": [
       "72.13475204444818"
      ]
     },
     "execution_count": 197,
     "metadata": {},
     "output_type": "execute_result"
    }
   ],
   "source": [
    "B"
   ]
  },
  {
   "cell_type": "code",
   "execution_count": 198,
   "metadata": {
    "collapsed": false
   },
   "outputs": [
    {
     "data": {
      "text/plain": [
       "304.65547021957406"
      ]
     },
     "execution_count": 198,
     "metadata": {},
     "output_type": "execute_result"
    }
   ],
   "source": [
    "A"
   ]
  },
  {
   "cell_type": "code",
   "execution_count": 199,
   "metadata": {
    "collapsed": false
   },
   "outputs": [
    {
     "name": "stderr",
     "output_type": "stream",
     "text": [
      "C:\\Users\\xiongjun\\AppData\\Local\\Continuum\\Anaconda3\\lib\\site-packages\\ipykernel\\__main__.py:17: SettingWithCopyWarning: \n",
      "A value is trying to be set on a copy of a slice from a DataFrame.\n",
      "Try using .loc[row_indexer,col_indexer] = value instead\n",
      "\n",
      "See the caveats in the documentation: http://pandas.pydata.org/pandas-docs/stable/indexing.html#indexing-view-versus-copy\n",
      "C:\\Users\\xiongjun\\AppData\\Local\\Continuum\\Anaconda3\\lib\\site-packages\\ipykernel\\__main__.py:24: SettingWithCopyWarning: \n",
      "A value is trying to be set on a copy of a slice from a DataFrame.\n",
      "Try using .loc[row_indexer,col_indexer] = value instead\n",
      "\n",
      "See the caveats in the documentation: http://pandas.pydata.org/pandas-docs/stable/indexing.html#indexing-view-versus-copy\n",
      "C:\\Users\\xiongjun\\AppData\\Local\\Continuum\\Anaconda3\\lib\\site-packages\\ipykernel\\__main__.py:25: SettingWithCopyWarning: \n",
      "A value is trying to be set on a copy of a slice from a DataFrame.\n",
      "Try using .loc[row_indexer,col_indexer] = value instead\n",
      "\n",
      "See the caveats in the documentation: http://pandas.pydata.org/pandas-docs/stable/indexing.html#indexing-view-versus-copy\n"
     ]
    }
   ],
   "source": [
    "#打分详情下载\n",
    "import math\n",
    "score_data1=data_form[['type',\n",
    "                'ls_od_b_1y',\n",
    "                'ls_od_b_2y',\n",
    "               'xc_overloan',\n",
    "               'xc_overdue',\n",
    "               'rv',\n",
    "               'rc_idname_multi',\n",
    "                'rc_relation_cnt',\n",
    "               'ls_cr',\n",
    "               'ls_cr_cl',\n",
    "               'ls_gp',\n",
    "               'ls_nd',\n",
    "               'ld_xc',\n",
    "               'bs_gps5']]\n",
    "score_data1['probability'] = predict_Y\n",
    "\n",
    "#风险odds=15:1时，基本分数为660分\n",
    "#风险翻倍时，即odds=15:2时，分数降低50分\n",
    "B = 50/math.log(2, math.e)\n",
    "A = 500 + B * math.log(1/15,math.e)\n",
    "\n",
    "score_data1['odds'] = (score_data['probability']/(1-score_data['probability']) ).apply(lambda x: math.log(x, math.e))\n",
    "score_data1['score'] = A - B * score_data['odds']"
   ]
  },
  {
   "cell_type": "markdown",
   "metadata": {},
   "source": [
    "## 低分段人群的规则命中情况"
   ]
  },
  {
   "cell_type": "code",
   "execution_count": 200,
   "metadata": {
    "collapsed": false
   },
   "outputs": [],
   "source": [
    "#低分段人群的规则命中分布\n",
    "columns1=list(score_data1.columns)\n",
    "rules1=pd.Series(index=columns1)\n",
    "for i in columns1:  \n",
    "         rules1[i]=score_data1[(score_data1.score<=450)& (score_data1[i]==1) ].shape[0]/score_data1[score_data1['score']<=450].shape[0]"
   ]
  },
  {
   "cell_type": "code",
   "execution_count": 201,
   "metadata": {
    "collapsed": false
   },
   "outputs": [
    {
     "data": {
      "text/plain": [
       "type               0.153203\n",
       "ls_od_b_1y         0.001448\n",
       "ls_od_b_2y         0.001226\n",
       "xc_overloan        0.999443\n",
       "xc_overdue         0.084457\n",
       "rv                 0.066184\n",
       "rc_idname_multi    0.029304\n",
       "rc_relation_cnt    0.050808\n",
       "ls_cr              0.000000\n",
       "ls_cr_cl           0.000111\n",
       "ls_gp              0.011588\n",
       "ls_nd              0.001448\n",
       "ld_xc              0.295710\n",
       "bs_gps5            0.057382\n",
       "probability        0.000000\n",
       "odds               0.000000\n",
       "score              0.000000\n",
       "dtype: float64"
      ]
     },
     "execution_count": 201,
     "metadata": {},
     "output_type": "execute_result"
    }
   ],
   "source": [
    "rules"
   ]
  },
  {
   "cell_type": "code",
   "execution_count": 202,
   "metadata": {
    "collapsed": false
   },
   "outputs": [],
   "source": [
    "#低分段人群的规则命中时的bad_rate\n",
    "columns1=list(score_data1.columns)\n",
    "rules2=pd.Series(index=columns1)\n",
    "for i in columns1:\n",
    "    if(score_data1[(score_data1.score<=450)& (score_data1[i]==1) ].shape[0]==0):\n",
    "        rules2[i]=0\n",
    "    else:\n",
    "         rules2[i]=score_data1[(score_data1.score<=450)& (score_data1[i]==1)& (score_data1.type==1)].shape[0]/score_data1[(score_data1.score<=450)& (score_data1[i]==1) ].shape[0]"
   ]
  },
  {
   "cell_type": "code",
   "execution_count": 203,
   "metadata": {
    "collapsed": false
   },
   "outputs": [
    {
     "data": {
      "text/plain": [
       "type               1.000000\n",
       "ls_od_b_1y         0.230769\n",
       "ls_od_b_2y         0.181818\n",
       "xc_overloan        0.153066\n",
       "xc_overdue         0.164908\n",
       "rv                 0.136364\n",
       "rc_idname_multi    0.155894\n",
       "rc_relation_cnt    0.160088\n",
       "ls_cr              0.000000\n",
       "ls_cr_cl           0.000000\n",
       "ls_gp              0.134615\n",
       "ls_nd              0.000000\n",
       "ld_xc              0.150339\n",
       "bs_gps5            0.149515\n",
       "probability        0.000000\n",
       "odds               0.000000\n",
       "score              0.000000\n",
       "dtype: float64"
      ]
     },
     "execution_count": 203,
     "metadata": {},
     "output_type": "execute_result"
    }
   ],
   "source": [
    "rules2"
   ]
  },
  {
   "cell_type": "code",
   "execution_count": 204,
   "metadata": {
    "collapsed": true
   },
   "outputs": [],
   "source": [
    "#详情下载\n",
    "score_data1.to_csv('score_data1.csv')"
   ]
  },
  {
   "cell_type": "markdown",
   "metadata": {},
   "source": [
    "## 高分段人数"
   ]
  },
  {
   "cell_type": "code",
   "execution_count": 205,
   "metadata": {
    "collapsed": false
   },
   "outputs": [],
   "source": [
    "#低分段人群的规则命中分布\n",
    "columns3=list(score_data1.columns)\n",
    "rules3=pd.Series(index=columns1)\n",
    "for i in columns1:  \n",
    "         rules3[i]=score_data1[(score_data1.score>450)& (score_data1[i]==1) ].shape[0]/score_data1[score_data1['score']>450].shape[0]"
   ]
  },
  {
   "cell_type": "code",
   "execution_count": 206,
   "metadata": {
    "collapsed": false
   },
   "outputs": [
    {
     "data": {
      "text/plain": [
       "type               0.056913\n",
       "ls_od_b_1y         0.000885\n",
       "ls_od_b_2y         0.000491\n",
       "xc_overloan        0.163120\n",
       "xc_overdue         0.058338\n",
       "rv                 0.060500\n",
       "rc_idname_multi    0.020937\n",
       "rc_relation_cnt    0.031602\n",
       "ls_cr              0.091709\n",
       "ls_cr_cl           0.326633\n",
       "ls_gp              0.030373\n",
       "ls_nd              0.265641\n",
       "ld_xc              0.446454\n",
       "bs_gps5            0.048508\n",
       "probability        0.000000\n",
       "odds               0.000000\n",
       "score              0.000000\n",
       "dtype: float64"
      ]
     },
     "execution_count": 206,
     "metadata": {},
     "output_type": "execute_result"
    }
   ],
   "source": [
    "rules3"
   ]
  },
  {
   "cell_type": "markdown",
   "metadata": {
    "collapsed": true
   },
   "source": [
    "## 测试样本"
   ]
  },
  {
   "cell_type": "code",
   "execution_count": 215,
   "metadata": {
    "collapsed": false
   },
   "outputs": [
    {
     "data": {
      "text/plain": [
       "(4241, 35)"
      ]
     },
     "execution_count": 215,
     "metadata": {},
     "output_type": "execute_result"
    }
   ],
   "source": [
    "data_test = pd.read_csv('D:\\\\python\\\\huabao\\\\tmp_score_nuoya_variable0403_2.csv')\n",
    "data_test.shape"
   ]
  },
  {
   "cell_type": "code",
   "execution_count": 216,
   "metadata": {
    "collapsed": false
   },
   "outputs": [
    {
     "data": {
      "text/plain": [
       "0.02428672482904975"
      ]
     },
     "execution_count": 216,
     "metadata": {},
     "output_type": "execute_result"
    }
   ],
   "source": [
    "#样本的bad_rate\n",
    "data_test[data_test['type']==1].shape[0]/data_test.shape[0]"
   ]
  },
  {
   "cell_type": "markdown",
   "metadata": {},
   "source": [
    "### 测试样本区隔力KS"
   ]
  },
  {
   "cell_type": "code",
   "execution_count": 217,
   "metadata": {
    "collapsed": false
   },
   "outputs": [
    {
     "name": "stderr",
     "output_type": "stream",
     "text": [
      "C:\\Users\\xiongjun\\AppData\\Local\\Continuum\\Anaconda3\\lib\\site-packages\\pandas\\core\\generic.py:3295: SettingWithCopyWarning: \n",
      "A value is trying to be set on a copy of a slice from a DataFrame\n",
      "\n",
      "See the caveats in the documentation: http://pandas.pydata.org/pandas-docs/stable/indexing.html#indexing-view-versus-copy\n",
      "  self._update_inplace(new_data)\n",
      "C:\\Users\\xiongjun\\sc_func.py:124: SettingWithCopyWarning: \n",
      "A value is trying to be set on a copy of a slice from a DataFrame.\n",
      "Try using .loc[row_indexer,col_indexer] = value instead\n",
      "\n",
      "See the caveats in the documentation: http://pandas.pydata.org/pandas-docs/stable/indexing.html#indexing-view-versus-copy\n",
      "  df['qt_binning'] = var_bins_series(df[var], bins, side = side)\n"
     ]
    },
    {
     "data": {
      "text/plain": [
       "0.20529358491274441"
      ]
     },
     "execution_count": 217,
     "metadata": {},
     "output_type": "execute_result"
    }
   ],
   "source": [
    "selected_var ={#'cs':[0,4,5,6,7],\n",
    "               #'od':[0],\n",
    "                'ls_od_b_1y':[0],\n",
    "                'ls_od_b_2y':[0],\n",
    "                #'ls_od_f_6t':[0],\n",
    "               #'xc_behavior':[0],\n",
    "               'xc_overloan':[0],\n",
    "               'xc_overdue':[0],\n",
    "               #'xc_record':[0],\n",
    "               'rv':[0],\n",
    "               'rc_idname_multi':[0],\n",
    "                #'rc_relation_age':[0],\n",
    "                #'rc_relation_multi':[0],\n",
    "                'rc_relation_cnt':[0],\n",
    "               'ls_cr':[0],\n",
    "               'ls_cr_cl':[0],\n",
    "               'ls_gp':[0],\n",
    "               #'ls_gp_cl':[0],\n",
    "               'ls_nd':[0],\n",
    "               #'ld_rc':[0],\n",
    "               'ld_xc':[0],\n",
    "               'bs_gps5':[0]\n",
    "              }\n",
    "#WOE变换\n",
    "WOE_test = WOE_mapping(data_test,selected_var, target)\n",
    "test_X = WOE_test.drop(target, axis = 1)\n",
    "test_X['constant'] = 1\n",
    "test_Y = WOE_test[target]\n",
    "\n",
    "#KS值\n",
    "predict_test_Y = logit.predict(test_X)\n",
    "KS_calculation(test_Y,predict_test_Y, 40)"
   ]
  },
  {
   "cell_type": "code",
   "execution_count": 218,
   "metadata": {
    "collapsed": false
   },
   "outputs": [
    {
     "data": {
      "text/plain": [
       "0.61266171453776741"
      ]
     },
     "execution_count": 218,
     "metadata": {},
     "output_type": "execute_result"
    }
   ],
   "source": [
    "roc_auc_score(test_Y,predict_test_Y)"
   ]
  },
  {
   "cell_type": "markdown",
   "metadata": {},
   "source": [
    "## 测试样本分数分布"
   ]
  },
  {
   "cell_type": "code",
   "execution_count": 219,
   "metadata": {
    "collapsed": false
   },
   "outputs": [
    {
     "name": "stderr",
     "output_type": "stream",
     "text": [
      "C:\\Users\\xiongjun\\AppData\\Local\\Continuum\\Anaconda3\\lib\\site-packages\\ipykernel\\__main__.py:3: SettingWithCopyWarning: \n",
      "A value is trying to be set on a copy of a slice from a DataFrame.\n",
      "Try using .loc[row_indexer,col_indexer] = value instead\n",
      "\n",
      "See the caveats in the documentation: http://pandas.pydata.org/pandas-docs/stable/indexing.html#indexing-view-versus-copy\n",
      "  app.launch_new_instance()\n",
      "C:\\Users\\xiongjun\\AppData\\Local\\Continuum\\Anaconda3\\lib\\site-packages\\ipykernel\\__main__.py:10: SettingWithCopyWarning: \n",
      "A value is trying to be set on a copy of a slice from a DataFrame.\n",
      "Try using .loc[row_indexer,col_indexer] = value instead\n",
      "\n",
      "See the caveats in the documentation: http://pandas.pydata.org/pandas-docs/stable/indexing.html#indexing-view-versus-copy\n",
      "C:\\Users\\xiongjun\\AppData\\Local\\Continuum\\Anaconda3\\lib\\site-packages\\ipykernel\\__main__.py:11: SettingWithCopyWarning: \n",
      "A value is trying to be set on a copy of a slice from a DataFrame.\n",
      "Try using .loc[row_indexer,col_indexer] = value instead\n",
      "\n",
      "See the caveats in the documentation: http://pandas.pydata.org/pandas-docs/stable/indexing.html#indexing-view-versus-copy\n"
     ]
    }
   ],
   "source": [
    "import math\n",
    "score_test=data_test[['type']]\n",
    "score_test['probability'] = predict_test_Y\n",
    "\n",
    "#风险odds=15:1时，基本分数为660分\n",
    "#风险翻倍时，即odds=15:2时，分数降低50分\n",
    "B = 50/math.log(2, math.e)\n",
    "A = 500 + B * math.log(1/15,math.e)\n",
    "\n",
    "score_test['odds'] = (score_test['probability']/(1-score_test['probability']) ).apply(lambda x: math.log(x, math.e))\n",
    "score_test['score'] = A - B * score_test['odds']"
   ]
  },
  {
   "cell_type": "code",
   "execution_count": 220,
   "metadata": {
    "collapsed": false
   },
   "outputs": [
    {
     "name": "stderr",
     "output_type": "stream",
     "text": [
      "C:\\Users\\xiongjun\\AppData\\Local\\Continuum\\Anaconda3\\lib\\site-packages\\pandas\\core\\generic.py:3295: SettingWithCopyWarning: \n",
      "A value is trying to be set on a copy of a slice from a DataFrame\n",
      "\n",
      "See the caveats in the documentation: http://pandas.pydata.org/pandas-docs/stable/indexing.html#indexing-view-versus-copy\n",
      "  self._update_inplace(new_data)\n",
      "C:\\Users\\xiongjun\\sc_func.py:124: SettingWithCopyWarning: \n",
      "A value is trying to be set on a copy of a slice from a DataFrame.\n",
      "Try using .loc[row_indexer,col_indexer] = value instead\n",
      "\n",
      "See the caveats in the documentation: http://pandas.pydata.org/pandas-docs/stable/indexing.html#indexing-view-versus-copy\n",
      "  df['qt_binning'] = var_bins_series(df[var], bins, side = side)\n"
     ]
    }
   ],
   "source": [
    "#分数分段\n",
    "var_bin_test = variable_binning(score_test, target, var_name, bins, 'bins')\n",
    "#var_bin.sort_values('Lbound')"
   ]
  },
  {
   "cell_type": "code",
   "execution_count": 221,
   "metadata": {
    "collapsed": false
   },
   "outputs": [
    {
     "data": {
      "image/png": "[encoded data removed]",
      "text/plain": [
       "<matplotlib.figure.Figure at 0xf575438>"
      ]
     },
     "metadata": {},
     "output_type": "display_data"
    }
   ],
   "source": [
    "binning_plot(var_bin_test)"
   ]
  },
  {
   "cell_type": "code",
   "execution_count": 222,
   "metadata": {
    "collapsed": false
   },
   "outputs": [
    {
     "data": {
      "text/html": [
       "<div>\n",
       "<table border=\"1\" class=\"dataframe\">\n",
       "  <thead>\n",
       "    <tr style=\"text-align: right;\">\n",
       "      <th></th>\n",
       "      <th>Lbound</th>\n",
       "      <th>Ubound</th>\n",
       "      <th>Totalcnt</th>\n",
       "      <th>PctTotal</th>\n",
       "      <th>Y_count</th>\n",
       "      <th>n_Y_count</th>\n",
       "      <th>Y_pct</th>\n",
       "      <th>n_Y_pct</th>\n",
       "      <th>Y_rate</th>\n",
       "      <th>WOE</th>\n",
       "      <th>IV</th>\n",
       "    </tr>\n",
       "    <tr>\n",
       "      <th>qt_binning</th>\n",
       "      <th></th>\n",
       "      <th></th>\n",
       "      <th></th>\n",
       "      <th></th>\n",
       "      <th></th>\n",
       "      <th></th>\n",
       "      <th></th>\n",
       "      <th></th>\n",
       "      <th></th>\n",
       "      <th></th>\n",
       "      <th></th>\n",
       "    </tr>\n",
       "  </thead>\n",
       "  <tbody>\n",
       "    <tr>\n",
       "      <th>(-inf, 450]</th>\n",
       "      <td>-inf</td>\n",
       "      <td>448.931677</td>\n",
       "      <td>331</td>\n",
       "      <td>0.078048</td>\n",
       "      <td>20</td>\n",
       "      <td>311</td>\n",
       "      <td>0.194175</td>\n",
       "      <td>0.075157</td>\n",
       "      <td>0.060423</td>\n",
       "      <td>0.949178</td>\n",
       "      <td>0.112969</td>\n",
       "    </tr>\n",
       "    <tr>\n",
       "      <th>(450, 500]</th>\n",
       "      <td>452.364574</td>\n",
       "      <td>495.520333</td>\n",
       "      <td>3301</td>\n",
       "      <td>0.778354</td>\n",
       "      <td>79</td>\n",
       "      <td>3222</td>\n",
       "      <td>0.766990</td>\n",
       "      <td>0.778637</td>\n",
       "      <td>0.023932</td>\n",
       "      <td>-0.015071</td>\n",
       "      <td>0.000176</td>\n",
       "    </tr>\n",
       "    <tr>\n",
       "      <th>(500, 520]</th>\n",
       "      <td>506.711291</td>\n",
       "      <td>518.843955</td>\n",
       "      <td>522</td>\n",
       "      <td>0.123084</td>\n",
       "      <td>4</td>\n",
       "      <td>518</td>\n",
       "      <td>0.038835</td>\n",
       "      <td>0.125181</td>\n",
       "      <td>0.007663</td>\n",
       "      <td>-1.170442</td>\n",
       "      <td>0.101063</td>\n",
       "    </tr>\n",
       "    <tr>\n",
       "      <th>(520, 550]</th>\n",
       "      <td>524.996676</td>\n",
       "      <td>537.129340</td>\n",
       "      <td>70</td>\n",
       "      <td>0.016506</td>\n",
       "      <td>0</td>\n",
       "      <td>70</td>\n",
       "      <td>0.000001</td>\n",
       "      <td>0.016916</td>\n",
       "      <td>0.000000</td>\n",
       "      <td>-9.736038</td>\n",
       "      <td>0.164689</td>\n",
       "    </tr>\n",
       "    <tr>\n",
       "      <th>(550, +inf)</th>\n",
       "      <td>737.547742</td>\n",
       "      <td>870.727638</td>\n",
       "      <td>17</td>\n",
       "      <td>0.004008</td>\n",
       "      <td>0</td>\n",
       "      <td>17</td>\n",
       "      <td>0.000001</td>\n",
       "      <td>0.004108</td>\n",
       "      <td>0.000000</td>\n",
       "      <td>-8.320756</td>\n",
       "      <td>0.034176</td>\n",
       "    </tr>\n",
       "  </tbody>\n",
       "</table>\n",
       "</div>"
      ],
      "text/plain": [
       "                 Lbound      Ubound  Totalcnt  PctTotal  Y_count  n_Y_count  \\\n",
       "qt_binning                                                                    \n",
       "(-inf, 450]        -inf  448.931677       331  0.078048       20        311   \n",
       "(450, 500]   452.364574  495.520333      3301  0.778354       79       3222   \n",
       "(500, 520]   506.711291  518.843955       522  0.123084        4        518   \n",
       "(520, 550]   524.996676  537.129340        70  0.016506        0         70   \n",
       "(550, +inf)  737.547742  870.727638        17  0.004008        0         17   \n",
       "\n",
       "                Y_pct   n_Y_pct    Y_rate       WOE        IV  \n",
       "qt_binning                                                     \n",
       "(-inf, 450]  0.194175  0.075157  0.060423  0.949178  0.112969  \n",
       "(450, 500]   0.766990  0.778637  0.023932 -0.015071  0.000176  \n",
       "(500, 520]   0.038835  0.125181  0.007663 -1.170442  0.101063  \n",
       "(520, 550]   0.000001  0.016916  0.000000 -9.736038  0.164689  \n",
       "(550, +inf)  0.000001  0.004108  0.000000 -8.320756  0.034176  "
      ]
     },
     "execution_count": 222,
     "metadata": {},
     "output_type": "execute_result"
    }
   ],
   "source": [
    "var_bin_test"
   ]
  },
  {
   "cell_type": "markdown",
   "metadata": {},
   "source": [
    "## 测试样本稳定性PSI"
   ]
  },
  {
   "cell_type": "code",
   "execution_count": 223,
   "metadata": {
    "collapsed": true
   },
   "outputs": [],
   "source": [
    "def model_psi(var_bin,var_bin_test):\n",
    "    PSI_in=pd.DataFrame()\n",
    "    PSI_in['Y_pct1']=var_bin.PctTotal\n",
    "    PSI_in['Y_pct2']=var_bin_test.PctTotal\n",
    "    psi_result=pd.DataFrame()\n",
    "    psi_result['rate1'] = (PSI_in['Y_pct1']/PSI_in['Y_pct2']).map(lambda x:log(x))\n",
    "    psi_result['rate2'] = (PSI_in['Y_pct1'] - PSI_in['Y_pct2']) * psi_result['rate1']\n",
    "    psi = psi_result['rate2'].sum()\n",
    "    return psi_result"
   ]
  },
  {
   "cell_type": "code",
   "execution_count": 224,
   "metadata": {
    "collapsed": false
   },
   "outputs": [
    {
     "data": {
      "text/plain": [
       "1.0936214410981218"
      ]
     },
     "execution_count": 224,
     "metadata": {},
     "output_type": "execute_result"
    }
   ],
   "source": [
    "psi_result=model_psi(var_bin,var_bin_test)\n",
    "psi = psi_result['rate2'].sum()\n",
    "psi"
   ]
  },
  {
   "cell_type": "code",
   "execution_count": 225,
   "metadata": {
    "collapsed": false
   },
   "outputs": [
    {
     "data": {
      "text/plain": [
       "qt_binning\n",
       "(-inf, 450]    0.306084\n",
       "(450, 500]     0.429234\n",
       "(500, 520]     0.054430\n",
       "(520, 550]     0.090990\n",
       "(550, +inf)    0.119262\n",
       "Name: PctTotal, dtype: float64"
      ]
     },
     "execution_count": 225,
     "metadata": {},
     "output_type": "execute_result"
    }
   ],
   "source": [
    "var_bin.PctTotal"
   ]
  },
  {
   "cell_type": "code",
   "execution_count": 226,
   "metadata": {
    "collapsed": false
   },
   "outputs": [
    {
     "data": {
      "text/plain": [
       "qt_binning\n",
       "(-inf, 450]    0.078048\n",
       "(450, 500]     0.778354\n",
       "(500, 520]     0.123084\n",
       "(520, 550]     0.016506\n",
       "(550, +inf)    0.004008\n",
       "Name: PctTotal, dtype: float64"
      ]
     },
     "execution_count": 226,
     "metadata": {},
     "output_type": "execute_result"
    }
   ],
   "source": [
    "var_bin_test.PctTotal"
   ]
  },
  {
   "cell_type": "code",
   "execution_count": 227,
   "metadata": {
    "collapsed": false
   },
   "outputs": [
    {
     "data": {
      "text/plain": [
       "qt_binning\n",
       "(-inf, 450]    0.311621\n",
       "(450, 500]     0.207789\n",
       "(500, 520]     0.056018\n",
       "(520, 550]     0.127148\n",
       "(550, +inf)    0.391045\n",
       "Name: rate2, dtype: float64"
      ]
     },
     "execution_count": 227,
     "metadata": {},
     "output_type": "execute_result"
    }
   ],
   "source": [
    "psi_result['rate2']"
   ]
  },
  {
   "cell_type": "markdown",
   "metadata": {},
   "source": [
    "## 诺亚点点数据测试"
   ]
  },
  {
   "cell_type": "code",
   "execution_count": 156,
   "metadata": {
    "collapsed": false
   },
   "outputs": [
    {
     "data": {
      "text/plain": [
       "(4565, 15)"
      ]
     },
     "execution_count": 156,
     "metadata": {},
     "output_type": "execute_result"
    }
   ],
   "source": [
    "data_tg = pd.read_csv('D:\\\\python\\\\huabao\\\\tmp_score_nuoya_daihou_test_0326.csv')\n",
    "#data_tg['type']=1 #加个常数项做type列，方便后面调用函数运算\n",
    "data_tg.shape"
   ]
  },
  {
   "cell_type": "code",
   "execution_count": 157,
   "metadata": {
    "collapsed": false
   },
   "outputs": [
    {
     "data": {
      "text/plain": [
       "0.07097480832420591"
      ]
     },
     "execution_count": 157,
     "metadata": {},
     "output_type": "execute_result"
    }
   ],
   "source": [
    "#样本的bad_rate\n",
    "data_tg[data_tg['type']==1].shape[0]/data_tg.shape[0]"
   ]
  },
  {
   "cell_type": "code",
   "execution_count": 158,
   "metadata": {
    "collapsed": false
   },
   "outputs": [
    {
     "data": {
      "text/plain": [
       "324"
      ]
     },
     "execution_count": 158,
     "metadata": {},
     "output_type": "execute_result"
    }
   ],
   "source": [
    "data_tg[data_tg['type']==1].shape[0]"
   ]
  },
  {
   "cell_type": "code",
   "execution_count": 165,
   "metadata": {
    "collapsed": false
   },
   "outputs": [
    {
     "name": "stderr",
     "output_type": "stream",
     "text": [
      "C:\\Users\\xiongjun\\AppData\\Local\\Continuum\\Anaconda3\\lib\\site-packages\\pandas\\core\\generic.py:3295: SettingWithCopyWarning: \n",
      "A value is trying to be set on a copy of a slice from a DataFrame\n",
      "\n",
      "See the caveats in the documentation: http://pandas.pydata.org/pandas-docs/stable/indexing.html#indexing-view-versus-copy\n",
      "  self._update_inplace(new_data)\n",
      "C:\\Users\\xiongjun\\sc_func.py:124: SettingWithCopyWarning: \n",
      "A value is trying to be set on a copy of a slice from a DataFrame.\n",
      "Try using .loc[row_indexer,col_indexer] = value instead\n",
      "\n",
      "See the caveats in the documentation: http://pandas.pydata.org/pandas-docs/stable/indexing.html#indexing-view-versus-copy\n",
      "  df['qt_binning'] = var_bins_series(df[var], bins, side = side)\n"
     ]
    }
   ],
   "source": [
    "bins_tg =[450,500,520,550]\n",
    "var_bin_tg = variable_binning(data_tg, target, var_name, bins_tg, 'bins')"
   ]
  },
  {
   "cell_type": "code",
   "execution_count": 166,
   "metadata": {
    "collapsed": false,
    "scrolled": true
   },
   "outputs": [
    {
     "data": {
      "image/png": "[encoded data removed]",
      "text/plain": [
       "<matplotlib.figure.Figure at 0xda10b70>"
      ]
     },
     "metadata": {},
     "output_type": "display_data"
    }
   ],
   "source": [
    "binning_plot(var_bin_tg)"
   ]
  },
  {
   "cell_type": "code",
   "execution_count": 167,
   "metadata": {
    "collapsed": false
   },
   "outputs": [
    {
     "data": {
      "text/html": [
       "<div>\n",
       "<table border=\"1\" class=\"dataframe\">\n",
       "  <thead>\n",
       "    <tr style=\"text-align: right;\">\n",
       "      <th></th>\n",
       "      <th>Lbound</th>\n",
       "      <th>Ubound</th>\n",
       "      <th>Totalcnt</th>\n",
       "      <th>PctTotal</th>\n",
       "      <th>Y_count</th>\n",
       "      <th>n_Y_count</th>\n",
       "      <th>Y_pct</th>\n",
       "      <th>n_Y_pct</th>\n",
       "      <th>Y_rate</th>\n",
       "      <th>WOE</th>\n",
       "      <th>IV</th>\n",
       "    </tr>\n",
       "    <tr>\n",
       "      <th>qt_binning</th>\n",
       "      <th></th>\n",
       "      <th></th>\n",
       "      <th></th>\n",
       "      <th></th>\n",
       "      <th></th>\n",
       "      <th></th>\n",
       "      <th></th>\n",
       "      <th></th>\n",
       "      <th></th>\n",
       "      <th></th>\n",
       "      <th></th>\n",
       "    </tr>\n",
       "  </thead>\n",
       "  <tbody>\n",
       "    <tr>\n",
       "      <th>(-inf, 450]</th>\n",
       "      <td>409</td>\n",
       "      <td>442</td>\n",
       "      <td>1664</td>\n",
       "      <td>0.364513</td>\n",
       "      <td>170</td>\n",
       "      <td>1494</td>\n",
       "      <td>0.524691</td>\n",
       "      <td>0.352275</td>\n",
       "      <td>0.102163</td>\n",
       "      <td>0.398397</td>\n",
       "      <td>0.068690</td>\n",
       "    </tr>\n",
       "    <tr>\n",
       "      <th>(450, 500]</th>\n",
       "      <td>452</td>\n",
       "      <td>498</td>\n",
       "      <td>2349</td>\n",
       "      <td>0.514567</td>\n",
       "      <td>139</td>\n",
       "      <td>2210</td>\n",
       "      <td>0.429012</td>\n",
       "      <td>0.521104</td>\n",
       "      <td>0.059174</td>\n",
       "      <td>-0.194463</td>\n",
       "      <td>0.017908</td>\n",
       "    </tr>\n",
       "    <tr>\n",
       "      <th>(500, 520]</th>\n",
       "      <td>502</td>\n",
       "      <td>519</td>\n",
       "      <td>470</td>\n",
       "      <td>0.102957</td>\n",
       "      <td>14</td>\n",
       "      <td>456</td>\n",
       "      <td>0.043210</td>\n",
       "      <td>0.107522</td>\n",
       "      <td>0.029787</td>\n",
       "      <td>-0.911625</td>\n",
       "      <td>0.058628</td>\n",
       "    </tr>\n",
       "    <tr>\n",
       "      <th>(520, 550]</th>\n",
       "      <td>527</td>\n",
       "      <td>543</td>\n",
       "      <td>82</td>\n",
       "      <td>0.017963</td>\n",
       "      <td>1</td>\n",
       "      <td>81</td>\n",
       "      <td>0.003086</td>\n",
       "      <td>0.019099</td>\n",
       "      <td>0.012195</td>\n",
       "      <td>-1.822638</td>\n",
       "      <td>0.029186</td>\n",
       "    </tr>\n",
       "  </tbody>\n",
       "</table>\n",
       "</div>"
      ],
      "text/plain": [
       "             Lbound  Ubound  Totalcnt  PctTotal  Y_count  n_Y_count     Y_pct  \\\n",
       "qt_binning                                                                      \n",
       "(-inf, 450]     409     442      1664  0.364513      170       1494  0.524691   \n",
       "(450, 500]      452     498      2349  0.514567      139       2210  0.429012   \n",
       "(500, 520]      502     519       470  0.102957       14        456  0.043210   \n",
       "(520, 550]      527     543        82  0.017963        1         81  0.003086   \n",
       "\n",
       "              n_Y_pct    Y_rate       WOE        IV  \n",
       "qt_binning                                           \n",
       "(-inf, 450]  0.352275  0.102163  0.398397  0.068690  \n",
       "(450, 500]   0.521104  0.059174 -0.194463  0.017908  \n",
       "(500, 520]   0.107522  0.029787 -0.911625  0.058628  \n",
       "(520, 550]   0.019099  0.012195 -1.822638  0.029186  "
      ]
     },
     "execution_count": 167,
     "metadata": {},
     "output_type": "execute_result"
    }
   ],
   "source": [
    "var_bin_tg"
   ]
  },
  {
   "cell_type": "code",
   "execution_count": 168,
   "metadata": {
    "collapsed": false
   },
   "outputs": [
    {
     "data": {
      "text/plain": [
       "0.17509378282699134"
      ]
     },
     "execution_count": 168,
     "metadata": {},
     "output_type": "execute_result"
    }
   ],
   "source": [
    "psi_result=model_psi(var_bin,var_bin_tg)\n",
    "psi = psi_result['rate2'].sum()\n",
    "psi"
   ]
  },
  {
   "cell_type": "code",
   "execution_count": 78,
   "metadata": {
    "collapsed": false
   },
   "outputs": [
    {
     "data": {
      "text/plain": [
       "0.008556396304536484"
      ]
     },
     "execution_count": 78,
     "metadata": {},
     "output_type": "execute_result"
    }
   ],
   "source": [
    "4565/533519"
   ]
  },
  {
   "cell_type": "code",
   "execution_count": 169,
   "metadata": {
    "collapsed": false
   },
   "outputs": [
    {
     "name": "stderr",
     "output_type": "stream",
     "text": [
      "C:\\Users\\xiongjun\\AppData\\Local\\Continuum\\Anaconda3\\lib\\site-packages\\pandas\\core\\generic.py:3295: SettingWithCopyWarning: \n",
      "A value is trying to be set on a copy of a slice from a DataFrame\n",
      "\n",
      "See the caveats in the documentation: http://pandas.pydata.org/pandas-docs/stable/indexing.html#indexing-view-versus-copy\n",
      "  self._update_inplace(new_data)\n",
      "C:\\Users\\xiongjun\\sc_func.py:124: SettingWithCopyWarning: \n",
      "A value is trying to be set on a copy of a slice from a DataFrame.\n",
      "Try using .loc[row_indexer,col_indexer] = value instead\n",
      "\n",
      "See the caveats in the documentation: http://pandas.pydata.org/pandas-docs/stable/indexing.html#indexing-view-versus-copy\n",
      "  df['qt_binning'] = var_bins_series(df[var], bins, side = side)\n"
     ]
    },
    {
     "data": {
      "text/plain": [
       "0.18182658410985086"
      ]
     },
     "execution_count": 169,
     "metadata": {},
     "output_type": "execute_result"
    }
   ],
   "source": [
    "selected_var ={#'cs':[0,4,5,6,7],\n",
    "               #'od':[0],\n",
    "                'ls_od_b_1y':[0],\n",
    "                'ls_od_b_2y':[0],\n",
    "                #'ls_od_f_6t':[0],\n",
    "               #'xc_behavior':[0],\n",
    "               'xc_overloan':[0],\n",
    "               'xc_overdue':[0],\n",
    "               #'xc_record':[0],\n",
    "               'rv':[0],\n",
    "               'rc_idname_multi':[0],\n",
    "                #'rc_relation_age':[0],\n",
    "                #'rc_relation_multi':[0],\n",
    "                'rc_relation_cnt':[0],\n",
    "               'ls_cr':[0],\n",
    "               'ls_cr_cl':[0],\n",
    "               'ls_gp':[0],\n",
    "               #'ls_gp_cl':[0],\n",
    "               'ls_nd':[0],\n",
    "               #'ld_rc':[0],\n",
    "               'ld_xc':[0],\n",
    "               'bs_gps5':[0]\n",
    "              }\n",
    "#WOE变换\n",
    "WOE_tg = WOE_mapping(data_tg,selected_var, target)\n",
    "tg_X = WOE_tg.drop(target, axis = 1)\n",
    "tg_X['constant'] = 1\n",
    "tg_Y = WOE_tg[target]\n",
    "\n",
    "#KS值\n",
    "predict_tg_Y = logit.predict(tg_X)\n",
    "KS_calculation(tg_Y,predict_tg_Y, 40)"
   ]
  },
  {
   "cell_type": "code",
   "execution_count": 170,
   "metadata": {
    "collapsed": false
   },
   "outputs": [
    {
     "data": {
      "text/plain": [
       "0.62176875649523611"
      ]
     },
     "execution_count": 170,
     "metadata": {},
     "output_type": "execute_result"
    }
   ],
   "source": [
    "roc_auc_score(tg_Y,predict_tg_Y)"
   ]
  },
  {
   "cell_type": "markdown",
   "metadata": {},
   "source": [
    "## 算话评分测试"
   ]
  },
  {
   "cell_type": "code",
   "execution_count": 142,
   "metadata": {
    "collapsed": false
   },
   "outputs": [
    {
     "data": {
      "text/plain": [
       "(4156, 5)"
      ]
     },
     "execution_count": 142,
     "metadata": {},
     "output_type": "execute_result"
    }
   ],
   "source": [
    "data_sh = pd.read_csv('D:\\\\python\\\\huabao\\\\tmp_suanhua_test0326.csv')\n",
    "#data_tg['type']=1 #加个常数项做type列，方便后面调用函数运算\n",
    "data_sh.shape"
   ]
  },
  {
   "cell_type": "code",
   "execution_count": 143,
   "metadata": {
    "collapsed": false
   },
   "outputs": [
    {
     "data": {
      "text/plain": [
       "0.1737247353224254"
      ]
     },
     "execution_count": 143,
     "metadata": {},
     "output_type": "execute_result"
    }
   ],
   "source": [
    "#样本的bad_rate\n",
    "data_sh[data_sh['type']==1].shape[0]/data_sh.shape[0]"
   ]
  },
  {
   "cell_type": "code",
   "execution_count": 144,
   "metadata": {
    "collapsed": false
   },
   "outputs": [
    {
     "data": {
      "text/plain": [
       "722"
      ]
     },
     "execution_count": 144,
     "metadata": {},
     "output_type": "execute_result"
    }
   ],
   "source": [
    "data_sh[data_sh['type']==1].shape[0]"
   ]
  },
  {
   "cell_type": "code",
   "execution_count": 153,
   "metadata": {
    "collapsed": false
   },
   "outputs": [
    {
     "name": "stderr",
     "output_type": "stream",
     "text": [
      "C:\\Users\\xiongjun\\AppData\\Local\\Continuum\\Anaconda3\\lib\\site-packages\\pandas\\core\\generic.py:3295: SettingWithCopyWarning: \n",
      "A value is trying to be set on a copy of a slice from a DataFrame\n",
      "\n",
      "See the caveats in the documentation: http://pandas.pydata.org/pandas-docs/stable/indexing.html#indexing-view-versus-copy\n",
      "  self._update_inplace(new_data)\n",
      "C:\\Users\\xiongjun\\sc_func.py:124: SettingWithCopyWarning: \n",
      "A value is trying to be set on a copy of a slice from a DataFrame.\n",
      "Try using .loc[row_indexer,col_indexer] = value instead\n",
      "\n",
      "See the caveats in the documentation: http://pandas.pydata.org/pandas-docs/stable/indexing.html#indexing-view-versus-copy\n",
      "  df['qt_binning'] = var_bins_series(df[var], bins, side = side)\n"
     ]
    }
   ],
   "source": [
    "bins_sh =[500,530,540,550,560,580]\n",
    "var_sh1='score1'\n",
    "var_bin_sh1 = variable_binning(data_sh, target, var_sh1, bins_sh, 'bins')"
   ]
  },
  {
   "cell_type": "code",
   "execution_count": 154,
   "metadata": {
    "collapsed": false,
    "scrolled": true
   },
   "outputs": [
    {
     "data": {
      "image/png": "[encoded data removed]",
      "text/plain": [
       "<matplotlib.figure.Figure at 0xd91f240>"
      ]
     },
     "metadata": {},
     "output_type": "display_data"
    }
   ],
   "source": [
    "binning_plot(var_bin_sh1)"
   ]
  },
  {
   "cell_type": "code",
   "execution_count": 155,
   "metadata": {
    "collapsed": false
   },
   "outputs": [
    {
     "data": {
      "text/html": [
       "<div>\n",
       "<table border=\"1\" class=\"dataframe\">\n",
       "  <thead>\n",
       "    <tr style=\"text-align: right;\">\n",
       "      <th></th>\n",
       "      <th>Lbound</th>\n",
       "      <th>Ubound</th>\n",
       "      <th>Totalcnt</th>\n",
       "      <th>PctTotal</th>\n",
       "      <th>Y_count</th>\n",
       "      <th>n_Y_count</th>\n",
       "      <th>Y_pct</th>\n",
       "      <th>n_Y_pct</th>\n",
       "      <th>Y_rate</th>\n",
       "      <th>WOE</th>\n",
       "      <th>IV</th>\n",
       "    </tr>\n",
       "    <tr>\n",
       "      <th>qt_binning</th>\n",
       "      <th></th>\n",
       "      <th></th>\n",
       "      <th></th>\n",
       "      <th></th>\n",
       "      <th></th>\n",
       "      <th></th>\n",
       "      <th></th>\n",
       "      <th></th>\n",
       "      <th></th>\n",
       "      <th></th>\n",
       "      <th></th>\n",
       "    </tr>\n",
       "  </thead>\n",
       "  <tbody>\n",
       "    <tr>\n",
       "      <th>(-inf, 500]</th>\n",
       "      <td>488</td>\n",
       "      <td>500</td>\n",
       "      <td>43</td>\n",
       "      <td>0.010346</td>\n",
       "      <td>12</td>\n",
       "      <td>31</td>\n",
       "      <td>0.016620</td>\n",
       "      <td>0.009027</td>\n",
       "      <td>0.279070</td>\n",
       "      <td>0.610375</td>\n",
       "      <td>0.004635</td>\n",
       "    </tr>\n",
       "    <tr>\n",
       "      <th>(500, 530]</th>\n",
       "      <td>501</td>\n",
       "      <td>530</td>\n",
       "      <td>598</td>\n",
       "      <td>0.143888</td>\n",
       "      <td>184</td>\n",
       "      <td>414</td>\n",
       "      <td>0.254848</td>\n",
       "      <td>0.120559</td>\n",
       "      <td>0.307692</td>\n",
       "      <td>0.748526</td>\n",
       "      <td>0.100518</td>\n",
       "    </tr>\n",
       "    <tr>\n",
       "      <th>(530, 540]</th>\n",
       "      <td>531</td>\n",
       "      <td>540</td>\n",
       "      <td>325</td>\n",
       "      <td>0.078200</td>\n",
       "      <td>66</td>\n",
       "      <td>259</td>\n",
       "      <td>0.091413</td>\n",
       "      <td>0.075422</td>\n",
       "      <td>0.203077</td>\n",
       "      <td>0.192283</td>\n",
       "      <td>0.003075</td>\n",
       "    </tr>\n",
       "    <tr>\n",
       "      <th>(540, 550]</th>\n",
       "      <td>541</td>\n",
       "      <td>550</td>\n",
       "      <td>598</td>\n",
       "      <td>0.143888</td>\n",
       "      <td>73</td>\n",
       "      <td>525</td>\n",
       "      <td>0.101108</td>\n",
       "      <td>0.152883</td>\n",
       "      <td>0.122074</td>\n",
       "      <td>-0.413483</td>\n",
       "      <td>0.021408</td>\n",
       "    </tr>\n",
       "    <tr>\n",
       "      <th>(550, 560]</th>\n",
       "      <td>551</td>\n",
       "      <td>560</td>\n",
       "      <td>678</td>\n",
       "      <td>0.163138</td>\n",
       "      <td>59</td>\n",
       "      <td>619</td>\n",
       "      <td>0.081717</td>\n",
       "      <td>0.180256</td>\n",
       "      <td>0.087021</td>\n",
       "      <td>-0.791112</td>\n",
       "      <td>0.077955</td>\n",
       "    </tr>\n",
       "    <tr>\n",
       "      <th>(560, 580]</th>\n",
       "      <td>561</td>\n",
       "      <td>580</td>\n",
       "      <td>1373</td>\n",
       "      <td>0.330366</td>\n",
       "      <td>149</td>\n",
       "      <td>1224</td>\n",
       "      <td>0.206371</td>\n",
       "      <td>0.356436</td>\n",
       "      <td>0.108521</td>\n",
       "      <td>-0.546477</td>\n",
       "      <td>0.082007</td>\n",
       "    </tr>\n",
       "    <tr>\n",
       "      <th>(580, +inf)</th>\n",
       "      <td>581</td>\n",
       "      <td>607</td>\n",
       "      <td>541</td>\n",
       "      <td>0.130173</td>\n",
       "      <td>179</td>\n",
       "      <td>362</td>\n",
       "      <td>0.247922</td>\n",
       "      <td>0.105416</td>\n",
       "      <td>0.330869</td>\n",
       "      <td>0.855197</td>\n",
       "      <td>0.121871</td>\n",
       "    </tr>\n",
       "  </tbody>\n",
       "</table>\n",
       "</div>"
      ],
      "text/plain": [
       "             Lbound  Ubound  Totalcnt  PctTotal  Y_count  n_Y_count     Y_pct  \\\n",
       "qt_binning                                                                      \n",
       "(-inf, 500]     488     500        43  0.010346       12         31  0.016620   \n",
       "(500, 530]      501     530       598  0.143888      184        414  0.254848   \n",
       "(530, 540]      531     540       325  0.078200       66        259  0.091413   \n",
       "(540, 550]      541     550       598  0.143888       73        525  0.101108   \n",
       "(550, 560]      551     560       678  0.163138       59        619  0.081717   \n",
       "(560, 580]      561     580      1373  0.330366      149       1224  0.206371   \n",
       "(580, +inf)     581     607       541  0.130173      179        362  0.247922   \n",
       "\n",
       "              n_Y_pct    Y_rate       WOE        IV  \n",
       "qt_binning                                           \n",
       "(-inf, 500]  0.009027  0.279070  0.610375  0.004635  \n",
       "(500, 530]   0.120559  0.307692  0.748526  0.100518  \n",
       "(530, 540]   0.075422  0.203077  0.192283  0.003075  \n",
       "(540, 550]   0.152883  0.122074 -0.413483  0.021408  \n",
       "(550, 560]   0.180256  0.087021 -0.791112  0.077955  \n",
       "(560, 580]   0.356436  0.108521 -0.546477  0.082007  \n",
       "(580, +inf)  0.105416  0.330869  0.855197  0.121871  "
      ]
     },
     "execution_count": 155,
     "metadata": {},
     "output_type": "execute_result"
    }
   ],
   "source": [
    "var_bin_sh1"
   ]
  },
  {
   "cell_type": "markdown",
   "metadata": {},
   "source": [
    "## score2"
   ]
  },
  {
   "cell_type": "code",
   "execution_count": 148,
   "metadata": {
    "collapsed": false,
    "scrolled": true
   },
   "outputs": [
    {
     "name": "stderr",
     "output_type": "stream",
     "text": [
      "C:\\Users\\xiongjun\\AppData\\Local\\Continuum\\Anaconda3\\lib\\site-packages\\pandas\\core\\generic.py:3295: SettingWithCopyWarning: \n",
      "A value is trying to be set on a copy of a slice from a DataFrame\n",
      "\n",
      "See the caveats in the documentation: http://pandas.pydata.org/pandas-docs/stable/indexing.html#indexing-view-versus-copy\n",
      "  self._update_inplace(new_data)\n",
      "C:\\Users\\xiongjun\\sc_func.py:124: SettingWithCopyWarning: \n",
      "A value is trying to be set on a copy of a slice from a DataFrame.\n",
      "Try using .loc[row_indexer,col_indexer] = value instead\n",
      "\n",
      "See the caveats in the documentation: http://pandas.pydata.org/pandas-docs/stable/indexing.html#indexing-view-versus-copy\n",
      "  df['qt_binning'] = var_bins_series(df[var], bins, side = side)\n"
     ]
    }
   ],
   "source": [
    "#bins_sh =[530,540,550,560,600]\n",
    "bins_sh =[500,530,540,550,560,580,600]\n",
    "var_sh2='score2'\n",
    "var_bin_sh2 = variable_binning(data_sh, target, var_sh2, bins_sh, 'bins')"
   ]
  },
  {
   "cell_type": "code",
   "execution_count": 149,
   "metadata": {
    "collapsed": false,
    "scrolled": true
   },
   "outputs": [
    {
     "data": {
      "image/png": "[encoded data removed]",
      "text/plain": [
       "<matplotlib.figure.Figure at 0xf4a0eb8>"
      ]
     },
     "metadata": {},
     "output_type": "display_data"
    }
   ],
   "source": [
    "binning_plot(var_bin_sh2)"
   ]
  },
  {
   "cell_type": "code",
   "execution_count": 151,
   "metadata": {
    "collapsed": false
   },
   "outputs": [
    {
     "data": {
      "text/html": [
       "<div>\n",
       "<table border=\"1\" class=\"dataframe\">\n",
       "  <thead>\n",
       "    <tr style=\"text-align: right;\">\n",
       "      <th></th>\n",
       "      <th>Lbound</th>\n",
       "      <th>Ubound</th>\n",
       "      <th>Totalcnt</th>\n",
       "      <th>PctTotal</th>\n",
       "      <th>Y_count</th>\n",
       "      <th>n_Y_count</th>\n",
       "      <th>Y_pct</th>\n",
       "      <th>n_Y_pct</th>\n",
       "      <th>Y_rate</th>\n",
       "      <th>WOE</th>\n",
       "      <th>IV</th>\n",
       "    </tr>\n",
       "    <tr>\n",
       "      <th>qt_binning</th>\n",
       "      <th></th>\n",
       "      <th></th>\n",
       "      <th></th>\n",
       "      <th></th>\n",
       "      <th></th>\n",
       "      <th></th>\n",
       "      <th></th>\n",
       "      <th></th>\n",
       "      <th></th>\n",
       "      <th></th>\n",
       "      <th></th>\n",
       "    </tr>\n",
       "  </thead>\n",
       "  <tbody>\n",
       "    <tr>\n",
       "      <th>(-inf, 500]</th>\n",
       "      <td>500</td>\n",
       "      <td>500</td>\n",
       "      <td>18</td>\n",
       "      <td>0.004331</td>\n",
       "      <td>4</td>\n",
       "      <td>14</td>\n",
       "      <td>0.005540</td>\n",
       "      <td>0.004077</td>\n",
       "      <td>0.222222</td>\n",
       "      <td>0.306693</td>\n",
       "      <td>0.000449</td>\n",
       "    </tr>\n",
       "    <tr>\n",
       "      <th>(500, 530]</th>\n",
       "      <td>504</td>\n",
       "      <td>530</td>\n",
       "      <td>518</td>\n",
       "      <td>0.124639</td>\n",
       "      <td>165</td>\n",
       "      <td>353</td>\n",
       "      <td>0.228532</td>\n",
       "      <td>0.102796</td>\n",
       "      <td>0.318533</td>\n",
       "      <td>0.798933</td>\n",
       "      <td>0.100455</td>\n",
       "    </tr>\n",
       "    <tr>\n",
       "      <th>(530, 540]</th>\n",
       "      <td>531</td>\n",
       "      <td>540</td>\n",
       "      <td>253</td>\n",
       "      <td>0.060876</td>\n",
       "      <td>74</td>\n",
       "      <td>179</td>\n",
       "      <td>0.102493</td>\n",
       "      <td>0.052126</td>\n",
       "      <td>0.292490</td>\n",
       "      <td>0.676135</td>\n",
       "      <td>0.034055</td>\n",
       "    </tr>\n",
       "    <tr>\n",
       "      <th>(540, 550]</th>\n",
       "      <td>541</td>\n",
       "      <td>550</td>\n",
       "      <td>150</td>\n",
       "      <td>0.036092</td>\n",
       "      <td>30</td>\n",
       "      <td>120</td>\n",
       "      <td>0.041551</td>\n",
       "      <td>0.034945</td>\n",
       "      <td>0.200000</td>\n",
       "      <td>0.173162</td>\n",
       "      <td>0.001144</td>\n",
       "    </tr>\n",
       "    <tr>\n",
       "      <th>(550, 560]</th>\n",
       "      <td>551</td>\n",
       "      <td>560</td>\n",
       "      <td>419</td>\n",
       "      <td>0.100818</td>\n",
       "      <td>63</td>\n",
       "      <td>356</td>\n",
       "      <td>0.087258</td>\n",
       "      <td>0.103669</td>\n",
       "      <td>0.150358</td>\n",
       "      <td>-0.172340</td>\n",
       "      <td>0.002828</td>\n",
       "    </tr>\n",
       "    <tr>\n",
       "      <th>(560, 580]</th>\n",
       "      <td>561</td>\n",
       "      <td>580</td>\n",
       "      <td>1515</td>\n",
       "      <td>0.364533</td>\n",
       "      <td>137</td>\n",
       "      <td>1378</td>\n",
       "      <td>0.189751</td>\n",
       "      <td>0.401281</td>\n",
       "      <td>0.090429</td>\n",
       "      <td>-0.748952</td>\n",
       "      <td>0.158426</td>\n",
       "    </tr>\n",
       "    <tr>\n",
       "      <th>(580, 600]</th>\n",
       "      <td>581</td>\n",
       "      <td>600</td>\n",
       "      <td>1283</td>\n",
       "      <td>0.308710</td>\n",
       "      <td>249</td>\n",
       "      <td>1034</td>\n",
       "      <td>0.344875</td>\n",
       "      <td>0.301107</td>\n",
       "      <td>0.194076</td>\n",
       "      <td>0.135719</td>\n",
       "      <td>0.005940</td>\n",
       "    </tr>\n",
       "  </tbody>\n",
       "</table>\n",
       "</div>"
      ],
      "text/plain": [
       "             Lbound  Ubound  Totalcnt  PctTotal  Y_count  n_Y_count     Y_pct  \\\n",
       "qt_binning                                                                      \n",
       "(-inf, 500]     500     500        18  0.004331        4         14  0.005540   \n",
       "(500, 530]      504     530       518  0.124639      165        353  0.228532   \n",
       "(530, 540]      531     540       253  0.060876       74        179  0.102493   \n",
       "(540, 550]      541     550       150  0.036092       30        120  0.041551   \n",
       "(550, 560]      551     560       419  0.100818       63        356  0.087258   \n",
       "(560, 580]      561     580      1515  0.364533      137       1378  0.189751   \n",
       "(580, 600]      581     600      1283  0.308710      249       1034  0.344875   \n",
       "\n",
       "              n_Y_pct    Y_rate       WOE        IV  \n",
       "qt_binning                                           \n",
       "(-inf, 500]  0.004077  0.222222  0.306693  0.000449  \n",
       "(500, 530]   0.102796  0.318533  0.798933  0.100455  \n",
       "(530, 540]   0.052126  0.292490  0.676135  0.034055  \n",
       "(540, 550]   0.034945  0.200000  0.173162  0.001144  \n",
       "(550, 560]   0.103669  0.150358 -0.172340  0.002828  \n",
       "(560, 580]   0.401281  0.090429 -0.748952  0.158426  \n",
       "(580, 600]   0.301107  0.194076  0.135719  0.005940  "
      ]
     },
     "execution_count": 151,
     "metadata": {},
     "output_type": "execute_result"
    }
   ],
   "source": [
    "var_bin_sh2"
   ]
  },
  {
   "cell_type": "code",
   "execution_count": 152,
   "metadata": {
    "collapsed": false
   },
   "outputs": [
    {
     "data": {
      "text/plain": [
       "4156"
      ]
     },
     "execution_count": 152,
     "metadata": {},
     "output_type": "execute_result"
    }
   ],
   "source": [
    "var_bin_sh2.Totalcnt.sum()"
   ]
  },
  {
   "cell_type": "code",
   "execution_count": null,
   "metadata": {
    "collapsed": true
   },
   "outputs": [],
   "source": []
  }
 ],
 "metadata": {
  "kernelspec": {
   "display_name": "Python 3",
   "language": "python",
   "name": "python3"
  },
  "language_info": {
   "codemirror_mode": {
    "name": "ipython",
    "version": 3
   },
   "file_extension": ".py",
   "mimetype": "text/x-python",
   "name": "python",
   "nbconvert_exporter": "python",
   "pygments_lexer": "ipython3",
   "version": "3.6.0"
  }
 },
 "nbformat": 4,
 "nbformat_minor": 2
}
